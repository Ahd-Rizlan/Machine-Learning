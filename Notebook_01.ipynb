{
  "nbformat": 4,
  "nbformat_minor": 0,
  "metadata": {
    "colab": {
      "provenance": [],
      "mount_file_id": "1TTk5w2U4SAQ01UYoRgCtNIxfd4imYRoE",
      "authorship_tag": "ABX9TyPfmJqGR31LsxKXbqagN48y",
      "include_colab_link": true
    },
    "kernelspec": {
      "name": "python3",
      "display_name": "Python 3"
    },
    "language_info": {
      "name": "python"
    }
  },
  "cells": [
    {
      "cell_type": "markdown",
      "metadata": {
        "id": "view-in-github",
        "colab_type": "text"
      },
      "source": [
        "<a href=\"https://colab.research.google.com/github/Ahd-Rizlan/Machine-Learning/blob/Notebook-01/Notebook_01.ipynb\" target=\"_parent\"><img src=\"https://colab.research.google.com/assets/colab-badge.svg\" alt=\"Open In Colab\"/></a>"
      ]
    },
    {
      "cell_type": "markdown",
      "source": [
        "Installing Pandas on Notebook-01"
      ],
      "metadata": {
        "id": "YSxU8qmybvnF"
      }
    },
    {
      "cell_type": "code",
      "execution_count": null,
      "metadata": {
        "id": "mhCvkYgdbM0Y",
        "colab": {
          "base_uri": "https://localhost:8080/"
        },
        "outputId": "9fe8db5a-c6b2-4c81-c259-5bae415bc106"
      },
      "outputs": [
        {
          "output_type": "stream",
          "name": "stdout",
          "text": [
            "Requirement already satisfied: pandas in /usr/local/lib/python3.11/dist-packages (2.2.2)\n",
            "Requirement already satisfied: numpy>=1.23.2 in /usr/local/lib/python3.11/dist-packages (from pandas) (1.26.4)\n",
            "Requirement already satisfied: python-dateutil>=2.8.2 in /usr/local/lib/python3.11/dist-packages (from pandas) (2.8.2)\n",
            "Requirement already satisfied: pytz>=2020.1 in /usr/local/lib/python3.11/dist-packages (from pandas) (2025.1)\n",
            "Requirement already satisfied: tzdata>=2022.7 in /usr/local/lib/python3.11/dist-packages (from pandas) (2025.1)\n",
            "Requirement already satisfied: six>=1.5 in /usr/local/lib/python3.11/dist-packages (from python-dateutil>=2.8.2->pandas) (1.17.0)\n"
          ]
        }
      ],
      "source": [
        "!pip install pandas"
      ]
    },
    {
      "cell_type": "markdown",
      "source": [
        "Import Required Libraries"
      ],
      "metadata": {
        "id": "9EUp-qKbc08w"
      }
    },
    {
      "cell_type": "code",
      "source": [
        "import pandas as pd\n",
        "#Importing Ploty to plot Diagrams\n",
        "import plotly.express as px"
      ],
      "metadata": {
        "id": "HPtsFCgDc6Q8"
      },
      "execution_count": null,
      "outputs": []
    },
    {
      "cell_type": "markdown",
      "source": [
        "Loading CSV to DataFrame"
      ],
      "metadata": {
        "id": "L1SsyPCDdNGp"
      }
    },
    {
      "cell_type": "code",
      "source": [
        "df = pd.read_csv('/content/drive/MyDrive/ML-CW/CourseworkDataset.csv')"
      ],
      "metadata": {
        "id": "1iw4BTm7dVeb"
      },
      "execution_count": null,
      "outputs": []
    },
    {
      "cell_type": "markdown",
      "source": [
        "Checking the shape - [colums and Rows] of the dataset"
      ],
      "metadata": {
        "id": "Kq53Z-xriR2a"
      }
    },
    {
      "cell_type": "code",
      "source": [
        "df.shape"
      ],
      "metadata": {
        "colab": {
          "base_uri": "https://localhost:8080/"
        },
        "id": "yux5cwKeiRh4",
        "outputId": "86852202-c43c-432a-eda2-1814e35a30ea"
      },
      "execution_count": null,
      "outputs": [
        {
          "output_type": "execute_result",
          "data": {
            "text/plain": [
              "(4024, 18)"
            ]
          },
          "metadata": {},
          "execution_count": 492
        }
      ]
    },
    {
      "cell_type": "markdown",
      "source": [
        "Checking the Data contents"
      ],
      "metadata": {
        "id": "4V3snVSqeQiQ"
      }
    },
    {
      "cell_type": "code",
      "source": [
        "#displaying first five rows\n",
        "df.head()"
      ],
      "metadata": {
        "colab": {
          "base_uri": "https://localhost:8080/",
          "height": 313
        },
        "id": "tbe9YGfWeZYd",
        "outputId": "4f02f0fc-358d-4e9a-ff77-cbffeaa6a326"
      },
      "execution_count": null,
      "outputs": [
        {
          "output_type": "execute_result",
          "data": {
            "text/plain": [
              "  Patient_ID  Month_of_Birth   Age     Sex   Occupation T_Stage N_Stage  \\\n",
              "0      A0012              12  68.0  Female     Teaching      T1      N1   \n",
              "1      A0013              12  50.0  Female      Medical      T2      N2   \n",
              "2      A0014              11  58.0  Female  Engineering      T3      N3   \n",
              "3      A0015               3  58.0  Female   Technology      T1      N1   \n",
              "4      A0016               1  47.0  Female   Multimedia      T2      N1   \n",
              "\n",
              "  6th_Stage             Differentiated  Grade   A_Stage  Tumor_Size  \\\n",
              "0       IIA      Poorly differentiated      3  Regional         4.0   \n",
              "1      IIIA  Moderately differentiated      2  Regional        35.0   \n",
              "2      IIIC  Moderately differentiated      2  Regional        63.0   \n",
              "3       IIA      Poorly differentiated      3  Regional        18.0   \n",
              "4       IIB      Poorly differentiated      3  Regional        41.0   \n",
              "\n",
              "  Estrogen_Status Progesterone_Status  Regional_Node_Examined  \\\n",
              "0        Positive            Positive                    24.0   \n",
              "1        Positive            Positive                    14.0   \n",
              "2        Positive            Positive                    14.0   \n",
              "3        Positive            Positive                     2.0   \n",
              "4        Positive            Positive                     3.0   \n",
              "\n",
              "   Reginol_Node_Positive  Survival_Months Mortality_Status  \n",
              "0                      1               60            Alive  \n",
              "1                      5               62            Alive  \n",
              "2                      7               75            Alive  \n",
              "3                      1               84            Alive  \n",
              "4                      1               50            Alive  "
            ],
            "text/html": [
              "\n",
              "  <div id=\"df-b84d04ab-b266-4578-a42e-41fbef3f1e15\" class=\"colab-df-container\">\n",
              "    <div>\n",
              "<style scoped>\n",
              "    .dataframe tbody tr th:only-of-type {\n",
              "        vertical-align: middle;\n",
              "    }\n",
              "\n",
              "    .dataframe tbody tr th {\n",
              "        vertical-align: top;\n",
              "    }\n",
              "\n",
              "    .dataframe thead th {\n",
              "        text-align: right;\n",
              "    }\n",
              "</style>\n",
              "<table border=\"1\" class=\"dataframe\">\n",
              "  <thead>\n",
              "    <tr style=\"text-align: right;\">\n",
              "      <th></th>\n",
              "      <th>Patient_ID</th>\n",
              "      <th>Month_of_Birth</th>\n",
              "      <th>Age</th>\n",
              "      <th>Sex</th>\n",
              "      <th>Occupation</th>\n",
              "      <th>T_Stage</th>\n",
              "      <th>N_Stage</th>\n",
              "      <th>6th_Stage</th>\n",
              "      <th>Differentiated</th>\n",
              "      <th>Grade</th>\n",
              "      <th>A_Stage</th>\n",
              "      <th>Tumor_Size</th>\n",
              "      <th>Estrogen_Status</th>\n",
              "      <th>Progesterone_Status</th>\n",
              "      <th>Regional_Node_Examined</th>\n",
              "      <th>Reginol_Node_Positive</th>\n",
              "      <th>Survival_Months</th>\n",
              "      <th>Mortality_Status</th>\n",
              "    </tr>\n",
              "  </thead>\n",
              "  <tbody>\n",
              "    <tr>\n",
              "      <th>0</th>\n",
              "      <td>A0012</td>\n",
              "      <td>12</td>\n",
              "      <td>68.0</td>\n",
              "      <td>Female</td>\n",
              "      <td>Teaching</td>\n",
              "      <td>T1</td>\n",
              "      <td>N1</td>\n",
              "      <td>IIA</td>\n",
              "      <td>Poorly differentiated</td>\n",
              "      <td>3</td>\n",
              "      <td>Regional</td>\n",
              "      <td>4.0</td>\n",
              "      <td>Positive</td>\n",
              "      <td>Positive</td>\n",
              "      <td>24.0</td>\n",
              "      <td>1</td>\n",
              "      <td>60</td>\n",
              "      <td>Alive</td>\n",
              "    </tr>\n",
              "    <tr>\n",
              "      <th>1</th>\n",
              "      <td>A0013</td>\n",
              "      <td>12</td>\n",
              "      <td>50.0</td>\n",
              "      <td>Female</td>\n",
              "      <td>Medical</td>\n",
              "      <td>T2</td>\n",
              "      <td>N2</td>\n",
              "      <td>IIIA</td>\n",
              "      <td>Moderately differentiated</td>\n",
              "      <td>2</td>\n",
              "      <td>Regional</td>\n",
              "      <td>35.0</td>\n",
              "      <td>Positive</td>\n",
              "      <td>Positive</td>\n",
              "      <td>14.0</td>\n",
              "      <td>5</td>\n",
              "      <td>62</td>\n",
              "      <td>Alive</td>\n",
              "    </tr>\n",
              "    <tr>\n",
              "      <th>2</th>\n",
              "      <td>A0014</td>\n",
              "      <td>11</td>\n",
              "      <td>58.0</td>\n",
              "      <td>Female</td>\n",
              "      <td>Engineering</td>\n",
              "      <td>T3</td>\n",
              "      <td>N3</td>\n",
              "      <td>IIIC</td>\n",
              "      <td>Moderately differentiated</td>\n",
              "      <td>2</td>\n",
              "      <td>Regional</td>\n",
              "      <td>63.0</td>\n",
              "      <td>Positive</td>\n",
              "      <td>Positive</td>\n",
              "      <td>14.0</td>\n",
              "      <td>7</td>\n",
              "      <td>75</td>\n",
              "      <td>Alive</td>\n",
              "    </tr>\n",
              "    <tr>\n",
              "      <th>3</th>\n",
              "      <td>A0015</td>\n",
              "      <td>3</td>\n",
              "      <td>58.0</td>\n",
              "      <td>Female</td>\n",
              "      <td>Technology</td>\n",
              "      <td>T1</td>\n",
              "      <td>N1</td>\n",
              "      <td>IIA</td>\n",
              "      <td>Poorly differentiated</td>\n",
              "      <td>3</td>\n",
              "      <td>Regional</td>\n",
              "      <td>18.0</td>\n",
              "      <td>Positive</td>\n",
              "      <td>Positive</td>\n",
              "      <td>2.0</td>\n",
              "      <td>1</td>\n",
              "      <td>84</td>\n",
              "      <td>Alive</td>\n",
              "    </tr>\n",
              "    <tr>\n",
              "      <th>4</th>\n",
              "      <td>A0016</td>\n",
              "      <td>1</td>\n",
              "      <td>47.0</td>\n",
              "      <td>Female</td>\n",
              "      <td>Multimedia</td>\n",
              "      <td>T2</td>\n",
              "      <td>N1</td>\n",
              "      <td>IIB</td>\n",
              "      <td>Poorly differentiated</td>\n",
              "      <td>3</td>\n",
              "      <td>Regional</td>\n",
              "      <td>41.0</td>\n",
              "      <td>Positive</td>\n",
              "      <td>Positive</td>\n",
              "      <td>3.0</td>\n",
              "      <td>1</td>\n",
              "      <td>50</td>\n",
              "      <td>Alive</td>\n",
              "    </tr>\n",
              "  </tbody>\n",
              "</table>\n",
              "</div>\n",
              "    <div class=\"colab-df-buttons\">\n",
              "\n",
              "  <div class=\"colab-df-container\">\n",
              "    <button class=\"colab-df-convert\" onclick=\"convertToInteractive('df-b84d04ab-b266-4578-a42e-41fbef3f1e15')\"\n",
              "            title=\"Convert this dataframe to an interactive table.\"\n",
              "            style=\"display:none;\">\n",
              "\n",
              "  <svg xmlns=\"http://www.w3.org/2000/svg\" height=\"24px\" viewBox=\"0 -960 960 960\">\n",
              "    <path d=\"M120-120v-720h720v720H120Zm60-500h600v-160H180v160Zm220 220h160v-160H400v160Zm0 220h160v-160H400v160ZM180-400h160v-160H180v160Zm440 0h160v-160H620v160ZM180-180h160v-160H180v160Zm440 0h160v-160H620v160Z\"/>\n",
              "  </svg>\n",
              "    </button>\n",
              "\n",
              "  <style>\n",
              "    .colab-df-container {\n",
              "      display:flex;\n",
              "      gap: 12px;\n",
              "    }\n",
              "\n",
              "    .colab-df-convert {\n",
              "      background-color: #E8F0FE;\n",
              "      border: none;\n",
              "      border-radius: 50%;\n",
              "      cursor: pointer;\n",
              "      display: none;\n",
              "      fill: #1967D2;\n",
              "      height: 32px;\n",
              "      padding: 0 0 0 0;\n",
              "      width: 32px;\n",
              "    }\n",
              "\n",
              "    .colab-df-convert:hover {\n",
              "      background-color: #E2EBFA;\n",
              "      box-shadow: 0px 1px 2px rgba(60, 64, 67, 0.3), 0px 1px 3px 1px rgba(60, 64, 67, 0.15);\n",
              "      fill: #174EA6;\n",
              "    }\n",
              "\n",
              "    .colab-df-buttons div {\n",
              "      margin-bottom: 4px;\n",
              "    }\n",
              "\n",
              "    [theme=dark] .colab-df-convert {\n",
              "      background-color: #3B4455;\n",
              "      fill: #D2E3FC;\n",
              "    }\n",
              "\n",
              "    [theme=dark] .colab-df-convert:hover {\n",
              "      background-color: #434B5C;\n",
              "      box-shadow: 0px 1px 3px 1px rgba(0, 0, 0, 0.15);\n",
              "      filter: drop-shadow(0px 1px 2px rgba(0, 0, 0, 0.3));\n",
              "      fill: #FFFFFF;\n",
              "    }\n",
              "  </style>\n",
              "\n",
              "    <script>\n",
              "      const buttonEl =\n",
              "        document.querySelector('#df-b84d04ab-b266-4578-a42e-41fbef3f1e15 button.colab-df-convert');\n",
              "      buttonEl.style.display =\n",
              "        google.colab.kernel.accessAllowed ? 'block' : 'none';\n",
              "\n",
              "      async function convertToInteractive(key) {\n",
              "        const element = document.querySelector('#df-b84d04ab-b266-4578-a42e-41fbef3f1e15');\n",
              "        const dataTable =\n",
              "          await google.colab.kernel.invokeFunction('convertToInteractive',\n",
              "                                                    [key], {});\n",
              "        if (!dataTable) return;\n",
              "\n",
              "        const docLinkHtml = 'Like what you see? Visit the ' +\n",
              "          '<a target=\"_blank\" href=https://colab.research.google.com/notebooks/data_table.ipynb>data table notebook</a>'\n",
              "          + ' to learn more about interactive tables.';\n",
              "        element.innerHTML = '';\n",
              "        dataTable['output_type'] = 'display_data';\n",
              "        await google.colab.output.renderOutput(dataTable, element);\n",
              "        const docLink = document.createElement('div');\n",
              "        docLink.innerHTML = docLinkHtml;\n",
              "        element.appendChild(docLink);\n",
              "      }\n",
              "    </script>\n",
              "  </div>\n",
              "\n",
              "\n",
              "<div id=\"df-10619015-1a5d-4d9e-81cb-61a0a20994a6\">\n",
              "  <button class=\"colab-df-quickchart\" onclick=\"quickchart('df-10619015-1a5d-4d9e-81cb-61a0a20994a6')\"\n",
              "            title=\"Suggest charts\"\n",
              "            style=\"display:none;\">\n",
              "\n",
              "<svg xmlns=\"http://www.w3.org/2000/svg\" height=\"24px\"viewBox=\"0 0 24 24\"\n",
              "     width=\"24px\">\n",
              "    <g>\n",
              "        <path d=\"M19 3H5c-1.1 0-2 .9-2 2v14c0 1.1.9 2 2 2h14c1.1 0 2-.9 2-2V5c0-1.1-.9-2-2-2zM9 17H7v-7h2v7zm4 0h-2V7h2v10zm4 0h-2v-4h2v4z\"/>\n",
              "    </g>\n",
              "</svg>\n",
              "  </button>\n",
              "\n",
              "<style>\n",
              "  .colab-df-quickchart {\n",
              "      --bg-color: #E8F0FE;\n",
              "      --fill-color: #1967D2;\n",
              "      --hover-bg-color: #E2EBFA;\n",
              "      --hover-fill-color: #174EA6;\n",
              "      --disabled-fill-color: #AAA;\n",
              "      --disabled-bg-color: #DDD;\n",
              "  }\n",
              "\n",
              "  [theme=dark] .colab-df-quickchart {\n",
              "      --bg-color: #3B4455;\n",
              "      --fill-color: #D2E3FC;\n",
              "      --hover-bg-color: #434B5C;\n",
              "      --hover-fill-color: #FFFFFF;\n",
              "      --disabled-bg-color: #3B4455;\n",
              "      --disabled-fill-color: #666;\n",
              "  }\n",
              "\n",
              "  .colab-df-quickchart {\n",
              "    background-color: var(--bg-color);\n",
              "    border: none;\n",
              "    border-radius: 50%;\n",
              "    cursor: pointer;\n",
              "    display: none;\n",
              "    fill: var(--fill-color);\n",
              "    height: 32px;\n",
              "    padding: 0;\n",
              "    width: 32px;\n",
              "  }\n",
              "\n",
              "  .colab-df-quickchart:hover {\n",
              "    background-color: var(--hover-bg-color);\n",
              "    box-shadow: 0 1px 2px rgba(60, 64, 67, 0.3), 0 1px 3px 1px rgba(60, 64, 67, 0.15);\n",
              "    fill: var(--button-hover-fill-color);\n",
              "  }\n",
              "\n",
              "  .colab-df-quickchart-complete:disabled,\n",
              "  .colab-df-quickchart-complete:disabled:hover {\n",
              "    background-color: var(--disabled-bg-color);\n",
              "    fill: var(--disabled-fill-color);\n",
              "    box-shadow: none;\n",
              "  }\n",
              "\n",
              "  .colab-df-spinner {\n",
              "    border: 2px solid var(--fill-color);\n",
              "    border-color: transparent;\n",
              "    border-bottom-color: var(--fill-color);\n",
              "    animation:\n",
              "      spin 1s steps(1) infinite;\n",
              "  }\n",
              "\n",
              "  @keyframes spin {\n",
              "    0% {\n",
              "      border-color: transparent;\n",
              "      border-bottom-color: var(--fill-color);\n",
              "      border-left-color: var(--fill-color);\n",
              "    }\n",
              "    20% {\n",
              "      border-color: transparent;\n",
              "      border-left-color: var(--fill-color);\n",
              "      border-top-color: var(--fill-color);\n",
              "    }\n",
              "    30% {\n",
              "      border-color: transparent;\n",
              "      border-left-color: var(--fill-color);\n",
              "      border-top-color: var(--fill-color);\n",
              "      border-right-color: var(--fill-color);\n",
              "    }\n",
              "    40% {\n",
              "      border-color: transparent;\n",
              "      border-right-color: var(--fill-color);\n",
              "      border-top-color: var(--fill-color);\n",
              "    }\n",
              "    60% {\n",
              "      border-color: transparent;\n",
              "      border-right-color: var(--fill-color);\n",
              "    }\n",
              "    80% {\n",
              "      border-color: transparent;\n",
              "      border-right-color: var(--fill-color);\n",
              "      border-bottom-color: var(--fill-color);\n",
              "    }\n",
              "    90% {\n",
              "      border-color: transparent;\n",
              "      border-bottom-color: var(--fill-color);\n",
              "    }\n",
              "  }\n",
              "</style>\n",
              "\n",
              "  <script>\n",
              "    async function quickchart(key) {\n",
              "      const quickchartButtonEl =\n",
              "        document.querySelector('#' + key + ' button');\n",
              "      quickchartButtonEl.disabled = true;  // To prevent multiple clicks.\n",
              "      quickchartButtonEl.classList.add('colab-df-spinner');\n",
              "      try {\n",
              "        const charts = await google.colab.kernel.invokeFunction(\n",
              "            'suggestCharts', [key], {});\n",
              "      } catch (error) {\n",
              "        console.error('Error during call to suggestCharts:', error);\n",
              "      }\n",
              "      quickchartButtonEl.classList.remove('colab-df-spinner');\n",
              "      quickchartButtonEl.classList.add('colab-df-quickchart-complete');\n",
              "    }\n",
              "    (() => {\n",
              "      let quickchartButtonEl =\n",
              "        document.querySelector('#df-10619015-1a5d-4d9e-81cb-61a0a20994a6 button');\n",
              "      quickchartButtonEl.style.display =\n",
              "        google.colab.kernel.accessAllowed ? 'block' : 'none';\n",
              "    })();\n",
              "  </script>\n",
              "</div>\n",
              "\n",
              "    </div>\n",
              "  </div>\n"
            ],
            "application/vnd.google.colaboratory.intrinsic+json": {
              "type": "dataframe",
              "variable_name": "df",
              "summary": "{\n  \"name\": \"df\",\n  \"rows\": 4024,\n  \"fields\": [\n    {\n      \"column\": \"Patient_ID\",\n      \"properties\": {\n        \"dtype\": \"string\",\n        \"num_unique_values\": 4024,\n        \"samples\": [\n          \"A1730\",\n          \"A1216\",\n          \"A2734\"\n        ],\n        \"semantic_type\": \"\",\n        \"description\": \"\"\n      }\n    },\n    {\n      \"column\": \"Month_of_Birth\",\n      \"properties\": {\n        \"dtype\": \"number\",\n        \"std\": 3,\n        \"min\": 1,\n        \"max\": 12,\n        \"num_unique_values\": 12,\n        \"samples\": [\n          7,\n          9,\n          12\n        ],\n        \"semantic_type\": \"\",\n        \"description\": \"\"\n      }\n    },\n    {\n      \"column\": \"Age\",\n      \"properties\": {\n        \"dtype\": \"number\",\n        \"std\": 11.715528128359864,\n        \"min\": -50.0,\n        \"max\": 502.0,\n        \"num_unique_values\": 44,\n        \"samples\": [\n          -50.0,\n          42.0,\n          37.0\n        ],\n        \"semantic_type\": \"\",\n        \"description\": \"\"\n      }\n    },\n    {\n      \"column\": \"Sex\",\n      \"properties\": {\n        \"dtype\": \"category\",\n        \"num_unique_values\": 2,\n        \"samples\": [\n          \"1\",\n          \"Female\"\n        ],\n        \"semantic_type\": \"\",\n        \"description\": \"\"\n      }\n    },\n    {\n      \"column\": \"Occupation\",\n      \"properties\": {\n        \"dtype\": \"category\",\n        \"num_unique_values\": 40,\n        \"samples\": [\n          \"Manufacturing\",\n          \"Hospitality\"\n        ],\n        \"semantic_type\": \"\",\n        \"description\": \"\"\n      }\n    },\n    {\n      \"column\": \"T_Stage\",\n      \"properties\": {\n        \"dtype\": \"category\",\n        \"num_unique_values\": 4,\n        \"samples\": [\n          \"T2\",\n          \"T4\"\n        ],\n        \"semantic_type\": \"\",\n        \"description\": \"\"\n      }\n    },\n    {\n      \"column\": \"N_Stage\",\n      \"properties\": {\n        \"dtype\": \"category\",\n        \"num_unique_values\": 3,\n        \"samples\": [\n          \"N1\",\n          \"N2\"\n        ],\n        \"semantic_type\": \"\",\n        \"description\": \"\"\n      }\n    },\n    {\n      \"column\": \"6th_Stage\",\n      \"properties\": {\n        \"dtype\": \"category\",\n        \"num_unique_values\": 5,\n        \"samples\": [\n          \"IIIA\",\n          \"IIIB\"\n        ],\n        \"semantic_type\": \"\",\n        \"description\": \"\"\n      }\n    },\n    {\n      \"column\": \"Differentiated\",\n      \"properties\": {\n        \"dtype\": \"category\",\n        \"num_unique_values\": 4,\n        \"samples\": [\n          \"Moderately differentiated\",\n          \"Undifferentiated\"\n        ],\n        \"semantic_type\": \"\",\n        \"description\": \"\"\n      }\n    },\n    {\n      \"column\": \"Grade\",\n      \"properties\": {\n        \"dtype\": \"number\",\n        \"std\": 0,\n        \"min\": 1,\n        \"max\": 4,\n        \"num_unique_values\": 4,\n        \"samples\": [\n          2,\n          4\n        ],\n        \"semantic_type\": \"\",\n        \"description\": \"\"\n      }\n    },\n    {\n      \"column\": \"A_Stage\",\n      \"properties\": {\n        \"dtype\": \"category\",\n        \"num_unique_values\": 2,\n        \"samples\": [\n          \"Distant\",\n          \"Regional\"\n        ],\n        \"semantic_type\": \"\",\n        \"description\": \"\"\n      }\n    },\n    {\n      \"column\": \"Tumor_Size\",\n      \"properties\": {\n        \"dtype\": \"number\",\n        \"std\": 21.161080054199935,\n        \"min\": -75.0,\n        \"max\": 140.0,\n        \"num_unique_values\": 111,\n        \"samples\": [\n          33.0,\n          13.0\n        ],\n        \"semantic_type\": \"\",\n        \"description\": \"\"\n      }\n    },\n    {\n      \"column\": \"Estrogen_Status\",\n      \"properties\": {\n        \"dtype\": \"category\",\n        \"num_unique_values\": 2,\n        \"samples\": [\n          \"Negative\",\n          \"Positive\"\n        ],\n        \"semantic_type\": \"\",\n        \"description\": \"\"\n      }\n    },\n    {\n      \"column\": \"Progesterone_Status\",\n      \"properties\": {\n        \"dtype\": \"category\",\n        \"num_unique_values\": 2,\n        \"samples\": [\n          \"Negative\",\n          \"Positive\"\n        ],\n        \"semantic_type\": \"\",\n        \"description\": \"\"\n      }\n    },\n    {\n      \"column\": \"Regional_Node_Examined\",\n      \"properties\": {\n        \"dtype\": \"number\",\n        \"std\": 8.129292677142855,\n        \"min\": 1.0,\n        \"max\": 61.0,\n        \"num_unique_values\": 54,\n        \"samples\": [\n          10.0,\n          35.0\n        ],\n        \"semantic_type\": \"\",\n        \"description\": \"\"\n      }\n    },\n    {\n      \"column\": \"Reginol_Node_Positive\",\n      \"properties\": {\n        \"dtype\": \"number\",\n        \"std\": 5,\n        \"min\": 1,\n        \"max\": 46,\n        \"num_unique_values\": 38,\n        \"samples\": [\n          35,\n          41\n        ],\n        \"semantic_type\": \"\",\n        \"description\": \"\"\n      }\n    },\n    {\n      \"column\": \"Survival_Months\",\n      \"properties\": {\n        \"dtype\": \"number\",\n        \"std\": 25,\n        \"min\": 1,\n        \"max\": 760,\n        \"num_unique_values\": 108,\n        \"samples\": [\n          48,\n          64\n        ],\n        \"semantic_type\": \"\",\n        \"description\": \"\"\n      }\n    },\n    {\n      \"column\": \"Mortality_Status\",\n      \"properties\": {\n        \"dtype\": \"category\",\n        \"num_unique_values\": 7,\n        \"samples\": [\n          \"Alive\",\n          \"Dead\"\n        ],\n        \"semantic_type\": \"\",\n        \"description\": \"\"\n      }\n    }\n  ]\n}"
            }
          },
          "metadata": {},
          "execution_count": 493
        }
      ]
    },
    {
      "cell_type": "markdown",
      "source": [
        "List Of Columns in CW dataset"
      ],
      "metadata": {
        "id": "0pVmGIkQeyWI"
      }
    },
    {
      "cell_type": "code",
      "source": [
        "# Program to print all the column names of the data_frame\n",
        "list(df.columns)"
      ],
      "metadata": {
        "colab": {
          "base_uri": "https://localhost:8080/"
        },
        "id": "bUUI1p3derJd",
        "outputId": "949dba56-e932-4d1e-8ee0-8127b3005729"
      },
      "execution_count": null,
      "outputs": [
        {
          "output_type": "execute_result",
          "data": {
            "text/plain": [
              "['Patient_ID',\n",
              " 'Month_of_Birth',\n",
              " 'Age',\n",
              " 'Sex',\n",
              " 'Occupation',\n",
              " 'T_Stage',\n",
              " 'N_Stage',\n",
              " '6th_Stage',\n",
              " 'Differentiated',\n",
              " 'Grade',\n",
              " 'A_Stage',\n",
              " 'Tumor_Size',\n",
              " 'Estrogen_Status',\n",
              " 'Progesterone_Status',\n",
              " 'Regional_Node_Examined',\n",
              " 'Reginol_Node_Positive',\n",
              " 'Survival_Months',\n",
              " 'Mortality_Status']"
            ]
          },
          "metadata": {},
          "execution_count": 494
        }
      ]
    },
    {
      "cell_type": "markdown",
      "source": [
        "Taking Summary of cw dataset"
      ],
      "metadata": {
        "id": "cC1xoidafRG_"
      }
    },
    {
      "cell_type": "code",
      "source": [
        "df.info()"
      ],
      "metadata": {
        "colab": {
          "base_uri": "https://localhost:8080/"
        },
        "id": "KYOhPVSce4tW",
        "outputId": "c5c84e8c-e102-46e3-aa8b-3bc376c1bd2b"
      },
      "execution_count": null,
      "outputs": [
        {
          "output_type": "stream",
          "name": "stdout",
          "text": [
            "<class 'pandas.core.frame.DataFrame'>\n",
            "RangeIndex: 4024 entries, 0 to 4023\n",
            "Data columns (total 18 columns):\n",
            " #   Column                  Non-Null Count  Dtype  \n",
            "---  ------                  --------------  -----  \n",
            " 0   Patient_ID              4024 non-null   object \n",
            " 1   Month_of_Birth          4024 non-null   int64  \n",
            " 2   Age                     4015 non-null   float64\n",
            " 3   Sex                     4020 non-null   object \n",
            " 4   Occupation              43 non-null     object \n",
            " 5   T_Stage                 4024 non-null   object \n",
            " 6   N_Stage                 4024 non-null   object \n",
            " 7   6th_Stage               4024 non-null   object \n",
            " 8   Differentiated          4024 non-null   object \n",
            " 9   Grade                   4024 non-null   int64  \n",
            " 10  A_Stage                 4024 non-null   object \n",
            " 11  Tumor_Size              4021 non-null   float64\n",
            " 12  Estrogen_Status         4024 non-null   object \n",
            " 13  Progesterone_Status     4024 non-null   object \n",
            " 14  Regional_Node_Examined  4023 non-null   float64\n",
            " 15  Reginol_Node_Positive   4024 non-null   int64  \n",
            " 16  Survival_Months         4024 non-null   int64  \n",
            " 17  Mortality_Status        4024 non-null   object \n",
            "dtypes: float64(3), int64(4), object(11)\n",
            "memory usage: 566.0+ KB\n"
          ]
        }
      ]
    },
    {
      "cell_type": "markdown",
      "source": [
        "By the summry we have an idea that there are following dataTypes\n",
        "\n",
        "1.   3 Float\n",
        "2.   4 Integer\n",
        "3.  11 Objects\n",
        "\n"
      ],
      "metadata": {
        "id": "ce8MjmfjfpZp"
      }
    },
    {
      "cell_type": "markdown",
      "source": [
        "Descriptive statistics of the dataset\n",
        "like\n",
        "***For Numeric Data***\n",
        "1.   count\n",
        "2.   mean\n",
        "3.   std\n",
        "4.   min\n",
        "5.   max\n",
        "6.   50\n",
        "7.   upper percnetiles and etc\n",
        "\n",
        "For Object Data\n",
        "1. Count\n",
        "2. unique\n",
        "3. top\n",
        "4. freq"
      ],
      "metadata": {
        "id": "1kixNQTAgBFG"
      }
    },
    {
      "cell_type": "code",
      "source": [
        "df.describe()"
      ],
      "metadata": {
        "colab": {
          "base_uri": "https://localhost:8080/",
          "height": 320
        },
        "id": "q98RQcySgiRL",
        "outputId": "d198dc36-2ac7-4445-c292-9faa6880e7fe"
      },
      "execution_count": null,
      "outputs": [
        {
          "output_type": "execute_result",
          "data": {
            "text/plain": [
              "       Month_of_Birth          Age        Grade   Tumor_Size  \\\n",
              "count     4024.000000  4015.000000  4024.000000  4021.000000   \n",
              "mean         6.481362    54.107098     2.150596    30.419299   \n",
              "std          3.475442    11.715528     0.638234    21.161080   \n",
              "min          1.000000   -50.000000     1.000000   -75.000000   \n",
              "25%          3.000000    47.000000     2.000000    16.000000   \n",
              "50%          6.000000    54.000000     2.000000    25.000000   \n",
              "75%         10.000000    61.000000     3.000000    38.000000   \n",
              "max         12.000000   502.000000     4.000000   140.000000   \n",
              "\n",
              "       Regional_Node_Examined  Reginol_Node_Positive  Survival_Months  \n",
              "count             4023.000000            4024.000000      4024.000000  \n",
              "mean                14.373602               4.158052        71.472167  \n",
              "std                  8.129293               5.109331        25.361855  \n",
              "min                  1.000000               1.000000         1.000000  \n",
              "25%                  9.000000               1.000000        56.000000  \n",
              "50%                 14.000000               2.000000        73.000000  \n",
              "75%                 19.000000               5.000000        90.000000  \n",
              "max                 61.000000              46.000000       760.000000  "
            ],
            "text/html": [
              "\n",
              "  <div id=\"df-67dc4b08-9f6e-4482-981d-a0d4a942d83f\" class=\"colab-df-container\">\n",
              "    <div>\n",
              "<style scoped>\n",
              "    .dataframe tbody tr th:only-of-type {\n",
              "        vertical-align: middle;\n",
              "    }\n",
              "\n",
              "    .dataframe tbody tr th {\n",
              "        vertical-align: top;\n",
              "    }\n",
              "\n",
              "    .dataframe thead th {\n",
              "        text-align: right;\n",
              "    }\n",
              "</style>\n",
              "<table border=\"1\" class=\"dataframe\">\n",
              "  <thead>\n",
              "    <tr style=\"text-align: right;\">\n",
              "      <th></th>\n",
              "      <th>Month_of_Birth</th>\n",
              "      <th>Age</th>\n",
              "      <th>Grade</th>\n",
              "      <th>Tumor_Size</th>\n",
              "      <th>Regional_Node_Examined</th>\n",
              "      <th>Reginol_Node_Positive</th>\n",
              "      <th>Survival_Months</th>\n",
              "    </tr>\n",
              "  </thead>\n",
              "  <tbody>\n",
              "    <tr>\n",
              "      <th>count</th>\n",
              "      <td>4024.000000</td>\n",
              "      <td>4015.000000</td>\n",
              "      <td>4024.000000</td>\n",
              "      <td>4021.000000</td>\n",
              "      <td>4023.000000</td>\n",
              "      <td>4024.000000</td>\n",
              "      <td>4024.000000</td>\n",
              "    </tr>\n",
              "    <tr>\n",
              "      <th>mean</th>\n",
              "      <td>6.481362</td>\n",
              "      <td>54.107098</td>\n",
              "      <td>2.150596</td>\n",
              "      <td>30.419299</td>\n",
              "      <td>14.373602</td>\n",
              "      <td>4.158052</td>\n",
              "      <td>71.472167</td>\n",
              "    </tr>\n",
              "    <tr>\n",
              "      <th>std</th>\n",
              "      <td>3.475442</td>\n",
              "      <td>11.715528</td>\n",
              "      <td>0.638234</td>\n",
              "      <td>21.161080</td>\n",
              "      <td>8.129293</td>\n",
              "      <td>5.109331</td>\n",
              "      <td>25.361855</td>\n",
              "    </tr>\n",
              "    <tr>\n",
              "      <th>min</th>\n",
              "      <td>1.000000</td>\n",
              "      <td>-50.000000</td>\n",
              "      <td>1.000000</td>\n",
              "      <td>-75.000000</td>\n",
              "      <td>1.000000</td>\n",
              "      <td>1.000000</td>\n",
              "      <td>1.000000</td>\n",
              "    </tr>\n",
              "    <tr>\n",
              "      <th>25%</th>\n",
              "      <td>3.000000</td>\n",
              "      <td>47.000000</td>\n",
              "      <td>2.000000</td>\n",
              "      <td>16.000000</td>\n",
              "      <td>9.000000</td>\n",
              "      <td>1.000000</td>\n",
              "      <td>56.000000</td>\n",
              "    </tr>\n",
              "    <tr>\n",
              "      <th>50%</th>\n",
              "      <td>6.000000</td>\n",
              "      <td>54.000000</td>\n",
              "      <td>2.000000</td>\n",
              "      <td>25.000000</td>\n",
              "      <td>14.000000</td>\n",
              "      <td>2.000000</td>\n",
              "      <td>73.000000</td>\n",
              "    </tr>\n",
              "    <tr>\n",
              "      <th>75%</th>\n",
              "      <td>10.000000</td>\n",
              "      <td>61.000000</td>\n",
              "      <td>3.000000</td>\n",
              "      <td>38.000000</td>\n",
              "      <td>19.000000</td>\n",
              "      <td>5.000000</td>\n",
              "      <td>90.000000</td>\n",
              "    </tr>\n",
              "    <tr>\n",
              "      <th>max</th>\n",
              "      <td>12.000000</td>\n",
              "      <td>502.000000</td>\n",
              "      <td>4.000000</td>\n",
              "      <td>140.000000</td>\n",
              "      <td>61.000000</td>\n",
              "      <td>46.000000</td>\n",
              "      <td>760.000000</td>\n",
              "    </tr>\n",
              "  </tbody>\n",
              "</table>\n",
              "</div>\n",
              "    <div class=\"colab-df-buttons\">\n",
              "\n",
              "  <div class=\"colab-df-container\">\n",
              "    <button class=\"colab-df-convert\" onclick=\"convertToInteractive('df-67dc4b08-9f6e-4482-981d-a0d4a942d83f')\"\n",
              "            title=\"Convert this dataframe to an interactive table.\"\n",
              "            style=\"display:none;\">\n",
              "\n",
              "  <svg xmlns=\"http://www.w3.org/2000/svg\" height=\"24px\" viewBox=\"0 -960 960 960\">\n",
              "    <path d=\"M120-120v-720h720v720H120Zm60-500h600v-160H180v160Zm220 220h160v-160H400v160Zm0 220h160v-160H400v160ZM180-400h160v-160H180v160Zm440 0h160v-160H620v160ZM180-180h160v-160H180v160Zm440 0h160v-160H620v160Z\"/>\n",
              "  </svg>\n",
              "    </button>\n",
              "\n",
              "  <style>\n",
              "    .colab-df-container {\n",
              "      display:flex;\n",
              "      gap: 12px;\n",
              "    }\n",
              "\n",
              "    .colab-df-convert {\n",
              "      background-color: #E8F0FE;\n",
              "      border: none;\n",
              "      border-radius: 50%;\n",
              "      cursor: pointer;\n",
              "      display: none;\n",
              "      fill: #1967D2;\n",
              "      height: 32px;\n",
              "      padding: 0 0 0 0;\n",
              "      width: 32px;\n",
              "    }\n",
              "\n",
              "    .colab-df-convert:hover {\n",
              "      background-color: #E2EBFA;\n",
              "      box-shadow: 0px 1px 2px rgba(60, 64, 67, 0.3), 0px 1px 3px 1px rgba(60, 64, 67, 0.15);\n",
              "      fill: #174EA6;\n",
              "    }\n",
              "\n",
              "    .colab-df-buttons div {\n",
              "      margin-bottom: 4px;\n",
              "    }\n",
              "\n",
              "    [theme=dark] .colab-df-convert {\n",
              "      background-color: #3B4455;\n",
              "      fill: #D2E3FC;\n",
              "    }\n",
              "\n",
              "    [theme=dark] .colab-df-convert:hover {\n",
              "      background-color: #434B5C;\n",
              "      box-shadow: 0px 1px 3px 1px rgba(0, 0, 0, 0.15);\n",
              "      filter: drop-shadow(0px 1px 2px rgba(0, 0, 0, 0.3));\n",
              "      fill: #FFFFFF;\n",
              "    }\n",
              "  </style>\n",
              "\n",
              "    <script>\n",
              "      const buttonEl =\n",
              "        document.querySelector('#df-67dc4b08-9f6e-4482-981d-a0d4a942d83f button.colab-df-convert');\n",
              "      buttonEl.style.display =\n",
              "        google.colab.kernel.accessAllowed ? 'block' : 'none';\n",
              "\n",
              "      async function convertToInteractive(key) {\n",
              "        const element = document.querySelector('#df-67dc4b08-9f6e-4482-981d-a0d4a942d83f');\n",
              "        const dataTable =\n",
              "          await google.colab.kernel.invokeFunction('convertToInteractive',\n",
              "                                                    [key], {});\n",
              "        if (!dataTable) return;\n",
              "\n",
              "        const docLinkHtml = 'Like what you see? Visit the ' +\n",
              "          '<a target=\"_blank\" href=https://colab.research.google.com/notebooks/data_table.ipynb>data table notebook</a>'\n",
              "          + ' to learn more about interactive tables.';\n",
              "        element.innerHTML = '';\n",
              "        dataTable['output_type'] = 'display_data';\n",
              "        await google.colab.output.renderOutput(dataTable, element);\n",
              "        const docLink = document.createElement('div');\n",
              "        docLink.innerHTML = docLinkHtml;\n",
              "        element.appendChild(docLink);\n",
              "      }\n",
              "    </script>\n",
              "  </div>\n",
              "\n",
              "\n",
              "<div id=\"df-d53f42e4-dd4e-4db8-b5c1-b640fdb68547\">\n",
              "  <button class=\"colab-df-quickchart\" onclick=\"quickchart('df-d53f42e4-dd4e-4db8-b5c1-b640fdb68547')\"\n",
              "            title=\"Suggest charts\"\n",
              "            style=\"display:none;\">\n",
              "\n",
              "<svg xmlns=\"http://www.w3.org/2000/svg\" height=\"24px\"viewBox=\"0 0 24 24\"\n",
              "     width=\"24px\">\n",
              "    <g>\n",
              "        <path d=\"M19 3H5c-1.1 0-2 .9-2 2v14c0 1.1.9 2 2 2h14c1.1 0 2-.9 2-2V5c0-1.1-.9-2-2-2zM9 17H7v-7h2v7zm4 0h-2V7h2v10zm4 0h-2v-4h2v4z\"/>\n",
              "    </g>\n",
              "</svg>\n",
              "  </button>\n",
              "\n",
              "<style>\n",
              "  .colab-df-quickchart {\n",
              "      --bg-color: #E8F0FE;\n",
              "      --fill-color: #1967D2;\n",
              "      --hover-bg-color: #E2EBFA;\n",
              "      --hover-fill-color: #174EA6;\n",
              "      --disabled-fill-color: #AAA;\n",
              "      --disabled-bg-color: #DDD;\n",
              "  }\n",
              "\n",
              "  [theme=dark] .colab-df-quickchart {\n",
              "      --bg-color: #3B4455;\n",
              "      --fill-color: #D2E3FC;\n",
              "      --hover-bg-color: #434B5C;\n",
              "      --hover-fill-color: #FFFFFF;\n",
              "      --disabled-bg-color: #3B4455;\n",
              "      --disabled-fill-color: #666;\n",
              "  }\n",
              "\n",
              "  .colab-df-quickchart {\n",
              "    background-color: var(--bg-color);\n",
              "    border: none;\n",
              "    border-radius: 50%;\n",
              "    cursor: pointer;\n",
              "    display: none;\n",
              "    fill: var(--fill-color);\n",
              "    height: 32px;\n",
              "    padding: 0;\n",
              "    width: 32px;\n",
              "  }\n",
              "\n",
              "  .colab-df-quickchart:hover {\n",
              "    background-color: var(--hover-bg-color);\n",
              "    box-shadow: 0 1px 2px rgba(60, 64, 67, 0.3), 0 1px 3px 1px rgba(60, 64, 67, 0.15);\n",
              "    fill: var(--button-hover-fill-color);\n",
              "  }\n",
              "\n",
              "  .colab-df-quickchart-complete:disabled,\n",
              "  .colab-df-quickchart-complete:disabled:hover {\n",
              "    background-color: var(--disabled-bg-color);\n",
              "    fill: var(--disabled-fill-color);\n",
              "    box-shadow: none;\n",
              "  }\n",
              "\n",
              "  .colab-df-spinner {\n",
              "    border: 2px solid var(--fill-color);\n",
              "    border-color: transparent;\n",
              "    border-bottom-color: var(--fill-color);\n",
              "    animation:\n",
              "      spin 1s steps(1) infinite;\n",
              "  }\n",
              "\n",
              "  @keyframes spin {\n",
              "    0% {\n",
              "      border-color: transparent;\n",
              "      border-bottom-color: var(--fill-color);\n",
              "      border-left-color: var(--fill-color);\n",
              "    }\n",
              "    20% {\n",
              "      border-color: transparent;\n",
              "      border-left-color: var(--fill-color);\n",
              "      border-top-color: var(--fill-color);\n",
              "    }\n",
              "    30% {\n",
              "      border-color: transparent;\n",
              "      border-left-color: var(--fill-color);\n",
              "      border-top-color: var(--fill-color);\n",
              "      border-right-color: var(--fill-color);\n",
              "    }\n",
              "    40% {\n",
              "      border-color: transparent;\n",
              "      border-right-color: var(--fill-color);\n",
              "      border-top-color: var(--fill-color);\n",
              "    }\n",
              "    60% {\n",
              "      border-color: transparent;\n",
              "      border-right-color: var(--fill-color);\n",
              "    }\n",
              "    80% {\n",
              "      border-color: transparent;\n",
              "      border-right-color: var(--fill-color);\n",
              "      border-bottom-color: var(--fill-color);\n",
              "    }\n",
              "    90% {\n",
              "      border-color: transparent;\n",
              "      border-bottom-color: var(--fill-color);\n",
              "    }\n",
              "  }\n",
              "</style>\n",
              "\n",
              "  <script>\n",
              "    async function quickchart(key) {\n",
              "      const quickchartButtonEl =\n",
              "        document.querySelector('#' + key + ' button');\n",
              "      quickchartButtonEl.disabled = true;  // To prevent multiple clicks.\n",
              "      quickchartButtonEl.classList.add('colab-df-spinner');\n",
              "      try {\n",
              "        const charts = await google.colab.kernel.invokeFunction(\n",
              "            'suggestCharts', [key], {});\n",
              "      } catch (error) {\n",
              "        console.error('Error during call to suggestCharts:', error);\n",
              "      }\n",
              "      quickchartButtonEl.classList.remove('colab-df-spinner');\n",
              "      quickchartButtonEl.classList.add('colab-df-quickchart-complete');\n",
              "    }\n",
              "    (() => {\n",
              "      let quickchartButtonEl =\n",
              "        document.querySelector('#df-d53f42e4-dd4e-4db8-b5c1-b640fdb68547 button');\n",
              "      quickchartButtonEl.style.display =\n",
              "        google.colab.kernel.accessAllowed ? 'block' : 'none';\n",
              "    })();\n",
              "  </script>\n",
              "</div>\n",
              "\n",
              "    </div>\n",
              "  </div>\n"
            ],
            "application/vnd.google.colaboratory.intrinsic+json": {
              "type": "dataframe",
              "summary": "{\n  \"name\": \"df\",\n  \"rows\": 8,\n  \"fields\": [\n    {\n      \"column\": \"Month_of_Birth\",\n      \"properties\": {\n        \"dtype\": \"number\",\n        \"std\": 1420.5843614155217,\n        \"min\": 1.0,\n        \"max\": 4024.0,\n        \"num_unique_values\": 8,\n        \"samples\": [\n          6.481361829025845,\n          6.0,\n          4024.0\n        ],\n        \"semantic_type\": \"\",\n        \"description\": \"\"\n      }\n    },\n    {\n      \"column\": \"Age\",\n      \"properties\": {\n        \"dtype\": \"number\",\n        \"std\": 1395.4758479200066,\n        \"min\": -50.0,\n        \"max\": 4015.0,\n        \"num_unique_values\": 8,\n        \"samples\": [\n          54.10709838107098,\n          54.0,\n          4015.0\n        ],\n        \"semantic_type\": \"\",\n        \"description\": \"\"\n      }\n    },\n    {\n      \"column\": \"Grade\",\n      \"properties\": {\n        \"dtype\": \"number\",\n        \"std\": 1421.952286244199,\n        \"min\": 0.6382338311415823,\n        \"max\": 4024.0,\n        \"num_unique_values\": 7,\n        \"samples\": [\n          4024.0,\n          2.150596421471173,\n          3.0\n        ],\n        \"semantic_type\": \"\",\n        \"description\": \"\"\n      }\n    },\n    {\n      \"column\": \"Tumor_Size\",\n      \"properties\": {\n        \"dtype\": \"number\",\n        \"std\": 1412.9462816474029,\n        \"min\": -75.0,\n        \"max\": 4021.0,\n        \"num_unique_values\": 8,\n        \"samples\": [\n          30.41929868191992,\n          25.0,\n          4021.0\n        ],\n        \"semantic_type\": \"\",\n        \"description\": \"\"\n      }\n    },\n    {\n      \"column\": \"Regional_Node_Examined\",\n      \"properties\": {\n        \"dtype\": \"number\",\n        \"std\": 1416.074296977853,\n        \"min\": 1.0,\n        \"max\": 4023.0,\n        \"num_unique_values\": 8,\n        \"samples\": [\n          14.373601789709172,\n          14.0,\n          4023.0\n        ],\n        \"semantic_type\": \"\",\n        \"description\": \"\"\n      }\n    },\n    {\n      \"column\": \"Reginol_Node_Positive\",\n      \"properties\": {\n        \"dtype\": \"number\",\n        \"std\": 1419.5333800980586,\n        \"min\": 1.0,\n        \"max\": 4024.0,\n        \"num_unique_values\": 7,\n        \"samples\": [\n          4024.0,\n          4.158051689860835,\n          5.0\n        ],\n        \"semantic_type\": \"\",\n        \"description\": \"\"\n      }\n    },\n    {\n      \"column\": \"Survival_Months\",\n      \"properties\": {\n        \"dtype\": \"number\",\n        \"std\": 1390.795251925918,\n        \"min\": 1.0,\n        \"max\": 4024.0,\n        \"num_unique_values\": 8,\n        \"samples\": [\n          71.47216699801193,\n          73.0,\n          4024.0\n        ],\n        \"semantic_type\": \"\",\n        \"description\": \"\"\n      }\n    }\n  ]\n}"
            }
          },
          "metadata": {},
          "execution_count": 496
        }
      ]
    },
    {
      "cell_type": "code",
      "source": [
        "df.describe(include='object')"
      ],
      "metadata": {
        "colab": {
          "base_uri": "https://localhost:8080/",
          "height": 212
        },
        "id": "BJj7uXk8gwos",
        "outputId": "56b23726-e4e0-467f-e82d-9a5d5079cd3e"
      },
      "execution_count": null,
      "outputs": [
        {
          "output_type": "execute_result",
          "data": {
            "text/plain": [
              "       Patient_ID     Sex    Occupation T_Stage N_Stage 6th_Stage  \\\n",
              "count        4024    4020            43    4024    4024      4024   \n",
              "unique       4024       2            40       4       3         5   \n",
              "top         A0012  Female  House Person      T2      N1       IIA   \n",
              "freq            1    4001             2    1786    2732      1305   \n",
              "\n",
              "                   Differentiated   A_Stage Estrogen_Status  \\\n",
              "count                        4024      4024            4024   \n",
              "unique                          4         2               2   \n",
              "top     Moderately differentiated  Regional        Positive   \n",
              "freq                         2351      3932            3755   \n",
              "\n",
              "       Progesterone_Status Mortality_Status  \n",
              "count                 4024             4024  \n",
              "unique                   2                7  \n",
              "top               Positive            Alive  \n",
              "freq                  3326             3399  "
            ],
            "text/html": [
              "\n",
              "  <div id=\"df-9a190c82-b7c7-47a5-b652-56720b4a5bb4\" class=\"colab-df-container\">\n",
              "    <div>\n",
              "<style scoped>\n",
              "    .dataframe tbody tr th:only-of-type {\n",
              "        vertical-align: middle;\n",
              "    }\n",
              "\n",
              "    .dataframe tbody tr th {\n",
              "        vertical-align: top;\n",
              "    }\n",
              "\n",
              "    .dataframe thead th {\n",
              "        text-align: right;\n",
              "    }\n",
              "</style>\n",
              "<table border=\"1\" class=\"dataframe\">\n",
              "  <thead>\n",
              "    <tr style=\"text-align: right;\">\n",
              "      <th></th>\n",
              "      <th>Patient_ID</th>\n",
              "      <th>Sex</th>\n",
              "      <th>Occupation</th>\n",
              "      <th>T_Stage</th>\n",
              "      <th>N_Stage</th>\n",
              "      <th>6th_Stage</th>\n",
              "      <th>Differentiated</th>\n",
              "      <th>A_Stage</th>\n",
              "      <th>Estrogen_Status</th>\n",
              "      <th>Progesterone_Status</th>\n",
              "      <th>Mortality_Status</th>\n",
              "    </tr>\n",
              "  </thead>\n",
              "  <tbody>\n",
              "    <tr>\n",
              "      <th>count</th>\n",
              "      <td>4024</td>\n",
              "      <td>4020</td>\n",
              "      <td>43</td>\n",
              "      <td>4024</td>\n",
              "      <td>4024</td>\n",
              "      <td>4024</td>\n",
              "      <td>4024</td>\n",
              "      <td>4024</td>\n",
              "      <td>4024</td>\n",
              "      <td>4024</td>\n",
              "      <td>4024</td>\n",
              "    </tr>\n",
              "    <tr>\n",
              "      <th>unique</th>\n",
              "      <td>4024</td>\n",
              "      <td>2</td>\n",
              "      <td>40</td>\n",
              "      <td>4</td>\n",
              "      <td>3</td>\n",
              "      <td>5</td>\n",
              "      <td>4</td>\n",
              "      <td>2</td>\n",
              "      <td>2</td>\n",
              "      <td>2</td>\n",
              "      <td>7</td>\n",
              "    </tr>\n",
              "    <tr>\n",
              "      <th>top</th>\n",
              "      <td>A0012</td>\n",
              "      <td>Female</td>\n",
              "      <td>House Person</td>\n",
              "      <td>T2</td>\n",
              "      <td>N1</td>\n",
              "      <td>IIA</td>\n",
              "      <td>Moderately differentiated</td>\n",
              "      <td>Regional</td>\n",
              "      <td>Positive</td>\n",
              "      <td>Positive</td>\n",
              "      <td>Alive</td>\n",
              "    </tr>\n",
              "    <tr>\n",
              "      <th>freq</th>\n",
              "      <td>1</td>\n",
              "      <td>4001</td>\n",
              "      <td>2</td>\n",
              "      <td>1786</td>\n",
              "      <td>2732</td>\n",
              "      <td>1305</td>\n",
              "      <td>2351</td>\n",
              "      <td>3932</td>\n",
              "      <td>3755</td>\n",
              "      <td>3326</td>\n",
              "      <td>3399</td>\n",
              "    </tr>\n",
              "  </tbody>\n",
              "</table>\n",
              "</div>\n",
              "    <div class=\"colab-df-buttons\">\n",
              "\n",
              "  <div class=\"colab-df-container\">\n",
              "    <button class=\"colab-df-convert\" onclick=\"convertToInteractive('df-9a190c82-b7c7-47a5-b652-56720b4a5bb4')\"\n",
              "            title=\"Convert this dataframe to an interactive table.\"\n",
              "            style=\"display:none;\">\n",
              "\n",
              "  <svg xmlns=\"http://www.w3.org/2000/svg\" height=\"24px\" viewBox=\"0 -960 960 960\">\n",
              "    <path d=\"M120-120v-720h720v720H120Zm60-500h600v-160H180v160Zm220 220h160v-160H400v160Zm0 220h160v-160H400v160ZM180-400h160v-160H180v160Zm440 0h160v-160H620v160ZM180-180h160v-160H180v160Zm440 0h160v-160H620v160Z\"/>\n",
              "  </svg>\n",
              "    </button>\n",
              "\n",
              "  <style>\n",
              "    .colab-df-container {\n",
              "      display:flex;\n",
              "      gap: 12px;\n",
              "    }\n",
              "\n",
              "    .colab-df-convert {\n",
              "      background-color: #E8F0FE;\n",
              "      border: none;\n",
              "      border-radius: 50%;\n",
              "      cursor: pointer;\n",
              "      display: none;\n",
              "      fill: #1967D2;\n",
              "      height: 32px;\n",
              "      padding: 0 0 0 0;\n",
              "      width: 32px;\n",
              "    }\n",
              "\n",
              "    .colab-df-convert:hover {\n",
              "      background-color: #E2EBFA;\n",
              "      box-shadow: 0px 1px 2px rgba(60, 64, 67, 0.3), 0px 1px 3px 1px rgba(60, 64, 67, 0.15);\n",
              "      fill: #174EA6;\n",
              "    }\n",
              "\n",
              "    .colab-df-buttons div {\n",
              "      margin-bottom: 4px;\n",
              "    }\n",
              "\n",
              "    [theme=dark] .colab-df-convert {\n",
              "      background-color: #3B4455;\n",
              "      fill: #D2E3FC;\n",
              "    }\n",
              "\n",
              "    [theme=dark] .colab-df-convert:hover {\n",
              "      background-color: #434B5C;\n",
              "      box-shadow: 0px 1px 3px 1px rgba(0, 0, 0, 0.15);\n",
              "      filter: drop-shadow(0px 1px 2px rgba(0, 0, 0, 0.3));\n",
              "      fill: #FFFFFF;\n",
              "    }\n",
              "  </style>\n",
              "\n",
              "    <script>\n",
              "      const buttonEl =\n",
              "        document.querySelector('#df-9a190c82-b7c7-47a5-b652-56720b4a5bb4 button.colab-df-convert');\n",
              "      buttonEl.style.display =\n",
              "        google.colab.kernel.accessAllowed ? 'block' : 'none';\n",
              "\n",
              "      async function convertToInteractive(key) {\n",
              "        const element = document.querySelector('#df-9a190c82-b7c7-47a5-b652-56720b4a5bb4');\n",
              "        const dataTable =\n",
              "          await google.colab.kernel.invokeFunction('convertToInteractive',\n",
              "                                                    [key], {});\n",
              "        if (!dataTable) return;\n",
              "\n",
              "        const docLinkHtml = 'Like what you see? Visit the ' +\n",
              "          '<a target=\"_blank\" href=https://colab.research.google.com/notebooks/data_table.ipynb>data table notebook</a>'\n",
              "          + ' to learn more about interactive tables.';\n",
              "        element.innerHTML = '';\n",
              "        dataTable['output_type'] = 'display_data';\n",
              "        await google.colab.output.renderOutput(dataTable, element);\n",
              "        const docLink = document.createElement('div');\n",
              "        docLink.innerHTML = docLinkHtml;\n",
              "        element.appendChild(docLink);\n",
              "      }\n",
              "    </script>\n",
              "  </div>\n",
              "\n",
              "\n",
              "<div id=\"df-2d6d91e8-52fb-4f15-b756-bdff00f15a42\">\n",
              "  <button class=\"colab-df-quickchart\" onclick=\"quickchart('df-2d6d91e8-52fb-4f15-b756-bdff00f15a42')\"\n",
              "            title=\"Suggest charts\"\n",
              "            style=\"display:none;\">\n",
              "\n",
              "<svg xmlns=\"http://www.w3.org/2000/svg\" height=\"24px\"viewBox=\"0 0 24 24\"\n",
              "     width=\"24px\">\n",
              "    <g>\n",
              "        <path d=\"M19 3H5c-1.1 0-2 .9-2 2v14c0 1.1.9 2 2 2h14c1.1 0 2-.9 2-2V5c0-1.1-.9-2-2-2zM9 17H7v-7h2v7zm4 0h-2V7h2v10zm4 0h-2v-4h2v4z\"/>\n",
              "    </g>\n",
              "</svg>\n",
              "  </button>\n",
              "\n",
              "<style>\n",
              "  .colab-df-quickchart {\n",
              "      --bg-color: #E8F0FE;\n",
              "      --fill-color: #1967D2;\n",
              "      --hover-bg-color: #E2EBFA;\n",
              "      --hover-fill-color: #174EA6;\n",
              "      --disabled-fill-color: #AAA;\n",
              "      --disabled-bg-color: #DDD;\n",
              "  }\n",
              "\n",
              "  [theme=dark] .colab-df-quickchart {\n",
              "      --bg-color: #3B4455;\n",
              "      --fill-color: #D2E3FC;\n",
              "      --hover-bg-color: #434B5C;\n",
              "      --hover-fill-color: #FFFFFF;\n",
              "      --disabled-bg-color: #3B4455;\n",
              "      --disabled-fill-color: #666;\n",
              "  }\n",
              "\n",
              "  .colab-df-quickchart {\n",
              "    background-color: var(--bg-color);\n",
              "    border: none;\n",
              "    border-radius: 50%;\n",
              "    cursor: pointer;\n",
              "    display: none;\n",
              "    fill: var(--fill-color);\n",
              "    height: 32px;\n",
              "    padding: 0;\n",
              "    width: 32px;\n",
              "  }\n",
              "\n",
              "  .colab-df-quickchart:hover {\n",
              "    background-color: var(--hover-bg-color);\n",
              "    box-shadow: 0 1px 2px rgba(60, 64, 67, 0.3), 0 1px 3px 1px rgba(60, 64, 67, 0.15);\n",
              "    fill: var(--button-hover-fill-color);\n",
              "  }\n",
              "\n",
              "  .colab-df-quickchart-complete:disabled,\n",
              "  .colab-df-quickchart-complete:disabled:hover {\n",
              "    background-color: var(--disabled-bg-color);\n",
              "    fill: var(--disabled-fill-color);\n",
              "    box-shadow: none;\n",
              "  }\n",
              "\n",
              "  .colab-df-spinner {\n",
              "    border: 2px solid var(--fill-color);\n",
              "    border-color: transparent;\n",
              "    border-bottom-color: var(--fill-color);\n",
              "    animation:\n",
              "      spin 1s steps(1) infinite;\n",
              "  }\n",
              "\n",
              "  @keyframes spin {\n",
              "    0% {\n",
              "      border-color: transparent;\n",
              "      border-bottom-color: var(--fill-color);\n",
              "      border-left-color: var(--fill-color);\n",
              "    }\n",
              "    20% {\n",
              "      border-color: transparent;\n",
              "      border-left-color: var(--fill-color);\n",
              "      border-top-color: var(--fill-color);\n",
              "    }\n",
              "    30% {\n",
              "      border-color: transparent;\n",
              "      border-left-color: var(--fill-color);\n",
              "      border-top-color: var(--fill-color);\n",
              "      border-right-color: var(--fill-color);\n",
              "    }\n",
              "    40% {\n",
              "      border-color: transparent;\n",
              "      border-right-color: var(--fill-color);\n",
              "      border-top-color: var(--fill-color);\n",
              "    }\n",
              "    60% {\n",
              "      border-color: transparent;\n",
              "      border-right-color: var(--fill-color);\n",
              "    }\n",
              "    80% {\n",
              "      border-color: transparent;\n",
              "      border-right-color: var(--fill-color);\n",
              "      border-bottom-color: var(--fill-color);\n",
              "    }\n",
              "    90% {\n",
              "      border-color: transparent;\n",
              "      border-bottom-color: var(--fill-color);\n",
              "    }\n",
              "  }\n",
              "</style>\n",
              "\n",
              "  <script>\n",
              "    async function quickchart(key) {\n",
              "      const quickchartButtonEl =\n",
              "        document.querySelector('#' + key + ' button');\n",
              "      quickchartButtonEl.disabled = true;  // To prevent multiple clicks.\n",
              "      quickchartButtonEl.classList.add('colab-df-spinner');\n",
              "      try {\n",
              "        const charts = await google.colab.kernel.invokeFunction(\n",
              "            'suggestCharts', [key], {});\n",
              "      } catch (error) {\n",
              "        console.error('Error during call to suggestCharts:', error);\n",
              "      }\n",
              "      quickchartButtonEl.classList.remove('colab-df-spinner');\n",
              "      quickchartButtonEl.classList.add('colab-df-quickchart-complete');\n",
              "    }\n",
              "    (() => {\n",
              "      let quickchartButtonEl =\n",
              "        document.querySelector('#df-2d6d91e8-52fb-4f15-b756-bdff00f15a42 button');\n",
              "      quickchartButtonEl.style.display =\n",
              "        google.colab.kernel.accessAllowed ? 'block' : 'none';\n",
              "    })();\n",
              "  </script>\n",
              "</div>\n",
              "\n",
              "    </div>\n",
              "  </div>\n"
            ],
            "application/vnd.google.colaboratory.intrinsic+json": {
              "type": "dataframe",
              "summary": "{\n  \"name\": \"df\",\n  \"rows\": 4,\n  \"fields\": [\n    {\n      \"column\": \"Patient_ID\",\n      \"properties\": {\n        \"dtype\": \"string\",\n        \"num_unique_values\": 3,\n        \"samples\": [\n          \"4024\",\n          \"A0012\",\n          \"1\"\n        ],\n        \"semantic_type\": \"\",\n        \"description\": \"\"\n      }\n    },\n    {\n      \"column\": \"Sex\",\n      \"properties\": {\n        \"dtype\": \"string\",\n        \"num_unique_values\": 4,\n        \"samples\": [\n          2,\n          \"4001\",\n          \"4020\"\n        ],\n        \"semantic_type\": \"\",\n        \"description\": \"\"\n      }\n    },\n    {\n      \"column\": \"Occupation\",\n      \"properties\": {\n        \"dtype\": \"string\",\n        \"num_unique_values\": 4,\n        \"samples\": [\n          40,\n          \"2\",\n          \"43\"\n        ],\n        \"semantic_type\": \"\",\n        \"description\": \"\"\n      }\n    },\n    {\n      \"column\": \"T_Stage\",\n      \"properties\": {\n        \"dtype\": \"string\",\n        \"num_unique_values\": 4,\n        \"samples\": [\n          4,\n          \"1786\",\n          \"4024\"\n        ],\n        \"semantic_type\": \"\",\n        \"description\": \"\"\n      }\n    },\n    {\n      \"column\": \"N_Stage\",\n      \"properties\": {\n        \"dtype\": \"string\",\n        \"num_unique_values\": 4,\n        \"samples\": [\n          3,\n          \"2732\",\n          \"4024\"\n        ],\n        \"semantic_type\": \"\",\n        \"description\": \"\"\n      }\n    },\n    {\n      \"column\": \"6th_Stage\",\n      \"properties\": {\n        \"dtype\": \"string\",\n        \"num_unique_values\": 4,\n        \"samples\": [\n          5,\n          \"1305\",\n          \"4024\"\n        ],\n        \"semantic_type\": \"\",\n        \"description\": \"\"\n      }\n    },\n    {\n      \"column\": \"Differentiated\",\n      \"properties\": {\n        \"dtype\": \"string\",\n        \"num_unique_values\": 4,\n        \"samples\": [\n          4,\n          \"2351\",\n          \"4024\"\n        ],\n        \"semantic_type\": \"\",\n        \"description\": \"\"\n      }\n    },\n    {\n      \"column\": \"A_Stage\",\n      \"properties\": {\n        \"dtype\": \"string\",\n        \"num_unique_values\": 4,\n        \"samples\": [\n          2,\n          \"3932\",\n          \"4024\"\n        ],\n        \"semantic_type\": \"\",\n        \"description\": \"\"\n      }\n    },\n    {\n      \"column\": \"Estrogen_Status\",\n      \"properties\": {\n        \"dtype\": \"string\",\n        \"num_unique_values\": 4,\n        \"samples\": [\n          2,\n          \"3755\",\n          \"4024\"\n        ],\n        \"semantic_type\": \"\",\n        \"description\": \"\"\n      }\n    },\n    {\n      \"column\": \"Progesterone_Status\",\n      \"properties\": {\n        \"dtype\": \"string\",\n        \"num_unique_values\": 4,\n        \"samples\": [\n          2,\n          \"3326\",\n          \"4024\"\n        ],\n        \"semantic_type\": \"\",\n        \"description\": \"\"\n      }\n    },\n    {\n      \"column\": \"Mortality_Status\",\n      \"properties\": {\n        \"dtype\": \"string\",\n        \"num_unique_values\": 4,\n        \"samples\": [\n          7,\n          \"3399\",\n          \"4024\"\n        ],\n        \"semantic_type\": \"\",\n        \"description\": \"\"\n      }\n    }\n  ]\n}"
            }
          },
          "metadata": {},
          "execution_count": 497
        }
      ]
    },
    {
      "cell_type": "markdown",
      "source": [
        "Number of Null or Empty Values in the Dataset"
      ],
      "metadata": {
        "id": "hAZ_9O2Iirit"
      }
    },
    {
      "cell_type": "code",
      "source": [
        "df.isna().sum()"
      ],
      "metadata": {
        "colab": {
          "base_uri": "https://localhost:8080/",
          "height": 649
        },
        "id": "5ot8-M-mivt8",
        "outputId": "64a18dd4-6cda-4221-e745-9e4d5307e3eb"
      },
      "execution_count": null,
      "outputs": [
        {
          "output_type": "execute_result",
          "data": {
            "text/plain": [
              "Patient_ID                   0\n",
              "Month_of_Birth               0\n",
              "Age                          9\n",
              "Sex                          4\n",
              "Occupation                3981\n",
              "T_Stage                      0\n",
              "N_Stage                      0\n",
              "6th_Stage                    0\n",
              "Differentiated               0\n",
              "Grade                        0\n",
              "A_Stage                      0\n",
              "Tumor_Size                   3\n",
              "Estrogen_Status              0\n",
              "Progesterone_Status          0\n",
              "Regional_Node_Examined       1\n",
              "Reginol_Node_Positive        0\n",
              "Survival_Months              0\n",
              "Mortality_Status             0\n",
              "dtype: int64"
            ],
            "text/html": [
              "<div>\n",
              "<style scoped>\n",
              "    .dataframe tbody tr th:only-of-type {\n",
              "        vertical-align: middle;\n",
              "    }\n",
              "\n",
              "    .dataframe tbody tr th {\n",
              "        vertical-align: top;\n",
              "    }\n",
              "\n",
              "    .dataframe thead th {\n",
              "        text-align: right;\n",
              "    }\n",
              "</style>\n",
              "<table border=\"1\" class=\"dataframe\">\n",
              "  <thead>\n",
              "    <tr style=\"text-align: right;\">\n",
              "      <th></th>\n",
              "      <th>0</th>\n",
              "    </tr>\n",
              "  </thead>\n",
              "  <tbody>\n",
              "    <tr>\n",
              "      <th>Patient_ID</th>\n",
              "      <td>0</td>\n",
              "    </tr>\n",
              "    <tr>\n",
              "      <th>Month_of_Birth</th>\n",
              "      <td>0</td>\n",
              "    </tr>\n",
              "    <tr>\n",
              "      <th>Age</th>\n",
              "      <td>9</td>\n",
              "    </tr>\n",
              "    <tr>\n",
              "      <th>Sex</th>\n",
              "      <td>4</td>\n",
              "    </tr>\n",
              "    <tr>\n",
              "      <th>Occupation</th>\n",
              "      <td>3981</td>\n",
              "    </tr>\n",
              "    <tr>\n",
              "      <th>T_Stage</th>\n",
              "      <td>0</td>\n",
              "    </tr>\n",
              "    <tr>\n",
              "      <th>N_Stage</th>\n",
              "      <td>0</td>\n",
              "    </tr>\n",
              "    <tr>\n",
              "      <th>6th_Stage</th>\n",
              "      <td>0</td>\n",
              "    </tr>\n",
              "    <tr>\n",
              "      <th>Differentiated</th>\n",
              "      <td>0</td>\n",
              "    </tr>\n",
              "    <tr>\n",
              "      <th>Grade</th>\n",
              "      <td>0</td>\n",
              "    </tr>\n",
              "    <tr>\n",
              "      <th>A_Stage</th>\n",
              "      <td>0</td>\n",
              "    </tr>\n",
              "    <tr>\n",
              "      <th>Tumor_Size</th>\n",
              "      <td>3</td>\n",
              "    </tr>\n",
              "    <tr>\n",
              "      <th>Estrogen_Status</th>\n",
              "      <td>0</td>\n",
              "    </tr>\n",
              "    <tr>\n",
              "      <th>Progesterone_Status</th>\n",
              "      <td>0</td>\n",
              "    </tr>\n",
              "    <tr>\n",
              "      <th>Regional_Node_Examined</th>\n",
              "      <td>1</td>\n",
              "    </tr>\n",
              "    <tr>\n",
              "      <th>Reginol_Node_Positive</th>\n",
              "      <td>0</td>\n",
              "    </tr>\n",
              "    <tr>\n",
              "      <th>Survival_Months</th>\n",
              "      <td>0</td>\n",
              "    </tr>\n",
              "    <tr>\n",
              "      <th>Mortality_Status</th>\n",
              "      <td>0</td>\n",
              "    </tr>\n",
              "  </tbody>\n",
              "</table>\n",
              "</div><br><label><b>dtype:</b> int64</label>"
            ]
          },
          "metadata": {},
          "execution_count": 498
        }
      ]
    },
    {
      "cell_type": "markdown",
      "source": [
        "by this we have an idea that\n",
        "\n",
        "*   Occupations have more Empty Value\n",
        "*   Age, Sex, Tumor_Size, Regional_Node_Examined have some null Values\n",
        "\n"
      ],
      "metadata": {
        "id": "nVt9Qy-Yi4zL"
      }
    },
    {
      "cell_type": "markdown",
      "source": [
        "We have multiple Objects so we have to check the unique values of them\n",
        "\n",
        "The following funtion will print the Object and Their Unique Value"
      ],
      "metadata": {
        "id": "rc4yx-45kXRH"
      }
    },
    {
      "cell_type": "code",
      "source": [
        "def checkUniqueValues(df,ObjectName):\n",
        "  print(\"-\"*50)\n",
        "  print(f\"Unqiue Values for {ObjectName}\")\n",
        "  print(df[ObjectName].unique())\n"
      ],
      "metadata": {
        "id": "f9dNwn5ai8ti"
      },
      "execution_count": null,
      "outputs": []
    },
    {
      "cell_type": "code",
      "source": [
        "for col in df.select_dtypes(include='object').columns:\n",
        "    checkUniqueValues(df, col)"
      ],
      "metadata": {
        "colab": {
          "base_uri": "https://localhost:8080/"
        },
        "id": "2lCeQMUrmqzJ",
        "outputId": "fdd03568-81ab-4d95-8ff6-8bcc078d7b96"
      },
      "execution_count": null,
      "outputs": [
        {
          "output_type": "stream",
          "name": "stdout",
          "text": [
            "--------------------------------------------------\n",
            "Unqiue Values for Patient_ID\n",
            "['A0012' 'A0013' 'A0014' ... 'A4033' 'A4034' 'A4035']\n",
            "--------------------------------------------------\n",
            "Unqiue Values for Sex\n",
            "['Female' '1' nan]\n",
            "--------------------------------------------------\n",
            "Unqiue Values for Occupation\n",
            "['Teaching' 'Medical' 'Engineering' 'Technology' 'Multimedia' 'Research'\n",
            " 'House Person' 'Reporting' 'Development' 'Construction' 'Leisure'\n",
            " 'Scoial work' 'Trading' 'Consultancy' 'Driving' 'Planning' 'Hospitality'\n",
            " 'Travel' 'Agriculture' 'Manufacturing' 'Photography' 'Finance' 'Business'\n",
            " 'Marketing' 'Training' 'Cleaning' 'Legal' 'Healthcare' 'Military' 'Sales'\n",
            " 'Entertainment' 'Sports' 'Arts' 'Design' 'Maintenance' 'Management'\n",
            " 'Human Resources' 'Administrative' 'Public' 'Politics' nan]\n",
            "--------------------------------------------------\n",
            "Unqiue Values for T_Stage\n",
            "['T1' 'T2' 'T3' 'T4']\n",
            "--------------------------------------------------\n",
            "Unqiue Values for N_Stage\n",
            "['N1' 'N2' 'N3']\n",
            "--------------------------------------------------\n",
            "Unqiue Values for 6th_Stage\n",
            "['IIA' 'IIIA' 'IIIC' 'IIB' 'IIIB']\n",
            "--------------------------------------------------\n",
            "Unqiue Values for Differentiated\n",
            "['Poorly differentiated' 'Moderately differentiated' 'Well differentiated'\n",
            " 'Undifferentiated']\n",
            "--------------------------------------------------\n",
            "Unqiue Values for A_Stage\n",
            "['Regional' 'Distant']\n",
            "--------------------------------------------------\n",
            "Unqiue Values for Estrogen_Status\n",
            "['Positive' 'Negative']\n",
            "--------------------------------------------------\n",
            "Unqiue Values for Progesterone_Status\n",
            "['Positive' 'Negative']\n",
            "--------------------------------------------------\n",
            "Unqiue Values for Mortality_Status\n",
            "['Alive' 'Dead' 'ALIVE' 'DEAD' 'ALive' 'alive' 'dead']\n"
          ]
        }
      ]
    },
    {
      "cell_type": "markdown",
      "source": [
        "Here we can see Patient_ID which is unique for all , so we should remove this\n",
        "\n",
        "Occupation this has more Null Values more than pradiction its better to remove it\n",
        "\n",
        "Month_of_Birth is an garbage column"
      ],
      "metadata": {
        "id": "UMxxcpRLo6tg"
      }
    },
    {
      "cell_type": "code",
      "source": [
        "df = df.drop(columns=([\"Patient_ID\",\"Occupation\",\"Month_of_Birth\"]),axis=1)"
      ],
      "metadata": {
        "id": "NKxQeS3MpTS5"
      },
      "execution_count": null,
      "outputs": []
    },
    {
      "cell_type": "markdown",
      "source": [
        "Check Null Values after Removing Columns"
      ],
      "metadata": {
        "id": "-CG-8WaBsVW4"
      }
    },
    {
      "cell_type": "code",
      "source": [
        "df.isna().sum()"
      ],
      "metadata": {
        "colab": {
          "base_uri": "https://localhost:8080/",
          "height": 554
        },
        "id": "FMG5FsMasbvO",
        "outputId": "f68a68ac-6cc6-487d-c192-66313126916e"
      },
      "execution_count": null,
      "outputs": [
        {
          "output_type": "execute_result",
          "data": {
            "text/plain": [
              "Age                       9\n",
              "Sex                       4\n",
              "T_Stage                   0\n",
              "N_Stage                   0\n",
              "6th_Stage                 0\n",
              "Differentiated            0\n",
              "Grade                     0\n",
              "A_Stage                   0\n",
              "Tumor_Size                3\n",
              "Estrogen_Status           0\n",
              "Progesterone_Status       0\n",
              "Regional_Node_Examined    1\n",
              "Reginol_Node_Positive     0\n",
              "Survival_Months           0\n",
              "Mortality_Status          0\n",
              "dtype: int64"
            ],
            "text/html": [
              "<div>\n",
              "<style scoped>\n",
              "    .dataframe tbody tr th:only-of-type {\n",
              "        vertical-align: middle;\n",
              "    }\n",
              "\n",
              "    .dataframe tbody tr th {\n",
              "        vertical-align: top;\n",
              "    }\n",
              "\n",
              "    .dataframe thead th {\n",
              "        text-align: right;\n",
              "    }\n",
              "</style>\n",
              "<table border=\"1\" class=\"dataframe\">\n",
              "  <thead>\n",
              "    <tr style=\"text-align: right;\">\n",
              "      <th></th>\n",
              "      <th>0</th>\n",
              "    </tr>\n",
              "  </thead>\n",
              "  <tbody>\n",
              "    <tr>\n",
              "      <th>Age</th>\n",
              "      <td>9</td>\n",
              "    </tr>\n",
              "    <tr>\n",
              "      <th>Sex</th>\n",
              "      <td>4</td>\n",
              "    </tr>\n",
              "    <tr>\n",
              "      <th>T_Stage</th>\n",
              "      <td>0</td>\n",
              "    </tr>\n",
              "    <tr>\n",
              "      <th>N_Stage</th>\n",
              "      <td>0</td>\n",
              "    </tr>\n",
              "    <tr>\n",
              "      <th>6th_Stage</th>\n",
              "      <td>0</td>\n",
              "    </tr>\n",
              "    <tr>\n",
              "      <th>Differentiated</th>\n",
              "      <td>0</td>\n",
              "    </tr>\n",
              "    <tr>\n",
              "      <th>Grade</th>\n",
              "      <td>0</td>\n",
              "    </tr>\n",
              "    <tr>\n",
              "      <th>A_Stage</th>\n",
              "      <td>0</td>\n",
              "    </tr>\n",
              "    <tr>\n",
              "      <th>Tumor_Size</th>\n",
              "      <td>3</td>\n",
              "    </tr>\n",
              "    <tr>\n",
              "      <th>Estrogen_Status</th>\n",
              "      <td>0</td>\n",
              "    </tr>\n",
              "    <tr>\n",
              "      <th>Progesterone_Status</th>\n",
              "      <td>0</td>\n",
              "    </tr>\n",
              "    <tr>\n",
              "      <th>Regional_Node_Examined</th>\n",
              "      <td>1</td>\n",
              "    </tr>\n",
              "    <tr>\n",
              "      <th>Reginol_Node_Positive</th>\n",
              "      <td>0</td>\n",
              "    </tr>\n",
              "    <tr>\n",
              "      <th>Survival_Months</th>\n",
              "      <td>0</td>\n",
              "    </tr>\n",
              "    <tr>\n",
              "      <th>Mortality_Status</th>\n",
              "      <td>0</td>\n",
              "    </tr>\n",
              "  </tbody>\n",
              "</table>\n",
              "</div><br><label><b>dtype:</b> int64</label>"
            ]
          },
          "metadata": {},
          "execution_count": 502
        }
      ]
    },
    {
      "cell_type": "markdown",
      "source": [
        "Since we have Plenty of data,\n",
        " we can drop Null Values in Gender"
      ],
      "metadata": {
        "id": "KnLdmr1RjDg6"
      }
    },
    {
      "cell_type": "markdown",
      "source": [
        "Other Values are Filled with Median since"
      ],
      "metadata": {
        "id": "B01jyMqdlkmA"
      }
    },
    {
      "cell_type": "code",
      "source": [
        "df = df.dropna(subset=['Sex'])\n",
        "df.isnull().sum()\n"
      ],
      "metadata": {
        "colab": {
          "base_uri": "https://localhost:8080/",
          "height": 554
        },
        "id": "zJgVS-chjC_2",
        "outputId": "707268bd-5404-48fb-ae08-b9fdb4bb6ddf"
      },
      "execution_count": null,
      "outputs": [
        {
          "output_type": "execute_result",
          "data": {
            "text/plain": [
              "Age                       9\n",
              "Sex                       0\n",
              "T_Stage                   0\n",
              "N_Stage                   0\n",
              "6th_Stage                 0\n",
              "Differentiated            0\n",
              "Grade                     0\n",
              "A_Stage                   0\n",
              "Tumor_Size                3\n",
              "Estrogen_Status           0\n",
              "Progesterone_Status       0\n",
              "Regional_Node_Examined    1\n",
              "Reginol_Node_Positive     0\n",
              "Survival_Months           0\n",
              "Mortality_Status          0\n",
              "dtype: int64"
            ],
            "text/html": [
              "<div>\n",
              "<style scoped>\n",
              "    .dataframe tbody tr th:only-of-type {\n",
              "        vertical-align: middle;\n",
              "    }\n",
              "\n",
              "    .dataframe tbody tr th {\n",
              "        vertical-align: top;\n",
              "    }\n",
              "\n",
              "    .dataframe thead th {\n",
              "        text-align: right;\n",
              "    }\n",
              "</style>\n",
              "<table border=\"1\" class=\"dataframe\">\n",
              "  <thead>\n",
              "    <tr style=\"text-align: right;\">\n",
              "      <th></th>\n",
              "      <th>0</th>\n",
              "    </tr>\n",
              "  </thead>\n",
              "  <tbody>\n",
              "    <tr>\n",
              "      <th>Age</th>\n",
              "      <td>9</td>\n",
              "    </tr>\n",
              "    <tr>\n",
              "      <th>Sex</th>\n",
              "      <td>0</td>\n",
              "    </tr>\n",
              "    <tr>\n",
              "      <th>T_Stage</th>\n",
              "      <td>0</td>\n",
              "    </tr>\n",
              "    <tr>\n",
              "      <th>N_Stage</th>\n",
              "      <td>0</td>\n",
              "    </tr>\n",
              "    <tr>\n",
              "      <th>6th_Stage</th>\n",
              "      <td>0</td>\n",
              "    </tr>\n",
              "    <tr>\n",
              "      <th>Differentiated</th>\n",
              "      <td>0</td>\n",
              "    </tr>\n",
              "    <tr>\n",
              "      <th>Grade</th>\n",
              "      <td>0</td>\n",
              "    </tr>\n",
              "    <tr>\n",
              "      <th>A_Stage</th>\n",
              "      <td>0</td>\n",
              "    </tr>\n",
              "    <tr>\n",
              "      <th>Tumor_Size</th>\n",
              "      <td>3</td>\n",
              "    </tr>\n",
              "    <tr>\n",
              "      <th>Estrogen_Status</th>\n",
              "      <td>0</td>\n",
              "    </tr>\n",
              "    <tr>\n",
              "      <th>Progesterone_Status</th>\n",
              "      <td>0</td>\n",
              "    </tr>\n",
              "    <tr>\n",
              "      <th>Regional_Node_Examined</th>\n",
              "      <td>1</td>\n",
              "    </tr>\n",
              "    <tr>\n",
              "      <th>Reginol_Node_Positive</th>\n",
              "      <td>0</td>\n",
              "    </tr>\n",
              "    <tr>\n",
              "      <th>Survival_Months</th>\n",
              "      <td>0</td>\n",
              "    </tr>\n",
              "    <tr>\n",
              "      <th>Mortality_Status</th>\n",
              "      <td>0</td>\n",
              "    </tr>\n",
              "  </tbody>\n",
              "</table>\n",
              "</div><br><label><b>dtype:</b> int64</label>"
            ]
          },
          "metadata": {},
          "execution_count": 503
        }
      ]
    },
    {
      "cell_type": "markdown",
      "source": [
        "Fill the Null Values with Median Value"
      ],
      "metadata": {
        "id": "qDFYH9nqnUz-"
      }
    },
    {
      "cell_type": "code",
      "source": [
        "df['Age'] = df['Age'].fillna(df['Age'].median())\n",
        "df['Tumor_Size'] = df['Tumor_Size'].fillna(df['Tumor_Size'].median())\n",
        "df['Regional_Node_Examined'] = df['Regional_Node_Examined'].fillna(df['Regional_Node_Examined'].median())\n",
        "\n",
        "df.isnull().sum()/len(df)*100"
      ],
      "metadata": {
        "colab": {
          "base_uri": "https://localhost:8080/",
          "height": 991
        },
        "id": "TABw64bLnUQy",
        "outputId": "69dcdd56-c3f9-4fc0-afc5-611ea505ac6e"
      },
      "execution_count": null,
      "outputs": [
        {
          "output_type": "stream",
          "name": "stderr",
          "text": [
            "<ipython-input-504-c849fa358456>:1: SettingWithCopyWarning:\n",
            "\n",
            "\n",
            "A value is trying to be set on a copy of a slice from a DataFrame.\n",
            "Try using .loc[row_indexer,col_indexer] = value instead\n",
            "\n",
            "See the caveats in the documentation: https://pandas.pydata.org/pandas-docs/stable/user_guide/indexing.html#returning-a-view-versus-a-copy\n",
            "\n",
            "<ipython-input-504-c849fa358456>:2: SettingWithCopyWarning:\n",
            "\n",
            "\n",
            "A value is trying to be set on a copy of a slice from a DataFrame.\n",
            "Try using .loc[row_indexer,col_indexer] = value instead\n",
            "\n",
            "See the caveats in the documentation: https://pandas.pydata.org/pandas-docs/stable/user_guide/indexing.html#returning-a-view-versus-a-copy\n",
            "\n",
            "<ipython-input-504-c849fa358456>:3: SettingWithCopyWarning:\n",
            "\n",
            "\n",
            "A value is trying to be set on a copy of a slice from a DataFrame.\n",
            "Try using .loc[row_indexer,col_indexer] = value instead\n",
            "\n",
            "See the caveats in the documentation: https://pandas.pydata.org/pandas-docs/stable/user_guide/indexing.html#returning-a-view-versus-a-copy\n",
            "\n"
          ]
        },
        {
          "output_type": "execute_result",
          "data": {
            "text/plain": [
              "Age                       0.0\n",
              "Sex                       0.0\n",
              "T_Stage                   0.0\n",
              "N_Stage                   0.0\n",
              "6th_Stage                 0.0\n",
              "Differentiated            0.0\n",
              "Grade                     0.0\n",
              "A_Stage                   0.0\n",
              "Tumor_Size                0.0\n",
              "Estrogen_Status           0.0\n",
              "Progesterone_Status       0.0\n",
              "Regional_Node_Examined    0.0\n",
              "Reginol_Node_Positive     0.0\n",
              "Survival_Months           0.0\n",
              "Mortality_Status          0.0\n",
              "dtype: float64"
            ],
            "text/html": [
              "<div>\n",
              "<style scoped>\n",
              "    .dataframe tbody tr th:only-of-type {\n",
              "        vertical-align: middle;\n",
              "    }\n",
              "\n",
              "    .dataframe tbody tr th {\n",
              "        vertical-align: top;\n",
              "    }\n",
              "\n",
              "    .dataframe thead th {\n",
              "        text-align: right;\n",
              "    }\n",
              "</style>\n",
              "<table border=\"1\" class=\"dataframe\">\n",
              "  <thead>\n",
              "    <tr style=\"text-align: right;\">\n",
              "      <th></th>\n",
              "      <th>0</th>\n",
              "    </tr>\n",
              "  </thead>\n",
              "  <tbody>\n",
              "    <tr>\n",
              "      <th>Age</th>\n",
              "      <td>0.0</td>\n",
              "    </tr>\n",
              "    <tr>\n",
              "      <th>Sex</th>\n",
              "      <td>0.0</td>\n",
              "    </tr>\n",
              "    <tr>\n",
              "      <th>T_Stage</th>\n",
              "      <td>0.0</td>\n",
              "    </tr>\n",
              "    <tr>\n",
              "      <th>N_Stage</th>\n",
              "      <td>0.0</td>\n",
              "    </tr>\n",
              "    <tr>\n",
              "      <th>6th_Stage</th>\n",
              "      <td>0.0</td>\n",
              "    </tr>\n",
              "    <tr>\n",
              "      <th>Differentiated</th>\n",
              "      <td>0.0</td>\n",
              "    </tr>\n",
              "    <tr>\n",
              "      <th>Grade</th>\n",
              "      <td>0.0</td>\n",
              "    </tr>\n",
              "    <tr>\n",
              "      <th>A_Stage</th>\n",
              "      <td>0.0</td>\n",
              "    </tr>\n",
              "    <tr>\n",
              "      <th>Tumor_Size</th>\n",
              "      <td>0.0</td>\n",
              "    </tr>\n",
              "    <tr>\n",
              "      <th>Estrogen_Status</th>\n",
              "      <td>0.0</td>\n",
              "    </tr>\n",
              "    <tr>\n",
              "      <th>Progesterone_Status</th>\n",
              "      <td>0.0</td>\n",
              "    </tr>\n",
              "    <tr>\n",
              "      <th>Regional_Node_Examined</th>\n",
              "      <td>0.0</td>\n",
              "    </tr>\n",
              "    <tr>\n",
              "      <th>Reginol_Node_Positive</th>\n",
              "      <td>0.0</td>\n",
              "    </tr>\n",
              "    <tr>\n",
              "      <th>Survival_Months</th>\n",
              "      <td>0.0</td>\n",
              "    </tr>\n",
              "    <tr>\n",
              "      <th>Mortality_Status</th>\n",
              "      <td>0.0</td>\n",
              "    </tr>\n",
              "  </tbody>\n",
              "</table>\n",
              "</div><br><label><b>dtype:</b> float64</label>"
            ]
          },
          "metadata": {},
          "execution_count": 504
        }
      ]
    },
    {
      "cell_type": "markdown",
      "source": [
        "Since the Datas have inconsistency in Vales, we have to order them"
      ],
      "metadata": {
        "id": "1QVyRSElET1A"
      }
    },
    {
      "cell_type": "code",
      "source": [
        "def changeValuesInGoodOrder(Value):\n",
        "  if Value.lower() == \"alive\":\n",
        "    return \"Alive\"\n",
        "  else:\n",
        "    return \"Dead\""
      ],
      "metadata": {
        "id": "pQL-MP0qEev6"
      },
      "execution_count": null,
      "outputs": []
    },
    {
      "cell_type": "code",
      "source": [
        "df['Mortality_Status'] = df['Mortality_Status'].apply(changeValuesInGoodOrder)\n",
        "print(df['Mortality_Status'].unique())"
      ],
      "metadata": {
        "colab": {
          "base_uri": "https://localhost:8080/"
        },
        "id": "obJqfeGLRLgo",
        "outputId": "58b047cf-8bbf-4711-919f-e972357c0294"
      },
      "execution_count": null,
      "outputs": [
        {
          "output_type": "stream",
          "name": "stdout",
          "text": [
            "['Alive' 'Dead']\n"
          ]
        },
        {
          "output_type": "stream",
          "name": "stderr",
          "text": [
            "<ipython-input-506-aae89218afc3>:1: SettingWithCopyWarning:\n",
            "\n",
            "\n",
            "A value is trying to be set on a copy of a slice from a DataFrame.\n",
            "Try using .loc[row_indexer,col_indexer] = value instead\n",
            "\n",
            "See the caveats in the documentation: https://pandas.pydata.org/pandas-docs/stable/user_guide/indexing.html#returning-a-view-versus-a-copy\n",
            "\n"
          ]
        }
      ]
    },
    {
      "cell_type": "markdown",
      "source": [
        "Assuming 1 as Males and naming them correctly"
      ],
      "metadata": {
        "id": "NXGi8SRlaVN6"
      }
    },
    {
      "cell_type": "code",
      "source": [
        "def orderTheSexData(Value):\n",
        "  if str(Value).lower() == 'female':\n",
        "    return \"Female\"\n",
        "  elif Value == '1' or Value == 1:\n",
        "    return 'Male'\n",
        "  else :\n",
        "    return None"
      ],
      "metadata": {
        "id": "xCR2oeYBaSeb"
      },
      "execution_count": null,
      "outputs": []
    },
    {
      "cell_type": "code",
      "source": [
        "df['Sex'] = df['Sex'].apply(orderTheSexData)\n",
        "print(df['Sex'].unique())"
      ],
      "metadata": {
        "colab": {
          "base_uri": "https://localhost:8080/"
        },
        "id": "TB35NdiTahD6",
        "outputId": "95b9d5cf-f8eb-41b8-8b7f-35cee7ee0732"
      },
      "execution_count": null,
      "outputs": [
        {
          "output_type": "stream",
          "name": "stdout",
          "text": [
            "['Female' 'Male']\n"
          ]
        },
        {
          "output_type": "stream",
          "name": "stderr",
          "text": [
            "<ipython-input-508-b274c04b5e4a>:1: SettingWithCopyWarning:\n",
            "\n",
            "\n",
            "A value is trying to be set on a copy of a slice from a DataFrame.\n",
            "Try using .loc[row_indexer,col_indexer] = value instead\n",
            "\n",
            "See the caveats in the documentation: https://pandas.pydata.org/pandas-docs/stable/user_guide/indexing.html#returning-a-view-versus-a-copy\n",
            "\n"
          ]
        }
      ]
    },
    {
      "cell_type": "code",
      "source": [
        "df['Sex'].value_counts()"
      ],
      "metadata": {
        "colab": {
          "base_uri": "https://localhost:8080/",
          "height": 178
        },
        "id": "k-foFoR2cmhC",
        "outputId": "4c03fc81-ba68-4186-da44-3e9d58e8c748"
      },
      "execution_count": null,
      "outputs": [
        {
          "output_type": "execute_result",
          "data": {
            "text/plain": [
              "Sex\n",
              "Female    4001\n",
              "Male        19\n",
              "Name: count, dtype: int64"
            ],
            "text/html": [
              "<div>\n",
              "<style scoped>\n",
              "    .dataframe tbody tr th:only-of-type {\n",
              "        vertical-align: middle;\n",
              "    }\n",
              "\n",
              "    .dataframe tbody tr th {\n",
              "        vertical-align: top;\n",
              "    }\n",
              "\n",
              "    .dataframe thead th {\n",
              "        text-align: right;\n",
              "    }\n",
              "</style>\n",
              "<table border=\"1\" class=\"dataframe\">\n",
              "  <thead>\n",
              "    <tr style=\"text-align: right;\">\n",
              "      <th></th>\n",
              "      <th>count</th>\n",
              "    </tr>\n",
              "    <tr>\n",
              "      <th>Sex</th>\n",
              "      <th></th>\n",
              "    </tr>\n",
              "  </thead>\n",
              "  <tbody>\n",
              "    <tr>\n",
              "      <th>Female</th>\n",
              "      <td>4001</td>\n",
              "    </tr>\n",
              "    <tr>\n",
              "      <th>Male</th>\n",
              "      <td>19</td>\n",
              "    </tr>\n",
              "  </tbody>\n",
              "</table>\n",
              "</div><br><label><b>dtype:</b> int64</label>"
            ]
          },
          "metadata": {},
          "execution_count": 509
        }
      ]
    },
    {
      "cell_type": "markdown",
      "source": [
        "Here you can see there are just 19 data , this might cost a noise so better to get rid of this sex column\n"
      ],
      "metadata": {
        "id": "wgaRc_E5lSSC"
      }
    },
    {
      "cell_type": "code",
      "source": [
        "df = df.drop(columns=([\"Sex\"]),axis=1)"
      ],
      "metadata": {
        "id": "BqKfLym9l6zE"
      },
      "execution_count": null,
      "outputs": []
    },
    {
      "cell_type": "markdown",
      "source": [
        "There are No Null Values, so Next step is to find Outliers\n"
      ],
      "metadata": {
        "id": "W-CNREBwroEl"
      }
    },
    {
      "cell_type": "code",
      "source": [
        "df.describe().transpose()"
      ],
      "metadata": {
        "colab": {
          "base_uri": "https://localhost:8080/",
          "height": 238
        },
        "id": "_-nDMetswH2w",
        "outputId": "377ed05d-13b9-419d-c402-62393ab2bc09"
      },
      "execution_count": null,
      "outputs": [
        {
          "output_type": "execute_result",
          "data": {
            "text/plain": [
              "                         count       mean        std   min   25%   50%   75%  \\\n",
              "Age                     4020.0  54.113682  11.706125 -50.0  47.0  54.0  61.0   \n",
              "Grade                   4020.0   2.151493   0.637772   1.0   2.0   2.0   3.0   \n",
              "Tumor_Size              4020.0  30.396766  21.144770 -75.0  16.0  25.0  38.0   \n",
              "Regional_Node_Examined  4020.0  14.375124   8.130013   1.0   9.0  14.0  19.0   \n",
              "Reginol_Node_Positive   4020.0   4.157463   5.110944   1.0   1.0   2.0   5.0   \n",
              "Survival_Months         4020.0  71.463184  25.371926   1.0  56.0  73.0  90.0   \n",
              "\n",
              "                          max  \n",
              "Age                     502.0  \n",
              "Grade                     4.0  \n",
              "Tumor_Size              140.0  \n",
              "Regional_Node_Examined   61.0  \n",
              "Reginol_Node_Positive    46.0  \n",
              "Survival_Months         760.0  "
            ],
            "text/html": [
              "\n",
              "  <div id=\"df-9eb664e8-44e4-4d53-887b-d076befdf05a\" class=\"colab-df-container\">\n",
              "    <div>\n",
              "<style scoped>\n",
              "    .dataframe tbody tr th:only-of-type {\n",
              "        vertical-align: middle;\n",
              "    }\n",
              "\n",
              "    .dataframe tbody tr th {\n",
              "        vertical-align: top;\n",
              "    }\n",
              "\n",
              "    .dataframe thead th {\n",
              "        text-align: right;\n",
              "    }\n",
              "</style>\n",
              "<table border=\"1\" class=\"dataframe\">\n",
              "  <thead>\n",
              "    <tr style=\"text-align: right;\">\n",
              "      <th></th>\n",
              "      <th>count</th>\n",
              "      <th>mean</th>\n",
              "      <th>std</th>\n",
              "      <th>min</th>\n",
              "      <th>25%</th>\n",
              "      <th>50%</th>\n",
              "      <th>75%</th>\n",
              "      <th>max</th>\n",
              "    </tr>\n",
              "  </thead>\n",
              "  <tbody>\n",
              "    <tr>\n",
              "      <th>Age</th>\n",
              "      <td>4020.0</td>\n",
              "      <td>54.113682</td>\n",
              "      <td>11.706125</td>\n",
              "      <td>-50.0</td>\n",
              "      <td>47.0</td>\n",
              "      <td>54.0</td>\n",
              "      <td>61.0</td>\n",
              "      <td>502.0</td>\n",
              "    </tr>\n",
              "    <tr>\n",
              "      <th>Grade</th>\n",
              "      <td>4020.0</td>\n",
              "      <td>2.151493</td>\n",
              "      <td>0.637772</td>\n",
              "      <td>1.0</td>\n",
              "      <td>2.0</td>\n",
              "      <td>2.0</td>\n",
              "      <td>3.0</td>\n",
              "      <td>4.0</td>\n",
              "    </tr>\n",
              "    <tr>\n",
              "      <th>Tumor_Size</th>\n",
              "      <td>4020.0</td>\n",
              "      <td>30.396766</td>\n",
              "      <td>21.144770</td>\n",
              "      <td>-75.0</td>\n",
              "      <td>16.0</td>\n",
              "      <td>25.0</td>\n",
              "      <td>38.0</td>\n",
              "      <td>140.0</td>\n",
              "    </tr>\n",
              "    <tr>\n",
              "      <th>Regional_Node_Examined</th>\n",
              "      <td>4020.0</td>\n",
              "      <td>14.375124</td>\n",
              "      <td>8.130013</td>\n",
              "      <td>1.0</td>\n",
              "      <td>9.0</td>\n",
              "      <td>14.0</td>\n",
              "      <td>19.0</td>\n",
              "      <td>61.0</td>\n",
              "    </tr>\n",
              "    <tr>\n",
              "      <th>Reginol_Node_Positive</th>\n",
              "      <td>4020.0</td>\n",
              "      <td>4.157463</td>\n",
              "      <td>5.110944</td>\n",
              "      <td>1.0</td>\n",
              "      <td>1.0</td>\n",
              "      <td>2.0</td>\n",
              "      <td>5.0</td>\n",
              "      <td>46.0</td>\n",
              "    </tr>\n",
              "    <tr>\n",
              "      <th>Survival_Months</th>\n",
              "      <td>4020.0</td>\n",
              "      <td>71.463184</td>\n",
              "      <td>25.371926</td>\n",
              "      <td>1.0</td>\n",
              "      <td>56.0</td>\n",
              "      <td>73.0</td>\n",
              "      <td>90.0</td>\n",
              "      <td>760.0</td>\n",
              "    </tr>\n",
              "  </tbody>\n",
              "</table>\n",
              "</div>\n",
              "    <div class=\"colab-df-buttons\">\n",
              "\n",
              "  <div class=\"colab-df-container\">\n",
              "    <button class=\"colab-df-convert\" onclick=\"convertToInteractive('df-9eb664e8-44e4-4d53-887b-d076befdf05a')\"\n",
              "            title=\"Convert this dataframe to an interactive table.\"\n",
              "            style=\"display:none;\">\n",
              "\n",
              "  <svg xmlns=\"http://www.w3.org/2000/svg\" height=\"24px\" viewBox=\"0 -960 960 960\">\n",
              "    <path d=\"M120-120v-720h720v720H120Zm60-500h600v-160H180v160Zm220 220h160v-160H400v160Zm0 220h160v-160H400v160ZM180-400h160v-160H180v160Zm440 0h160v-160H620v160ZM180-180h160v-160H180v160Zm440 0h160v-160H620v160Z\"/>\n",
              "  </svg>\n",
              "    </button>\n",
              "\n",
              "  <style>\n",
              "    .colab-df-container {\n",
              "      display:flex;\n",
              "      gap: 12px;\n",
              "    }\n",
              "\n",
              "    .colab-df-convert {\n",
              "      background-color: #E8F0FE;\n",
              "      border: none;\n",
              "      border-radius: 50%;\n",
              "      cursor: pointer;\n",
              "      display: none;\n",
              "      fill: #1967D2;\n",
              "      height: 32px;\n",
              "      padding: 0 0 0 0;\n",
              "      width: 32px;\n",
              "    }\n",
              "\n",
              "    .colab-df-convert:hover {\n",
              "      background-color: #E2EBFA;\n",
              "      box-shadow: 0px 1px 2px rgba(60, 64, 67, 0.3), 0px 1px 3px 1px rgba(60, 64, 67, 0.15);\n",
              "      fill: #174EA6;\n",
              "    }\n",
              "\n",
              "    .colab-df-buttons div {\n",
              "      margin-bottom: 4px;\n",
              "    }\n",
              "\n",
              "    [theme=dark] .colab-df-convert {\n",
              "      background-color: #3B4455;\n",
              "      fill: #D2E3FC;\n",
              "    }\n",
              "\n",
              "    [theme=dark] .colab-df-convert:hover {\n",
              "      background-color: #434B5C;\n",
              "      box-shadow: 0px 1px 3px 1px rgba(0, 0, 0, 0.15);\n",
              "      filter: drop-shadow(0px 1px 2px rgba(0, 0, 0, 0.3));\n",
              "      fill: #FFFFFF;\n",
              "    }\n",
              "  </style>\n",
              "\n",
              "    <script>\n",
              "      const buttonEl =\n",
              "        document.querySelector('#df-9eb664e8-44e4-4d53-887b-d076befdf05a button.colab-df-convert');\n",
              "      buttonEl.style.display =\n",
              "        google.colab.kernel.accessAllowed ? 'block' : 'none';\n",
              "\n",
              "      async function convertToInteractive(key) {\n",
              "        const element = document.querySelector('#df-9eb664e8-44e4-4d53-887b-d076befdf05a');\n",
              "        const dataTable =\n",
              "          await google.colab.kernel.invokeFunction('convertToInteractive',\n",
              "                                                    [key], {});\n",
              "        if (!dataTable) return;\n",
              "\n",
              "        const docLinkHtml = 'Like what you see? Visit the ' +\n",
              "          '<a target=\"_blank\" href=https://colab.research.google.com/notebooks/data_table.ipynb>data table notebook</a>'\n",
              "          + ' to learn more about interactive tables.';\n",
              "        element.innerHTML = '';\n",
              "        dataTable['output_type'] = 'display_data';\n",
              "        await google.colab.output.renderOutput(dataTable, element);\n",
              "        const docLink = document.createElement('div');\n",
              "        docLink.innerHTML = docLinkHtml;\n",
              "        element.appendChild(docLink);\n",
              "      }\n",
              "    </script>\n",
              "  </div>\n",
              "\n",
              "\n",
              "<div id=\"df-82204b10-8361-4f59-8d13-63dc4cd222b1\">\n",
              "  <button class=\"colab-df-quickchart\" onclick=\"quickchart('df-82204b10-8361-4f59-8d13-63dc4cd222b1')\"\n",
              "            title=\"Suggest charts\"\n",
              "            style=\"display:none;\">\n",
              "\n",
              "<svg xmlns=\"http://www.w3.org/2000/svg\" height=\"24px\"viewBox=\"0 0 24 24\"\n",
              "     width=\"24px\">\n",
              "    <g>\n",
              "        <path d=\"M19 3H5c-1.1 0-2 .9-2 2v14c0 1.1.9 2 2 2h14c1.1 0 2-.9 2-2V5c0-1.1-.9-2-2-2zM9 17H7v-7h2v7zm4 0h-2V7h2v10zm4 0h-2v-4h2v4z\"/>\n",
              "    </g>\n",
              "</svg>\n",
              "  </button>\n",
              "\n",
              "<style>\n",
              "  .colab-df-quickchart {\n",
              "      --bg-color: #E8F0FE;\n",
              "      --fill-color: #1967D2;\n",
              "      --hover-bg-color: #E2EBFA;\n",
              "      --hover-fill-color: #174EA6;\n",
              "      --disabled-fill-color: #AAA;\n",
              "      --disabled-bg-color: #DDD;\n",
              "  }\n",
              "\n",
              "  [theme=dark] .colab-df-quickchart {\n",
              "      --bg-color: #3B4455;\n",
              "      --fill-color: #D2E3FC;\n",
              "      --hover-bg-color: #434B5C;\n",
              "      --hover-fill-color: #FFFFFF;\n",
              "      --disabled-bg-color: #3B4455;\n",
              "      --disabled-fill-color: #666;\n",
              "  }\n",
              "\n",
              "  .colab-df-quickchart {\n",
              "    background-color: var(--bg-color);\n",
              "    border: none;\n",
              "    border-radius: 50%;\n",
              "    cursor: pointer;\n",
              "    display: none;\n",
              "    fill: var(--fill-color);\n",
              "    height: 32px;\n",
              "    padding: 0;\n",
              "    width: 32px;\n",
              "  }\n",
              "\n",
              "  .colab-df-quickchart:hover {\n",
              "    background-color: var(--hover-bg-color);\n",
              "    box-shadow: 0 1px 2px rgba(60, 64, 67, 0.3), 0 1px 3px 1px rgba(60, 64, 67, 0.15);\n",
              "    fill: var(--button-hover-fill-color);\n",
              "  }\n",
              "\n",
              "  .colab-df-quickchart-complete:disabled,\n",
              "  .colab-df-quickchart-complete:disabled:hover {\n",
              "    background-color: var(--disabled-bg-color);\n",
              "    fill: var(--disabled-fill-color);\n",
              "    box-shadow: none;\n",
              "  }\n",
              "\n",
              "  .colab-df-spinner {\n",
              "    border: 2px solid var(--fill-color);\n",
              "    border-color: transparent;\n",
              "    border-bottom-color: var(--fill-color);\n",
              "    animation:\n",
              "      spin 1s steps(1) infinite;\n",
              "  }\n",
              "\n",
              "  @keyframes spin {\n",
              "    0% {\n",
              "      border-color: transparent;\n",
              "      border-bottom-color: var(--fill-color);\n",
              "      border-left-color: var(--fill-color);\n",
              "    }\n",
              "    20% {\n",
              "      border-color: transparent;\n",
              "      border-left-color: var(--fill-color);\n",
              "      border-top-color: var(--fill-color);\n",
              "    }\n",
              "    30% {\n",
              "      border-color: transparent;\n",
              "      border-left-color: var(--fill-color);\n",
              "      border-top-color: var(--fill-color);\n",
              "      border-right-color: var(--fill-color);\n",
              "    }\n",
              "    40% {\n",
              "      border-color: transparent;\n",
              "      border-right-color: var(--fill-color);\n",
              "      border-top-color: var(--fill-color);\n",
              "    }\n",
              "    60% {\n",
              "      border-color: transparent;\n",
              "      border-right-color: var(--fill-color);\n",
              "    }\n",
              "    80% {\n",
              "      border-color: transparent;\n",
              "      border-right-color: var(--fill-color);\n",
              "      border-bottom-color: var(--fill-color);\n",
              "    }\n",
              "    90% {\n",
              "      border-color: transparent;\n",
              "      border-bottom-color: var(--fill-color);\n",
              "    }\n",
              "  }\n",
              "</style>\n",
              "\n",
              "  <script>\n",
              "    async function quickchart(key) {\n",
              "      const quickchartButtonEl =\n",
              "        document.querySelector('#' + key + ' button');\n",
              "      quickchartButtonEl.disabled = true;  // To prevent multiple clicks.\n",
              "      quickchartButtonEl.classList.add('colab-df-spinner');\n",
              "      try {\n",
              "        const charts = await google.colab.kernel.invokeFunction(\n",
              "            'suggestCharts', [key], {});\n",
              "      } catch (error) {\n",
              "        console.error('Error during call to suggestCharts:', error);\n",
              "      }\n",
              "      quickchartButtonEl.classList.remove('colab-df-spinner');\n",
              "      quickchartButtonEl.classList.add('colab-df-quickchart-complete');\n",
              "    }\n",
              "    (() => {\n",
              "      let quickchartButtonEl =\n",
              "        document.querySelector('#df-82204b10-8361-4f59-8d13-63dc4cd222b1 button');\n",
              "      quickchartButtonEl.style.display =\n",
              "        google.colab.kernel.accessAllowed ? 'block' : 'none';\n",
              "    })();\n",
              "  </script>\n",
              "</div>\n",
              "\n",
              "    </div>\n",
              "  </div>\n"
            ],
            "application/vnd.google.colaboratory.intrinsic+json": {
              "type": "dataframe",
              "summary": "{\n  \"name\": \"df\",\n  \"rows\": 6,\n  \"fields\": [\n    {\n      \"column\": \"count\",\n      \"properties\": {\n        \"dtype\": \"number\",\n        \"std\": 0.0,\n        \"min\": 4020.0,\n        \"max\": 4020.0,\n        \"num_unique_values\": 1,\n        \"samples\": [\n          4020.0\n        ],\n        \"semantic_type\": \"\",\n        \"description\": \"\"\n      }\n    },\n    {\n      \"column\": \"mean\",\n      \"properties\": {\n        \"dtype\": \"number\",\n        \"std\": 28.23640813829775,\n        \"min\": 2.151492537313433,\n        \"max\": 71.46318407960199,\n        \"num_unique_values\": 6,\n        \"samples\": [\n          54.1136815920398\n        ],\n        \"semantic_type\": \"\",\n        \"description\": \"\"\n      }\n    },\n    {\n      \"column\": \"std\",\n      \"properties\": {\n        \"dtype\": \"number\",\n        \"std\": 9.529490950930903,\n        \"min\": 0.6377720467158123,\n        \"max\": 25.371926379994196,\n        \"num_unique_values\": 6,\n        \"samples\": [\n          11.706124612749655\n        ],\n        \"semantic_type\": \"\",\n        \"description\": \"\"\n      }\n    },\n    {\n      \"column\": \"min\",\n      \"properties\": {\n        \"dtype\": \"number\",\n        \"std\": 33.73079700609914,\n        \"min\": -75.0,\n        \"max\": 1.0,\n        \"num_unique_values\": 3,\n        \"samples\": [\n          -50.0\n        ],\n        \"semantic_type\": \"\",\n        \"description\": \"\"\n      }\n    },\n    {\n      \"column\": \"25%\",\n      \"properties\": {\n        \"dtype\": \"number\",\n        \"std\": 23.777440288362975,\n        \"min\": 1.0,\n        \"max\": 56.0,\n        \"num_unique_values\": 6,\n        \"samples\": [\n          47.0\n        ],\n        \"semantic_type\": \"\",\n        \"description\": \"\"\n      }\n    },\n    {\n      \"column\": \"50%\",\n      \"properties\": {\n        \"dtype\": \"number\",\n        \"std\": 29.179901759030418,\n        \"min\": 2.0,\n        \"max\": 73.0,\n        \"num_unique_values\": 5,\n        \"samples\": [\n          2.0\n        ],\n        \"semantic_type\": \"\",\n        \"description\": \"\"\n      }\n    },\n    {\n      \"column\": \"75%\",\n      \"properties\": {\n        \"dtype\": \"number\",\n        \"std\": 34.30451865279558,\n        \"min\": 3.0,\n        \"max\": 90.0,\n        \"num_unique_values\": 6,\n        \"samples\": [\n          61.0\n        ],\n        \"semantic_type\": \"\",\n        \"description\": \"\"\n      }\n    },\n    {\n      \"column\": \"max\",\n      \"properties\": {\n        \"dtype\": \"number\",\n        \"std\": 307.74302050033026,\n        \"min\": 4.0,\n        \"max\": 760.0,\n        \"num_unique_values\": 6,\n        \"samples\": [\n          502.0\n        ],\n        \"semantic_type\": \"\",\n        \"description\": \"\"\n      }\n    }\n  ]\n}"
            }
          },
          "metadata": {},
          "execution_count": 511
        }
      ]
    },
    {
      "cell_type": "markdown",
      "source": [
        "From the above we can undestand that\n",
        "1. Age\n",
        "2. Tumor_Size\n",
        "3. RNE\n",
        "4. RNP\n",
        "5. Survival Month\n",
        "\n",
        "this can be seen because min can have (-) value , very high Max Value"
      ],
      "metadata": {
        "id": "NcC0FXk8wLti"
      }
    },
    {
      "cell_type": "markdown",
      "source": [
        "*Below funtion will Print Histogram, Scatter, Box for Various Values*"
      ],
      "metadata": {
        "id": "vbTwU6DuspN4"
      }
    },
    {
      "cell_type": "code",
      "source": [
        "def printOutlierVisalization(Value):\n",
        "  print (f\"Ourlier Visulaization for {Value}\")\n",
        "  ShowHistogram = px.histogram(df, x=Value).show()\n",
        "  ShowScatter = px.scatter(df, x=Value).show()\n",
        "  ShowBox = px.box(df, x=Value).show()"
      ],
      "metadata": {
        "id": "57_S1eEdrC9q"
      },
      "execution_count": null,
      "outputs": []
    },
    {
      "cell_type": "markdown",
      "source": [
        "Oulier Visualization For Age"
      ],
      "metadata": {
        "id": "mH-ZmNaHsfHV"
      }
    },
    {
      "cell_type": "code",
      "source": [
        "printOutlierVisalization(\"Age\")"
      ],
      "metadata": {
        "colab": {
          "base_uri": "https://localhost:8080/",
          "height": 1000
        },
        "collapsed": true,
        "id": "5naZVikUtABz",
        "outputId": "230dc2d7-85e1-4523-f0fb-109e472322f2"
      },
      "execution_count": null,
      "outputs": [
        {
          "output_type": "stream",
          "name": "stdout",
          "text": [
            "Ourlier Visulaization for Age\n"
          ]
        },
        {
          "output_type": "display_data",
          "data": {
            "text/html": [
              "<html>\n",
              "<head><meta charset=\"utf-8\" /></head>\n",
              "<body>\n",
              "    <div>            <script src=\"https://cdnjs.cloudflare.com/ajax/libs/mathjax/2.7.5/MathJax.js?config=TeX-AMS-MML_SVG\"></script><script type=\"text/javascript\">if (window.MathJax && window.MathJax.Hub && window.MathJax.Hub.Config) {window.MathJax.Hub.Config({SVG: {font: \"STIX-Web\"}});}</script>                <script type=\"text/javascript\">window.PlotlyConfig = {MathJaxConfig: 'local'};</script>\n",
              "        <script charset=\"utf-8\" src=\"https://cdn.plot.ly/plotly-2.35.2.min.js\"></script>                <div id=\"75ad638e-c752-41d1-841f-efe8547d16fb\" class=\"plotly-graph-div\" style=\"height:525px; width:100%;\"></div>            <script type=\"text/javascript\">                                    window.PLOTLYENV=window.PLOTLYENV || {};                                    if (document.getElementById(\"75ad638e-c752-41d1-841f-efe8547d16fb\")) {                    Plotly.newPlot(                        \"75ad638e-c752-41d1-841f-efe8547d16fb\",                        [{\"alignmentgroup\":\"True\",\"bingroup\":\"x\",\"hovertemplate\":\"Age=%{x}\\u003cbr\\u003ecount=%{y}\\u003cextra\\u003e\\u003c\\u002fextra\\u003e\",\"legendgroup\":\"\",\"marker\":{\"color\":\"#636efa\",\"pattern\":{\"shape\":\"\"}},\"name\":\"\",\"offsetgroup\":\"\",\"orientation\":\"v\",\"showlegend\":false,\"x\":[68.0,50.0,58.0,58.0,47.0,51.0,51.0,40.0,40.0,69.0,68.0,46.0,65.0,48.0,62.0,61.0,56.0,43.0,48.0,60.0,48.0,57.0,55.0,48.0,62.0,63.0,48.0,46.0,57.0,66.0,47.0,53.0,59.0,60.0,46.0,51.0,54.0,51.0,49.0,51.0,57.0,64.0,62.0,53.0,55.0,66.0,42.0,62.0,54.0,69.0,37.0,69.0,54.0,63.0,57.0,55.0,62.0,50.0,50.0,55.0,56.0,51.0,42.0,59.0,67.0,46.0,31.0,40.0,58.0,52.0,54.0,64.0,31.0,66.0,67.0,56.0,66.0,42.0,51.0,68.0,53.0,67.0,66.0,53.0,51.0,46.0,48.0,52.0,55.0,65.0,53.0,33.0,63.0,45.0,59.0,60.0,50.0,61.0,50.0,68.0,38.0,47.0,39.0,57.0,52.0,60.0,54.0,68.0,38.0,63.0,61.0,37.0,46.0,45.0,54.0,53.0,50.0,69.0,48.0,53.0,67.0,43.0,50.0,59.0,53.0,62.0,39.0,59.0,56.0,45.0,60.0,50.0,58.0,50.0,55.0,37.0,46.0,65.0,61.0,52.0,54.0,36.0,180.0,62.0,54.0,61.0,46.0,38.0,66.0,59.0,38.0,67.0,60.0,61.0,67.0,69.0,47.0,39.0,53.0,55.0,59.0,53.0,59.0,57.0,61.0,68.0,54.0,37.0,48.0,53.0,69.0,63.0,49.0,63.0,60.0,41.0,59.0,43.0,52.0,61.0,60.0,61.0,63.0,48.0,51.0,66.0,68.0,58.0,62.0,46.0,58.0,60.0,62.0,53.0,42.0,63.0,55.0,50.0,52.0,47.0,55.0,60.0,66.0,50.0,64.0,67.0,56.0,60.0,56.0,48.0,44.0,37.0,-50.0,63.0,54.0,63.0,44.0,68.0,64.0,50.0,55.0,66.0,46.0,43.0,43.0,43.0,59.0,55.0,61.0,66.0,55.0,65.0,69.0,59.0,63.0,68.0,48.0,61.0,43.0,44.0,47.0,52.0,69.0,39.0,43.0,64.0,66.0,45.0,37.0,50.0,40.0,52.0,54.0,32.0,65.0,67.0,57.0,63.0,42.0,57.0,42.0,46.0,47.0,67.0,67.0,65.0,65.0,33.0,64.0,66.0,34.0,55.0,47.0,58.0,38.0,57.0,65.0,52.0,67.0,57.0,61.0,45.0,50.0,50.0,53.0,54.0,58.0,56.0,68.0,41.0,61.0,65.0,69.0,43.0,47.0,67.0,45.0,65.0,53.0,67.0,43.0,47.0,48.0,62.0,68.0,57.0,40.0,56.0,52.0,40.0,51.0,67.0,54.0,56.0,48.0,57.0,47.0,54.0,41.0,65.0,58.0,38.0,38.0,60.0,58.0,63.0,53.0,43.0,60.0,60.0,47.0,48.0,59.0,56.0,53.0,48.0,52.0,61.0,66.0,45.0,52.0,67.0,40.0,50.0,65.0,55.0,47.0,49.0,53.0,53.0,44.0,54.0,51.0,46.0,47.0,68.0,50.0,67.0,47.0,68.0,55.0,47.0,56.0,51.0,41.0,67.0,58.0,67.0,63.0,69.0,59.0,54.0,65.0,48.0,39.0,55.0,50.0,39.0,49.0,58.0,34.0,49.0,52.0,62.0,55.0,57.0,40.0,52.0,63.0,57.0,40.0,55.0,42.0,52.0,39.0,53.0,47.0,37.0,63.0,54.0,50.0,56.0,56.0,52.0,38.0,57.0,56.0,54.0,54.0,69.0,62.0,63.0,46.0,47.0,55.0,40.0,47.0,52.0,65.0,63.0,57.0,45.0,62.0,54.0,65.0,64.0,47.0,63.0,66.0,69.0,48.0,60.0,61.0,61.0,43.0,49.0,63.0,61.0,61.0,69.0,66.0,39.0,52.0,49.0,55.0,62.0,42.0,50.0,52.0,38.0,39.0,57.0,62.0,55.0,47.0,68.0,50.0,42.0,54.0,42.0,46.0,50.0,62.0,58.0,53.0,46.0,38.0,40.0,60.0,63.0,49.0,57.0,48.0,46.0,61.0,61.0,53.0,53.0,42.0,57.0,56.0,48.0,59.0,57.0,56.0,64.0,50.0,40.0,40.0,52.0,59.0,53.0,54.0,61.0,54.0,41.0,57.0,40.0,63.0,62.0,62.0,42.0,47.0,53.0,64.0,51.0,56.0,50.0,66.0,56.0,46.0,66.0,57.0,55.0,32.0,58.0,63.0,48.0,64.0,44.0,57.0,61.0,502.0,45.0,52.0,67.0,45.0,63.0,56.0,46.0,53.0,62.0,47.0,39.0,33.0,56.0,55.0,69.0,58.0,42.0,58.0,51.0,64.0,62.0,52.0,43.0,65.0,59.0,62.0,51.0,57.0,46.0,40.0,49.0,46.0,40.0,49.0,61.0,56.0,50.0,55.0,60.0,34.0,51.0,53.0,58.0,61.0,48.0,63.0,56.0,66.0,64.0,49.0,56.0,67.0,42.0,47.0,60.0,43.0,42.0,60.0,52.0,63.0,60.0,61.0,58.0,52.0,64.0,68.0,47.0,51.0,53.0,63.0,50.0,45.0,68.0,46.0,54.0,65.0,51.0,45.0,45.0,57.0,35.0,54.0,68.0,58.0,48.0,59.0,47.0,52.0,46.0,34.0,34.0,36.0,40.0,38.0,61.0,37.0,60.0,38.0,56.0,49.0,65.0,61.0,69.0,53.0,61.0,47.0,62.0,62.0,41.0,41.0,48.0,48.0,54.0,63.0,44.0,51.0,55.0,49.0,64.0,63.0,46.0,46.0,61.0,52.0,62.0,52.0,39.0,36.0,64.0,55.0,65.0,45.0,68.0,57.0,44.0,51.0,50.0,52.0,53.0,49.0,65.0,67.0,63.0,43.0,57.0,63.0,52.0,61.0,58.0,62.0,56.0,48.0,64.0,67.0,57.0,41.0,62.0,51.0,65.0,51.0,46.0,46.0,48.0,43.0,59.0,49.0,56.0,53.0,58.0,51.0,55.0,54.0,34.0,42.0,45.0,46.0,62.0,49.0,38.0,30.0,68.0,59.0,49.0,57.0,49.0,65.0,47.0,40.0,45.0,54.0,55.0,57.0,67.0,51.0,54.0,52.0,63.0,48.0,49.0,46.0,46.0,46.0,65.0,69.0,59.0,48.0,43.0,55.0,59.0,67.0,69.0,54.0,69.0,60.0,45.0,48.0,60.0,49.0,33.0,60.0,68.0,67.0,50.0,46.0,39.0,55.0,59.0,32.0,63.0,53.0,54.0,50.0,45.0,46.0,46.0,67.0,58.0,60.0,55.0,46.0,62.0,59.0,59.0,44.0,69.0,43.0,63.0,43.0,36.0,63.0,60.0,56.0,44.0,69.0,50.0,55.0,65.0,47.0,62.0,60.0,62.0,62.0,63.0,61.0,55.0,66.0,69.0,60.0,61.0,51.0,49.0,58.0,60.0,48.0,63.0,40.0,69.0,67.0,41.0,67.0,45.0,66.0,55.0,48.0,58.0,61.0,59.0,51.0,44.0,59.0,58.0,43.0,52.0,57.0,52.0,56.0,69.0,49.0,64.0,48.0,41.0,51.0,45.0,53.0,47.0,60.0,62.0,50.0,55.0,60.0,65.0,64.0,64.0,67.0,57.0,38.0,52.0,36.0,49.0,89.0,64.0,61.0,68.0,56.0,47.0,31.0,55.0,62.0,48.0,46.0,62.0,61.0,56.0,65.0,38.0,57.0,62.0,57.0,63.0,62.0,49.0,31.0,67.0,39.0,48.0,38.0,47.0,47.0,53.0,46.0,38.0,52.0,46.0,61.0,38.0,50.0,40.0,51.0,61.0,42.0,63.0,64.0,66.0,42.0,51.0,45.0,46.0,55.0,49.0,65.0,58.0,47.0,65.0,67.0,39.0,59.0,38.0,41.0,65.0,52.0,49.0,58.0,55.0,64.0,53.0,39.0,54.0,67.0,65.0,45.0,63.0,56.0,38.0,47.0,46.0,66.0,51.0,63.0,43.0,49.0,69.0,51.0,49.0,44.0,45.0,64.0,60.0,60.0,60.0,53.0,63.0,53.0,53.0,46.0,65.0,30.0,43.0,61.0,67.0,42.0,68.0,58.0,57.0,43.0,39.0,53.0,55.0,66.0,58.0,41.0,50.0,39.0,37.0,46.0,55.0,42.0,53.0,66.0,55.0,48.0,49.0,60.0,61.0,63.0,61.0,47.0,53.0,45.0,62.0,47.0,40.0,63.0,42.0,47.0,51.0,51.0,56.0,64.0,49.0,66.0,60.0,60.0,53.0,63.0,61.0,45.0,47.0,55.0,35.0,55.0,60.0,31.0,51.0,58.0,50.0,48.0,57.0,69.0,57.0,44.0,60.0,56.0,55.0,68.0,42.0,47.0,59.0,65.0,32.0,49.0,60.0,55.0,64.0,43.0,61.0,42.0,58.0,51.0,68.0,58.0,62.0,66.0,52.0,69.0,64.0,66.0,62.0,55.0,55.0,57.0,54.0,67.0,62.0,66.0,56.0,64.0,67.0,41.0,65.0,51.0,49.0,56.0,44.0,56.0,48.0,54.0,62.0,53.0,45.0,50.0,54.0,32.0,65.0,63.0,67.0,62.0,67.0,42.0,60.0,48.0,60.0,69.0,54.0,56.0,48.0,45.0,59.0,59.0,49.0,64.0,47.0,46.0,63.0,61.0,65.0,64.0,53.0,42.0,49.0,66.0,36.0,46.0,53.0,62.0,55.0,53.0,57.0,58.0,68.0,41.0,69.0,61.0,46.0,60.0,63.0,45.0,60.0,50.0,64.0,51.0,58.0,63.0,61.0,49.0,57.0,51.0,60.0,66.0,50.0,53.0,33.0,45.0,57.0,52.0,52.0,58.0,60.0,59.0,43.0,47.0,52.0,63.0,51.0,63.0,49.0,61.0,64.0,57.0,58.0,55.0,54.0,67.0,57.0,37.0,61.0,46.0,31.0,59.0,50.0,59.0,41.0,64.0,60.0,68.0,46.0,43.0,49.0,56.0,60.0,67.0,67.0,50.0,68.0,66.0,40.0,45.0,61.0,68.0,59.0,65.0,50.0,62.0,59.0,56.0,46.0,41.0,45.0,44.0,47.0,66.0,56.0,49.0,64.0,66.0,45.0,65.0,54.0,48.0,49.0,40.0,64.0,61.0,61.0,55.0,43.0,63.0,48.0,46.0,63.0,43.0,46.0,35.0,68.0,47.0,43.0,57.0,64.0,61.0,44.0,50.0,49.0,67.0,46.0,51.0,58.0,46.0,59.0,53.0,62.0,57.0,51.0,69.0,47.0,57.0,55.0,52.0,45.0,39.0,56.0,45.0,41.0,63.0,68.0,64.0,49.0,68.0,46.0,59.0,40.0,47.0,53.0,59.0,50.0,47.0,46.0,46.0,67.0,51.0,65.0,56.0,68.0,57.0,49.0,48.0,67.0,64.0,53.0,42.0,50.0,56.0,53.0,59.0,67.0,45.0,45.0,49.0,65.0,45.0,56.0,60.0,57.0,54.0,50.0,63.0,41.0,51.0,65.0,59.0,66.0,41.0,66.0,67.0,40.0,39.0,66.0,58.0,45.0,65.0,43.0,57.0,47.0,44.0,46.0,64.0,59.0,51.0,66.0,46.0,52.0,49.0,42.0,63.0,66.0,48.0,66.0,41.0,61.0,55.0,62.0,35.0,59.0,54.0,64.0,64.0,38.0,60.0,55.0,41.0,67.0,53.0,53.0,34.0,39.0,31.0,64.0,40.0,59.0,55.0,46.0,58.0,66.0,56.0,47.0,39.0,46.0,62.0,46.0,60.0,36.0,51.0,60.0,63.0,65.0,59.0,50.0,53.0,46.0,46.0,46.0,47.0,61.0,52.0,57.0,59.0,63.0,48.0,59.0,58.0,47.0,56.0,44.0,44.0,33.0,54.0,45.0,60.0,62.0,53.0,41.0,39.0,44.0,57.0,33.0,68.0,49.0,50.0,60.0,50.0,40.0,46.0,49.0,69.0,54.0,51.0,51.0,68.0,41.0,58.0,62.0,42.0,46.0,54.0,54.0,47.0,66.0,42.0,55.0,60.0,52.0,61.0,48.0,58.0,44.0,43.0,53.0,48.0,63.0,64.0,39.0,59.0,51.0,39.0,56.0,51.0,49.0,68.0,51.0,54.0,64.0,43.0,39.0,69.0,66.0,55.0,69.0,51.0,57.0,63.0,55.0,55.0,59.0,61.0,49.0,60.0,50.0,61.0,47.0,55.0,57.0,53.0,44.0,63.0,62.0,43.0,69.0,46.0,53.0,40.0,63.0,64.0,57.0,43.0,60.0,42.0,40.0,43.0,57.0,68.0,65.0,60.0,67.0,39.0,59.0,52.0,58.0,48.0,61.0,34.0,56.0,59.0,52.0,57.0,67.0,65.0,48.0,64.0,64.0,57.0,47.0,49.0,40.0,57.0,47.0,63.0,43.0,66.0,66.0,44.0,64.0,45.0,68.0,55.0,54.0,66.0,59.0,61.0,58.0,51.0,68.0,41.0,59.0,64.0,63.0,65.0,51.0,66.0,35.0,42.0,49.0,47.0,66.0,49.0,47.0,45.0,55.0,63.0,51.0,59.0,43.0,59.0,55.0,49.0,45.0,41.0,63.0,41.0,59.0,62.0,65.0,47.0,67.0,53.0,46.0,56.0,63.0,67.0,63.0,47.0,63.0,48.0,61.0,39.0,68.0,51.0,69.0,39.0,48.0,30.0,40.0,39.0,44.0,58.0,38.0,47.0,59.0,53.0,41.0,52.0,54.0,51.0,41.0,58.0,49.0,58.0,42.0,68.0,35.0,46.0,53.0,40.0,66.0,62.0,53.0,37.0,53.0,50.0,64.0,66.0,65.0,64.0,49.0,53.0,50.0,61.0,57.0,62.0,52.0,47.0,64.0,34.0,61.0,61.0,58.0,52.0,50.0,66.0,66.0,43.0,41.0,56.0,53.0,53.0,43.0,64.0,51.0,58.0,68.0,66.0,51.0,55.0,62.0,62.0,42.0,55.0,59.0,66.0,57.0,46.0,64.0,65.0,48.0,40.0,54.0,60.0,63.0,61.0,69.0,45.0,45.0,49.0,69.0,42.0,54.0,64.0,49.0,44.0,52.0,47.0,59.0,67.0,63.0,68.0,52.0,61.0,39.0,66.0,53.0,51.0,40.0,56.0,33.0,67.0,55.0,45.0,60.0,47.0,45.0,56.0,41.0,65.0,66.0,52.0,55.0,57.0,49.0,48.0,31.0,59.0,43.0,45.0,61.0,31.0,47.0,32.0,49.0,54.0,51.0,47.0,53.0,40.0,59.0,65.0,47.0,59.0,39.0,54.0,36.0,46.0,41.0,62.0,45.0,41.0,43.0,69.0,56.0,62.0,65.0,32.0,66.0,62.0,32.0,32.0,50.0,53.0,60.0,59.0,46.0,49.0,39.0,50.0,59.0,60.0,63.0,61.0,63.0,49.0,42.0,46.0,51.0,43.0,49.0,45.0,46.0,69.0,50.0,66.0,43.0,56.0,37.0,52.0,53.0,55.0,43.0,52.0,61.0,45.0,42.0,50.0,66.0,62.0,67.0,60.0,57.0,69.0,60.0,48.0,50.0,53.0,63.0,52.0,57.0,55.0,63.0,51.0,46.0,50.0,56.0,57.0,31.0,59.0,53.0,66.0,46.0,67.0,61.0,42.0,36.0,49.0,68.0,55.0,68.0,52.0,63.0,45.0,53.0,46.0,59.0,53.0,53.0,42.0,53.0,51.0,40.0,44.0,60.0,63.0,66.0,57.0,58.0,61.0,46.0,59.0,57.0,55.0,61.0,44.0,55.0,53.0,69.0,55.0,38.0,48.0,67.0,51.0,55.0,47.0,37.0,54.0,61.0,50.0,54.0,47.0,62.0,57.0,59.0,49.0,45.0,69.0,55.0,69.0,45.0,57.0,54.0,49.0,56.0,69.0,60.0,35.0,58.0,69.0,65.0,67.0,51.0,40.0,33.0,56.0,59.0,61.0,46.0,67.0,69.0,52.0,41.0,57.0,54.0,60.0,36.0,52.0,35.0,57.0,68.0,64.0,49.0,57.0,49.0,53.0,52.0,46.0,54.0,60.0,46.0,66.0,55.0,47.0,49.0,44.0,49.0,60.0,46.0,49.0,50.0,49.0,51.0,52.0,46.0,68.0,48.0,48.0,53.0,54.0,50.0,56.0,56.0,54.0,45.0,55.0,64.0,46.0,56.0,58.0,45.0,30.0,67.0,46.0,49.0,63.0,49.0,67.0,60.0,46.0,37.0,65.0,43.0,61.0,64.0,52.0,43.0,67.0,51.0,69.0,67.0,59.0,50.0,65.0,47.0,51.0,46.0,53.0,57.0,53.0,63.0,60.0,47.0,46.0,43.0,46.0,60.0,53.0,62.0,47.0,65.0,59.0,61.0,69.0,55.0,53.0,54.0,49.0,61.0,62.0,40.0,45.0,47.0,59.0,42.0,66.0,34.0,65.0,43.0,50.0,56.0,61.0,55.0,45.0,52.0,42.0,65.0,65.0,39.0,44.0,50.0,67.0,61.0,61.0,60.0,64.0,45.0,60.0,56.0,49.0,51.0,61.0,53.0,59.0,38.0,64.0,53.0,67.0,69.0,63.0,58.0,44.0,67.0,53.0,48.0,58.0,47.0,68.0,69.0,60.0,60.0,50.0,50.0,59.0,63.0,62.0,40.0,48.0,60.0,46.0,50.0,46.0,64.0,64.0,68.0,68.0,65.0,64.0,55.0,65.0,50.0,40.0,35.0,50.0,52.0,39.0,55.0,69.0,55.0,60.0,50.0,62.0,64.0,47.0,41.0,60.0,69.0,38.0,41.0,62.0,54.0,67.0,63.0,50.0,53.0,46.0,46.0,64.0,47.0,68.0,51.0,61.0,55.0,50.0,52.0,47.0,37.0,57.0,47.0,48.0,47.0,45.0,37.0,58.0,43.0,56.0,64.0,40.0,58.0,56.0,42.0,63.0,59.0,62.0,69.0,58.0,64.0,47.0,59.0,48.0,44.0,49.0,46.0,48.0,53.0,63.0,47.0,52.0,62.0,42.0,47.0,43.0,58.0,59.0,35.0,64.0,43.0,56.0,60.0,67.0,57.0,67.0,36.0,40.0,49.0,51.0,63.0,38.0,44.0,56.0,44.0,61.0,38.0,68.0,65.0,55.0,66.0,43.0,57.0,66.0,59.0,57.0,68.0,51.0,68.0,47.0,62.0,50.0,69.0,66.0,67.0,62.0,67.0,66.0,48.0,44.0,50.0,56.0,49.0,46.0,50.0,62.0,40.0,69.0,64.0,36.0,50.0,49.0,65.0,40.0,64.0,50.0,51.0,67.0,51.0,62.0,62.0,55.0,63.0,42.0,56.0,31.0,56.0,59.0,48.0,66.0,51.0,69.0,63.0,48.0,46.0,69.0,60.0,61.0,60.0,58.0,44.0,48.0,45.0,52.0,58.0,48.0,58.0,45.0,66.0,62.0,60.0,54.0,63.0,57.0,63.0,49.0,45.0,67.0,54.0,59.0,51.0,46.0,64.0,68.0,47.0,52.0,69.0,59.0,65.0,56.0,45.0,48.0,43.0,67.0,65.0,57.0,48.0,45.0,64.0,65.0,53.0,63.0,60.0,45.0,51.0,54.0,54.0,49.0,49.0,41.0,51.0,68.0,44.0,68.0,67.0,62.0,45.0,46.0,48.0,61.0,52.0,48.0,61.0,47.0,54.0,55.0,48.0,47.0,62.0,51.0,49.0,46.0,56.0,35.0,66.0,47.0,63.0,41.0,46.0,68.0,49.0,61.0,43.0,50.0,54.0,42.0,68.0,48.0,49.0,46.0,38.0,63.0,65.0,46.0,59.0,61.0,47.0,58.0,55.0,48.0,50.0,59.0,50.0,47.0,58.0,51.0,67.0,44.0,48.0,56.0,48.0,55.0,45.0,51.0,60.0,52.0,62.0,69.0,38.0,57.0,53.0,49.0,58.0,44.0,33.0,46.0,68.0,53.0,49.0,57.0,53.0,67.0,47.0,50.0,60.0,48.0,42.0,56.0,56.0,55.0,46.0,43.0,52.0,64.0,54.0,40.0,58.0,62.0,67.0,66.0,68.0,58.0,54.0,69.0,56.0,61.0,42.0,38.0,57.0,39.0,66.0,59.0,31.0,46.0,53.0,49.0,68.0,45.0,63.0,41.0,61.0,69.0,56.0,45.0,37.0,62.0,69.0,44.0,54.0,53.0,60.0,45.0,42.0,47.0,48.0,49.0,51.0,51.0,55.0,64.0,64.0,58.0,69.0,69.0,61.0,52.0,54.0,64.0,45.0,37.0,56.0,54.0,55.0,56.0,58.0,44.0,51.0,55.0,57.0,50.0,66.0,62.0,62.0,62.0,49.0,49.0,55.0,38.0,63.0,47.0,65.0,63.0,32.0,48.0,60.0,45.0,55.0,42.0,67.0,66.0,44.0,59.0,68.0,44.0,49.0,63.0,63.0,60.0,49.0,46.0,62.0,50.0,48.0,60.0,55.0,66.0,59.0,69.0,57.0,45.0,55.0,36.0,46.0,67.0,59.0,50.0,60.0,63.0,50.0,64.0,55.0,47.0,64.0,64.0,50.0,46.0,61.0,61.0,69.0,69.0,48.0,42.0,45.0,43.0,59.0,62.0,62.0,38.0,69.0,42.0,59.0,66.0,63.0,56.0,37.0,50.0,52.0,54.0,58.0,42.0,59.0,56.0,50.0,42.0,47.0,45.0,41.0,47.0,56.0,51.0,45.0,43.0,54.0,65.0,48.0,49.0,51.0,52.0,54.0,41.0,63.0,54.0,69.0,64.0,69.0,66.0,64.0,46.0,50.0,46.0,60.0,39.0,60.0,48.0,51.0,55.0,62.0,56.0,36.0,65.0,58.0,62.0,52.0,66.0,56.0,54.0,56.0,62.0,54.0,65.0,59.0,51.0,65.0,54.0,57.0,60.0,60.0,48.0,53.0,48.0,68.0,49.0,54.0,49.0,55.0,46.0,41.0,53.0,52.0,55.0,63.0,53.0,66.0,56.0,58.0,50.0,52.0,56.0,53.0,47.0,52.0,55.0,62.0,51.0,63.0,47.0,50.0,60.0,61.0,67.0,59.0,66.0,44.0,44.0,56.0,38.0,49.0,57.0,59.0,49.0,48.0,51.0,54.0,59.0,56.0,52.0,49.0,55.0,60.0,63.0,58.0,39.0,62.0,60.0,45.0,45.0,62.0,65.0,68.0,43.0,36.0,63.0,36.0,47.0,51.0,61.0,66.0,47.0,41.0,48.0,45.0,67.0,58.0,50.0,47.0,59.0,67.0,63.0,62.0,52.0,65.0,35.0,51.0,54.0,44.0,57.0,57.0,36.0,45.0,50.0,43.0,36.0,54.0,65.0,41.0,65.0,59.0,61.0,45.0,69.0,54.0,50.0,53.0,50.0,67.0,43.0,39.0,45.0,46.0,65.0,42.0,68.0,69.0,47.0,48.0,48.0,51.0,68.0,48.0,35.0,49.0,60.0,64.0,55.0,52.0,60.0,68.0,49.0,45.0,46.0,49.0,67.0,62.0,62.0,54.0,50.0,53.0,51.0,57.0,48.0,53.0,54.0,49.0,66.0,65.0,55.0,49.0,47.0,58.0,58.0,47.0,37.0,61.0,58.0,68.0,63.0,57.0,36.0,47.0,59.0,55.0,41.0,44.0,61.0,49.0,65.0,69.0,52.0,64.0,69.0,44.0,49.0,64.0,43.0,55.0,51.0,39.0,37.0,61.0,54.0,59.0,45.0,61.0,50.0,49.0,40.0,48.0,49.0,53.0,44.0,53.0,52.0,53.0,48.0,57.0,44.0,59.0,49.0,53.0,55.0,62.0,38.0,56.0,53.0,40.0,43.0,67.0,43.0,50.0,61.0,62.0,53.0,55.0,58.0,69.0,52.0,62.0,64.0,68.0,48.0,51.0,67.0,58.0,62.0,69.0,57.0,53.0,47.0,58.0,46.0,53.0,49.0,65.0,50.0,39.0,42.0,45.0,47.0,53.0,55.0,63.0,62.0,51.0,57.0,46.0,42.0,63.0,57.0,52.0,56.0,58.0,66.0,36.0,36.0,55.0,44.0,59.0,38.0,40.0,68.0,47.0,57.0,42.0,43.0,52.0,65.0,57.0,47.0,41.0,51.0,60.0,53.0,47.0,52.0,63.0,55.0,69.0,40.0,44.0,40.0,33.0,51.0,41.0,61.0,53.0,61.0,46.0,46.0,42.0,44.0,44.0,52.0,63.0,56.0,53.0,43.0,62.0,49.0,56.0,58.0,62.0,61.0,62.0,54.0,51.0,52.0,38.0,44.0,59.0,52.0,48.0,34.0,67.0,47.0,62.0,49.0,53.0,47.0,54.0,46.0,54.0,48.0,57.0,49.0,48.0,50.0,51.0,42.0,55.0,63.0,62.0,58.0,54.0,62.0,68.0,47.0,52.0,37.0,55.0,65.0,46.0,63.0,62.0,65.0,68.0,58.0,66.0,62.0,68.0,32.0,43.0,62.0,40.0,61.0,46.0,48.0,64.0,60.0,57.0,64.0,54.0,48.0,65.0,35.0,54.0,54.0,69.0,44.0,48.0,69.0,55.0,49.0,65.0,47.0,64.0,52.0,64.0,69.0,48.0,65.0,68.0,49.0,54.0,63.0,57.0,39.0,45.0,54.0,65.0,51.0,64.0,48.0,68.0,49.0,57.0,35.0,66.0,48.0,67.0,53.0,66.0,40.0,59.0,69.0,67.0,60.0,64.0,48.0,63.0,49.0,53.0,50.0,53.0,63.0,44.0,45.0,51.0,54.0,47.0,56.0,54.0,51.0,63.0,59.0,62.0,57.0,50.0,51.0,48.0,48.0,54.0,46.0,69.0,39.0,40.0,56.0,57.0,51.0,49.0,62.0,59.0,53.0,45.0,53.0,65.0,39.0,48.0,53.0,53.0,67.0,62.0,68.0,38.0,64.0,47.0,63.0,61.0,68.0,58.0,41.0,47.0,56.0,56.0,56.0,46.0,53.0,45.0,66.0,61.0,53.0,51.0,68.0,67.0,59.0,64.0,57.0,54.0,41.0,49.0,51.0,42.0,46.0,61.0,44.0,55.0,50.0,62.0,62.0,46.0,56.0,57.0,47.0,42.0,56.0,50.0,43.0,46.0,46.0,60.0,44.0,47.0,46.0,60.0,60.0,61.0,67.0,61.0,43.0,66.0,51.0,56.0,67.0,51.0,50.0,52.0,56.0,61.0,53.0,63.0,59.0,65.0,66.0,57.0,44.0,61.0,41.0,40.0,53.0,51.0,55.0,50.0,60.0,55.0,58.0,41.0,50.0,59.0,60.0,48.0,50.0,67.0,62.0,65.0,54.0,61.0,49.0,54.0,59.0,48.0,42.0,64.0,59.0,53.0,51.0,34.0,49.0,56.0,53.0,59.0,55.0,43.0,69.0,49.0,57.0,48.0,64.0,59.0,64.0,43.0,49.0,41.0,58.0,48.0,40.0,55.0,47.0,63.0,63.0,61.0,46.0,50.0,65.0,52.0,56.0,60.0,46.0,62.0,61.0,52.0,49.0,67.0,50.0,54.0,69.0,42.0,61.0,47.0,40.0,65.0,52.0,48.0,64.0,50.0,69.0,46.0,61.0,66.0,65.0,41.0,50.0,68.0,49.0,43.0,50.0,58.0,60.0,43.0,43.0,53.0,42.0,55.0,43.0,40.0,69.0,49.0,59.0,60.0,63.0,50.0,59.0,56.0,66.0,61.0,54.0,51.0,63.0,40.0,48.0,49.0,61.0,60.0,49.0,52.0,59.0,57.0,65.0,58.0,55.0,63.0,59.0,57.0,61.0,56.0,68.0,62.0,63.0,61.0,65.0,63.0,64.0,68.0,53.0,67.0,40.0,49.0,49.0,53.0,66.0,52.0,43.0,60.0,40.0,46.0,62.0,50.0,66.0,67.0,52.0,55.0,68.0,63.0,59.0,44.0,63.0,65.0,55.0,61.0,59.0,66.0,60.0,63.0,49.0,52.0,33.0,69.0,51.0,48.0,47.0,43.0,54.0,46.0,68.0,62.0,69.0,59.0,48.0,61.0,46.0,51.0,58.0,49.0,43.0,54.0,46.0,47.0,58.0,60.0,38.0,47.0,58.0,45.0,46.0,42.0,67.0,64.0,67.0,50.0,48.0,57.0,56.0,62.0,55.0,58.0,57.0,65.0,45.0,39.0,56.0,51.0,66.0,58.0,57.0,60.0,48.0,63.0,42.0,40.0,67.0,66.0,42.0,49.0,53.0,51.0,48.0,67.0,50.0,48.0,37.0,55.0,49.0,63.0,55.0,64.0,51.0,47.0,64.0,42.0,50.0,41.0,43.0,56.0,59.0,68.0,54.0,53.0,63.0,58.0,50.0,49.0,57.0,56.0,60.0,63.0,47.0,50.0,54.0,53.0,49.0,46.0,56.0,68.0,43.0,46.0,62.0,66.0,68.0,54.0,30.0,62.0,48.0,65.0,51.0,65.0,67.0,42.0,68.0,32.0,53.0,49.0,50.0,55.0,47.0,67.0,42.0,60.0,62.0,59.0,67.0,44.0,49.0,67.0,67.0,64.0,43.0,69.0,55.0,46.0,47.0,60.0,47.0,58.0,66.0,61.0,33.0,55.0,41.0,50.0,63.0,47.0,57.0,42.0,33.0,57.0,56.0,47.0,63.0,53.0,42.0,50.0,44.0,58.0,65.0,44.0,59.0,57.0,57.0,53.0,44.0,46.0,59.0,62.0,48.0,44.0,62.0,65.0,58.0,47.0,42.0,49.0,57.0,44.0,66.0,53.0,45.0,47.0,49.0,47.0,49.0,57.0,59.0,61.0,58.0,48.0,48.0,50.0,48.0,67.0,51.0,50.0,69.0,63.0,52.0,57.0,46.0,63.0,68.0,62.0,38.0,58.0,48.0,49.0,41.0,62.0,46.0,66.0,47.0,51.0,53.0,65.0,53.0,57.0,53.0,49.0,67.0,51.0,55.0,55.0,59.0,65.0,42.0,50.0,52.0,59.0,55.0,46.0,51.0,47.0,62.0,56.0,63.0,48.0,59.0,67.0,35.0,55.0,59.0,61.0,48.0,66.0,49.0,58.0,58.0,55.0,57.0,60.0,54.0,35.0,69.0,55.0,63.0,52.0,49.0,68.0,48.0,61.0,68.0,43.0,62.0,57.0,65.0,66.0,58.0,49.0,62.0,54.0,47.0,46.0,52.0,51.0,60.0,59.0,64.0,46.0,59.0,56.0,68.0,65.0,53.0,66.0,41.0,53.0,63.0,65.0,50.0,62.0,52.0,65.0,43.0,63.0,64.0,69.0,65.0,43.0,66.0,48.0,57.0,60.0,59.0,59.0,44.0,54.0,55.0,62.0,65.0,55.0,63.0,41.0,58.0,68.0,54.0,43.0,40.0,62.0,49.0,54.0,66.0,47.0,52.0,56.0,50.0,57.0,45.0,69.0,41.0,55.0,59.0,67.0,53.0,61.0,45.0,61.0,69.0,43.0,61.0,51.0,61.0,57.0,58.0,52.0,43.0,63.0,65.0,35.0,51.0,50.0,50.0,51.0,68.0,51.0,38.0,54.0,51.0,69.0,62.0,52.0,59.0,61.0,43.0,61.0,68.0,50.0,60.0,47.0,60.0,60.0,47.0,65.0,64.0,45.0,57.0,47.0,65.0,60.0,59.0,41.0,50.0,64.0,59.0,58.0,46.0,69.0,60.0,69.0,54.0,47.0,46.0,47.0,61.0,55.0,49.0,49.0,51.0,47.0,68.0,58.0,56.0,59.0,51.0,51.0,37.0,67.0,44.0,68.0,57.0,66.0,65.0,52.0,47.0,43.0,53.0,56.0,49.0,46.0,41.0,38.0,54.0,58.0,54.0,44.0,59.0,63.0,57.0,49.0,56.0,41.0,55.0,58.0,64.0,44.0,51.0,67.0,57.0,54.0,55.0,61.0,39.0,57.0,50.0,56.0,42.0,51.0,46.0,42.0,38.0,45.0,56.0,46.0,61.0,46.0,48.0,60.0,66.0,49.0,46.0,39.0,61.0,46.0,52.0,60.0,42.0,47.0,42.0,43.0,63.0,55.0,52.0,40.0,38.0,33.0,59.0,63.0,44.0,58.0,69.0,57.0,50.0,36.0,37.0,63.0,45.0,42.0,40.0,45.0,54.0,55.0,47.0,51.0,63.0,65.0,34.0,47.0,69.0,66.0,41.0,58.0,64.0,53.0,43.0,31.0,43.0,54.0,60.0,59.0,47.0,41.0,69.0,48.0,40.0,68.0,56.0,46.0,59.0,46.0,46.0,57.0,51.0,55.0,53.0,64.0,68.0,51.0,36.0,68.0,47.0,40.0,65.0,64.0,52.0,41.0,66.0,69.0,56.0,54.0,60.0,49.0,60.0,65.0,55.0,54.0,60.0,46.0,62.0,49.0,52.0,46.0,57.0,50.0,68.0,50.0,50.0,48.0,48.0,63.0,67.0,56.0,47.0,55.0,40.0,69.0,41.0,41.0,49.0,69.0,54.0,52.0,54.0,57.0,42.0,37.0,45.0,56.0,54.0,55.0,57.0,51.0,48.0,58.0,57.0,62.0,55.0,60.0,65.0,66.0,60.0,58.0,66.0,66.0,69.0,49.0,67.0,53.0,39.0,56.0,62.0,47.0,37.0,56.0,53.0,53.0,48.0,54.0,41.0,32.0,44.0,46.0,47.0,58.0,63.0,67.0,55.0,51.0,44.0,51.0,63.0,66.0,45.0,63.0,60.0,50.0,67.0,56.0,52.0,53.0,57.0,65.0,66.0,47.0,44.0,62.0,50.0,68.0,47.0,52.0,69.0,61.0,54.0,37.0,58.0,58.0,40.0,66.0,69.0,47.0,44.0,61.0,42.0,34.0,59.0,55.0,59.0,51.0,49.0,68.0,62.0,56.0,64.0,44.0,45.0,35.0,56.0,50.0,45.0,61.0,57.0,50.0,43.0,60.0,69.0,40.0,69.0,62.0,59.0,36.0,54.0,59.0,65.0,39.0,65.0,54.0,59.0,52.0,50.0,62.0,58.0,53.0,57.0,59.0,55.0,49.0,49.0,54.0,53.0,58.0,62.0,67.0,61.0,47.0,48.0,60.0,62.0,50.0,51.0,57.0,64.0,64.0,62.0,49.0,51.0,68.0,51.0,47.0,40.0,66.0,68.0,56.0,46.0,68.0,38.0,44.0,46.0,56.0,39.0,54.0,47.0,64.0,48.0,57.0,53.0,41.0,44.0,54.0,57.0,39.0,64.0,59.0,63.0,65.0,47.0,41.0,61.0,64.0,54.0,48.0,48.0,39.0,50.0,54.0,58.0,56.0,62.0,40.0,54.0,47.0,67.0,48.0,68.0,66.0,63.0,62.0,62.0,57.0,66.0,68.0,55.0,66.0,67.0,55.0,49.0,38.0,52.0,65.0,61.0,51.0,55.0,54.0,61.0,39.0,61.0,51.0,42.0,57.0,51.0,62.0,69.0,35.0,68.0,53.0,31.0,55.0,57.0,66.0,58.0,68.0,41.0,44.0,60.0,53.0,59.0,62.0,51.0,68.0,40.0,65.0,54.0,46.0,64.0,62.0,56.0,68.0,58.0,46.0],\"xaxis\":\"x\",\"yaxis\":\"y\",\"type\":\"histogram\"}],                        {\"template\":{\"data\":{\"histogram2dcontour\":[{\"type\":\"histogram2dcontour\",\"colorbar\":{\"outlinewidth\":0,\"ticks\":\"\"},\"colorscale\":[[0.0,\"#0d0887\"],[0.1111111111111111,\"#46039f\"],[0.2222222222222222,\"#7201a8\"],[0.3333333333333333,\"#9c179e\"],[0.4444444444444444,\"#bd3786\"],[0.5555555555555556,\"#d8576b\"],[0.6666666666666666,\"#ed7953\"],[0.7777777777777778,\"#fb9f3a\"],[0.8888888888888888,\"#fdca26\"],[1.0,\"#f0f921\"]]}],\"choropleth\":[{\"type\":\"choropleth\",\"colorbar\":{\"outlinewidth\":0,\"ticks\":\"\"}}],\"histogram2d\":[{\"type\":\"histogram2d\",\"colorbar\":{\"outlinewidth\":0,\"ticks\":\"\"},\"colorscale\":[[0.0,\"#0d0887\"],[0.1111111111111111,\"#46039f\"],[0.2222222222222222,\"#7201a8\"],[0.3333333333333333,\"#9c179e\"],[0.4444444444444444,\"#bd3786\"],[0.5555555555555556,\"#d8576b\"],[0.6666666666666666,\"#ed7953\"],[0.7777777777777778,\"#fb9f3a\"],[0.8888888888888888,\"#fdca26\"],[1.0,\"#f0f921\"]]}],\"heatmap\":[{\"type\":\"heatmap\",\"colorbar\":{\"outlinewidth\":0,\"ticks\":\"\"},\"colorscale\":[[0.0,\"#0d0887\"],[0.1111111111111111,\"#46039f\"],[0.2222222222222222,\"#7201a8\"],[0.3333333333333333,\"#9c179e\"],[0.4444444444444444,\"#bd3786\"],[0.5555555555555556,\"#d8576b\"],[0.6666666666666666,\"#ed7953\"],[0.7777777777777778,\"#fb9f3a\"],[0.8888888888888888,\"#fdca26\"],[1.0,\"#f0f921\"]]}],\"heatmapgl\":[{\"type\":\"heatmapgl\",\"colorbar\":{\"outlinewidth\":0,\"ticks\":\"\"},\"colorscale\":[[0.0,\"#0d0887\"],[0.1111111111111111,\"#46039f\"],[0.2222222222222222,\"#7201a8\"],[0.3333333333333333,\"#9c179e\"],[0.4444444444444444,\"#bd3786\"],[0.5555555555555556,\"#d8576b\"],[0.6666666666666666,\"#ed7953\"],[0.7777777777777778,\"#fb9f3a\"],[0.8888888888888888,\"#fdca26\"],[1.0,\"#f0f921\"]]}],\"contourcarpet\":[{\"type\":\"contourcarpet\",\"colorbar\":{\"outlinewidth\":0,\"ticks\":\"\"}}],\"contour\":[{\"type\":\"contour\",\"colorbar\":{\"outlinewidth\":0,\"ticks\":\"\"},\"colorscale\":[[0.0,\"#0d0887\"],[0.1111111111111111,\"#46039f\"],[0.2222222222222222,\"#7201a8\"],[0.3333333333333333,\"#9c179e\"],[0.4444444444444444,\"#bd3786\"],[0.5555555555555556,\"#d8576b\"],[0.6666666666666666,\"#ed7953\"],[0.7777777777777778,\"#fb9f3a\"],[0.8888888888888888,\"#fdca26\"],[1.0,\"#f0f921\"]]}],\"surface\":[{\"type\":\"surface\",\"colorbar\":{\"outlinewidth\":0,\"ticks\":\"\"},\"colorscale\":[[0.0,\"#0d0887\"],[0.1111111111111111,\"#46039f\"],[0.2222222222222222,\"#7201a8\"],[0.3333333333333333,\"#9c179e\"],[0.4444444444444444,\"#bd3786\"],[0.5555555555555556,\"#d8576b\"],[0.6666666666666666,\"#ed7953\"],[0.7777777777777778,\"#fb9f3a\"],[0.8888888888888888,\"#fdca26\"],[1.0,\"#f0f921\"]]}],\"mesh3d\":[{\"type\":\"mesh3d\",\"colorbar\":{\"outlinewidth\":0,\"ticks\":\"\"}}],\"scatter\":[{\"fillpattern\":{\"fillmode\":\"overlay\",\"size\":10,\"solidity\":0.2},\"type\":\"scatter\"}],\"parcoords\":[{\"type\":\"parcoords\",\"line\":{\"colorbar\":{\"outlinewidth\":0,\"ticks\":\"\"}}}],\"scatterpolargl\":[{\"type\":\"scatterpolargl\",\"marker\":{\"colorbar\":{\"outlinewidth\":0,\"ticks\":\"\"}}}],\"bar\":[{\"error_x\":{\"color\":\"#2a3f5f\"},\"error_y\":{\"color\":\"#2a3f5f\"},\"marker\":{\"line\":{\"color\":\"#E5ECF6\",\"width\":0.5},\"pattern\":{\"fillmode\":\"overlay\",\"size\":10,\"solidity\":0.2}},\"type\":\"bar\"}],\"scattergeo\":[{\"type\":\"scattergeo\",\"marker\":{\"colorbar\":{\"outlinewidth\":0,\"ticks\":\"\"}}}],\"scatterpolar\":[{\"type\":\"scatterpolar\",\"marker\":{\"colorbar\":{\"outlinewidth\":0,\"ticks\":\"\"}}}],\"histogram\":[{\"marker\":{\"pattern\":{\"fillmode\":\"overlay\",\"size\":10,\"solidity\":0.2}},\"type\":\"histogram\"}],\"scattergl\":[{\"type\":\"scattergl\",\"marker\":{\"colorbar\":{\"outlinewidth\":0,\"ticks\":\"\"}}}],\"scatter3d\":[{\"type\":\"scatter3d\",\"line\":{\"colorbar\":{\"outlinewidth\":0,\"ticks\":\"\"}},\"marker\":{\"colorbar\":{\"outlinewidth\":0,\"ticks\":\"\"}}}],\"scattermapbox\":[{\"type\":\"scattermapbox\",\"marker\":{\"colorbar\":{\"outlinewidth\":0,\"ticks\":\"\"}}}],\"scatterternary\":[{\"type\":\"scatterternary\",\"marker\":{\"colorbar\":{\"outlinewidth\":0,\"ticks\":\"\"}}}],\"scattercarpet\":[{\"type\":\"scattercarpet\",\"marker\":{\"colorbar\":{\"outlinewidth\":0,\"ticks\":\"\"}}}],\"carpet\":[{\"aaxis\":{\"endlinecolor\":\"#2a3f5f\",\"gridcolor\":\"white\",\"linecolor\":\"white\",\"minorgridcolor\":\"white\",\"startlinecolor\":\"#2a3f5f\"},\"baxis\":{\"endlinecolor\":\"#2a3f5f\",\"gridcolor\":\"white\",\"linecolor\":\"white\",\"minorgridcolor\":\"white\",\"startlinecolor\":\"#2a3f5f\"},\"type\":\"carpet\"}],\"table\":[{\"cells\":{\"fill\":{\"color\":\"#EBF0F8\"},\"line\":{\"color\":\"white\"}},\"header\":{\"fill\":{\"color\":\"#C8D4E3\"},\"line\":{\"color\":\"white\"}},\"type\":\"table\"}],\"barpolar\":[{\"marker\":{\"line\":{\"color\":\"#E5ECF6\",\"width\":0.5},\"pattern\":{\"fillmode\":\"overlay\",\"size\":10,\"solidity\":0.2}},\"type\":\"barpolar\"}],\"pie\":[{\"automargin\":true,\"type\":\"pie\"}]},\"layout\":{\"autotypenumbers\":\"strict\",\"colorway\":[\"#636efa\",\"#EF553B\",\"#00cc96\",\"#ab63fa\",\"#FFA15A\",\"#19d3f3\",\"#FF6692\",\"#B6E880\",\"#FF97FF\",\"#FECB52\"],\"font\":{\"color\":\"#2a3f5f\"},\"hovermode\":\"closest\",\"hoverlabel\":{\"align\":\"left\"},\"paper_bgcolor\":\"white\",\"plot_bgcolor\":\"#E5ECF6\",\"polar\":{\"bgcolor\":\"#E5ECF6\",\"angularaxis\":{\"gridcolor\":\"white\",\"linecolor\":\"white\",\"ticks\":\"\"},\"radialaxis\":{\"gridcolor\":\"white\",\"linecolor\":\"white\",\"ticks\":\"\"}},\"ternary\":{\"bgcolor\":\"#E5ECF6\",\"aaxis\":{\"gridcolor\":\"white\",\"linecolor\":\"white\",\"ticks\":\"\"},\"baxis\":{\"gridcolor\":\"white\",\"linecolor\":\"white\",\"ticks\":\"\"},\"caxis\":{\"gridcolor\":\"white\",\"linecolor\":\"white\",\"ticks\":\"\"}},\"coloraxis\":{\"colorbar\":{\"outlinewidth\":0,\"ticks\":\"\"}},\"colorscale\":{\"sequential\":[[0.0,\"#0d0887\"],[0.1111111111111111,\"#46039f\"],[0.2222222222222222,\"#7201a8\"],[0.3333333333333333,\"#9c179e\"],[0.4444444444444444,\"#bd3786\"],[0.5555555555555556,\"#d8576b\"],[0.6666666666666666,\"#ed7953\"],[0.7777777777777778,\"#fb9f3a\"],[0.8888888888888888,\"#fdca26\"],[1.0,\"#f0f921\"]],\"sequentialminus\":[[0.0,\"#0d0887\"],[0.1111111111111111,\"#46039f\"],[0.2222222222222222,\"#7201a8\"],[0.3333333333333333,\"#9c179e\"],[0.4444444444444444,\"#bd3786\"],[0.5555555555555556,\"#d8576b\"],[0.6666666666666666,\"#ed7953\"],[0.7777777777777778,\"#fb9f3a\"],[0.8888888888888888,\"#fdca26\"],[1.0,\"#f0f921\"]],\"diverging\":[[0,\"#8e0152\"],[0.1,\"#c51b7d\"],[0.2,\"#de77ae\"],[0.3,\"#f1b6da\"],[0.4,\"#fde0ef\"],[0.5,\"#f7f7f7\"],[0.6,\"#e6f5d0\"],[0.7,\"#b8e186\"],[0.8,\"#7fbc41\"],[0.9,\"#4d9221\"],[1,\"#276419\"]]},\"xaxis\":{\"gridcolor\":\"white\",\"linecolor\":\"white\",\"ticks\":\"\",\"title\":{\"standoff\":15},\"zerolinecolor\":\"white\",\"automargin\":true,\"zerolinewidth\":2},\"yaxis\":{\"gridcolor\":\"white\",\"linecolor\":\"white\",\"ticks\":\"\",\"title\":{\"standoff\":15},\"zerolinecolor\":\"white\",\"automargin\":true,\"zerolinewidth\":2},\"scene\":{\"xaxis\":{\"backgroundcolor\":\"#E5ECF6\",\"gridcolor\":\"white\",\"linecolor\":\"white\",\"showbackground\":true,\"ticks\":\"\",\"zerolinecolor\":\"white\",\"gridwidth\":2},\"yaxis\":{\"backgroundcolor\":\"#E5ECF6\",\"gridcolor\":\"white\",\"linecolor\":\"white\",\"showbackground\":true,\"ticks\":\"\",\"zerolinecolor\":\"white\",\"gridwidth\":2},\"zaxis\":{\"backgroundcolor\":\"#E5ECF6\",\"gridcolor\":\"white\",\"linecolor\":\"white\",\"showbackground\":true,\"ticks\":\"\",\"zerolinecolor\":\"white\",\"gridwidth\":2}},\"shapedefaults\":{\"line\":{\"color\":\"#2a3f5f\"}},\"annotationdefaults\":{\"arrowcolor\":\"#2a3f5f\",\"arrowhead\":0,\"arrowwidth\":1},\"geo\":{\"bgcolor\":\"white\",\"landcolor\":\"#E5ECF6\",\"subunitcolor\":\"white\",\"showland\":true,\"showlakes\":true,\"lakecolor\":\"white\"},\"title\":{\"x\":0.05},\"mapbox\":{\"style\":\"light\"}}},\"xaxis\":{\"anchor\":\"y\",\"domain\":[0.0,1.0],\"title\":{\"text\":\"Age\"}},\"yaxis\":{\"anchor\":\"x\",\"domain\":[0.0,1.0],\"title\":{\"text\":\"count\"}},\"legend\":{\"tracegroupgap\":0},\"margin\":{\"t\":60},\"barmode\":\"relative\"},                        {\"responsive\": true}                    ).then(function(){\n",
              "                            \n",
              "var gd = document.getElementById('75ad638e-c752-41d1-841f-efe8547d16fb');\n",
              "var x = new MutationObserver(function (mutations, observer) {{\n",
              "        var display = window.getComputedStyle(gd).display;\n",
              "        if (!display || display === 'none') {{\n",
              "            console.log([gd, 'removed!']);\n",
              "            Plotly.purge(gd);\n",
              "            observer.disconnect();\n",
              "        }}\n",
              "}});\n",
              "\n",
              "// Listen for the removal of the full notebook cells\n",
              "var notebookContainer = gd.closest('#notebook-container');\n",
              "if (notebookContainer) {{\n",
              "    x.observe(notebookContainer, {childList: true});\n",
              "}}\n",
              "\n",
              "// Listen for the clearing of the current output cell\n",
              "var outputEl = gd.closest('.output');\n",
              "if (outputEl) {{\n",
              "    x.observe(outputEl, {childList: true});\n",
              "}}\n",
              "\n",
              "                        })                };                            </script>        </div>\n",
              "</body>\n",
              "</html>"
            ]
          },
          "metadata": {}
        },
        {
          "output_type": "display_data",
          "data": {
            "text/html": [
              "<html>\n",
              "<head><meta charset=\"utf-8\" /></head>\n",
              "<body>\n",
              "    <div>            <script src=\"https://cdnjs.cloudflare.com/ajax/libs/mathjax/2.7.5/MathJax.js?config=TeX-AMS-MML_SVG\"></script><script type=\"text/javascript\">if (window.MathJax && window.MathJax.Hub && window.MathJax.Hub.Config) {window.MathJax.Hub.Config({SVG: {font: \"STIX-Web\"}});}</script>                <script type=\"text/javascript\">window.PlotlyConfig = {MathJaxConfig: 'local'};</script>\n",
              "        <script charset=\"utf-8\" src=\"https://cdn.plot.ly/plotly-2.35.2.min.js\"></script>                <div id=\"eacbaa10-f48f-40a6-9dab-d76b23a5f76a\" class=\"plotly-graph-div\" style=\"height:525px; width:100%;\"></div>            <script type=\"text/javascript\">                                    window.PLOTLYENV=window.PLOTLYENV || {};                                    if (document.getElementById(\"eacbaa10-f48f-40a6-9dab-d76b23a5f76a\")) {                    Plotly.newPlot(                        \"eacbaa10-f48f-40a6-9dab-d76b23a5f76a\",                        [{\"hovertemplate\":\"Age=%{x}\\u003cbr\\u003eindex=%{y}\\u003cextra\\u003e\\u003c\\u002fextra\\u003e\",\"legendgroup\":\"\",\"marker\":{\"color\":\"#636efa\",\"symbol\":\"circle\"},\"mode\":\"markers\",\"name\":\"\",\"showlegend\":false,\"x\":[68.0,50.0,58.0,58.0,47.0,51.0,51.0,40.0,40.0,69.0,68.0,46.0,65.0,48.0,62.0,61.0,56.0,43.0,48.0,60.0,48.0,57.0,55.0,48.0,62.0,63.0,48.0,46.0,57.0,66.0,47.0,53.0,59.0,60.0,46.0,51.0,54.0,51.0,49.0,51.0,57.0,64.0,62.0,53.0,55.0,66.0,42.0,62.0,54.0,69.0,37.0,69.0,54.0,63.0,57.0,55.0,62.0,50.0,50.0,55.0,56.0,51.0,42.0,59.0,67.0,46.0,31.0,40.0,58.0,52.0,54.0,64.0,31.0,66.0,67.0,56.0,66.0,42.0,51.0,68.0,53.0,67.0,66.0,53.0,51.0,46.0,48.0,52.0,55.0,65.0,53.0,33.0,63.0,45.0,59.0,60.0,50.0,61.0,50.0,68.0,38.0,47.0,39.0,57.0,52.0,60.0,54.0,68.0,38.0,63.0,61.0,37.0,46.0,45.0,54.0,53.0,50.0,69.0,48.0,53.0,67.0,43.0,50.0,59.0,53.0,62.0,39.0,59.0,56.0,45.0,60.0,50.0,58.0,50.0,55.0,37.0,46.0,65.0,61.0,52.0,54.0,36.0,180.0,62.0,54.0,61.0,46.0,38.0,66.0,59.0,38.0,67.0,60.0,61.0,67.0,69.0,47.0,39.0,53.0,55.0,59.0,53.0,59.0,57.0,61.0,68.0,54.0,37.0,48.0,53.0,69.0,63.0,49.0,63.0,60.0,41.0,59.0,43.0,52.0,61.0,60.0,61.0,63.0,48.0,51.0,66.0,68.0,58.0,62.0,46.0,58.0,60.0,62.0,53.0,42.0,63.0,55.0,50.0,52.0,47.0,55.0,60.0,66.0,50.0,64.0,67.0,56.0,60.0,56.0,48.0,44.0,37.0,-50.0,63.0,54.0,63.0,44.0,68.0,64.0,50.0,55.0,66.0,46.0,43.0,43.0,43.0,59.0,55.0,61.0,66.0,55.0,65.0,69.0,59.0,63.0,68.0,48.0,61.0,43.0,44.0,47.0,52.0,69.0,39.0,43.0,64.0,66.0,45.0,37.0,50.0,40.0,52.0,54.0,32.0,65.0,67.0,57.0,63.0,42.0,57.0,42.0,46.0,47.0,67.0,67.0,65.0,65.0,33.0,64.0,66.0,34.0,55.0,47.0,58.0,38.0,57.0,65.0,52.0,67.0,57.0,61.0,45.0,50.0,50.0,53.0,54.0,58.0,56.0,68.0,41.0,61.0,65.0,69.0,43.0,47.0,67.0,45.0,65.0,53.0,67.0,43.0,47.0,48.0,62.0,68.0,57.0,40.0,56.0,52.0,40.0,51.0,67.0,54.0,56.0,48.0,57.0,47.0,54.0,41.0,65.0,58.0,38.0,38.0,60.0,58.0,63.0,53.0,43.0,60.0,60.0,47.0,48.0,59.0,56.0,53.0,48.0,52.0,61.0,66.0,45.0,52.0,67.0,40.0,50.0,65.0,55.0,47.0,49.0,53.0,53.0,44.0,54.0,51.0,46.0,47.0,68.0,50.0,67.0,47.0,68.0,55.0,47.0,56.0,51.0,41.0,67.0,58.0,67.0,63.0,69.0,59.0,54.0,65.0,48.0,39.0,55.0,50.0,39.0,49.0,58.0,34.0,49.0,52.0,62.0,55.0,57.0,40.0,52.0,63.0,57.0,40.0,55.0,42.0,52.0,39.0,53.0,47.0,37.0,63.0,54.0,50.0,56.0,56.0,52.0,38.0,57.0,56.0,54.0,54.0,69.0,62.0,63.0,46.0,47.0,55.0,40.0,47.0,52.0,65.0,63.0,57.0,45.0,62.0,54.0,65.0,64.0,47.0,63.0,66.0,69.0,48.0,60.0,61.0,61.0,43.0,49.0,63.0,61.0,61.0,69.0,66.0,39.0,52.0,49.0,55.0,62.0,42.0,50.0,52.0,38.0,39.0,57.0,62.0,55.0,47.0,68.0,50.0,42.0,54.0,42.0,46.0,50.0,62.0,58.0,53.0,46.0,38.0,40.0,60.0,63.0,49.0,57.0,48.0,46.0,61.0,61.0,53.0,53.0,42.0,57.0,56.0,48.0,59.0,57.0,56.0,64.0,50.0,40.0,40.0,52.0,59.0,53.0,54.0,61.0,54.0,41.0,57.0,40.0,63.0,62.0,62.0,42.0,47.0,53.0,64.0,51.0,56.0,50.0,66.0,56.0,46.0,66.0,57.0,55.0,32.0,58.0,63.0,48.0,64.0,44.0,57.0,61.0,502.0,45.0,52.0,67.0,45.0,63.0,56.0,46.0,53.0,62.0,47.0,39.0,33.0,56.0,55.0,69.0,58.0,42.0,58.0,51.0,64.0,62.0,52.0,43.0,65.0,59.0,62.0,51.0,57.0,46.0,40.0,49.0,46.0,40.0,49.0,61.0,56.0,50.0,55.0,60.0,34.0,51.0,53.0,58.0,61.0,48.0,63.0,56.0,66.0,64.0,49.0,56.0,67.0,42.0,47.0,60.0,43.0,42.0,60.0,52.0,63.0,60.0,61.0,58.0,52.0,64.0,68.0,47.0,51.0,53.0,63.0,50.0,45.0,68.0,46.0,54.0,65.0,51.0,45.0,45.0,57.0,35.0,54.0,68.0,58.0,48.0,59.0,47.0,52.0,46.0,34.0,34.0,36.0,40.0,38.0,61.0,37.0,60.0,38.0,56.0,49.0,65.0,61.0,69.0,53.0,61.0,47.0,62.0,62.0,41.0,41.0,48.0,48.0,54.0,63.0,44.0,51.0,55.0,49.0,64.0,63.0,46.0,46.0,61.0,52.0,62.0,52.0,39.0,36.0,64.0,55.0,65.0,45.0,68.0,57.0,44.0,51.0,50.0,52.0,53.0,49.0,65.0,67.0,63.0,43.0,57.0,63.0,52.0,61.0,58.0,62.0,56.0,48.0,64.0,67.0,57.0,41.0,62.0,51.0,65.0,51.0,46.0,46.0,48.0,43.0,59.0,49.0,56.0,53.0,58.0,51.0,55.0,54.0,34.0,42.0,45.0,46.0,62.0,49.0,38.0,30.0,68.0,59.0,49.0,57.0,49.0,65.0,47.0,40.0,45.0,54.0,55.0,57.0,67.0,51.0,54.0,52.0,63.0,48.0,49.0,46.0,46.0,46.0,65.0,69.0,59.0,48.0,43.0,55.0,59.0,67.0,69.0,54.0,69.0,60.0,45.0,48.0,60.0,49.0,33.0,60.0,68.0,67.0,50.0,46.0,39.0,55.0,59.0,32.0,63.0,53.0,54.0,50.0,45.0,46.0,46.0,67.0,58.0,60.0,55.0,46.0,62.0,59.0,59.0,44.0,69.0,43.0,63.0,43.0,36.0,63.0,60.0,56.0,44.0,69.0,50.0,55.0,65.0,47.0,62.0,60.0,62.0,62.0,63.0,61.0,55.0,66.0,69.0,60.0,61.0,51.0,49.0,58.0,60.0,48.0,63.0,40.0,69.0,67.0,41.0,67.0,45.0,66.0,55.0,48.0,58.0,61.0,59.0,51.0,44.0,59.0,58.0,43.0,52.0,57.0,52.0,56.0,69.0,49.0,64.0,48.0,41.0,51.0,45.0,53.0,47.0,60.0,62.0,50.0,55.0,60.0,65.0,64.0,64.0,67.0,57.0,38.0,52.0,36.0,49.0,89.0,64.0,61.0,68.0,56.0,47.0,31.0,55.0,62.0,48.0,46.0,62.0,61.0,56.0,65.0,38.0,57.0,62.0,57.0,63.0,62.0,49.0,31.0,67.0,39.0,48.0,38.0,47.0,47.0,53.0,46.0,38.0,52.0,46.0,61.0,38.0,50.0,40.0,51.0,61.0,42.0,63.0,64.0,66.0,42.0,51.0,45.0,46.0,55.0,49.0,65.0,58.0,47.0,65.0,67.0,39.0,59.0,38.0,41.0,65.0,52.0,49.0,58.0,55.0,64.0,53.0,39.0,54.0,67.0,65.0,45.0,63.0,56.0,38.0,47.0,46.0,66.0,51.0,63.0,43.0,49.0,69.0,51.0,49.0,44.0,45.0,64.0,60.0,60.0,60.0,53.0,63.0,53.0,53.0,46.0,65.0,30.0,43.0,61.0,67.0,42.0,68.0,58.0,57.0,43.0,39.0,53.0,55.0,66.0,58.0,41.0,50.0,39.0,37.0,46.0,55.0,42.0,53.0,66.0,55.0,48.0,49.0,60.0,61.0,63.0,61.0,47.0,53.0,45.0,62.0,47.0,40.0,63.0,42.0,47.0,51.0,51.0,56.0,64.0,49.0,66.0,60.0,60.0,53.0,63.0,61.0,45.0,47.0,55.0,35.0,55.0,60.0,31.0,51.0,58.0,50.0,48.0,57.0,69.0,57.0,44.0,60.0,56.0,55.0,68.0,42.0,47.0,59.0,65.0,32.0,49.0,60.0,55.0,64.0,43.0,61.0,42.0,58.0,51.0,68.0,58.0,62.0,66.0,52.0,69.0,64.0,66.0,62.0,55.0,55.0,57.0,54.0,67.0,62.0,66.0,56.0,64.0,67.0,41.0,65.0,51.0,49.0,56.0,44.0,56.0,48.0,54.0,62.0,53.0,45.0,50.0,54.0,32.0,65.0,63.0,67.0,62.0,67.0,42.0,60.0,48.0,60.0,69.0,54.0,56.0,48.0,45.0,59.0,59.0,49.0,64.0,47.0,46.0,63.0,61.0,65.0,64.0,53.0,42.0,49.0,66.0,36.0,46.0,53.0,62.0,55.0,53.0,57.0,58.0,68.0,41.0,69.0,61.0,46.0,60.0,63.0,45.0,60.0,50.0,64.0,51.0,58.0,63.0,61.0,49.0,57.0,51.0,60.0,66.0,50.0,53.0,33.0,45.0,57.0,52.0,52.0,58.0,60.0,59.0,43.0,47.0,52.0,63.0,51.0,63.0,49.0,61.0,64.0,57.0,58.0,55.0,54.0,67.0,57.0,37.0,61.0,46.0,31.0,59.0,50.0,59.0,41.0,64.0,60.0,68.0,46.0,43.0,49.0,56.0,60.0,67.0,67.0,50.0,68.0,66.0,40.0,45.0,61.0,68.0,59.0,65.0,50.0,62.0,59.0,56.0,46.0,41.0,45.0,44.0,47.0,66.0,56.0,49.0,64.0,66.0,45.0,65.0,54.0,48.0,49.0,40.0,64.0,61.0,61.0,55.0,43.0,63.0,48.0,46.0,63.0,43.0,46.0,35.0,68.0,47.0,43.0,57.0,64.0,61.0,44.0,50.0,49.0,67.0,46.0,51.0,58.0,46.0,59.0,53.0,62.0,57.0,51.0,69.0,47.0,57.0,55.0,52.0,45.0,39.0,56.0,45.0,41.0,63.0,68.0,64.0,49.0,68.0,46.0,59.0,40.0,47.0,53.0,59.0,50.0,47.0,46.0,46.0,67.0,51.0,65.0,56.0,68.0,57.0,49.0,48.0,67.0,64.0,53.0,42.0,50.0,56.0,53.0,59.0,67.0,45.0,45.0,49.0,65.0,45.0,56.0,60.0,57.0,54.0,50.0,63.0,41.0,51.0,65.0,59.0,66.0,41.0,66.0,67.0,40.0,39.0,66.0,58.0,45.0,65.0,43.0,57.0,47.0,44.0,46.0,64.0,59.0,51.0,66.0,46.0,52.0,49.0,42.0,63.0,66.0,48.0,66.0,41.0,61.0,55.0,62.0,35.0,59.0,54.0,64.0,64.0,38.0,60.0,55.0,41.0,67.0,53.0,53.0,34.0,39.0,31.0,64.0,40.0,59.0,55.0,46.0,58.0,66.0,56.0,47.0,39.0,46.0,62.0,46.0,60.0,36.0,51.0,60.0,63.0,65.0,59.0,50.0,53.0,46.0,46.0,46.0,47.0,61.0,52.0,57.0,59.0,63.0,48.0,59.0,58.0,47.0,56.0,44.0,44.0,33.0,54.0,45.0,60.0,62.0,53.0,41.0,39.0,44.0,57.0,33.0,68.0,49.0,50.0,60.0,50.0,40.0,46.0,49.0,69.0,54.0,51.0,51.0,68.0,41.0,58.0,62.0,42.0,46.0,54.0,54.0,47.0,66.0,42.0,55.0,60.0,52.0,61.0,48.0,58.0,44.0,43.0,53.0,48.0,63.0,64.0,39.0,59.0,51.0,39.0,56.0,51.0,49.0,68.0,51.0,54.0,64.0,43.0,39.0,69.0,66.0,55.0,69.0,51.0,57.0,63.0,55.0,55.0,59.0,61.0,49.0,60.0,50.0,61.0,47.0,55.0,57.0,53.0,44.0,63.0,62.0,43.0,69.0,46.0,53.0,40.0,63.0,64.0,57.0,43.0,60.0,42.0,40.0,43.0,57.0,68.0,65.0,60.0,67.0,39.0,59.0,52.0,58.0,48.0,61.0,34.0,56.0,59.0,52.0,57.0,67.0,65.0,48.0,64.0,64.0,57.0,47.0,49.0,40.0,57.0,47.0,63.0,43.0,66.0,66.0,44.0,64.0,45.0,68.0,55.0,54.0,66.0,59.0,61.0,58.0,51.0,68.0,41.0,59.0,64.0,63.0,65.0,51.0,66.0,35.0,42.0,49.0,47.0,66.0,49.0,47.0,45.0,55.0,63.0,51.0,59.0,43.0,59.0,55.0,49.0,45.0,41.0,63.0,41.0,59.0,62.0,65.0,47.0,67.0,53.0,46.0,56.0,63.0,67.0,63.0,47.0,63.0,48.0,61.0,39.0,68.0,51.0,69.0,39.0,48.0,30.0,40.0,39.0,44.0,58.0,38.0,47.0,59.0,53.0,41.0,52.0,54.0,51.0,41.0,58.0,49.0,58.0,42.0,68.0,35.0,46.0,53.0,40.0,66.0,62.0,53.0,37.0,53.0,50.0,64.0,66.0,65.0,64.0,49.0,53.0,50.0,61.0,57.0,62.0,52.0,47.0,64.0,34.0,61.0,61.0,58.0,52.0,50.0,66.0,66.0,43.0,41.0,56.0,53.0,53.0,43.0,64.0,51.0,58.0,68.0,66.0,51.0,55.0,62.0,62.0,42.0,55.0,59.0,66.0,57.0,46.0,64.0,65.0,48.0,40.0,54.0,60.0,63.0,61.0,69.0,45.0,45.0,49.0,69.0,42.0,54.0,64.0,49.0,44.0,52.0,47.0,59.0,67.0,63.0,68.0,52.0,61.0,39.0,66.0,53.0,51.0,40.0,56.0,33.0,67.0,55.0,45.0,60.0,47.0,45.0,56.0,41.0,65.0,66.0,52.0,55.0,57.0,49.0,48.0,31.0,59.0,43.0,45.0,61.0,31.0,47.0,32.0,49.0,54.0,51.0,47.0,53.0,40.0,59.0,65.0,47.0,59.0,39.0,54.0,36.0,46.0,41.0,62.0,45.0,41.0,43.0,69.0,56.0,62.0,65.0,32.0,66.0,62.0,32.0,32.0,50.0,53.0,60.0,59.0,46.0,49.0,39.0,50.0,59.0,60.0,63.0,61.0,63.0,49.0,42.0,46.0,51.0,43.0,49.0,45.0,46.0,69.0,50.0,66.0,43.0,56.0,37.0,52.0,53.0,55.0,43.0,52.0,61.0,45.0,42.0,50.0,66.0,62.0,67.0,60.0,57.0,69.0,60.0,48.0,50.0,53.0,63.0,52.0,57.0,55.0,63.0,51.0,46.0,50.0,56.0,57.0,31.0,59.0,53.0,66.0,46.0,67.0,61.0,42.0,36.0,49.0,68.0,55.0,68.0,52.0,63.0,45.0,53.0,46.0,59.0,53.0,53.0,42.0,53.0,51.0,40.0,44.0,60.0,63.0,66.0,57.0,58.0,61.0,46.0,59.0,57.0,55.0,61.0,44.0,55.0,53.0,69.0,55.0,38.0,48.0,67.0,51.0,55.0,47.0,37.0,54.0,61.0,50.0,54.0,47.0,62.0,57.0,59.0,49.0,45.0,69.0,55.0,69.0,45.0,57.0,54.0,49.0,56.0,69.0,60.0,35.0,58.0,69.0,65.0,67.0,51.0,40.0,33.0,56.0,59.0,61.0,46.0,67.0,69.0,52.0,41.0,57.0,54.0,60.0,36.0,52.0,35.0,57.0,68.0,64.0,49.0,57.0,49.0,53.0,52.0,46.0,54.0,60.0,46.0,66.0,55.0,47.0,49.0,44.0,49.0,60.0,46.0,49.0,50.0,49.0,51.0,52.0,46.0,68.0,48.0,48.0,53.0,54.0,50.0,56.0,56.0,54.0,45.0,55.0,64.0,46.0,56.0,58.0,45.0,30.0,67.0,46.0,49.0,63.0,49.0,67.0,60.0,46.0,37.0,65.0,43.0,61.0,64.0,52.0,43.0,67.0,51.0,69.0,67.0,59.0,50.0,65.0,47.0,51.0,46.0,53.0,57.0,53.0,63.0,60.0,47.0,46.0,43.0,46.0,60.0,53.0,62.0,47.0,65.0,59.0,61.0,69.0,55.0,53.0,54.0,49.0,61.0,62.0,40.0,45.0,47.0,59.0,42.0,66.0,34.0,65.0,43.0,50.0,56.0,61.0,55.0,45.0,52.0,42.0,65.0,65.0,39.0,44.0,50.0,67.0,61.0,61.0,60.0,64.0,45.0,60.0,56.0,49.0,51.0,61.0,53.0,59.0,38.0,64.0,53.0,67.0,69.0,63.0,58.0,44.0,67.0,53.0,48.0,58.0,47.0,68.0,69.0,60.0,60.0,50.0,50.0,59.0,63.0,62.0,40.0,48.0,60.0,46.0,50.0,46.0,64.0,64.0,68.0,68.0,65.0,64.0,55.0,65.0,50.0,40.0,35.0,50.0,52.0,39.0,55.0,69.0,55.0,60.0,50.0,62.0,64.0,47.0,41.0,60.0,69.0,38.0,41.0,62.0,54.0,67.0,63.0,50.0,53.0,46.0,46.0,64.0,47.0,68.0,51.0,61.0,55.0,50.0,52.0,47.0,37.0,57.0,47.0,48.0,47.0,45.0,37.0,58.0,43.0,56.0,64.0,40.0,58.0,56.0,42.0,63.0,59.0,62.0,69.0,58.0,64.0,47.0,59.0,48.0,44.0,49.0,46.0,48.0,53.0,63.0,47.0,52.0,62.0,42.0,47.0,43.0,58.0,59.0,35.0,64.0,43.0,56.0,60.0,67.0,57.0,67.0,36.0,40.0,49.0,51.0,63.0,38.0,44.0,56.0,44.0,61.0,38.0,68.0,65.0,55.0,66.0,43.0,57.0,66.0,59.0,57.0,68.0,51.0,68.0,47.0,62.0,50.0,69.0,66.0,67.0,62.0,67.0,66.0,48.0,44.0,50.0,56.0,49.0,46.0,50.0,62.0,40.0,69.0,64.0,36.0,50.0,49.0,65.0,40.0,64.0,50.0,51.0,67.0,51.0,62.0,62.0,55.0,63.0,42.0,56.0,31.0,56.0,59.0,48.0,66.0,51.0,69.0,63.0,48.0,46.0,69.0,60.0,61.0,60.0,58.0,44.0,48.0,45.0,52.0,58.0,48.0,58.0,45.0,66.0,62.0,60.0,54.0,63.0,57.0,63.0,49.0,45.0,67.0,54.0,59.0,51.0,46.0,64.0,68.0,47.0,52.0,69.0,59.0,65.0,56.0,45.0,48.0,43.0,67.0,65.0,57.0,48.0,45.0,64.0,65.0,53.0,63.0,60.0,45.0,51.0,54.0,54.0,49.0,49.0,41.0,51.0,68.0,44.0,68.0,67.0,62.0,45.0,46.0,48.0,61.0,52.0,48.0,61.0,47.0,54.0,55.0,48.0,47.0,62.0,51.0,49.0,46.0,56.0,35.0,66.0,47.0,63.0,41.0,46.0,68.0,49.0,61.0,43.0,50.0,54.0,42.0,68.0,48.0,49.0,46.0,38.0,63.0,65.0,46.0,59.0,61.0,47.0,58.0,55.0,48.0,50.0,59.0,50.0,47.0,58.0,51.0,67.0,44.0,48.0,56.0,48.0,55.0,45.0,51.0,60.0,52.0,62.0,69.0,38.0,57.0,53.0,49.0,58.0,44.0,33.0,46.0,68.0,53.0,49.0,57.0,53.0,67.0,47.0,50.0,60.0,48.0,42.0,56.0,56.0,55.0,46.0,43.0,52.0,64.0,54.0,40.0,58.0,62.0,67.0,66.0,68.0,58.0,54.0,69.0,56.0,61.0,42.0,38.0,57.0,39.0,66.0,59.0,31.0,46.0,53.0,49.0,68.0,45.0,63.0,41.0,61.0,69.0,56.0,45.0,37.0,62.0,69.0,44.0,54.0,53.0,60.0,45.0,42.0,47.0,48.0,49.0,51.0,51.0,55.0,64.0,64.0,58.0,69.0,69.0,61.0,52.0,54.0,64.0,45.0,37.0,56.0,54.0,55.0,56.0,58.0,44.0,51.0,55.0,57.0,50.0,66.0,62.0,62.0,62.0,49.0,49.0,55.0,38.0,63.0,47.0,65.0,63.0,32.0,48.0,60.0,45.0,55.0,42.0,67.0,66.0,44.0,59.0,68.0,44.0,49.0,63.0,63.0,60.0,49.0,46.0,62.0,50.0,48.0,60.0,55.0,66.0,59.0,69.0,57.0,45.0,55.0,36.0,46.0,67.0,59.0,50.0,60.0,63.0,50.0,64.0,55.0,47.0,64.0,64.0,50.0,46.0,61.0,61.0,69.0,69.0,48.0,42.0,45.0,43.0,59.0,62.0,62.0,38.0,69.0,42.0,59.0,66.0,63.0,56.0,37.0,50.0,52.0,54.0,58.0,42.0,59.0,56.0,50.0,42.0,47.0,45.0,41.0,47.0,56.0,51.0,45.0,43.0,54.0,65.0,48.0,49.0,51.0,52.0,54.0,41.0,63.0,54.0,69.0,64.0,69.0,66.0,64.0,46.0,50.0,46.0,60.0,39.0,60.0,48.0,51.0,55.0,62.0,56.0,36.0,65.0,58.0,62.0,52.0,66.0,56.0,54.0,56.0,62.0,54.0,65.0,59.0,51.0,65.0,54.0,57.0,60.0,60.0,48.0,53.0,48.0,68.0,49.0,54.0,49.0,55.0,46.0,41.0,53.0,52.0,55.0,63.0,53.0,66.0,56.0,58.0,50.0,52.0,56.0,53.0,47.0,52.0,55.0,62.0,51.0,63.0,47.0,50.0,60.0,61.0,67.0,59.0,66.0,44.0,44.0,56.0,38.0,49.0,57.0,59.0,49.0,48.0,51.0,54.0,59.0,56.0,52.0,49.0,55.0,60.0,63.0,58.0,39.0,62.0,60.0,45.0,45.0,62.0,65.0,68.0,43.0,36.0,63.0,36.0,47.0,51.0,61.0,66.0,47.0,41.0,48.0,45.0,67.0,58.0,50.0,47.0,59.0,67.0,63.0,62.0,52.0,65.0,35.0,51.0,54.0,44.0,57.0,57.0,36.0,45.0,50.0,43.0,36.0,54.0,65.0,41.0,65.0,59.0,61.0,45.0,69.0,54.0,50.0,53.0,50.0,67.0,43.0,39.0,45.0,46.0,65.0,42.0,68.0,69.0,47.0,48.0,48.0,51.0,68.0,48.0,35.0,49.0,60.0,64.0,55.0,52.0,60.0,68.0,49.0,45.0,46.0,49.0,67.0,62.0,62.0,54.0,50.0,53.0,51.0,57.0,48.0,53.0,54.0,49.0,66.0,65.0,55.0,49.0,47.0,58.0,58.0,47.0,37.0,61.0,58.0,68.0,63.0,57.0,36.0,47.0,59.0,55.0,41.0,44.0,61.0,49.0,65.0,69.0,52.0,64.0,69.0,44.0,49.0,64.0,43.0,55.0,51.0,39.0,37.0,61.0,54.0,59.0,45.0,61.0,50.0,49.0,40.0,48.0,49.0,53.0,44.0,53.0,52.0,53.0,48.0,57.0,44.0,59.0,49.0,53.0,55.0,62.0,38.0,56.0,53.0,40.0,43.0,67.0,43.0,50.0,61.0,62.0,53.0,55.0,58.0,69.0,52.0,62.0,64.0,68.0,48.0,51.0,67.0,58.0,62.0,69.0,57.0,53.0,47.0,58.0,46.0,53.0,49.0,65.0,50.0,39.0,42.0,45.0,47.0,53.0,55.0,63.0,62.0,51.0,57.0,46.0,42.0,63.0,57.0,52.0,56.0,58.0,66.0,36.0,36.0,55.0,44.0,59.0,38.0,40.0,68.0,47.0,57.0,42.0,43.0,52.0,65.0,57.0,47.0,41.0,51.0,60.0,53.0,47.0,52.0,63.0,55.0,69.0,40.0,44.0,40.0,33.0,51.0,41.0,61.0,53.0,61.0,46.0,46.0,42.0,44.0,44.0,52.0,63.0,56.0,53.0,43.0,62.0,49.0,56.0,58.0,62.0,61.0,62.0,54.0,51.0,52.0,38.0,44.0,59.0,52.0,48.0,34.0,67.0,47.0,62.0,49.0,53.0,47.0,54.0,46.0,54.0,48.0,57.0,49.0,48.0,50.0,51.0,42.0,55.0,63.0,62.0,58.0,54.0,62.0,68.0,47.0,52.0,37.0,55.0,65.0,46.0,63.0,62.0,65.0,68.0,58.0,66.0,62.0,68.0,32.0,43.0,62.0,40.0,61.0,46.0,48.0,64.0,60.0,57.0,64.0,54.0,48.0,65.0,35.0,54.0,54.0,69.0,44.0,48.0,69.0,55.0,49.0,65.0,47.0,64.0,52.0,64.0,69.0,48.0,65.0,68.0,49.0,54.0,63.0,57.0,39.0,45.0,54.0,65.0,51.0,64.0,48.0,68.0,49.0,57.0,35.0,66.0,48.0,67.0,53.0,66.0,40.0,59.0,69.0,67.0,60.0,64.0,48.0,63.0,49.0,53.0,50.0,53.0,63.0,44.0,45.0,51.0,54.0,47.0,56.0,54.0,51.0,63.0,59.0,62.0,57.0,50.0,51.0,48.0,48.0,54.0,46.0,69.0,39.0,40.0,56.0,57.0,51.0,49.0,62.0,59.0,53.0,45.0,53.0,65.0,39.0,48.0,53.0,53.0,67.0,62.0,68.0,38.0,64.0,47.0,63.0,61.0,68.0,58.0,41.0,47.0,56.0,56.0,56.0,46.0,53.0,45.0,66.0,61.0,53.0,51.0,68.0,67.0,59.0,64.0,57.0,54.0,41.0,49.0,51.0,42.0,46.0,61.0,44.0,55.0,50.0,62.0,62.0,46.0,56.0,57.0,47.0,42.0,56.0,50.0,43.0,46.0,46.0,60.0,44.0,47.0,46.0,60.0,60.0,61.0,67.0,61.0,43.0,66.0,51.0,56.0,67.0,51.0,50.0,52.0,56.0,61.0,53.0,63.0,59.0,65.0,66.0,57.0,44.0,61.0,41.0,40.0,53.0,51.0,55.0,50.0,60.0,55.0,58.0,41.0,50.0,59.0,60.0,48.0,50.0,67.0,62.0,65.0,54.0,61.0,49.0,54.0,59.0,48.0,42.0,64.0,59.0,53.0,51.0,34.0,49.0,56.0,53.0,59.0,55.0,43.0,69.0,49.0,57.0,48.0,64.0,59.0,64.0,43.0,49.0,41.0,58.0,48.0,40.0,55.0,47.0,63.0,63.0,61.0,46.0,50.0,65.0,52.0,56.0,60.0,46.0,62.0,61.0,52.0,49.0,67.0,50.0,54.0,69.0,42.0,61.0,47.0,40.0,65.0,52.0,48.0,64.0,50.0,69.0,46.0,61.0,66.0,65.0,41.0,50.0,68.0,49.0,43.0,50.0,58.0,60.0,43.0,43.0,53.0,42.0,55.0,43.0,40.0,69.0,49.0,59.0,60.0,63.0,50.0,59.0,56.0,66.0,61.0,54.0,51.0,63.0,40.0,48.0,49.0,61.0,60.0,49.0,52.0,59.0,57.0,65.0,58.0,55.0,63.0,59.0,57.0,61.0,56.0,68.0,62.0,63.0,61.0,65.0,63.0,64.0,68.0,53.0,67.0,40.0,49.0,49.0,53.0,66.0,52.0,43.0,60.0,40.0,46.0,62.0,50.0,66.0,67.0,52.0,55.0,68.0,63.0,59.0,44.0,63.0,65.0,55.0,61.0,59.0,66.0,60.0,63.0,49.0,52.0,33.0,69.0,51.0,48.0,47.0,43.0,54.0,46.0,68.0,62.0,69.0,59.0,48.0,61.0,46.0,51.0,58.0,49.0,43.0,54.0,46.0,47.0,58.0,60.0,38.0,47.0,58.0,45.0,46.0,42.0,67.0,64.0,67.0,50.0,48.0,57.0,56.0,62.0,55.0,58.0,57.0,65.0,45.0,39.0,56.0,51.0,66.0,58.0,57.0,60.0,48.0,63.0,42.0,40.0,67.0,66.0,42.0,49.0,53.0,51.0,48.0,67.0,50.0,48.0,37.0,55.0,49.0,63.0,55.0,64.0,51.0,47.0,64.0,42.0,50.0,41.0,43.0,56.0,59.0,68.0,54.0,53.0,63.0,58.0,50.0,49.0,57.0,56.0,60.0,63.0,47.0,50.0,54.0,53.0,49.0,46.0,56.0,68.0,43.0,46.0,62.0,66.0,68.0,54.0,30.0,62.0,48.0,65.0,51.0,65.0,67.0,42.0,68.0,32.0,53.0,49.0,50.0,55.0,47.0,67.0,42.0,60.0,62.0,59.0,67.0,44.0,49.0,67.0,67.0,64.0,43.0,69.0,55.0,46.0,47.0,60.0,47.0,58.0,66.0,61.0,33.0,55.0,41.0,50.0,63.0,47.0,57.0,42.0,33.0,57.0,56.0,47.0,63.0,53.0,42.0,50.0,44.0,58.0,65.0,44.0,59.0,57.0,57.0,53.0,44.0,46.0,59.0,62.0,48.0,44.0,62.0,65.0,58.0,47.0,42.0,49.0,57.0,44.0,66.0,53.0,45.0,47.0,49.0,47.0,49.0,57.0,59.0,61.0,58.0,48.0,48.0,50.0,48.0,67.0,51.0,50.0,69.0,63.0,52.0,57.0,46.0,63.0,68.0,62.0,38.0,58.0,48.0,49.0,41.0,62.0,46.0,66.0,47.0,51.0,53.0,65.0,53.0,57.0,53.0,49.0,67.0,51.0,55.0,55.0,59.0,65.0,42.0,50.0,52.0,59.0,55.0,46.0,51.0,47.0,62.0,56.0,63.0,48.0,59.0,67.0,35.0,55.0,59.0,61.0,48.0,66.0,49.0,58.0,58.0,55.0,57.0,60.0,54.0,35.0,69.0,55.0,63.0,52.0,49.0,68.0,48.0,61.0,68.0,43.0,62.0,57.0,65.0,66.0,58.0,49.0,62.0,54.0,47.0,46.0,52.0,51.0,60.0,59.0,64.0,46.0,59.0,56.0,68.0,65.0,53.0,66.0,41.0,53.0,63.0,65.0,50.0,62.0,52.0,65.0,43.0,63.0,64.0,69.0,65.0,43.0,66.0,48.0,57.0,60.0,59.0,59.0,44.0,54.0,55.0,62.0,65.0,55.0,63.0,41.0,58.0,68.0,54.0,43.0,40.0,62.0,49.0,54.0,66.0,47.0,52.0,56.0,50.0,57.0,45.0,69.0,41.0,55.0,59.0,67.0,53.0,61.0,45.0,61.0,69.0,43.0,61.0,51.0,61.0,57.0,58.0,52.0,43.0,63.0,65.0,35.0,51.0,50.0,50.0,51.0,68.0,51.0,38.0,54.0,51.0,69.0,62.0,52.0,59.0,61.0,43.0,61.0,68.0,50.0,60.0,47.0,60.0,60.0,47.0,65.0,64.0,45.0,57.0,47.0,65.0,60.0,59.0,41.0,50.0,64.0,59.0,58.0,46.0,69.0,60.0,69.0,54.0,47.0,46.0,47.0,61.0,55.0,49.0,49.0,51.0,47.0,68.0,58.0,56.0,59.0,51.0,51.0,37.0,67.0,44.0,68.0,57.0,66.0,65.0,52.0,47.0,43.0,53.0,56.0,49.0,46.0,41.0,38.0,54.0,58.0,54.0,44.0,59.0,63.0,57.0,49.0,56.0,41.0,55.0,58.0,64.0,44.0,51.0,67.0,57.0,54.0,55.0,61.0,39.0,57.0,50.0,56.0,42.0,51.0,46.0,42.0,38.0,45.0,56.0,46.0,61.0,46.0,48.0,60.0,66.0,49.0,46.0,39.0,61.0,46.0,52.0,60.0,42.0,47.0,42.0,43.0,63.0,55.0,52.0,40.0,38.0,33.0,59.0,63.0,44.0,58.0,69.0,57.0,50.0,36.0,37.0,63.0,45.0,42.0,40.0,45.0,54.0,55.0,47.0,51.0,63.0,65.0,34.0,47.0,69.0,66.0,41.0,58.0,64.0,53.0,43.0,31.0,43.0,54.0,60.0,59.0,47.0,41.0,69.0,48.0,40.0,68.0,56.0,46.0,59.0,46.0,46.0,57.0,51.0,55.0,53.0,64.0,68.0,51.0,36.0,68.0,47.0,40.0,65.0,64.0,52.0,41.0,66.0,69.0,56.0,54.0,60.0,49.0,60.0,65.0,55.0,54.0,60.0,46.0,62.0,49.0,52.0,46.0,57.0,50.0,68.0,50.0,50.0,48.0,48.0,63.0,67.0,56.0,47.0,55.0,40.0,69.0,41.0,41.0,49.0,69.0,54.0,52.0,54.0,57.0,42.0,37.0,45.0,56.0,54.0,55.0,57.0,51.0,48.0,58.0,57.0,62.0,55.0,60.0,65.0,66.0,60.0,58.0,66.0,66.0,69.0,49.0,67.0,53.0,39.0,56.0,62.0,47.0,37.0,56.0,53.0,53.0,48.0,54.0,41.0,32.0,44.0,46.0,47.0,58.0,63.0,67.0,55.0,51.0,44.0,51.0,63.0,66.0,45.0,63.0,60.0,50.0,67.0,56.0,52.0,53.0,57.0,65.0,66.0,47.0,44.0,62.0,50.0,68.0,47.0,52.0,69.0,61.0,54.0,37.0,58.0,58.0,40.0,66.0,69.0,47.0,44.0,61.0,42.0,34.0,59.0,55.0,59.0,51.0,49.0,68.0,62.0,56.0,64.0,44.0,45.0,35.0,56.0,50.0,45.0,61.0,57.0,50.0,43.0,60.0,69.0,40.0,69.0,62.0,59.0,36.0,54.0,59.0,65.0,39.0,65.0,54.0,59.0,52.0,50.0,62.0,58.0,53.0,57.0,59.0,55.0,49.0,49.0,54.0,53.0,58.0,62.0,67.0,61.0,47.0,48.0,60.0,62.0,50.0,51.0,57.0,64.0,64.0,62.0,49.0,51.0,68.0,51.0,47.0,40.0,66.0,68.0,56.0,46.0,68.0,38.0,44.0,46.0,56.0,39.0,54.0,47.0,64.0,48.0,57.0,53.0,41.0,44.0,54.0,57.0,39.0,64.0,59.0,63.0,65.0,47.0,41.0,61.0,64.0,54.0,48.0,48.0,39.0,50.0,54.0,58.0,56.0,62.0,40.0,54.0,47.0,67.0,48.0,68.0,66.0,63.0,62.0,62.0,57.0,66.0,68.0,55.0,66.0,67.0,55.0,49.0,38.0,52.0,65.0,61.0,51.0,55.0,54.0,61.0,39.0,61.0,51.0,42.0,57.0,51.0,62.0,69.0,35.0,68.0,53.0,31.0,55.0,57.0,66.0,58.0,68.0,41.0,44.0,60.0,53.0,59.0,62.0,51.0,68.0,40.0,65.0,54.0,46.0,64.0,62.0,56.0,68.0,58.0,46.0],\"xaxis\":\"x\",\"y\":[0,1,2,3,4,5,6,7,8,9,10,11,12,13,14,15,16,17,18,19,20,21,22,23,24,25,26,27,28,29,30,31,32,33,34,35,36,37,38,39,40,41,42,43,44,45,46,47,48,49,50,51,52,53,54,55,56,57,58,59,60,61,62,63,64,65,66,67,68,69,70,71,72,73,74,75,76,77,78,79,80,81,82,83,84,85,86,87,88,89,90,91,92,93,94,95,96,97,98,99,100,101,102,103,104,105,106,107,108,109,110,111,112,113,114,115,116,117,118,119,120,121,122,123,124,125,126,127,128,129,130,131,132,133,134,135,136,137,138,139,140,141,142,143,144,145,146,147,148,149,150,151,152,153,154,155,156,157,158,159,160,161,162,163,164,165,166,167,168,169,170,171,172,173,174,175,176,177,178,179,180,181,182,183,184,185,186,187,188,189,190,191,192,193,194,195,196,197,198,199,200,201,202,203,204,205,206,207,208,209,210,211,212,213,214,215,216,217,218,219,220,221,222,223,224,225,226,227,228,229,230,231,232,233,234,235,236,237,238,239,240,241,242,243,244,245,246,247,248,249,250,251,252,253,254,255,256,257,258,259,260,261,262,263,264,265,266,267,268,269,270,271,272,273,274,275,276,277,278,279,280,281,282,283,284,285,286,287,288,289,290,291,292,293,294,295,296,297,298,299,300,301,302,303,304,305,306,307,308,309,310,311,312,313,314,315,316,317,318,319,320,321,322,323,324,325,326,327,328,329,330,331,332,333,334,335,336,337,338,339,340,341,342,343,344,345,346,347,348,349,350,351,352,353,354,355,356,357,358,359,360,361,362,363,364,365,366,367,368,369,370,371,372,373,374,375,376,377,378,379,380,381,382,383,384,385,386,387,388,389,390,391,392,393,394,395,396,397,398,399,400,401,402,403,404,405,406,407,408,409,410,411,412,413,414,415,416,417,418,419,420,421,422,423,424,425,426,427,428,429,430,431,432,433,434,435,436,437,438,439,440,441,442,443,444,445,446,447,448,449,450,451,452,453,454,455,456,457,458,459,460,461,462,463,464,465,466,467,468,469,470,471,472,473,474,475,476,477,478,479,480,481,482,483,484,485,486,487,488,489,490,491,492,493,494,495,496,497,498,499,500,501,502,503,504,505,506,507,508,509,510,511,512,513,514,515,516,517,518,519,520,521,522,523,524,525,526,527,528,529,530,531,532,533,534,535,536,537,538,539,540,541,542,543,544,545,546,547,548,549,550,551,552,553,554,555,556,557,558,559,560,561,562,563,564,565,566,567,568,569,570,571,572,573,574,575,576,577,578,579,580,581,582,583,584,585,586,587,588,589,590,591,592,593,594,595,596,597,598,599,600,601,602,603,604,605,606,607,608,609,610,611,612,613,614,615,616,617,618,619,620,621,622,623,624,625,626,627,628,629,630,631,632,633,634,635,636,637,638,639,640,641,642,643,644,645,646,647,648,649,650,651,652,653,654,655,656,657,658,659,660,661,662,663,664,665,666,667,668,669,670,671,672,673,674,675,676,677,678,679,680,681,682,683,684,685,686,687,688,689,690,691,692,693,694,695,696,697,698,699,700,701,702,703,704,705,706,707,708,709,710,711,712,713,714,715,716,717,718,719,720,721,722,723,724,725,726,727,728,729,730,731,732,733,734,735,736,737,738,739,740,741,742,743,744,745,746,747,748,749,750,751,752,753,754,755,756,757,758,759,760,761,762,763,764,765,766,767,768,769,770,771,772,773,774,775,776,777,778,779,780,781,782,783,784,785,786,787,788,789,790,791,792,793,794,795,796,797,798,799,800,801,802,803,804,805,806,807,808,809,810,811,812,813,814,815,816,817,818,819,820,821,822,823,824,825,826,827,828,829,830,831,832,833,834,835,836,837,838,839,840,841,842,843,844,845,846,847,848,849,850,851,852,853,854,855,856,857,858,859,860,861,862,863,864,865,866,867,868,869,870,871,872,873,874,875,876,877,878,879,880,881,882,883,884,885,886,887,888,889,890,891,892,893,894,895,896,897,898,899,900,901,902,903,904,905,906,907,908,909,910,911,912,913,914,915,916,917,918,919,920,921,922,923,924,925,926,927,928,929,930,931,932,933,934,935,936,937,938,939,940,941,942,943,944,945,946,947,948,949,950,951,952,953,954,955,956,957,958,959,960,961,962,963,964,965,966,967,968,969,970,971,972,973,974,975,976,977,978,983,984,985,986,987,988,989,990,991,992,993,994,995,996,997,998,999,1000,1001,1002,1003,1004,1005,1006,1007,1008,1009,1010,1011,1012,1013,1014,1015,1016,1017,1018,1019,1020,1021,1022,1023,1024,1025,1026,1027,1028,1029,1030,1031,1032,1033,1034,1035,1036,1037,1038,1039,1040,1041,1042,1043,1044,1045,1046,1047,1048,1049,1050,1051,1052,1053,1054,1055,1056,1057,1058,1059,1060,1061,1062,1063,1064,1065,1066,1067,1068,1069,1070,1071,1072,1073,1074,1075,1076,1077,1078,1079,1080,1081,1082,1083,1084,1085,1086,1087,1088,1089,1090,1091,1092,1093,1094,1095,1096,1097,1098,1099,1100,1101,1102,1103,1104,1105,1106,1107,1108,1109,1110,1111,1112,1113,1114,1115,1116,1117,1118,1119,1120,1121,1122,1123,1124,1125,1126,1127,1128,1129,1130,1131,1132,1133,1134,1135,1136,1137,1138,1139,1140,1141,1142,1143,1144,1145,1146,1147,1148,1149,1150,1151,1152,1153,1154,1155,1156,1157,1158,1159,1160,1161,1162,1163,1164,1165,1166,1167,1168,1169,1170,1171,1172,1173,1174,1175,1176,1177,1178,1179,1180,1181,1182,1183,1184,1185,1186,1187,1188,1189,1190,1191,1192,1193,1194,1195,1196,1197,1198,1199,1200,1201,1202,1203,1204,1205,1206,1207,1208,1209,1210,1211,1212,1213,1214,1215,1216,1217,1218,1219,1220,1221,1222,1223,1224,1225,1226,1227,1228,1229,1230,1231,1232,1233,1234,1235,1236,1237,1238,1239,1240,1241,1242,1243,1244,1245,1246,1247,1248,1249,1250,1251,1252,1253,1254,1255,1256,1257,1258,1259,1260,1261,1262,1263,1264,1265,1266,1267,1268,1269,1270,1271,1272,1273,1274,1275,1276,1277,1278,1279,1280,1281,1282,1283,1284,1285,1286,1287,1288,1289,1290,1291,1292,1293,1294,1295,1296,1297,1298,1299,1300,1301,1302,1303,1304,1305,1306,1307,1308,1309,1310,1311,1312,1313,1314,1315,1316,1317,1318,1319,1320,1321,1322,1323,1324,1325,1326,1327,1328,1329,1330,1331,1332,1333,1334,1335,1336,1337,1338,1339,1340,1341,1342,1343,1344,1345,1346,1347,1348,1349,1350,1351,1352,1353,1354,1355,1356,1357,1358,1359,1360,1361,1362,1363,1364,1365,1366,1367,1368,1369,1370,1371,1372,1373,1374,1375,1376,1377,1378,1379,1380,1381,1382,1383,1384,1385,1386,1387,1388,1389,1390,1391,1392,1393,1394,1395,1396,1397,1398,1399,1400,1401,1402,1403,1404,1405,1406,1407,1408,1409,1410,1411,1412,1413,1414,1415,1416,1417,1418,1419,1420,1421,1422,1423,1424,1425,1426,1427,1428,1429,1430,1431,1432,1433,1434,1435,1436,1437,1438,1439,1440,1441,1442,1443,1444,1445,1446,1447,1448,1449,1450,1451,1452,1453,1454,1455,1456,1457,1458,1459,1460,1461,1462,1463,1464,1465,1466,1467,1468,1469,1470,1471,1472,1473,1474,1475,1476,1477,1478,1479,1480,1481,1482,1483,1484,1485,1486,1487,1488,1489,1490,1491,1492,1493,1494,1495,1496,1497,1498,1499,1500,1501,1502,1503,1504,1505,1506,1507,1508,1509,1510,1511,1512,1513,1514,1515,1516,1517,1518,1519,1520,1521,1522,1523,1524,1525,1526,1527,1528,1529,1530,1531,1532,1533,1534,1535,1536,1537,1538,1539,1540,1541,1542,1543,1544,1545,1546,1547,1548,1549,1550,1551,1552,1553,1554,1555,1556,1557,1558,1559,1560,1561,1562,1563,1564,1565,1566,1567,1568,1569,1570,1571,1572,1573,1574,1575,1576,1577,1578,1579,1580,1581,1582,1583,1584,1585,1586,1587,1588,1589,1590,1591,1592,1593,1594,1595,1596,1597,1598,1599,1600,1601,1602,1603,1604,1605,1606,1607,1608,1609,1610,1611,1612,1613,1614,1615,1616,1617,1618,1619,1620,1621,1622,1623,1624,1625,1626,1627,1628,1629,1630,1631,1632,1633,1634,1635,1636,1637,1638,1639,1640,1641,1642,1643,1644,1645,1646,1647,1648,1649,1650,1651,1652,1653,1654,1655,1656,1657,1658,1659,1660,1661,1662,1663,1664,1665,1666,1667,1668,1669,1670,1671,1672,1673,1674,1675,1676,1677,1678,1679,1680,1681,1682,1683,1684,1685,1686,1687,1688,1689,1690,1691,1692,1693,1694,1695,1696,1697,1698,1699,1700,1701,1702,1703,1704,1705,1706,1707,1708,1709,1710,1711,1712,1713,1714,1715,1716,1717,1718,1719,1720,1721,1722,1723,1724,1725,1726,1727,1728,1729,1730,1731,1732,1733,1734,1735,1736,1737,1738,1739,1740,1741,1742,1743,1744,1745,1746,1747,1748,1749,1750,1751,1752,1753,1754,1755,1756,1757,1758,1759,1760,1761,1762,1763,1764,1765,1766,1767,1768,1769,1770,1771,1772,1773,1774,1775,1776,1777,1778,1779,1780,1781,1782,1783,1784,1785,1786,1787,1788,1789,1790,1791,1792,1793,1794,1795,1796,1797,1798,1799,1800,1801,1802,1803,1804,1805,1806,1807,1808,1809,1810,1811,1812,1813,1814,1815,1816,1817,1818,1819,1820,1821,1822,1823,1824,1825,1826,1827,1828,1829,1830,1831,1832,1833,1834,1835,1836,1837,1838,1839,1840,1841,1842,1843,1844,1845,1846,1847,1848,1849,1850,1851,1852,1853,1854,1855,1856,1857,1858,1859,1860,1861,1862,1863,1864,1865,1866,1867,1868,1869,1870,1871,1872,1873,1874,1875,1876,1877,1878,1879,1880,1881,1882,1883,1884,1885,1886,1887,1888,1889,1890,1891,1892,1893,1894,1895,1896,1897,1898,1899,1900,1901,1902,1903,1904,1905,1906,1907,1908,1909,1910,1911,1912,1913,1914,1915,1916,1917,1918,1919,1920,1921,1922,1923,1924,1925,1926,1927,1928,1929,1930,1931,1932,1933,1934,1935,1936,1937,1938,1939,1940,1941,1942,1943,1944,1945,1946,1947,1948,1949,1950,1951,1952,1953,1954,1955,1956,1957,1958,1959,1960,1961,1962,1963,1964,1965,1966,1967,1968,1969,1970,1971,1972,1973,1974,1975,1976,1977,1978,1979,1980,1981,1982,1983,1984,1985,1986,1987,1988,1989,1990,1991,1992,1993,1994,1995,1996,1997,1998,1999,2000,2001,2002,2003,2004,2005,2006,2007,2008,2009,2010,2011,2012,2013,2014,2015,2016,2017,2018,2019,2020,2021,2022,2023,2024,2025,2026,2027,2028,2029,2030,2031,2032,2033,2034,2035,2036,2037,2038,2039,2040,2041,2042,2043,2044,2045,2046,2047,2048,2049,2050,2051,2052,2053,2054,2055,2056,2057,2058,2059,2060,2061,2062,2063,2064,2065,2066,2067,2068,2069,2070,2071,2072,2073,2074,2075,2076,2077,2078,2079,2080,2081,2082,2083,2084,2085,2086,2087,2088,2089,2090,2091,2092,2093,2094,2095,2096,2097,2098,2099,2100,2101,2102,2103,2104,2105,2106,2107,2108,2109,2110,2111,2112,2113,2114,2115,2116,2117,2118,2119,2120,2121,2122,2123,2124,2125,2126,2127,2128,2129,2130,2131,2132,2133,2134,2135,2136,2137,2138,2139,2140,2141,2142,2143,2144,2145,2146,2147,2148,2149,2150,2151,2152,2153,2154,2155,2156,2157,2158,2159,2160,2161,2162,2163,2164,2165,2166,2167,2168,2169,2170,2171,2172,2173,2174,2175,2176,2177,2178,2179,2180,2181,2182,2183,2184,2185,2186,2187,2188,2189,2190,2191,2192,2193,2194,2195,2196,2197,2198,2199,2200,2201,2202,2203,2204,2205,2206,2207,2208,2209,2210,2211,2212,2213,2214,2215,2216,2217,2218,2219,2220,2221,2222,2223,2224,2225,2226,2227,2228,2229,2230,2231,2232,2233,2234,2235,2236,2237,2238,2239,2240,2241,2242,2243,2244,2245,2246,2247,2248,2249,2250,2251,2252,2253,2254,2255,2256,2257,2258,2259,2260,2261,2262,2263,2264,2265,2266,2267,2268,2269,2270,2271,2272,2273,2274,2275,2276,2277,2278,2279,2280,2281,2282,2283,2284,2285,2286,2287,2288,2289,2290,2291,2292,2293,2294,2295,2296,2297,2298,2299,2300,2301,2302,2303,2304,2305,2306,2307,2308,2309,2310,2311,2312,2313,2314,2315,2316,2317,2318,2319,2320,2321,2322,2323,2324,2325,2326,2327,2328,2329,2330,2331,2332,2333,2334,2335,2336,2337,2338,2339,2340,2341,2342,2343,2344,2345,2346,2347,2348,2349,2350,2351,2352,2353,2354,2355,2356,2357,2358,2359,2360,2361,2362,2363,2364,2365,2366,2367,2368,2369,2370,2371,2372,2373,2374,2375,2376,2377,2378,2379,2380,2381,2382,2383,2384,2385,2386,2387,2388,2389,2390,2391,2392,2393,2394,2395,2396,2397,2398,2399,2400,2401,2402,2403,2404,2405,2406,2407,2408,2409,2410,2411,2412,2413,2414,2415,2416,2417,2418,2419,2420,2421,2422,2423,2424,2425,2426,2427,2428,2429,2430,2431,2432,2433,2434,2435,2436,2437,2438,2439,2440,2441,2442,2443,2444,2445,2446,2447,2448,2449,2450,2451,2452,2453,2454,2455,2456,2457,2458,2459,2460,2461,2462,2463,2464,2465,2466,2467,2468,2469,2470,2471,2472,2473,2474,2475,2476,2477,2478,2479,2480,2481,2482,2483,2484,2485,2486,2487,2488,2489,2490,2491,2492,2493,2494,2495,2496,2497,2498,2499,2500,2501,2502,2503,2504,2505,2506,2507,2508,2509,2510,2511,2512,2513,2514,2515,2516,2517,2518,2519,2520,2521,2522,2523,2524,2525,2526,2527,2528,2529,2530,2531,2532,2533,2534,2535,2536,2537,2538,2539,2540,2541,2542,2543,2544,2545,2546,2547,2548,2549,2550,2551,2552,2553,2554,2555,2556,2557,2558,2559,2560,2561,2562,2563,2564,2565,2566,2567,2568,2569,2570,2571,2572,2573,2574,2575,2576,2577,2578,2579,2580,2581,2582,2583,2584,2585,2586,2587,2588,2589,2590,2591,2592,2593,2594,2595,2596,2597,2598,2599,2600,2601,2602,2603,2604,2605,2606,2607,2608,2609,2610,2611,2612,2613,2614,2615,2616,2617,2618,2619,2620,2621,2622,2623,2624,2625,2626,2627,2628,2629,2630,2631,2632,2633,2634,2635,2636,2637,2638,2639,2640,2641,2642,2643,2644,2645,2646,2647,2648,2649,2650,2651,2652,2653,2654,2655,2656,2657,2658,2659,2660,2661,2662,2663,2664,2665,2666,2667,2668,2669,2670,2671,2672,2673,2674,2675,2676,2677,2678,2679,2680,2681,2682,2683,2684,2685,2686,2687,2688,2689,2690,2691,2692,2693,2694,2695,2696,2697,2698,2699,2700,2701,2702,2703,2704,2705,2706,2707,2708,2709,2710,2711,2712,2713,2714,2715,2716,2717,2718,2719,2720,2721,2722,2723,2724,2725,2726,2727,2728,2729,2730,2731,2732,2733,2734,2735,2736,2737,2738,2739,2740,2741,2742,2743,2744,2745,2746,2747,2748,2749,2750,2751,2752,2753,2754,2755,2756,2757,2758,2759,2760,2761,2762,2763,2764,2765,2766,2767,2768,2769,2770,2771,2772,2773,2774,2775,2776,2777,2778,2779,2780,2781,2782,2783,2784,2785,2786,2787,2788,2789,2790,2791,2792,2793,2794,2795,2796,2797,2798,2799,2800,2801,2802,2803,2804,2805,2806,2807,2808,2809,2810,2811,2812,2813,2814,2815,2816,2817,2818,2819,2820,2821,2822,2823,2824,2825,2826,2827,2828,2829,2830,2831,2832,2833,2834,2835,2836,2837,2838,2839,2840,2841,2842,2843,2844,2845,2846,2847,2848,2849,2850,2851,2852,2853,2854,2855,2856,2857,2858,2859,2860,2861,2862,2863,2864,2865,2866,2867,2868,2869,2870,2871,2872,2873,2874,2875,2876,2877,2878,2879,2880,2881,2882,2883,2884,2885,2886,2887,2888,2889,2890,2891,2892,2893,2894,2895,2896,2897,2898,2899,2900,2901,2902,2903,2904,2905,2906,2907,2908,2909,2910,2911,2912,2913,2914,2915,2916,2917,2918,2919,2920,2921,2922,2923,2924,2925,2926,2927,2928,2929,2930,2931,2932,2933,2934,2935,2936,2937,2938,2939,2940,2941,2942,2943,2944,2945,2946,2947,2948,2949,2950,2951,2952,2953,2954,2955,2956,2957,2958,2959,2960,2961,2962,2963,2964,2965,2966,2967,2968,2969,2970,2971,2972,2973,2974,2975,2976,2977,2978,2979,2980,2981,2982,2983,2984,2985,2986,2987,2988,2989,2990,2991,2992,2993,2994,2995,2996,2997,2998,2999,3000,3001,3002,3003,3004,3005,3006,3007,3008,3009,3010,3011,3012,3013,3014,3015,3016,3017,3018,3019,3020,3021,3022,3023,3024,3025,3026,3027,3028,3029,3030,3031,3032,3033,3034,3035,3036,3037,3038,3039,3040,3041,3042,3043,3044,3045,3046,3047,3048,3049,3050,3051,3052,3053,3054,3055,3056,3057,3058,3059,3060,3061,3062,3063,3064,3065,3066,3067,3068,3069,3070,3071,3072,3073,3074,3075,3076,3077,3078,3079,3080,3081,3082,3083,3084,3085,3086,3087,3088,3089,3090,3091,3092,3093,3094,3095,3096,3097,3098,3099,3100,3101,3102,3103,3104,3105,3106,3107,3108,3109,3110,3111,3112,3113,3114,3115,3116,3117,3118,3119,3120,3121,3122,3123,3124,3125,3126,3127,3128,3129,3130,3131,3132,3133,3134,3135,3136,3137,3138,3139,3140,3141,3142,3143,3144,3145,3146,3147,3148,3149,3150,3151,3152,3153,3154,3155,3156,3157,3158,3159,3160,3161,3162,3163,3164,3165,3166,3167,3168,3169,3170,3171,3172,3173,3174,3175,3176,3177,3178,3179,3180,3181,3182,3183,3184,3185,3186,3187,3188,3189,3190,3191,3192,3193,3194,3195,3196,3197,3198,3199,3200,3201,3202,3203,3204,3205,3206,3207,3208,3209,3210,3211,3212,3213,3214,3215,3216,3217,3218,3219,3220,3221,3222,3223,3224,3225,3226,3227,3228,3229,3230,3231,3232,3233,3234,3235,3236,3237,3238,3239,3240,3241,3242,3243,3244,3245,3246,3247,3248,3249,3250,3251,3252,3253,3254,3255,3256,3257,3258,3259,3260,3261,3262,3263,3264,3265,3266,3267,3268,3269,3270,3271,3272,3273,3274,3275,3276,3277,3278,3279,3280,3281,3282,3283,3284,3285,3286,3287,3288,3289,3290,3291,3292,3293,3294,3295,3296,3297,3298,3299,3300,3301,3302,3303,3304,3305,3306,3307,3308,3309,3310,3311,3312,3313,3314,3315,3316,3317,3318,3319,3320,3321,3322,3323,3324,3325,3326,3327,3328,3329,3330,3331,3332,3333,3334,3335,3336,3337,3338,3339,3340,3341,3342,3343,3344,3345,3346,3347,3348,3349,3350,3351,3352,3353,3354,3355,3356,3357,3358,3359,3360,3361,3362,3363,3364,3365,3366,3367,3368,3369,3370,3371,3372,3373,3374,3375,3376,3377,3378,3379,3380,3381,3382,3383,3384,3385,3386,3387,3388,3389,3390,3391,3392,3393,3394,3395,3396,3397,3398,3399,3400,3401,3402,3403,3404,3405,3406,3407,3408,3409,3410,3411,3412,3413,3414,3415,3416,3417,3418,3419,3420,3421,3422,3423,3424,3425,3426,3427,3428,3429,3430,3431,3432,3433,3434,3435,3436,3437,3438,3439,3440,3441,3442,3443,3444,3445,3446,3447,3448,3449,3450,3451,3452,3453,3454,3455,3456,3457,3458,3459,3460,3461,3462,3463,3464,3465,3466,3467,3468,3469,3470,3471,3472,3473,3474,3475,3476,3477,3478,3479,3480,3481,3482,3483,3484,3485,3486,3487,3488,3489,3490,3491,3492,3493,3494,3495,3496,3497,3498,3499,3500,3501,3502,3503,3504,3505,3506,3507,3508,3509,3510,3511,3512,3513,3514,3515,3516,3517,3518,3519,3520,3521,3522,3523,3524,3525,3526,3527,3528,3529,3530,3531,3532,3533,3534,3535,3536,3537,3538,3539,3540,3541,3542,3543,3544,3545,3546,3547,3548,3549,3550,3551,3552,3553,3554,3555,3556,3557,3558,3559,3560,3561,3562,3563,3564,3565,3566,3567,3568,3569,3570,3571,3572,3573,3574,3575,3576,3577,3578,3579,3580,3581,3582,3583,3584,3585,3586,3587,3588,3589,3590,3591,3592,3593,3594,3595,3596,3597,3598,3599,3600,3601,3602,3603,3604,3605,3606,3607,3608,3609,3610,3611,3612,3613,3614,3615,3616,3617,3618,3619,3620,3621,3622,3623,3624,3625,3626,3627,3628,3629,3630,3631,3632,3633,3634,3635,3636,3637,3638,3639,3640,3641,3642,3643,3644,3645,3646,3647,3648,3649,3650,3651,3652,3653,3654,3655,3656,3657,3658,3659,3660,3661,3662,3663,3664,3665,3666,3667,3668,3669,3670,3671,3672,3673,3674,3675,3676,3677,3678,3679,3680,3681,3682,3683,3684,3685,3686,3687,3688,3689,3690,3691,3692,3693,3694,3695,3696,3697,3698,3699,3700,3701,3702,3703,3704,3705,3706,3707,3708,3709,3710,3711,3712,3713,3714,3715,3716,3717,3718,3719,3720,3721,3722,3723,3724,3725,3726,3727,3728,3729,3730,3731,3732,3733,3734,3735,3736,3737,3738,3739,3740,3741,3742,3743,3744,3745,3746,3747,3748,3749,3750,3751,3752,3753,3754,3755,3756,3757,3758,3759,3760,3761,3762,3763,3764,3765,3766,3767,3768,3769,3770,3771,3772,3773,3774,3775,3776,3777,3778,3779,3780,3781,3782,3783,3784,3785,3786,3787,3788,3789,3790,3791,3792,3793,3794,3795,3796,3797,3798,3799,3800,3801,3802,3803,3804,3805,3806,3807,3808,3809,3810,3811,3812,3813,3814,3815,3816,3817,3818,3819,3820,3821,3822,3823,3824,3825,3826,3827,3828,3829,3830,3831,3832,3833,3834,3835,3836,3837,3838,3839,3840,3841,3842,3843,3844,3845,3846,3847,3848,3849,3850,3851,3852,3853,3854,3855,3856,3857,3858,3859,3860,3861,3862,3863,3864,3865,3866,3867,3868,3869,3870,3871,3872,3873,3874,3875,3876,3877,3878,3879,3880,3881,3882,3883,3884,3885,3886,3887,3888,3889,3890,3891,3892,3893,3894,3895,3896,3897,3898,3899,3900,3901,3902,3903,3904,3905,3906,3907,3908,3909,3910,3911,3912,3913,3914,3915,3916,3917,3918,3919,3920,3921,3922,3923,3924,3925,3926,3927,3928,3929,3930,3931,3932,3933,3934,3935,3936,3937,3938,3939,3940,3941,3942,3943,3944,3945,3946,3947,3948,3949,3950,3951,3952,3953,3954,3955,3956,3957,3958,3959,3960,3961,3962,3963,3964,3965,3966,3967,3968,3969,3970,3971,3972,3973,3974,3975,3976,3977,3978,3979,3980,3981,3982,3983,3984,3985,3986,3987,3988,3989,3990,3991,3992,3993,3994,3995,3996,3997,3998,3999,4000,4001,4002,4003,4004,4005,4006,4007,4008,4009,4010,4011,4012,4013,4014,4015,4016,4017,4018,4019,4020,4021,4022,4023],\"yaxis\":\"y\",\"type\":\"scattergl\"}],                        {\"template\":{\"data\":{\"histogram2dcontour\":[{\"type\":\"histogram2dcontour\",\"colorbar\":{\"outlinewidth\":0,\"ticks\":\"\"},\"colorscale\":[[0.0,\"#0d0887\"],[0.1111111111111111,\"#46039f\"],[0.2222222222222222,\"#7201a8\"],[0.3333333333333333,\"#9c179e\"],[0.4444444444444444,\"#bd3786\"],[0.5555555555555556,\"#d8576b\"],[0.6666666666666666,\"#ed7953\"],[0.7777777777777778,\"#fb9f3a\"],[0.8888888888888888,\"#fdca26\"],[1.0,\"#f0f921\"]]}],\"choropleth\":[{\"type\":\"choropleth\",\"colorbar\":{\"outlinewidth\":0,\"ticks\":\"\"}}],\"histogram2d\":[{\"type\":\"histogram2d\",\"colorbar\":{\"outlinewidth\":0,\"ticks\":\"\"},\"colorscale\":[[0.0,\"#0d0887\"],[0.1111111111111111,\"#46039f\"],[0.2222222222222222,\"#7201a8\"],[0.3333333333333333,\"#9c179e\"],[0.4444444444444444,\"#bd3786\"],[0.5555555555555556,\"#d8576b\"],[0.6666666666666666,\"#ed7953\"],[0.7777777777777778,\"#fb9f3a\"],[0.8888888888888888,\"#fdca26\"],[1.0,\"#f0f921\"]]}],\"heatmap\":[{\"type\":\"heatmap\",\"colorbar\":{\"outlinewidth\":0,\"ticks\":\"\"},\"colorscale\":[[0.0,\"#0d0887\"],[0.1111111111111111,\"#46039f\"],[0.2222222222222222,\"#7201a8\"],[0.3333333333333333,\"#9c179e\"],[0.4444444444444444,\"#bd3786\"],[0.5555555555555556,\"#d8576b\"],[0.6666666666666666,\"#ed7953\"],[0.7777777777777778,\"#fb9f3a\"],[0.8888888888888888,\"#fdca26\"],[1.0,\"#f0f921\"]]}],\"heatmapgl\":[{\"type\":\"heatmapgl\",\"colorbar\":{\"outlinewidth\":0,\"ticks\":\"\"},\"colorscale\":[[0.0,\"#0d0887\"],[0.1111111111111111,\"#46039f\"],[0.2222222222222222,\"#7201a8\"],[0.3333333333333333,\"#9c179e\"],[0.4444444444444444,\"#bd3786\"],[0.5555555555555556,\"#d8576b\"],[0.6666666666666666,\"#ed7953\"],[0.7777777777777778,\"#fb9f3a\"],[0.8888888888888888,\"#fdca26\"],[1.0,\"#f0f921\"]]}],\"contourcarpet\":[{\"type\":\"contourcarpet\",\"colorbar\":{\"outlinewidth\":0,\"ticks\":\"\"}}],\"contour\":[{\"type\":\"contour\",\"colorbar\":{\"outlinewidth\":0,\"ticks\":\"\"},\"colorscale\":[[0.0,\"#0d0887\"],[0.1111111111111111,\"#46039f\"],[0.2222222222222222,\"#7201a8\"],[0.3333333333333333,\"#9c179e\"],[0.4444444444444444,\"#bd3786\"],[0.5555555555555556,\"#d8576b\"],[0.6666666666666666,\"#ed7953\"],[0.7777777777777778,\"#fb9f3a\"],[0.8888888888888888,\"#fdca26\"],[1.0,\"#f0f921\"]]}],\"surface\":[{\"type\":\"surface\",\"colorbar\":{\"outlinewidth\":0,\"ticks\":\"\"},\"colorscale\":[[0.0,\"#0d0887\"],[0.1111111111111111,\"#46039f\"],[0.2222222222222222,\"#7201a8\"],[0.3333333333333333,\"#9c179e\"],[0.4444444444444444,\"#bd3786\"],[0.5555555555555556,\"#d8576b\"],[0.6666666666666666,\"#ed7953\"],[0.7777777777777778,\"#fb9f3a\"],[0.8888888888888888,\"#fdca26\"],[1.0,\"#f0f921\"]]}],\"mesh3d\":[{\"type\":\"mesh3d\",\"colorbar\":{\"outlinewidth\":0,\"ticks\":\"\"}}],\"scatter\":[{\"fillpattern\":{\"fillmode\":\"overlay\",\"size\":10,\"solidity\":0.2},\"type\":\"scatter\"}],\"parcoords\":[{\"type\":\"parcoords\",\"line\":{\"colorbar\":{\"outlinewidth\":0,\"ticks\":\"\"}}}],\"scatterpolargl\":[{\"type\":\"scatterpolargl\",\"marker\":{\"colorbar\":{\"outlinewidth\":0,\"ticks\":\"\"}}}],\"bar\":[{\"error_x\":{\"color\":\"#2a3f5f\"},\"error_y\":{\"color\":\"#2a3f5f\"},\"marker\":{\"line\":{\"color\":\"#E5ECF6\",\"width\":0.5},\"pattern\":{\"fillmode\":\"overlay\",\"size\":10,\"solidity\":0.2}},\"type\":\"bar\"}],\"scattergeo\":[{\"type\":\"scattergeo\",\"marker\":{\"colorbar\":{\"outlinewidth\":0,\"ticks\":\"\"}}}],\"scatterpolar\":[{\"type\":\"scatterpolar\",\"marker\":{\"colorbar\":{\"outlinewidth\":0,\"ticks\":\"\"}}}],\"histogram\":[{\"marker\":{\"pattern\":{\"fillmode\":\"overlay\",\"size\":10,\"solidity\":0.2}},\"type\":\"histogram\"}],\"scattergl\":[{\"type\":\"scattergl\",\"marker\":{\"colorbar\":{\"outlinewidth\":0,\"ticks\":\"\"}}}],\"scatter3d\":[{\"type\":\"scatter3d\",\"line\":{\"colorbar\":{\"outlinewidth\":0,\"ticks\":\"\"}},\"marker\":{\"colorbar\":{\"outlinewidth\":0,\"ticks\":\"\"}}}],\"scattermapbox\":[{\"type\":\"scattermapbox\",\"marker\":{\"colorbar\":{\"outlinewidth\":0,\"ticks\":\"\"}}}],\"scatterternary\":[{\"type\":\"scatterternary\",\"marker\":{\"colorbar\":{\"outlinewidth\":0,\"ticks\":\"\"}}}],\"scattercarpet\":[{\"type\":\"scattercarpet\",\"marker\":{\"colorbar\":{\"outlinewidth\":0,\"ticks\":\"\"}}}],\"carpet\":[{\"aaxis\":{\"endlinecolor\":\"#2a3f5f\",\"gridcolor\":\"white\",\"linecolor\":\"white\",\"minorgridcolor\":\"white\",\"startlinecolor\":\"#2a3f5f\"},\"baxis\":{\"endlinecolor\":\"#2a3f5f\",\"gridcolor\":\"white\",\"linecolor\":\"white\",\"minorgridcolor\":\"white\",\"startlinecolor\":\"#2a3f5f\"},\"type\":\"carpet\"}],\"table\":[{\"cells\":{\"fill\":{\"color\":\"#EBF0F8\"},\"line\":{\"color\":\"white\"}},\"header\":{\"fill\":{\"color\":\"#C8D4E3\"},\"line\":{\"color\":\"white\"}},\"type\":\"table\"}],\"barpolar\":[{\"marker\":{\"line\":{\"color\":\"#E5ECF6\",\"width\":0.5},\"pattern\":{\"fillmode\":\"overlay\",\"size\":10,\"solidity\":0.2}},\"type\":\"barpolar\"}],\"pie\":[{\"automargin\":true,\"type\":\"pie\"}]},\"layout\":{\"autotypenumbers\":\"strict\",\"colorway\":[\"#636efa\",\"#EF553B\",\"#00cc96\",\"#ab63fa\",\"#FFA15A\",\"#19d3f3\",\"#FF6692\",\"#B6E880\",\"#FF97FF\",\"#FECB52\"],\"font\":{\"color\":\"#2a3f5f\"},\"hovermode\":\"closest\",\"hoverlabel\":{\"align\":\"left\"},\"paper_bgcolor\":\"white\",\"plot_bgcolor\":\"#E5ECF6\",\"polar\":{\"bgcolor\":\"#E5ECF6\",\"angularaxis\":{\"gridcolor\":\"white\",\"linecolor\":\"white\",\"ticks\":\"\"},\"radialaxis\":{\"gridcolor\":\"white\",\"linecolor\":\"white\",\"ticks\":\"\"}},\"ternary\":{\"bgcolor\":\"#E5ECF6\",\"aaxis\":{\"gridcolor\":\"white\",\"linecolor\":\"white\",\"ticks\":\"\"},\"baxis\":{\"gridcolor\":\"white\",\"linecolor\":\"white\",\"ticks\":\"\"},\"caxis\":{\"gridcolor\":\"white\",\"linecolor\":\"white\",\"ticks\":\"\"}},\"coloraxis\":{\"colorbar\":{\"outlinewidth\":0,\"ticks\":\"\"}},\"colorscale\":{\"sequential\":[[0.0,\"#0d0887\"],[0.1111111111111111,\"#46039f\"],[0.2222222222222222,\"#7201a8\"],[0.3333333333333333,\"#9c179e\"],[0.4444444444444444,\"#bd3786\"],[0.5555555555555556,\"#d8576b\"],[0.6666666666666666,\"#ed7953\"],[0.7777777777777778,\"#fb9f3a\"],[0.8888888888888888,\"#fdca26\"],[1.0,\"#f0f921\"]],\"sequentialminus\":[[0.0,\"#0d0887\"],[0.1111111111111111,\"#46039f\"],[0.2222222222222222,\"#7201a8\"],[0.3333333333333333,\"#9c179e\"],[0.4444444444444444,\"#bd3786\"],[0.5555555555555556,\"#d8576b\"],[0.6666666666666666,\"#ed7953\"],[0.7777777777777778,\"#fb9f3a\"],[0.8888888888888888,\"#fdca26\"],[1.0,\"#f0f921\"]],\"diverging\":[[0,\"#8e0152\"],[0.1,\"#c51b7d\"],[0.2,\"#de77ae\"],[0.3,\"#f1b6da\"],[0.4,\"#fde0ef\"],[0.5,\"#f7f7f7\"],[0.6,\"#e6f5d0\"],[0.7,\"#b8e186\"],[0.8,\"#7fbc41\"],[0.9,\"#4d9221\"],[1,\"#276419\"]]},\"xaxis\":{\"gridcolor\":\"white\",\"linecolor\":\"white\",\"ticks\":\"\",\"title\":{\"standoff\":15},\"zerolinecolor\":\"white\",\"automargin\":true,\"zerolinewidth\":2},\"yaxis\":{\"gridcolor\":\"white\",\"linecolor\":\"white\",\"ticks\":\"\",\"title\":{\"standoff\":15},\"zerolinecolor\":\"white\",\"automargin\":true,\"zerolinewidth\":2},\"scene\":{\"xaxis\":{\"backgroundcolor\":\"#E5ECF6\",\"gridcolor\":\"white\",\"linecolor\":\"white\",\"showbackground\":true,\"ticks\":\"\",\"zerolinecolor\":\"white\",\"gridwidth\":2},\"yaxis\":{\"backgroundcolor\":\"#E5ECF6\",\"gridcolor\":\"white\",\"linecolor\":\"white\",\"showbackground\":true,\"ticks\":\"\",\"zerolinecolor\":\"white\",\"gridwidth\":2},\"zaxis\":{\"backgroundcolor\":\"#E5ECF6\",\"gridcolor\":\"white\",\"linecolor\":\"white\",\"showbackground\":true,\"ticks\":\"\",\"zerolinecolor\":\"white\",\"gridwidth\":2}},\"shapedefaults\":{\"line\":{\"color\":\"#2a3f5f\"}},\"annotationdefaults\":{\"arrowcolor\":\"#2a3f5f\",\"arrowhead\":0,\"arrowwidth\":1},\"geo\":{\"bgcolor\":\"white\",\"landcolor\":\"#E5ECF6\",\"subunitcolor\":\"white\",\"showland\":true,\"showlakes\":true,\"lakecolor\":\"white\"},\"title\":{\"x\":0.05},\"mapbox\":{\"style\":\"light\"}}},\"xaxis\":{\"anchor\":\"y\",\"domain\":[0.0,1.0],\"title\":{\"text\":\"Age\"}},\"yaxis\":{\"anchor\":\"x\",\"domain\":[0.0,1.0],\"title\":{\"text\":\"index\"}},\"legend\":{\"tracegroupgap\":0},\"margin\":{\"t\":60}},                        {\"responsive\": true}                    ).then(function(){\n",
              "                            \n",
              "var gd = document.getElementById('eacbaa10-f48f-40a6-9dab-d76b23a5f76a');\n",
              "var x = new MutationObserver(function (mutations, observer) {{\n",
              "        var display = window.getComputedStyle(gd).display;\n",
              "        if (!display || display === 'none') {{\n",
              "            console.log([gd, 'removed!']);\n",
              "            Plotly.purge(gd);\n",
              "            observer.disconnect();\n",
              "        }}\n",
              "}});\n",
              "\n",
              "// Listen for the removal of the full notebook cells\n",
              "var notebookContainer = gd.closest('#notebook-container');\n",
              "if (notebookContainer) {{\n",
              "    x.observe(notebookContainer, {childList: true});\n",
              "}}\n",
              "\n",
              "// Listen for the clearing of the current output cell\n",
              "var outputEl = gd.closest('.output');\n",
              "if (outputEl) {{\n",
              "    x.observe(outputEl, {childList: true});\n",
              "}}\n",
              "\n",
              "                        })                };                            </script>        </div>\n",
              "</body>\n",
              "</html>"
            ]
          },
          "metadata": {}
        },
        {
          "output_type": "display_data",
          "data": {
            "text/html": [
              "<html>\n",
              "<head><meta charset=\"utf-8\" /></head>\n",
              "<body>\n",
              "    <div>            <script src=\"https://cdnjs.cloudflare.com/ajax/libs/mathjax/2.7.5/MathJax.js?config=TeX-AMS-MML_SVG\"></script><script type=\"text/javascript\">if (window.MathJax && window.MathJax.Hub && window.MathJax.Hub.Config) {window.MathJax.Hub.Config({SVG: {font: \"STIX-Web\"}});}</script>                <script type=\"text/javascript\">window.PlotlyConfig = {MathJaxConfig: 'local'};</script>\n",
              "        <script charset=\"utf-8\" src=\"https://cdn.plot.ly/plotly-2.35.2.min.js\"></script>                <div id=\"e3f70f09-5326-4fcb-b8ed-f8226c90a32e\" class=\"plotly-graph-div\" style=\"height:525px; width:100%;\"></div>            <script type=\"text/javascript\">                                    window.PLOTLYENV=window.PLOTLYENV || {};                                    if (document.getElementById(\"e3f70f09-5326-4fcb-b8ed-f8226c90a32e\")) {                    Plotly.newPlot(                        \"e3f70f09-5326-4fcb-b8ed-f8226c90a32e\",                        [{\"alignmentgroup\":\"True\",\"hovertemplate\":\"Age=%{x}\\u003cextra\\u003e\\u003c\\u002fextra\\u003e\",\"legendgroup\":\"\",\"marker\":{\"color\":\"#636efa\"},\"name\":\"\",\"notched\":false,\"offsetgroup\":\"\",\"orientation\":\"h\",\"showlegend\":false,\"x\":[68.0,50.0,58.0,58.0,47.0,51.0,51.0,40.0,40.0,69.0,68.0,46.0,65.0,48.0,62.0,61.0,56.0,43.0,48.0,60.0,48.0,57.0,55.0,48.0,62.0,63.0,48.0,46.0,57.0,66.0,47.0,53.0,59.0,60.0,46.0,51.0,54.0,51.0,49.0,51.0,57.0,64.0,62.0,53.0,55.0,66.0,42.0,62.0,54.0,69.0,37.0,69.0,54.0,63.0,57.0,55.0,62.0,50.0,50.0,55.0,56.0,51.0,42.0,59.0,67.0,46.0,31.0,40.0,58.0,52.0,54.0,64.0,31.0,66.0,67.0,56.0,66.0,42.0,51.0,68.0,53.0,67.0,66.0,53.0,51.0,46.0,48.0,52.0,55.0,65.0,53.0,33.0,63.0,45.0,59.0,60.0,50.0,61.0,50.0,68.0,38.0,47.0,39.0,57.0,52.0,60.0,54.0,68.0,38.0,63.0,61.0,37.0,46.0,45.0,54.0,53.0,50.0,69.0,48.0,53.0,67.0,43.0,50.0,59.0,53.0,62.0,39.0,59.0,56.0,45.0,60.0,50.0,58.0,50.0,55.0,37.0,46.0,65.0,61.0,52.0,54.0,36.0,180.0,62.0,54.0,61.0,46.0,38.0,66.0,59.0,38.0,67.0,60.0,61.0,67.0,69.0,47.0,39.0,53.0,55.0,59.0,53.0,59.0,57.0,61.0,68.0,54.0,37.0,48.0,53.0,69.0,63.0,49.0,63.0,60.0,41.0,59.0,43.0,52.0,61.0,60.0,61.0,63.0,48.0,51.0,66.0,68.0,58.0,62.0,46.0,58.0,60.0,62.0,53.0,42.0,63.0,55.0,50.0,52.0,47.0,55.0,60.0,66.0,50.0,64.0,67.0,56.0,60.0,56.0,48.0,44.0,37.0,-50.0,63.0,54.0,63.0,44.0,68.0,64.0,50.0,55.0,66.0,46.0,43.0,43.0,43.0,59.0,55.0,61.0,66.0,55.0,65.0,69.0,59.0,63.0,68.0,48.0,61.0,43.0,44.0,47.0,52.0,69.0,39.0,43.0,64.0,66.0,45.0,37.0,50.0,40.0,52.0,54.0,32.0,65.0,67.0,57.0,63.0,42.0,57.0,42.0,46.0,47.0,67.0,67.0,65.0,65.0,33.0,64.0,66.0,34.0,55.0,47.0,58.0,38.0,57.0,65.0,52.0,67.0,57.0,61.0,45.0,50.0,50.0,53.0,54.0,58.0,56.0,68.0,41.0,61.0,65.0,69.0,43.0,47.0,67.0,45.0,65.0,53.0,67.0,43.0,47.0,48.0,62.0,68.0,57.0,40.0,56.0,52.0,40.0,51.0,67.0,54.0,56.0,48.0,57.0,47.0,54.0,41.0,65.0,58.0,38.0,38.0,60.0,58.0,63.0,53.0,43.0,60.0,60.0,47.0,48.0,59.0,56.0,53.0,48.0,52.0,61.0,66.0,45.0,52.0,67.0,40.0,50.0,65.0,55.0,47.0,49.0,53.0,53.0,44.0,54.0,51.0,46.0,47.0,68.0,50.0,67.0,47.0,68.0,55.0,47.0,56.0,51.0,41.0,67.0,58.0,67.0,63.0,69.0,59.0,54.0,65.0,48.0,39.0,55.0,50.0,39.0,49.0,58.0,34.0,49.0,52.0,62.0,55.0,57.0,40.0,52.0,63.0,57.0,40.0,55.0,42.0,52.0,39.0,53.0,47.0,37.0,63.0,54.0,50.0,56.0,56.0,52.0,38.0,57.0,56.0,54.0,54.0,69.0,62.0,63.0,46.0,47.0,55.0,40.0,47.0,52.0,65.0,63.0,57.0,45.0,62.0,54.0,65.0,64.0,47.0,63.0,66.0,69.0,48.0,60.0,61.0,61.0,43.0,49.0,63.0,61.0,61.0,69.0,66.0,39.0,52.0,49.0,55.0,62.0,42.0,50.0,52.0,38.0,39.0,57.0,62.0,55.0,47.0,68.0,50.0,42.0,54.0,42.0,46.0,50.0,62.0,58.0,53.0,46.0,38.0,40.0,60.0,63.0,49.0,57.0,48.0,46.0,61.0,61.0,53.0,53.0,42.0,57.0,56.0,48.0,59.0,57.0,56.0,64.0,50.0,40.0,40.0,52.0,59.0,53.0,54.0,61.0,54.0,41.0,57.0,40.0,63.0,62.0,62.0,42.0,47.0,53.0,64.0,51.0,56.0,50.0,66.0,56.0,46.0,66.0,57.0,55.0,32.0,58.0,63.0,48.0,64.0,44.0,57.0,61.0,502.0,45.0,52.0,67.0,45.0,63.0,56.0,46.0,53.0,62.0,47.0,39.0,33.0,56.0,55.0,69.0,58.0,42.0,58.0,51.0,64.0,62.0,52.0,43.0,65.0,59.0,62.0,51.0,57.0,46.0,40.0,49.0,46.0,40.0,49.0,61.0,56.0,50.0,55.0,60.0,34.0,51.0,53.0,58.0,61.0,48.0,63.0,56.0,66.0,64.0,49.0,56.0,67.0,42.0,47.0,60.0,43.0,42.0,60.0,52.0,63.0,60.0,61.0,58.0,52.0,64.0,68.0,47.0,51.0,53.0,63.0,50.0,45.0,68.0,46.0,54.0,65.0,51.0,45.0,45.0,57.0,35.0,54.0,68.0,58.0,48.0,59.0,47.0,52.0,46.0,34.0,34.0,36.0,40.0,38.0,61.0,37.0,60.0,38.0,56.0,49.0,65.0,61.0,69.0,53.0,61.0,47.0,62.0,62.0,41.0,41.0,48.0,48.0,54.0,63.0,44.0,51.0,55.0,49.0,64.0,63.0,46.0,46.0,61.0,52.0,62.0,52.0,39.0,36.0,64.0,55.0,65.0,45.0,68.0,57.0,44.0,51.0,50.0,52.0,53.0,49.0,65.0,67.0,63.0,43.0,57.0,63.0,52.0,61.0,58.0,62.0,56.0,48.0,64.0,67.0,57.0,41.0,62.0,51.0,65.0,51.0,46.0,46.0,48.0,43.0,59.0,49.0,56.0,53.0,58.0,51.0,55.0,54.0,34.0,42.0,45.0,46.0,62.0,49.0,38.0,30.0,68.0,59.0,49.0,57.0,49.0,65.0,47.0,40.0,45.0,54.0,55.0,57.0,67.0,51.0,54.0,52.0,63.0,48.0,49.0,46.0,46.0,46.0,65.0,69.0,59.0,48.0,43.0,55.0,59.0,67.0,69.0,54.0,69.0,60.0,45.0,48.0,60.0,49.0,33.0,60.0,68.0,67.0,50.0,46.0,39.0,55.0,59.0,32.0,63.0,53.0,54.0,50.0,45.0,46.0,46.0,67.0,58.0,60.0,55.0,46.0,62.0,59.0,59.0,44.0,69.0,43.0,63.0,43.0,36.0,63.0,60.0,56.0,44.0,69.0,50.0,55.0,65.0,47.0,62.0,60.0,62.0,62.0,63.0,61.0,55.0,66.0,69.0,60.0,61.0,51.0,49.0,58.0,60.0,48.0,63.0,40.0,69.0,67.0,41.0,67.0,45.0,66.0,55.0,48.0,58.0,61.0,59.0,51.0,44.0,59.0,58.0,43.0,52.0,57.0,52.0,56.0,69.0,49.0,64.0,48.0,41.0,51.0,45.0,53.0,47.0,60.0,62.0,50.0,55.0,60.0,65.0,64.0,64.0,67.0,57.0,38.0,52.0,36.0,49.0,89.0,64.0,61.0,68.0,56.0,47.0,31.0,55.0,62.0,48.0,46.0,62.0,61.0,56.0,65.0,38.0,57.0,62.0,57.0,63.0,62.0,49.0,31.0,67.0,39.0,48.0,38.0,47.0,47.0,53.0,46.0,38.0,52.0,46.0,61.0,38.0,50.0,40.0,51.0,61.0,42.0,63.0,64.0,66.0,42.0,51.0,45.0,46.0,55.0,49.0,65.0,58.0,47.0,65.0,67.0,39.0,59.0,38.0,41.0,65.0,52.0,49.0,58.0,55.0,64.0,53.0,39.0,54.0,67.0,65.0,45.0,63.0,56.0,38.0,47.0,46.0,66.0,51.0,63.0,43.0,49.0,69.0,51.0,49.0,44.0,45.0,64.0,60.0,60.0,60.0,53.0,63.0,53.0,53.0,46.0,65.0,30.0,43.0,61.0,67.0,42.0,68.0,58.0,57.0,43.0,39.0,53.0,55.0,66.0,58.0,41.0,50.0,39.0,37.0,46.0,55.0,42.0,53.0,66.0,55.0,48.0,49.0,60.0,61.0,63.0,61.0,47.0,53.0,45.0,62.0,47.0,40.0,63.0,42.0,47.0,51.0,51.0,56.0,64.0,49.0,66.0,60.0,60.0,53.0,63.0,61.0,45.0,47.0,55.0,35.0,55.0,60.0,31.0,51.0,58.0,50.0,48.0,57.0,69.0,57.0,44.0,60.0,56.0,55.0,68.0,42.0,47.0,59.0,65.0,32.0,49.0,60.0,55.0,64.0,43.0,61.0,42.0,58.0,51.0,68.0,58.0,62.0,66.0,52.0,69.0,64.0,66.0,62.0,55.0,55.0,57.0,54.0,67.0,62.0,66.0,56.0,64.0,67.0,41.0,65.0,51.0,49.0,56.0,44.0,56.0,48.0,54.0,62.0,53.0,45.0,50.0,54.0,32.0,65.0,63.0,67.0,62.0,67.0,42.0,60.0,48.0,60.0,69.0,54.0,56.0,48.0,45.0,59.0,59.0,49.0,64.0,47.0,46.0,63.0,61.0,65.0,64.0,53.0,42.0,49.0,66.0,36.0,46.0,53.0,62.0,55.0,53.0,57.0,58.0,68.0,41.0,69.0,61.0,46.0,60.0,63.0,45.0,60.0,50.0,64.0,51.0,58.0,63.0,61.0,49.0,57.0,51.0,60.0,66.0,50.0,53.0,33.0,45.0,57.0,52.0,52.0,58.0,60.0,59.0,43.0,47.0,52.0,63.0,51.0,63.0,49.0,61.0,64.0,57.0,58.0,55.0,54.0,67.0,57.0,37.0,61.0,46.0,31.0,59.0,50.0,59.0,41.0,64.0,60.0,68.0,46.0,43.0,49.0,56.0,60.0,67.0,67.0,50.0,68.0,66.0,40.0,45.0,61.0,68.0,59.0,65.0,50.0,62.0,59.0,56.0,46.0,41.0,45.0,44.0,47.0,66.0,56.0,49.0,64.0,66.0,45.0,65.0,54.0,48.0,49.0,40.0,64.0,61.0,61.0,55.0,43.0,63.0,48.0,46.0,63.0,43.0,46.0,35.0,68.0,47.0,43.0,57.0,64.0,61.0,44.0,50.0,49.0,67.0,46.0,51.0,58.0,46.0,59.0,53.0,62.0,57.0,51.0,69.0,47.0,57.0,55.0,52.0,45.0,39.0,56.0,45.0,41.0,63.0,68.0,64.0,49.0,68.0,46.0,59.0,40.0,47.0,53.0,59.0,50.0,47.0,46.0,46.0,67.0,51.0,65.0,56.0,68.0,57.0,49.0,48.0,67.0,64.0,53.0,42.0,50.0,56.0,53.0,59.0,67.0,45.0,45.0,49.0,65.0,45.0,56.0,60.0,57.0,54.0,50.0,63.0,41.0,51.0,65.0,59.0,66.0,41.0,66.0,67.0,40.0,39.0,66.0,58.0,45.0,65.0,43.0,57.0,47.0,44.0,46.0,64.0,59.0,51.0,66.0,46.0,52.0,49.0,42.0,63.0,66.0,48.0,66.0,41.0,61.0,55.0,62.0,35.0,59.0,54.0,64.0,64.0,38.0,60.0,55.0,41.0,67.0,53.0,53.0,34.0,39.0,31.0,64.0,40.0,59.0,55.0,46.0,58.0,66.0,56.0,47.0,39.0,46.0,62.0,46.0,60.0,36.0,51.0,60.0,63.0,65.0,59.0,50.0,53.0,46.0,46.0,46.0,47.0,61.0,52.0,57.0,59.0,63.0,48.0,59.0,58.0,47.0,56.0,44.0,44.0,33.0,54.0,45.0,60.0,62.0,53.0,41.0,39.0,44.0,57.0,33.0,68.0,49.0,50.0,60.0,50.0,40.0,46.0,49.0,69.0,54.0,51.0,51.0,68.0,41.0,58.0,62.0,42.0,46.0,54.0,54.0,47.0,66.0,42.0,55.0,60.0,52.0,61.0,48.0,58.0,44.0,43.0,53.0,48.0,63.0,64.0,39.0,59.0,51.0,39.0,56.0,51.0,49.0,68.0,51.0,54.0,64.0,43.0,39.0,69.0,66.0,55.0,69.0,51.0,57.0,63.0,55.0,55.0,59.0,61.0,49.0,60.0,50.0,61.0,47.0,55.0,57.0,53.0,44.0,63.0,62.0,43.0,69.0,46.0,53.0,40.0,63.0,64.0,57.0,43.0,60.0,42.0,40.0,43.0,57.0,68.0,65.0,60.0,67.0,39.0,59.0,52.0,58.0,48.0,61.0,34.0,56.0,59.0,52.0,57.0,67.0,65.0,48.0,64.0,64.0,57.0,47.0,49.0,40.0,57.0,47.0,63.0,43.0,66.0,66.0,44.0,64.0,45.0,68.0,55.0,54.0,66.0,59.0,61.0,58.0,51.0,68.0,41.0,59.0,64.0,63.0,65.0,51.0,66.0,35.0,42.0,49.0,47.0,66.0,49.0,47.0,45.0,55.0,63.0,51.0,59.0,43.0,59.0,55.0,49.0,45.0,41.0,63.0,41.0,59.0,62.0,65.0,47.0,67.0,53.0,46.0,56.0,63.0,67.0,63.0,47.0,63.0,48.0,61.0,39.0,68.0,51.0,69.0,39.0,48.0,30.0,40.0,39.0,44.0,58.0,38.0,47.0,59.0,53.0,41.0,52.0,54.0,51.0,41.0,58.0,49.0,58.0,42.0,68.0,35.0,46.0,53.0,40.0,66.0,62.0,53.0,37.0,53.0,50.0,64.0,66.0,65.0,64.0,49.0,53.0,50.0,61.0,57.0,62.0,52.0,47.0,64.0,34.0,61.0,61.0,58.0,52.0,50.0,66.0,66.0,43.0,41.0,56.0,53.0,53.0,43.0,64.0,51.0,58.0,68.0,66.0,51.0,55.0,62.0,62.0,42.0,55.0,59.0,66.0,57.0,46.0,64.0,65.0,48.0,40.0,54.0,60.0,63.0,61.0,69.0,45.0,45.0,49.0,69.0,42.0,54.0,64.0,49.0,44.0,52.0,47.0,59.0,67.0,63.0,68.0,52.0,61.0,39.0,66.0,53.0,51.0,40.0,56.0,33.0,67.0,55.0,45.0,60.0,47.0,45.0,56.0,41.0,65.0,66.0,52.0,55.0,57.0,49.0,48.0,31.0,59.0,43.0,45.0,61.0,31.0,47.0,32.0,49.0,54.0,51.0,47.0,53.0,40.0,59.0,65.0,47.0,59.0,39.0,54.0,36.0,46.0,41.0,62.0,45.0,41.0,43.0,69.0,56.0,62.0,65.0,32.0,66.0,62.0,32.0,32.0,50.0,53.0,60.0,59.0,46.0,49.0,39.0,50.0,59.0,60.0,63.0,61.0,63.0,49.0,42.0,46.0,51.0,43.0,49.0,45.0,46.0,69.0,50.0,66.0,43.0,56.0,37.0,52.0,53.0,55.0,43.0,52.0,61.0,45.0,42.0,50.0,66.0,62.0,67.0,60.0,57.0,69.0,60.0,48.0,50.0,53.0,63.0,52.0,57.0,55.0,63.0,51.0,46.0,50.0,56.0,57.0,31.0,59.0,53.0,66.0,46.0,67.0,61.0,42.0,36.0,49.0,68.0,55.0,68.0,52.0,63.0,45.0,53.0,46.0,59.0,53.0,53.0,42.0,53.0,51.0,40.0,44.0,60.0,63.0,66.0,57.0,58.0,61.0,46.0,59.0,57.0,55.0,61.0,44.0,55.0,53.0,69.0,55.0,38.0,48.0,67.0,51.0,55.0,47.0,37.0,54.0,61.0,50.0,54.0,47.0,62.0,57.0,59.0,49.0,45.0,69.0,55.0,69.0,45.0,57.0,54.0,49.0,56.0,69.0,60.0,35.0,58.0,69.0,65.0,67.0,51.0,40.0,33.0,56.0,59.0,61.0,46.0,67.0,69.0,52.0,41.0,57.0,54.0,60.0,36.0,52.0,35.0,57.0,68.0,64.0,49.0,57.0,49.0,53.0,52.0,46.0,54.0,60.0,46.0,66.0,55.0,47.0,49.0,44.0,49.0,60.0,46.0,49.0,50.0,49.0,51.0,52.0,46.0,68.0,48.0,48.0,53.0,54.0,50.0,56.0,56.0,54.0,45.0,55.0,64.0,46.0,56.0,58.0,45.0,30.0,67.0,46.0,49.0,63.0,49.0,67.0,60.0,46.0,37.0,65.0,43.0,61.0,64.0,52.0,43.0,67.0,51.0,69.0,67.0,59.0,50.0,65.0,47.0,51.0,46.0,53.0,57.0,53.0,63.0,60.0,47.0,46.0,43.0,46.0,60.0,53.0,62.0,47.0,65.0,59.0,61.0,69.0,55.0,53.0,54.0,49.0,61.0,62.0,40.0,45.0,47.0,59.0,42.0,66.0,34.0,65.0,43.0,50.0,56.0,61.0,55.0,45.0,52.0,42.0,65.0,65.0,39.0,44.0,50.0,67.0,61.0,61.0,60.0,64.0,45.0,60.0,56.0,49.0,51.0,61.0,53.0,59.0,38.0,64.0,53.0,67.0,69.0,63.0,58.0,44.0,67.0,53.0,48.0,58.0,47.0,68.0,69.0,60.0,60.0,50.0,50.0,59.0,63.0,62.0,40.0,48.0,60.0,46.0,50.0,46.0,64.0,64.0,68.0,68.0,65.0,64.0,55.0,65.0,50.0,40.0,35.0,50.0,52.0,39.0,55.0,69.0,55.0,60.0,50.0,62.0,64.0,47.0,41.0,60.0,69.0,38.0,41.0,62.0,54.0,67.0,63.0,50.0,53.0,46.0,46.0,64.0,47.0,68.0,51.0,61.0,55.0,50.0,52.0,47.0,37.0,57.0,47.0,48.0,47.0,45.0,37.0,58.0,43.0,56.0,64.0,40.0,58.0,56.0,42.0,63.0,59.0,62.0,69.0,58.0,64.0,47.0,59.0,48.0,44.0,49.0,46.0,48.0,53.0,63.0,47.0,52.0,62.0,42.0,47.0,43.0,58.0,59.0,35.0,64.0,43.0,56.0,60.0,67.0,57.0,67.0,36.0,40.0,49.0,51.0,63.0,38.0,44.0,56.0,44.0,61.0,38.0,68.0,65.0,55.0,66.0,43.0,57.0,66.0,59.0,57.0,68.0,51.0,68.0,47.0,62.0,50.0,69.0,66.0,67.0,62.0,67.0,66.0,48.0,44.0,50.0,56.0,49.0,46.0,50.0,62.0,40.0,69.0,64.0,36.0,50.0,49.0,65.0,40.0,64.0,50.0,51.0,67.0,51.0,62.0,62.0,55.0,63.0,42.0,56.0,31.0,56.0,59.0,48.0,66.0,51.0,69.0,63.0,48.0,46.0,69.0,60.0,61.0,60.0,58.0,44.0,48.0,45.0,52.0,58.0,48.0,58.0,45.0,66.0,62.0,60.0,54.0,63.0,57.0,63.0,49.0,45.0,67.0,54.0,59.0,51.0,46.0,64.0,68.0,47.0,52.0,69.0,59.0,65.0,56.0,45.0,48.0,43.0,67.0,65.0,57.0,48.0,45.0,64.0,65.0,53.0,63.0,60.0,45.0,51.0,54.0,54.0,49.0,49.0,41.0,51.0,68.0,44.0,68.0,67.0,62.0,45.0,46.0,48.0,61.0,52.0,48.0,61.0,47.0,54.0,55.0,48.0,47.0,62.0,51.0,49.0,46.0,56.0,35.0,66.0,47.0,63.0,41.0,46.0,68.0,49.0,61.0,43.0,50.0,54.0,42.0,68.0,48.0,49.0,46.0,38.0,63.0,65.0,46.0,59.0,61.0,47.0,58.0,55.0,48.0,50.0,59.0,50.0,47.0,58.0,51.0,67.0,44.0,48.0,56.0,48.0,55.0,45.0,51.0,60.0,52.0,62.0,69.0,38.0,57.0,53.0,49.0,58.0,44.0,33.0,46.0,68.0,53.0,49.0,57.0,53.0,67.0,47.0,50.0,60.0,48.0,42.0,56.0,56.0,55.0,46.0,43.0,52.0,64.0,54.0,40.0,58.0,62.0,67.0,66.0,68.0,58.0,54.0,69.0,56.0,61.0,42.0,38.0,57.0,39.0,66.0,59.0,31.0,46.0,53.0,49.0,68.0,45.0,63.0,41.0,61.0,69.0,56.0,45.0,37.0,62.0,69.0,44.0,54.0,53.0,60.0,45.0,42.0,47.0,48.0,49.0,51.0,51.0,55.0,64.0,64.0,58.0,69.0,69.0,61.0,52.0,54.0,64.0,45.0,37.0,56.0,54.0,55.0,56.0,58.0,44.0,51.0,55.0,57.0,50.0,66.0,62.0,62.0,62.0,49.0,49.0,55.0,38.0,63.0,47.0,65.0,63.0,32.0,48.0,60.0,45.0,55.0,42.0,67.0,66.0,44.0,59.0,68.0,44.0,49.0,63.0,63.0,60.0,49.0,46.0,62.0,50.0,48.0,60.0,55.0,66.0,59.0,69.0,57.0,45.0,55.0,36.0,46.0,67.0,59.0,50.0,60.0,63.0,50.0,64.0,55.0,47.0,64.0,64.0,50.0,46.0,61.0,61.0,69.0,69.0,48.0,42.0,45.0,43.0,59.0,62.0,62.0,38.0,69.0,42.0,59.0,66.0,63.0,56.0,37.0,50.0,52.0,54.0,58.0,42.0,59.0,56.0,50.0,42.0,47.0,45.0,41.0,47.0,56.0,51.0,45.0,43.0,54.0,65.0,48.0,49.0,51.0,52.0,54.0,41.0,63.0,54.0,69.0,64.0,69.0,66.0,64.0,46.0,50.0,46.0,60.0,39.0,60.0,48.0,51.0,55.0,62.0,56.0,36.0,65.0,58.0,62.0,52.0,66.0,56.0,54.0,56.0,62.0,54.0,65.0,59.0,51.0,65.0,54.0,57.0,60.0,60.0,48.0,53.0,48.0,68.0,49.0,54.0,49.0,55.0,46.0,41.0,53.0,52.0,55.0,63.0,53.0,66.0,56.0,58.0,50.0,52.0,56.0,53.0,47.0,52.0,55.0,62.0,51.0,63.0,47.0,50.0,60.0,61.0,67.0,59.0,66.0,44.0,44.0,56.0,38.0,49.0,57.0,59.0,49.0,48.0,51.0,54.0,59.0,56.0,52.0,49.0,55.0,60.0,63.0,58.0,39.0,62.0,60.0,45.0,45.0,62.0,65.0,68.0,43.0,36.0,63.0,36.0,47.0,51.0,61.0,66.0,47.0,41.0,48.0,45.0,67.0,58.0,50.0,47.0,59.0,67.0,63.0,62.0,52.0,65.0,35.0,51.0,54.0,44.0,57.0,57.0,36.0,45.0,50.0,43.0,36.0,54.0,65.0,41.0,65.0,59.0,61.0,45.0,69.0,54.0,50.0,53.0,50.0,67.0,43.0,39.0,45.0,46.0,65.0,42.0,68.0,69.0,47.0,48.0,48.0,51.0,68.0,48.0,35.0,49.0,60.0,64.0,55.0,52.0,60.0,68.0,49.0,45.0,46.0,49.0,67.0,62.0,62.0,54.0,50.0,53.0,51.0,57.0,48.0,53.0,54.0,49.0,66.0,65.0,55.0,49.0,47.0,58.0,58.0,47.0,37.0,61.0,58.0,68.0,63.0,57.0,36.0,47.0,59.0,55.0,41.0,44.0,61.0,49.0,65.0,69.0,52.0,64.0,69.0,44.0,49.0,64.0,43.0,55.0,51.0,39.0,37.0,61.0,54.0,59.0,45.0,61.0,50.0,49.0,40.0,48.0,49.0,53.0,44.0,53.0,52.0,53.0,48.0,57.0,44.0,59.0,49.0,53.0,55.0,62.0,38.0,56.0,53.0,40.0,43.0,67.0,43.0,50.0,61.0,62.0,53.0,55.0,58.0,69.0,52.0,62.0,64.0,68.0,48.0,51.0,67.0,58.0,62.0,69.0,57.0,53.0,47.0,58.0,46.0,53.0,49.0,65.0,50.0,39.0,42.0,45.0,47.0,53.0,55.0,63.0,62.0,51.0,57.0,46.0,42.0,63.0,57.0,52.0,56.0,58.0,66.0,36.0,36.0,55.0,44.0,59.0,38.0,40.0,68.0,47.0,57.0,42.0,43.0,52.0,65.0,57.0,47.0,41.0,51.0,60.0,53.0,47.0,52.0,63.0,55.0,69.0,40.0,44.0,40.0,33.0,51.0,41.0,61.0,53.0,61.0,46.0,46.0,42.0,44.0,44.0,52.0,63.0,56.0,53.0,43.0,62.0,49.0,56.0,58.0,62.0,61.0,62.0,54.0,51.0,52.0,38.0,44.0,59.0,52.0,48.0,34.0,67.0,47.0,62.0,49.0,53.0,47.0,54.0,46.0,54.0,48.0,57.0,49.0,48.0,50.0,51.0,42.0,55.0,63.0,62.0,58.0,54.0,62.0,68.0,47.0,52.0,37.0,55.0,65.0,46.0,63.0,62.0,65.0,68.0,58.0,66.0,62.0,68.0,32.0,43.0,62.0,40.0,61.0,46.0,48.0,64.0,60.0,57.0,64.0,54.0,48.0,65.0,35.0,54.0,54.0,69.0,44.0,48.0,69.0,55.0,49.0,65.0,47.0,64.0,52.0,64.0,69.0,48.0,65.0,68.0,49.0,54.0,63.0,57.0,39.0,45.0,54.0,65.0,51.0,64.0,48.0,68.0,49.0,57.0,35.0,66.0,48.0,67.0,53.0,66.0,40.0,59.0,69.0,67.0,60.0,64.0,48.0,63.0,49.0,53.0,50.0,53.0,63.0,44.0,45.0,51.0,54.0,47.0,56.0,54.0,51.0,63.0,59.0,62.0,57.0,50.0,51.0,48.0,48.0,54.0,46.0,69.0,39.0,40.0,56.0,57.0,51.0,49.0,62.0,59.0,53.0,45.0,53.0,65.0,39.0,48.0,53.0,53.0,67.0,62.0,68.0,38.0,64.0,47.0,63.0,61.0,68.0,58.0,41.0,47.0,56.0,56.0,56.0,46.0,53.0,45.0,66.0,61.0,53.0,51.0,68.0,67.0,59.0,64.0,57.0,54.0,41.0,49.0,51.0,42.0,46.0,61.0,44.0,55.0,50.0,62.0,62.0,46.0,56.0,57.0,47.0,42.0,56.0,50.0,43.0,46.0,46.0,60.0,44.0,47.0,46.0,60.0,60.0,61.0,67.0,61.0,43.0,66.0,51.0,56.0,67.0,51.0,50.0,52.0,56.0,61.0,53.0,63.0,59.0,65.0,66.0,57.0,44.0,61.0,41.0,40.0,53.0,51.0,55.0,50.0,60.0,55.0,58.0,41.0,50.0,59.0,60.0,48.0,50.0,67.0,62.0,65.0,54.0,61.0,49.0,54.0,59.0,48.0,42.0,64.0,59.0,53.0,51.0,34.0,49.0,56.0,53.0,59.0,55.0,43.0,69.0,49.0,57.0,48.0,64.0,59.0,64.0,43.0,49.0,41.0,58.0,48.0,40.0,55.0,47.0,63.0,63.0,61.0,46.0,50.0,65.0,52.0,56.0,60.0,46.0,62.0,61.0,52.0,49.0,67.0,50.0,54.0,69.0,42.0,61.0,47.0,40.0,65.0,52.0,48.0,64.0,50.0,69.0,46.0,61.0,66.0,65.0,41.0,50.0,68.0,49.0,43.0,50.0,58.0,60.0,43.0,43.0,53.0,42.0,55.0,43.0,40.0,69.0,49.0,59.0,60.0,63.0,50.0,59.0,56.0,66.0,61.0,54.0,51.0,63.0,40.0,48.0,49.0,61.0,60.0,49.0,52.0,59.0,57.0,65.0,58.0,55.0,63.0,59.0,57.0,61.0,56.0,68.0,62.0,63.0,61.0,65.0,63.0,64.0,68.0,53.0,67.0,40.0,49.0,49.0,53.0,66.0,52.0,43.0,60.0,40.0,46.0,62.0,50.0,66.0,67.0,52.0,55.0,68.0,63.0,59.0,44.0,63.0,65.0,55.0,61.0,59.0,66.0,60.0,63.0,49.0,52.0,33.0,69.0,51.0,48.0,47.0,43.0,54.0,46.0,68.0,62.0,69.0,59.0,48.0,61.0,46.0,51.0,58.0,49.0,43.0,54.0,46.0,47.0,58.0,60.0,38.0,47.0,58.0,45.0,46.0,42.0,67.0,64.0,67.0,50.0,48.0,57.0,56.0,62.0,55.0,58.0,57.0,65.0,45.0,39.0,56.0,51.0,66.0,58.0,57.0,60.0,48.0,63.0,42.0,40.0,67.0,66.0,42.0,49.0,53.0,51.0,48.0,67.0,50.0,48.0,37.0,55.0,49.0,63.0,55.0,64.0,51.0,47.0,64.0,42.0,50.0,41.0,43.0,56.0,59.0,68.0,54.0,53.0,63.0,58.0,50.0,49.0,57.0,56.0,60.0,63.0,47.0,50.0,54.0,53.0,49.0,46.0,56.0,68.0,43.0,46.0,62.0,66.0,68.0,54.0,30.0,62.0,48.0,65.0,51.0,65.0,67.0,42.0,68.0,32.0,53.0,49.0,50.0,55.0,47.0,67.0,42.0,60.0,62.0,59.0,67.0,44.0,49.0,67.0,67.0,64.0,43.0,69.0,55.0,46.0,47.0,60.0,47.0,58.0,66.0,61.0,33.0,55.0,41.0,50.0,63.0,47.0,57.0,42.0,33.0,57.0,56.0,47.0,63.0,53.0,42.0,50.0,44.0,58.0,65.0,44.0,59.0,57.0,57.0,53.0,44.0,46.0,59.0,62.0,48.0,44.0,62.0,65.0,58.0,47.0,42.0,49.0,57.0,44.0,66.0,53.0,45.0,47.0,49.0,47.0,49.0,57.0,59.0,61.0,58.0,48.0,48.0,50.0,48.0,67.0,51.0,50.0,69.0,63.0,52.0,57.0,46.0,63.0,68.0,62.0,38.0,58.0,48.0,49.0,41.0,62.0,46.0,66.0,47.0,51.0,53.0,65.0,53.0,57.0,53.0,49.0,67.0,51.0,55.0,55.0,59.0,65.0,42.0,50.0,52.0,59.0,55.0,46.0,51.0,47.0,62.0,56.0,63.0,48.0,59.0,67.0,35.0,55.0,59.0,61.0,48.0,66.0,49.0,58.0,58.0,55.0,57.0,60.0,54.0,35.0,69.0,55.0,63.0,52.0,49.0,68.0,48.0,61.0,68.0,43.0,62.0,57.0,65.0,66.0,58.0,49.0,62.0,54.0,47.0,46.0,52.0,51.0,60.0,59.0,64.0,46.0,59.0,56.0,68.0,65.0,53.0,66.0,41.0,53.0,63.0,65.0,50.0,62.0,52.0,65.0,43.0,63.0,64.0,69.0,65.0,43.0,66.0,48.0,57.0,60.0,59.0,59.0,44.0,54.0,55.0,62.0,65.0,55.0,63.0,41.0,58.0,68.0,54.0,43.0,40.0,62.0,49.0,54.0,66.0,47.0,52.0,56.0,50.0,57.0,45.0,69.0,41.0,55.0,59.0,67.0,53.0,61.0,45.0,61.0,69.0,43.0,61.0,51.0,61.0,57.0,58.0,52.0,43.0,63.0,65.0,35.0,51.0,50.0,50.0,51.0,68.0,51.0,38.0,54.0,51.0,69.0,62.0,52.0,59.0,61.0,43.0,61.0,68.0,50.0,60.0,47.0,60.0,60.0,47.0,65.0,64.0,45.0,57.0,47.0,65.0,60.0,59.0,41.0,50.0,64.0,59.0,58.0,46.0,69.0,60.0,69.0,54.0,47.0,46.0,47.0,61.0,55.0,49.0,49.0,51.0,47.0,68.0,58.0,56.0,59.0,51.0,51.0,37.0,67.0,44.0,68.0,57.0,66.0,65.0,52.0,47.0,43.0,53.0,56.0,49.0,46.0,41.0,38.0,54.0,58.0,54.0,44.0,59.0,63.0,57.0,49.0,56.0,41.0,55.0,58.0,64.0,44.0,51.0,67.0,57.0,54.0,55.0,61.0,39.0,57.0,50.0,56.0,42.0,51.0,46.0,42.0,38.0,45.0,56.0,46.0,61.0,46.0,48.0,60.0,66.0,49.0,46.0,39.0,61.0,46.0,52.0,60.0,42.0,47.0,42.0,43.0,63.0,55.0,52.0,40.0,38.0,33.0,59.0,63.0,44.0,58.0,69.0,57.0,50.0,36.0,37.0,63.0,45.0,42.0,40.0,45.0,54.0,55.0,47.0,51.0,63.0,65.0,34.0,47.0,69.0,66.0,41.0,58.0,64.0,53.0,43.0,31.0,43.0,54.0,60.0,59.0,47.0,41.0,69.0,48.0,40.0,68.0,56.0,46.0,59.0,46.0,46.0,57.0,51.0,55.0,53.0,64.0,68.0,51.0,36.0,68.0,47.0,40.0,65.0,64.0,52.0,41.0,66.0,69.0,56.0,54.0,60.0,49.0,60.0,65.0,55.0,54.0,60.0,46.0,62.0,49.0,52.0,46.0,57.0,50.0,68.0,50.0,50.0,48.0,48.0,63.0,67.0,56.0,47.0,55.0,40.0,69.0,41.0,41.0,49.0,69.0,54.0,52.0,54.0,57.0,42.0,37.0,45.0,56.0,54.0,55.0,57.0,51.0,48.0,58.0,57.0,62.0,55.0,60.0,65.0,66.0,60.0,58.0,66.0,66.0,69.0,49.0,67.0,53.0,39.0,56.0,62.0,47.0,37.0,56.0,53.0,53.0,48.0,54.0,41.0,32.0,44.0,46.0,47.0,58.0,63.0,67.0,55.0,51.0,44.0,51.0,63.0,66.0,45.0,63.0,60.0,50.0,67.0,56.0,52.0,53.0,57.0,65.0,66.0,47.0,44.0,62.0,50.0,68.0,47.0,52.0,69.0,61.0,54.0,37.0,58.0,58.0,40.0,66.0,69.0,47.0,44.0,61.0,42.0,34.0,59.0,55.0,59.0,51.0,49.0,68.0,62.0,56.0,64.0,44.0,45.0,35.0,56.0,50.0,45.0,61.0,57.0,50.0,43.0,60.0,69.0,40.0,69.0,62.0,59.0,36.0,54.0,59.0,65.0,39.0,65.0,54.0,59.0,52.0,50.0,62.0,58.0,53.0,57.0,59.0,55.0,49.0,49.0,54.0,53.0,58.0,62.0,67.0,61.0,47.0,48.0,60.0,62.0,50.0,51.0,57.0,64.0,64.0,62.0,49.0,51.0,68.0,51.0,47.0,40.0,66.0,68.0,56.0,46.0,68.0,38.0,44.0,46.0,56.0,39.0,54.0,47.0,64.0,48.0,57.0,53.0,41.0,44.0,54.0,57.0,39.0,64.0,59.0,63.0,65.0,47.0,41.0,61.0,64.0,54.0,48.0,48.0,39.0,50.0,54.0,58.0,56.0,62.0,40.0,54.0,47.0,67.0,48.0,68.0,66.0,63.0,62.0,62.0,57.0,66.0,68.0,55.0,66.0,67.0,55.0,49.0,38.0,52.0,65.0,61.0,51.0,55.0,54.0,61.0,39.0,61.0,51.0,42.0,57.0,51.0,62.0,69.0,35.0,68.0,53.0,31.0,55.0,57.0,66.0,58.0,68.0,41.0,44.0,60.0,53.0,59.0,62.0,51.0,68.0,40.0,65.0,54.0,46.0,64.0,62.0,56.0,68.0,58.0,46.0],\"x0\":\" \",\"xaxis\":\"x\",\"y0\":\" \",\"yaxis\":\"y\",\"type\":\"box\"}],                        {\"template\":{\"data\":{\"histogram2dcontour\":[{\"type\":\"histogram2dcontour\",\"colorbar\":{\"outlinewidth\":0,\"ticks\":\"\"},\"colorscale\":[[0.0,\"#0d0887\"],[0.1111111111111111,\"#46039f\"],[0.2222222222222222,\"#7201a8\"],[0.3333333333333333,\"#9c179e\"],[0.4444444444444444,\"#bd3786\"],[0.5555555555555556,\"#d8576b\"],[0.6666666666666666,\"#ed7953\"],[0.7777777777777778,\"#fb9f3a\"],[0.8888888888888888,\"#fdca26\"],[1.0,\"#f0f921\"]]}],\"choropleth\":[{\"type\":\"choropleth\",\"colorbar\":{\"outlinewidth\":0,\"ticks\":\"\"}}],\"histogram2d\":[{\"type\":\"histogram2d\",\"colorbar\":{\"outlinewidth\":0,\"ticks\":\"\"},\"colorscale\":[[0.0,\"#0d0887\"],[0.1111111111111111,\"#46039f\"],[0.2222222222222222,\"#7201a8\"],[0.3333333333333333,\"#9c179e\"],[0.4444444444444444,\"#bd3786\"],[0.5555555555555556,\"#d8576b\"],[0.6666666666666666,\"#ed7953\"],[0.7777777777777778,\"#fb9f3a\"],[0.8888888888888888,\"#fdca26\"],[1.0,\"#f0f921\"]]}],\"heatmap\":[{\"type\":\"heatmap\",\"colorbar\":{\"outlinewidth\":0,\"ticks\":\"\"},\"colorscale\":[[0.0,\"#0d0887\"],[0.1111111111111111,\"#46039f\"],[0.2222222222222222,\"#7201a8\"],[0.3333333333333333,\"#9c179e\"],[0.4444444444444444,\"#bd3786\"],[0.5555555555555556,\"#d8576b\"],[0.6666666666666666,\"#ed7953\"],[0.7777777777777778,\"#fb9f3a\"],[0.8888888888888888,\"#fdca26\"],[1.0,\"#f0f921\"]]}],\"heatmapgl\":[{\"type\":\"heatmapgl\",\"colorbar\":{\"outlinewidth\":0,\"ticks\":\"\"},\"colorscale\":[[0.0,\"#0d0887\"],[0.1111111111111111,\"#46039f\"],[0.2222222222222222,\"#7201a8\"],[0.3333333333333333,\"#9c179e\"],[0.4444444444444444,\"#bd3786\"],[0.5555555555555556,\"#d8576b\"],[0.6666666666666666,\"#ed7953\"],[0.7777777777777778,\"#fb9f3a\"],[0.8888888888888888,\"#fdca26\"],[1.0,\"#f0f921\"]]}],\"contourcarpet\":[{\"type\":\"contourcarpet\",\"colorbar\":{\"outlinewidth\":0,\"ticks\":\"\"}}],\"contour\":[{\"type\":\"contour\",\"colorbar\":{\"outlinewidth\":0,\"ticks\":\"\"},\"colorscale\":[[0.0,\"#0d0887\"],[0.1111111111111111,\"#46039f\"],[0.2222222222222222,\"#7201a8\"],[0.3333333333333333,\"#9c179e\"],[0.4444444444444444,\"#bd3786\"],[0.5555555555555556,\"#d8576b\"],[0.6666666666666666,\"#ed7953\"],[0.7777777777777778,\"#fb9f3a\"],[0.8888888888888888,\"#fdca26\"],[1.0,\"#f0f921\"]]}],\"surface\":[{\"type\":\"surface\",\"colorbar\":{\"outlinewidth\":0,\"ticks\":\"\"},\"colorscale\":[[0.0,\"#0d0887\"],[0.1111111111111111,\"#46039f\"],[0.2222222222222222,\"#7201a8\"],[0.3333333333333333,\"#9c179e\"],[0.4444444444444444,\"#bd3786\"],[0.5555555555555556,\"#d8576b\"],[0.6666666666666666,\"#ed7953\"],[0.7777777777777778,\"#fb9f3a\"],[0.8888888888888888,\"#fdca26\"],[1.0,\"#f0f921\"]]}],\"mesh3d\":[{\"type\":\"mesh3d\",\"colorbar\":{\"outlinewidth\":0,\"ticks\":\"\"}}],\"scatter\":[{\"fillpattern\":{\"fillmode\":\"overlay\",\"size\":10,\"solidity\":0.2},\"type\":\"scatter\"}],\"parcoords\":[{\"type\":\"parcoords\",\"line\":{\"colorbar\":{\"outlinewidth\":0,\"ticks\":\"\"}}}],\"scatterpolargl\":[{\"type\":\"scatterpolargl\",\"marker\":{\"colorbar\":{\"outlinewidth\":0,\"ticks\":\"\"}}}],\"bar\":[{\"error_x\":{\"color\":\"#2a3f5f\"},\"error_y\":{\"color\":\"#2a3f5f\"},\"marker\":{\"line\":{\"color\":\"#E5ECF6\",\"width\":0.5},\"pattern\":{\"fillmode\":\"overlay\",\"size\":10,\"solidity\":0.2}},\"type\":\"bar\"}],\"scattergeo\":[{\"type\":\"scattergeo\",\"marker\":{\"colorbar\":{\"outlinewidth\":0,\"ticks\":\"\"}}}],\"scatterpolar\":[{\"type\":\"scatterpolar\",\"marker\":{\"colorbar\":{\"outlinewidth\":0,\"ticks\":\"\"}}}],\"histogram\":[{\"marker\":{\"pattern\":{\"fillmode\":\"overlay\",\"size\":10,\"solidity\":0.2}},\"type\":\"histogram\"}],\"scattergl\":[{\"type\":\"scattergl\",\"marker\":{\"colorbar\":{\"outlinewidth\":0,\"ticks\":\"\"}}}],\"scatter3d\":[{\"type\":\"scatter3d\",\"line\":{\"colorbar\":{\"outlinewidth\":0,\"ticks\":\"\"}},\"marker\":{\"colorbar\":{\"outlinewidth\":0,\"ticks\":\"\"}}}],\"scattermapbox\":[{\"type\":\"scattermapbox\",\"marker\":{\"colorbar\":{\"outlinewidth\":0,\"ticks\":\"\"}}}],\"scatterternary\":[{\"type\":\"scatterternary\",\"marker\":{\"colorbar\":{\"outlinewidth\":0,\"ticks\":\"\"}}}],\"scattercarpet\":[{\"type\":\"scattercarpet\",\"marker\":{\"colorbar\":{\"outlinewidth\":0,\"ticks\":\"\"}}}],\"carpet\":[{\"aaxis\":{\"endlinecolor\":\"#2a3f5f\",\"gridcolor\":\"white\",\"linecolor\":\"white\",\"minorgridcolor\":\"white\",\"startlinecolor\":\"#2a3f5f\"},\"baxis\":{\"endlinecolor\":\"#2a3f5f\",\"gridcolor\":\"white\",\"linecolor\":\"white\",\"minorgridcolor\":\"white\",\"startlinecolor\":\"#2a3f5f\"},\"type\":\"carpet\"}],\"table\":[{\"cells\":{\"fill\":{\"color\":\"#EBF0F8\"},\"line\":{\"color\":\"white\"}},\"header\":{\"fill\":{\"color\":\"#C8D4E3\"},\"line\":{\"color\":\"white\"}},\"type\":\"table\"}],\"barpolar\":[{\"marker\":{\"line\":{\"color\":\"#E5ECF6\",\"width\":0.5},\"pattern\":{\"fillmode\":\"overlay\",\"size\":10,\"solidity\":0.2}},\"type\":\"barpolar\"}],\"pie\":[{\"automargin\":true,\"type\":\"pie\"}]},\"layout\":{\"autotypenumbers\":\"strict\",\"colorway\":[\"#636efa\",\"#EF553B\",\"#00cc96\",\"#ab63fa\",\"#FFA15A\",\"#19d3f3\",\"#FF6692\",\"#B6E880\",\"#FF97FF\",\"#FECB52\"],\"font\":{\"color\":\"#2a3f5f\"},\"hovermode\":\"closest\",\"hoverlabel\":{\"align\":\"left\"},\"paper_bgcolor\":\"white\",\"plot_bgcolor\":\"#E5ECF6\",\"polar\":{\"bgcolor\":\"#E5ECF6\",\"angularaxis\":{\"gridcolor\":\"white\",\"linecolor\":\"white\",\"ticks\":\"\"},\"radialaxis\":{\"gridcolor\":\"white\",\"linecolor\":\"white\",\"ticks\":\"\"}},\"ternary\":{\"bgcolor\":\"#E5ECF6\",\"aaxis\":{\"gridcolor\":\"white\",\"linecolor\":\"white\",\"ticks\":\"\"},\"baxis\":{\"gridcolor\":\"white\",\"linecolor\":\"white\",\"ticks\":\"\"},\"caxis\":{\"gridcolor\":\"white\",\"linecolor\":\"white\",\"ticks\":\"\"}},\"coloraxis\":{\"colorbar\":{\"outlinewidth\":0,\"ticks\":\"\"}},\"colorscale\":{\"sequential\":[[0.0,\"#0d0887\"],[0.1111111111111111,\"#46039f\"],[0.2222222222222222,\"#7201a8\"],[0.3333333333333333,\"#9c179e\"],[0.4444444444444444,\"#bd3786\"],[0.5555555555555556,\"#d8576b\"],[0.6666666666666666,\"#ed7953\"],[0.7777777777777778,\"#fb9f3a\"],[0.8888888888888888,\"#fdca26\"],[1.0,\"#f0f921\"]],\"sequentialminus\":[[0.0,\"#0d0887\"],[0.1111111111111111,\"#46039f\"],[0.2222222222222222,\"#7201a8\"],[0.3333333333333333,\"#9c179e\"],[0.4444444444444444,\"#bd3786\"],[0.5555555555555556,\"#d8576b\"],[0.6666666666666666,\"#ed7953\"],[0.7777777777777778,\"#fb9f3a\"],[0.8888888888888888,\"#fdca26\"],[1.0,\"#f0f921\"]],\"diverging\":[[0,\"#8e0152\"],[0.1,\"#c51b7d\"],[0.2,\"#de77ae\"],[0.3,\"#f1b6da\"],[0.4,\"#fde0ef\"],[0.5,\"#f7f7f7\"],[0.6,\"#e6f5d0\"],[0.7,\"#b8e186\"],[0.8,\"#7fbc41\"],[0.9,\"#4d9221\"],[1,\"#276419\"]]},\"xaxis\":{\"gridcolor\":\"white\",\"linecolor\":\"white\",\"ticks\":\"\",\"title\":{\"standoff\":15},\"zerolinecolor\":\"white\",\"automargin\":true,\"zerolinewidth\":2},\"yaxis\":{\"gridcolor\":\"white\",\"linecolor\":\"white\",\"ticks\":\"\",\"title\":{\"standoff\":15},\"zerolinecolor\":\"white\",\"automargin\":true,\"zerolinewidth\":2},\"scene\":{\"xaxis\":{\"backgroundcolor\":\"#E5ECF6\",\"gridcolor\":\"white\",\"linecolor\":\"white\",\"showbackground\":true,\"ticks\":\"\",\"zerolinecolor\":\"white\",\"gridwidth\":2},\"yaxis\":{\"backgroundcolor\":\"#E5ECF6\",\"gridcolor\":\"white\",\"linecolor\":\"white\",\"showbackground\":true,\"ticks\":\"\",\"zerolinecolor\":\"white\",\"gridwidth\":2},\"zaxis\":{\"backgroundcolor\":\"#E5ECF6\",\"gridcolor\":\"white\",\"linecolor\":\"white\",\"showbackground\":true,\"ticks\":\"\",\"zerolinecolor\":\"white\",\"gridwidth\":2}},\"shapedefaults\":{\"line\":{\"color\":\"#2a3f5f\"}},\"annotationdefaults\":{\"arrowcolor\":\"#2a3f5f\",\"arrowhead\":0,\"arrowwidth\":1},\"geo\":{\"bgcolor\":\"white\",\"landcolor\":\"#E5ECF6\",\"subunitcolor\":\"white\",\"showland\":true,\"showlakes\":true,\"lakecolor\":\"white\"},\"title\":{\"x\":0.05},\"mapbox\":{\"style\":\"light\"}}},\"xaxis\":{\"anchor\":\"y\",\"domain\":[0.0,1.0],\"title\":{\"text\":\"Age\"}},\"yaxis\":{\"anchor\":\"x\",\"domain\":[0.0,1.0]},\"legend\":{\"tracegroupgap\":0},\"margin\":{\"t\":60},\"boxmode\":\"group\"},                        {\"responsive\": true}                    ).then(function(){\n",
              "                            \n",
              "var gd = document.getElementById('e3f70f09-5326-4fcb-b8ed-f8226c90a32e');\n",
              "var x = new MutationObserver(function (mutations, observer) {{\n",
              "        var display = window.getComputedStyle(gd).display;\n",
              "        if (!display || display === 'none') {{\n",
              "            console.log([gd, 'removed!']);\n",
              "            Plotly.purge(gd);\n",
              "            observer.disconnect();\n",
              "        }}\n",
              "}});\n",
              "\n",
              "// Listen for the removal of the full notebook cells\n",
              "var notebookContainer = gd.closest('#notebook-container');\n",
              "if (notebookContainer) {{\n",
              "    x.observe(notebookContainer, {childList: true});\n",
              "}}\n",
              "\n",
              "// Listen for the clearing of the current output cell\n",
              "var outputEl = gd.closest('.output');\n",
              "if (outputEl) {{\n",
              "    x.observe(outputEl, {childList: true});\n",
              "}}\n",
              "\n",
              "                        })                };                            </script>        </div>\n",
              "</body>\n",
              "</html>"
            ]
          },
          "metadata": {}
        }
      ]
    },
    {
      "cell_type": "markdown",
      "source": [
        "The Above Diagrams shows that there are Extreme values , which we have to getrid of"
      ],
      "metadata": {
        "id": "HqpNXOXftKlL"
      }
    },
    {
      "cell_type": "markdown",
      "source": [
        "Todo that will use  find outliers we can use a method called IQR statistical\n",
        "\n",
        "it will use 1st Quater and 3rd Quator and Substracts them and get the IQRValue then\n",
        "\n",
        "find the values which are out of (1st Quater-(1.5IQRValue) or 3rd Quater+(1.5IQRValue)"
      ],
      "metadata": {
        "id": "Jo0Wbbh3tbSD"
      }
    },
    {
      "cell_type": "code",
      "source": [
        "def find_outliers_IQR(df):\n",
        "  q1= df.quantile(0.25)\n",
        "  q3 = df.quantile(0.75)\n",
        "  IQR = q3 - q1\n",
        "  outliers = df[((df<(q1-1.5*IQR))|(df>(q3+1.5*IQR)))]\n",
        "  return outliers.index"
      ],
      "metadata": {
        "id": "BUJGlYCatfg0"
      },
      "execution_count": null,
      "outputs": []
    },
    {
      "cell_type": "markdown",
      "source": [
        "\n",
        "\n",
        "---\n",
        "\n",
        "Oulier Visualization For **Tumor_Size**"
      ],
      "metadata": {
        "id": "G9wK0HhV4RSJ"
      }
    },
    {
      "cell_type": "code",
      "source": [
        "print(find_outliers_IQR(df['Age']))"
      ],
      "metadata": {
        "colab": {
          "base_uri": "https://localhost:8080/"
        },
        "id": "AMzYGn3yvKT3",
        "outputId": "49ecb158-3aba-417e-e115-c327cc849a94"
      },
      "execution_count": null,
      "outputs": [
        {
          "output_type": "stream",
          "name": "stdout",
          "text": [
            "Index([142, 212, 522, 842], dtype='int64')\n"
          ]
        }
      ]
    },
    {
      "cell_type": "markdown",
      "source": [
        "*Here you can see there are 4 extreme values for Age*"
      ],
      "metadata": {
        "id": "XTl-YuP0vraU"
      }
    },
    {
      "cell_type": "markdown",
      "source": [
        "*we can remove those by Index*"
      ],
      "metadata": {
        "id": "cpPfdYZUv4lM"
      }
    },
    {
      "cell_type": "code",
      "source": [
        "df.drop(index=find_outliers_IQR(df['Age']), inplace=True)"
      ],
      "metadata": {
        "id": "vieiHiNdv0R8"
      },
      "execution_count": null,
      "outputs": []
    },
    {
      "cell_type": "markdown",
      "source": [
        "\n",
        "\n",
        "---\n",
        "\n",
        "Oulier Visualization For **Tumor_Size**"
      ],
      "metadata": {
        "id": "1zhcOY7L3Tyi"
      }
    },
    {
      "cell_type": "code",
      "source": [
        "printOutlierVisalization(\"Tumor_Size\")\n",
        "print(find_outliers_IQR(df['Tumor_Size']))"
      ],
      "metadata": {
        "colab": {
          "base_uri": "https://localhost:8080/",
          "height": 1000
        },
        "collapsed": true,
        "id": "FqMqD6Le3pJX",
        "outputId": "c95f8569-3d55-4f68-a64c-e7c8e7f52e7a"
      },
      "execution_count": null,
      "outputs": [
        {
          "output_type": "stream",
          "name": "stdout",
          "text": [
            "Ourlier Visulaization for Tumor_Size\n"
          ]
        },
        {
          "output_type": "display_data",
          "data": {
            "text/html": [
              "<html>\n",
              "<head><meta charset=\"utf-8\" /></head>\n",
              "<body>\n",
              "    <div>            <script src=\"https://cdnjs.cloudflare.com/ajax/libs/mathjax/2.7.5/MathJax.js?config=TeX-AMS-MML_SVG\"></script><script type=\"text/javascript\">if (window.MathJax && window.MathJax.Hub && window.MathJax.Hub.Config) {window.MathJax.Hub.Config({SVG: {font: \"STIX-Web\"}});}</script>                <script type=\"text/javascript\">window.PlotlyConfig = {MathJaxConfig: 'local'};</script>\n",
              "        <script charset=\"utf-8\" src=\"https://cdn.plot.ly/plotly-2.35.2.min.js\"></script>                <div id=\"6587d117-1b99-46d0-a230-59ed9e657607\" class=\"plotly-graph-div\" style=\"height:525px; width:100%;\"></div>            <script type=\"text/javascript\">                                    window.PLOTLYENV=window.PLOTLYENV || {};                                    if (document.getElementById(\"6587d117-1b99-46d0-a230-59ed9e657607\")) {                    Plotly.newPlot(                        \"6587d117-1b99-46d0-a230-59ed9e657607\",                        [{\"alignmentgroup\":\"True\",\"bingroup\":\"x\",\"hovertemplate\":\"Tumor_Size=%{x}\\u003cbr\\u003ecount=%{y}\\u003cextra\\u003e\\u003c\\u002fextra\\u003e\",\"legendgroup\":\"\",\"marker\":{\"color\":\"#636efa\",\"pattern\":{\"shape\":\"\"}},\"name\":\"\",\"offsetgroup\":\"\",\"orientation\":\"v\",\"showlegend\":false,\"x\":[4.0,35.0,63.0,18.0,41.0,20.0,8.0,30.0,103.0,32.0,13.0,59.0,35.0,15.0,35.0,19.0,46.0,24.0,25.0,29.0,30.0,40.0,29.0,70.0,20.0,22.0,50.0,17.0,25.0,21.0,40.0,15.0,15.0,20.0,30.0,10.0,27.0,18.0,35.0,23.0,70.0,17.0,21.0,23.0,5.0,51.0,9.0,15.0,32.0,5.0,23.0,55.0,120.0,77.0,2.0,11.0,25.0,18.0,15.0,12.0,18.0,17.0,26.0,75.0,13.0,15.0,70.0,15.0,15.0,17.0,130.0,34.0,30.0,10.0,22.0,55.0,25.0,50.0,50.0,15.0,30.0,20.0,22.0,15.0,15.0,40.0,120.0,80.0,17.0,3.0,60.0,14.0,26.0,25.0,12.0,25.0,30.0,25.0,24.0,27.0,70.0,16.0,45.0,27.0,23.0,25.0,40.0,20.0,21.0,36.0,14.0,51.0,50.0,45.0,51.0,19.0,76.0,20.0,35.0,27.0,35.0,35.0,50.0,38.0,15.0,17.0,25.0,19.0,15.0,18.0,11.0,45.0,12.0,20.0,45.0,18.0,25.0,21.0,49.0,70.0,7.0,19.0,38.0,34.0,30.0,4.0,72.0,18.0,25.0,9.0,21.0,20.0,15.0,18.0,100.0,17.0,7.0,24.0,43.0,30.0,7.0,18.0,12.0,25.0,62.0,20.0,70.0,37.0,13.0,40.0,70.0,12.0,9.0,10.0,55.0,18.0,15.0,25.0,50.0,10.0,30.0,13.0,40.0,100.0,25.0,68.0,25.0,23.0,15.0,22.0,7.0,16.0,24.0,75.0,11.0,35.0,60.0,30.0,25.0,25.0,25.0,12.0,25.0,17.0,11.0,32.0,21.0,25.0,19.0,-75.0,52.0,17.0,35.0,85.0,50.0,51.0,18.0,75.0,72.0,35.0,12.0,23.0,16.0,16.0,57.0,50.0,17.0,32.0,21.0,11.0,40.0,15.0,17.0,14.0,60.0,55.0,120.0,11.0,39.0,23.0,28.0,37.0,40.0,9.0,8.0,28.0,15.0,17.0,50.0,48.0,30.0,68.0,110.0,23.0,12.0,13.0,40.0,30.0,9.0,22.0,30.0,12.0,10.0,25.0,16.0,65.0,22.0,17.0,60.0,22.0,35.0,18.0,34.0,6.0,105.0,100.0,20.0,57.0,10.0,17.0,25.0,21.0,45.0,50.0,35.0,38.0,16.0,140.0,25.0,18.0,18.0,34.0,65.0,13.0,20.0,29.0,10.0,62.0,50.0,29.0,15.0,15.0,42.0,130.0,21.0,51.0,30.0,35.0,31.0,14.0,15.0,60.0,20.0,22.0,80.0,15.0,100.0,30.0,8.0,15.0,80.0,30.0,25.0,24.0,35.0,12.0,45.0,25.0,35.0,28.0,17.0,15.0,32.0,15.0,60.0,90.0,11.0,37.0,21.0,2.0,70.0,8.0,22.0,40.0,13.0,32.0,5.0,18.0,52.0,31.0,14.0,7.0,12.0,21.0,20.0,26.0,16.0,15.0,25.0,20.0,80.0,30.0,16.0,20.0,17.0,100.0,41.0,16.0,25.0,108.0,12.0,38.0,24.0,45.0,98.0,25.0,30.0,90.0,27.0,47.0,30.0,25.0,17.0,22.0,18.0,18.0,25.0,27.0,25.0,70.0,65.0,22.0,45.0,20.0,65.0,17.0,15.0,15.0,19.0,90.0,10.0,40.0,31.0,30.0,26.0,25.0,11.0,22.0,59.0,23.0,25.0,18.0,15.0,30.0,25.0,27.0,25.0,24.0,24.0,20.0,10.0,7.0,42.0,54.0,75.0,15.0,22.0,20.0,65.0,61.0,27.0,16.0,35.0,55.0,17.0,8.0,25.0,10.0,26.0,120.0,7.0,18.0,30.0,70.0,20.0,80.0,30.0,45.0,25.0,6.0,21.0,11.0,18.0,40.0,20.0,12.0,16.0,10.0,20.0,20.0,25.0,17.0,22.0,20.0,20.0,30.0,13.0,15.0,36.0,8.0,10.0,35.0,70.0,35.0,74.0,16.0,70.0,21.0,100.0,70.0,12.0,80.0,25.0,19.0,25.0,16.0,60.0,15.0,20.0,9.0,16.0,60.0,15.0,12.0,17.0,25.0,18.0,15.0,45.0,70.0,10.0,9.0,12.0,15.0,18.0,12.0,16.0,15.0,30.0,20.0,21.0,10.0,35.0,22.0,33.0,60.0,13.0,21.0,13.0,39.0,35.0,18.0,100.0,130.0,21.0,26.0,50.0,8.0,16.0,16.0,15.0,28.0,23.0,1.0,23.0,21.0,19.0,87.0,33.0,15.0,13.0,15.0,25.0,60.0,30.0,18.0,20.0,55.0,25.0,11.0,11.0,40.0,16.0,55.0,36.0,16.0,25.0,30.0,19.0,30.0,55.0,80.0,50.0,14.0,10.0,30.0,60.0,24.0,32.0,42.0,35.0,26.0,30.0,31.0,11.0,26.0,18.0,43.0,20.0,35.0,13.0,14.0,81.0,10.0,10.0,20.0,30.0,22.0,20.0,28.0,80.0,37.0,35.0,12.0,19.0,20.0,22.0,14.0,32.0,80.0,21.0,25.0,21.0,15.0,28.0,18.0,27.0,30.0,25.0,35.0,12.0,30.0,29.0,70.0,21.0,60.0,25.0,20.0,22.0,12.0,48.0,31.0,27.0,18.0,1.0,40.0,26.0,80.0,20.0,27.0,20.0,30.0,25.0,22.0,63.0,10.0,10.0,40.0,10.0,40.0,20.0,30.0,6.0,22.0,22.0,15.0,40.0,45.0,13.0,25.0,11.0,58.0,30.0,23.0,9.0,32.0,35.0,15.0,15.0,21.0,51.0,15.0,60.0,25.0,51.0,25.0,30.0,11.0,40.0,5.0,35.0,38.0,30.0,25.0,25.0,27.0,25.0,18.0,40.0,40.0,15.0,20.0,23.0,34.0,16.0,18.0,50.0,45.0,100.0,18.0,23.0,25.0,32.0,30.0,30.0,30.0,18.0,24.0,70.0,28.0,20.0,35.0,117.0,10.0,70.0,35.0,11.0,27.0,12.0,26.0,76.0,32.0,18.0,23.0,10.0,18.0,23.0,25.0,32.0,18.0,17.0,52.0,27.0,7.0,70.0,26.0,55.0,20.0,15.0,20.0,20.0,61.0,8.0,15.0,12.0,40.0,25.0,140.0,12.0,21.0,23.0,20.0,17.0,65.0,25.0,19.0,12.0,11.0,40.0,26.0,30.0,50.0,44.0,21.0,35.0,22.0,55.0,17.0,1.0,23.0,25.0,14.0,25.0,35.0,20.0,25.0,90.0,13.0,12.0,45.0,15.0,35.0,17.0,24.0,55.0,16.0,20.0,18.0,32.0,30.0,30.0,19.0,24.0,18.0,25.0,19.0,30.0,32.0,16.0,2.0,30.0,27.0,10.0,10.0,18.0,30.0,22.0,40.0,65.0,13.0,6.0,40.0,19.0,20.0,45.0,31.0,30.0,14.0,35.0,10.0,25.0,40.0,45.0,21.0,28.0,4.0,25.0,15.0,61.0,22.0,27.0,19.0,25.0,8.0,23.0,80.0,7.0,15.0,13.0,30.0,50.0,31.0,30.0,15.0,15.0,50.0,25.0,30.0,60.0,51.0,18.0,25.0,50.0,8.0,40.0,16.0,18.0,13.0,35.0,12.0,50.0,29.0,20.0,7.0,21.0,20.0,22.0,31.0,45.0,25.0,35.0,15.0,22.0,15.0,16.0,26.0,35.0,30.0,23.0,18.0,123.0,16.0,11.0,75.0,60.0,20.0,15.0,27.0,9.0,60.0,7.0,19.0,15.0,40.0,19.0,130.0,30.0,70.0,24.0,110.0,133.0,22.0,55.0,95.0,25.0,13.0,12.0,17.0,10.0,70.0,30.0,20.0,107.0,40.0,30.0,90.0,16.0,47.0,30.0,7.0,30.0,20.0,60.0,30.0,14.0,20.0,27.0,40.0,92.0,7.0,20.0,22.0,8.0,50.0,22.0,14.0,30.0,50.0,15.0,25.0,18.0,35.0,13.0,100.0,105.0,20.0,15.0,30.0,12.0,50.0,20.0,7.0,42.0,19.0,27.0,14.0,17.0,15.0,13.0,12.0,26.0,20.0,17.0,20.0,24.0,30.0,16.0,18.0,30.0,52.0,60.0,21.0,33.0,6.0,25.0,15.0,14.0,105.0,35.0,57.0,20.0,20.0,28.0,60.0,25.0,20.0,13.0,100.0,2.0,20.0,38.0,24.0,25.0,15.0,25.0,51.0,35.0,25.0,45.0,21.0,19.0,40.0,9.0,22.0,38.0,50.0,30.0,23.0,21.0,140.0,60.0,17.0,55.0,17.0,29.0,40.0,17.0,30.0,32.0,40.0,15.0,35.0,32.0,21.0,25.0,33.0,22.0,15.0,32.0,6.0,30.0,14.0,10.0,12.0,15.0,21.0,20.0,20.0,15.0,54.0,21.0,22.0,22.0,17.0,25.0,22.0,45.0,11.0,17.0,17.0,40.0,5.0,13.0,19.0,19.0,35.0,16.0,15.0,23.0,15.0,19.0,18.0,16.0,21.0,32.0,13.0,16.0,40.0,50.0,35.0,16.0,35.0,36.0,35.0,55.0,25.0,22.0,17.0,55.0,10.0,23.0,25.0,5.0,16.0,55.0,24.0,21.0,13.0,22.0,14.0,30.0,18.0,16.0,56.0,31.0,14.0,15.0,82.0,16.0,16.0,16.0,16.0,50.0,25.0,18.0,25.0,18.0,30.0,65.0,1.0,25.0,20.0,30.0,30.0,18.0,16.0,50.0,52.0,37.0,25.0,40.0,50.0,15.0,25.0,80.0,13.0,25.0,40.0,15.0,19.0,65.0,18.0,15.0,16.0,23.0,21.0,10.0,20.0,40.0,31.0,15.0,11.0,55.0,15.0,37.0,42.0,22.0,48.0,15.0,7.0,40.0,12.0,12.0,65.0,15.0,16.0,22.0,35.0,25.0,20.0,18.0,85.0,25.0,100.0,15.0,18.0,14.0,23.0,40.0,17.0,21.0,22.0,31.0,11.0,19.0,35.0,9.0,21.0,6.0,20.0,60.0,38.0,9.0,11.0,30.0,22.0,25.0,13.0,30.0,25.0,25.0,48.0,6.0,14.0,7.0,90.0,25.0,15.0,120.0,14.0,15.0,35.0,30.0,16.0,9.0,23.0,17.0,43.0,19.0,21.0,17.0,45.0,18.0,43.0,61.0,27.0,15.0,25.0,31.0,50.0,30.0,38.0,5.0,11.0,35.0,7.0,14.0,120.0,14.0,33.0,19.0,19.0,15.0,18.0,47.0,13.0,25.0,28.0,16.0,31.0,4.0,31.0,30.0,55.0,30.0,14.0,17.0,21.0,70.0,30.0,15.0,40.0,8.0,7.0,40.0,35.0,16.0,30.0,18.0,30.0,15.0,12.0,40.0,57.0,60.0,38.0,55.0,24.0,20.0,40.0,38.0,70.0,18.0,25.0,74.0,60.0,60.0,23.0,45.0,21.0,14.0,13.0,20.0,21.0,25.0,22.0,8.0,25.0,25.0,70.0,11.0,80.0,16.0,18.0,15.0,26.0,20.0,18.0,18.0,14.0,42.0,58.0,18.0,25.0,9.0,19.0,11.0,15.0,21.0,52.0,40.0,11.0,20.0,33.0,14.0,28.0,20.0,19.0,100.0,9.0,25.0,15.0,60.0,76.0,16.0,20.0,45.0,35.0,18.0,20.0,26.0,35.0,40.0,30.0,12.0,19.0,28.0,28.0,22.0,8.0,32.0,45.0,55.0,9.0,23.0,20.0,35.0,23.0,80.0,15.0,9.0,30.0,20.0,66.0,22.0,16.0,14.0,80.0,25.0,10.0,22.0,12.0,19.0,17.0,25.0,9.0,9.0,33.0,37.0,24.0,18.0,75.0,25.0,10.0,36.0,26.0,14.0,82.0,30.0,12.0,22.0,16.0,16.0,40.0,20.0,28.0,21.0,24.0,55.0,31.0,24.0,37.0,30.0,20.0,14.0,20.0,27.0,12.0,80.0,23.0,14.0,10.0,22.0,15.0,27.0,20.0,31.0,14.0,40.0,25.0,35.0,20.0,42.0,25.0,50.0,20.0,13.0,6.0,16.0,60.0,23.0,15.0,14.0,9.0,16.0,42.0,40.0,25.0,25.0,37.0,23.0,30.0,12.0,35.0,47.0,28.0,63.0,8.0,35.0,60.0,30.0,22.0,13.0,42.0,45.0,25.0,10.0,35.0,37.0,35.0,40.0,17.0,12.0,15.0,30.0,60.0,19.0,27.0,10.0,12.0,70.0,44.0,45.0,17.0,80.0,16.0,24.0,8.0,51.0,70.0,60.0,45.0,1.0,27.0,35.0,72.0,45.0,20.0,30.0,30.0,13.0,120.0,15.0,61.0,15.0,30.0,18.0,28.0,8.0,22.0,40.0,15.0,20.0,15.0,23.0,20.0,17.0,21.0,52.0,30.0,22.0,19.0,18.0,47.0,15.0,15.0,21.0,40.0,17.0,14.0,23.0,68.0,25.0,50.0,140.0,28.0,7.0,23.0,7.0,10.0,15.0,11.0,12.0,28.0,80.0,25.0,28.0,15.0,30.0,15.0,22.0,28.0,16.0,95.0,27.0,56.0,50.0,21.0,21.0,40.0,18.0,55.0,90.0,28.0,55.0,21.0,9.0,35.0,13.0,55.0,51.0,34.0,5.0,60.0,45.0,38.0,48.0,35.0,32.0,25.0,60.0,12.0,19.0,40.0,50.0,55.0,28.0,18.0,21.0,37.0,11.0,20.0,30.0,15.0,55.0,17.0,17.0,25.0,22.0,35.0,20.0,20.0,39.0,33.0,18.0,40.0,24.0,35.0,40.0,11.0,26.0,18.0,15.0,25.0,21.0,18.0,55.0,15.0,18.0,20.0,15.0,20.0,70.0,13.0,55.0,55.0,24.0,50.0,30.0,10.0,18.0,18.0,45.0,15.0,16.0,45.0,18.0,60.0,24.0,35.0,15.0,21.0,25.0,15.0,11.0,100.0,52.0,24.0,14.0,55.0,45.0,25.0,25.0,32.0,41.0,40.0,32.0,12.0,7.0,30.0,22.0,30.0,17.0,21.0,15.0,22.0,15.0,9.0,49.0,57.0,20.0,27.0,30.0,30.0,5.0,22.0,55.0,45.0,25.0,25.0,5.0,55.0,15.0,15.0,24.0,10.0,14.0,25.0,10.0,20.0,80.0,20.0,15.0,10.0,40.0,15.0,17.0,11.0,15.0,17.0,19.0,26.0,22.0,8.0,120.0,24.0,23.0,90.0,61.0,17.0,40.0,1.0,34.0,10.0,27.0,30.0,50.0,25.0,63.0,17.0,18.0,20.0,45.0,25.0,70.0,3.0,26.0,32.0,60.0,18.0,70.0,35.0,8.0,65.0,70.0,45.0,35.0,28.0,75.0,20.0,15.0,15.0,18.0,30.0,10.0,15.0,35.0,35.0,13.0,15.0,19.0,25.0,23.0,47.0,17.0,14.0,47.0,8.0,12.0,38.0,16.0,90.0,17.0,70.0,18.0,21.0,32.0,30.0,50.0,14.0,19.0,11.0,18.0,19.0,20.0,28.0,15.0,65.0,19.0,15.0,23.0,16.0,30.0,60.0,15.0,22.0,30.0,18.0,20.0,45.0,17.0,20.0,21.0,25.0,6.0,14.0,20.0,15.0,17.0,10.0,25.0,30.0,8.0,18.0,18.0,21.0,15.0,78.0,20.0,18.0,18.0,52.0,20.0,25.0,12.0,15.0,6.0,18.0,35.0,21.0,60.0,97.0,45.0,35.0,13.0,17.0,14.0,25.0,17.0,21.0,35.0,8.0,13.0,38.0,88.0,18.0,40.0,20.0,7.0,27.0,60.0,28.0,38.0,45.0,21.0,42.0,19.0,60.0,43.0,6.0,40.0,50.0,14.0,45.0,20.0,28.0,12.0,20.0,42.0,14.0,2.0,35.0,11.0,5.0,20.0,29.0,24.0,18.0,10.0,30.0,15.0,15.0,60.0,26.0,40.0,40.0,25.0,27.0,22.0,23.0,12.0,30.0,2.0,40.0,30.0,60.0,9.0,70.0,17.0,45.0,51.0,10.0,85.0,30.0,14.0,15.0,10.0,27.0,15.0,35.0,20.0,90.0,10.0,100.0,55.0,35.0,18.0,21.0,15.0,74.0,50.0,70.0,24.0,28.0,15.0,38.0,16.0,35.0,19.0,52.0,10.0,39.0,30.0,8.0,19.0,11.0,22.0,23.0,14.0,25.0,55.0,40.0,35.0,17.0,35.0,15.0,15.0,80.0,40.0,42.0,14.0,26.0,42.0,25.0,70.0,40.0,60.0,25.0,5.0,30.0,45.0,11.0,22.0,25.0,14.0,19.0,20.0,12.0,16.0,60.0,46.0,53.0,6.0,18.0,5.0,25.0,35.0,10.0,60.0,16.0,12.0,31.0,51.0,50.0,25.0,15.0,33.0,80.0,25.0,9.0,27.0,15.0,8.0,70.0,35.0,18.0,20.0,48.0,18.0,35.0,42.0,15.0,15.0,45.0,36.0,40.0,40.0,50.0,15.0,16.0,14.0,10.0,15.0,18.0,24.0,50.0,50.0,20.0,25.0,25.0,25.0,30.0,52.0,62.0,80.0,17.0,36.0,23.0,53.0,10.0,24.0,65.0,15.0,40.0,12.0,20.0,21.0,17.0,56.0,80.0,16.0,30.0,45.0,20.0,20.0,22.0,50.0,16.0,35.0,31.0,29.0,10.0,55.0,8.0,40.0,15.0,70.0,25.0,35.0,69.0,85.0,20.0,18.0,28.0,50.0,12.0,44.0,42.0,17.0,63.0,80.0,90.0,34.0,18.0,35.0,40.0,20.0,110.0,10.0,23.0,20.0,13.0,25.0,36.0,25.0,3.0,3.0,83.0,12.0,14.0,80.0,15.0,15.0,25.0,15.0,15.0,17.0,15.0,21.0,17.0,80.0,45.0,17.0,20.0,34.0,25.0,60.0,25.0,20.0,24.0,30.0,15.0,17.0,16.0,20.0,42.0,25.0,75.0,36.0,12.0,4.0,35.0,34.0,22.0,35.0,30.0,81.0,40.0,30.0,60.0,13.0,15.0,15.0,20.0,40.0,15.0,30.0,25.0,65.0,78.0,14.0,5.0,13.0,15.0,15.0,7.0,14.0,13.0,22.0,14.0,25.0,10.0,11.0,14.0,13.0,10.0,6.0,21.0,40.0,16.0,5.0,18.0,14.0,42.0,32.0,28.0,28.0,60.0,35.0,85.0,12.0,20.0,27.0,36.0,33.0,23.0,13.0,4.0,25.0,80.0,55.0,45.0,11.0,37.0,30.0,18.0,16.0,15.0,42.0,75.0,15.0,35.0,28.0,15.0,24.0,23.0,61.0,75.0,10.0,21.0,12.0,22.0,32.0,28.0,70.0,65.0,16.0,10.0,110.0,25.0,24.0,8.0,25.0,9.0,14.0,40.0,10.0,40.0,10.0,8.0,38.0,18.0,12.0,30.0,23.0,70.0,15.0,36.0,26.0,25.0,25.0,15.0,6.0,14.0,19.0,8.0,17.0,35.0,70.0,15.0,50.0,14.0,21.0,30.0,30.0,20.0,34.0,14.0,25.0,18.0,101.0,20.0,35.0,20.0,16.0,75.0,70.0,29.0,84.0,22.0,90.0,20.0,45.0,22.0,37.0,50.0,22.0,25.0,10.0,40.0,32.0,60.0,100.0,55.0,60.0,11.0,70.0,20.0,55.0,19.0,17.0,90.0,35.0,17.0,35.0,27.0,26.0,23.0,19.0,35.0,50.0,12.0,11.0,15.0,39.0,60.0,11.0,90.0,27.0,14.0,25.0,19.0,50.0,60.0,11.0,90.0,65.0,11.0,30.0,30.0,95.0,50.0,12.0,55.0,28.0,100.0,22.0,20.0,35.0,20.0,4.0,12.0,17.0,20.0,25.0,40.0,25.0,15.0,50.0,30.0,30.0,24.0,75.0,19.0,15.0,55.0,92.0,12.0,14.0,40.0,14.0,35.0,25.0,17.0,60.0,22.0,30.0,12.0,55.0,16.0,60.0,18.0,30.0,15.0,45.0,13.0,40.0,30.0,20.0,20.0,12.0,12.0,11.0,22.0,22.0,12.0,55.0,20.0,4.0,50.0,25.0,130.0,75.0,11.0,33.0,32.0,24.0,35.0,21.0,21.0,25.0,24.0,19.0,22.0,60.0,12.0,16.0,85.0,12.0,60.0,17.0,83.0,20.0,20.0,35.0,50.0,10.0,39.0,18.0,76.0,25.0,9.0,9.0,4.0,33.0,9.0,15.0,23.0,12.0,18.0,70.0,16.0,97.0,35.0,17.0,2.0,20.0,8.0,19.0,15.0,27.0,18.0,25.0,23.0,17.0,11.0,24.0,25.0,20.0,12.0,12.0,35.0,60.0,22.0,30.0,15.0,22.0,23.0,35.0,18.0,30.0,25.0,12.0,18.0,75.0,15.0,24.0,15.0,60.0,45.0,13.0,45.0,21.0,11.0,30.0,29.0,14.0,60.0,68.0,30.0,7.0,16.0,6.0,20.0,10.0,17.0,30.0,1.0,18.0,12.0,16.0,7.0,2.0,21.0,115.0,24.0,15.0,40.0,24.0,29.0,55.0,6.0,20.0,12.0,30.0,30.0,24.0,70.0,30.0,31.0,10.0,15.0,15.0,12.0,40.0,34.0,20.0,30.0,9.0,35.0,13.0,21.0,12.0,51.0,31.0,60.0,25.0,28.0,10.0,30.0,23.0,11.0,100.0,28.0,45.0,10.0,73.0,11.0,30.0,12.0,17.0,38.0,28.0,15.0,17.0,46.0,25.0,25.0,15.0,20.0,15.0,40.0,40.0,25.0,85.0,33.0,16.0,25.0,120.0,60.0,17.0,16.0,30.0,13.0,15.0,18.0,20.0,24.0,56.0,25.0,28.0,45.0,29.0,15.0,45.0,13.0,21.0,45.0,19.0,45.0,27.0,23.0,30.0,40.0,80.0,40.0,15.0,25.0,12.0,20.0,37.0,21.0,17.0,37.0,19.0,8.0,17.0,35.0,40.0,11.0,47.0,21.0,18.0,22.0,20.0,55.0,25.0,11.0,12.0,14.0,42.0,9.0,25.0,35.0,40.0,90.0,20.0,45.0,30.0,35.0,62.0,12.0,8.0,56.0,15.0,29.0,66.0,11.0,50.0,35.0,45.0,65.0,50.0,17.0,38.0,20.0,42.0,60.0,5.0,35.0,24.0,12.0,29.0,7.0,35.0,15.0,85.0,12.0,35.0,22.0,25.0,35.0,80.0,15.0,30.0,39.0,40.0,60.0,32.0,28.0,15.0,25.0,40.0,13.0,74.0,35.0,18.0,25.0,38.0,22.0,20.0,7.0,13.0,15.0,33.0,80.0,6.0,30.0,22.0,34.0,27.0,10.0,60.0,34.0,28.0,13.0,17.0,15.0,20.0,18.0,75.0,26.0,70.0,52.0,14.0,25.0,50.0,17.0,25.0,22.0,18.0,20.0,68.0,5.0,20.0,55.0,15.0,25.0,35.0,15.0,21.0,15.0,35.0,65.0,25.0,65.0,40.0,14.0,12.0,35.0,14.0,75.0,90.0,16.0,120.0,15.0,55.0,35.0,21.0,40.0,19.0,18.0,30.0,21.0,60.0,17.0,77.0,20.0,35.0,12.0,25.0,16.0,10.0,15.0,24.0,34.0,125.0,45.0,57.0,75.0,60.0,20.0,90.0,14.0,4.0,60.0,21.0,27.0,50.0,25.0,17.0,60.0,19.0,50.0,40.0,10.0,30.0,60.0,70.0,52.0,15.0,17.0,13.0,20.0,28.0,15.0,9.0,30.0,11.0,15.0,5.0,20.0,15.0,25.0,23.0,18.0,30.0,25.0,38.0,60.0,37.0,100.0,35.0,18.0,15.0,35.0,85.0,15.0,26.0,35.0,80.0,15.0,25.0,20.0,20.0,32.0,40.0,35.0,25.0,24.0,26.0,104.0,51.0,30.0,35.0,25.0,16.0,16.0,25.0,100.0,60.0,52.0,23.0,16.0,25.0,30.0,17.0,19.0,10.0,18.0,10.0,10.0,12.0,18.0,60.0,45.0,10.0,25.0,22.0,17.0,15.0,30.0,37.0,55.0,65.0,75.0,14.0,11.0,52.0,27.0,49.0,46.0,22.0,40.0,25.0,50.0,50.0,30.0,13.0,21.0,40.0,7.0,25.0,51.0,26.0,20.0,8.0,40.0,10.0,17.0,2.0,63.0,70.0,45.0,21.0,14.0,13.0,13.0,12.0,19.0,20.0,27.0,100.0,16.0,12.0,35.0,4.0,40.0,17.0,32.0,12.0,27.0,8.0,22.0,52.0,9.0,18.0,15.0,13.0,20.0,16.0,16.0,25.0,3.0,32.0,40.0,10.0,35.0,35.0,23.0,47.0,60.0,70.0,50.0,48.0,17.0,25.0,25.0,25.0,63.0,12.0,14.0,12.0,14.0,83.0,28.0,35.0,5.0,14.0,25.0,25.0,12.0,22.0,60.0,80.0,32.0,15.0,63.0,17.0,62.0,16.0,25.0,20.0,11.0,14.0,50.0,18.0,51.0,12.0,7.0,70.0,27.0,19.0,37.0,20.0,25.0,23.0,11.0,80.0,23.0,50.0,90.0,80.0,5.0,20.0,46.0,25.0,15.0,13.0,15.0,70.0,35.0,11.0,16.0,30.0,18.0,25.0,32.0,22.0,40.0,22.0,22.0,45.0,29.0,60.0,60.0,11.0,18.0,18.0,16.0,25.0,75.0,12.0,25.0,60.0,4.0,9.0,25.0,20.0,60.0,42.0,40.0,13.0,14.0,25.0,58.0,30.0,54.0,30.0,20.0,63.0,25.0,3.0,60.0,35.0,15.0,40.0,25.0,65.0,45.0,15.0,24.0,15.0,23.0,30.0,24.0,35.0,5.0,46.0,50.0,38.0,36.0,4.0,25.0,15.0,25.0,30.0,35.0,18.0,23.0,60.0,11.0,21.0,42.0,30.0,37.0,20.0,55.0,78.0,45.0,11.0,15.0,21.0,30.0,36.0,15.0,3.0,25.0,44.0,17.0,57.0,30.0,15.0,80.0,26.0,25.0,80.0,30.0,20.0,13.0,12.0,90.0,45.0,50.0,27.0,30.0,15.0,12.0,60.0,11.0,18.0,10.0,21.0,22.0,28.0,65.0,24.0,33.0,50.0,51.0,5.0,40.0,24.0,25.0,21.0,9.0,10.0,43.0,13.0,10.0,8.0,45.0,14.0,25.0,45.0,18.0,21.0,25.0,20.0,30.0,35.0,44.0,47.0,20.0,55.0,6.0,13.0,12.0,25.0,35.0,50.0,17.0,33.0,20.0,13.0,59.0,42.0,3.0,16.0,60.0,14.0,15.0,34.0,11.0,27.0,35.0,35.0,10.0,22.0,16.0,20.0,26.0,38.0,28.0,14.0,23.0,9.0,20.0,20.0,19.0,60.0,70.0,40.0,60.0,20.0,12.0,25.0,35.0,40.0,15.0,40.0,19.0,100.0,31.0,48.0,37.0,20.0,28.0,26.0,16.0,21.0,25.0,19.0,31.0,22.0,9.0,19.0,50.0,35.0,65.0,22.0,40.0,20.0,25.0,50.0,55.0,30.0,90.0,12.0,35.0,47.0,30.0,17.0,20.0,14.0,20.0,37.0,21.0,24.0,20.0,18.0,15.0,25.0,35.0,15.0,45.0,24.0,15.0,16.0,24.0,11.0,7.0,60.0,27.0,40.0,16.0,9.0,32.0,35.0,17.0,10.0,22.0,35.0,18.0,35.0,15.0,27.0,14.0,15.0,27.0,32.0,25.0,16.0,26.0,20.0,70.0,24.0,21.0,30.0,22.0,11.0,18.0,90.0,16.0,45.0,24.0,30.0,32.0,42.0,24.0,24.0,90.0,40.0,22.0,27.0,16.0,72.0,15.0,40.0,28.0,8.0,12.0,15.0,55.0,16.0,14.0,21.0,18.0,18.0,63.0,48.0,20.0,101.0,28.0,40.0,15.0,11.0,21.0,7.0,35.0,22.0,18.0,34.0,100.0,30.0,18.0,29.0,45.0,18.0,60.0,6.0,30.0,20.0,50.0,17.0,30.0,25.0,48.0,70.0,55.0,13.0,45.0,9.0,25.0,47.0,80.0,25.0,9.0,7.0,80.0,9.0,53.0,30.0,12.0,10.0,20.0,40.0,42.0,17.0,21.0,18.0,35.0,18.0,17.0,30.0,39.0,18.0,45.0,11.0,20.0,50.0,55.0,10.0,13.0,28.0,16.0,27.0,15.0,31.0,94.0,29.0,70.0,14.0,36.0,25.0,27.0,30.0,40.0,40.0,11.0,36.0,50.0,10.0,68.0,35.0,32.0,14.0,13.0,70.0,23.0,19.0,80.0,25.0,15.0,15.0,50.0,24.0,27.0,43.0,15.0,70.0,20.0,28.0,17.0,38.0,35.0,7.0,34.0,40.0,30.0,40.0,25.0,50.0,33.0,52.0,50.0,42.0,38.0,45.0,19.0,17.0,40.0,21.0,13.0,15.0,10.0,12.0,22.0,25.0,3.0,23.0,35.0,10.0,32.0,18.0,17.0,16.0,12.0,39.0,18.0,23.0,25.0,36.0,26.0,17.0,14.0,7.0,10.0,13.0,15.0,22.0,2.0,22.0,70.0,50.0,20.0,84.0,20.0,23.0,41.0,25.0,10.0,13.0,30.0,30.0,35.0,25.0,19.0,35.0,35.0,30.0,21.0,18.0,15.0,74.0,50.0,76.0,17.0,20.0,50.0,30.0,120.0,15.0,24.0,15.0,5.0,25.0,13.0,10.0,21.0,17.0,34.0,22.0,15.0,24.0,28.0,23.0,42.0,30.0,16.0,30.0,50.0,22.0,15.0,15.0,25.0,13.0,25.0,29.0,14.0,14.0,24.0,35.0,23.0,30.0,24.0,52.0,15.0,27.0,30.0,30.0,54.0,12.0,30.0,25.0,21.0,7.0,18.0,40.0,18.0,25.0,31.0,23.0,15.0,25.0,27.0,52.0,21.0,26.0,32.0,15.0,21.0,26.0,14.0,22.0,34.0,30.0,15.0,15.0,30.0,13.0,50.0,28.0,25.0,26.0,7.0,2.0,22.0,59.0,25.0,14.0,43.0,8.0,70.0,28.0,18.0,12.0,20.0,20.0,11.0,17.0,17.0,26.0,12.0,35.0,6.0,22.0,22.0,19.0,50.0,15.0,15.0,72.0,45.0,20.0,90.0,35.0,31.0,10.0,28.0,30.0,86.0,25.0,70.0,30.0,40.0,20.0,40.0,13.0,30.0,40.0,48.0,50.0,21.0,18.0,18.0,58.0,37.0,28.0,18.0,18.0,32.0,22.0,18.0,22.0,39.0,24.0,30.0,25.0,15.0,35.0,10.0,40.0,9.0,40.0,30.0,50.0,20.0,15.0,30.0,17.0,15.0,48.0,62.0,7.0,15.0,95.0,15.0,9.0,25.0,11.0,14.0,14.0,15.0,15.0,25.0,18.0,60.0,15.0,45.0,35.0,40.0,30.0,12.0,13.0,43.0,75.0,100.0,17.0,12.0,75.0,12.0,37.0,54.0,85.0,20.0,46.0,21.0,33.0,33.0,29.0,20.0,65.0,120.0,30.0,16.0,90.0,25.0,32.0,29.0,12.0,32.0,35.0,22.0,40.0,7.0,23.0,30.0,15.0,17.0,15.0,40.0,17.0,15.0,16.0,9.0,25.0,20.0,90.0,10.0,23.0,30.0,82.0,40.0,15.0,30.0,30.0,16.0,19.0,80.0,30.0,50.0,66.0,40.0,45.0,25.0,13.0,37.0,20.0,42.0,35.0,20.0,60.0,60.0,45.0,20.0,19.0,23.0,55.0,23.0,30.0,51.0,22.0,21.0,16.0,53.0,23.0,25.0,18.0,20.0,26.0,65.0,21.0,55.0,7.0,14.0,50.0,10.0,8.0,20.0,40.0,33.0,20.0,26.0,17.0,51.0,30.0,30.0,15.0,18.0,43.0,15.0,15.0,28.0,32.0,32.0,25.0,18.0,19.0,30.0,30.0,25.0,36.0,40.0,26.0,40.0,31.0,15.0,12.0,20.0,32.0,28.0,13.0,47.0,40.0,30.0,23.0,40.0,26.0,100.0,50.0,18.0,13.0,30.0,50.0,33.0,44.0,45.0,30.0,23.0,13.0,18.0,28.0,50.0,11.0,15.0,25.0,27.0,65.0,55.0,40.0,14.0,50.0,30.0,21.0,55.0,120.0,40.0,25.0,55.0,12.0,65.0,34.0,22.0,35.0,17.0,20.0,70.0,40.0,22.0,14.0,13.0,15.0,23.0,55.0,18.0,75.0,47.0,14.0,38.0,23.0,9.0,12.0,25.0,26.0,5.0,18.0,25.0,30.0,15.0,15.0,25.0,64.0,40.0,20.0,31.0,30.0,120.0,31.0,15.0,24.0,25.0,35.0,7.0,20.0,19.0,45.0,25.0,11.0,15.0,30.0,17.0,37.0,13.0,38.0,25.0,20.0,9.0,33.0,16.0,30.0,27.0,22.0,15.0,11.0,17.0,44.0,54.0,8.0,9.0,25.0,25.0,15.0,25.0,55.0,41.0,15.0,15.0,25.0,25.0,32.0,30.0,14.0,58.0,30.0,12.0,24.0,47.0,18.0,55.0,25.0,53.0,23.0,22.0,12.0,32.0,40.0,60.0,25.0,11.0,65.0,80.0,55.0,16.0,18.0,17.0,18.0,50.0,21.0,50.0,13.0,51.0,25.0,30.0,15.0,40.0,10.0,34.0,70.0,27.0,21.0,15.0,15.0,46.0,4.0,5.0,40.0,19.0,33.0,11.0,34.0,16.0,21.0,80.0,55.0,9.0,21.0,25.0,18.0,41.0,23.0,15.0,13.0,35.0,33.0,11.0,35.0,30.0,25.0,27.0,96.0,40.0,11.0,20.0,50.0,75.0,24.0,32.0,16.0,27.0,15.0,19.0,20.0,35.0,80.0,40.0,18.0,12.0,25.0,19.0,60.0,79.0,95.0,30.0,50.0,22.0,33.0,15.0,11.0,30.0,8.0,25.0,30.0,15.0,30.0,70.0,7.0,80.0,6.0,30.0,21.0,17.0,120.0,27.0,22.0,35.0,6.0,15.0,20.0,11.0,30.0,20.0,30.0,20.0,40.0,30.0,15.0,60.0,17.0,35.0,34.0,35.0,25.0,18.0,8.0,24.0,13.0,30.0,27.0,15.0,27.0,22.0,50.0,22.0,25.0,21.0,12.0,140.0,30.0,60.0,35.0,12.0,12.0,21.0,70.0,20.0,67.0,24.0,62.0,11.0,17.0,32.0,65.0,58.0,52.0,30.0,12.0,20.0,30.0,7.0,37.0,30.0,47.0,90.0,38.0,20.0,2.0,25.0,19.0,19.0,18.0,30.0,45.0,45.0,15.0,19.0,24.0,40.0,35.0,21.0,18.0,100.0,23.0,25.0,80.0,15.0,68.0,40.0,50.0,28.0,10.0,9.0,46.0,22.0,44.0,30.0],\"xaxis\":\"x\",\"yaxis\":\"y\",\"type\":\"histogram\"}],                        {\"template\":{\"data\":{\"histogram2dcontour\":[{\"type\":\"histogram2dcontour\",\"colorbar\":{\"outlinewidth\":0,\"ticks\":\"\"},\"colorscale\":[[0.0,\"#0d0887\"],[0.1111111111111111,\"#46039f\"],[0.2222222222222222,\"#7201a8\"],[0.3333333333333333,\"#9c179e\"],[0.4444444444444444,\"#bd3786\"],[0.5555555555555556,\"#d8576b\"],[0.6666666666666666,\"#ed7953\"],[0.7777777777777778,\"#fb9f3a\"],[0.8888888888888888,\"#fdca26\"],[1.0,\"#f0f921\"]]}],\"choropleth\":[{\"type\":\"choropleth\",\"colorbar\":{\"outlinewidth\":0,\"ticks\":\"\"}}],\"histogram2d\":[{\"type\":\"histogram2d\",\"colorbar\":{\"outlinewidth\":0,\"ticks\":\"\"},\"colorscale\":[[0.0,\"#0d0887\"],[0.1111111111111111,\"#46039f\"],[0.2222222222222222,\"#7201a8\"],[0.3333333333333333,\"#9c179e\"],[0.4444444444444444,\"#bd3786\"],[0.5555555555555556,\"#d8576b\"],[0.6666666666666666,\"#ed7953\"],[0.7777777777777778,\"#fb9f3a\"],[0.8888888888888888,\"#fdca26\"],[1.0,\"#f0f921\"]]}],\"heatmap\":[{\"type\":\"heatmap\",\"colorbar\":{\"outlinewidth\":0,\"ticks\":\"\"},\"colorscale\":[[0.0,\"#0d0887\"],[0.1111111111111111,\"#46039f\"],[0.2222222222222222,\"#7201a8\"],[0.3333333333333333,\"#9c179e\"],[0.4444444444444444,\"#bd3786\"],[0.5555555555555556,\"#d8576b\"],[0.6666666666666666,\"#ed7953\"],[0.7777777777777778,\"#fb9f3a\"],[0.8888888888888888,\"#fdca26\"],[1.0,\"#f0f921\"]]}],\"heatmapgl\":[{\"type\":\"heatmapgl\",\"colorbar\":{\"outlinewidth\":0,\"ticks\":\"\"},\"colorscale\":[[0.0,\"#0d0887\"],[0.1111111111111111,\"#46039f\"],[0.2222222222222222,\"#7201a8\"],[0.3333333333333333,\"#9c179e\"],[0.4444444444444444,\"#bd3786\"],[0.5555555555555556,\"#d8576b\"],[0.6666666666666666,\"#ed7953\"],[0.7777777777777778,\"#fb9f3a\"],[0.8888888888888888,\"#fdca26\"],[1.0,\"#f0f921\"]]}],\"contourcarpet\":[{\"type\":\"contourcarpet\",\"colorbar\":{\"outlinewidth\":0,\"ticks\":\"\"}}],\"contour\":[{\"type\":\"contour\",\"colorbar\":{\"outlinewidth\":0,\"ticks\":\"\"},\"colorscale\":[[0.0,\"#0d0887\"],[0.1111111111111111,\"#46039f\"],[0.2222222222222222,\"#7201a8\"],[0.3333333333333333,\"#9c179e\"],[0.4444444444444444,\"#bd3786\"],[0.5555555555555556,\"#d8576b\"],[0.6666666666666666,\"#ed7953\"],[0.7777777777777778,\"#fb9f3a\"],[0.8888888888888888,\"#fdca26\"],[1.0,\"#f0f921\"]]}],\"surface\":[{\"type\":\"surface\",\"colorbar\":{\"outlinewidth\":0,\"ticks\":\"\"},\"colorscale\":[[0.0,\"#0d0887\"],[0.1111111111111111,\"#46039f\"],[0.2222222222222222,\"#7201a8\"],[0.3333333333333333,\"#9c179e\"],[0.4444444444444444,\"#bd3786\"],[0.5555555555555556,\"#d8576b\"],[0.6666666666666666,\"#ed7953\"],[0.7777777777777778,\"#fb9f3a\"],[0.8888888888888888,\"#fdca26\"],[1.0,\"#f0f921\"]]}],\"mesh3d\":[{\"type\":\"mesh3d\",\"colorbar\":{\"outlinewidth\":0,\"ticks\":\"\"}}],\"scatter\":[{\"fillpattern\":{\"fillmode\":\"overlay\",\"size\":10,\"solidity\":0.2},\"type\":\"scatter\"}],\"parcoords\":[{\"type\":\"parcoords\",\"line\":{\"colorbar\":{\"outlinewidth\":0,\"ticks\":\"\"}}}],\"scatterpolargl\":[{\"type\":\"scatterpolargl\",\"marker\":{\"colorbar\":{\"outlinewidth\":0,\"ticks\":\"\"}}}],\"bar\":[{\"error_x\":{\"color\":\"#2a3f5f\"},\"error_y\":{\"color\":\"#2a3f5f\"},\"marker\":{\"line\":{\"color\":\"#E5ECF6\",\"width\":0.5},\"pattern\":{\"fillmode\":\"overlay\",\"size\":10,\"solidity\":0.2}},\"type\":\"bar\"}],\"scattergeo\":[{\"type\":\"scattergeo\",\"marker\":{\"colorbar\":{\"outlinewidth\":0,\"ticks\":\"\"}}}],\"scatterpolar\":[{\"type\":\"scatterpolar\",\"marker\":{\"colorbar\":{\"outlinewidth\":0,\"ticks\":\"\"}}}],\"histogram\":[{\"marker\":{\"pattern\":{\"fillmode\":\"overlay\",\"size\":10,\"solidity\":0.2}},\"type\":\"histogram\"}],\"scattergl\":[{\"type\":\"scattergl\",\"marker\":{\"colorbar\":{\"outlinewidth\":0,\"ticks\":\"\"}}}],\"scatter3d\":[{\"type\":\"scatter3d\",\"line\":{\"colorbar\":{\"outlinewidth\":0,\"ticks\":\"\"}},\"marker\":{\"colorbar\":{\"outlinewidth\":0,\"ticks\":\"\"}}}],\"scattermapbox\":[{\"type\":\"scattermapbox\",\"marker\":{\"colorbar\":{\"outlinewidth\":0,\"ticks\":\"\"}}}],\"scatterternary\":[{\"type\":\"scatterternary\",\"marker\":{\"colorbar\":{\"outlinewidth\":0,\"ticks\":\"\"}}}],\"scattercarpet\":[{\"type\":\"scattercarpet\",\"marker\":{\"colorbar\":{\"outlinewidth\":0,\"ticks\":\"\"}}}],\"carpet\":[{\"aaxis\":{\"endlinecolor\":\"#2a3f5f\",\"gridcolor\":\"white\",\"linecolor\":\"white\",\"minorgridcolor\":\"white\",\"startlinecolor\":\"#2a3f5f\"},\"baxis\":{\"endlinecolor\":\"#2a3f5f\",\"gridcolor\":\"white\",\"linecolor\":\"white\",\"minorgridcolor\":\"white\",\"startlinecolor\":\"#2a3f5f\"},\"type\":\"carpet\"}],\"table\":[{\"cells\":{\"fill\":{\"color\":\"#EBF0F8\"},\"line\":{\"color\":\"white\"}},\"header\":{\"fill\":{\"color\":\"#C8D4E3\"},\"line\":{\"color\":\"white\"}},\"type\":\"table\"}],\"barpolar\":[{\"marker\":{\"line\":{\"color\":\"#E5ECF6\",\"width\":0.5},\"pattern\":{\"fillmode\":\"overlay\",\"size\":10,\"solidity\":0.2}},\"type\":\"barpolar\"}],\"pie\":[{\"automargin\":true,\"type\":\"pie\"}]},\"layout\":{\"autotypenumbers\":\"strict\",\"colorway\":[\"#636efa\",\"#EF553B\",\"#00cc96\",\"#ab63fa\",\"#FFA15A\",\"#19d3f3\",\"#FF6692\",\"#B6E880\",\"#FF97FF\",\"#FECB52\"],\"font\":{\"color\":\"#2a3f5f\"},\"hovermode\":\"closest\",\"hoverlabel\":{\"align\":\"left\"},\"paper_bgcolor\":\"white\",\"plot_bgcolor\":\"#E5ECF6\",\"polar\":{\"bgcolor\":\"#E5ECF6\",\"angularaxis\":{\"gridcolor\":\"white\",\"linecolor\":\"white\",\"ticks\":\"\"},\"radialaxis\":{\"gridcolor\":\"white\",\"linecolor\":\"white\",\"ticks\":\"\"}},\"ternary\":{\"bgcolor\":\"#E5ECF6\",\"aaxis\":{\"gridcolor\":\"white\",\"linecolor\":\"white\",\"ticks\":\"\"},\"baxis\":{\"gridcolor\":\"white\",\"linecolor\":\"white\",\"ticks\":\"\"},\"caxis\":{\"gridcolor\":\"white\",\"linecolor\":\"white\",\"ticks\":\"\"}},\"coloraxis\":{\"colorbar\":{\"outlinewidth\":0,\"ticks\":\"\"}},\"colorscale\":{\"sequential\":[[0.0,\"#0d0887\"],[0.1111111111111111,\"#46039f\"],[0.2222222222222222,\"#7201a8\"],[0.3333333333333333,\"#9c179e\"],[0.4444444444444444,\"#bd3786\"],[0.5555555555555556,\"#d8576b\"],[0.6666666666666666,\"#ed7953\"],[0.7777777777777778,\"#fb9f3a\"],[0.8888888888888888,\"#fdca26\"],[1.0,\"#f0f921\"]],\"sequentialminus\":[[0.0,\"#0d0887\"],[0.1111111111111111,\"#46039f\"],[0.2222222222222222,\"#7201a8\"],[0.3333333333333333,\"#9c179e\"],[0.4444444444444444,\"#bd3786\"],[0.5555555555555556,\"#d8576b\"],[0.6666666666666666,\"#ed7953\"],[0.7777777777777778,\"#fb9f3a\"],[0.8888888888888888,\"#fdca26\"],[1.0,\"#f0f921\"]],\"diverging\":[[0,\"#8e0152\"],[0.1,\"#c51b7d\"],[0.2,\"#de77ae\"],[0.3,\"#f1b6da\"],[0.4,\"#fde0ef\"],[0.5,\"#f7f7f7\"],[0.6,\"#e6f5d0\"],[0.7,\"#b8e186\"],[0.8,\"#7fbc41\"],[0.9,\"#4d9221\"],[1,\"#276419\"]]},\"xaxis\":{\"gridcolor\":\"white\",\"linecolor\":\"white\",\"ticks\":\"\",\"title\":{\"standoff\":15},\"zerolinecolor\":\"white\",\"automargin\":true,\"zerolinewidth\":2},\"yaxis\":{\"gridcolor\":\"white\",\"linecolor\":\"white\",\"ticks\":\"\",\"title\":{\"standoff\":15},\"zerolinecolor\":\"white\",\"automargin\":true,\"zerolinewidth\":2},\"scene\":{\"xaxis\":{\"backgroundcolor\":\"#E5ECF6\",\"gridcolor\":\"white\",\"linecolor\":\"white\",\"showbackground\":true,\"ticks\":\"\",\"zerolinecolor\":\"white\",\"gridwidth\":2},\"yaxis\":{\"backgroundcolor\":\"#E5ECF6\",\"gridcolor\":\"white\",\"linecolor\":\"white\",\"showbackground\":true,\"ticks\":\"\",\"zerolinecolor\":\"white\",\"gridwidth\":2},\"zaxis\":{\"backgroundcolor\":\"#E5ECF6\",\"gridcolor\":\"white\",\"linecolor\":\"white\",\"showbackground\":true,\"ticks\":\"\",\"zerolinecolor\":\"white\",\"gridwidth\":2}},\"shapedefaults\":{\"line\":{\"color\":\"#2a3f5f\"}},\"annotationdefaults\":{\"arrowcolor\":\"#2a3f5f\",\"arrowhead\":0,\"arrowwidth\":1},\"geo\":{\"bgcolor\":\"white\",\"landcolor\":\"#E5ECF6\",\"subunitcolor\":\"white\",\"showland\":true,\"showlakes\":true,\"lakecolor\":\"white\"},\"title\":{\"x\":0.05},\"mapbox\":{\"style\":\"light\"}}},\"xaxis\":{\"anchor\":\"y\",\"domain\":[0.0,1.0],\"title\":{\"text\":\"Tumor_Size\"}},\"yaxis\":{\"anchor\":\"x\",\"domain\":[0.0,1.0],\"title\":{\"text\":\"count\"}},\"legend\":{\"tracegroupgap\":0},\"margin\":{\"t\":60},\"barmode\":\"relative\"},                        {\"responsive\": true}                    ).then(function(){\n",
              "                            \n",
              "var gd = document.getElementById('6587d117-1b99-46d0-a230-59ed9e657607');\n",
              "var x = new MutationObserver(function (mutations, observer) {{\n",
              "        var display = window.getComputedStyle(gd).display;\n",
              "        if (!display || display === 'none') {{\n",
              "            console.log([gd, 'removed!']);\n",
              "            Plotly.purge(gd);\n",
              "            observer.disconnect();\n",
              "        }}\n",
              "}});\n",
              "\n",
              "// Listen for the removal of the full notebook cells\n",
              "var notebookContainer = gd.closest('#notebook-container');\n",
              "if (notebookContainer) {{\n",
              "    x.observe(notebookContainer, {childList: true});\n",
              "}}\n",
              "\n",
              "// Listen for the clearing of the current output cell\n",
              "var outputEl = gd.closest('.output');\n",
              "if (outputEl) {{\n",
              "    x.observe(outputEl, {childList: true});\n",
              "}}\n",
              "\n",
              "                        })                };                            </script>        </div>\n",
              "</body>\n",
              "</html>"
            ]
          },
          "metadata": {}
        },
        {
          "output_type": "display_data",
          "data": {
            "text/html": [
              "<html>\n",
              "<head><meta charset=\"utf-8\" /></head>\n",
              "<body>\n",
              "    <div>            <script src=\"https://cdnjs.cloudflare.com/ajax/libs/mathjax/2.7.5/MathJax.js?config=TeX-AMS-MML_SVG\"></script><script type=\"text/javascript\">if (window.MathJax && window.MathJax.Hub && window.MathJax.Hub.Config) {window.MathJax.Hub.Config({SVG: {font: \"STIX-Web\"}});}</script>                <script type=\"text/javascript\">window.PlotlyConfig = {MathJaxConfig: 'local'};</script>\n",
              "        <script charset=\"utf-8\" src=\"https://cdn.plot.ly/plotly-2.35.2.min.js\"></script>                <div id=\"8ba25e30-e1a4-49bd-89b6-f7ca173721ff\" class=\"plotly-graph-div\" style=\"height:525px; width:100%;\"></div>            <script type=\"text/javascript\">                                    window.PLOTLYENV=window.PLOTLYENV || {};                                    if (document.getElementById(\"8ba25e30-e1a4-49bd-89b6-f7ca173721ff\")) {                    Plotly.newPlot(                        \"8ba25e30-e1a4-49bd-89b6-f7ca173721ff\",                        [{\"hovertemplate\":\"Tumor_Size=%{x}\\u003cbr\\u003eindex=%{y}\\u003cextra\\u003e\\u003c\\u002fextra\\u003e\",\"legendgroup\":\"\",\"marker\":{\"color\":\"#636efa\",\"symbol\":\"circle\"},\"mode\":\"markers\",\"name\":\"\",\"showlegend\":false,\"x\":[4.0,35.0,63.0,18.0,41.0,20.0,8.0,30.0,103.0,32.0,13.0,59.0,35.0,15.0,35.0,19.0,46.0,24.0,25.0,29.0,30.0,40.0,29.0,70.0,20.0,22.0,50.0,17.0,25.0,21.0,40.0,15.0,15.0,20.0,30.0,10.0,27.0,18.0,35.0,23.0,70.0,17.0,21.0,23.0,5.0,51.0,9.0,15.0,32.0,5.0,23.0,55.0,120.0,77.0,2.0,11.0,25.0,18.0,15.0,12.0,18.0,17.0,26.0,75.0,13.0,15.0,70.0,15.0,15.0,17.0,130.0,34.0,30.0,10.0,22.0,55.0,25.0,50.0,50.0,15.0,30.0,20.0,22.0,15.0,15.0,40.0,120.0,80.0,17.0,3.0,60.0,14.0,26.0,25.0,12.0,25.0,30.0,25.0,24.0,27.0,70.0,16.0,45.0,27.0,23.0,25.0,40.0,20.0,21.0,36.0,14.0,51.0,50.0,45.0,51.0,19.0,76.0,20.0,35.0,27.0,35.0,35.0,50.0,38.0,15.0,17.0,25.0,19.0,15.0,18.0,11.0,45.0,12.0,20.0,45.0,18.0,25.0,21.0,49.0,70.0,7.0,19.0,38.0,34.0,30.0,4.0,72.0,18.0,25.0,9.0,21.0,20.0,15.0,18.0,100.0,17.0,7.0,24.0,43.0,30.0,7.0,18.0,12.0,25.0,62.0,20.0,70.0,37.0,13.0,40.0,70.0,12.0,9.0,10.0,55.0,18.0,15.0,25.0,50.0,10.0,30.0,13.0,40.0,100.0,25.0,68.0,25.0,23.0,15.0,22.0,7.0,16.0,24.0,75.0,11.0,35.0,60.0,30.0,25.0,25.0,25.0,12.0,25.0,17.0,11.0,32.0,21.0,25.0,19.0,-75.0,52.0,17.0,35.0,85.0,50.0,51.0,18.0,75.0,72.0,35.0,12.0,23.0,16.0,16.0,57.0,50.0,17.0,32.0,21.0,11.0,40.0,15.0,17.0,14.0,60.0,55.0,120.0,11.0,39.0,23.0,28.0,37.0,40.0,9.0,8.0,28.0,15.0,17.0,50.0,48.0,30.0,68.0,110.0,23.0,12.0,13.0,40.0,30.0,9.0,22.0,30.0,12.0,10.0,25.0,16.0,65.0,22.0,17.0,60.0,22.0,35.0,18.0,34.0,6.0,105.0,100.0,20.0,57.0,10.0,17.0,25.0,21.0,45.0,50.0,35.0,38.0,16.0,140.0,25.0,18.0,18.0,34.0,65.0,13.0,20.0,29.0,10.0,62.0,50.0,29.0,15.0,15.0,42.0,130.0,21.0,51.0,30.0,35.0,31.0,14.0,15.0,60.0,20.0,22.0,80.0,15.0,100.0,30.0,8.0,15.0,80.0,30.0,25.0,24.0,35.0,12.0,45.0,25.0,35.0,28.0,17.0,15.0,32.0,15.0,60.0,90.0,11.0,37.0,21.0,2.0,70.0,8.0,22.0,40.0,13.0,32.0,5.0,18.0,52.0,31.0,14.0,7.0,12.0,21.0,20.0,26.0,16.0,15.0,25.0,20.0,80.0,30.0,16.0,20.0,17.0,100.0,41.0,16.0,25.0,108.0,12.0,38.0,24.0,45.0,98.0,25.0,30.0,90.0,27.0,47.0,30.0,25.0,17.0,22.0,18.0,18.0,25.0,27.0,25.0,70.0,65.0,22.0,45.0,20.0,65.0,17.0,15.0,15.0,19.0,90.0,10.0,40.0,31.0,30.0,26.0,25.0,11.0,22.0,59.0,23.0,25.0,18.0,15.0,30.0,25.0,27.0,25.0,24.0,24.0,20.0,10.0,7.0,42.0,54.0,75.0,15.0,22.0,20.0,65.0,61.0,27.0,16.0,35.0,55.0,17.0,8.0,25.0,10.0,26.0,120.0,7.0,18.0,30.0,70.0,20.0,80.0,30.0,45.0,25.0,6.0,21.0,11.0,18.0,40.0,20.0,12.0,16.0,10.0,20.0,20.0,25.0,17.0,22.0,20.0,20.0,30.0,13.0,15.0,36.0,8.0,10.0,35.0,70.0,35.0,74.0,16.0,70.0,21.0,100.0,70.0,12.0,80.0,25.0,19.0,25.0,16.0,60.0,15.0,20.0,9.0,16.0,60.0,15.0,12.0,17.0,25.0,18.0,15.0,45.0,70.0,10.0,9.0,12.0,15.0,18.0,12.0,16.0,15.0,30.0,20.0,21.0,10.0,35.0,22.0,33.0,60.0,13.0,21.0,13.0,39.0,35.0,18.0,100.0,130.0,21.0,26.0,50.0,8.0,16.0,16.0,15.0,28.0,23.0,1.0,23.0,21.0,19.0,87.0,33.0,15.0,13.0,15.0,25.0,60.0,30.0,18.0,20.0,55.0,25.0,11.0,11.0,40.0,16.0,55.0,36.0,16.0,25.0,30.0,19.0,30.0,55.0,80.0,50.0,14.0,10.0,30.0,60.0,24.0,32.0,42.0,35.0,26.0,30.0,31.0,11.0,26.0,18.0,43.0,20.0,35.0,13.0,14.0,81.0,10.0,10.0,20.0,30.0,22.0,20.0,28.0,80.0,37.0,35.0,12.0,19.0,20.0,22.0,14.0,32.0,80.0,21.0,25.0,21.0,15.0,28.0,18.0,27.0,30.0,25.0,35.0,12.0,30.0,29.0,70.0,21.0,60.0,25.0,20.0,22.0,12.0,48.0,31.0,27.0,18.0,1.0,40.0,26.0,80.0,20.0,27.0,20.0,30.0,25.0,22.0,63.0,10.0,10.0,40.0,10.0,40.0,20.0,30.0,6.0,22.0,22.0,15.0,40.0,45.0,13.0,25.0,11.0,58.0,30.0,23.0,9.0,32.0,35.0,15.0,15.0,21.0,51.0,15.0,60.0,25.0,51.0,25.0,30.0,11.0,40.0,5.0,35.0,38.0,30.0,25.0,25.0,27.0,25.0,18.0,40.0,40.0,15.0,20.0,23.0,34.0,16.0,18.0,50.0,45.0,100.0,18.0,23.0,25.0,32.0,30.0,30.0,30.0,18.0,24.0,70.0,28.0,20.0,35.0,117.0,10.0,70.0,35.0,11.0,27.0,12.0,26.0,76.0,32.0,18.0,23.0,10.0,18.0,23.0,25.0,32.0,18.0,17.0,52.0,27.0,7.0,70.0,26.0,55.0,20.0,15.0,20.0,20.0,61.0,8.0,15.0,12.0,40.0,25.0,140.0,12.0,21.0,23.0,20.0,17.0,65.0,25.0,19.0,12.0,11.0,40.0,26.0,30.0,50.0,44.0,21.0,35.0,22.0,55.0,17.0,1.0,23.0,25.0,14.0,25.0,35.0,20.0,25.0,90.0,13.0,12.0,45.0,15.0,35.0,17.0,24.0,55.0,16.0,20.0,18.0,32.0,30.0,30.0,19.0,24.0,18.0,25.0,19.0,30.0,32.0,16.0,2.0,30.0,27.0,10.0,10.0,18.0,30.0,22.0,40.0,65.0,13.0,6.0,40.0,19.0,20.0,45.0,31.0,30.0,14.0,35.0,10.0,25.0,40.0,45.0,21.0,28.0,4.0,25.0,15.0,61.0,22.0,27.0,19.0,25.0,8.0,23.0,80.0,7.0,15.0,13.0,30.0,50.0,31.0,30.0,15.0,15.0,50.0,25.0,30.0,60.0,51.0,18.0,25.0,50.0,8.0,40.0,16.0,18.0,13.0,35.0,12.0,50.0,29.0,20.0,7.0,21.0,20.0,22.0,31.0,45.0,25.0,35.0,15.0,22.0,15.0,16.0,26.0,35.0,30.0,23.0,18.0,123.0,16.0,11.0,75.0,60.0,20.0,15.0,27.0,9.0,60.0,7.0,19.0,15.0,40.0,19.0,130.0,30.0,70.0,24.0,110.0,133.0,22.0,55.0,95.0,25.0,13.0,12.0,17.0,10.0,70.0,30.0,20.0,107.0,40.0,30.0,90.0,16.0,47.0,30.0,7.0,30.0,20.0,60.0,30.0,14.0,20.0,27.0,40.0,92.0,7.0,20.0,22.0,8.0,50.0,22.0,14.0,30.0,50.0,15.0,25.0,18.0,35.0,13.0,100.0,105.0,20.0,15.0,30.0,12.0,50.0,20.0,7.0,42.0,19.0,27.0,14.0,17.0,15.0,13.0,12.0,26.0,20.0,17.0,20.0,24.0,30.0,16.0,18.0,30.0,52.0,60.0,21.0,33.0,6.0,25.0,15.0,14.0,105.0,35.0,57.0,20.0,20.0,28.0,60.0,25.0,20.0,13.0,100.0,2.0,20.0,38.0,24.0,25.0,15.0,25.0,51.0,35.0,25.0,45.0,21.0,19.0,40.0,9.0,22.0,38.0,50.0,30.0,23.0,21.0,140.0,60.0,17.0,55.0,17.0,29.0,40.0,17.0,30.0,32.0,40.0,15.0,35.0,32.0,21.0,25.0,33.0,22.0,15.0,32.0,6.0,30.0,14.0,10.0,12.0,15.0,21.0,20.0,20.0,15.0,54.0,21.0,22.0,22.0,17.0,25.0,22.0,45.0,11.0,17.0,17.0,40.0,5.0,13.0,19.0,19.0,35.0,16.0,15.0,23.0,15.0,19.0,18.0,16.0,21.0,32.0,13.0,16.0,40.0,50.0,35.0,16.0,35.0,36.0,35.0,55.0,25.0,22.0,17.0,55.0,10.0,23.0,25.0,5.0,16.0,55.0,24.0,21.0,13.0,22.0,14.0,30.0,18.0,16.0,56.0,31.0,14.0,15.0,82.0,16.0,16.0,16.0,16.0,50.0,25.0,18.0,25.0,18.0,30.0,65.0,1.0,25.0,20.0,30.0,30.0,18.0,16.0,50.0,52.0,37.0,25.0,40.0,50.0,15.0,25.0,80.0,13.0,25.0,40.0,15.0,19.0,65.0,18.0,15.0,16.0,23.0,21.0,10.0,20.0,40.0,31.0,15.0,11.0,55.0,15.0,37.0,42.0,22.0,48.0,15.0,7.0,40.0,12.0,12.0,65.0,15.0,16.0,22.0,35.0,25.0,20.0,18.0,85.0,25.0,100.0,15.0,18.0,14.0,23.0,40.0,17.0,21.0,22.0,31.0,11.0,19.0,35.0,9.0,21.0,6.0,20.0,60.0,38.0,9.0,11.0,30.0,22.0,25.0,13.0,30.0,25.0,25.0,48.0,6.0,14.0,7.0,90.0,25.0,15.0,120.0,14.0,15.0,35.0,30.0,16.0,9.0,23.0,17.0,43.0,19.0,21.0,17.0,45.0,18.0,43.0,61.0,27.0,15.0,25.0,31.0,50.0,30.0,38.0,5.0,11.0,35.0,7.0,14.0,120.0,14.0,33.0,19.0,19.0,15.0,18.0,47.0,13.0,25.0,28.0,16.0,31.0,4.0,31.0,30.0,55.0,30.0,14.0,17.0,21.0,70.0,30.0,15.0,40.0,8.0,7.0,40.0,35.0,16.0,30.0,18.0,30.0,15.0,12.0,40.0,57.0,60.0,38.0,55.0,24.0,20.0,40.0,38.0,70.0,18.0,25.0,74.0,60.0,60.0,23.0,45.0,21.0,14.0,13.0,20.0,21.0,25.0,22.0,8.0,25.0,25.0,70.0,11.0,80.0,16.0,18.0,15.0,26.0,20.0,18.0,18.0,14.0,42.0,58.0,18.0,25.0,9.0,19.0,11.0,15.0,21.0,52.0,40.0,11.0,20.0,33.0,14.0,28.0,20.0,19.0,100.0,9.0,25.0,15.0,60.0,76.0,16.0,20.0,45.0,35.0,18.0,20.0,26.0,35.0,40.0,30.0,12.0,19.0,28.0,28.0,22.0,8.0,32.0,45.0,55.0,9.0,23.0,20.0,35.0,23.0,80.0,15.0,9.0,30.0,20.0,66.0,22.0,16.0,14.0,80.0,25.0,10.0,22.0,12.0,19.0,17.0,25.0,9.0,9.0,33.0,37.0,24.0,18.0,75.0,25.0,10.0,36.0,26.0,14.0,82.0,30.0,12.0,22.0,16.0,16.0,40.0,20.0,28.0,21.0,24.0,55.0,31.0,24.0,37.0,30.0,20.0,14.0,20.0,27.0,12.0,80.0,23.0,14.0,10.0,22.0,15.0,27.0,20.0,31.0,14.0,40.0,25.0,35.0,20.0,42.0,25.0,50.0,20.0,13.0,6.0,16.0,60.0,23.0,15.0,14.0,9.0,16.0,42.0,40.0,25.0,25.0,37.0,23.0,30.0,12.0,35.0,47.0,28.0,63.0,8.0,35.0,60.0,30.0,22.0,13.0,42.0,45.0,25.0,10.0,35.0,37.0,35.0,40.0,17.0,12.0,15.0,30.0,60.0,19.0,27.0,10.0,12.0,70.0,44.0,45.0,17.0,80.0,16.0,24.0,8.0,51.0,70.0,60.0,45.0,1.0,27.0,35.0,72.0,45.0,20.0,30.0,30.0,13.0,120.0,15.0,61.0,15.0,30.0,18.0,28.0,8.0,22.0,40.0,15.0,20.0,15.0,23.0,20.0,17.0,21.0,52.0,30.0,22.0,19.0,18.0,47.0,15.0,15.0,21.0,40.0,17.0,14.0,23.0,68.0,25.0,50.0,140.0,28.0,7.0,23.0,7.0,10.0,15.0,11.0,12.0,28.0,80.0,25.0,28.0,15.0,30.0,15.0,22.0,28.0,16.0,95.0,27.0,56.0,50.0,21.0,21.0,40.0,18.0,55.0,90.0,28.0,55.0,21.0,9.0,35.0,13.0,55.0,51.0,34.0,5.0,60.0,45.0,38.0,48.0,35.0,32.0,25.0,60.0,12.0,19.0,40.0,50.0,55.0,28.0,18.0,21.0,37.0,11.0,20.0,30.0,15.0,55.0,17.0,17.0,25.0,22.0,35.0,20.0,20.0,39.0,33.0,18.0,40.0,24.0,35.0,40.0,11.0,26.0,18.0,15.0,25.0,21.0,18.0,55.0,15.0,18.0,20.0,15.0,20.0,70.0,13.0,55.0,55.0,24.0,50.0,30.0,10.0,18.0,18.0,45.0,15.0,16.0,45.0,18.0,60.0,24.0,35.0,15.0,21.0,25.0,15.0,11.0,100.0,52.0,24.0,14.0,55.0,45.0,25.0,25.0,32.0,41.0,40.0,32.0,12.0,7.0,30.0,22.0,30.0,17.0,21.0,15.0,22.0,15.0,9.0,49.0,57.0,20.0,27.0,30.0,30.0,5.0,22.0,55.0,45.0,25.0,25.0,5.0,55.0,15.0,15.0,24.0,10.0,14.0,25.0,10.0,20.0,80.0,20.0,15.0,10.0,40.0,15.0,17.0,11.0,15.0,17.0,19.0,26.0,22.0,8.0,120.0,24.0,23.0,90.0,61.0,17.0,40.0,1.0,34.0,10.0,27.0,30.0,50.0,25.0,63.0,17.0,18.0,20.0,45.0,25.0,70.0,3.0,26.0,32.0,60.0,18.0,70.0,35.0,8.0,65.0,70.0,45.0,35.0,28.0,75.0,20.0,15.0,15.0,18.0,30.0,10.0,15.0,35.0,35.0,13.0,15.0,19.0,25.0,23.0,47.0,17.0,14.0,47.0,8.0,12.0,38.0,16.0,90.0,17.0,70.0,18.0,21.0,32.0,30.0,50.0,14.0,19.0,11.0,18.0,19.0,20.0,28.0,15.0,65.0,19.0,15.0,23.0,16.0,30.0,60.0,15.0,22.0,30.0,18.0,20.0,45.0,17.0,20.0,21.0,25.0,6.0,14.0,20.0,15.0,17.0,10.0,25.0,30.0,8.0,18.0,18.0,21.0,15.0,78.0,20.0,18.0,18.0,52.0,20.0,25.0,12.0,15.0,6.0,18.0,35.0,21.0,60.0,97.0,45.0,35.0,13.0,17.0,14.0,25.0,17.0,21.0,35.0,8.0,13.0,38.0,88.0,18.0,40.0,20.0,7.0,27.0,60.0,28.0,38.0,45.0,21.0,42.0,19.0,60.0,43.0,6.0,40.0,50.0,14.0,45.0,20.0,28.0,12.0,20.0,42.0,14.0,2.0,35.0,11.0,5.0,20.0,29.0,24.0,18.0,10.0,30.0,15.0,15.0,60.0,26.0,40.0,40.0,25.0,27.0,22.0,23.0,12.0,30.0,2.0,40.0,30.0,60.0,9.0,70.0,17.0,45.0,51.0,10.0,85.0,30.0,14.0,15.0,10.0,27.0,15.0,35.0,20.0,90.0,10.0,100.0,55.0,35.0,18.0,21.0,15.0,74.0,50.0,70.0,24.0,28.0,15.0,38.0,16.0,35.0,19.0,52.0,10.0,39.0,30.0,8.0,19.0,11.0,22.0,23.0,14.0,25.0,55.0,40.0,35.0,17.0,35.0,15.0,15.0,80.0,40.0,42.0,14.0,26.0,42.0,25.0,70.0,40.0,60.0,25.0,5.0,30.0,45.0,11.0,22.0,25.0,14.0,19.0,20.0,12.0,16.0,60.0,46.0,53.0,6.0,18.0,5.0,25.0,35.0,10.0,60.0,16.0,12.0,31.0,51.0,50.0,25.0,15.0,33.0,80.0,25.0,9.0,27.0,15.0,8.0,70.0,35.0,18.0,20.0,48.0,18.0,35.0,42.0,15.0,15.0,45.0,36.0,40.0,40.0,50.0,15.0,16.0,14.0,10.0,15.0,18.0,24.0,50.0,50.0,20.0,25.0,25.0,25.0,30.0,52.0,62.0,80.0,17.0,36.0,23.0,53.0,10.0,24.0,65.0,15.0,40.0,12.0,20.0,21.0,17.0,56.0,80.0,16.0,30.0,45.0,20.0,20.0,22.0,50.0,16.0,35.0,31.0,29.0,10.0,55.0,8.0,40.0,15.0,70.0,25.0,35.0,69.0,85.0,20.0,18.0,28.0,50.0,12.0,44.0,42.0,17.0,63.0,80.0,90.0,34.0,18.0,35.0,40.0,20.0,110.0,10.0,23.0,20.0,13.0,25.0,36.0,25.0,3.0,3.0,83.0,12.0,14.0,80.0,15.0,15.0,25.0,15.0,15.0,17.0,15.0,21.0,17.0,80.0,45.0,17.0,20.0,34.0,25.0,60.0,25.0,20.0,24.0,30.0,15.0,17.0,16.0,20.0,42.0,25.0,75.0,36.0,12.0,4.0,35.0,34.0,22.0,35.0,30.0,81.0,40.0,30.0,60.0,13.0,15.0,15.0,20.0,40.0,15.0,30.0,25.0,65.0,78.0,14.0,5.0,13.0,15.0,15.0,7.0,14.0,13.0,22.0,14.0,25.0,10.0,11.0,14.0,13.0,10.0,6.0,21.0,40.0,16.0,5.0,18.0,14.0,42.0,32.0,28.0,28.0,60.0,35.0,85.0,12.0,20.0,27.0,36.0,33.0,23.0,13.0,4.0,25.0,80.0,55.0,45.0,11.0,37.0,30.0,18.0,16.0,15.0,42.0,75.0,15.0,35.0,28.0,15.0,24.0,23.0,61.0,75.0,10.0,21.0,12.0,22.0,32.0,28.0,70.0,65.0,16.0,10.0,110.0,25.0,24.0,8.0,25.0,9.0,14.0,40.0,10.0,40.0,10.0,8.0,38.0,18.0,12.0,30.0,23.0,70.0,15.0,36.0,26.0,25.0,25.0,15.0,6.0,14.0,19.0,8.0,17.0,35.0,70.0,15.0,50.0,14.0,21.0,30.0,30.0,20.0,34.0,14.0,25.0,18.0,101.0,20.0,35.0,20.0,16.0,75.0,70.0,29.0,84.0,22.0,90.0,20.0,45.0,22.0,37.0,50.0,22.0,25.0,10.0,40.0,32.0,60.0,100.0,55.0,60.0,11.0,70.0,20.0,55.0,19.0,17.0,90.0,35.0,17.0,35.0,27.0,26.0,23.0,19.0,35.0,50.0,12.0,11.0,15.0,39.0,60.0,11.0,90.0,27.0,14.0,25.0,19.0,50.0,60.0,11.0,90.0,65.0,11.0,30.0,30.0,95.0,50.0,12.0,55.0,28.0,100.0,22.0,20.0,35.0,20.0,4.0,12.0,17.0,20.0,25.0,40.0,25.0,15.0,50.0,30.0,30.0,24.0,75.0,19.0,15.0,55.0,92.0,12.0,14.0,40.0,14.0,35.0,25.0,17.0,60.0,22.0,30.0,12.0,55.0,16.0,60.0,18.0,30.0,15.0,45.0,13.0,40.0,30.0,20.0,20.0,12.0,12.0,11.0,22.0,22.0,12.0,55.0,20.0,4.0,50.0,25.0,130.0,75.0,11.0,33.0,32.0,24.0,35.0,21.0,21.0,25.0,24.0,19.0,22.0,60.0,12.0,16.0,85.0,12.0,60.0,17.0,83.0,20.0,20.0,35.0,50.0,10.0,39.0,18.0,76.0,25.0,9.0,9.0,4.0,33.0,9.0,15.0,23.0,12.0,18.0,70.0,16.0,97.0,35.0,17.0,2.0,20.0,8.0,19.0,15.0,27.0,18.0,25.0,23.0,17.0,11.0,24.0,25.0,20.0,12.0,12.0,35.0,60.0,22.0,30.0,15.0,22.0,23.0,35.0,18.0,30.0,25.0,12.0,18.0,75.0,15.0,24.0,15.0,60.0,45.0,13.0,45.0,21.0,11.0,30.0,29.0,14.0,60.0,68.0,30.0,7.0,16.0,6.0,20.0,10.0,17.0,30.0,1.0,18.0,12.0,16.0,7.0,2.0,21.0,115.0,24.0,15.0,40.0,24.0,29.0,55.0,6.0,20.0,12.0,30.0,30.0,24.0,70.0,30.0,31.0,10.0,15.0,15.0,12.0,40.0,34.0,20.0,30.0,9.0,35.0,13.0,21.0,12.0,51.0,31.0,60.0,25.0,28.0,10.0,30.0,23.0,11.0,100.0,28.0,45.0,10.0,73.0,11.0,30.0,12.0,17.0,38.0,28.0,15.0,17.0,46.0,25.0,25.0,15.0,20.0,15.0,40.0,40.0,25.0,85.0,33.0,16.0,25.0,120.0,60.0,17.0,16.0,30.0,13.0,15.0,18.0,20.0,24.0,56.0,25.0,28.0,45.0,29.0,15.0,45.0,13.0,21.0,45.0,19.0,45.0,27.0,23.0,30.0,40.0,80.0,40.0,15.0,25.0,12.0,20.0,37.0,21.0,17.0,37.0,19.0,8.0,17.0,35.0,40.0,11.0,47.0,21.0,18.0,22.0,20.0,55.0,25.0,11.0,12.0,14.0,42.0,9.0,25.0,35.0,40.0,90.0,20.0,45.0,30.0,35.0,62.0,12.0,8.0,56.0,15.0,29.0,66.0,11.0,50.0,35.0,45.0,65.0,50.0,17.0,38.0,20.0,42.0,60.0,5.0,35.0,24.0,12.0,29.0,7.0,35.0,15.0,85.0,12.0,35.0,22.0,25.0,35.0,80.0,15.0,30.0,39.0,40.0,60.0,32.0,28.0,15.0,25.0,40.0,13.0,74.0,35.0,18.0,25.0,38.0,22.0,20.0,7.0,13.0,15.0,33.0,80.0,6.0,30.0,22.0,34.0,27.0,10.0,60.0,34.0,28.0,13.0,17.0,15.0,20.0,18.0,75.0,26.0,70.0,52.0,14.0,25.0,50.0,17.0,25.0,22.0,18.0,20.0,68.0,5.0,20.0,55.0,15.0,25.0,35.0,15.0,21.0,15.0,35.0,65.0,25.0,65.0,40.0,14.0,12.0,35.0,14.0,75.0,90.0,16.0,120.0,15.0,55.0,35.0,21.0,40.0,19.0,18.0,30.0,21.0,60.0,17.0,77.0,20.0,35.0,12.0,25.0,16.0,10.0,15.0,24.0,34.0,125.0,45.0,57.0,75.0,60.0,20.0,90.0,14.0,4.0,60.0,21.0,27.0,50.0,25.0,17.0,60.0,19.0,50.0,40.0,10.0,30.0,60.0,70.0,52.0,15.0,17.0,13.0,20.0,28.0,15.0,9.0,30.0,11.0,15.0,5.0,20.0,15.0,25.0,23.0,18.0,30.0,25.0,38.0,60.0,37.0,100.0,35.0,18.0,15.0,35.0,85.0,15.0,26.0,35.0,80.0,15.0,25.0,20.0,20.0,32.0,40.0,35.0,25.0,24.0,26.0,104.0,51.0,30.0,35.0,25.0,16.0,16.0,25.0,100.0,60.0,52.0,23.0,16.0,25.0,30.0,17.0,19.0,10.0,18.0,10.0,10.0,12.0,18.0,60.0,45.0,10.0,25.0,22.0,17.0,15.0,30.0,37.0,55.0,65.0,75.0,14.0,11.0,52.0,27.0,49.0,46.0,22.0,40.0,25.0,50.0,50.0,30.0,13.0,21.0,40.0,7.0,25.0,51.0,26.0,20.0,8.0,40.0,10.0,17.0,2.0,63.0,70.0,45.0,21.0,14.0,13.0,13.0,12.0,19.0,20.0,27.0,100.0,16.0,12.0,35.0,4.0,40.0,17.0,32.0,12.0,27.0,8.0,22.0,52.0,9.0,18.0,15.0,13.0,20.0,16.0,16.0,25.0,3.0,32.0,40.0,10.0,35.0,35.0,23.0,47.0,60.0,70.0,50.0,48.0,17.0,25.0,25.0,25.0,63.0,12.0,14.0,12.0,14.0,83.0,28.0,35.0,5.0,14.0,25.0,25.0,12.0,22.0,60.0,80.0,32.0,15.0,63.0,17.0,62.0,16.0,25.0,20.0,11.0,14.0,50.0,18.0,51.0,12.0,7.0,70.0,27.0,19.0,37.0,20.0,25.0,23.0,11.0,80.0,23.0,50.0,90.0,80.0,5.0,20.0,46.0,25.0,15.0,13.0,15.0,70.0,35.0,11.0,16.0,30.0,18.0,25.0,32.0,22.0,40.0,22.0,22.0,45.0,29.0,60.0,60.0,11.0,18.0,18.0,16.0,25.0,75.0,12.0,25.0,60.0,4.0,9.0,25.0,20.0,60.0,42.0,40.0,13.0,14.0,25.0,58.0,30.0,54.0,30.0,20.0,63.0,25.0,3.0,60.0,35.0,15.0,40.0,25.0,65.0,45.0,15.0,24.0,15.0,23.0,30.0,24.0,35.0,5.0,46.0,50.0,38.0,36.0,4.0,25.0,15.0,25.0,30.0,35.0,18.0,23.0,60.0,11.0,21.0,42.0,30.0,37.0,20.0,55.0,78.0,45.0,11.0,15.0,21.0,30.0,36.0,15.0,3.0,25.0,44.0,17.0,57.0,30.0,15.0,80.0,26.0,25.0,80.0,30.0,20.0,13.0,12.0,90.0,45.0,50.0,27.0,30.0,15.0,12.0,60.0,11.0,18.0,10.0,21.0,22.0,28.0,65.0,24.0,33.0,50.0,51.0,5.0,40.0,24.0,25.0,21.0,9.0,10.0,43.0,13.0,10.0,8.0,45.0,14.0,25.0,45.0,18.0,21.0,25.0,20.0,30.0,35.0,44.0,47.0,20.0,55.0,6.0,13.0,12.0,25.0,35.0,50.0,17.0,33.0,20.0,13.0,59.0,42.0,3.0,16.0,60.0,14.0,15.0,34.0,11.0,27.0,35.0,35.0,10.0,22.0,16.0,20.0,26.0,38.0,28.0,14.0,23.0,9.0,20.0,20.0,19.0,60.0,70.0,40.0,60.0,20.0,12.0,25.0,35.0,40.0,15.0,40.0,19.0,100.0,31.0,48.0,37.0,20.0,28.0,26.0,16.0,21.0,25.0,19.0,31.0,22.0,9.0,19.0,50.0,35.0,65.0,22.0,40.0,20.0,25.0,50.0,55.0,30.0,90.0,12.0,35.0,47.0,30.0,17.0,20.0,14.0,20.0,37.0,21.0,24.0,20.0,18.0,15.0,25.0,35.0,15.0,45.0,24.0,15.0,16.0,24.0,11.0,7.0,60.0,27.0,40.0,16.0,9.0,32.0,35.0,17.0,10.0,22.0,35.0,18.0,35.0,15.0,27.0,14.0,15.0,27.0,32.0,25.0,16.0,26.0,20.0,70.0,24.0,21.0,30.0,22.0,11.0,18.0,90.0,16.0,45.0,24.0,30.0,32.0,42.0,24.0,24.0,90.0,40.0,22.0,27.0,16.0,72.0,15.0,40.0,28.0,8.0,12.0,15.0,55.0,16.0,14.0,21.0,18.0,18.0,63.0,48.0,20.0,101.0,28.0,40.0,15.0,11.0,21.0,7.0,35.0,22.0,18.0,34.0,100.0,30.0,18.0,29.0,45.0,18.0,60.0,6.0,30.0,20.0,50.0,17.0,30.0,25.0,48.0,70.0,55.0,13.0,45.0,9.0,25.0,47.0,80.0,25.0,9.0,7.0,80.0,9.0,53.0,30.0,12.0,10.0,20.0,40.0,42.0,17.0,21.0,18.0,35.0,18.0,17.0,30.0,39.0,18.0,45.0,11.0,20.0,50.0,55.0,10.0,13.0,28.0,16.0,27.0,15.0,31.0,94.0,29.0,70.0,14.0,36.0,25.0,27.0,30.0,40.0,40.0,11.0,36.0,50.0,10.0,68.0,35.0,32.0,14.0,13.0,70.0,23.0,19.0,80.0,25.0,15.0,15.0,50.0,24.0,27.0,43.0,15.0,70.0,20.0,28.0,17.0,38.0,35.0,7.0,34.0,40.0,30.0,40.0,25.0,50.0,33.0,52.0,50.0,42.0,38.0,45.0,19.0,17.0,40.0,21.0,13.0,15.0,10.0,12.0,22.0,25.0,3.0,23.0,35.0,10.0,32.0,18.0,17.0,16.0,12.0,39.0,18.0,23.0,25.0,36.0,26.0,17.0,14.0,7.0,10.0,13.0,15.0,22.0,2.0,22.0,70.0,50.0,20.0,84.0,20.0,23.0,41.0,25.0,10.0,13.0,30.0,30.0,35.0,25.0,19.0,35.0,35.0,30.0,21.0,18.0,15.0,74.0,50.0,76.0,17.0,20.0,50.0,30.0,120.0,15.0,24.0,15.0,5.0,25.0,13.0,10.0,21.0,17.0,34.0,22.0,15.0,24.0,28.0,23.0,42.0,30.0,16.0,30.0,50.0,22.0,15.0,15.0,25.0,13.0,25.0,29.0,14.0,14.0,24.0,35.0,23.0,30.0,24.0,52.0,15.0,27.0,30.0,30.0,54.0,12.0,30.0,25.0,21.0,7.0,18.0,40.0,18.0,25.0,31.0,23.0,15.0,25.0,27.0,52.0,21.0,26.0,32.0,15.0,21.0,26.0,14.0,22.0,34.0,30.0,15.0,15.0,30.0,13.0,50.0,28.0,25.0,26.0,7.0,2.0,22.0,59.0,25.0,14.0,43.0,8.0,70.0,28.0,18.0,12.0,20.0,20.0,11.0,17.0,17.0,26.0,12.0,35.0,6.0,22.0,22.0,19.0,50.0,15.0,15.0,72.0,45.0,20.0,90.0,35.0,31.0,10.0,28.0,30.0,86.0,25.0,70.0,30.0,40.0,20.0,40.0,13.0,30.0,40.0,48.0,50.0,21.0,18.0,18.0,58.0,37.0,28.0,18.0,18.0,32.0,22.0,18.0,22.0,39.0,24.0,30.0,25.0,15.0,35.0,10.0,40.0,9.0,40.0,30.0,50.0,20.0,15.0,30.0,17.0,15.0,48.0,62.0,7.0,15.0,95.0,15.0,9.0,25.0,11.0,14.0,14.0,15.0,15.0,25.0,18.0,60.0,15.0,45.0,35.0,40.0,30.0,12.0,13.0,43.0,75.0,100.0,17.0,12.0,75.0,12.0,37.0,54.0,85.0,20.0,46.0,21.0,33.0,33.0,29.0,20.0,65.0,120.0,30.0,16.0,90.0,25.0,32.0,29.0,12.0,32.0,35.0,22.0,40.0,7.0,23.0,30.0,15.0,17.0,15.0,40.0,17.0,15.0,16.0,9.0,25.0,20.0,90.0,10.0,23.0,30.0,82.0,40.0,15.0,30.0,30.0,16.0,19.0,80.0,30.0,50.0,66.0,40.0,45.0,25.0,13.0,37.0,20.0,42.0,35.0,20.0,60.0,60.0,45.0,20.0,19.0,23.0,55.0,23.0,30.0,51.0,22.0,21.0,16.0,53.0,23.0,25.0,18.0,20.0,26.0,65.0,21.0,55.0,7.0,14.0,50.0,10.0,8.0,20.0,40.0,33.0,20.0,26.0,17.0,51.0,30.0,30.0,15.0,18.0,43.0,15.0,15.0,28.0,32.0,32.0,25.0,18.0,19.0,30.0,30.0,25.0,36.0,40.0,26.0,40.0,31.0,15.0,12.0,20.0,32.0,28.0,13.0,47.0,40.0,30.0,23.0,40.0,26.0,100.0,50.0,18.0,13.0,30.0,50.0,33.0,44.0,45.0,30.0,23.0,13.0,18.0,28.0,50.0,11.0,15.0,25.0,27.0,65.0,55.0,40.0,14.0,50.0,30.0,21.0,55.0,120.0,40.0,25.0,55.0,12.0,65.0,34.0,22.0,35.0,17.0,20.0,70.0,40.0,22.0,14.0,13.0,15.0,23.0,55.0,18.0,75.0,47.0,14.0,38.0,23.0,9.0,12.0,25.0,26.0,5.0,18.0,25.0,30.0,15.0,15.0,25.0,64.0,40.0,20.0,31.0,30.0,120.0,31.0,15.0,24.0,25.0,35.0,7.0,20.0,19.0,45.0,25.0,11.0,15.0,30.0,17.0,37.0,13.0,38.0,25.0,20.0,9.0,33.0,16.0,30.0,27.0,22.0,15.0,11.0,17.0,44.0,54.0,8.0,9.0,25.0,25.0,15.0,25.0,55.0,41.0,15.0,15.0,25.0,25.0,32.0,30.0,14.0,58.0,30.0,12.0,24.0,47.0,18.0,55.0,25.0,53.0,23.0,22.0,12.0,32.0,40.0,60.0,25.0,11.0,65.0,80.0,55.0,16.0,18.0,17.0,18.0,50.0,21.0,50.0,13.0,51.0,25.0,30.0,15.0,40.0,10.0,34.0,70.0,27.0,21.0,15.0,15.0,46.0,4.0,5.0,40.0,19.0,33.0,11.0,34.0,16.0,21.0,80.0,55.0,9.0,21.0,25.0,18.0,41.0,23.0,15.0,13.0,35.0,33.0,11.0,35.0,30.0,25.0,27.0,96.0,40.0,11.0,20.0,50.0,75.0,24.0,32.0,16.0,27.0,15.0,19.0,20.0,35.0,80.0,40.0,18.0,12.0,25.0,19.0,60.0,79.0,95.0,30.0,50.0,22.0,33.0,15.0,11.0,30.0,8.0,25.0,30.0,15.0,30.0,70.0,7.0,80.0,6.0,30.0,21.0,17.0,120.0,27.0,22.0,35.0,6.0,15.0,20.0,11.0,30.0,20.0,30.0,20.0,40.0,30.0,15.0,60.0,17.0,35.0,34.0,35.0,25.0,18.0,8.0,24.0,13.0,30.0,27.0,15.0,27.0,22.0,50.0,22.0,25.0,21.0,12.0,140.0,30.0,60.0,35.0,12.0,12.0,21.0,70.0,20.0,67.0,24.0,62.0,11.0,17.0,32.0,65.0,58.0,52.0,30.0,12.0,20.0,30.0,7.0,37.0,30.0,47.0,90.0,38.0,20.0,2.0,25.0,19.0,19.0,18.0,30.0,45.0,45.0,15.0,19.0,24.0,40.0,35.0,21.0,18.0,100.0,23.0,25.0,80.0,15.0,68.0,40.0,50.0,28.0,10.0,9.0,46.0,22.0,44.0,30.0],\"xaxis\":\"x\",\"y\":[0,1,2,3,4,5,6,7,8,9,10,11,12,13,14,15,16,17,18,19,20,21,22,23,24,25,26,27,28,29,30,31,32,33,34,35,36,37,38,39,40,41,42,43,44,45,46,47,48,49,50,51,52,53,54,55,56,57,58,59,60,61,62,63,64,65,66,67,68,69,70,71,72,73,74,75,76,77,78,79,80,81,82,83,84,85,86,87,88,89,90,91,92,93,94,95,96,97,98,99,100,101,102,103,104,105,106,107,108,109,110,111,112,113,114,115,116,117,118,119,120,121,122,123,124,125,126,127,128,129,130,131,132,133,134,135,136,137,138,139,140,141,143,144,145,146,147,148,149,150,151,152,153,154,155,156,157,158,159,160,161,162,163,164,165,166,167,168,169,170,171,172,173,174,175,176,177,178,179,180,181,182,183,184,185,186,187,188,189,190,191,192,193,194,195,196,197,198,199,200,201,202,203,204,205,206,207,208,209,210,211,213,214,215,216,217,218,219,220,221,222,223,224,225,226,227,228,229,230,231,232,233,234,235,236,237,238,239,240,241,242,243,244,245,246,247,248,249,250,251,252,253,254,255,256,257,258,259,260,261,262,263,264,265,266,267,268,269,270,271,272,273,274,275,276,277,278,279,280,281,282,283,284,285,286,287,288,289,290,291,292,293,294,295,296,297,298,299,300,301,302,303,304,305,306,307,308,309,310,311,312,313,314,315,316,317,318,319,320,321,322,323,324,325,326,327,328,329,330,331,332,333,334,335,336,337,338,339,340,341,342,343,344,345,346,347,348,349,350,351,352,353,354,355,356,357,358,359,360,361,362,363,364,365,366,367,368,369,370,371,372,373,374,375,376,377,378,379,380,381,382,383,384,385,386,387,388,389,390,391,392,393,394,395,396,397,398,399,400,401,402,403,404,405,406,407,408,409,410,411,412,413,414,415,416,417,418,419,420,421,422,423,424,425,426,427,428,429,430,431,432,433,434,435,436,437,438,439,440,441,442,443,444,445,446,447,448,449,450,451,452,453,454,455,456,457,458,459,460,461,462,463,464,465,466,467,468,469,470,471,472,473,474,475,476,477,478,479,480,481,482,483,484,485,486,487,488,489,490,491,492,493,494,495,496,497,498,499,500,501,502,503,504,505,506,507,508,509,510,511,512,513,514,515,516,517,518,519,520,521,523,524,525,526,527,528,529,530,531,532,533,534,535,536,537,538,539,540,541,542,543,544,545,546,547,548,549,550,551,552,553,554,555,556,557,558,559,560,561,562,563,564,565,566,567,568,569,570,571,572,573,574,575,576,577,578,579,580,581,582,583,584,585,586,587,588,589,590,591,592,593,594,595,596,597,598,599,600,601,602,603,604,605,606,607,608,609,610,611,612,613,614,615,616,617,618,619,620,621,622,623,624,625,626,627,628,629,630,631,632,633,634,635,636,637,638,639,640,641,642,643,644,645,646,647,648,649,650,651,652,653,654,655,656,657,658,659,660,661,662,663,664,665,666,667,668,669,670,671,672,673,674,675,676,677,678,679,680,681,682,683,684,685,686,687,688,689,690,691,692,693,694,695,696,697,698,699,700,701,702,703,704,705,706,707,708,709,710,711,712,713,714,715,716,717,718,719,720,721,722,723,724,725,726,727,728,729,730,731,732,733,734,735,736,737,738,739,740,741,742,743,744,745,746,747,748,749,750,751,752,753,754,755,756,757,758,759,760,761,762,763,764,765,766,767,768,769,770,771,772,773,774,775,776,777,778,779,780,781,782,783,784,785,786,787,788,789,790,791,792,793,794,795,796,797,798,799,800,801,802,803,804,805,806,807,808,809,810,811,812,813,814,815,816,817,818,819,820,821,822,823,824,825,826,827,828,829,830,831,832,833,834,835,836,837,838,839,840,841,843,844,845,846,847,848,849,850,851,852,853,854,855,856,857,858,859,860,861,862,863,864,865,866,867,868,869,870,871,872,873,874,875,876,877,878,879,880,881,882,883,884,885,886,887,888,889,890,891,892,893,894,895,896,897,898,899,900,901,902,903,904,905,906,907,908,909,910,911,912,913,914,915,916,917,918,919,920,921,922,923,924,925,926,927,928,929,930,931,932,933,934,935,936,937,938,939,940,941,942,943,944,945,946,947,948,949,950,951,952,953,954,955,956,957,958,959,960,961,962,963,964,965,966,967,968,969,970,971,972,973,974,975,976,977,978,983,984,985,986,987,988,989,990,991,992,993,994,995,996,997,998,999,1000,1001,1002,1003,1004,1005,1006,1007,1008,1009,1010,1011,1012,1013,1014,1015,1016,1017,1018,1019,1020,1021,1022,1023,1024,1025,1026,1027,1028,1029,1030,1031,1032,1033,1034,1035,1036,1037,1038,1039,1040,1041,1042,1043,1044,1045,1046,1047,1048,1049,1050,1051,1052,1053,1054,1055,1056,1057,1058,1059,1060,1061,1062,1063,1064,1065,1066,1067,1068,1069,1070,1071,1072,1073,1074,1075,1076,1077,1078,1079,1080,1081,1082,1083,1084,1085,1086,1087,1088,1089,1090,1091,1092,1093,1094,1095,1096,1097,1098,1099,1100,1101,1102,1103,1104,1105,1106,1107,1108,1109,1110,1111,1112,1113,1114,1115,1116,1117,1118,1119,1120,1121,1122,1123,1124,1125,1126,1127,1128,1129,1130,1131,1132,1133,1134,1135,1136,1137,1138,1139,1140,1141,1142,1143,1144,1145,1146,1147,1148,1149,1150,1151,1152,1153,1154,1155,1156,1157,1158,1159,1160,1161,1162,1163,1164,1165,1166,1167,1168,1169,1170,1171,1172,1173,1174,1175,1176,1177,1178,1179,1180,1181,1182,1183,1184,1185,1186,1187,1188,1189,1190,1191,1192,1193,1194,1195,1196,1197,1198,1199,1200,1201,1202,1203,1204,1205,1206,1207,1208,1209,1210,1211,1212,1213,1214,1215,1216,1217,1218,1219,1220,1221,1222,1223,1224,1225,1226,1227,1228,1229,1230,1231,1232,1233,1234,1235,1236,1237,1238,1239,1240,1241,1242,1243,1244,1245,1246,1247,1248,1249,1250,1251,1252,1253,1254,1255,1256,1257,1258,1259,1260,1261,1262,1263,1264,1265,1266,1267,1268,1269,1270,1271,1272,1273,1274,1275,1276,1277,1278,1279,1280,1281,1282,1283,1284,1285,1286,1287,1288,1289,1290,1291,1292,1293,1294,1295,1296,1297,1298,1299,1300,1301,1302,1303,1304,1305,1306,1307,1308,1309,1310,1311,1312,1313,1314,1315,1316,1317,1318,1319,1320,1321,1322,1323,1324,1325,1326,1327,1328,1329,1330,1331,1332,1333,1334,1335,1336,1337,1338,1339,1340,1341,1342,1343,1344,1345,1346,1347,1348,1349,1350,1351,1352,1353,1354,1355,1356,1357,1358,1359,1360,1361,1362,1363,1364,1365,1366,1367,1368,1369,1370,1371,1372,1373,1374,1375,1376,1377,1378,1379,1380,1381,1382,1383,1384,1385,1386,1387,1388,1389,1390,1391,1392,1393,1394,1395,1396,1397,1398,1399,1400,1401,1402,1403,1404,1405,1406,1407,1408,1409,1410,1411,1412,1413,1414,1415,1416,1417,1418,1419,1420,1421,1422,1423,1424,1425,1426,1427,1428,1429,1430,1431,1432,1433,1434,1435,1436,1437,1438,1439,1440,1441,1442,1443,1444,1445,1446,1447,1448,1449,1450,1451,1452,1453,1454,1455,1456,1457,1458,1459,1460,1461,1462,1463,1464,1465,1466,1467,1468,1469,1470,1471,1472,1473,1474,1475,1476,1477,1478,1479,1480,1481,1482,1483,1484,1485,1486,1487,1488,1489,1490,1491,1492,1493,1494,1495,1496,1497,1498,1499,1500,1501,1502,1503,1504,1505,1506,1507,1508,1509,1510,1511,1512,1513,1514,1515,1516,1517,1518,1519,1520,1521,1522,1523,1524,1525,1526,1527,1528,1529,1530,1531,1532,1533,1534,1535,1536,1537,1538,1539,1540,1541,1542,1543,1544,1545,1546,1547,1548,1549,1550,1551,1552,1553,1554,1555,1556,1557,1558,1559,1560,1561,1562,1563,1564,1565,1566,1567,1568,1569,1570,1571,1572,1573,1574,1575,1576,1577,1578,1579,1580,1581,1582,1583,1584,1585,1586,1587,1588,1589,1590,1591,1592,1593,1594,1595,1596,1597,1598,1599,1600,1601,1602,1603,1604,1605,1606,1607,1608,1609,1610,1611,1612,1613,1614,1615,1616,1617,1618,1619,1620,1621,1622,1623,1624,1625,1626,1627,1628,1629,1630,1631,1632,1633,1634,1635,1636,1637,1638,1639,1640,1641,1642,1643,1644,1645,1646,1647,1648,1649,1650,1651,1652,1653,1654,1655,1656,1657,1658,1659,1660,1661,1662,1663,1664,1665,1666,1667,1668,1669,1670,1671,1672,1673,1674,1675,1676,1677,1678,1679,1680,1681,1682,1683,1684,1685,1686,1687,1688,1689,1690,1691,1692,1693,1694,1695,1696,1697,1698,1699,1700,1701,1702,1703,1704,1705,1706,1707,1708,1709,1710,1711,1712,1713,1714,1715,1716,1717,1718,1719,1720,1721,1722,1723,1724,1725,1726,1727,1728,1729,1730,1731,1732,1733,1734,1735,1736,1737,1738,1739,1740,1741,1742,1743,1744,1745,1746,1747,1748,1749,1750,1751,1752,1753,1754,1755,1756,1757,1758,1759,1760,1761,1762,1763,1764,1765,1766,1767,1768,1769,1770,1771,1772,1773,1774,1775,1776,1777,1778,1779,1780,1781,1782,1783,1784,1785,1786,1787,1788,1789,1790,1791,1792,1793,1794,1795,1796,1797,1798,1799,1800,1801,1802,1803,1804,1805,1806,1807,1808,1809,1810,1811,1812,1813,1814,1815,1816,1817,1818,1819,1820,1821,1822,1823,1824,1825,1826,1827,1828,1829,1830,1831,1832,1833,1834,1835,1836,1837,1838,1839,1840,1841,1842,1843,1844,1845,1846,1847,1848,1849,1850,1851,1852,1853,1854,1855,1856,1857,1858,1859,1860,1861,1862,1863,1864,1865,1866,1867,1868,1869,1870,1871,1872,1873,1874,1875,1876,1877,1878,1879,1880,1881,1882,1883,1884,1885,1886,1887,1888,1889,1890,1891,1892,1893,1894,1895,1896,1897,1898,1899,1900,1901,1902,1903,1904,1905,1906,1907,1908,1909,1910,1911,1912,1913,1914,1915,1916,1917,1918,1919,1920,1921,1922,1923,1924,1925,1926,1927,1928,1929,1930,1931,1932,1933,1934,1935,1936,1937,1938,1939,1940,1941,1942,1943,1944,1945,1946,1947,1948,1949,1950,1951,1952,1953,1954,1955,1956,1957,1958,1959,1960,1961,1962,1963,1964,1965,1966,1967,1968,1969,1970,1971,1972,1973,1974,1975,1976,1977,1978,1979,1980,1981,1982,1983,1984,1985,1986,1987,1988,1989,1990,1991,1992,1993,1994,1995,1996,1997,1998,1999,2000,2001,2002,2003,2004,2005,2006,2007,2008,2009,2010,2011,2012,2013,2014,2015,2016,2017,2018,2019,2020,2021,2022,2023,2024,2025,2026,2027,2028,2029,2030,2031,2032,2033,2034,2035,2036,2037,2038,2039,2040,2041,2042,2043,2044,2045,2046,2047,2048,2049,2050,2051,2052,2053,2054,2055,2056,2057,2058,2059,2060,2061,2062,2063,2064,2065,2066,2067,2068,2069,2070,2071,2072,2073,2074,2075,2076,2077,2078,2079,2080,2081,2082,2083,2084,2085,2086,2087,2088,2089,2090,2091,2092,2093,2094,2095,2096,2097,2098,2099,2100,2101,2102,2103,2104,2105,2106,2107,2108,2109,2110,2111,2112,2113,2114,2115,2116,2117,2118,2119,2120,2121,2122,2123,2124,2125,2126,2127,2128,2129,2130,2131,2132,2133,2134,2135,2136,2137,2138,2139,2140,2141,2142,2143,2144,2145,2146,2147,2148,2149,2150,2151,2152,2153,2154,2155,2156,2157,2158,2159,2160,2161,2162,2163,2164,2165,2166,2167,2168,2169,2170,2171,2172,2173,2174,2175,2176,2177,2178,2179,2180,2181,2182,2183,2184,2185,2186,2187,2188,2189,2190,2191,2192,2193,2194,2195,2196,2197,2198,2199,2200,2201,2202,2203,2204,2205,2206,2207,2208,2209,2210,2211,2212,2213,2214,2215,2216,2217,2218,2219,2220,2221,2222,2223,2224,2225,2226,2227,2228,2229,2230,2231,2232,2233,2234,2235,2236,2237,2238,2239,2240,2241,2242,2243,2244,2245,2246,2247,2248,2249,2250,2251,2252,2253,2254,2255,2256,2257,2258,2259,2260,2261,2262,2263,2264,2265,2266,2267,2268,2269,2270,2271,2272,2273,2274,2275,2276,2277,2278,2279,2280,2281,2282,2283,2284,2285,2286,2287,2288,2289,2290,2291,2292,2293,2294,2295,2296,2297,2298,2299,2300,2301,2302,2303,2304,2305,2306,2307,2308,2309,2310,2311,2312,2313,2314,2315,2316,2317,2318,2319,2320,2321,2322,2323,2324,2325,2326,2327,2328,2329,2330,2331,2332,2333,2334,2335,2336,2337,2338,2339,2340,2341,2342,2343,2344,2345,2346,2347,2348,2349,2350,2351,2352,2353,2354,2355,2356,2357,2358,2359,2360,2361,2362,2363,2364,2365,2366,2367,2368,2369,2370,2371,2372,2373,2374,2375,2376,2377,2378,2379,2380,2381,2382,2383,2384,2385,2386,2387,2388,2389,2390,2391,2392,2393,2394,2395,2396,2397,2398,2399,2400,2401,2402,2403,2404,2405,2406,2407,2408,2409,2410,2411,2412,2413,2414,2415,2416,2417,2418,2419,2420,2421,2422,2423,2424,2425,2426,2427,2428,2429,2430,2431,2432,2433,2434,2435,2436,2437,2438,2439,2440,2441,2442,2443,2444,2445,2446,2447,2448,2449,2450,2451,2452,2453,2454,2455,2456,2457,2458,2459,2460,2461,2462,2463,2464,2465,2466,2467,2468,2469,2470,2471,2472,2473,2474,2475,2476,2477,2478,2479,2480,2481,2482,2483,2484,2485,2486,2487,2488,2489,2490,2491,2492,2493,2494,2495,2496,2497,2498,2499,2500,2501,2502,2503,2504,2505,2506,2507,2508,2509,2510,2511,2512,2513,2514,2515,2516,2517,2518,2519,2520,2521,2522,2523,2524,2525,2526,2527,2528,2529,2530,2531,2532,2533,2534,2535,2536,2537,2538,2539,2540,2541,2542,2543,2544,2545,2546,2547,2548,2549,2550,2551,2552,2553,2554,2555,2556,2557,2558,2559,2560,2561,2562,2563,2564,2565,2566,2567,2568,2569,2570,2571,2572,2573,2574,2575,2576,2577,2578,2579,2580,2581,2582,2583,2584,2585,2586,2587,2588,2589,2590,2591,2592,2593,2594,2595,2596,2597,2598,2599,2600,2601,2602,2603,2604,2605,2606,2607,2608,2609,2610,2611,2612,2613,2614,2615,2616,2617,2618,2619,2620,2621,2622,2623,2624,2625,2626,2627,2628,2629,2630,2631,2632,2633,2634,2635,2636,2637,2638,2639,2640,2641,2642,2643,2644,2645,2646,2647,2648,2649,2650,2651,2652,2653,2654,2655,2656,2657,2658,2659,2660,2661,2662,2663,2664,2665,2666,2667,2668,2669,2670,2671,2672,2673,2674,2675,2676,2677,2678,2679,2680,2681,2682,2683,2684,2685,2686,2687,2688,2689,2690,2691,2692,2693,2694,2695,2696,2697,2698,2699,2700,2701,2702,2703,2704,2705,2706,2707,2708,2709,2710,2711,2712,2713,2714,2715,2716,2717,2718,2719,2720,2721,2722,2723,2724,2725,2726,2727,2728,2729,2730,2731,2732,2733,2734,2735,2736,2737,2738,2739,2740,2741,2742,2743,2744,2745,2746,2747,2748,2749,2750,2751,2752,2753,2754,2755,2756,2757,2758,2759,2760,2761,2762,2763,2764,2765,2766,2767,2768,2769,2770,2771,2772,2773,2774,2775,2776,2777,2778,2779,2780,2781,2782,2783,2784,2785,2786,2787,2788,2789,2790,2791,2792,2793,2794,2795,2796,2797,2798,2799,2800,2801,2802,2803,2804,2805,2806,2807,2808,2809,2810,2811,2812,2813,2814,2815,2816,2817,2818,2819,2820,2821,2822,2823,2824,2825,2826,2827,2828,2829,2830,2831,2832,2833,2834,2835,2836,2837,2838,2839,2840,2841,2842,2843,2844,2845,2846,2847,2848,2849,2850,2851,2852,2853,2854,2855,2856,2857,2858,2859,2860,2861,2862,2863,2864,2865,2866,2867,2868,2869,2870,2871,2872,2873,2874,2875,2876,2877,2878,2879,2880,2881,2882,2883,2884,2885,2886,2887,2888,2889,2890,2891,2892,2893,2894,2895,2896,2897,2898,2899,2900,2901,2902,2903,2904,2905,2906,2907,2908,2909,2910,2911,2912,2913,2914,2915,2916,2917,2918,2919,2920,2921,2922,2923,2924,2925,2926,2927,2928,2929,2930,2931,2932,2933,2934,2935,2936,2937,2938,2939,2940,2941,2942,2943,2944,2945,2946,2947,2948,2949,2950,2951,2952,2953,2954,2955,2956,2957,2958,2959,2960,2961,2962,2963,2964,2965,2966,2967,2968,2969,2970,2971,2972,2973,2974,2975,2976,2977,2978,2979,2980,2981,2982,2983,2984,2985,2986,2987,2988,2989,2990,2991,2992,2993,2994,2995,2996,2997,2998,2999,3000,3001,3002,3003,3004,3005,3006,3007,3008,3009,3010,3011,3012,3013,3014,3015,3016,3017,3018,3019,3020,3021,3022,3023,3024,3025,3026,3027,3028,3029,3030,3031,3032,3033,3034,3035,3036,3037,3038,3039,3040,3041,3042,3043,3044,3045,3046,3047,3048,3049,3050,3051,3052,3053,3054,3055,3056,3057,3058,3059,3060,3061,3062,3063,3064,3065,3066,3067,3068,3069,3070,3071,3072,3073,3074,3075,3076,3077,3078,3079,3080,3081,3082,3083,3084,3085,3086,3087,3088,3089,3090,3091,3092,3093,3094,3095,3096,3097,3098,3099,3100,3101,3102,3103,3104,3105,3106,3107,3108,3109,3110,3111,3112,3113,3114,3115,3116,3117,3118,3119,3120,3121,3122,3123,3124,3125,3126,3127,3128,3129,3130,3131,3132,3133,3134,3135,3136,3137,3138,3139,3140,3141,3142,3143,3144,3145,3146,3147,3148,3149,3150,3151,3152,3153,3154,3155,3156,3157,3158,3159,3160,3161,3162,3163,3164,3165,3166,3167,3168,3169,3170,3171,3172,3173,3174,3175,3176,3177,3178,3179,3180,3181,3182,3183,3184,3185,3186,3187,3188,3189,3190,3191,3192,3193,3194,3195,3196,3197,3198,3199,3200,3201,3202,3203,3204,3205,3206,3207,3208,3209,3210,3211,3212,3213,3214,3215,3216,3217,3218,3219,3220,3221,3222,3223,3224,3225,3226,3227,3228,3229,3230,3231,3232,3233,3234,3235,3236,3237,3238,3239,3240,3241,3242,3243,3244,3245,3246,3247,3248,3249,3250,3251,3252,3253,3254,3255,3256,3257,3258,3259,3260,3261,3262,3263,3264,3265,3266,3267,3268,3269,3270,3271,3272,3273,3274,3275,3276,3277,3278,3279,3280,3281,3282,3283,3284,3285,3286,3287,3288,3289,3290,3291,3292,3293,3294,3295,3296,3297,3298,3299,3300,3301,3302,3303,3304,3305,3306,3307,3308,3309,3310,3311,3312,3313,3314,3315,3316,3317,3318,3319,3320,3321,3322,3323,3324,3325,3326,3327,3328,3329,3330,3331,3332,3333,3334,3335,3336,3337,3338,3339,3340,3341,3342,3343,3344,3345,3346,3347,3348,3349,3350,3351,3352,3353,3354,3355,3356,3357,3358,3359,3360,3361,3362,3363,3364,3365,3366,3367,3368,3369,3370,3371,3372,3373,3374,3375,3376,3377,3378,3379,3380,3381,3382,3383,3384,3385,3386,3387,3388,3389,3390,3391,3392,3393,3394,3395,3396,3397,3398,3399,3400,3401,3402,3403,3404,3405,3406,3407,3408,3409,3410,3411,3412,3413,3414,3415,3416,3417,3418,3419,3420,3421,3422,3423,3424,3425,3426,3427,3428,3429,3430,3431,3432,3433,3434,3435,3436,3437,3438,3439,3440,3441,3442,3443,3444,3445,3446,3447,3448,3449,3450,3451,3452,3453,3454,3455,3456,3457,3458,3459,3460,3461,3462,3463,3464,3465,3466,3467,3468,3469,3470,3471,3472,3473,3474,3475,3476,3477,3478,3479,3480,3481,3482,3483,3484,3485,3486,3487,3488,3489,3490,3491,3492,3493,3494,3495,3496,3497,3498,3499,3500,3501,3502,3503,3504,3505,3506,3507,3508,3509,3510,3511,3512,3513,3514,3515,3516,3517,3518,3519,3520,3521,3522,3523,3524,3525,3526,3527,3528,3529,3530,3531,3532,3533,3534,3535,3536,3537,3538,3539,3540,3541,3542,3543,3544,3545,3546,3547,3548,3549,3550,3551,3552,3553,3554,3555,3556,3557,3558,3559,3560,3561,3562,3563,3564,3565,3566,3567,3568,3569,3570,3571,3572,3573,3574,3575,3576,3577,3578,3579,3580,3581,3582,3583,3584,3585,3586,3587,3588,3589,3590,3591,3592,3593,3594,3595,3596,3597,3598,3599,3600,3601,3602,3603,3604,3605,3606,3607,3608,3609,3610,3611,3612,3613,3614,3615,3616,3617,3618,3619,3620,3621,3622,3623,3624,3625,3626,3627,3628,3629,3630,3631,3632,3633,3634,3635,3636,3637,3638,3639,3640,3641,3642,3643,3644,3645,3646,3647,3648,3649,3650,3651,3652,3653,3654,3655,3656,3657,3658,3659,3660,3661,3662,3663,3664,3665,3666,3667,3668,3669,3670,3671,3672,3673,3674,3675,3676,3677,3678,3679,3680,3681,3682,3683,3684,3685,3686,3687,3688,3689,3690,3691,3692,3693,3694,3695,3696,3697,3698,3699,3700,3701,3702,3703,3704,3705,3706,3707,3708,3709,3710,3711,3712,3713,3714,3715,3716,3717,3718,3719,3720,3721,3722,3723,3724,3725,3726,3727,3728,3729,3730,3731,3732,3733,3734,3735,3736,3737,3738,3739,3740,3741,3742,3743,3744,3745,3746,3747,3748,3749,3750,3751,3752,3753,3754,3755,3756,3757,3758,3759,3760,3761,3762,3763,3764,3765,3766,3767,3768,3769,3770,3771,3772,3773,3774,3775,3776,3777,3778,3779,3780,3781,3782,3783,3784,3785,3786,3787,3788,3789,3790,3791,3792,3793,3794,3795,3796,3797,3798,3799,3800,3801,3802,3803,3804,3805,3806,3807,3808,3809,3810,3811,3812,3813,3814,3815,3816,3817,3818,3819,3820,3821,3822,3823,3824,3825,3826,3827,3828,3829,3830,3831,3832,3833,3834,3835,3836,3837,3838,3839,3840,3841,3842,3843,3844,3845,3846,3847,3848,3849,3850,3851,3852,3853,3854,3855,3856,3857,3858,3859,3860,3861,3862,3863,3864,3865,3866,3867,3868,3869,3870,3871,3872,3873,3874,3875,3876,3877,3878,3879,3880,3881,3882,3883,3884,3885,3886,3887,3888,3889,3890,3891,3892,3893,3894,3895,3896,3897,3898,3899,3900,3901,3902,3903,3904,3905,3906,3907,3908,3909,3910,3911,3912,3913,3914,3915,3916,3917,3918,3919,3920,3921,3922,3923,3924,3925,3926,3927,3928,3929,3930,3931,3932,3933,3934,3935,3936,3937,3938,3939,3940,3941,3942,3943,3944,3945,3946,3947,3948,3949,3950,3951,3952,3953,3954,3955,3956,3957,3958,3959,3960,3961,3962,3963,3964,3965,3966,3967,3968,3969,3970,3971,3972,3973,3974,3975,3976,3977,3978,3979,3980,3981,3982,3983,3984,3985,3986,3987,3988,3989,3990,3991,3992,3993,3994,3995,3996,3997,3998,3999,4000,4001,4002,4003,4004,4005,4006,4007,4008,4009,4010,4011,4012,4013,4014,4015,4016,4017,4018,4019,4020,4021,4022,4023],\"yaxis\":\"y\",\"type\":\"scattergl\"}],                        {\"template\":{\"data\":{\"histogram2dcontour\":[{\"type\":\"histogram2dcontour\",\"colorbar\":{\"outlinewidth\":0,\"ticks\":\"\"},\"colorscale\":[[0.0,\"#0d0887\"],[0.1111111111111111,\"#46039f\"],[0.2222222222222222,\"#7201a8\"],[0.3333333333333333,\"#9c179e\"],[0.4444444444444444,\"#bd3786\"],[0.5555555555555556,\"#d8576b\"],[0.6666666666666666,\"#ed7953\"],[0.7777777777777778,\"#fb9f3a\"],[0.8888888888888888,\"#fdca26\"],[1.0,\"#f0f921\"]]}],\"choropleth\":[{\"type\":\"choropleth\",\"colorbar\":{\"outlinewidth\":0,\"ticks\":\"\"}}],\"histogram2d\":[{\"type\":\"histogram2d\",\"colorbar\":{\"outlinewidth\":0,\"ticks\":\"\"},\"colorscale\":[[0.0,\"#0d0887\"],[0.1111111111111111,\"#46039f\"],[0.2222222222222222,\"#7201a8\"],[0.3333333333333333,\"#9c179e\"],[0.4444444444444444,\"#bd3786\"],[0.5555555555555556,\"#d8576b\"],[0.6666666666666666,\"#ed7953\"],[0.7777777777777778,\"#fb9f3a\"],[0.8888888888888888,\"#fdca26\"],[1.0,\"#f0f921\"]]}],\"heatmap\":[{\"type\":\"heatmap\",\"colorbar\":{\"outlinewidth\":0,\"ticks\":\"\"},\"colorscale\":[[0.0,\"#0d0887\"],[0.1111111111111111,\"#46039f\"],[0.2222222222222222,\"#7201a8\"],[0.3333333333333333,\"#9c179e\"],[0.4444444444444444,\"#bd3786\"],[0.5555555555555556,\"#d8576b\"],[0.6666666666666666,\"#ed7953\"],[0.7777777777777778,\"#fb9f3a\"],[0.8888888888888888,\"#fdca26\"],[1.0,\"#f0f921\"]]}],\"heatmapgl\":[{\"type\":\"heatmapgl\",\"colorbar\":{\"outlinewidth\":0,\"ticks\":\"\"},\"colorscale\":[[0.0,\"#0d0887\"],[0.1111111111111111,\"#46039f\"],[0.2222222222222222,\"#7201a8\"],[0.3333333333333333,\"#9c179e\"],[0.4444444444444444,\"#bd3786\"],[0.5555555555555556,\"#d8576b\"],[0.6666666666666666,\"#ed7953\"],[0.7777777777777778,\"#fb9f3a\"],[0.8888888888888888,\"#fdca26\"],[1.0,\"#f0f921\"]]}],\"contourcarpet\":[{\"type\":\"contourcarpet\",\"colorbar\":{\"outlinewidth\":0,\"ticks\":\"\"}}],\"contour\":[{\"type\":\"contour\",\"colorbar\":{\"outlinewidth\":0,\"ticks\":\"\"},\"colorscale\":[[0.0,\"#0d0887\"],[0.1111111111111111,\"#46039f\"],[0.2222222222222222,\"#7201a8\"],[0.3333333333333333,\"#9c179e\"],[0.4444444444444444,\"#bd3786\"],[0.5555555555555556,\"#d8576b\"],[0.6666666666666666,\"#ed7953\"],[0.7777777777777778,\"#fb9f3a\"],[0.8888888888888888,\"#fdca26\"],[1.0,\"#f0f921\"]]}],\"surface\":[{\"type\":\"surface\",\"colorbar\":{\"outlinewidth\":0,\"ticks\":\"\"},\"colorscale\":[[0.0,\"#0d0887\"],[0.1111111111111111,\"#46039f\"],[0.2222222222222222,\"#7201a8\"],[0.3333333333333333,\"#9c179e\"],[0.4444444444444444,\"#bd3786\"],[0.5555555555555556,\"#d8576b\"],[0.6666666666666666,\"#ed7953\"],[0.7777777777777778,\"#fb9f3a\"],[0.8888888888888888,\"#fdca26\"],[1.0,\"#f0f921\"]]}],\"mesh3d\":[{\"type\":\"mesh3d\",\"colorbar\":{\"outlinewidth\":0,\"ticks\":\"\"}}],\"scatter\":[{\"fillpattern\":{\"fillmode\":\"overlay\",\"size\":10,\"solidity\":0.2},\"type\":\"scatter\"}],\"parcoords\":[{\"type\":\"parcoords\",\"line\":{\"colorbar\":{\"outlinewidth\":0,\"ticks\":\"\"}}}],\"scatterpolargl\":[{\"type\":\"scatterpolargl\",\"marker\":{\"colorbar\":{\"outlinewidth\":0,\"ticks\":\"\"}}}],\"bar\":[{\"error_x\":{\"color\":\"#2a3f5f\"},\"error_y\":{\"color\":\"#2a3f5f\"},\"marker\":{\"line\":{\"color\":\"#E5ECF6\",\"width\":0.5},\"pattern\":{\"fillmode\":\"overlay\",\"size\":10,\"solidity\":0.2}},\"type\":\"bar\"}],\"scattergeo\":[{\"type\":\"scattergeo\",\"marker\":{\"colorbar\":{\"outlinewidth\":0,\"ticks\":\"\"}}}],\"scatterpolar\":[{\"type\":\"scatterpolar\",\"marker\":{\"colorbar\":{\"outlinewidth\":0,\"ticks\":\"\"}}}],\"histogram\":[{\"marker\":{\"pattern\":{\"fillmode\":\"overlay\",\"size\":10,\"solidity\":0.2}},\"type\":\"histogram\"}],\"scattergl\":[{\"type\":\"scattergl\",\"marker\":{\"colorbar\":{\"outlinewidth\":0,\"ticks\":\"\"}}}],\"scatter3d\":[{\"type\":\"scatter3d\",\"line\":{\"colorbar\":{\"outlinewidth\":0,\"ticks\":\"\"}},\"marker\":{\"colorbar\":{\"outlinewidth\":0,\"ticks\":\"\"}}}],\"scattermapbox\":[{\"type\":\"scattermapbox\",\"marker\":{\"colorbar\":{\"outlinewidth\":0,\"ticks\":\"\"}}}],\"scatterternary\":[{\"type\":\"scatterternary\",\"marker\":{\"colorbar\":{\"outlinewidth\":0,\"ticks\":\"\"}}}],\"scattercarpet\":[{\"type\":\"scattercarpet\",\"marker\":{\"colorbar\":{\"outlinewidth\":0,\"ticks\":\"\"}}}],\"carpet\":[{\"aaxis\":{\"endlinecolor\":\"#2a3f5f\",\"gridcolor\":\"white\",\"linecolor\":\"white\",\"minorgridcolor\":\"white\",\"startlinecolor\":\"#2a3f5f\"},\"baxis\":{\"endlinecolor\":\"#2a3f5f\",\"gridcolor\":\"white\",\"linecolor\":\"white\",\"minorgridcolor\":\"white\",\"startlinecolor\":\"#2a3f5f\"},\"type\":\"carpet\"}],\"table\":[{\"cells\":{\"fill\":{\"color\":\"#EBF0F8\"},\"line\":{\"color\":\"white\"}},\"header\":{\"fill\":{\"color\":\"#C8D4E3\"},\"line\":{\"color\":\"white\"}},\"type\":\"table\"}],\"barpolar\":[{\"marker\":{\"line\":{\"color\":\"#E5ECF6\",\"width\":0.5},\"pattern\":{\"fillmode\":\"overlay\",\"size\":10,\"solidity\":0.2}},\"type\":\"barpolar\"}],\"pie\":[{\"automargin\":true,\"type\":\"pie\"}]},\"layout\":{\"autotypenumbers\":\"strict\",\"colorway\":[\"#636efa\",\"#EF553B\",\"#00cc96\",\"#ab63fa\",\"#FFA15A\",\"#19d3f3\",\"#FF6692\",\"#B6E880\",\"#FF97FF\",\"#FECB52\"],\"font\":{\"color\":\"#2a3f5f\"},\"hovermode\":\"closest\",\"hoverlabel\":{\"align\":\"left\"},\"paper_bgcolor\":\"white\",\"plot_bgcolor\":\"#E5ECF6\",\"polar\":{\"bgcolor\":\"#E5ECF6\",\"angularaxis\":{\"gridcolor\":\"white\",\"linecolor\":\"white\",\"ticks\":\"\"},\"radialaxis\":{\"gridcolor\":\"white\",\"linecolor\":\"white\",\"ticks\":\"\"}},\"ternary\":{\"bgcolor\":\"#E5ECF6\",\"aaxis\":{\"gridcolor\":\"white\",\"linecolor\":\"white\",\"ticks\":\"\"},\"baxis\":{\"gridcolor\":\"white\",\"linecolor\":\"white\",\"ticks\":\"\"},\"caxis\":{\"gridcolor\":\"white\",\"linecolor\":\"white\",\"ticks\":\"\"}},\"coloraxis\":{\"colorbar\":{\"outlinewidth\":0,\"ticks\":\"\"}},\"colorscale\":{\"sequential\":[[0.0,\"#0d0887\"],[0.1111111111111111,\"#46039f\"],[0.2222222222222222,\"#7201a8\"],[0.3333333333333333,\"#9c179e\"],[0.4444444444444444,\"#bd3786\"],[0.5555555555555556,\"#d8576b\"],[0.6666666666666666,\"#ed7953\"],[0.7777777777777778,\"#fb9f3a\"],[0.8888888888888888,\"#fdca26\"],[1.0,\"#f0f921\"]],\"sequentialminus\":[[0.0,\"#0d0887\"],[0.1111111111111111,\"#46039f\"],[0.2222222222222222,\"#7201a8\"],[0.3333333333333333,\"#9c179e\"],[0.4444444444444444,\"#bd3786\"],[0.5555555555555556,\"#d8576b\"],[0.6666666666666666,\"#ed7953\"],[0.7777777777777778,\"#fb9f3a\"],[0.8888888888888888,\"#fdca26\"],[1.0,\"#f0f921\"]],\"diverging\":[[0,\"#8e0152\"],[0.1,\"#c51b7d\"],[0.2,\"#de77ae\"],[0.3,\"#f1b6da\"],[0.4,\"#fde0ef\"],[0.5,\"#f7f7f7\"],[0.6,\"#e6f5d0\"],[0.7,\"#b8e186\"],[0.8,\"#7fbc41\"],[0.9,\"#4d9221\"],[1,\"#276419\"]]},\"xaxis\":{\"gridcolor\":\"white\",\"linecolor\":\"white\",\"ticks\":\"\",\"title\":{\"standoff\":15},\"zerolinecolor\":\"white\",\"automargin\":true,\"zerolinewidth\":2},\"yaxis\":{\"gridcolor\":\"white\",\"linecolor\":\"white\",\"ticks\":\"\",\"title\":{\"standoff\":15},\"zerolinecolor\":\"white\",\"automargin\":true,\"zerolinewidth\":2},\"scene\":{\"xaxis\":{\"backgroundcolor\":\"#E5ECF6\",\"gridcolor\":\"white\",\"linecolor\":\"white\",\"showbackground\":true,\"ticks\":\"\",\"zerolinecolor\":\"white\",\"gridwidth\":2},\"yaxis\":{\"backgroundcolor\":\"#E5ECF6\",\"gridcolor\":\"white\",\"linecolor\":\"white\",\"showbackground\":true,\"ticks\":\"\",\"zerolinecolor\":\"white\",\"gridwidth\":2},\"zaxis\":{\"backgroundcolor\":\"#E5ECF6\",\"gridcolor\":\"white\",\"linecolor\":\"white\",\"showbackground\":true,\"ticks\":\"\",\"zerolinecolor\":\"white\",\"gridwidth\":2}},\"shapedefaults\":{\"line\":{\"color\":\"#2a3f5f\"}},\"annotationdefaults\":{\"arrowcolor\":\"#2a3f5f\",\"arrowhead\":0,\"arrowwidth\":1},\"geo\":{\"bgcolor\":\"white\",\"landcolor\":\"#E5ECF6\",\"subunitcolor\":\"white\",\"showland\":true,\"showlakes\":true,\"lakecolor\":\"white\"},\"title\":{\"x\":0.05},\"mapbox\":{\"style\":\"light\"}}},\"xaxis\":{\"anchor\":\"y\",\"domain\":[0.0,1.0],\"title\":{\"text\":\"Tumor_Size\"}},\"yaxis\":{\"anchor\":\"x\",\"domain\":[0.0,1.0],\"title\":{\"text\":\"index\"}},\"legend\":{\"tracegroupgap\":0},\"margin\":{\"t\":60}},                        {\"responsive\": true}                    ).then(function(){\n",
              "                            \n",
              "var gd = document.getElementById('8ba25e30-e1a4-49bd-89b6-f7ca173721ff');\n",
              "var x = new MutationObserver(function (mutations, observer) {{\n",
              "        var display = window.getComputedStyle(gd).display;\n",
              "        if (!display || display === 'none') {{\n",
              "            console.log([gd, 'removed!']);\n",
              "            Plotly.purge(gd);\n",
              "            observer.disconnect();\n",
              "        }}\n",
              "}});\n",
              "\n",
              "// Listen for the removal of the full notebook cells\n",
              "var notebookContainer = gd.closest('#notebook-container');\n",
              "if (notebookContainer) {{\n",
              "    x.observe(notebookContainer, {childList: true});\n",
              "}}\n",
              "\n",
              "// Listen for the clearing of the current output cell\n",
              "var outputEl = gd.closest('.output');\n",
              "if (outputEl) {{\n",
              "    x.observe(outputEl, {childList: true});\n",
              "}}\n",
              "\n",
              "                        })                };                            </script>        </div>\n",
              "</body>\n",
              "</html>"
            ]
          },
          "metadata": {}
        },
        {
          "output_type": "display_data",
          "data": {
            "text/html": [
              "<html>\n",
              "<head><meta charset=\"utf-8\" /></head>\n",
              "<body>\n",
              "    <div>            <script src=\"https://cdnjs.cloudflare.com/ajax/libs/mathjax/2.7.5/MathJax.js?config=TeX-AMS-MML_SVG\"></script><script type=\"text/javascript\">if (window.MathJax && window.MathJax.Hub && window.MathJax.Hub.Config) {window.MathJax.Hub.Config({SVG: {font: \"STIX-Web\"}});}</script>                <script type=\"text/javascript\">window.PlotlyConfig = {MathJaxConfig: 'local'};</script>\n",
              "        <script charset=\"utf-8\" src=\"https://cdn.plot.ly/plotly-2.35.2.min.js\"></script>                <div id=\"0b3d01b1-c96c-466e-8f62-a3fb0a360dbc\" class=\"plotly-graph-div\" style=\"height:525px; width:100%;\"></div>            <script type=\"text/javascript\">                                    window.PLOTLYENV=window.PLOTLYENV || {};                                    if (document.getElementById(\"0b3d01b1-c96c-466e-8f62-a3fb0a360dbc\")) {                    Plotly.newPlot(                        \"0b3d01b1-c96c-466e-8f62-a3fb0a360dbc\",                        [{\"alignmentgroup\":\"True\",\"hovertemplate\":\"Tumor_Size=%{x}\\u003cextra\\u003e\\u003c\\u002fextra\\u003e\",\"legendgroup\":\"\",\"marker\":{\"color\":\"#636efa\"},\"name\":\"\",\"notched\":false,\"offsetgroup\":\"\",\"orientation\":\"h\",\"showlegend\":false,\"x\":[4.0,35.0,63.0,18.0,41.0,20.0,8.0,30.0,103.0,32.0,13.0,59.0,35.0,15.0,35.0,19.0,46.0,24.0,25.0,29.0,30.0,40.0,29.0,70.0,20.0,22.0,50.0,17.0,25.0,21.0,40.0,15.0,15.0,20.0,30.0,10.0,27.0,18.0,35.0,23.0,70.0,17.0,21.0,23.0,5.0,51.0,9.0,15.0,32.0,5.0,23.0,55.0,120.0,77.0,2.0,11.0,25.0,18.0,15.0,12.0,18.0,17.0,26.0,75.0,13.0,15.0,70.0,15.0,15.0,17.0,130.0,34.0,30.0,10.0,22.0,55.0,25.0,50.0,50.0,15.0,30.0,20.0,22.0,15.0,15.0,40.0,120.0,80.0,17.0,3.0,60.0,14.0,26.0,25.0,12.0,25.0,30.0,25.0,24.0,27.0,70.0,16.0,45.0,27.0,23.0,25.0,40.0,20.0,21.0,36.0,14.0,51.0,50.0,45.0,51.0,19.0,76.0,20.0,35.0,27.0,35.0,35.0,50.0,38.0,15.0,17.0,25.0,19.0,15.0,18.0,11.0,45.0,12.0,20.0,45.0,18.0,25.0,21.0,49.0,70.0,7.0,19.0,38.0,34.0,30.0,4.0,72.0,18.0,25.0,9.0,21.0,20.0,15.0,18.0,100.0,17.0,7.0,24.0,43.0,30.0,7.0,18.0,12.0,25.0,62.0,20.0,70.0,37.0,13.0,40.0,70.0,12.0,9.0,10.0,55.0,18.0,15.0,25.0,50.0,10.0,30.0,13.0,40.0,100.0,25.0,68.0,25.0,23.0,15.0,22.0,7.0,16.0,24.0,75.0,11.0,35.0,60.0,30.0,25.0,25.0,25.0,12.0,25.0,17.0,11.0,32.0,21.0,25.0,19.0,-75.0,52.0,17.0,35.0,85.0,50.0,51.0,18.0,75.0,72.0,35.0,12.0,23.0,16.0,16.0,57.0,50.0,17.0,32.0,21.0,11.0,40.0,15.0,17.0,14.0,60.0,55.0,120.0,11.0,39.0,23.0,28.0,37.0,40.0,9.0,8.0,28.0,15.0,17.0,50.0,48.0,30.0,68.0,110.0,23.0,12.0,13.0,40.0,30.0,9.0,22.0,30.0,12.0,10.0,25.0,16.0,65.0,22.0,17.0,60.0,22.0,35.0,18.0,34.0,6.0,105.0,100.0,20.0,57.0,10.0,17.0,25.0,21.0,45.0,50.0,35.0,38.0,16.0,140.0,25.0,18.0,18.0,34.0,65.0,13.0,20.0,29.0,10.0,62.0,50.0,29.0,15.0,15.0,42.0,130.0,21.0,51.0,30.0,35.0,31.0,14.0,15.0,60.0,20.0,22.0,80.0,15.0,100.0,30.0,8.0,15.0,80.0,30.0,25.0,24.0,35.0,12.0,45.0,25.0,35.0,28.0,17.0,15.0,32.0,15.0,60.0,90.0,11.0,37.0,21.0,2.0,70.0,8.0,22.0,40.0,13.0,32.0,5.0,18.0,52.0,31.0,14.0,7.0,12.0,21.0,20.0,26.0,16.0,15.0,25.0,20.0,80.0,30.0,16.0,20.0,17.0,100.0,41.0,16.0,25.0,108.0,12.0,38.0,24.0,45.0,98.0,25.0,30.0,90.0,27.0,47.0,30.0,25.0,17.0,22.0,18.0,18.0,25.0,27.0,25.0,70.0,65.0,22.0,45.0,20.0,65.0,17.0,15.0,15.0,19.0,90.0,10.0,40.0,31.0,30.0,26.0,25.0,11.0,22.0,59.0,23.0,25.0,18.0,15.0,30.0,25.0,27.0,25.0,24.0,24.0,20.0,10.0,7.0,42.0,54.0,75.0,15.0,22.0,20.0,65.0,61.0,27.0,16.0,35.0,55.0,17.0,8.0,25.0,10.0,26.0,120.0,7.0,18.0,30.0,70.0,20.0,80.0,30.0,45.0,25.0,6.0,21.0,11.0,18.0,40.0,20.0,12.0,16.0,10.0,20.0,20.0,25.0,17.0,22.0,20.0,20.0,30.0,13.0,15.0,36.0,8.0,10.0,35.0,70.0,35.0,74.0,16.0,70.0,21.0,100.0,70.0,12.0,80.0,25.0,19.0,25.0,16.0,60.0,15.0,20.0,9.0,16.0,60.0,15.0,12.0,17.0,25.0,18.0,15.0,45.0,70.0,10.0,9.0,12.0,15.0,18.0,12.0,16.0,15.0,30.0,20.0,21.0,10.0,35.0,22.0,33.0,60.0,13.0,21.0,13.0,39.0,35.0,18.0,100.0,130.0,21.0,26.0,50.0,8.0,16.0,16.0,15.0,28.0,23.0,1.0,23.0,21.0,19.0,87.0,33.0,15.0,13.0,15.0,25.0,60.0,30.0,18.0,20.0,55.0,25.0,11.0,11.0,40.0,16.0,55.0,36.0,16.0,25.0,30.0,19.0,30.0,55.0,80.0,50.0,14.0,10.0,30.0,60.0,24.0,32.0,42.0,35.0,26.0,30.0,31.0,11.0,26.0,18.0,43.0,20.0,35.0,13.0,14.0,81.0,10.0,10.0,20.0,30.0,22.0,20.0,28.0,80.0,37.0,35.0,12.0,19.0,20.0,22.0,14.0,32.0,80.0,21.0,25.0,21.0,15.0,28.0,18.0,27.0,30.0,25.0,35.0,12.0,30.0,29.0,70.0,21.0,60.0,25.0,20.0,22.0,12.0,48.0,31.0,27.0,18.0,1.0,40.0,26.0,80.0,20.0,27.0,20.0,30.0,25.0,22.0,63.0,10.0,10.0,40.0,10.0,40.0,20.0,30.0,6.0,22.0,22.0,15.0,40.0,45.0,13.0,25.0,11.0,58.0,30.0,23.0,9.0,32.0,35.0,15.0,15.0,21.0,51.0,15.0,60.0,25.0,51.0,25.0,30.0,11.0,40.0,5.0,35.0,38.0,30.0,25.0,25.0,27.0,25.0,18.0,40.0,40.0,15.0,20.0,23.0,34.0,16.0,18.0,50.0,45.0,100.0,18.0,23.0,25.0,32.0,30.0,30.0,30.0,18.0,24.0,70.0,28.0,20.0,35.0,117.0,10.0,70.0,35.0,11.0,27.0,12.0,26.0,76.0,32.0,18.0,23.0,10.0,18.0,23.0,25.0,32.0,18.0,17.0,52.0,27.0,7.0,70.0,26.0,55.0,20.0,15.0,20.0,20.0,61.0,8.0,15.0,12.0,40.0,25.0,140.0,12.0,21.0,23.0,20.0,17.0,65.0,25.0,19.0,12.0,11.0,40.0,26.0,30.0,50.0,44.0,21.0,35.0,22.0,55.0,17.0,1.0,23.0,25.0,14.0,25.0,35.0,20.0,25.0,90.0,13.0,12.0,45.0,15.0,35.0,17.0,24.0,55.0,16.0,20.0,18.0,32.0,30.0,30.0,19.0,24.0,18.0,25.0,19.0,30.0,32.0,16.0,2.0,30.0,27.0,10.0,10.0,18.0,30.0,22.0,40.0,65.0,13.0,6.0,40.0,19.0,20.0,45.0,31.0,30.0,14.0,35.0,10.0,25.0,40.0,45.0,21.0,28.0,4.0,25.0,15.0,61.0,22.0,27.0,19.0,25.0,8.0,23.0,80.0,7.0,15.0,13.0,30.0,50.0,31.0,30.0,15.0,15.0,50.0,25.0,30.0,60.0,51.0,18.0,25.0,50.0,8.0,40.0,16.0,18.0,13.0,35.0,12.0,50.0,29.0,20.0,7.0,21.0,20.0,22.0,31.0,45.0,25.0,35.0,15.0,22.0,15.0,16.0,26.0,35.0,30.0,23.0,18.0,123.0,16.0,11.0,75.0,60.0,20.0,15.0,27.0,9.0,60.0,7.0,19.0,15.0,40.0,19.0,130.0,30.0,70.0,24.0,110.0,133.0,22.0,55.0,95.0,25.0,13.0,12.0,17.0,10.0,70.0,30.0,20.0,107.0,40.0,30.0,90.0,16.0,47.0,30.0,7.0,30.0,20.0,60.0,30.0,14.0,20.0,27.0,40.0,92.0,7.0,20.0,22.0,8.0,50.0,22.0,14.0,30.0,50.0,15.0,25.0,18.0,35.0,13.0,100.0,105.0,20.0,15.0,30.0,12.0,50.0,20.0,7.0,42.0,19.0,27.0,14.0,17.0,15.0,13.0,12.0,26.0,20.0,17.0,20.0,24.0,30.0,16.0,18.0,30.0,52.0,60.0,21.0,33.0,6.0,25.0,15.0,14.0,105.0,35.0,57.0,20.0,20.0,28.0,60.0,25.0,20.0,13.0,100.0,2.0,20.0,38.0,24.0,25.0,15.0,25.0,51.0,35.0,25.0,45.0,21.0,19.0,40.0,9.0,22.0,38.0,50.0,30.0,23.0,21.0,140.0,60.0,17.0,55.0,17.0,29.0,40.0,17.0,30.0,32.0,40.0,15.0,35.0,32.0,21.0,25.0,33.0,22.0,15.0,32.0,6.0,30.0,14.0,10.0,12.0,15.0,21.0,20.0,20.0,15.0,54.0,21.0,22.0,22.0,17.0,25.0,22.0,45.0,11.0,17.0,17.0,40.0,5.0,13.0,19.0,19.0,35.0,16.0,15.0,23.0,15.0,19.0,18.0,16.0,21.0,32.0,13.0,16.0,40.0,50.0,35.0,16.0,35.0,36.0,35.0,55.0,25.0,22.0,17.0,55.0,10.0,23.0,25.0,5.0,16.0,55.0,24.0,21.0,13.0,22.0,14.0,30.0,18.0,16.0,56.0,31.0,14.0,15.0,82.0,16.0,16.0,16.0,16.0,50.0,25.0,18.0,25.0,18.0,30.0,65.0,1.0,25.0,20.0,30.0,30.0,18.0,16.0,50.0,52.0,37.0,25.0,40.0,50.0,15.0,25.0,80.0,13.0,25.0,40.0,15.0,19.0,65.0,18.0,15.0,16.0,23.0,21.0,10.0,20.0,40.0,31.0,15.0,11.0,55.0,15.0,37.0,42.0,22.0,48.0,15.0,7.0,40.0,12.0,12.0,65.0,15.0,16.0,22.0,35.0,25.0,20.0,18.0,85.0,25.0,100.0,15.0,18.0,14.0,23.0,40.0,17.0,21.0,22.0,31.0,11.0,19.0,35.0,9.0,21.0,6.0,20.0,60.0,38.0,9.0,11.0,30.0,22.0,25.0,13.0,30.0,25.0,25.0,48.0,6.0,14.0,7.0,90.0,25.0,15.0,120.0,14.0,15.0,35.0,30.0,16.0,9.0,23.0,17.0,43.0,19.0,21.0,17.0,45.0,18.0,43.0,61.0,27.0,15.0,25.0,31.0,50.0,30.0,38.0,5.0,11.0,35.0,7.0,14.0,120.0,14.0,33.0,19.0,19.0,15.0,18.0,47.0,13.0,25.0,28.0,16.0,31.0,4.0,31.0,30.0,55.0,30.0,14.0,17.0,21.0,70.0,30.0,15.0,40.0,8.0,7.0,40.0,35.0,16.0,30.0,18.0,30.0,15.0,12.0,40.0,57.0,60.0,38.0,55.0,24.0,20.0,40.0,38.0,70.0,18.0,25.0,74.0,60.0,60.0,23.0,45.0,21.0,14.0,13.0,20.0,21.0,25.0,22.0,8.0,25.0,25.0,70.0,11.0,80.0,16.0,18.0,15.0,26.0,20.0,18.0,18.0,14.0,42.0,58.0,18.0,25.0,9.0,19.0,11.0,15.0,21.0,52.0,40.0,11.0,20.0,33.0,14.0,28.0,20.0,19.0,100.0,9.0,25.0,15.0,60.0,76.0,16.0,20.0,45.0,35.0,18.0,20.0,26.0,35.0,40.0,30.0,12.0,19.0,28.0,28.0,22.0,8.0,32.0,45.0,55.0,9.0,23.0,20.0,35.0,23.0,80.0,15.0,9.0,30.0,20.0,66.0,22.0,16.0,14.0,80.0,25.0,10.0,22.0,12.0,19.0,17.0,25.0,9.0,9.0,33.0,37.0,24.0,18.0,75.0,25.0,10.0,36.0,26.0,14.0,82.0,30.0,12.0,22.0,16.0,16.0,40.0,20.0,28.0,21.0,24.0,55.0,31.0,24.0,37.0,30.0,20.0,14.0,20.0,27.0,12.0,80.0,23.0,14.0,10.0,22.0,15.0,27.0,20.0,31.0,14.0,40.0,25.0,35.0,20.0,42.0,25.0,50.0,20.0,13.0,6.0,16.0,60.0,23.0,15.0,14.0,9.0,16.0,42.0,40.0,25.0,25.0,37.0,23.0,30.0,12.0,35.0,47.0,28.0,63.0,8.0,35.0,60.0,30.0,22.0,13.0,42.0,45.0,25.0,10.0,35.0,37.0,35.0,40.0,17.0,12.0,15.0,30.0,60.0,19.0,27.0,10.0,12.0,70.0,44.0,45.0,17.0,80.0,16.0,24.0,8.0,51.0,70.0,60.0,45.0,1.0,27.0,35.0,72.0,45.0,20.0,30.0,30.0,13.0,120.0,15.0,61.0,15.0,30.0,18.0,28.0,8.0,22.0,40.0,15.0,20.0,15.0,23.0,20.0,17.0,21.0,52.0,30.0,22.0,19.0,18.0,47.0,15.0,15.0,21.0,40.0,17.0,14.0,23.0,68.0,25.0,50.0,140.0,28.0,7.0,23.0,7.0,10.0,15.0,11.0,12.0,28.0,80.0,25.0,28.0,15.0,30.0,15.0,22.0,28.0,16.0,95.0,27.0,56.0,50.0,21.0,21.0,40.0,18.0,55.0,90.0,28.0,55.0,21.0,9.0,35.0,13.0,55.0,51.0,34.0,5.0,60.0,45.0,38.0,48.0,35.0,32.0,25.0,60.0,12.0,19.0,40.0,50.0,55.0,28.0,18.0,21.0,37.0,11.0,20.0,30.0,15.0,55.0,17.0,17.0,25.0,22.0,35.0,20.0,20.0,39.0,33.0,18.0,40.0,24.0,35.0,40.0,11.0,26.0,18.0,15.0,25.0,21.0,18.0,55.0,15.0,18.0,20.0,15.0,20.0,70.0,13.0,55.0,55.0,24.0,50.0,30.0,10.0,18.0,18.0,45.0,15.0,16.0,45.0,18.0,60.0,24.0,35.0,15.0,21.0,25.0,15.0,11.0,100.0,52.0,24.0,14.0,55.0,45.0,25.0,25.0,32.0,41.0,40.0,32.0,12.0,7.0,30.0,22.0,30.0,17.0,21.0,15.0,22.0,15.0,9.0,49.0,57.0,20.0,27.0,30.0,30.0,5.0,22.0,55.0,45.0,25.0,25.0,5.0,55.0,15.0,15.0,24.0,10.0,14.0,25.0,10.0,20.0,80.0,20.0,15.0,10.0,40.0,15.0,17.0,11.0,15.0,17.0,19.0,26.0,22.0,8.0,120.0,24.0,23.0,90.0,61.0,17.0,40.0,1.0,34.0,10.0,27.0,30.0,50.0,25.0,63.0,17.0,18.0,20.0,45.0,25.0,70.0,3.0,26.0,32.0,60.0,18.0,70.0,35.0,8.0,65.0,70.0,45.0,35.0,28.0,75.0,20.0,15.0,15.0,18.0,30.0,10.0,15.0,35.0,35.0,13.0,15.0,19.0,25.0,23.0,47.0,17.0,14.0,47.0,8.0,12.0,38.0,16.0,90.0,17.0,70.0,18.0,21.0,32.0,30.0,50.0,14.0,19.0,11.0,18.0,19.0,20.0,28.0,15.0,65.0,19.0,15.0,23.0,16.0,30.0,60.0,15.0,22.0,30.0,18.0,20.0,45.0,17.0,20.0,21.0,25.0,6.0,14.0,20.0,15.0,17.0,10.0,25.0,30.0,8.0,18.0,18.0,21.0,15.0,78.0,20.0,18.0,18.0,52.0,20.0,25.0,12.0,15.0,6.0,18.0,35.0,21.0,60.0,97.0,45.0,35.0,13.0,17.0,14.0,25.0,17.0,21.0,35.0,8.0,13.0,38.0,88.0,18.0,40.0,20.0,7.0,27.0,60.0,28.0,38.0,45.0,21.0,42.0,19.0,60.0,43.0,6.0,40.0,50.0,14.0,45.0,20.0,28.0,12.0,20.0,42.0,14.0,2.0,35.0,11.0,5.0,20.0,29.0,24.0,18.0,10.0,30.0,15.0,15.0,60.0,26.0,40.0,40.0,25.0,27.0,22.0,23.0,12.0,30.0,2.0,40.0,30.0,60.0,9.0,70.0,17.0,45.0,51.0,10.0,85.0,30.0,14.0,15.0,10.0,27.0,15.0,35.0,20.0,90.0,10.0,100.0,55.0,35.0,18.0,21.0,15.0,74.0,50.0,70.0,24.0,28.0,15.0,38.0,16.0,35.0,19.0,52.0,10.0,39.0,30.0,8.0,19.0,11.0,22.0,23.0,14.0,25.0,55.0,40.0,35.0,17.0,35.0,15.0,15.0,80.0,40.0,42.0,14.0,26.0,42.0,25.0,70.0,40.0,60.0,25.0,5.0,30.0,45.0,11.0,22.0,25.0,14.0,19.0,20.0,12.0,16.0,60.0,46.0,53.0,6.0,18.0,5.0,25.0,35.0,10.0,60.0,16.0,12.0,31.0,51.0,50.0,25.0,15.0,33.0,80.0,25.0,9.0,27.0,15.0,8.0,70.0,35.0,18.0,20.0,48.0,18.0,35.0,42.0,15.0,15.0,45.0,36.0,40.0,40.0,50.0,15.0,16.0,14.0,10.0,15.0,18.0,24.0,50.0,50.0,20.0,25.0,25.0,25.0,30.0,52.0,62.0,80.0,17.0,36.0,23.0,53.0,10.0,24.0,65.0,15.0,40.0,12.0,20.0,21.0,17.0,56.0,80.0,16.0,30.0,45.0,20.0,20.0,22.0,50.0,16.0,35.0,31.0,29.0,10.0,55.0,8.0,40.0,15.0,70.0,25.0,35.0,69.0,85.0,20.0,18.0,28.0,50.0,12.0,44.0,42.0,17.0,63.0,80.0,90.0,34.0,18.0,35.0,40.0,20.0,110.0,10.0,23.0,20.0,13.0,25.0,36.0,25.0,3.0,3.0,83.0,12.0,14.0,80.0,15.0,15.0,25.0,15.0,15.0,17.0,15.0,21.0,17.0,80.0,45.0,17.0,20.0,34.0,25.0,60.0,25.0,20.0,24.0,30.0,15.0,17.0,16.0,20.0,42.0,25.0,75.0,36.0,12.0,4.0,35.0,34.0,22.0,35.0,30.0,81.0,40.0,30.0,60.0,13.0,15.0,15.0,20.0,40.0,15.0,30.0,25.0,65.0,78.0,14.0,5.0,13.0,15.0,15.0,7.0,14.0,13.0,22.0,14.0,25.0,10.0,11.0,14.0,13.0,10.0,6.0,21.0,40.0,16.0,5.0,18.0,14.0,42.0,32.0,28.0,28.0,60.0,35.0,85.0,12.0,20.0,27.0,36.0,33.0,23.0,13.0,4.0,25.0,80.0,55.0,45.0,11.0,37.0,30.0,18.0,16.0,15.0,42.0,75.0,15.0,35.0,28.0,15.0,24.0,23.0,61.0,75.0,10.0,21.0,12.0,22.0,32.0,28.0,70.0,65.0,16.0,10.0,110.0,25.0,24.0,8.0,25.0,9.0,14.0,40.0,10.0,40.0,10.0,8.0,38.0,18.0,12.0,30.0,23.0,70.0,15.0,36.0,26.0,25.0,25.0,15.0,6.0,14.0,19.0,8.0,17.0,35.0,70.0,15.0,50.0,14.0,21.0,30.0,30.0,20.0,34.0,14.0,25.0,18.0,101.0,20.0,35.0,20.0,16.0,75.0,70.0,29.0,84.0,22.0,90.0,20.0,45.0,22.0,37.0,50.0,22.0,25.0,10.0,40.0,32.0,60.0,100.0,55.0,60.0,11.0,70.0,20.0,55.0,19.0,17.0,90.0,35.0,17.0,35.0,27.0,26.0,23.0,19.0,35.0,50.0,12.0,11.0,15.0,39.0,60.0,11.0,90.0,27.0,14.0,25.0,19.0,50.0,60.0,11.0,90.0,65.0,11.0,30.0,30.0,95.0,50.0,12.0,55.0,28.0,100.0,22.0,20.0,35.0,20.0,4.0,12.0,17.0,20.0,25.0,40.0,25.0,15.0,50.0,30.0,30.0,24.0,75.0,19.0,15.0,55.0,92.0,12.0,14.0,40.0,14.0,35.0,25.0,17.0,60.0,22.0,30.0,12.0,55.0,16.0,60.0,18.0,30.0,15.0,45.0,13.0,40.0,30.0,20.0,20.0,12.0,12.0,11.0,22.0,22.0,12.0,55.0,20.0,4.0,50.0,25.0,130.0,75.0,11.0,33.0,32.0,24.0,35.0,21.0,21.0,25.0,24.0,19.0,22.0,60.0,12.0,16.0,85.0,12.0,60.0,17.0,83.0,20.0,20.0,35.0,50.0,10.0,39.0,18.0,76.0,25.0,9.0,9.0,4.0,33.0,9.0,15.0,23.0,12.0,18.0,70.0,16.0,97.0,35.0,17.0,2.0,20.0,8.0,19.0,15.0,27.0,18.0,25.0,23.0,17.0,11.0,24.0,25.0,20.0,12.0,12.0,35.0,60.0,22.0,30.0,15.0,22.0,23.0,35.0,18.0,30.0,25.0,12.0,18.0,75.0,15.0,24.0,15.0,60.0,45.0,13.0,45.0,21.0,11.0,30.0,29.0,14.0,60.0,68.0,30.0,7.0,16.0,6.0,20.0,10.0,17.0,30.0,1.0,18.0,12.0,16.0,7.0,2.0,21.0,115.0,24.0,15.0,40.0,24.0,29.0,55.0,6.0,20.0,12.0,30.0,30.0,24.0,70.0,30.0,31.0,10.0,15.0,15.0,12.0,40.0,34.0,20.0,30.0,9.0,35.0,13.0,21.0,12.0,51.0,31.0,60.0,25.0,28.0,10.0,30.0,23.0,11.0,100.0,28.0,45.0,10.0,73.0,11.0,30.0,12.0,17.0,38.0,28.0,15.0,17.0,46.0,25.0,25.0,15.0,20.0,15.0,40.0,40.0,25.0,85.0,33.0,16.0,25.0,120.0,60.0,17.0,16.0,30.0,13.0,15.0,18.0,20.0,24.0,56.0,25.0,28.0,45.0,29.0,15.0,45.0,13.0,21.0,45.0,19.0,45.0,27.0,23.0,30.0,40.0,80.0,40.0,15.0,25.0,12.0,20.0,37.0,21.0,17.0,37.0,19.0,8.0,17.0,35.0,40.0,11.0,47.0,21.0,18.0,22.0,20.0,55.0,25.0,11.0,12.0,14.0,42.0,9.0,25.0,35.0,40.0,90.0,20.0,45.0,30.0,35.0,62.0,12.0,8.0,56.0,15.0,29.0,66.0,11.0,50.0,35.0,45.0,65.0,50.0,17.0,38.0,20.0,42.0,60.0,5.0,35.0,24.0,12.0,29.0,7.0,35.0,15.0,85.0,12.0,35.0,22.0,25.0,35.0,80.0,15.0,30.0,39.0,40.0,60.0,32.0,28.0,15.0,25.0,40.0,13.0,74.0,35.0,18.0,25.0,38.0,22.0,20.0,7.0,13.0,15.0,33.0,80.0,6.0,30.0,22.0,34.0,27.0,10.0,60.0,34.0,28.0,13.0,17.0,15.0,20.0,18.0,75.0,26.0,70.0,52.0,14.0,25.0,50.0,17.0,25.0,22.0,18.0,20.0,68.0,5.0,20.0,55.0,15.0,25.0,35.0,15.0,21.0,15.0,35.0,65.0,25.0,65.0,40.0,14.0,12.0,35.0,14.0,75.0,90.0,16.0,120.0,15.0,55.0,35.0,21.0,40.0,19.0,18.0,30.0,21.0,60.0,17.0,77.0,20.0,35.0,12.0,25.0,16.0,10.0,15.0,24.0,34.0,125.0,45.0,57.0,75.0,60.0,20.0,90.0,14.0,4.0,60.0,21.0,27.0,50.0,25.0,17.0,60.0,19.0,50.0,40.0,10.0,30.0,60.0,70.0,52.0,15.0,17.0,13.0,20.0,28.0,15.0,9.0,30.0,11.0,15.0,5.0,20.0,15.0,25.0,23.0,18.0,30.0,25.0,38.0,60.0,37.0,100.0,35.0,18.0,15.0,35.0,85.0,15.0,26.0,35.0,80.0,15.0,25.0,20.0,20.0,32.0,40.0,35.0,25.0,24.0,26.0,104.0,51.0,30.0,35.0,25.0,16.0,16.0,25.0,100.0,60.0,52.0,23.0,16.0,25.0,30.0,17.0,19.0,10.0,18.0,10.0,10.0,12.0,18.0,60.0,45.0,10.0,25.0,22.0,17.0,15.0,30.0,37.0,55.0,65.0,75.0,14.0,11.0,52.0,27.0,49.0,46.0,22.0,40.0,25.0,50.0,50.0,30.0,13.0,21.0,40.0,7.0,25.0,51.0,26.0,20.0,8.0,40.0,10.0,17.0,2.0,63.0,70.0,45.0,21.0,14.0,13.0,13.0,12.0,19.0,20.0,27.0,100.0,16.0,12.0,35.0,4.0,40.0,17.0,32.0,12.0,27.0,8.0,22.0,52.0,9.0,18.0,15.0,13.0,20.0,16.0,16.0,25.0,3.0,32.0,40.0,10.0,35.0,35.0,23.0,47.0,60.0,70.0,50.0,48.0,17.0,25.0,25.0,25.0,63.0,12.0,14.0,12.0,14.0,83.0,28.0,35.0,5.0,14.0,25.0,25.0,12.0,22.0,60.0,80.0,32.0,15.0,63.0,17.0,62.0,16.0,25.0,20.0,11.0,14.0,50.0,18.0,51.0,12.0,7.0,70.0,27.0,19.0,37.0,20.0,25.0,23.0,11.0,80.0,23.0,50.0,90.0,80.0,5.0,20.0,46.0,25.0,15.0,13.0,15.0,70.0,35.0,11.0,16.0,30.0,18.0,25.0,32.0,22.0,40.0,22.0,22.0,45.0,29.0,60.0,60.0,11.0,18.0,18.0,16.0,25.0,75.0,12.0,25.0,60.0,4.0,9.0,25.0,20.0,60.0,42.0,40.0,13.0,14.0,25.0,58.0,30.0,54.0,30.0,20.0,63.0,25.0,3.0,60.0,35.0,15.0,40.0,25.0,65.0,45.0,15.0,24.0,15.0,23.0,30.0,24.0,35.0,5.0,46.0,50.0,38.0,36.0,4.0,25.0,15.0,25.0,30.0,35.0,18.0,23.0,60.0,11.0,21.0,42.0,30.0,37.0,20.0,55.0,78.0,45.0,11.0,15.0,21.0,30.0,36.0,15.0,3.0,25.0,44.0,17.0,57.0,30.0,15.0,80.0,26.0,25.0,80.0,30.0,20.0,13.0,12.0,90.0,45.0,50.0,27.0,30.0,15.0,12.0,60.0,11.0,18.0,10.0,21.0,22.0,28.0,65.0,24.0,33.0,50.0,51.0,5.0,40.0,24.0,25.0,21.0,9.0,10.0,43.0,13.0,10.0,8.0,45.0,14.0,25.0,45.0,18.0,21.0,25.0,20.0,30.0,35.0,44.0,47.0,20.0,55.0,6.0,13.0,12.0,25.0,35.0,50.0,17.0,33.0,20.0,13.0,59.0,42.0,3.0,16.0,60.0,14.0,15.0,34.0,11.0,27.0,35.0,35.0,10.0,22.0,16.0,20.0,26.0,38.0,28.0,14.0,23.0,9.0,20.0,20.0,19.0,60.0,70.0,40.0,60.0,20.0,12.0,25.0,35.0,40.0,15.0,40.0,19.0,100.0,31.0,48.0,37.0,20.0,28.0,26.0,16.0,21.0,25.0,19.0,31.0,22.0,9.0,19.0,50.0,35.0,65.0,22.0,40.0,20.0,25.0,50.0,55.0,30.0,90.0,12.0,35.0,47.0,30.0,17.0,20.0,14.0,20.0,37.0,21.0,24.0,20.0,18.0,15.0,25.0,35.0,15.0,45.0,24.0,15.0,16.0,24.0,11.0,7.0,60.0,27.0,40.0,16.0,9.0,32.0,35.0,17.0,10.0,22.0,35.0,18.0,35.0,15.0,27.0,14.0,15.0,27.0,32.0,25.0,16.0,26.0,20.0,70.0,24.0,21.0,30.0,22.0,11.0,18.0,90.0,16.0,45.0,24.0,30.0,32.0,42.0,24.0,24.0,90.0,40.0,22.0,27.0,16.0,72.0,15.0,40.0,28.0,8.0,12.0,15.0,55.0,16.0,14.0,21.0,18.0,18.0,63.0,48.0,20.0,101.0,28.0,40.0,15.0,11.0,21.0,7.0,35.0,22.0,18.0,34.0,100.0,30.0,18.0,29.0,45.0,18.0,60.0,6.0,30.0,20.0,50.0,17.0,30.0,25.0,48.0,70.0,55.0,13.0,45.0,9.0,25.0,47.0,80.0,25.0,9.0,7.0,80.0,9.0,53.0,30.0,12.0,10.0,20.0,40.0,42.0,17.0,21.0,18.0,35.0,18.0,17.0,30.0,39.0,18.0,45.0,11.0,20.0,50.0,55.0,10.0,13.0,28.0,16.0,27.0,15.0,31.0,94.0,29.0,70.0,14.0,36.0,25.0,27.0,30.0,40.0,40.0,11.0,36.0,50.0,10.0,68.0,35.0,32.0,14.0,13.0,70.0,23.0,19.0,80.0,25.0,15.0,15.0,50.0,24.0,27.0,43.0,15.0,70.0,20.0,28.0,17.0,38.0,35.0,7.0,34.0,40.0,30.0,40.0,25.0,50.0,33.0,52.0,50.0,42.0,38.0,45.0,19.0,17.0,40.0,21.0,13.0,15.0,10.0,12.0,22.0,25.0,3.0,23.0,35.0,10.0,32.0,18.0,17.0,16.0,12.0,39.0,18.0,23.0,25.0,36.0,26.0,17.0,14.0,7.0,10.0,13.0,15.0,22.0,2.0,22.0,70.0,50.0,20.0,84.0,20.0,23.0,41.0,25.0,10.0,13.0,30.0,30.0,35.0,25.0,19.0,35.0,35.0,30.0,21.0,18.0,15.0,74.0,50.0,76.0,17.0,20.0,50.0,30.0,120.0,15.0,24.0,15.0,5.0,25.0,13.0,10.0,21.0,17.0,34.0,22.0,15.0,24.0,28.0,23.0,42.0,30.0,16.0,30.0,50.0,22.0,15.0,15.0,25.0,13.0,25.0,29.0,14.0,14.0,24.0,35.0,23.0,30.0,24.0,52.0,15.0,27.0,30.0,30.0,54.0,12.0,30.0,25.0,21.0,7.0,18.0,40.0,18.0,25.0,31.0,23.0,15.0,25.0,27.0,52.0,21.0,26.0,32.0,15.0,21.0,26.0,14.0,22.0,34.0,30.0,15.0,15.0,30.0,13.0,50.0,28.0,25.0,26.0,7.0,2.0,22.0,59.0,25.0,14.0,43.0,8.0,70.0,28.0,18.0,12.0,20.0,20.0,11.0,17.0,17.0,26.0,12.0,35.0,6.0,22.0,22.0,19.0,50.0,15.0,15.0,72.0,45.0,20.0,90.0,35.0,31.0,10.0,28.0,30.0,86.0,25.0,70.0,30.0,40.0,20.0,40.0,13.0,30.0,40.0,48.0,50.0,21.0,18.0,18.0,58.0,37.0,28.0,18.0,18.0,32.0,22.0,18.0,22.0,39.0,24.0,30.0,25.0,15.0,35.0,10.0,40.0,9.0,40.0,30.0,50.0,20.0,15.0,30.0,17.0,15.0,48.0,62.0,7.0,15.0,95.0,15.0,9.0,25.0,11.0,14.0,14.0,15.0,15.0,25.0,18.0,60.0,15.0,45.0,35.0,40.0,30.0,12.0,13.0,43.0,75.0,100.0,17.0,12.0,75.0,12.0,37.0,54.0,85.0,20.0,46.0,21.0,33.0,33.0,29.0,20.0,65.0,120.0,30.0,16.0,90.0,25.0,32.0,29.0,12.0,32.0,35.0,22.0,40.0,7.0,23.0,30.0,15.0,17.0,15.0,40.0,17.0,15.0,16.0,9.0,25.0,20.0,90.0,10.0,23.0,30.0,82.0,40.0,15.0,30.0,30.0,16.0,19.0,80.0,30.0,50.0,66.0,40.0,45.0,25.0,13.0,37.0,20.0,42.0,35.0,20.0,60.0,60.0,45.0,20.0,19.0,23.0,55.0,23.0,30.0,51.0,22.0,21.0,16.0,53.0,23.0,25.0,18.0,20.0,26.0,65.0,21.0,55.0,7.0,14.0,50.0,10.0,8.0,20.0,40.0,33.0,20.0,26.0,17.0,51.0,30.0,30.0,15.0,18.0,43.0,15.0,15.0,28.0,32.0,32.0,25.0,18.0,19.0,30.0,30.0,25.0,36.0,40.0,26.0,40.0,31.0,15.0,12.0,20.0,32.0,28.0,13.0,47.0,40.0,30.0,23.0,40.0,26.0,100.0,50.0,18.0,13.0,30.0,50.0,33.0,44.0,45.0,30.0,23.0,13.0,18.0,28.0,50.0,11.0,15.0,25.0,27.0,65.0,55.0,40.0,14.0,50.0,30.0,21.0,55.0,120.0,40.0,25.0,55.0,12.0,65.0,34.0,22.0,35.0,17.0,20.0,70.0,40.0,22.0,14.0,13.0,15.0,23.0,55.0,18.0,75.0,47.0,14.0,38.0,23.0,9.0,12.0,25.0,26.0,5.0,18.0,25.0,30.0,15.0,15.0,25.0,64.0,40.0,20.0,31.0,30.0,120.0,31.0,15.0,24.0,25.0,35.0,7.0,20.0,19.0,45.0,25.0,11.0,15.0,30.0,17.0,37.0,13.0,38.0,25.0,20.0,9.0,33.0,16.0,30.0,27.0,22.0,15.0,11.0,17.0,44.0,54.0,8.0,9.0,25.0,25.0,15.0,25.0,55.0,41.0,15.0,15.0,25.0,25.0,32.0,30.0,14.0,58.0,30.0,12.0,24.0,47.0,18.0,55.0,25.0,53.0,23.0,22.0,12.0,32.0,40.0,60.0,25.0,11.0,65.0,80.0,55.0,16.0,18.0,17.0,18.0,50.0,21.0,50.0,13.0,51.0,25.0,30.0,15.0,40.0,10.0,34.0,70.0,27.0,21.0,15.0,15.0,46.0,4.0,5.0,40.0,19.0,33.0,11.0,34.0,16.0,21.0,80.0,55.0,9.0,21.0,25.0,18.0,41.0,23.0,15.0,13.0,35.0,33.0,11.0,35.0,30.0,25.0,27.0,96.0,40.0,11.0,20.0,50.0,75.0,24.0,32.0,16.0,27.0,15.0,19.0,20.0,35.0,80.0,40.0,18.0,12.0,25.0,19.0,60.0,79.0,95.0,30.0,50.0,22.0,33.0,15.0,11.0,30.0,8.0,25.0,30.0,15.0,30.0,70.0,7.0,80.0,6.0,30.0,21.0,17.0,120.0,27.0,22.0,35.0,6.0,15.0,20.0,11.0,30.0,20.0,30.0,20.0,40.0,30.0,15.0,60.0,17.0,35.0,34.0,35.0,25.0,18.0,8.0,24.0,13.0,30.0,27.0,15.0,27.0,22.0,50.0,22.0,25.0,21.0,12.0,140.0,30.0,60.0,35.0,12.0,12.0,21.0,70.0,20.0,67.0,24.0,62.0,11.0,17.0,32.0,65.0,58.0,52.0,30.0,12.0,20.0,30.0,7.0,37.0,30.0,47.0,90.0,38.0,20.0,2.0,25.0,19.0,19.0,18.0,30.0,45.0,45.0,15.0,19.0,24.0,40.0,35.0,21.0,18.0,100.0,23.0,25.0,80.0,15.0,68.0,40.0,50.0,28.0,10.0,9.0,46.0,22.0,44.0,30.0],\"x0\":\" \",\"xaxis\":\"x\",\"y0\":\" \",\"yaxis\":\"y\",\"type\":\"box\"}],                        {\"template\":{\"data\":{\"histogram2dcontour\":[{\"type\":\"histogram2dcontour\",\"colorbar\":{\"outlinewidth\":0,\"ticks\":\"\"},\"colorscale\":[[0.0,\"#0d0887\"],[0.1111111111111111,\"#46039f\"],[0.2222222222222222,\"#7201a8\"],[0.3333333333333333,\"#9c179e\"],[0.4444444444444444,\"#bd3786\"],[0.5555555555555556,\"#d8576b\"],[0.6666666666666666,\"#ed7953\"],[0.7777777777777778,\"#fb9f3a\"],[0.8888888888888888,\"#fdca26\"],[1.0,\"#f0f921\"]]}],\"choropleth\":[{\"type\":\"choropleth\",\"colorbar\":{\"outlinewidth\":0,\"ticks\":\"\"}}],\"histogram2d\":[{\"type\":\"histogram2d\",\"colorbar\":{\"outlinewidth\":0,\"ticks\":\"\"},\"colorscale\":[[0.0,\"#0d0887\"],[0.1111111111111111,\"#46039f\"],[0.2222222222222222,\"#7201a8\"],[0.3333333333333333,\"#9c179e\"],[0.4444444444444444,\"#bd3786\"],[0.5555555555555556,\"#d8576b\"],[0.6666666666666666,\"#ed7953\"],[0.7777777777777778,\"#fb9f3a\"],[0.8888888888888888,\"#fdca26\"],[1.0,\"#f0f921\"]]}],\"heatmap\":[{\"type\":\"heatmap\",\"colorbar\":{\"outlinewidth\":0,\"ticks\":\"\"},\"colorscale\":[[0.0,\"#0d0887\"],[0.1111111111111111,\"#46039f\"],[0.2222222222222222,\"#7201a8\"],[0.3333333333333333,\"#9c179e\"],[0.4444444444444444,\"#bd3786\"],[0.5555555555555556,\"#d8576b\"],[0.6666666666666666,\"#ed7953\"],[0.7777777777777778,\"#fb9f3a\"],[0.8888888888888888,\"#fdca26\"],[1.0,\"#f0f921\"]]}],\"heatmapgl\":[{\"type\":\"heatmapgl\",\"colorbar\":{\"outlinewidth\":0,\"ticks\":\"\"},\"colorscale\":[[0.0,\"#0d0887\"],[0.1111111111111111,\"#46039f\"],[0.2222222222222222,\"#7201a8\"],[0.3333333333333333,\"#9c179e\"],[0.4444444444444444,\"#bd3786\"],[0.5555555555555556,\"#d8576b\"],[0.6666666666666666,\"#ed7953\"],[0.7777777777777778,\"#fb9f3a\"],[0.8888888888888888,\"#fdca26\"],[1.0,\"#f0f921\"]]}],\"contourcarpet\":[{\"type\":\"contourcarpet\",\"colorbar\":{\"outlinewidth\":0,\"ticks\":\"\"}}],\"contour\":[{\"type\":\"contour\",\"colorbar\":{\"outlinewidth\":0,\"ticks\":\"\"},\"colorscale\":[[0.0,\"#0d0887\"],[0.1111111111111111,\"#46039f\"],[0.2222222222222222,\"#7201a8\"],[0.3333333333333333,\"#9c179e\"],[0.4444444444444444,\"#bd3786\"],[0.5555555555555556,\"#d8576b\"],[0.6666666666666666,\"#ed7953\"],[0.7777777777777778,\"#fb9f3a\"],[0.8888888888888888,\"#fdca26\"],[1.0,\"#f0f921\"]]}],\"surface\":[{\"type\":\"surface\",\"colorbar\":{\"outlinewidth\":0,\"ticks\":\"\"},\"colorscale\":[[0.0,\"#0d0887\"],[0.1111111111111111,\"#46039f\"],[0.2222222222222222,\"#7201a8\"],[0.3333333333333333,\"#9c179e\"],[0.4444444444444444,\"#bd3786\"],[0.5555555555555556,\"#d8576b\"],[0.6666666666666666,\"#ed7953\"],[0.7777777777777778,\"#fb9f3a\"],[0.8888888888888888,\"#fdca26\"],[1.0,\"#f0f921\"]]}],\"mesh3d\":[{\"type\":\"mesh3d\",\"colorbar\":{\"outlinewidth\":0,\"ticks\":\"\"}}],\"scatter\":[{\"fillpattern\":{\"fillmode\":\"overlay\",\"size\":10,\"solidity\":0.2},\"type\":\"scatter\"}],\"parcoords\":[{\"type\":\"parcoords\",\"line\":{\"colorbar\":{\"outlinewidth\":0,\"ticks\":\"\"}}}],\"scatterpolargl\":[{\"type\":\"scatterpolargl\",\"marker\":{\"colorbar\":{\"outlinewidth\":0,\"ticks\":\"\"}}}],\"bar\":[{\"error_x\":{\"color\":\"#2a3f5f\"},\"error_y\":{\"color\":\"#2a3f5f\"},\"marker\":{\"line\":{\"color\":\"#E5ECF6\",\"width\":0.5},\"pattern\":{\"fillmode\":\"overlay\",\"size\":10,\"solidity\":0.2}},\"type\":\"bar\"}],\"scattergeo\":[{\"type\":\"scattergeo\",\"marker\":{\"colorbar\":{\"outlinewidth\":0,\"ticks\":\"\"}}}],\"scatterpolar\":[{\"type\":\"scatterpolar\",\"marker\":{\"colorbar\":{\"outlinewidth\":0,\"ticks\":\"\"}}}],\"histogram\":[{\"marker\":{\"pattern\":{\"fillmode\":\"overlay\",\"size\":10,\"solidity\":0.2}},\"type\":\"histogram\"}],\"scattergl\":[{\"type\":\"scattergl\",\"marker\":{\"colorbar\":{\"outlinewidth\":0,\"ticks\":\"\"}}}],\"scatter3d\":[{\"type\":\"scatter3d\",\"line\":{\"colorbar\":{\"outlinewidth\":0,\"ticks\":\"\"}},\"marker\":{\"colorbar\":{\"outlinewidth\":0,\"ticks\":\"\"}}}],\"scattermapbox\":[{\"type\":\"scattermapbox\",\"marker\":{\"colorbar\":{\"outlinewidth\":0,\"ticks\":\"\"}}}],\"scatterternary\":[{\"type\":\"scatterternary\",\"marker\":{\"colorbar\":{\"outlinewidth\":0,\"ticks\":\"\"}}}],\"scattercarpet\":[{\"type\":\"scattercarpet\",\"marker\":{\"colorbar\":{\"outlinewidth\":0,\"ticks\":\"\"}}}],\"carpet\":[{\"aaxis\":{\"endlinecolor\":\"#2a3f5f\",\"gridcolor\":\"white\",\"linecolor\":\"white\",\"minorgridcolor\":\"white\",\"startlinecolor\":\"#2a3f5f\"},\"baxis\":{\"endlinecolor\":\"#2a3f5f\",\"gridcolor\":\"white\",\"linecolor\":\"white\",\"minorgridcolor\":\"white\",\"startlinecolor\":\"#2a3f5f\"},\"type\":\"carpet\"}],\"table\":[{\"cells\":{\"fill\":{\"color\":\"#EBF0F8\"},\"line\":{\"color\":\"white\"}},\"header\":{\"fill\":{\"color\":\"#C8D4E3\"},\"line\":{\"color\":\"white\"}},\"type\":\"table\"}],\"barpolar\":[{\"marker\":{\"line\":{\"color\":\"#E5ECF6\",\"width\":0.5},\"pattern\":{\"fillmode\":\"overlay\",\"size\":10,\"solidity\":0.2}},\"type\":\"barpolar\"}],\"pie\":[{\"automargin\":true,\"type\":\"pie\"}]},\"layout\":{\"autotypenumbers\":\"strict\",\"colorway\":[\"#636efa\",\"#EF553B\",\"#00cc96\",\"#ab63fa\",\"#FFA15A\",\"#19d3f3\",\"#FF6692\",\"#B6E880\",\"#FF97FF\",\"#FECB52\"],\"font\":{\"color\":\"#2a3f5f\"},\"hovermode\":\"closest\",\"hoverlabel\":{\"align\":\"left\"},\"paper_bgcolor\":\"white\",\"plot_bgcolor\":\"#E5ECF6\",\"polar\":{\"bgcolor\":\"#E5ECF6\",\"angularaxis\":{\"gridcolor\":\"white\",\"linecolor\":\"white\",\"ticks\":\"\"},\"radialaxis\":{\"gridcolor\":\"white\",\"linecolor\":\"white\",\"ticks\":\"\"}},\"ternary\":{\"bgcolor\":\"#E5ECF6\",\"aaxis\":{\"gridcolor\":\"white\",\"linecolor\":\"white\",\"ticks\":\"\"},\"baxis\":{\"gridcolor\":\"white\",\"linecolor\":\"white\",\"ticks\":\"\"},\"caxis\":{\"gridcolor\":\"white\",\"linecolor\":\"white\",\"ticks\":\"\"}},\"coloraxis\":{\"colorbar\":{\"outlinewidth\":0,\"ticks\":\"\"}},\"colorscale\":{\"sequential\":[[0.0,\"#0d0887\"],[0.1111111111111111,\"#46039f\"],[0.2222222222222222,\"#7201a8\"],[0.3333333333333333,\"#9c179e\"],[0.4444444444444444,\"#bd3786\"],[0.5555555555555556,\"#d8576b\"],[0.6666666666666666,\"#ed7953\"],[0.7777777777777778,\"#fb9f3a\"],[0.8888888888888888,\"#fdca26\"],[1.0,\"#f0f921\"]],\"sequentialminus\":[[0.0,\"#0d0887\"],[0.1111111111111111,\"#46039f\"],[0.2222222222222222,\"#7201a8\"],[0.3333333333333333,\"#9c179e\"],[0.4444444444444444,\"#bd3786\"],[0.5555555555555556,\"#d8576b\"],[0.6666666666666666,\"#ed7953\"],[0.7777777777777778,\"#fb9f3a\"],[0.8888888888888888,\"#fdca26\"],[1.0,\"#f0f921\"]],\"diverging\":[[0,\"#8e0152\"],[0.1,\"#c51b7d\"],[0.2,\"#de77ae\"],[0.3,\"#f1b6da\"],[0.4,\"#fde0ef\"],[0.5,\"#f7f7f7\"],[0.6,\"#e6f5d0\"],[0.7,\"#b8e186\"],[0.8,\"#7fbc41\"],[0.9,\"#4d9221\"],[1,\"#276419\"]]},\"xaxis\":{\"gridcolor\":\"white\",\"linecolor\":\"white\",\"ticks\":\"\",\"title\":{\"standoff\":15},\"zerolinecolor\":\"white\",\"automargin\":true,\"zerolinewidth\":2},\"yaxis\":{\"gridcolor\":\"white\",\"linecolor\":\"white\",\"ticks\":\"\",\"title\":{\"standoff\":15},\"zerolinecolor\":\"white\",\"automargin\":true,\"zerolinewidth\":2},\"scene\":{\"xaxis\":{\"backgroundcolor\":\"#E5ECF6\",\"gridcolor\":\"white\",\"linecolor\":\"white\",\"showbackground\":true,\"ticks\":\"\",\"zerolinecolor\":\"white\",\"gridwidth\":2},\"yaxis\":{\"backgroundcolor\":\"#E5ECF6\",\"gridcolor\":\"white\",\"linecolor\":\"white\",\"showbackground\":true,\"ticks\":\"\",\"zerolinecolor\":\"white\",\"gridwidth\":2},\"zaxis\":{\"backgroundcolor\":\"#E5ECF6\",\"gridcolor\":\"white\",\"linecolor\":\"white\",\"showbackground\":true,\"ticks\":\"\",\"zerolinecolor\":\"white\",\"gridwidth\":2}},\"shapedefaults\":{\"line\":{\"color\":\"#2a3f5f\"}},\"annotationdefaults\":{\"arrowcolor\":\"#2a3f5f\",\"arrowhead\":0,\"arrowwidth\":1},\"geo\":{\"bgcolor\":\"white\",\"landcolor\":\"#E5ECF6\",\"subunitcolor\":\"white\",\"showland\":true,\"showlakes\":true,\"lakecolor\":\"white\"},\"title\":{\"x\":0.05},\"mapbox\":{\"style\":\"light\"}}},\"xaxis\":{\"anchor\":\"y\",\"domain\":[0.0,1.0],\"title\":{\"text\":\"Tumor_Size\"}},\"yaxis\":{\"anchor\":\"x\",\"domain\":[0.0,1.0]},\"legend\":{\"tracegroupgap\":0},\"margin\":{\"t\":60},\"boxmode\":\"group\"},                        {\"responsive\": true}                    ).then(function(){\n",
              "                            \n",
              "var gd = document.getElementById('0b3d01b1-c96c-466e-8f62-a3fb0a360dbc');\n",
              "var x = new MutationObserver(function (mutations, observer) {{\n",
              "        var display = window.getComputedStyle(gd).display;\n",
              "        if (!display || display === 'none') {{\n",
              "            console.log([gd, 'removed!']);\n",
              "            Plotly.purge(gd);\n",
              "            observer.disconnect();\n",
              "        }}\n",
              "}});\n",
              "\n",
              "// Listen for the removal of the full notebook cells\n",
              "var notebookContainer = gd.closest('#notebook-container');\n",
              "if (notebookContainer) {{\n",
              "    x.observe(notebookContainer, {childList: true});\n",
              "}}\n",
              "\n",
              "// Listen for the clearing of the current output cell\n",
              "var outputEl = gd.closest('.output');\n",
              "if (outputEl) {{\n",
              "    x.observe(outputEl, {childList: true});\n",
              "}}\n",
              "\n",
              "                        })                };                            </script>        </div>\n",
              "</body>\n",
              "</html>"
            ]
          },
          "metadata": {}
        },
        {
          "output_type": "stream",
          "name": "stdout",
          "text": [
            "Index([   8,   52,   53,   63,   70,   86,   87,  116,  147,  155,\n",
            "       ...\n",
            "       3893, 3902, 3909, 3910, 3925, 3930, 3965, 3991, 4009, 4012],\n",
            "      dtype='int64', length=221)\n"
          ]
        }
      ]
    },
    {
      "cell_type": "markdown",
      "source": [
        "*Here you can see there are 221 extreme values for Tumor_Size*"
      ],
      "metadata": {
        "id": "WUx2KsZ0A6qM"
      }
    },
    {
      "cell_type": "code",
      "source": [
        "df.drop(index=find_outliers_IQR(df['Tumor_Size']), inplace=True)"
      ],
      "metadata": {
        "id": "nQSpl6qH_cPq"
      },
      "execution_count": null,
      "outputs": []
    },
    {
      "cell_type": "markdown",
      "source": [
        "\n",
        "\n",
        "---\n",
        "\n",
        "Oulier Visualization For **Regional_Node_Examined**"
      ],
      "metadata": {
        "id": "frcd358TCFOs"
      }
    },
    {
      "cell_type": "code",
      "source": [
        "printOutlierVisalization(\"Regional_Node_Examined\")\n",
        "print(find_outliers_IQR(df['Regional_Node_Examined']))"
      ],
      "metadata": {
        "colab": {
          "base_uri": "https://localhost:8080/",
          "height": 1000
        },
        "collapsed": true,
        "id": "9hThlEL0CKdI",
        "outputId": "b37041d3-6e42-4af4-8c5a-5b3eed412ab7"
      },
      "execution_count": null,
      "outputs": [
        {
          "output_type": "stream",
          "name": "stdout",
          "text": [
            "Ourlier Visulaization for Regional_Node_Examined\n"
          ]
        },
        {
          "output_type": "display_data",
          "data": {
            "text/html": [
              "<html>\n",
              "<head><meta charset=\"utf-8\" /></head>\n",
              "<body>\n",
              "    <div>            <script src=\"https://cdnjs.cloudflare.com/ajax/libs/mathjax/2.7.5/MathJax.js?config=TeX-AMS-MML_SVG\"></script><script type=\"text/javascript\">if (window.MathJax && window.MathJax.Hub && window.MathJax.Hub.Config) {window.MathJax.Hub.Config({SVG: {font: \"STIX-Web\"}});}</script>                <script type=\"text/javascript\">window.PlotlyConfig = {MathJaxConfig: 'local'};</script>\n",
              "        <script charset=\"utf-8\" src=\"https://cdn.plot.ly/plotly-2.35.2.min.js\"></script>                <div id=\"c4442e6a-bfc7-4742-a328-c9faa9fb61a6\" class=\"plotly-graph-div\" style=\"height:525px; width:100%;\"></div>            <script type=\"text/javascript\">                                    window.PLOTLYENV=window.PLOTLYENV || {};                                    if (document.getElementById(\"c4442e6a-bfc7-4742-a328-c9faa9fb61a6\")) {                    Plotly.newPlot(                        \"c4442e6a-bfc7-4742-a328-c9faa9fb61a6\",                        [{\"alignmentgroup\":\"True\",\"bingroup\":\"x\",\"hovertemplate\":\"Regional_Node_Examined=%{x}\\u003cbr\\u003ecount=%{y}\\u003cextra\\u003e\\u003c\\u002fextra\\u003e\",\"legendgroup\":\"\",\"marker\":{\"color\":\"#636efa\",\"pattern\":{\"shape\":\"\"}},\"name\":\"\",\"offsetgroup\":\"\",\"orientation\":\"v\",\"showlegend\":false,\"x\":[24.0,14.0,14.0,2.0,3.0,18.0,11.0,9.0,21.0,9.0,11.0,13.0,23.0,16.0,20.0,1.0,22.0,16.0,20.0,15.0,15.0,4.0,18.0,26.0,31.0,25.0,14.0,14.0,10.0,3.0,5.0,6.0,19.0,19.0,9.0,21.0,14.0,10.0,15.0,12.0,12.0,2.0,15.0,11.0,10.0,15.0,12.0,16.0,8.0,17.0,9.0,16.0,13.0,19.0,49.0,15.0,17.0,24.0,12.0,1.0,16.0,5.0,23.0,20.0,5.0,12.0,24.0,16.0,15.0,19.0,13.0,11.0,7.0,9.0,9.0,21.0,10.0,9.0,2.0,13.0,12.0,11.0,9.0,8.0,15.0,5.0,21.0,12.0,17.0,4.0,10.0,3.0,14.0,33.0,25.0,3.0,7.0,14.0,2.0,11.0,12.0,8.0,30.0,15.0,3.0,34.0,14.0,6.0,12.0,16.0,15.0,15.0,7.0,15.0,16.0,23.0,23.0,16.0,13.0,3.0,8.0,13.0,14.0,10.0,8.0,5.0,8.0,28.0,12.0,20.0,14.0,18.0,4.0,13.0,23.0,20.0,15.0,18.0,1.0,13.0,18.0,14.0,15.0,14.0,14.0,15.0,6.0,2.0,14.0,18.0,3.0,2.0,20.0,16.0,3.0,12.0,24.0,8.0,14.0,20.0,11.0,9.0,9.0,24.0,11.0,17.0,7.0,31.0,11.0,32.0,23.0,3.0,15.0,14.0,3.0,14.0,34.0,14.0,12.0,2.0,19.0,5.0,5.0,16.0,10.0,22.0,11.0,14.0,16.0,1.0,17.0,2.0,6.0,24.0,18.0,12.0,6.0,17.0,9.0,10.0,12.0,17.0,4.0,20.0,18.0,9.0,2.0,27.0,20.0,42.0,9.0,15.0,19.0,7.0,22.0,2.0,15.0,26.0,26.0,12.0,8.0,29.0,30.0,9.0,18.0,15.0,18.0,9.0,18.0,15.0,11.0,6.0,5.0,2.0,13.0,20.0,13.0,7.0,20.0,12.0,11.0,9.0,9.0,3.0,33.0,3.0,33.0,3.0,4.0,20.0,13.0,20.0,18.0,9.0,11.0,2.0,14.0,14.0,16.0,12.0,18.0,12.0,14.0,7.0,13.0,12.0,30.0,39.0,17.0,11.0,19.0,14.0,10.0,1.0,11.0,21.0,13.0,18.0,23.0,30.0,46.0,25.0,22.0,10.0,4.0,19.0,4.0,15.0,14.0,27.0,12.0,4.0,14.0,12.0,18.0,15.0,19.0,16.0,15.0,14.0,1.0,9.0,10.0,24.0,19.0,6.0,19.0,13.0,11.0,4.0,19.0,13.0,12.0,19.0,17.0,9.0,23.0,12.0,5.0,16.0,29.0,17.0,24.0,16.0,6.0,7.0,1.0,18.0,23.0,5.0,3.0,20.0,10.0,23.0,2.0,11.0,16.0,19.0,14.0,12.0,30.0,2.0,24.0,26.0,14.0,16.0,18.0,5.0,6.0,17.0,11.0,22.0,3.0,16.0,10.0,14.0,7.0,20.0,14.0,21.0,18.0,40.0,20.0,14.0,6.0,18.0,8.0,31.0,14.0,7.0,13.0,20.0,12.0,9.0,1.0,9.0,7.0,19.0,3.0,9.0,9.0,2.0,7.0,20.0,39.0,7.0,27.0,17.0,10.0,8.0,8.0,14.0,11.0,10.0,10.0,11.0,25.0,1.0,9.0,15.0,19.0,9.0,2.0,25.0,5.0,21.0,10.0,29.0,20.0,3.0,26.0,11.0,14.0,2.0,2.0,17.0,9.0,14.0,19.0,20.0,16.0,13.0,10.0,6.0,18.0,18.0,11.0,7.0,11.0,3.0,4.0,12.0,12.0,9.0,3.0,4.0,16.0,7.0,32.0,28.0,9.0,17.0,6.0,25.0,1.0,23.0,9.0,18.0,17.0,18.0,51.0,15.0,7.0,10.0,18.0,23.0,23.0,16.0,19.0,20.0,24.0,15.0,5.0,4.0,22.0,12.0,9.0,15.0,12.0,14.0,17.0,9.0,13.0,13.0,15.0,13.0,28.0,14.0,13.0,13.0,11.0,33.0,21.0,1.0,2.0,16.0,3.0,38.0,14.0,18.0,16.0,17.0,24.0,18.0,7.0,21.0,23.0,13.0,3.0,9.0,33.0,5.0,15.0,16.0,22.0,20.0,47.0,15.0,13.0,17.0,14.0,1.0,22.0,9.0,14.0,15.0,11.0,19.0,1.0,2.0,14.0,9.0,27.0,18.0,24.0,16.0,25.0,9.0,26.0,31.0,14.0,16.0,14.0,14.0,5.0,13.0,14.0,19.0,11.0,29.0,19.0,11.0,10.0,12.0,29.0,4.0,15.0,13.0,10.0,4.0,13.0,15.0,18.0,3.0,16.0,27.0,22.0,7.0,16.0,15.0,10.0,15.0,6.0,17.0,8.0,8.0,13.0,8.0,10.0,2.0,5.0,11.0,6.0,23.0,1.0,15.0,24.0,8.0,17.0,4.0,15.0,13.0,2.0,18.0,54.0,28.0,2.0,6.0,1.0,2.0,2.0,13.0,5.0,14.0,27.0,28.0,11.0,18.0,17.0,12.0,31.0,2.0,24.0,3.0,7.0,26.0,3.0,28.0,24.0,11.0,21.0,14.0,7.0,39.0,19.0,1.0,8.0,16.0,19.0,28.0,12.0,19.0,4.0,19.0,12.0,23.0,17.0,17.0,13.0,10.0,13.0,14.0,22.0,11.0,9.0,18.0,32.0,12.0,13.0,8.0,19.0,16.0,32.0,20.0,14.0,8.0,18.0,27.0,26.0,19.0,12.0,36.0,19.0,12.0,27.0,21.0,2.0,15.0,2.0,16.0,26.0,19.0,14.0,2.0,11.0,4.0,8.0,4.0,14.0,20.0,20.0,14.0,27.0,29.0,24.0,5.0,7.0,22.0,17.0,8.0,22.0,16.0,23.0,10.0,12.0,16.0,26.0,15.0,11.0,9.0,1.0,8.0,9.0,21.0,26.0,25.0,2.0,13.0,10.0,23.0,10.0,6.0,33.0,10.0,19.0,5.0,13.0,13.0,31.0,3.0,6.0,2.0,24.0,19.0,17.0,2.0,11.0,19.0,17.0,12.0,7.0,18.0,15.0,20.0,16.0,10.0,2.0,6.0,10.0,30.0,9.0,11.0,18.0,3.0,2.0,15.0,38.0,2.0,9.0,15.0,2.0,11.0,14.0,1.0,25.0,18.0,15.0,27.0,19.0,6.0,17.0,1.0,6.0,14.0,12.0,9.0,14.0,13.0,5.0,20.0,13.0,29.0,21.0,2.0,1.0,9.0,2.0,1.0,20.0,19.0,26.0,24.0,14.0,6.0,17.0,5.0,1.0,14.0,26.0,3.0,23.0,5.0,7.0,36.0,15.0,19.0,31.0,16.0,12.0,19.0,20.0,10.0,12.0,17.0,5.0,9.0,19.0,3.0,4.0,25.0,6.0,32.0,15.0,16.0,31.0,16.0,7.0,21.0,18.0,15.0,20.0,10.0,31.0,13.0,3.0,3.0,17.0,6.0,17.0,16.0,10.0,16.0,25.0,15.0,6.0,17.0,6.0,18.0,25.0,10.0,10.0,28.0,10.0,25.0,20.0,9.0,32.0,25.0,4.0,12.0,3.0,11.0,7.0,9.0,24.0,9.0,2.0,32.0,13.0,18.0,4.0,18.0,7.0,19.0,3.0,13.0,19.0,19.0,18.0,8.0,26.0,10.0,5.0,1.0,23.0,10.0,11.0,16.0,12.0,15.0,13.0,3.0,14.0,23.0,61.0,7.0,1.0,23.0,26.0,10.0,11.0,14.0,15.0,16.0,10.0,10.0,8.0,5.0,34.0,16.0,11.0,22.0,23.0,2.0,15.0,11.0,32.0,21.0,12.0,14.0,19.0,10.0,14.0,9.0,9.0,20.0,5.0,10.0,32.0,2.0,9.0,13.0,17.0,2.0,26.0,9.0,41.0,17.0,18.0,10.0,8.0,11.0,26.0,21.0,9.0,20.0,22.0,3.0,19.0,22.0,8.0,23.0,13.0,5.0,17.0,16.0,15.0,20.0,24.0,10.0,17.0,3.0,23.0,16.0,17.0,17.0,18.0,17.0,6.0,17.0,16.0,15.0,20.0,60.0,6.0,18.0,15.0,29.0,18.0,18.0,2.0,6.0,18.0,13.0,6.0,30.0,23.0,25.0,9.0,19.0,10.0,17.0,9.0,10.0,13.0,8.0,14.0,15.0,17.0,23.0,7.0,16.0,10.0,10.0,24.0,7.0,19.0,25.0,19.0,19.0,27.0,19.0,18.0,9.0,16.0,22.0,12.0,16.0,23.0,29.0,5.0,13.0,26.0,4.0,5.0,9.0,30.0,26.0,12.0,15.0,4.0,12.0,1.0,28.0,15.0,22.0,33.0,28.0,23.0,23.0,18.0,9.0,6.0,10.0,15.0,11.0,15.0,21.0,10.0,1.0,18.0,14.0,22.0,11.0,20.0,16.0,10.0,12.0,11.0,8.0,2.0,26.0,10.0,16.0,16.0,30.0,2.0,11.0,11.0,6.0,4.0,4.0,37.0,2.0,17.0,4.0,23.0,2.0,10.0,11.0,10.0,14.0,10.0,21.0,12.0,13.0,17.0,9.0,16.0,13.0,22.0,11.0,1.0,18.0,8.0,11.0,14.0,14.0,18.0,10.0,4.0,9.0,12.0,17.0,10.0,21.0,16.0,13.0,23.0,8.0,8.0,20.0,7.0,12.0,3.0,6.0,13.0,13.0,22.0,4.0,5.0,23.0,4.0,18.0,21.0,13.0,7.0,14.0,12.0,20.0,3.0,12.0,9.0,22.0,21.0,2.0,1.0,13.0,5.0,28.0,15.0,12.0,19.0,9.0,8.0,16.0,9.0,17.0,9.0,14.0,18.0,28.0,18.0,12.0,2.0,9.0,15.0,16.0,26.0,15.0,8.0,18.0,15.0,10.0,3.0,13.0,3.0,6.0,8.0,7.0,19.0,13.0,25.0,5.0,9.0,5.0,16.0,4.0,14.0,11.0,14.0,14.0,3.0,16.0,18.0,26.0,10.0,20.0,10.0,5.0,3.0,4.0,11.0,15.0,27.0,2.0,19.0,22.0,5.0,20.0,20.0,4.0,3.0,16.0,21.0,17.0,36.0,5.0,15.0,8.0,9.0,15.0,2.0,10.0,10.0,8.0,26.0,21.0,14.0,14.0,18.0,10.0,4.0,10.0,12.0,32.0,13.0,6.0,13.0,13.0,12.0,6.0,11.0,20.0,21.0,18.0,28.0,14.0,3.0,22.0,2.0,13.0,21.0,22.0,16.0,13.0,16.0,5.0,1.0,1.0,4.0,32.0,16.0,13.0,24.0,28.0,30.0,16.0,3.0,8.0,2.0,6.0,9.0,2.0,16.0,10.0,13.0,1.0,23.0,26.0,21.0,4.0,13.0,13.0,14.0,30.0,5.0,3.0,18.0,14.0,15.0,14.0,7.0,14.0,11.0,20.0,16.0,17.0,11.0,13.0,4.0,5.0,13.0,16.0,8.0,14.0,4.0,9.0,6.0,21.0,13.0,15.0,14.0,15.0,18.0,24.0,4.0,20.0,16.0,19.0,21.0,13.0,15.0,29.0,8.0,15.0,15.0,24.0,16.0,21.0,28.0,9.0,14.0,10.0,3.0,10.0,1.0,34.0,1.0,9.0,23.0,4.0,1.0,13.0,9.0,6.0,15.0,14.0,8.0,18.0,11.0,27.0,7.0,13.0,9.0,14.0,13.0,15.0,15.0,14.0,17.0,16.0,14.0,3.0,13.0,13.0,28.0,20.0,5.0,28.0,23.0,3.0,12.0,23.0,14.0,17.0,14.0,24.0,27.0,21.0,16.0,19.0,11.0,23.0,3.0,3.0,10.0,8.0,14.0,11.0,9.0,13.0,25.0,13.0,12.0,13.0,2.0,13.0,14.0,36.0,21.0,24.0,4.0,7.0,3.0,11.0,27.0,13.0,29.0,6.0,17.0,11.0,31.0,13.0,12.0,12.0,3.0,17.0,19.0,5.0,12.0,9.0,15.0,23.0,9.0,23.0,2.0,5.0,12.0,17.0,17.0,12.0,16.0,13.0,11.0,25.0,20.0,15.0,9.0,11.0,26.0,13.0,20.0,12.0,13.0,21.0,20.0,9.0,13.0,4.0,3.0,16.0,27.0,14.0,15.0,16.0,40.0,17.0,22.0,19.0,1.0,32.0,3.0,2.0,10.0,15.0,1.0,20.0,16.0,2.0,21.0,11.0,16.0,31.0,14.0,14.0,16.0,16.0,10.0,15.0,12.0,19.0,7.0,5.0,4.0,10.0,25.0,16.0,4.0,20.0,17.0,6.0,11.0,47.0,24.0,15.0,9.0,17.0,12.0,16.0,29.0,4.0,11.0,13.0,4.0,16.0,9.0,17.0,18.0,28.0,9.0,11.0,9.0,43.0,9.0,7.0,9.0,32.0,9.0,20.0,5.0,11.0,24.0,6.0,39.0,18.0,8.0,16.0,8.0,14.0,26.0,18.0,25.0,13.0,17.0,8.0,13.0,22.0,10.0,10.0,9.0,18.0,21.0,22.0,20.0,8.0,24.0,18.0,11.0,7.0,19.0,20.0,23.0,25.0,9.0,9.0,49.0,9.0,7.0,7.0,18.0,11.0,6.0,16.0,17.0,4.0,17.0,11.0,4.0,25.0,25.0,27.0,19.0,18.0,21.0,16.0,12.0,26.0,15.0,16.0,12.0,18.0,23.0,27.0,18.0,8.0,8.0,9.0,16.0,17.0,18.0,4.0,17.0,20.0,20.0,13.0,4.0,24.0,6.0,29.0,1.0,18.0,6.0,25.0,18.0,7.0,12.0,14.0,6.0,13.0,13.0,20.0,5.0,15.0,21.0,13.0,3.0,19.0,12.0,19.0,10.0,5.0,15.0,16.0,20.0,13.0,7.0,13.0,7.0,20.0,26.0,9.0,6.0,21.0,10.0,6.0,22.0,16.0,21.0,3.0,25.0,16.0,19.0,11.0,19.0,6.0,24.0,13.0,20.0,18.0,2.0,27.0,15.0,11.0,11.0,8.0,24.0,8.0,10.0,21.0,6.0,11.0,23.0,1.0,5.0,2.0,27.0,1.0,21.0,11.0,16.0,20.0,8.0,19.0,9.0,15.0,24.0,14.0,26.0,16.0,18.0,17.0,14.0,9.0,20.0,15.0,2.0,11.0,14.0,10.0,12.0,27.0,15.0,16.0,1.0,15.0,4.0,15.0,23.0,16.0,6.0,9.0,14.0,9.0,13.0,3.0,16.0,9.0,16.0,10.0,16.0,26.0,16.0,10.0,29.0,21.0,25.0,9.0,12.0,24.0,2.0,17.0,10.0,19.0,5.0,6.0,13.0,13.0,6.0,8.0,11.0,3.0,29.0,11.0,1.0,7.0,1.0,4.0,34.0,7.0,3.0,5.0,17.0,15.0,18.0,15.0,6.0,10.0,9.0,20.0,9.0,11.0,9.0,18.0,1.0,14.0,6.0,22.0,8.0,15.0,15.0,8.0,11.0,23.0,14.0,28.0,6.0,8.0,11.0,8.0,19.0,20.0,3.0,10.0,16.0,4.0,9.0,24.0,4.0,12.0,10.0,6.0,12.0,13.0,25.0,18.0,12.0,16.0,14.0,4.0,15.0,13.0,13.0,20.0,8.0,35.0,18.0,15.0,12.0,1.0,16.0,12.0,23.0,16.0,24.0,14.0,24.0,10.0,17.0,9.0,30.0,13.0,23.0,15.0,20.0,1.0,8.0,19.0,16.0,27.0,15.0,9.0,9.0,25.0,2.0,9.0,7.0,18.0,19.0,13.0,8.0,9.0,6.0,14.0,15.0,19.0,16.0,23.0,2.0,3.0,17.0,1.0,20.0,5.0,1.0,27.0,15.0,23.0,3.0,13.0,10.0,14.0,15.0,18.0,25.0,21.0,14.0,11.0,17.0,13.0,10.0,13.0,15.0,18.0,13.0,12.0,11.0,20.0,22.0,11.0,13.0,8.0,17.0,12.0,11.0,2.0,11.0,10.0,18.0,14.0,19.0,21.0,14.0,3.0,3.0,13.0,17.0,6.0,24.0,14.0,24.0,17.0,17.0,12.0,15.0,4.0,9.0,29.0,18.0,5.0,3.0,18.0,19.0,21.0,12.0,10.0,17.0,7.0,18.0,4.0,7.0,17.0,8.0,22.0,2.0,4.0,16.0,30.0,7.0,13.0,16.0,1.0,7.0,14.0,25.0,9.0,12.0,14.0,15.0,1.0,22.0,17.0,7.0,6.0,24.0,5.0,13.0,17.0,15.0,7.0,21.0,25.0,17.0,16.0,13.0,8.0,33.0,24.0,28.0,24.0,13.0,22.0,33.0,14.0,12.0,19.0,13.0,26.0,3.0,12.0,14.0,15.0,15.0,12.0,4.0,3.0,9.0,41.0,16.0,8.0,13.0,17.0,3.0,19.0,1.0,21.0,2.0,16.0,6.0,4.0,11.0,13.0,26.0,23.0,11.0,10.0,22.0,14.0,8.0,4.0,3.0,17.0,2.0,23.0,3.0,13.0,19.0,14.0,23.0,8.0,13.0,24.0,11.0,11.0,17.0,2.0,21.0,16.0,15.0,9.0,2.0,17.0,14.0,20.0,16.0,27.0,13.0,29.0,10.0,24.0,19.0,14.0,14.0,9.0,19.0,19.0,7.0,20.0,16.0,13.0,16.0,11.0,19.0,5.0,36.0,11.0,20.0,5.0,5.0,28.0,52.0,7.0,23.0,9.0,11.0,13.0,15.0,41.0,15.0,1.0,23.0,8.0,26.0,12.0,20.0,12.0,3.0,16.0,2.0,23.0,16.0,11.0,37.0,14.0,15.0,15.0,34.0,8.0,7.0,27.0,22.0,3.0,21.0,1.0,10.0,13.0,7.0,11.0,10.0,23.0,2.0,24.0,14.0,41.0,17.0,9.0,12.0,1.0,28.0,9.0,13.0,8.0,22.0,3.0,23.0,18.0,2.0,12.0,15.0,16.0,18.0,19.0,17.0,10.0,2.0,5.0,2.0,10.0,8.0,14.0,2.0,19.0,17.0,12.0,35.0,7.0,19.0,21.0,2.0,13.0,4.0,1.0,16.0,2.0,1.0,22.0,23.0,25.0,9.0,10.0,11.0,20.0,24.0,14.0,15.0,15.0,7.0,16.0,13.0,45.0,17.0,16.0,12.0,9.0,36.0,3.0,20.0,14.0,18.0,22.0,31.0,17.0,12.0,11.0,12.0,16.0,8.0,1.0,1.0,11.0,18.0,4.0,15.0,1.0,10.0,22.0,26.0,29.0,18.0,13.0,4.0,18.0,9.0,21.0,13.0,13.0,18.0,21.0,26.0,10.0,2.0,12.0,13.0,12.0,35.0,4.0,23.0,12.0,1.0,10.0,12.0,32.0,6.0,15.0,20.0,6.0,17.0,18.0,9.0,15.0,2.0,6.0,16.0,18.0,10.0,13.0,14.0,16.0,14.0,10.0,14.0,20.0,35.0,12.0,12.0,13.0,14.0,2.0,21.0,32.0,8.0,3.0,10.0,23.0,15.0,14.0,15.0,16.0,4.0,16.0,14.0,17.0,5.0,16.0,13.0,12.0,14.0,31.0,8.0,27.0,15.0,32.0,9.0,21.0,18.0,15.0,18.0,18.0,22.0,16.0,9.0,20.0,20.0,4.0,5.0,6.0,28.0,1.0,2.0,9.0,35.0,23.0,16.0,16.0,15.0,16.0,10.0,6.0,17.0,14.0,8.0,17.0,18.0,12.0,28.0,18.0,23.0,32.0,17.0,1.0,20.0,17.0,13.0,7.0,9.0,10.0,5.0,16.0,9.0,11.0,30.0,9.0,19.0,9.0,5.0,8.0,21.0,8.0,18.0,16.0,13.0,1.0,3.0,9.0,13.0,12.0,21.0,30.0,17.0,11.0,3.0,7.0,12.0,11.0,11.0,2.0,10.0,8.0,8.0,7.0,28.0,27.0,24.0,4.0,15.0,2.0,9.0,14.0,28.0,13.0,2.0,13.0,10.0,11.0,21.0,19.0,30.0,8.0,20.0,2.0,14.0,43.0,8.0,57.0,14.0,5.0,16.0,16.0,12.0,13.0,21.0,9.0,6.0,17.0,5.0,19.0,9.0,8.0,14.0,12.0,16.0,28.0,19.0,14.0,18.0,14.0,22.0,13.0,22.0,19.0,16.0,12.0,9.0,15.0,30.0,13.0,10.0,8.0,21.0,12.0,3.0,8.0,11.0,15.0,26.0,20.0,10.0,25.0,5.0,19.0,19.0,13.0,15.0,8.0,10.0,9.0,15.0,10.0,4.0,17.0,8.0,4.0,26.0,11.0,16.0,25.0,13.0,11.0,14.0,16.0,9.0,13.0,8.0,13.0,13.0,6.0,13.0,5.0,7.0,2.0,21.0,23.0,26.0,1.0,13.0,6.0,16.0,18.0,20.0,17.0,19.0,1.0,25.0,12.0,25.0,10.0,17.0,10.0,4.0,18.0,25.0,17.0,9.0,28.0,13.0,2.0,17.0,18.0,24.0,8.0,21.0,12.0,15.0,24.0,5.0,9.0,14.0,17.0,26.0,6.0,17.0,12.0,15.0,12.0,8.0,14.0,16.0,7.0,10.0,16.0,13.0,1.0,14.0,9.0,22.0,12.0,37.0,9.0,12.0,2.0,36.0,11.0,19.0,12.0,12.0,28.0,18.0,8.0,15.0,23.0,13.0,26.0,5.0,1.0,16.0,21.0,13.0,17.0,15.0,18.0,8.0,17.0,18.0,23.0,17.0,17.0,2.0,19.0,10.0,8.0,15.0,17.0,10.0,11.0,12.0,18.0,20.0,17.0,13.0,22.0,13.0,5.0,7.0,14.0,13.0,7.0,4.0,4.0,12.0,11.0,19.0,11.0,2.0,9.0,12.0,26.0,11.0,1.0,15.0,12.0,20.0,13.0,14.0,5.0,3.0,13.0,4.0,18.0,27.0,4.0,5.0,2.0,18.0,6.0,16.0,3.0,3.0,4.0,19.0,10.0,24.0,13.0,7.0,9.0,4.0,6.0,32.0,7.0,21.0,6.0,14.0,5.0,2.0,14.0,8.0,12.0,14.0,19.0,13.0,21.0,11.0,4.0,21.0,11.0,21.0,32.0,12.0,2.0,43.0,13.0,14.0,5.0,16.0,13.0,10.0,15.0,14.0,19.0,8.0,8.0,21.0,12.0,18.0,11.0,5.0,17.0,19.0,6.0,6.0,15.0,6.0,12.0,17.0,39.0,12.0,26.0,24.0,17.0,15.0,26.0,16.0,6.0,25.0,8.0,11.0,26.0,10.0,13.0,16.0,19.0,20.0,17.0,22.0,20.0,11.0,11.0,18.0,15.0,23.0,9.0,22.0,7.0,2.0,3.0,5.0,16.0,10.0,23.0,33.0,24.0,10.0,16.0,10.0,2.0,16.0,18.0,6.0,29.0,23.0,11.0,13.0,7.0,12.0,16.0,23.0,5.0,8.0,10.0,24.0,19.0,1.0,14.0,9.0,5.0,14.0,4.0,22.0,22.0,12.0,17.0,2.0,22.0,9.0,8.0,17.0,26.0,22.0,9.0,1.0,21.0,12.0,26.0,8.0,19.0,15.0,4.0,14.0,11.0,27.0,16.0,9.0,26.0,13.0,2.0,15.0,9.0,26.0,15.0,10.0,19.0,10.0,2.0,10.0,16.0,13.0,11.0,23.0,11.0,7.0,19.0,21.0,7.0,20.0,12.0,8.0,1.0,11.0,9.0,32.0,24.0,9.0,17.0,8.0,13.0,12.0,15.0,12.0,12.0,12.0,10.0,9.0,47.0,17.0,4.0,9.0,23.0,8.0,10.0,22.0,14.0,27.0,6.0,12.0,19.0,16.0,14.0,21.0,16.0,18.0,14.0,3.0,17.0,12.0,9.0,14.0,9.0,14.0,13.0,22.0,22.0,14.0,17.0,3.0,15.0,6.0,13.0,2.0,2.0,14.0,30.0,22.0,10.0,2.0,15.0,9.0,35.0,11.0,14.0,1.0,6.0,17.0,11.0,24.0,33.0,4.0,10.0,14.0,10.0,10.0,27.0,13.0,7.0,30.0,14.0,14.0,19.0,3.0,14.0,18.0,8.0,21.0,27.0,17.0,12.0,6.0,8.0,30.0,28.0,18.0,8.0,16.0,13.0,20.0,13.0,6.0,36.0,12.0,13.0,5.0,17.0,2.0,8.0,23.0,10.0,12.0,13.0,29.0,10.0,14.0,3.0,8.0,5.0,24.0,29.0,16.0,32.0,17.0,29.0,12.0,20.0,7.0,1.0,18.0,8.0,13.0,8.0,17.0,24.0,19.0,12.0,9.0,10.0,14.0,11.0,34.0,2.0,14.0,17.0,20.0,18.0,24.0,5.0,27.0,1.0,13.0,15.0,29.0,16.0,25.0,14.0,2.0,9.0,4.0,10.0,12.0,8.0,9.0,18.0,6.0,37.0,33.0,13.0,9.0,15.0,24.0,11.0,9.0,11.0,9.0,21.0,19.0,12.0,3.0,12.0,24.0,3.0,9.0,12.0,19.0,15.0,35.0,8.0,14.0,10.0,12.0,4.0,19.0,9.0,22.0,16.0,7.0,11.0,4.0,17.0,5.0,13.0,8.0,16.0,23.0,15.0,9.0,8.0,8.0,10.0,15.0,28.0,21.0,6.0,17.0,5.0,3.0,17.0,17.0,35.0,14.0,21.0,11.0,12.0,27.0,18.0,14.0,19.0,12.0,11.0,16.0,12.0,17.0,18.0,24.0,15.0,8.0,18.0,1.0,8.0,25.0,19.0,26.0,8.0,18.0,22.0,13.0,15.0,9.0,29.0,4.0,17.0,9.0,47.0,25.0,15.0,13.0,19.0,22.0,23.0,14.0,16.0,27.0,29.0,7.0,8.0,1.0,1.0,25.0,40.0,19.0,28.0,23.0,10.0,12.0,17.0,23.0,14.0,41.0,13.0,13.0,16.0,16.0,19.0,5.0,24.0,13.0,4.0,2.0,9.0,10.0,8.0,24.0,7.0,14.0,6.0,6.0,24.0,5.0,10.0,14.0,20.0,13.0,26.0,21.0,13.0,14.0,11.0,9.0,11.0,12.0,5.0,18.0,30.0,4.0,17.0,10.0,13.0,19.0,24.0,4.0,26.0,8.0,19.0,20.0,16.0,13.0,16.0,25.0,19.0,16.0,3.0,12.0,15.0,14.0,37.0,2.0,18.0,11.0,1.0,27.0,15.0,1.0,16.0,1.0,26.0,22.0,10.0,18.0,12.0,11.0,4.0,21.0,7.0,9.0,6.0,21.0,12.0,21.0,17.0,22.0,5.0,14.0,5.0,2.0,17.0,18.0,2.0,18.0,11.0,11.0,10.0,13.0,17.0,15.0,4.0,15.0,26.0,33.0,19.0,29.0,18.0,10.0,5.0,11.0,9.0,22.0,15.0,14.0,13.0,2.0,8.0,9.0,15.0,16.0,2.0,12.0,15.0,5.0,16.0,47.0,10.0,13.0,15.0,9.0,5.0,8.0,15.0,13.0,13.0,27.0,13.0,20.0,13.0,20.0,21.0,4.0,25.0,8.0,6.0,2.0,15.0,11.0,15.0,21.0,1.0,20.0,16.0,21.0,2.0,16.0,5.0,10.0,20.0,12.0,19.0,15.0,35.0,23.0,3.0,9.0,21.0,19.0,21.0,17.0,5.0,24.0,14.0,27.0,14.0,13.0,19.0,8.0,3.0,26.0,2.0,2.0,18.0,3.0,18.0,21.0,18.0,7.0,18.0,20.0,16.0,22.0,11.0,21.0,10.0,13.0,9.0,10.0,4.0,17.0,12.0,16.0,15.0,9.0,16.0,19.0,14.0,11.0,17.0,7.0,13.0,13.0,16.0,3.0,5.0,9.0,10.0,16.0,27.0,15.0,13.0,31.0,13.0,10.0,15.0,6.0,23.0,23.0,20.0,4.0,12.0,14.0,8.0,30.0,5.0,15.0,13.0,2.0,7.0,16.0,7.0,14.0,13.0,29.0,13.0,1.0,21.0,8.0,12.0,3.0,8.0,9.0,6.0,7.0,2.0,12.0,17.0,16.0,14.0,5.0,18.0,11.0,16.0,24.0,11.0,21.0,7.0,16.0,16.0,14.0,37.0,11.0,1.0,17.0,6.0,15.0,3.0,1.0,15.0,6.0,10.0,18.0,5.0,12.0,23.0,6.0,51.0,20.0,5.0,14.0,12.0,11.0,16.0,8.0,21.0,34.0,10.0,5.0,27.0,14.0,17.0,19.0,3.0,2.0,10.0,14.0,11.0,9.0,18.0,12.0,16.0,22.0,18.0,18.0,12.0,8.0,13.0,13.0,13.0,4.0,19.0,16.0,6.0,12.0,7.0,51.0,11.0,9.0,12.0,16.0,17.0,16.0,21.0,15.0,16.0,25.0,5.0,27.0,18.0,19.0,10.0,10.0,23.0,20.0,22.0,1.0,5.0,17.0,11.0,14.0,24.0,19.0,6.0,14.0,11.0,12.0,14.0,6.0,19.0,17.0,14.0,14.0,18.0,13.0,30.0,29.0,8.0,17.0,19.0,4.0,10.0,23.0,8.0,17.0,9.0,3.0,12.0,23.0,20.0,12.0,8.0,7.0,1.0,13.0,10.0,13.0,21.0,20.0,6.0,13.0,13.0,3.0,12.0,27.0,11.0,14.0,19.0,27.0,4.0,2.0,9.0,13.0,13.0,18.0,13.0,1.0,13.0,14.0,3.0,20.0,3.0,12.0,6.0,19.0,12.0,13.0,2.0,28.0,16.0,10.0,3.0,2.0,14.0,24.0,5.0,18.0,21.0,19.0,22.0,20.0,18.0,26.0,28.0,10.0,17.0,24.0,5.0,4.0,13.0,4.0,12.0,20.0,18.0,17.0,15.0,10.0,15.0,18.0,3.0,10.0,24.0,8.0,16.0,2.0,16.0,12.0,13.0,4.0,6.0,26.0,6.0,11.0,7.0,11.0,13.0,26.0,6.0,17.0,8.0,18.0,21.0,28.0,28.0,11.0,4.0,8.0,17.0,24.0,17.0,8.0,13.0,2.0,16.0,18.0,13.0,3.0,10.0,15.0,13.0,13.0,30.0,12.0,17.0,26.0,16.0,10.0,30.0,23.0,12.0,1.0,22.0,9.0,13.0,8.0,28.0,21.0,17.0,20.0,2.0,13.0,18.0,8.0,11.0,18.0,6.0,14.0,3.0,18.0,42.0,14.0,18.0,21.0,19.0,10.0,7.0,11.0,38.0,24.0,12.0,13.0,9.0,20.0,11.0,15.0,12.0,6.0,12.0,16.0,20.0,11.0,16.0,8.0,11.0,4.0,12.0,10.0,6.0,11.0,7.0,2.0,19.0,21.0,7.0,16.0,19.0,2.0,11.0,2.0,22.0,3.0,15.0,15.0,17.0,16.0,17.0,12.0,6.0,2.0,14.0,25.0,25.0,9.0,17.0,6.0,21.0,2.0,23.0,26.0,13.0,11.0,19.0,14.0,12.0,11.0,15.0,25.0,11.0,47.0,19.0,10.0,14.0,11.0,2.0,16.0,19.0,9.0,16.0,15.0,7.0,3.0,13.0,6.0,15.0,18.0,19.0,12.0,28.0,22.0,18.0,2.0,19.0,20.0,16.0,23.0,16.0,4.0,20.0,16.0,1.0,18.0,21.0,2.0,1.0,8.0,20.0,9.0,7.0,31.0,21.0,3.0,15.0,28.0,8.0,9.0,11.0,22.0,8.0,26.0,16.0,25.0,22.0,10.0,13.0,28.0,18.0,26.0,13.0,12.0,11.0,11.0,5.0,16.0,1.0,19.0,27.0,18.0,18.0,3.0,6.0,23.0,2.0,20.0,2.0,22.0,14.0,6.0,18.0,11.0,22.0,17.0,7.0,7.0,3.0,11.0,16.0,4.0,12.0,1.0,25.0,31.0,7.0,19.0,21.0,14.0,18.0,28.0,11.0,14.0,16.0,15.0,17.0,13.0,17.0,17.0,5.0,20.0,2.0,16.0,7.0,12.0,16.0,14.0,16.0,18.0,8.0,23.0,17.0,15.0,25.0,32.0,11.0,10.0,9.0,8.0,17.0,3.0,13.0,5.0,23.0,24.0,13.0,6.0,18.0,29.0,14.0,7.0,4.0,24.0,22.0,9.0,10.0,36.0,22.0,10.0,29.0,7.0,12.0,23.0,20.0,24.0,27.0,16.0,24.0,4.0,4.0,3.0,14.0,8.0,31.0,10.0,1.0,16.0,1.0,9.0,25.0,13.0,60.0,10.0,10.0,9.0,5.0,13.0,12.0,37.0,24.0,28.0,28.0,4.0,18.0,14.0,1.0,25.0,14.0,14.0,10.0,15.0,6.0,7.0,12.0,16.0,13.0,9.0,18.0,31.0,21.0,22.0,13.0,20.0,14.0,19.0,22.0,6.0,12.0,23.0,12.0,39.0,23.0,27.0,19.0,17.0,21.0,15.0,11.0,12.0,13.0,16.0,5.0,21.0,19.0,14.0,18.0,10.0,19.0,6.0,24.0,10.0,22.0,4.0,29.0,2.0,11.0,1.0,14.0,11.0,11.0,7.0],\"xaxis\":\"x\",\"yaxis\":\"y\",\"type\":\"histogram\"}],                        {\"template\":{\"data\":{\"histogram2dcontour\":[{\"type\":\"histogram2dcontour\",\"colorbar\":{\"outlinewidth\":0,\"ticks\":\"\"},\"colorscale\":[[0.0,\"#0d0887\"],[0.1111111111111111,\"#46039f\"],[0.2222222222222222,\"#7201a8\"],[0.3333333333333333,\"#9c179e\"],[0.4444444444444444,\"#bd3786\"],[0.5555555555555556,\"#d8576b\"],[0.6666666666666666,\"#ed7953\"],[0.7777777777777778,\"#fb9f3a\"],[0.8888888888888888,\"#fdca26\"],[1.0,\"#f0f921\"]]}],\"choropleth\":[{\"type\":\"choropleth\",\"colorbar\":{\"outlinewidth\":0,\"ticks\":\"\"}}],\"histogram2d\":[{\"type\":\"histogram2d\",\"colorbar\":{\"outlinewidth\":0,\"ticks\":\"\"},\"colorscale\":[[0.0,\"#0d0887\"],[0.1111111111111111,\"#46039f\"],[0.2222222222222222,\"#7201a8\"],[0.3333333333333333,\"#9c179e\"],[0.4444444444444444,\"#bd3786\"],[0.5555555555555556,\"#d8576b\"],[0.6666666666666666,\"#ed7953\"],[0.7777777777777778,\"#fb9f3a\"],[0.8888888888888888,\"#fdca26\"],[1.0,\"#f0f921\"]]}],\"heatmap\":[{\"type\":\"heatmap\",\"colorbar\":{\"outlinewidth\":0,\"ticks\":\"\"},\"colorscale\":[[0.0,\"#0d0887\"],[0.1111111111111111,\"#46039f\"],[0.2222222222222222,\"#7201a8\"],[0.3333333333333333,\"#9c179e\"],[0.4444444444444444,\"#bd3786\"],[0.5555555555555556,\"#d8576b\"],[0.6666666666666666,\"#ed7953\"],[0.7777777777777778,\"#fb9f3a\"],[0.8888888888888888,\"#fdca26\"],[1.0,\"#f0f921\"]]}],\"heatmapgl\":[{\"type\":\"heatmapgl\",\"colorbar\":{\"outlinewidth\":0,\"ticks\":\"\"},\"colorscale\":[[0.0,\"#0d0887\"],[0.1111111111111111,\"#46039f\"],[0.2222222222222222,\"#7201a8\"],[0.3333333333333333,\"#9c179e\"],[0.4444444444444444,\"#bd3786\"],[0.5555555555555556,\"#d8576b\"],[0.6666666666666666,\"#ed7953\"],[0.7777777777777778,\"#fb9f3a\"],[0.8888888888888888,\"#fdca26\"],[1.0,\"#f0f921\"]]}],\"contourcarpet\":[{\"type\":\"contourcarpet\",\"colorbar\":{\"outlinewidth\":0,\"ticks\":\"\"}}],\"contour\":[{\"type\":\"contour\",\"colorbar\":{\"outlinewidth\":0,\"ticks\":\"\"},\"colorscale\":[[0.0,\"#0d0887\"],[0.1111111111111111,\"#46039f\"],[0.2222222222222222,\"#7201a8\"],[0.3333333333333333,\"#9c179e\"],[0.4444444444444444,\"#bd3786\"],[0.5555555555555556,\"#d8576b\"],[0.6666666666666666,\"#ed7953\"],[0.7777777777777778,\"#fb9f3a\"],[0.8888888888888888,\"#fdca26\"],[1.0,\"#f0f921\"]]}],\"surface\":[{\"type\":\"surface\",\"colorbar\":{\"outlinewidth\":0,\"ticks\":\"\"},\"colorscale\":[[0.0,\"#0d0887\"],[0.1111111111111111,\"#46039f\"],[0.2222222222222222,\"#7201a8\"],[0.3333333333333333,\"#9c179e\"],[0.4444444444444444,\"#bd3786\"],[0.5555555555555556,\"#d8576b\"],[0.6666666666666666,\"#ed7953\"],[0.7777777777777778,\"#fb9f3a\"],[0.8888888888888888,\"#fdca26\"],[1.0,\"#f0f921\"]]}],\"mesh3d\":[{\"type\":\"mesh3d\",\"colorbar\":{\"outlinewidth\":0,\"ticks\":\"\"}}],\"scatter\":[{\"fillpattern\":{\"fillmode\":\"overlay\",\"size\":10,\"solidity\":0.2},\"type\":\"scatter\"}],\"parcoords\":[{\"type\":\"parcoords\",\"line\":{\"colorbar\":{\"outlinewidth\":0,\"ticks\":\"\"}}}],\"scatterpolargl\":[{\"type\":\"scatterpolargl\",\"marker\":{\"colorbar\":{\"outlinewidth\":0,\"ticks\":\"\"}}}],\"bar\":[{\"error_x\":{\"color\":\"#2a3f5f\"},\"error_y\":{\"color\":\"#2a3f5f\"},\"marker\":{\"line\":{\"color\":\"#E5ECF6\",\"width\":0.5},\"pattern\":{\"fillmode\":\"overlay\",\"size\":10,\"solidity\":0.2}},\"type\":\"bar\"}],\"scattergeo\":[{\"type\":\"scattergeo\",\"marker\":{\"colorbar\":{\"outlinewidth\":0,\"ticks\":\"\"}}}],\"scatterpolar\":[{\"type\":\"scatterpolar\",\"marker\":{\"colorbar\":{\"outlinewidth\":0,\"ticks\":\"\"}}}],\"histogram\":[{\"marker\":{\"pattern\":{\"fillmode\":\"overlay\",\"size\":10,\"solidity\":0.2}},\"type\":\"histogram\"}],\"scattergl\":[{\"type\":\"scattergl\",\"marker\":{\"colorbar\":{\"outlinewidth\":0,\"ticks\":\"\"}}}],\"scatter3d\":[{\"type\":\"scatter3d\",\"line\":{\"colorbar\":{\"outlinewidth\":0,\"ticks\":\"\"}},\"marker\":{\"colorbar\":{\"outlinewidth\":0,\"ticks\":\"\"}}}],\"scattermapbox\":[{\"type\":\"scattermapbox\",\"marker\":{\"colorbar\":{\"outlinewidth\":0,\"ticks\":\"\"}}}],\"scatterternary\":[{\"type\":\"scatterternary\",\"marker\":{\"colorbar\":{\"outlinewidth\":0,\"ticks\":\"\"}}}],\"scattercarpet\":[{\"type\":\"scattercarpet\",\"marker\":{\"colorbar\":{\"outlinewidth\":0,\"ticks\":\"\"}}}],\"carpet\":[{\"aaxis\":{\"endlinecolor\":\"#2a3f5f\",\"gridcolor\":\"white\",\"linecolor\":\"white\",\"minorgridcolor\":\"white\",\"startlinecolor\":\"#2a3f5f\"},\"baxis\":{\"endlinecolor\":\"#2a3f5f\",\"gridcolor\":\"white\",\"linecolor\":\"white\",\"minorgridcolor\":\"white\",\"startlinecolor\":\"#2a3f5f\"},\"type\":\"carpet\"}],\"table\":[{\"cells\":{\"fill\":{\"color\":\"#EBF0F8\"},\"line\":{\"color\":\"white\"}},\"header\":{\"fill\":{\"color\":\"#C8D4E3\"},\"line\":{\"color\":\"white\"}},\"type\":\"table\"}],\"barpolar\":[{\"marker\":{\"line\":{\"color\":\"#E5ECF6\",\"width\":0.5},\"pattern\":{\"fillmode\":\"overlay\",\"size\":10,\"solidity\":0.2}},\"type\":\"barpolar\"}],\"pie\":[{\"automargin\":true,\"type\":\"pie\"}]},\"layout\":{\"autotypenumbers\":\"strict\",\"colorway\":[\"#636efa\",\"#EF553B\",\"#00cc96\",\"#ab63fa\",\"#FFA15A\",\"#19d3f3\",\"#FF6692\",\"#B6E880\",\"#FF97FF\",\"#FECB52\"],\"font\":{\"color\":\"#2a3f5f\"},\"hovermode\":\"closest\",\"hoverlabel\":{\"align\":\"left\"},\"paper_bgcolor\":\"white\",\"plot_bgcolor\":\"#E5ECF6\",\"polar\":{\"bgcolor\":\"#E5ECF6\",\"angularaxis\":{\"gridcolor\":\"white\",\"linecolor\":\"white\",\"ticks\":\"\"},\"radialaxis\":{\"gridcolor\":\"white\",\"linecolor\":\"white\",\"ticks\":\"\"}},\"ternary\":{\"bgcolor\":\"#E5ECF6\",\"aaxis\":{\"gridcolor\":\"white\",\"linecolor\":\"white\",\"ticks\":\"\"},\"baxis\":{\"gridcolor\":\"white\",\"linecolor\":\"white\",\"ticks\":\"\"},\"caxis\":{\"gridcolor\":\"white\",\"linecolor\":\"white\",\"ticks\":\"\"}},\"coloraxis\":{\"colorbar\":{\"outlinewidth\":0,\"ticks\":\"\"}},\"colorscale\":{\"sequential\":[[0.0,\"#0d0887\"],[0.1111111111111111,\"#46039f\"],[0.2222222222222222,\"#7201a8\"],[0.3333333333333333,\"#9c179e\"],[0.4444444444444444,\"#bd3786\"],[0.5555555555555556,\"#d8576b\"],[0.6666666666666666,\"#ed7953\"],[0.7777777777777778,\"#fb9f3a\"],[0.8888888888888888,\"#fdca26\"],[1.0,\"#f0f921\"]],\"sequentialminus\":[[0.0,\"#0d0887\"],[0.1111111111111111,\"#46039f\"],[0.2222222222222222,\"#7201a8\"],[0.3333333333333333,\"#9c179e\"],[0.4444444444444444,\"#bd3786\"],[0.5555555555555556,\"#d8576b\"],[0.6666666666666666,\"#ed7953\"],[0.7777777777777778,\"#fb9f3a\"],[0.8888888888888888,\"#fdca26\"],[1.0,\"#f0f921\"]],\"diverging\":[[0,\"#8e0152\"],[0.1,\"#c51b7d\"],[0.2,\"#de77ae\"],[0.3,\"#f1b6da\"],[0.4,\"#fde0ef\"],[0.5,\"#f7f7f7\"],[0.6,\"#e6f5d0\"],[0.7,\"#b8e186\"],[0.8,\"#7fbc41\"],[0.9,\"#4d9221\"],[1,\"#276419\"]]},\"xaxis\":{\"gridcolor\":\"white\",\"linecolor\":\"white\",\"ticks\":\"\",\"title\":{\"standoff\":15},\"zerolinecolor\":\"white\",\"automargin\":true,\"zerolinewidth\":2},\"yaxis\":{\"gridcolor\":\"white\",\"linecolor\":\"white\",\"ticks\":\"\",\"title\":{\"standoff\":15},\"zerolinecolor\":\"white\",\"automargin\":true,\"zerolinewidth\":2},\"scene\":{\"xaxis\":{\"backgroundcolor\":\"#E5ECF6\",\"gridcolor\":\"white\",\"linecolor\":\"white\",\"showbackground\":true,\"ticks\":\"\",\"zerolinecolor\":\"white\",\"gridwidth\":2},\"yaxis\":{\"backgroundcolor\":\"#E5ECF6\",\"gridcolor\":\"white\",\"linecolor\":\"white\",\"showbackground\":true,\"ticks\":\"\",\"zerolinecolor\":\"white\",\"gridwidth\":2},\"zaxis\":{\"backgroundcolor\":\"#E5ECF6\",\"gridcolor\":\"white\",\"linecolor\":\"white\",\"showbackground\":true,\"ticks\":\"\",\"zerolinecolor\":\"white\",\"gridwidth\":2}},\"shapedefaults\":{\"line\":{\"color\":\"#2a3f5f\"}},\"annotationdefaults\":{\"arrowcolor\":\"#2a3f5f\",\"arrowhead\":0,\"arrowwidth\":1},\"geo\":{\"bgcolor\":\"white\",\"landcolor\":\"#E5ECF6\",\"subunitcolor\":\"white\",\"showland\":true,\"showlakes\":true,\"lakecolor\":\"white\"},\"title\":{\"x\":0.05},\"mapbox\":{\"style\":\"light\"}}},\"xaxis\":{\"anchor\":\"y\",\"domain\":[0.0,1.0],\"title\":{\"text\":\"Regional_Node_Examined\"}},\"yaxis\":{\"anchor\":\"x\",\"domain\":[0.0,1.0],\"title\":{\"text\":\"count\"}},\"legend\":{\"tracegroupgap\":0},\"margin\":{\"t\":60},\"barmode\":\"relative\"},                        {\"responsive\": true}                    ).then(function(){\n",
              "                            \n",
              "var gd = document.getElementById('c4442e6a-bfc7-4742-a328-c9faa9fb61a6');\n",
              "var x = new MutationObserver(function (mutations, observer) {{\n",
              "        var display = window.getComputedStyle(gd).display;\n",
              "        if (!display || display === 'none') {{\n",
              "            console.log([gd, 'removed!']);\n",
              "            Plotly.purge(gd);\n",
              "            observer.disconnect();\n",
              "        }}\n",
              "}});\n",
              "\n",
              "// Listen for the removal of the full notebook cells\n",
              "var notebookContainer = gd.closest('#notebook-container');\n",
              "if (notebookContainer) {{\n",
              "    x.observe(notebookContainer, {childList: true});\n",
              "}}\n",
              "\n",
              "// Listen for the clearing of the current output cell\n",
              "var outputEl = gd.closest('.output');\n",
              "if (outputEl) {{\n",
              "    x.observe(outputEl, {childList: true});\n",
              "}}\n",
              "\n",
              "                        })                };                            </script>        </div>\n",
              "</body>\n",
              "</html>"
            ]
          },
          "metadata": {}
        },
        {
          "output_type": "display_data",
          "data": {
            "text/html": [
              "<html>\n",
              "<head><meta charset=\"utf-8\" /></head>\n",
              "<body>\n",
              "    <div>            <script src=\"https://cdnjs.cloudflare.com/ajax/libs/mathjax/2.7.5/MathJax.js?config=TeX-AMS-MML_SVG\"></script><script type=\"text/javascript\">if (window.MathJax && window.MathJax.Hub && window.MathJax.Hub.Config) {window.MathJax.Hub.Config({SVG: {font: \"STIX-Web\"}});}</script>                <script type=\"text/javascript\">window.PlotlyConfig = {MathJaxConfig: 'local'};</script>\n",
              "        <script charset=\"utf-8\" src=\"https://cdn.plot.ly/plotly-2.35.2.min.js\"></script>                <div id=\"b5ced695-a694-4825-9cfd-aac2ea220a66\" class=\"plotly-graph-div\" style=\"height:525px; width:100%;\"></div>            <script type=\"text/javascript\">                                    window.PLOTLYENV=window.PLOTLYENV || {};                                    if (document.getElementById(\"b5ced695-a694-4825-9cfd-aac2ea220a66\")) {                    Plotly.newPlot(                        \"b5ced695-a694-4825-9cfd-aac2ea220a66\",                        [{\"hovertemplate\":\"Regional_Node_Examined=%{x}\\u003cbr\\u003eindex=%{y}\\u003cextra\\u003e\\u003c\\u002fextra\\u003e\",\"legendgroup\":\"\",\"marker\":{\"color\":\"#636efa\",\"symbol\":\"circle\"},\"mode\":\"markers\",\"name\":\"\",\"showlegend\":false,\"x\":[24.0,14.0,14.0,2.0,3.0,18.0,11.0,9.0,21.0,9.0,11.0,13.0,23.0,16.0,20.0,1.0,22.0,16.0,20.0,15.0,15.0,4.0,18.0,26.0,31.0,25.0,14.0,14.0,10.0,3.0,5.0,6.0,19.0,19.0,9.0,21.0,14.0,10.0,15.0,12.0,12.0,2.0,15.0,11.0,10.0,15.0,12.0,16.0,8.0,17.0,9.0,16.0,13.0,19.0,49.0,15.0,17.0,24.0,12.0,1.0,16.0,5.0,23.0,20.0,5.0,12.0,24.0,16.0,15.0,19.0,13.0,11.0,7.0,9.0,9.0,21.0,10.0,9.0,2.0,13.0,12.0,11.0,9.0,8.0,15.0,5.0,21.0,12.0,17.0,4.0,10.0,3.0,14.0,33.0,25.0,3.0,7.0,14.0,2.0,11.0,12.0,8.0,30.0,15.0,3.0,34.0,14.0,6.0,12.0,16.0,15.0,15.0,7.0,15.0,16.0,23.0,23.0,16.0,13.0,3.0,8.0,13.0,14.0,10.0,8.0,5.0,8.0,28.0,12.0,20.0,14.0,18.0,4.0,13.0,23.0,20.0,15.0,18.0,1.0,13.0,18.0,14.0,15.0,14.0,14.0,15.0,6.0,2.0,14.0,18.0,3.0,2.0,20.0,16.0,3.0,12.0,24.0,8.0,14.0,20.0,11.0,9.0,9.0,24.0,11.0,17.0,7.0,31.0,11.0,32.0,23.0,3.0,15.0,14.0,3.0,14.0,34.0,14.0,12.0,2.0,19.0,5.0,5.0,16.0,10.0,22.0,11.0,14.0,16.0,1.0,17.0,2.0,6.0,24.0,18.0,12.0,6.0,17.0,9.0,10.0,12.0,17.0,4.0,20.0,18.0,9.0,2.0,27.0,20.0,42.0,9.0,15.0,19.0,7.0,22.0,2.0,15.0,26.0,26.0,12.0,8.0,29.0,30.0,9.0,18.0,15.0,18.0,9.0,18.0,15.0,11.0,6.0,5.0,2.0,13.0,20.0,13.0,7.0,20.0,12.0,11.0,9.0,9.0,3.0,33.0,3.0,33.0,3.0,4.0,20.0,13.0,20.0,18.0,9.0,11.0,2.0,14.0,14.0,16.0,12.0,18.0,12.0,14.0,7.0,13.0,12.0,30.0,39.0,17.0,11.0,19.0,14.0,10.0,1.0,11.0,21.0,13.0,18.0,23.0,30.0,46.0,25.0,22.0,10.0,4.0,19.0,4.0,15.0,14.0,27.0,12.0,4.0,14.0,12.0,18.0,15.0,19.0,16.0,15.0,14.0,1.0,9.0,10.0,24.0,19.0,6.0,19.0,13.0,11.0,4.0,19.0,13.0,12.0,19.0,17.0,9.0,23.0,12.0,5.0,16.0,29.0,17.0,24.0,16.0,6.0,7.0,1.0,18.0,23.0,5.0,3.0,20.0,10.0,23.0,2.0,11.0,16.0,19.0,14.0,12.0,30.0,2.0,24.0,26.0,14.0,16.0,18.0,5.0,6.0,17.0,11.0,22.0,3.0,16.0,10.0,14.0,7.0,20.0,14.0,21.0,18.0,40.0,20.0,14.0,6.0,18.0,8.0,31.0,14.0,7.0,13.0,20.0,12.0,9.0,1.0,9.0,7.0,19.0,3.0,9.0,9.0,2.0,7.0,20.0,39.0,7.0,27.0,17.0,10.0,8.0,8.0,14.0,11.0,10.0,10.0,11.0,25.0,1.0,9.0,15.0,19.0,9.0,2.0,25.0,5.0,21.0,10.0,29.0,20.0,3.0,26.0,11.0,14.0,2.0,2.0,17.0,9.0,14.0,19.0,20.0,16.0,13.0,10.0,6.0,18.0,18.0,11.0,7.0,11.0,3.0,4.0,12.0,12.0,9.0,3.0,4.0,16.0,7.0,32.0,28.0,9.0,17.0,6.0,25.0,1.0,23.0,9.0,18.0,17.0,18.0,51.0,15.0,7.0,10.0,18.0,23.0,23.0,16.0,19.0,20.0,24.0,15.0,5.0,4.0,22.0,12.0,9.0,15.0,12.0,14.0,17.0,9.0,13.0,13.0,15.0,13.0,28.0,14.0,13.0,13.0,11.0,33.0,21.0,1.0,2.0,16.0,3.0,38.0,14.0,18.0,16.0,17.0,24.0,18.0,7.0,21.0,23.0,13.0,3.0,9.0,33.0,5.0,15.0,16.0,22.0,20.0,47.0,15.0,13.0,17.0,14.0,1.0,22.0,9.0,14.0,15.0,11.0,19.0,1.0,2.0,14.0,9.0,27.0,18.0,24.0,16.0,25.0,9.0,26.0,31.0,14.0,16.0,14.0,14.0,5.0,13.0,14.0,19.0,11.0,29.0,19.0,11.0,10.0,12.0,29.0,4.0,15.0,13.0,10.0,4.0,13.0,15.0,18.0,3.0,16.0,27.0,22.0,7.0,16.0,15.0,10.0,15.0,6.0,17.0,8.0,8.0,13.0,8.0,10.0,2.0,5.0,11.0,6.0,23.0,1.0,15.0,24.0,8.0,17.0,4.0,15.0,13.0,2.0,18.0,54.0,28.0,2.0,6.0,1.0,2.0,2.0,13.0,5.0,14.0,27.0,28.0,11.0,18.0,17.0,12.0,31.0,2.0,24.0,3.0,7.0,26.0,3.0,28.0,24.0,11.0,21.0,14.0,7.0,39.0,19.0,1.0,8.0,16.0,19.0,28.0,12.0,19.0,4.0,19.0,12.0,23.0,17.0,17.0,13.0,10.0,13.0,14.0,22.0,11.0,9.0,18.0,32.0,12.0,13.0,8.0,19.0,16.0,32.0,20.0,14.0,8.0,18.0,27.0,26.0,19.0,12.0,36.0,19.0,12.0,27.0,21.0,2.0,15.0,2.0,16.0,26.0,19.0,14.0,2.0,11.0,4.0,8.0,4.0,14.0,20.0,20.0,14.0,27.0,29.0,24.0,5.0,7.0,22.0,17.0,8.0,22.0,16.0,23.0,10.0,12.0,16.0,26.0,15.0,11.0,9.0,1.0,8.0,9.0,21.0,26.0,25.0,2.0,13.0,10.0,23.0,10.0,6.0,33.0,10.0,19.0,5.0,13.0,13.0,31.0,3.0,6.0,2.0,24.0,19.0,17.0,2.0,11.0,19.0,17.0,12.0,7.0,18.0,15.0,20.0,16.0,10.0,2.0,6.0,10.0,30.0,9.0,11.0,18.0,3.0,2.0,15.0,38.0,2.0,9.0,15.0,2.0,11.0,14.0,1.0,25.0,18.0,15.0,27.0,19.0,6.0,17.0,1.0,6.0,14.0,12.0,9.0,14.0,13.0,5.0,20.0,13.0,29.0,21.0,2.0,1.0,9.0,2.0,1.0,20.0,19.0,26.0,24.0,14.0,6.0,17.0,5.0,1.0,14.0,26.0,3.0,23.0,5.0,7.0,36.0,15.0,19.0,31.0,16.0,12.0,19.0,20.0,10.0,12.0,17.0,5.0,9.0,19.0,3.0,4.0,25.0,6.0,32.0,15.0,16.0,31.0,16.0,7.0,21.0,18.0,15.0,20.0,10.0,31.0,13.0,3.0,3.0,17.0,6.0,17.0,16.0,10.0,16.0,25.0,15.0,6.0,17.0,6.0,18.0,25.0,10.0,10.0,28.0,10.0,25.0,20.0,9.0,32.0,25.0,4.0,12.0,3.0,11.0,7.0,9.0,24.0,9.0,2.0,32.0,13.0,18.0,4.0,18.0,7.0,19.0,3.0,13.0,19.0,19.0,18.0,8.0,26.0,10.0,5.0,1.0,23.0,10.0,11.0,16.0,12.0,15.0,13.0,3.0,14.0,23.0,61.0,7.0,1.0,23.0,26.0,10.0,11.0,14.0,15.0,16.0,10.0,10.0,8.0,5.0,34.0,16.0,11.0,22.0,23.0,2.0,15.0,11.0,32.0,21.0,12.0,14.0,19.0,10.0,14.0,9.0,9.0,20.0,5.0,10.0,32.0,2.0,9.0,13.0,17.0,2.0,26.0,9.0,41.0,17.0,18.0,10.0,8.0,11.0,26.0,21.0,9.0,20.0,22.0,3.0,19.0,22.0,8.0,23.0,13.0,5.0,17.0,16.0,15.0,20.0,24.0,10.0,17.0,3.0,23.0,16.0,17.0,17.0,18.0,17.0,6.0,17.0,16.0,15.0,20.0,60.0,6.0,18.0,15.0,29.0,18.0,18.0,2.0,6.0,18.0,13.0,6.0,30.0,23.0,25.0,9.0,19.0,10.0,17.0,9.0,10.0,13.0,8.0,14.0,15.0,17.0,23.0,7.0,16.0,10.0,10.0,24.0,7.0,19.0,25.0,19.0,19.0,27.0,19.0,18.0,9.0,16.0,22.0,12.0,16.0,23.0,29.0,5.0,13.0,26.0,4.0,5.0,9.0,30.0,26.0,12.0,15.0,4.0,12.0,1.0,28.0,15.0,22.0,33.0,28.0,23.0,23.0,18.0,9.0,6.0,10.0,15.0,11.0,15.0,21.0,10.0,1.0,18.0,14.0,22.0,11.0,20.0,16.0,10.0,12.0,11.0,8.0,2.0,26.0,10.0,16.0,16.0,30.0,2.0,11.0,11.0,6.0,4.0,4.0,37.0,2.0,17.0,4.0,23.0,2.0,10.0,11.0,10.0,14.0,10.0,21.0,12.0,13.0,17.0,9.0,16.0,13.0,22.0,11.0,1.0,18.0,8.0,11.0,14.0,14.0,18.0,10.0,4.0,9.0,12.0,17.0,10.0,21.0,16.0,13.0,23.0,8.0,8.0,20.0,7.0,12.0,3.0,6.0,13.0,13.0,22.0,4.0,5.0,23.0,4.0,18.0,21.0,13.0,7.0,14.0,12.0,20.0,3.0,12.0,9.0,22.0,21.0,2.0,1.0,13.0,5.0,28.0,15.0,12.0,19.0,9.0,8.0,16.0,9.0,17.0,9.0,14.0,18.0,28.0,18.0,12.0,2.0,9.0,15.0,16.0,26.0,15.0,8.0,18.0,15.0,10.0,3.0,13.0,3.0,6.0,8.0,7.0,19.0,13.0,25.0,5.0,9.0,5.0,16.0,4.0,14.0,11.0,14.0,14.0,3.0,16.0,18.0,26.0,10.0,20.0,10.0,5.0,3.0,4.0,11.0,15.0,27.0,2.0,19.0,22.0,5.0,20.0,20.0,4.0,3.0,16.0,21.0,17.0,36.0,5.0,15.0,8.0,9.0,15.0,2.0,10.0,10.0,8.0,26.0,21.0,14.0,14.0,18.0,10.0,4.0,10.0,12.0,32.0,13.0,6.0,13.0,13.0,12.0,6.0,11.0,20.0,21.0,18.0,28.0,14.0,3.0,22.0,2.0,13.0,21.0,22.0,16.0,13.0,16.0,5.0,1.0,1.0,4.0,32.0,16.0,13.0,24.0,28.0,30.0,16.0,3.0,8.0,2.0,6.0,9.0,2.0,16.0,10.0,13.0,1.0,23.0,26.0,21.0,4.0,13.0,13.0,14.0,30.0,5.0,3.0,18.0,14.0,15.0,14.0,7.0,14.0,11.0,20.0,16.0,17.0,11.0,13.0,4.0,5.0,13.0,16.0,8.0,14.0,4.0,9.0,6.0,21.0,13.0,15.0,14.0,15.0,18.0,24.0,4.0,20.0,16.0,19.0,21.0,13.0,15.0,29.0,8.0,15.0,15.0,24.0,16.0,21.0,28.0,9.0,14.0,10.0,3.0,10.0,1.0,34.0,1.0,9.0,23.0,4.0,1.0,13.0,9.0,6.0,15.0,14.0,8.0,18.0,11.0,27.0,7.0,13.0,9.0,14.0,13.0,15.0,15.0,14.0,17.0,16.0,14.0,3.0,13.0,13.0,28.0,20.0,5.0,28.0,23.0,3.0,12.0,23.0,14.0,17.0,14.0,24.0,27.0,21.0,16.0,19.0,11.0,23.0,3.0,3.0,10.0,8.0,14.0,11.0,9.0,13.0,25.0,13.0,12.0,13.0,2.0,13.0,14.0,36.0,21.0,24.0,4.0,7.0,3.0,11.0,27.0,13.0,29.0,6.0,17.0,11.0,31.0,13.0,12.0,12.0,3.0,17.0,19.0,5.0,12.0,9.0,15.0,23.0,9.0,23.0,2.0,5.0,12.0,17.0,17.0,12.0,16.0,13.0,11.0,25.0,20.0,15.0,9.0,11.0,26.0,13.0,20.0,12.0,13.0,21.0,20.0,9.0,13.0,4.0,3.0,16.0,27.0,14.0,15.0,16.0,40.0,17.0,22.0,19.0,1.0,32.0,3.0,2.0,10.0,15.0,1.0,20.0,16.0,2.0,21.0,11.0,16.0,31.0,14.0,14.0,16.0,16.0,10.0,15.0,12.0,19.0,7.0,5.0,4.0,10.0,25.0,16.0,4.0,20.0,17.0,6.0,11.0,47.0,24.0,15.0,9.0,17.0,12.0,16.0,29.0,4.0,11.0,13.0,4.0,16.0,9.0,17.0,18.0,28.0,9.0,11.0,9.0,43.0,9.0,7.0,9.0,32.0,9.0,20.0,5.0,11.0,24.0,6.0,39.0,18.0,8.0,16.0,8.0,14.0,26.0,18.0,25.0,13.0,17.0,8.0,13.0,22.0,10.0,10.0,9.0,18.0,21.0,22.0,20.0,8.0,24.0,18.0,11.0,7.0,19.0,20.0,23.0,25.0,9.0,9.0,49.0,9.0,7.0,7.0,18.0,11.0,6.0,16.0,17.0,4.0,17.0,11.0,4.0,25.0,25.0,27.0,19.0,18.0,21.0,16.0,12.0,26.0,15.0,16.0,12.0,18.0,23.0,27.0,18.0,8.0,8.0,9.0,16.0,17.0,18.0,4.0,17.0,20.0,20.0,13.0,4.0,24.0,6.0,29.0,1.0,18.0,6.0,25.0,18.0,7.0,12.0,14.0,6.0,13.0,13.0,20.0,5.0,15.0,21.0,13.0,3.0,19.0,12.0,19.0,10.0,5.0,15.0,16.0,20.0,13.0,7.0,13.0,7.0,20.0,26.0,9.0,6.0,21.0,10.0,6.0,22.0,16.0,21.0,3.0,25.0,16.0,19.0,11.0,19.0,6.0,24.0,13.0,20.0,18.0,2.0,27.0,15.0,11.0,11.0,8.0,24.0,8.0,10.0,21.0,6.0,11.0,23.0,1.0,5.0,2.0,27.0,1.0,21.0,11.0,16.0,20.0,8.0,19.0,9.0,15.0,24.0,14.0,26.0,16.0,18.0,17.0,14.0,9.0,20.0,15.0,2.0,11.0,14.0,10.0,12.0,27.0,15.0,16.0,1.0,15.0,4.0,15.0,23.0,16.0,6.0,9.0,14.0,9.0,13.0,3.0,16.0,9.0,16.0,10.0,16.0,26.0,16.0,10.0,29.0,21.0,25.0,9.0,12.0,24.0,2.0,17.0,10.0,19.0,5.0,6.0,13.0,13.0,6.0,8.0,11.0,3.0,29.0,11.0,1.0,7.0,1.0,4.0,34.0,7.0,3.0,5.0,17.0,15.0,18.0,15.0,6.0,10.0,9.0,20.0,9.0,11.0,9.0,18.0,1.0,14.0,6.0,22.0,8.0,15.0,15.0,8.0,11.0,23.0,14.0,28.0,6.0,8.0,11.0,8.0,19.0,20.0,3.0,10.0,16.0,4.0,9.0,24.0,4.0,12.0,10.0,6.0,12.0,13.0,25.0,18.0,12.0,16.0,14.0,4.0,15.0,13.0,13.0,20.0,8.0,35.0,18.0,15.0,12.0,1.0,16.0,12.0,23.0,16.0,24.0,14.0,24.0,10.0,17.0,9.0,30.0,13.0,23.0,15.0,20.0,1.0,8.0,19.0,16.0,27.0,15.0,9.0,9.0,25.0,2.0,9.0,7.0,18.0,19.0,13.0,8.0,9.0,6.0,14.0,15.0,19.0,16.0,23.0,2.0,3.0,17.0,1.0,20.0,5.0,1.0,27.0,15.0,23.0,3.0,13.0,10.0,14.0,15.0,18.0,25.0,21.0,14.0,11.0,17.0,13.0,10.0,13.0,15.0,18.0,13.0,12.0,11.0,20.0,22.0,11.0,13.0,8.0,17.0,12.0,11.0,2.0,11.0,10.0,18.0,14.0,19.0,21.0,14.0,3.0,3.0,13.0,17.0,6.0,24.0,14.0,24.0,17.0,17.0,12.0,15.0,4.0,9.0,29.0,18.0,5.0,3.0,18.0,19.0,21.0,12.0,10.0,17.0,7.0,18.0,4.0,7.0,17.0,8.0,22.0,2.0,4.0,16.0,30.0,7.0,13.0,16.0,1.0,7.0,14.0,25.0,9.0,12.0,14.0,15.0,1.0,22.0,17.0,7.0,6.0,24.0,5.0,13.0,17.0,15.0,7.0,21.0,25.0,17.0,16.0,13.0,8.0,33.0,24.0,28.0,24.0,13.0,22.0,33.0,14.0,12.0,19.0,13.0,26.0,3.0,12.0,14.0,15.0,15.0,12.0,4.0,3.0,9.0,41.0,16.0,8.0,13.0,17.0,3.0,19.0,1.0,21.0,2.0,16.0,6.0,4.0,11.0,13.0,26.0,23.0,11.0,10.0,22.0,14.0,8.0,4.0,3.0,17.0,2.0,23.0,3.0,13.0,19.0,14.0,23.0,8.0,13.0,24.0,11.0,11.0,17.0,2.0,21.0,16.0,15.0,9.0,2.0,17.0,14.0,20.0,16.0,27.0,13.0,29.0,10.0,24.0,19.0,14.0,14.0,9.0,19.0,19.0,7.0,20.0,16.0,13.0,16.0,11.0,19.0,5.0,36.0,11.0,20.0,5.0,5.0,28.0,52.0,7.0,23.0,9.0,11.0,13.0,15.0,41.0,15.0,1.0,23.0,8.0,26.0,12.0,20.0,12.0,3.0,16.0,2.0,23.0,16.0,11.0,37.0,14.0,15.0,15.0,34.0,8.0,7.0,27.0,22.0,3.0,21.0,1.0,10.0,13.0,7.0,11.0,10.0,23.0,2.0,24.0,14.0,41.0,17.0,9.0,12.0,1.0,28.0,9.0,13.0,8.0,22.0,3.0,23.0,18.0,2.0,12.0,15.0,16.0,18.0,19.0,17.0,10.0,2.0,5.0,2.0,10.0,8.0,14.0,2.0,19.0,17.0,12.0,35.0,7.0,19.0,21.0,2.0,13.0,4.0,1.0,16.0,2.0,1.0,22.0,23.0,25.0,9.0,10.0,11.0,20.0,24.0,14.0,15.0,15.0,7.0,16.0,13.0,45.0,17.0,16.0,12.0,9.0,36.0,3.0,20.0,14.0,18.0,22.0,31.0,17.0,12.0,11.0,12.0,16.0,8.0,1.0,1.0,11.0,18.0,4.0,15.0,1.0,10.0,22.0,26.0,29.0,18.0,13.0,4.0,18.0,9.0,21.0,13.0,13.0,18.0,21.0,26.0,10.0,2.0,12.0,13.0,12.0,35.0,4.0,23.0,12.0,1.0,10.0,12.0,32.0,6.0,15.0,20.0,6.0,17.0,18.0,9.0,15.0,2.0,6.0,16.0,18.0,10.0,13.0,14.0,16.0,14.0,10.0,14.0,20.0,35.0,12.0,12.0,13.0,14.0,2.0,21.0,32.0,8.0,3.0,10.0,23.0,15.0,14.0,15.0,16.0,4.0,16.0,14.0,17.0,5.0,16.0,13.0,12.0,14.0,31.0,8.0,27.0,15.0,32.0,9.0,21.0,18.0,15.0,18.0,18.0,22.0,16.0,9.0,20.0,20.0,4.0,5.0,6.0,28.0,1.0,2.0,9.0,35.0,23.0,16.0,16.0,15.0,16.0,10.0,6.0,17.0,14.0,8.0,17.0,18.0,12.0,28.0,18.0,23.0,32.0,17.0,1.0,20.0,17.0,13.0,7.0,9.0,10.0,5.0,16.0,9.0,11.0,30.0,9.0,19.0,9.0,5.0,8.0,21.0,8.0,18.0,16.0,13.0,1.0,3.0,9.0,13.0,12.0,21.0,30.0,17.0,11.0,3.0,7.0,12.0,11.0,11.0,2.0,10.0,8.0,8.0,7.0,28.0,27.0,24.0,4.0,15.0,2.0,9.0,14.0,28.0,13.0,2.0,13.0,10.0,11.0,21.0,19.0,30.0,8.0,20.0,2.0,14.0,43.0,8.0,57.0,14.0,5.0,16.0,16.0,12.0,13.0,21.0,9.0,6.0,17.0,5.0,19.0,9.0,8.0,14.0,12.0,16.0,28.0,19.0,14.0,18.0,14.0,22.0,13.0,22.0,19.0,16.0,12.0,9.0,15.0,30.0,13.0,10.0,8.0,21.0,12.0,3.0,8.0,11.0,15.0,26.0,20.0,10.0,25.0,5.0,19.0,19.0,13.0,15.0,8.0,10.0,9.0,15.0,10.0,4.0,17.0,8.0,4.0,26.0,11.0,16.0,25.0,13.0,11.0,14.0,16.0,9.0,13.0,8.0,13.0,13.0,6.0,13.0,5.0,7.0,2.0,21.0,23.0,26.0,1.0,13.0,6.0,16.0,18.0,20.0,17.0,19.0,1.0,25.0,12.0,25.0,10.0,17.0,10.0,4.0,18.0,25.0,17.0,9.0,28.0,13.0,2.0,17.0,18.0,24.0,8.0,21.0,12.0,15.0,24.0,5.0,9.0,14.0,17.0,26.0,6.0,17.0,12.0,15.0,12.0,8.0,14.0,16.0,7.0,10.0,16.0,13.0,1.0,14.0,9.0,22.0,12.0,37.0,9.0,12.0,2.0,36.0,11.0,19.0,12.0,12.0,28.0,18.0,8.0,15.0,23.0,13.0,26.0,5.0,1.0,16.0,21.0,13.0,17.0,15.0,18.0,8.0,17.0,18.0,23.0,17.0,17.0,2.0,19.0,10.0,8.0,15.0,17.0,10.0,11.0,12.0,18.0,20.0,17.0,13.0,22.0,13.0,5.0,7.0,14.0,13.0,7.0,4.0,4.0,12.0,11.0,19.0,11.0,2.0,9.0,12.0,26.0,11.0,1.0,15.0,12.0,20.0,13.0,14.0,5.0,3.0,13.0,4.0,18.0,27.0,4.0,5.0,2.0,18.0,6.0,16.0,3.0,3.0,4.0,19.0,10.0,24.0,13.0,7.0,9.0,4.0,6.0,32.0,7.0,21.0,6.0,14.0,5.0,2.0,14.0,8.0,12.0,14.0,19.0,13.0,21.0,11.0,4.0,21.0,11.0,21.0,32.0,12.0,2.0,43.0,13.0,14.0,5.0,16.0,13.0,10.0,15.0,14.0,19.0,8.0,8.0,21.0,12.0,18.0,11.0,5.0,17.0,19.0,6.0,6.0,15.0,6.0,12.0,17.0,39.0,12.0,26.0,24.0,17.0,15.0,26.0,16.0,6.0,25.0,8.0,11.0,26.0,10.0,13.0,16.0,19.0,20.0,17.0,22.0,20.0,11.0,11.0,18.0,15.0,23.0,9.0,22.0,7.0,2.0,3.0,5.0,16.0,10.0,23.0,33.0,24.0,10.0,16.0,10.0,2.0,16.0,18.0,6.0,29.0,23.0,11.0,13.0,7.0,12.0,16.0,23.0,5.0,8.0,10.0,24.0,19.0,1.0,14.0,9.0,5.0,14.0,4.0,22.0,22.0,12.0,17.0,2.0,22.0,9.0,8.0,17.0,26.0,22.0,9.0,1.0,21.0,12.0,26.0,8.0,19.0,15.0,4.0,14.0,11.0,27.0,16.0,9.0,26.0,13.0,2.0,15.0,9.0,26.0,15.0,10.0,19.0,10.0,2.0,10.0,16.0,13.0,11.0,23.0,11.0,7.0,19.0,21.0,7.0,20.0,12.0,8.0,1.0,11.0,9.0,32.0,24.0,9.0,17.0,8.0,13.0,12.0,15.0,12.0,12.0,12.0,10.0,9.0,47.0,17.0,4.0,9.0,23.0,8.0,10.0,22.0,14.0,27.0,6.0,12.0,19.0,16.0,14.0,21.0,16.0,18.0,14.0,3.0,17.0,12.0,9.0,14.0,9.0,14.0,13.0,22.0,22.0,14.0,17.0,3.0,15.0,6.0,13.0,2.0,2.0,14.0,30.0,22.0,10.0,2.0,15.0,9.0,35.0,11.0,14.0,1.0,6.0,17.0,11.0,24.0,33.0,4.0,10.0,14.0,10.0,10.0,27.0,13.0,7.0,30.0,14.0,14.0,19.0,3.0,14.0,18.0,8.0,21.0,27.0,17.0,12.0,6.0,8.0,30.0,28.0,18.0,8.0,16.0,13.0,20.0,13.0,6.0,36.0,12.0,13.0,5.0,17.0,2.0,8.0,23.0,10.0,12.0,13.0,29.0,10.0,14.0,3.0,8.0,5.0,24.0,29.0,16.0,32.0,17.0,29.0,12.0,20.0,7.0,1.0,18.0,8.0,13.0,8.0,17.0,24.0,19.0,12.0,9.0,10.0,14.0,11.0,34.0,2.0,14.0,17.0,20.0,18.0,24.0,5.0,27.0,1.0,13.0,15.0,29.0,16.0,25.0,14.0,2.0,9.0,4.0,10.0,12.0,8.0,9.0,18.0,6.0,37.0,33.0,13.0,9.0,15.0,24.0,11.0,9.0,11.0,9.0,21.0,19.0,12.0,3.0,12.0,24.0,3.0,9.0,12.0,19.0,15.0,35.0,8.0,14.0,10.0,12.0,4.0,19.0,9.0,22.0,16.0,7.0,11.0,4.0,17.0,5.0,13.0,8.0,16.0,23.0,15.0,9.0,8.0,8.0,10.0,15.0,28.0,21.0,6.0,17.0,5.0,3.0,17.0,17.0,35.0,14.0,21.0,11.0,12.0,27.0,18.0,14.0,19.0,12.0,11.0,16.0,12.0,17.0,18.0,24.0,15.0,8.0,18.0,1.0,8.0,25.0,19.0,26.0,8.0,18.0,22.0,13.0,15.0,9.0,29.0,4.0,17.0,9.0,47.0,25.0,15.0,13.0,19.0,22.0,23.0,14.0,16.0,27.0,29.0,7.0,8.0,1.0,1.0,25.0,40.0,19.0,28.0,23.0,10.0,12.0,17.0,23.0,14.0,41.0,13.0,13.0,16.0,16.0,19.0,5.0,24.0,13.0,4.0,2.0,9.0,10.0,8.0,24.0,7.0,14.0,6.0,6.0,24.0,5.0,10.0,14.0,20.0,13.0,26.0,21.0,13.0,14.0,11.0,9.0,11.0,12.0,5.0,18.0,30.0,4.0,17.0,10.0,13.0,19.0,24.0,4.0,26.0,8.0,19.0,20.0,16.0,13.0,16.0,25.0,19.0,16.0,3.0,12.0,15.0,14.0,37.0,2.0,18.0,11.0,1.0,27.0,15.0,1.0,16.0,1.0,26.0,22.0,10.0,18.0,12.0,11.0,4.0,21.0,7.0,9.0,6.0,21.0,12.0,21.0,17.0,22.0,5.0,14.0,5.0,2.0,17.0,18.0,2.0,18.0,11.0,11.0,10.0,13.0,17.0,15.0,4.0,15.0,26.0,33.0,19.0,29.0,18.0,10.0,5.0,11.0,9.0,22.0,15.0,14.0,13.0,2.0,8.0,9.0,15.0,16.0,2.0,12.0,15.0,5.0,16.0,47.0,10.0,13.0,15.0,9.0,5.0,8.0,15.0,13.0,13.0,27.0,13.0,20.0,13.0,20.0,21.0,4.0,25.0,8.0,6.0,2.0,15.0,11.0,15.0,21.0,1.0,20.0,16.0,21.0,2.0,16.0,5.0,10.0,20.0,12.0,19.0,15.0,35.0,23.0,3.0,9.0,21.0,19.0,21.0,17.0,5.0,24.0,14.0,27.0,14.0,13.0,19.0,8.0,3.0,26.0,2.0,2.0,18.0,3.0,18.0,21.0,18.0,7.0,18.0,20.0,16.0,22.0,11.0,21.0,10.0,13.0,9.0,10.0,4.0,17.0,12.0,16.0,15.0,9.0,16.0,19.0,14.0,11.0,17.0,7.0,13.0,13.0,16.0,3.0,5.0,9.0,10.0,16.0,27.0,15.0,13.0,31.0,13.0,10.0,15.0,6.0,23.0,23.0,20.0,4.0,12.0,14.0,8.0,30.0,5.0,15.0,13.0,2.0,7.0,16.0,7.0,14.0,13.0,29.0,13.0,1.0,21.0,8.0,12.0,3.0,8.0,9.0,6.0,7.0,2.0,12.0,17.0,16.0,14.0,5.0,18.0,11.0,16.0,24.0,11.0,21.0,7.0,16.0,16.0,14.0,37.0,11.0,1.0,17.0,6.0,15.0,3.0,1.0,15.0,6.0,10.0,18.0,5.0,12.0,23.0,6.0,51.0,20.0,5.0,14.0,12.0,11.0,16.0,8.0,21.0,34.0,10.0,5.0,27.0,14.0,17.0,19.0,3.0,2.0,10.0,14.0,11.0,9.0,18.0,12.0,16.0,22.0,18.0,18.0,12.0,8.0,13.0,13.0,13.0,4.0,19.0,16.0,6.0,12.0,7.0,51.0,11.0,9.0,12.0,16.0,17.0,16.0,21.0,15.0,16.0,25.0,5.0,27.0,18.0,19.0,10.0,10.0,23.0,20.0,22.0,1.0,5.0,17.0,11.0,14.0,24.0,19.0,6.0,14.0,11.0,12.0,14.0,6.0,19.0,17.0,14.0,14.0,18.0,13.0,30.0,29.0,8.0,17.0,19.0,4.0,10.0,23.0,8.0,17.0,9.0,3.0,12.0,23.0,20.0,12.0,8.0,7.0,1.0,13.0,10.0,13.0,21.0,20.0,6.0,13.0,13.0,3.0,12.0,27.0,11.0,14.0,19.0,27.0,4.0,2.0,9.0,13.0,13.0,18.0,13.0,1.0,13.0,14.0,3.0,20.0,3.0,12.0,6.0,19.0,12.0,13.0,2.0,28.0,16.0,10.0,3.0,2.0,14.0,24.0,5.0,18.0,21.0,19.0,22.0,20.0,18.0,26.0,28.0,10.0,17.0,24.0,5.0,4.0,13.0,4.0,12.0,20.0,18.0,17.0,15.0,10.0,15.0,18.0,3.0,10.0,24.0,8.0,16.0,2.0,16.0,12.0,13.0,4.0,6.0,26.0,6.0,11.0,7.0,11.0,13.0,26.0,6.0,17.0,8.0,18.0,21.0,28.0,28.0,11.0,4.0,8.0,17.0,24.0,17.0,8.0,13.0,2.0,16.0,18.0,13.0,3.0,10.0,15.0,13.0,13.0,30.0,12.0,17.0,26.0,16.0,10.0,30.0,23.0,12.0,1.0,22.0,9.0,13.0,8.0,28.0,21.0,17.0,20.0,2.0,13.0,18.0,8.0,11.0,18.0,6.0,14.0,3.0,18.0,42.0,14.0,18.0,21.0,19.0,10.0,7.0,11.0,38.0,24.0,12.0,13.0,9.0,20.0,11.0,15.0,12.0,6.0,12.0,16.0,20.0,11.0,16.0,8.0,11.0,4.0,12.0,10.0,6.0,11.0,7.0,2.0,19.0,21.0,7.0,16.0,19.0,2.0,11.0,2.0,22.0,3.0,15.0,15.0,17.0,16.0,17.0,12.0,6.0,2.0,14.0,25.0,25.0,9.0,17.0,6.0,21.0,2.0,23.0,26.0,13.0,11.0,19.0,14.0,12.0,11.0,15.0,25.0,11.0,47.0,19.0,10.0,14.0,11.0,2.0,16.0,19.0,9.0,16.0,15.0,7.0,3.0,13.0,6.0,15.0,18.0,19.0,12.0,28.0,22.0,18.0,2.0,19.0,20.0,16.0,23.0,16.0,4.0,20.0,16.0,1.0,18.0,21.0,2.0,1.0,8.0,20.0,9.0,7.0,31.0,21.0,3.0,15.0,28.0,8.0,9.0,11.0,22.0,8.0,26.0,16.0,25.0,22.0,10.0,13.0,28.0,18.0,26.0,13.0,12.0,11.0,11.0,5.0,16.0,1.0,19.0,27.0,18.0,18.0,3.0,6.0,23.0,2.0,20.0,2.0,22.0,14.0,6.0,18.0,11.0,22.0,17.0,7.0,7.0,3.0,11.0,16.0,4.0,12.0,1.0,25.0,31.0,7.0,19.0,21.0,14.0,18.0,28.0,11.0,14.0,16.0,15.0,17.0,13.0,17.0,17.0,5.0,20.0,2.0,16.0,7.0,12.0,16.0,14.0,16.0,18.0,8.0,23.0,17.0,15.0,25.0,32.0,11.0,10.0,9.0,8.0,17.0,3.0,13.0,5.0,23.0,24.0,13.0,6.0,18.0,29.0,14.0,7.0,4.0,24.0,22.0,9.0,10.0,36.0,22.0,10.0,29.0,7.0,12.0,23.0,20.0,24.0,27.0,16.0,24.0,4.0,4.0,3.0,14.0,8.0,31.0,10.0,1.0,16.0,1.0,9.0,25.0,13.0,60.0,10.0,10.0,9.0,5.0,13.0,12.0,37.0,24.0,28.0,28.0,4.0,18.0,14.0,1.0,25.0,14.0,14.0,10.0,15.0,6.0,7.0,12.0,16.0,13.0,9.0,18.0,31.0,21.0,22.0,13.0,20.0,14.0,19.0,22.0,6.0,12.0,23.0,12.0,39.0,23.0,27.0,19.0,17.0,21.0,15.0,11.0,12.0,13.0,16.0,5.0,21.0,19.0,14.0,18.0,10.0,19.0,6.0,24.0,10.0,22.0,4.0,29.0,2.0,11.0,1.0,14.0,11.0,11.0,7.0],\"xaxis\":\"x\",\"y\":[0,1,2,3,4,5,6,7,9,10,11,12,13,14,15,16,17,18,19,20,21,22,23,24,25,26,27,28,29,30,31,32,33,34,35,36,37,38,39,40,41,42,43,44,45,46,47,48,49,50,51,54,55,56,57,58,59,60,61,62,64,65,66,67,68,69,71,72,73,74,75,76,77,78,79,80,81,82,83,84,85,88,89,90,91,92,93,94,95,96,97,98,99,100,101,102,103,104,105,106,107,108,109,110,111,112,113,114,115,117,118,119,120,121,122,123,124,125,126,127,128,129,130,131,132,133,134,135,136,137,138,139,140,141,143,144,145,146,148,149,150,151,152,153,154,156,157,158,159,160,161,162,163,164,165,166,167,168,169,170,171,172,173,174,175,176,177,178,179,180,181,182,183,185,186,187,188,189,190,191,192,193,195,196,197,198,199,200,201,202,203,204,205,206,207,208,209,211,213,214,216,217,218,221,222,223,224,225,226,227,228,229,230,231,232,233,234,235,236,237,239,240,241,242,243,244,245,246,247,248,249,250,251,252,253,255,256,257,258,259,260,261,262,263,264,265,266,267,268,269,270,271,272,273,274,275,278,279,280,281,282,283,284,285,286,287,288,290,291,292,293,294,295,296,297,298,299,300,301,302,303,304,306,307,308,309,310,311,312,313,314,315,317,319,320,321,323,324,325,326,327,328,329,330,331,332,333,334,335,336,338,339,340,341,342,343,344,345,346,347,348,349,350,351,352,353,354,355,356,357,358,359,360,361,363,364,365,366,368,369,370,372,373,374,375,377,378,380,381,382,383,384,385,386,387,388,389,390,391,392,393,394,395,396,397,398,399,400,402,403,404,405,406,407,408,409,410,411,412,413,414,415,416,417,418,419,420,421,422,423,424,425,427,428,429,430,431,432,433,434,435,436,437,438,439,440,442,443,444,445,446,448,449,450,451,452,453,454,455,456,457,458,459,460,461,462,463,464,465,466,467,468,469,470,471,472,473,474,475,477,478,479,481,482,484,485,486,487,488,489,490,491,492,493,494,495,496,497,498,499,500,501,502,503,504,505,506,507,508,509,510,511,512,513,514,515,516,517,518,519,520,521,523,524,527,528,529,530,531,532,533,534,535,536,537,538,539,541,542,543,544,545,546,547,548,549,550,551,552,553,554,555,556,557,558,559,560,561,562,563,565,566,567,568,569,570,571,572,573,574,575,576,577,578,579,580,581,582,583,584,586,587,588,589,590,591,592,594,595,596,597,598,599,600,601,603,604,605,606,607,608,609,610,611,612,613,614,615,616,617,618,619,620,621,622,623,624,625,626,627,628,629,631,632,633,634,635,636,637,638,639,640,641,642,643,644,645,646,647,648,649,650,651,652,653,654,655,656,657,658,659,660,661,662,663,664,665,666,667,668,669,670,671,672,673,674,675,676,677,678,679,680,681,682,683,684,685,686,687,688,689,690,692,693,694,695,696,697,698,699,700,701,702,703,704,706,707,708,709,710,711,712,714,715,716,717,718,719,720,721,722,723,724,725,726,727,728,729,730,731,732,733,734,735,736,737,738,739,741,742,743,744,745,746,747,748,749,750,751,752,753,754,755,756,757,758,759,760,761,762,763,764,765,766,767,768,770,771,772,773,774,775,776,777,778,779,780,781,782,783,784,785,786,787,788,789,790,791,792,793,794,795,796,797,798,799,800,801,802,803,804,805,806,807,808,809,810,811,812,813,814,815,816,817,818,819,820,821,822,823,824,825,826,827,829,830,831,832,833,834,835,836,837,838,839,840,841,843,844,845,846,847,848,849,850,851,852,853,854,855,856,857,858,859,860,861,862,863,864,865,866,867,868,869,870,871,872,873,875,876,878,879,880,881,882,883,884,885,886,887,888,890,891,892,895,896,898,899,900,901,902,903,904,905,907,908,910,911,912,913,914,915,916,917,918,919,920,921,923,924,925,926,927,928,929,930,931,932,933,934,935,936,939,940,941,942,943,944,945,946,947,948,949,950,951,952,953,954,955,956,957,958,959,960,961,962,963,964,965,966,967,968,969,970,972,973,974,975,976,977,978,983,984,986,987,988,989,990,991,992,993,994,995,996,997,998,999,1000,1001,1002,1003,1004,1005,1006,1008,1009,1010,1011,1012,1013,1014,1015,1016,1017,1018,1019,1020,1021,1022,1023,1024,1025,1026,1027,1028,1029,1030,1031,1032,1033,1034,1035,1036,1037,1038,1039,1040,1041,1042,1043,1044,1045,1046,1047,1048,1049,1050,1051,1052,1053,1054,1055,1056,1057,1058,1059,1060,1061,1062,1063,1064,1065,1066,1067,1068,1069,1070,1071,1072,1073,1074,1075,1076,1077,1078,1079,1080,1081,1082,1083,1084,1085,1086,1087,1088,1089,1090,1091,1092,1093,1094,1096,1097,1098,1099,1100,1101,1102,1103,1104,1105,1106,1107,1108,1109,1110,1111,1112,1113,1114,1115,1116,1117,1118,1119,1120,1121,1123,1124,1125,1126,1127,1128,1129,1130,1131,1132,1133,1134,1135,1136,1137,1138,1139,1140,1141,1142,1143,1144,1145,1146,1147,1148,1149,1150,1151,1152,1153,1154,1155,1156,1157,1158,1160,1162,1163,1164,1165,1166,1167,1168,1169,1170,1171,1172,1173,1174,1175,1176,1177,1178,1179,1180,1181,1182,1183,1184,1185,1186,1187,1188,1189,1190,1191,1192,1194,1195,1197,1198,1199,1200,1201,1202,1203,1204,1205,1206,1207,1208,1209,1210,1211,1212,1213,1214,1215,1216,1217,1218,1219,1220,1221,1222,1223,1224,1226,1227,1228,1229,1230,1231,1232,1233,1234,1235,1236,1237,1238,1239,1240,1241,1242,1243,1244,1245,1246,1247,1248,1249,1250,1251,1252,1253,1254,1255,1256,1257,1258,1259,1260,1261,1262,1263,1264,1265,1266,1267,1268,1269,1270,1271,1273,1274,1275,1276,1277,1278,1279,1280,1281,1282,1283,1284,1285,1286,1287,1288,1290,1291,1292,1293,1294,1295,1296,1297,1298,1299,1300,1301,1302,1303,1304,1305,1306,1307,1308,1309,1310,1311,1312,1313,1314,1315,1317,1318,1319,1320,1322,1323,1324,1325,1326,1327,1328,1329,1330,1331,1332,1333,1334,1335,1336,1337,1338,1339,1340,1341,1342,1343,1344,1345,1347,1348,1349,1350,1351,1352,1353,1354,1356,1357,1358,1359,1360,1361,1362,1363,1364,1365,1366,1367,1368,1370,1371,1372,1373,1374,1376,1377,1378,1379,1380,1381,1382,1383,1384,1385,1386,1387,1388,1389,1390,1391,1392,1393,1394,1395,1397,1398,1399,1400,1401,1402,1403,1404,1405,1406,1407,1408,1409,1410,1411,1412,1413,1414,1415,1416,1417,1418,1419,1420,1421,1422,1423,1424,1425,1426,1427,1428,1429,1430,1431,1432,1433,1434,1435,1436,1437,1438,1439,1440,1441,1442,1443,1444,1445,1446,1447,1448,1449,1450,1451,1452,1453,1454,1455,1456,1457,1458,1459,1460,1461,1463,1464,1465,1466,1467,1468,1469,1470,1471,1472,1474,1475,1476,1477,1478,1480,1481,1482,1483,1484,1485,1486,1487,1488,1489,1490,1491,1492,1493,1494,1495,1496,1497,1498,1499,1500,1501,1502,1503,1504,1505,1506,1507,1508,1509,1510,1511,1513,1514,1515,1516,1517,1518,1519,1520,1521,1523,1524,1525,1526,1527,1528,1529,1530,1532,1533,1534,1535,1536,1537,1538,1539,1541,1542,1543,1544,1545,1546,1547,1548,1549,1550,1551,1552,1553,1554,1555,1556,1557,1558,1559,1560,1561,1562,1563,1564,1565,1566,1567,1568,1569,1570,1571,1572,1573,1574,1575,1576,1577,1578,1579,1580,1581,1582,1583,1584,1585,1586,1587,1588,1589,1590,1591,1592,1593,1594,1595,1596,1597,1598,1599,1600,1601,1602,1603,1604,1605,1606,1607,1608,1609,1610,1611,1612,1613,1614,1615,1616,1617,1618,1619,1620,1621,1622,1624,1625,1626,1627,1628,1629,1630,1631,1632,1633,1634,1635,1636,1637,1638,1639,1640,1641,1642,1643,1644,1645,1646,1647,1648,1649,1650,1651,1652,1653,1654,1655,1656,1657,1658,1659,1660,1661,1662,1663,1664,1665,1666,1667,1669,1670,1671,1672,1673,1674,1675,1676,1677,1678,1679,1680,1681,1683,1684,1686,1687,1688,1689,1690,1691,1692,1693,1694,1695,1696,1697,1698,1699,1700,1701,1702,1703,1704,1705,1706,1707,1708,1709,1710,1711,1712,1713,1714,1715,1717,1718,1719,1720,1721,1722,1723,1724,1725,1726,1727,1728,1729,1730,1731,1732,1733,1734,1735,1736,1737,1738,1740,1741,1742,1743,1744,1745,1746,1747,1748,1749,1750,1751,1752,1753,1754,1755,1756,1757,1758,1759,1760,1761,1762,1763,1764,1765,1766,1767,1768,1769,1770,1771,1772,1773,1774,1775,1776,1777,1778,1779,1780,1781,1782,1783,1784,1786,1787,1788,1789,1790,1791,1792,1793,1794,1795,1796,1797,1798,1800,1801,1802,1803,1804,1805,1806,1807,1808,1809,1810,1811,1813,1814,1815,1816,1817,1818,1819,1820,1821,1822,1823,1824,1825,1826,1827,1828,1829,1830,1831,1832,1833,1834,1835,1836,1837,1838,1839,1840,1841,1842,1843,1844,1845,1846,1847,1848,1849,1850,1851,1852,1853,1854,1855,1856,1857,1858,1859,1860,1861,1862,1863,1864,1865,1866,1867,1868,1869,1871,1872,1873,1874,1875,1876,1877,1878,1880,1882,1883,1884,1885,1886,1888,1889,1890,1891,1892,1893,1894,1895,1896,1897,1898,1899,1900,1901,1902,1903,1904,1905,1906,1907,1908,1909,1910,1911,1912,1913,1914,1916,1917,1918,1919,1920,1921,1922,1923,1924,1925,1926,1927,1928,1929,1930,1931,1932,1933,1934,1935,1936,1937,1938,1939,1940,1941,1942,1943,1944,1945,1946,1947,1948,1949,1950,1951,1952,1953,1954,1956,1957,1958,1959,1960,1961,1962,1963,1964,1965,1966,1967,1968,1969,1970,1971,1972,1973,1974,1975,1976,1977,1978,1979,1980,1981,1982,1983,1984,1985,1986,1987,1988,1989,1990,1991,1993,1994,1995,1996,1997,1998,1999,2000,2001,2002,2003,2004,2005,2006,2008,2009,2010,2011,2012,2013,2014,2015,2016,2017,2018,2019,2020,2021,2022,2023,2024,2025,2026,2027,2029,2030,2031,2032,2033,2034,2035,2036,2037,2040,2041,2042,2043,2044,2046,2047,2048,2049,2050,2051,2052,2053,2054,2056,2057,2059,2060,2061,2062,2063,2064,2065,2066,2067,2069,2070,2071,2072,2073,2074,2075,2076,2077,2078,2079,2080,2081,2082,2083,2084,2086,2087,2088,2089,2090,2091,2092,2093,2095,2096,2097,2098,2099,2100,2101,2102,2103,2104,2105,2106,2108,2109,2110,2111,2112,2113,2114,2115,2116,2117,2118,2119,2120,2121,2122,2123,2124,2125,2126,2127,2128,2129,2130,2131,2132,2133,2134,2135,2136,2138,2139,2140,2141,2142,2143,2144,2145,2146,2148,2149,2150,2151,2152,2153,2154,2155,2156,2158,2159,2160,2161,2162,2163,2164,2166,2167,2168,2169,2170,2171,2172,2173,2174,2175,2177,2178,2179,2180,2181,2182,2183,2184,2185,2186,2187,2188,2189,2190,2191,2192,2193,2194,2195,2196,2197,2198,2199,2200,2201,2202,2203,2204,2205,2206,2207,2208,2209,2210,2211,2212,2213,2214,2215,2216,2217,2219,2220,2221,2222,2224,2225,2227,2229,2230,2231,2232,2233,2234,2235,2236,2237,2238,2239,2241,2242,2243,2244,2245,2246,2247,2248,2250,2251,2252,2253,2254,2255,2256,2257,2258,2259,2260,2261,2262,2263,2264,2266,2267,2268,2269,2270,2271,2272,2274,2275,2276,2277,2279,2280,2281,2282,2284,2285,2286,2287,2288,2289,2290,2291,2292,2293,2294,2295,2296,2297,2298,2299,2301,2302,2303,2305,2306,2307,2308,2309,2310,2311,2312,2313,2314,2315,2316,2317,2318,2319,2320,2321,2322,2323,2324,2325,2326,2327,2328,2329,2330,2331,2332,2333,2334,2335,2336,2337,2338,2341,2342,2343,2344,2345,2346,2347,2348,2349,2350,2351,2352,2353,2354,2356,2357,2358,2360,2361,2362,2363,2364,2365,2366,2368,2369,2370,2371,2372,2373,2374,2375,2376,2377,2378,2379,2381,2382,2383,2384,2385,2386,2387,2388,2389,2390,2391,2392,2393,2394,2395,2396,2397,2398,2399,2400,2401,2402,2403,2404,2405,2406,2407,2408,2409,2410,2411,2413,2414,2415,2416,2417,2418,2419,2420,2421,2422,2423,2424,2425,2426,2427,2428,2429,2430,2431,2432,2433,2434,2435,2436,2437,2438,2439,2440,2441,2443,2444,2445,2446,2447,2448,2449,2450,2451,2452,2453,2454,2455,2456,2457,2458,2459,2460,2461,2462,2463,2464,2465,2466,2467,2468,2469,2470,2471,2472,2473,2474,2475,2476,2477,2478,2479,2481,2482,2483,2485,2486,2487,2488,2489,2490,2491,2492,2493,2494,2495,2496,2497,2498,2499,2500,2501,2503,2504,2505,2507,2508,2509,2510,2511,2512,2513,2514,2515,2516,2517,2518,2519,2520,2521,2522,2523,2524,2525,2526,2527,2528,2529,2530,2531,2533,2534,2535,2536,2537,2538,2539,2540,2541,2542,2543,2544,2545,2546,2547,2548,2549,2550,2551,2552,2553,2554,2555,2556,2557,2558,2559,2560,2561,2562,2564,2565,2566,2567,2568,2569,2570,2571,2572,2573,2574,2575,2576,2577,2578,2579,2580,2581,2582,2583,2584,2585,2586,2587,2588,2589,2590,2591,2592,2593,2595,2596,2597,2598,2599,2601,2602,2603,2604,2605,2606,2607,2608,2609,2610,2611,2613,2614,2615,2616,2617,2618,2619,2620,2621,2622,2624,2625,2626,2627,2628,2629,2630,2631,2632,2633,2634,2635,2636,2637,2639,2640,2641,2642,2643,2644,2645,2646,2647,2648,2649,2650,2651,2652,2653,2654,2655,2656,2657,2658,2659,2660,2661,2662,2663,2664,2665,2666,2667,2668,2671,2673,2674,2675,2676,2677,2678,2679,2680,2681,2682,2683,2685,2686,2687,2688,2689,2690,2691,2692,2693,2695,2696,2698,2699,2701,2702,2703,2704,2705,2706,2707,2708,2709,2710,2711,2712,2713,2714,2715,2716,2717,2718,2719,2720,2721,2722,2723,2724,2725,2726,2727,2728,2729,2730,2731,2732,2733,2734,2735,2736,2737,2738,2740,2741,2742,2743,2745,2746,2747,2749,2750,2751,2752,2753,2754,2755,2756,2757,2758,2760,2761,2762,2763,2764,2765,2766,2768,2769,2770,2771,2772,2773,2774,2775,2776,2777,2778,2779,2780,2781,2782,2783,2784,2785,2786,2787,2788,2789,2790,2791,2792,2794,2795,2796,2797,2798,2799,2800,2801,2802,2803,2804,2805,2806,2807,2808,2809,2810,2811,2812,2813,2814,2815,2816,2817,2818,2819,2820,2821,2822,2823,2824,2825,2826,2827,2828,2829,2831,2832,2833,2834,2835,2836,2837,2838,2839,2840,2841,2842,2843,2844,2845,2846,2847,2848,2849,2850,2851,2852,2853,2854,2855,2856,2857,2858,2859,2860,2861,2862,2863,2864,2865,2866,2867,2868,2869,2870,2871,2873,2874,2875,2876,2877,2878,2879,2880,2881,2883,2884,2885,2886,2887,2888,2889,2890,2891,2892,2893,2894,2895,2896,2897,2898,2899,2900,2901,2902,2903,2904,2905,2907,2908,2911,2912,2913,2914,2915,2916,2917,2918,2919,2920,2921,2922,2923,2924,2925,2926,2927,2928,2929,2930,2931,2932,2933,2934,2935,2936,2937,2938,2940,2941,2942,2943,2944,2945,2946,2947,2948,2949,2950,2951,2952,2953,2954,2955,2956,2957,2958,2959,2960,2961,2962,2963,2964,2965,2966,2967,2968,2969,2970,2971,2972,2973,2974,2975,2976,2977,2978,2979,2980,2981,2982,2983,2984,2985,2986,2987,2988,2989,2990,2991,2992,2993,2994,2995,2997,2998,2999,3000,3001,3002,3003,3004,3005,3006,3007,3008,3009,3010,3012,3013,3015,3016,3017,3018,3020,3021,3022,3023,3024,3025,3026,3027,3028,3029,3030,3031,3032,3033,3034,3035,3036,3037,3038,3039,3040,3041,3042,3043,3044,3045,3046,3047,3048,3049,3050,3051,3052,3053,3054,3055,3056,3057,3058,3059,3060,3061,3062,3063,3064,3065,3066,3067,3068,3069,3070,3071,3072,3073,3074,3075,3076,3077,3078,3079,3080,3081,3082,3083,3084,3085,3086,3087,3088,3089,3090,3091,3092,3093,3094,3095,3096,3097,3098,3099,3100,3101,3102,3103,3104,3105,3106,3107,3108,3109,3111,3112,3113,3114,3115,3116,3117,3118,3119,3120,3121,3122,3123,3124,3125,3126,3127,3128,3129,3130,3131,3132,3133,3134,3136,3137,3138,3139,3140,3141,3142,3143,3144,3145,3146,3147,3148,3149,3150,3151,3152,3153,3154,3155,3156,3157,3158,3159,3160,3161,3162,3163,3164,3165,3166,3167,3168,3169,3170,3171,3172,3173,3174,3175,3176,3177,3178,3179,3180,3181,3182,3183,3184,3185,3186,3187,3188,3189,3191,3192,3193,3194,3195,3196,3197,3198,3200,3201,3202,3203,3205,3206,3207,3208,3209,3210,3211,3212,3213,3214,3215,3216,3217,3218,3219,3221,3222,3223,3224,3225,3226,3227,3228,3229,3230,3232,3233,3234,3235,3236,3237,3238,3239,3240,3241,3242,3243,3244,3245,3246,3247,3248,3249,3250,3251,3252,3254,3255,3256,3258,3259,3260,3261,3262,3263,3264,3265,3266,3267,3268,3269,3270,3271,3272,3273,3274,3275,3276,3277,3278,3279,3280,3281,3282,3283,3284,3285,3286,3288,3289,3290,3291,3292,3293,3294,3295,3296,3297,3298,3299,3300,3301,3302,3303,3304,3305,3306,3307,3308,3310,3311,3312,3313,3314,3315,3316,3317,3318,3319,3320,3321,3322,3323,3324,3325,3326,3327,3328,3329,3330,3331,3332,3333,3334,3335,3336,3337,3338,3339,3340,3341,3342,3343,3344,3345,3346,3347,3348,3349,3350,3351,3352,3353,3354,3355,3356,3357,3358,3359,3360,3361,3362,3363,3364,3365,3366,3367,3368,3369,3370,3371,3372,3373,3375,3376,3377,3378,3379,3380,3381,3382,3383,3384,3385,3386,3387,3388,3389,3390,3391,3393,3395,3396,3397,3398,3400,3401,3402,3403,3404,3405,3406,3407,3408,3409,3410,3411,3412,3413,3414,3415,3416,3417,3418,3419,3420,3421,3422,3423,3424,3425,3426,3427,3428,3429,3430,3431,3432,3433,3434,3435,3436,3437,3438,3439,3440,3441,3442,3443,3444,3445,3446,3447,3448,3449,3450,3451,3452,3453,3454,3455,3456,3457,3458,3459,3460,3461,3462,3463,3464,3465,3466,3467,3468,3469,3470,3471,3472,3473,3474,3475,3476,3477,3478,3479,3480,3481,3482,3483,3484,3485,3486,3487,3488,3489,3490,3491,3492,3493,3494,3495,3496,3497,3498,3499,3501,3502,3504,3505,3506,3507,3508,3510,3511,3512,3513,3514,3515,3516,3517,3518,3519,3520,3521,3522,3523,3524,3525,3526,3527,3528,3529,3530,3531,3532,3533,3534,3535,3536,3537,3538,3539,3540,3541,3542,3543,3544,3545,3546,3547,3548,3549,3550,3551,3552,3553,3555,3556,3557,3558,3559,3560,3561,3562,3563,3564,3565,3566,3567,3568,3569,3570,3571,3572,3573,3576,3577,3579,3580,3581,3583,3584,3585,3586,3587,3588,3589,3590,3592,3593,3595,3596,3597,3598,3599,3600,3601,3602,3603,3604,3605,3606,3607,3608,3609,3610,3611,3612,3613,3614,3615,3617,3618,3619,3621,3622,3623,3624,3625,3626,3628,3629,3630,3631,3632,3633,3634,3635,3636,3637,3638,3639,3640,3641,3642,3643,3644,3645,3646,3647,3648,3649,3650,3651,3652,3653,3654,3655,3656,3657,3658,3659,3660,3661,3662,3663,3664,3665,3666,3667,3668,3669,3670,3671,3672,3673,3674,3675,3676,3677,3678,3679,3680,3681,3682,3683,3684,3685,3686,3687,3688,3689,3690,3691,3692,3693,3694,3695,3696,3697,3698,3699,3700,3701,3702,3703,3704,3705,3706,3708,3709,3710,3711,3712,3713,3714,3715,3716,3717,3718,3719,3720,3721,3722,3723,3724,3725,3726,3727,3728,3729,3730,3731,3732,3733,3735,3736,3737,3738,3739,3740,3741,3742,3743,3744,3745,3746,3747,3748,3749,3750,3751,3752,3753,3755,3756,3757,3758,3759,3760,3761,3762,3763,3764,3765,3766,3767,3768,3769,3770,3771,3772,3773,3774,3776,3777,3778,3779,3780,3781,3782,3783,3784,3785,3786,3787,3788,3789,3790,3791,3792,3793,3794,3795,3796,3797,3798,3799,3800,3801,3802,3803,3804,3805,3806,3807,3808,3809,3810,3811,3812,3813,3814,3815,3816,3817,3818,3819,3820,3821,3822,3823,3824,3825,3826,3827,3828,3829,3830,3831,3832,3833,3834,3835,3836,3837,3838,3840,3841,3842,3843,3844,3845,3846,3847,3848,3849,3850,3851,3852,3853,3854,3855,3856,3857,3858,3859,3860,3861,3862,3863,3864,3865,3866,3867,3868,3869,3870,3872,3873,3874,3875,3876,3877,3878,3879,3880,3881,3882,3883,3884,3885,3886,3887,3889,3890,3891,3892,3894,3895,3896,3897,3898,3899,3900,3901,3903,3904,3905,3906,3907,3908,3911,3912,3913,3914,3915,3916,3917,3918,3919,3920,3921,3922,3923,3924,3926,3927,3928,3929,3931,3932,3933,3934,3935,3936,3937,3938,3939,3940,3941,3942,3943,3944,3945,3946,3947,3948,3949,3950,3951,3952,3953,3954,3955,3956,3957,3958,3959,3960,3961,3962,3963,3964,3966,3967,3968,3969,3970,3971,3972,3973,3974,3975,3976,3977,3978,3979,3980,3981,3982,3983,3984,3985,3986,3987,3988,3989,3990,3992,3993,3994,3995,3996,3997,3998,3999,4000,4001,4002,4003,4004,4005,4006,4007,4008,4010,4011,4013,4014,4015,4016,4017,4018,4019,4020,4021,4022,4023],\"yaxis\":\"y\",\"type\":\"scattergl\"}],                        {\"template\":{\"data\":{\"histogram2dcontour\":[{\"type\":\"histogram2dcontour\",\"colorbar\":{\"outlinewidth\":0,\"ticks\":\"\"},\"colorscale\":[[0.0,\"#0d0887\"],[0.1111111111111111,\"#46039f\"],[0.2222222222222222,\"#7201a8\"],[0.3333333333333333,\"#9c179e\"],[0.4444444444444444,\"#bd3786\"],[0.5555555555555556,\"#d8576b\"],[0.6666666666666666,\"#ed7953\"],[0.7777777777777778,\"#fb9f3a\"],[0.8888888888888888,\"#fdca26\"],[1.0,\"#f0f921\"]]}],\"choropleth\":[{\"type\":\"choropleth\",\"colorbar\":{\"outlinewidth\":0,\"ticks\":\"\"}}],\"histogram2d\":[{\"type\":\"histogram2d\",\"colorbar\":{\"outlinewidth\":0,\"ticks\":\"\"},\"colorscale\":[[0.0,\"#0d0887\"],[0.1111111111111111,\"#46039f\"],[0.2222222222222222,\"#7201a8\"],[0.3333333333333333,\"#9c179e\"],[0.4444444444444444,\"#bd3786\"],[0.5555555555555556,\"#d8576b\"],[0.6666666666666666,\"#ed7953\"],[0.7777777777777778,\"#fb9f3a\"],[0.8888888888888888,\"#fdca26\"],[1.0,\"#f0f921\"]]}],\"heatmap\":[{\"type\":\"heatmap\",\"colorbar\":{\"outlinewidth\":0,\"ticks\":\"\"},\"colorscale\":[[0.0,\"#0d0887\"],[0.1111111111111111,\"#46039f\"],[0.2222222222222222,\"#7201a8\"],[0.3333333333333333,\"#9c179e\"],[0.4444444444444444,\"#bd3786\"],[0.5555555555555556,\"#d8576b\"],[0.6666666666666666,\"#ed7953\"],[0.7777777777777778,\"#fb9f3a\"],[0.8888888888888888,\"#fdca26\"],[1.0,\"#f0f921\"]]}],\"heatmapgl\":[{\"type\":\"heatmapgl\",\"colorbar\":{\"outlinewidth\":0,\"ticks\":\"\"},\"colorscale\":[[0.0,\"#0d0887\"],[0.1111111111111111,\"#46039f\"],[0.2222222222222222,\"#7201a8\"],[0.3333333333333333,\"#9c179e\"],[0.4444444444444444,\"#bd3786\"],[0.5555555555555556,\"#d8576b\"],[0.6666666666666666,\"#ed7953\"],[0.7777777777777778,\"#fb9f3a\"],[0.8888888888888888,\"#fdca26\"],[1.0,\"#f0f921\"]]}],\"contourcarpet\":[{\"type\":\"contourcarpet\",\"colorbar\":{\"outlinewidth\":0,\"ticks\":\"\"}}],\"contour\":[{\"type\":\"contour\",\"colorbar\":{\"outlinewidth\":0,\"ticks\":\"\"},\"colorscale\":[[0.0,\"#0d0887\"],[0.1111111111111111,\"#46039f\"],[0.2222222222222222,\"#7201a8\"],[0.3333333333333333,\"#9c179e\"],[0.4444444444444444,\"#bd3786\"],[0.5555555555555556,\"#d8576b\"],[0.6666666666666666,\"#ed7953\"],[0.7777777777777778,\"#fb9f3a\"],[0.8888888888888888,\"#fdca26\"],[1.0,\"#f0f921\"]]}],\"surface\":[{\"type\":\"surface\",\"colorbar\":{\"outlinewidth\":0,\"ticks\":\"\"},\"colorscale\":[[0.0,\"#0d0887\"],[0.1111111111111111,\"#46039f\"],[0.2222222222222222,\"#7201a8\"],[0.3333333333333333,\"#9c179e\"],[0.4444444444444444,\"#bd3786\"],[0.5555555555555556,\"#d8576b\"],[0.6666666666666666,\"#ed7953\"],[0.7777777777777778,\"#fb9f3a\"],[0.8888888888888888,\"#fdca26\"],[1.0,\"#f0f921\"]]}],\"mesh3d\":[{\"type\":\"mesh3d\",\"colorbar\":{\"outlinewidth\":0,\"ticks\":\"\"}}],\"scatter\":[{\"fillpattern\":{\"fillmode\":\"overlay\",\"size\":10,\"solidity\":0.2},\"type\":\"scatter\"}],\"parcoords\":[{\"type\":\"parcoords\",\"line\":{\"colorbar\":{\"outlinewidth\":0,\"ticks\":\"\"}}}],\"scatterpolargl\":[{\"type\":\"scatterpolargl\",\"marker\":{\"colorbar\":{\"outlinewidth\":0,\"ticks\":\"\"}}}],\"bar\":[{\"error_x\":{\"color\":\"#2a3f5f\"},\"error_y\":{\"color\":\"#2a3f5f\"},\"marker\":{\"line\":{\"color\":\"#E5ECF6\",\"width\":0.5},\"pattern\":{\"fillmode\":\"overlay\",\"size\":10,\"solidity\":0.2}},\"type\":\"bar\"}],\"scattergeo\":[{\"type\":\"scattergeo\",\"marker\":{\"colorbar\":{\"outlinewidth\":0,\"ticks\":\"\"}}}],\"scatterpolar\":[{\"type\":\"scatterpolar\",\"marker\":{\"colorbar\":{\"outlinewidth\":0,\"ticks\":\"\"}}}],\"histogram\":[{\"marker\":{\"pattern\":{\"fillmode\":\"overlay\",\"size\":10,\"solidity\":0.2}},\"type\":\"histogram\"}],\"scattergl\":[{\"type\":\"scattergl\",\"marker\":{\"colorbar\":{\"outlinewidth\":0,\"ticks\":\"\"}}}],\"scatter3d\":[{\"type\":\"scatter3d\",\"line\":{\"colorbar\":{\"outlinewidth\":0,\"ticks\":\"\"}},\"marker\":{\"colorbar\":{\"outlinewidth\":0,\"ticks\":\"\"}}}],\"scattermapbox\":[{\"type\":\"scattermapbox\",\"marker\":{\"colorbar\":{\"outlinewidth\":0,\"ticks\":\"\"}}}],\"scatterternary\":[{\"type\":\"scatterternary\",\"marker\":{\"colorbar\":{\"outlinewidth\":0,\"ticks\":\"\"}}}],\"scattercarpet\":[{\"type\":\"scattercarpet\",\"marker\":{\"colorbar\":{\"outlinewidth\":0,\"ticks\":\"\"}}}],\"carpet\":[{\"aaxis\":{\"endlinecolor\":\"#2a3f5f\",\"gridcolor\":\"white\",\"linecolor\":\"white\",\"minorgridcolor\":\"white\",\"startlinecolor\":\"#2a3f5f\"},\"baxis\":{\"endlinecolor\":\"#2a3f5f\",\"gridcolor\":\"white\",\"linecolor\":\"white\",\"minorgridcolor\":\"white\",\"startlinecolor\":\"#2a3f5f\"},\"type\":\"carpet\"}],\"table\":[{\"cells\":{\"fill\":{\"color\":\"#EBF0F8\"},\"line\":{\"color\":\"white\"}},\"header\":{\"fill\":{\"color\":\"#C8D4E3\"},\"line\":{\"color\":\"white\"}},\"type\":\"table\"}],\"barpolar\":[{\"marker\":{\"line\":{\"color\":\"#E5ECF6\",\"width\":0.5},\"pattern\":{\"fillmode\":\"overlay\",\"size\":10,\"solidity\":0.2}},\"type\":\"barpolar\"}],\"pie\":[{\"automargin\":true,\"type\":\"pie\"}]},\"layout\":{\"autotypenumbers\":\"strict\",\"colorway\":[\"#636efa\",\"#EF553B\",\"#00cc96\",\"#ab63fa\",\"#FFA15A\",\"#19d3f3\",\"#FF6692\",\"#B6E880\",\"#FF97FF\",\"#FECB52\"],\"font\":{\"color\":\"#2a3f5f\"},\"hovermode\":\"closest\",\"hoverlabel\":{\"align\":\"left\"},\"paper_bgcolor\":\"white\",\"plot_bgcolor\":\"#E5ECF6\",\"polar\":{\"bgcolor\":\"#E5ECF6\",\"angularaxis\":{\"gridcolor\":\"white\",\"linecolor\":\"white\",\"ticks\":\"\"},\"radialaxis\":{\"gridcolor\":\"white\",\"linecolor\":\"white\",\"ticks\":\"\"}},\"ternary\":{\"bgcolor\":\"#E5ECF6\",\"aaxis\":{\"gridcolor\":\"white\",\"linecolor\":\"white\",\"ticks\":\"\"},\"baxis\":{\"gridcolor\":\"white\",\"linecolor\":\"white\",\"ticks\":\"\"},\"caxis\":{\"gridcolor\":\"white\",\"linecolor\":\"white\",\"ticks\":\"\"}},\"coloraxis\":{\"colorbar\":{\"outlinewidth\":0,\"ticks\":\"\"}},\"colorscale\":{\"sequential\":[[0.0,\"#0d0887\"],[0.1111111111111111,\"#46039f\"],[0.2222222222222222,\"#7201a8\"],[0.3333333333333333,\"#9c179e\"],[0.4444444444444444,\"#bd3786\"],[0.5555555555555556,\"#d8576b\"],[0.6666666666666666,\"#ed7953\"],[0.7777777777777778,\"#fb9f3a\"],[0.8888888888888888,\"#fdca26\"],[1.0,\"#f0f921\"]],\"sequentialminus\":[[0.0,\"#0d0887\"],[0.1111111111111111,\"#46039f\"],[0.2222222222222222,\"#7201a8\"],[0.3333333333333333,\"#9c179e\"],[0.4444444444444444,\"#bd3786\"],[0.5555555555555556,\"#d8576b\"],[0.6666666666666666,\"#ed7953\"],[0.7777777777777778,\"#fb9f3a\"],[0.8888888888888888,\"#fdca26\"],[1.0,\"#f0f921\"]],\"diverging\":[[0,\"#8e0152\"],[0.1,\"#c51b7d\"],[0.2,\"#de77ae\"],[0.3,\"#f1b6da\"],[0.4,\"#fde0ef\"],[0.5,\"#f7f7f7\"],[0.6,\"#e6f5d0\"],[0.7,\"#b8e186\"],[0.8,\"#7fbc41\"],[0.9,\"#4d9221\"],[1,\"#276419\"]]},\"xaxis\":{\"gridcolor\":\"white\",\"linecolor\":\"white\",\"ticks\":\"\",\"title\":{\"standoff\":15},\"zerolinecolor\":\"white\",\"automargin\":true,\"zerolinewidth\":2},\"yaxis\":{\"gridcolor\":\"white\",\"linecolor\":\"white\",\"ticks\":\"\",\"title\":{\"standoff\":15},\"zerolinecolor\":\"white\",\"automargin\":true,\"zerolinewidth\":2},\"scene\":{\"xaxis\":{\"backgroundcolor\":\"#E5ECF6\",\"gridcolor\":\"white\",\"linecolor\":\"white\",\"showbackground\":true,\"ticks\":\"\",\"zerolinecolor\":\"white\",\"gridwidth\":2},\"yaxis\":{\"backgroundcolor\":\"#E5ECF6\",\"gridcolor\":\"white\",\"linecolor\":\"white\",\"showbackground\":true,\"ticks\":\"\",\"zerolinecolor\":\"white\",\"gridwidth\":2},\"zaxis\":{\"backgroundcolor\":\"#E5ECF6\",\"gridcolor\":\"white\",\"linecolor\":\"white\",\"showbackground\":true,\"ticks\":\"\",\"zerolinecolor\":\"white\",\"gridwidth\":2}},\"shapedefaults\":{\"line\":{\"color\":\"#2a3f5f\"}},\"annotationdefaults\":{\"arrowcolor\":\"#2a3f5f\",\"arrowhead\":0,\"arrowwidth\":1},\"geo\":{\"bgcolor\":\"white\",\"landcolor\":\"#E5ECF6\",\"subunitcolor\":\"white\",\"showland\":true,\"showlakes\":true,\"lakecolor\":\"white\"},\"title\":{\"x\":0.05},\"mapbox\":{\"style\":\"light\"}}},\"xaxis\":{\"anchor\":\"y\",\"domain\":[0.0,1.0],\"title\":{\"text\":\"Regional_Node_Examined\"}},\"yaxis\":{\"anchor\":\"x\",\"domain\":[0.0,1.0],\"title\":{\"text\":\"index\"}},\"legend\":{\"tracegroupgap\":0},\"margin\":{\"t\":60}},                        {\"responsive\": true}                    ).then(function(){\n",
              "                            \n",
              "var gd = document.getElementById('b5ced695-a694-4825-9cfd-aac2ea220a66');\n",
              "var x = new MutationObserver(function (mutations, observer) {{\n",
              "        var display = window.getComputedStyle(gd).display;\n",
              "        if (!display || display === 'none') {{\n",
              "            console.log([gd, 'removed!']);\n",
              "            Plotly.purge(gd);\n",
              "            observer.disconnect();\n",
              "        }}\n",
              "}});\n",
              "\n",
              "// Listen for the removal of the full notebook cells\n",
              "var notebookContainer = gd.closest('#notebook-container');\n",
              "if (notebookContainer) {{\n",
              "    x.observe(notebookContainer, {childList: true});\n",
              "}}\n",
              "\n",
              "// Listen for the clearing of the current output cell\n",
              "var outputEl = gd.closest('.output');\n",
              "if (outputEl) {{\n",
              "    x.observe(outputEl, {childList: true});\n",
              "}}\n",
              "\n",
              "                        })                };                            </script>        </div>\n",
              "</body>\n",
              "</html>"
            ]
          },
          "metadata": {}
        },
        {
          "output_type": "display_data",
          "data": {
            "text/html": [
              "<html>\n",
              "<head><meta charset=\"utf-8\" /></head>\n",
              "<body>\n",
              "    <div>            <script src=\"https://cdnjs.cloudflare.com/ajax/libs/mathjax/2.7.5/MathJax.js?config=TeX-AMS-MML_SVG\"></script><script type=\"text/javascript\">if (window.MathJax && window.MathJax.Hub && window.MathJax.Hub.Config) {window.MathJax.Hub.Config({SVG: {font: \"STIX-Web\"}});}</script>                <script type=\"text/javascript\">window.PlotlyConfig = {MathJaxConfig: 'local'};</script>\n",
              "        <script charset=\"utf-8\" src=\"https://cdn.plot.ly/plotly-2.35.2.min.js\"></script>                <div id=\"f456d1f5-2a3e-4418-9423-2dca295134b1\" class=\"plotly-graph-div\" style=\"height:525px; width:100%;\"></div>            <script type=\"text/javascript\">                                    window.PLOTLYENV=window.PLOTLYENV || {};                                    if (document.getElementById(\"f456d1f5-2a3e-4418-9423-2dca295134b1\")) {                    Plotly.newPlot(                        \"f456d1f5-2a3e-4418-9423-2dca295134b1\",                        [{\"alignmentgroup\":\"True\",\"hovertemplate\":\"Regional_Node_Examined=%{x}\\u003cextra\\u003e\\u003c\\u002fextra\\u003e\",\"legendgroup\":\"\",\"marker\":{\"color\":\"#636efa\"},\"name\":\"\",\"notched\":false,\"offsetgroup\":\"\",\"orientation\":\"h\",\"showlegend\":false,\"x\":[24.0,14.0,14.0,2.0,3.0,18.0,11.0,9.0,21.0,9.0,11.0,13.0,23.0,16.0,20.0,1.0,22.0,16.0,20.0,15.0,15.0,4.0,18.0,26.0,31.0,25.0,14.0,14.0,10.0,3.0,5.0,6.0,19.0,19.0,9.0,21.0,14.0,10.0,15.0,12.0,12.0,2.0,15.0,11.0,10.0,15.0,12.0,16.0,8.0,17.0,9.0,16.0,13.0,19.0,49.0,15.0,17.0,24.0,12.0,1.0,16.0,5.0,23.0,20.0,5.0,12.0,24.0,16.0,15.0,19.0,13.0,11.0,7.0,9.0,9.0,21.0,10.0,9.0,2.0,13.0,12.0,11.0,9.0,8.0,15.0,5.0,21.0,12.0,17.0,4.0,10.0,3.0,14.0,33.0,25.0,3.0,7.0,14.0,2.0,11.0,12.0,8.0,30.0,15.0,3.0,34.0,14.0,6.0,12.0,16.0,15.0,15.0,7.0,15.0,16.0,23.0,23.0,16.0,13.0,3.0,8.0,13.0,14.0,10.0,8.0,5.0,8.0,28.0,12.0,20.0,14.0,18.0,4.0,13.0,23.0,20.0,15.0,18.0,1.0,13.0,18.0,14.0,15.0,14.0,14.0,15.0,6.0,2.0,14.0,18.0,3.0,2.0,20.0,16.0,3.0,12.0,24.0,8.0,14.0,20.0,11.0,9.0,9.0,24.0,11.0,17.0,7.0,31.0,11.0,32.0,23.0,3.0,15.0,14.0,3.0,14.0,34.0,14.0,12.0,2.0,19.0,5.0,5.0,16.0,10.0,22.0,11.0,14.0,16.0,1.0,17.0,2.0,6.0,24.0,18.0,12.0,6.0,17.0,9.0,10.0,12.0,17.0,4.0,20.0,18.0,9.0,2.0,27.0,20.0,42.0,9.0,15.0,19.0,7.0,22.0,2.0,15.0,26.0,26.0,12.0,8.0,29.0,30.0,9.0,18.0,15.0,18.0,9.0,18.0,15.0,11.0,6.0,5.0,2.0,13.0,20.0,13.0,7.0,20.0,12.0,11.0,9.0,9.0,3.0,33.0,3.0,33.0,3.0,4.0,20.0,13.0,20.0,18.0,9.0,11.0,2.0,14.0,14.0,16.0,12.0,18.0,12.0,14.0,7.0,13.0,12.0,30.0,39.0,17.0,11.0,19.0,14.0,10.0,1.0,11.0,21.0,13.0,18.0,23.0,30.0,46.0,25.0,22.0,10.0,4.0,19.0,4.0,15.0,14.0,27.0,12.0,4.0,14.0,12.0,18.0,15.0,19.0,16.0,15.0,14.0,1.0,9.0,10.0,24.0,19.0,6.0,19.0,13.0,11.0,4.0,19.0,13.0,12.0,19.0,17.0,9.0,23.0,12.0,5.0,16.0,29.0,17.0,24.0,16.0,6.0,7.0,1.0,18.0,23.0,5.0,3.0,20.0,10.0,23.0,2.0,11.0,16.0,19.0,14.0,12.0,30.0,2.0,24.0,26.0,14.0,16.0,18.0,5.0,6.0,17.0,11.0,22.0,3.0,16.0,10.0,14.0,7.0,20.0,14.0,21.0,18.0,40.0,20.0,14.0,6.0,18.0,8.0,31.0,14.0,7.0,13.0,20.0,12.0,9.0,1.0,9.0,7.0,19.0,3.0,9.0,9.0,2.0,7.0,20.0,39.0,7.0,27.0,17.0,10.0,8.0,8.0,14.0,11.0,10.0,10.0,11.0,25.0,1.0,9.0,15.0,19.0,9.0,2.0,25.0,5.0,21.0,10.0,29.0,20.0,3.0,26.0,11.0,14.0,2.0,2.0,17.0,9.0,14.0,19.0,20.0,16.0,13.0,10.0,6.0,18.0,18.0,11.0,7.0,11.0,3.0,4.0,12.0,12.0,9.0,3.0,4.0,16.0,7.0,32.0,28.0,9.0,17.0,6.0,25.0,1.0,23.0,9.0,18.0,17.0,18.0,51.0,15.0,7.0,10.0,18.0,23.0,23.0,16.0,19.0,20.0,24.0,15.0,5.0,4.0,22.0,12.0,9.0,15.0,12.0,14.0,17.0,9.0,13.0,13.0,15.0,13.0,28.0,14.0,13.0,13.0,11.0,33.0,21.0,1.0,2.0,16.0,3.0,38.0,14.0,18.0,16.0,17.0,24.0,18.0,7.0,21.0,23.0,13.0,3.0,9.0,33.0,5.0,15.0,16.0,22.0,20.0,47.0,15.0,13.0,17.0,14.0,1.0,22.0,9.0,14.0,15.0,11.0,19.0,1.0,2.0,14.0,9.0,27.0,18.0,24.0,16.0,25.0,9.0,26.0,31.0,14.0,16.0,14.0,14.0,5.0,13.0,14.0,19.0,11.0,29.0,19.0,11.0,10.0,12.0,29.0,4.0,15.0,13.0,10.0,4.0,13.0,15.0,18.0,3.0,16.0,27.0,22.0,7.0,16.0,15.0,10.0,15.0,6.0,17.0,8.0,8.0,13.0,8.0,10.0,2.0,5.0,11.0,6.0,23.0,1.0,15.0,24.0,8.0,17.0,4.0,15.0,13.0,2.0,18.0,54.0,28.0,2.0,6.0,1.0,2.0,2.0,13.0,5.0,14.0,27.0,28.0,11.0,18.0,17.0,12.0,31.0,2.0,24.0,3.0,7.0,26.0,3.0,28.0,24.0,11.0,21.0,14.0,7.0,39.0,19.0,1.0,8.0,16.0,19.0,28.0,12.0,19.0,4.0,19.0,12.0,23.0,17.0,17.0,13.0,10.0,13.0,14.0,22.0,11.0,9.0,18.0,32.0,12.0,13.0,8.0,19.0,16.0,32.0,20.0,14.0,8.0,18.0,27.0,26.0,19.0,12.0,36.0,19.0,12.0,27.0,21.0,2.0,15.0,2.0,16.0,26.0,19.0,14.0,2.0,11.0,4.0,8.0,4.0,14.0,20.0,20.0,14.0,27.0,29.0,24.0,5.0,7.0,22.0,17.0,8.0,22.0,16.0,23.0,10.0,12.0,16.0,26.0,15.0,11.0,9.0,1.0,8.0,9.0,21.0,26.0,25.0,2.0,13.0,10.0,23.0,10.0,6.0,33.0,10.0,19.0,5.0,13.0,13.0,31.0,3.0,6.0,2.0,24.0,19.0,17.0,2.0,11.0,19.0,17.0,12.0,7.0,18.0,15.0,20.0,16.0,10.0,2.0,6.0,10.0,30.0,9.0,11.0,18.0,3.0,2.0,15.0,38.0,2.0,9.0,15.0,2.0,11.0,14.0,1.0,25.0,18.0,15.0,27.0,19.0,6.0,17.0,1.0,6.0,14.0,12.0,9.0,14.0,13.0,5.0,20.0,13.0,29.0,21.0,2.0,1.0,9.0,2.0,1.0,20.0,19.0,26.0,24.0,14.0,6.0,17.0,5.0,1.0,14.0,26.0,3.0,23.0,5.0,7.0,36.0,15.0,19.0,31.0,16.0,12.0,19.0,20.0,10.0,12.0,17.0,5.0,9.0,19.0,3.0,4.0,25.0,6.0,32.0,15.0,16.0,31.0,16.0,7.0,21.0,18.0,15.0,20.0,10.0,31.0,13.0,3.0,3.0,17.0,6.0,17.0,16.0,10.0,16.0,25.0,15.0,6.0,17.0,6.0,18.0,25.0,10.0,10.0,28.0,10.0,25.0,20.0,9.0,32.0,25.0,4.0,12.0,3.0,11.0,7.0,9.0,24.0,9.0,2.0,32.0,13.0,18.0,4.0,18.0,7.0,19.0,3.0,13.0,19.0,19.0,18.0,8.0,26.0,10.0,5.0,1.0,23.0,10.0,11.0,16.0,12.0,15.0,13.0,3.0,14.0,23.0,61.0,7.0,1.0,23.0,26.0,10.0,11.0,14.0,15.0,16.0,10.0,10.0,8.0,5.0,34.0,16.0,11.0,22.0,23.0,2.0,15.0,11.0,32.0,21.0,12.0,14.0,19.0,10.0,14.0,9.0,9.0,20.0,5.0,10.0,32.0,2.0,9.0,13.0,17.0,2.0,26.0,9.0,41.0,17.0,18.0,10.0,8.0,11.0,26.0,21.0,9.0,20.0,22.0,3.0,19.0,22.0,8.0,23.0,13.0,5.0,17.0,16.0,15.0,20.0,24.0,10.0,17.0,3.0,23.0,16.0,17.0,17.0,18.0,17.0,6.0,17.0,16.0,15.0,20.0,60.0,6.0,18.0,15.0,29.0,18.0,18.0,2.0,6.0,18.0,13.0,6.0,30.0,23.0,25.0,9.0,19.0,10.0,17.0,9.0,10.0,13.0,8.0,14.0,15.0,17.0,23.0,7.0,16.0,10.0,10.0,24.0,7.0,19.0,25.0,19.0,19.0,27.0,19.0,18.0,9.0,16.0,22.0,12.0,16.0,23.0,29.0,5.0,13.0,26.0,4.0,5.0,9.0,30.0,26.0,12.0,15.0,4.0,12.0,1.0,28.0,15.0,22.0,33.0,28.0,23.0,23.0,18.0,9.0,6.0,10.0,15.0,11.0,15.0,21.0,10.0,1.0,18.0,14.0,22.0,11.0,20.0,16.0,10.0,12.0,11.0,8.0,2.0,26.0,10.0,16.0,16.0,30.0,2.0,11.0,11.0,6.0,4.0,4.0,37.0,2.0,17.0,4.0,23.0,2.0,10.0,11.0,10.0,14.0,10.0,21.0,12.0,13.0,17.0,9.0,16.0,13.0,22.0,11.0,1.0,18.0,8.0,11.0,14.0,14.0,18.0,10.0,4.0,9.0,12.0,17.0,10.0,21.0,16.0,13.0,23.0,8.0,8.0,20.0,7.0,12.0,3.0,6.0,13.0,13.0,22.0,4.0,5.0,23.0,4.0,18.0,21.0,13.0,7.0,14.0,12.0,20.0,3.0,12.0,9.0,22.0,21.0,2.0,1.0,13.0,5.0,28.0,15.0,12.0,19.0,9.0,8.0,16.0,9.0,17.0,9.0,14.0,18.0,28.0,18.0,12.0,2.0,9.0,15.0,16.0,26.0,15.0,8.0,18.0,15.0,10.0,3.0,13.0,3.0,6.0,8.0,7.0,19.0,13.0,25.0,5.0,9.0,5.0,16.0,4.0,14.0,11.0,14.0,14.0,3.0,16.0,18.0,26.0,10.0,20.0,10.0,5.0,3.0,4.0,11.0,15.0,27.0,2.0,19.0,22.0,5.0,20.0,20.0,4.0,3.0,16.0,21.0,17.0,36.0,5.0,15.0,8.0,9.0,15.0,2.0,10.0,10.0,8.0,26.0,21.0,14.0,14.0,18.0,10.0,4.0,10.0,12.0,32.0,13.0,6.0,13.0,13.0,12.0,6.0,11.0,20.0,21.0,18.0,28.0,14.0,3.0,22.0,2.0,13.0,21.0,22.0,16.0,13.0,16.0,5.0,1.0,1.0,4.0,32.0,16.0,13.0,24.0,28.0,30.0,16.0,3.0,8.0,2.0,6.0,9.0,2.0,16.0,10.0,13.0,1.0,23.0,26.0,21.0,4.0,13.0,13.0,14.0,30.0,5.0,3.0,18.0,14.0,15.0,14.0,7.0,14.0,11.0,20.0,16.0,17.0,11.0,13.0,4.0,5.0,13.0,16.0,8.0,14.0,4.0,9.0,6.0,21.0,13.0,15.0,14.0,15.0,18.0,24.0,4.0,20.0,16.0,19.0,21.0,13.0,15.0,29.0,8.0,15.0,15.0,24.0,16.0,21.0,28.0,9.0,14.0,10.0,3.0,10.0,1.0,34.0,1.0,9.0,23.0,4.0,1.0,13.0,9.0,6.0,15.0,14.0,8.0,18.0,11.0,27.0,7.0,13.0,9.0,14.0,13.0,15.0,15.0,14.0,17.0,16.0,14.0,3.0,13.0,13.0,28.0,20.0,5.0,28.0,23.0,3.0,12.0,23.0,14.0,17.0,14.0,24.0,27.0,21.0,16.0,19.0,11.0,23.0,3.0,3.0,10.0,8.0,14.0,11.0,9.0,13.0,25.0,13.0,12.0,13.0,2.0,13.0,14.0,36.0,21.0,24.0,4.0,7.0,3.0,11.0,27.0,13.0,29.0,6.0,17.0,11.0,31.0,13.0,12.0,12.0,3.0,17.0,19.0,5.0,12.0,9.0,15.0,23.0,9.0,23.0,2.0,5.0,12.0,17.0,17.0,12.0,16.0,13.0,11.0,25.0,20.0,15.0,9.0,11.0,26.0,13.0,20.0,12.0,13.0,21.0,20.0,9.0,13.0,4.0,3.0,16.0,27.0,14.0,15.0,16.0,40.0,17.0,22.0,19.0,1.0,32.0,3.0,2.0,10.0,15.0,1.0,20.0,16.0,2.0,21.0,11.0,16.0,31.0,14.0,14.0,16.0,16.0,10.0,15.0,12.0,19.0,7.0,5.0,4.0,10.0,25.0,16.0,4.0,20.0,17.0,6.0,11.0,47.0,24.0,15.0,9.0,17.0,12.0,16.0,29.0,4.0,11.0,13.0,4.0,16.0,9.0,17.0,18.0,28.0,9.0,11.0,9.0,43.0,9.0,7.0,9.0,32.0,9.0,20.0,5.0,11.0,24.0,6.0,39.0,18.0,8.0,16.0,8.0,14.0,26.0,18.0,25.0,13.0,17.0,8.0,13.0,22.0,10.0,10.0,9.0,18.0,21.0,22.0,20.0,8.0,24.0,18.0,11.0,7.0,19.0,20.0,23.0,25.0,9.0,9.0,49.0,9.0,7.0,7.0,18.0,11.0,6.0,16.0,17.0,4.0,17.0,11.0,4.0,25.0,25.0,27.0,19.0,18.0,21.0,16.0,12.0,26.0,15.0,16.0,12.0,18.0,23.0,27.0,18.0,8.0,8.0,9.0,16.0,17.0,18.0,4.0,17.0,20.0,20.0,13.0,4.0,24.0,6.0,29.0,1.0,18.0,6.0,25.0,18.0,7.0,12.0,14.0,6.0,13.0,13.0,20.0,5.0,15.0,21.0,13.0,3.0,19.0,12.0,19.0,10.0,5.0,15.0,16.0,20.0,13.0,7.0,13.0,7.0,20.0,26.0,9.0,6.0,21.0,10.0,6.0,22.0,16.0,21.0,3.0,25.0,16.0,19.0,11.0,19.0,6.0,24.0,13.0,20.0,18.0,2.0,27.0,15.0,11.0,11.0,8.0,24.0,8.0,10.0,21.0,6.0,11.0,23.0,1.0,5.0,2.0,27.0,1.0,21.0,11.0,16.0,20.0,8.0,19.0,9.0,15.0,24.0,14.0,26.0,16.0,18.0,17.0,14.0,9.0,20.0,15.0,2.0,11.0,14.0,10.0,12.0,27.0,15.0,16.0,1.0,15.0,4.0,15.0,23.0,16.0,6.0,9.0,14.0,9.0,13.0,3.0,16.0,9.0,16.0,10.0,16.0,26.0,16.0,10.0,29.0,21.0,25.0,9.0,12.0,24.0,2.0,17.0,10.0,19.0,5.0,6.0,13.0,13.0,6.0,8.0,11.0,3.0,29.0,11.0,1.0,7.0,1.0,4.0,34.0,7.0,3.0,5.0,17.0,15.0,18.0,15.0,6.0,10.0,9.0,20.0,9.0,11.0,9.0,18.0,1.0,14.0,6.0,22.0,8.0,15.0,15.0,8.0,11.0,23.0,14.0,28.0,6.0,8.0,11.0,8.0,19.0,20.0,3.0,10.0,16.0,4.0,9.0,24.0,4.0,12.0,10.0,6.0,12.0,13.0,25.0,18.0,12.0,16.0,14.0,4.0,15.0,13.0,13.0,20.0,8.0,35.0,18.0,15.0,12.0,1.0,16.0,12.0,23.0,16.0,24.0,14.0,24.0,10.0,17.0,9.0,30.0,13.0,23.0,15.0,20.0,1.0,8.0,19.0,16.0,27.0,15.0,9.0,9.0,25.0,2.0,9.0,7.0,18.0,19.0,13.0,8.0,9.0,6.0,14.0,15.0,19.0,16.0,23.0,2.0,3.0,17.0,1.0,20.0,5.0,1.0,27.0,15.0,23.0,3.0,13.0,10.0,14.0,15.0,18.0,25.0,21.0,14.0,11.0,17.0,13.0,10.0,13.0,15.0,18.0,13.0,12.0,11.0,20.0,22.0,11.0,13.0,8.0,17.0,12.0,11.0,2.0,11.0,10.0,18.0,14.0,19.0,21.0,14.0,3.0,3.0,13.0,17.0,6.0,24.0,14.0,24.0,17.0,17.0,12.0,15.0,4.0,9.0,29.0,18.0,5.0,3.0,18.0,19.0,21.0,12.0,10.0,17.0,7.0,18.0,4.0,7.0,17.0,8.0,22.0,2.0,4.0,16.0,30.0,7.0,13.0,16.0,1.0,7.0,14.0,25.0,9.0,12.0,14.0,15.0,1.0,22.0,17.0,7.0,6.0,24.0,5.0,13.0,17.0,15.0,7.0,21.0,25.0,17.0,16.0,13.0,8.0,33.0,24.0,28.0,24.0,13.0,22.0,33.0,14.0,12.0,19.0,13.0,26.0,3.0,12.0,14.0,15.0,15.0,12.0,4.0,3.0,9.0,41.0,16.0,8.0,13.0,17.0,3.0,19.0,1.0,21.0,2.0,16.0,6.0,4.0,11.0,13.0,26.0,23.0,11.0,10.0,22.0,14.0,8.0,4.0,3.0,17.0,2.0,23.0,3.0,13.0,19.0,14.0,23.0,8.0,13.0,24.0,11.0,11.0,17.0,2.0,21.0,16.0,15.0,9.0,2.0,17.0,14.0,20.0,16.0,27.0,13.0,29.0,10.0,24.0,19.0,14.0,14.0,9.0,19.0,19.0,7.0,20.0,16.0,13.0,16.0,11.0,19.0,5.0,36.0,11.0,20.0,5.0,5.0,28.0,52.0,7.0,23.0,9.0,11.0,13.0,15.0,41.0,15.0,1.0,23.0,8.0,26.0,12.0,20.0,12.0,3.0,16.0,2.0,23.0,16.0,11.0,37.0,14.0,15.0,15.0,34.0,8.0,7.0,27.0,22.0,3.0,21.0,1.0,10.0,13.0,7.0,11.0,10.0,23.0,2.0,24.0,14.0,41.0,17.0,9.0,12.0,1.0,28.0,9.0,13.0,8.0,22.0,3.0,23.0,18.0,2.0,12.0,15.0,16.0,18.0,19.0,17.0,10.0,2.0,5.0,2.0,10.0,8.0,14.0,2.0,19.0,17.0,12.0,35.0,7.0,19.0,21.0,2.0,13.0,4.0,1.0,16.0,2.0,1.0,22.0,23.0,25.0,9.0,10.0,11.0,20.0,24.0,14.0,15.0,15.0,7.0,16.0,13.0,45.0,17.0,16.0,12.0,9.0,36.0,3.0,20.0,14.0,18.0,22.0,31.0,17.0,12.0,11.0,12.0,16.0,8.0,1.0,1.0,11.0,18.0,4.0,15.0,1.0,10.0,22.0,26.0,29.0,18.0,13.0,4.0,18.0,9.0,21.0,13.0,13.0,18.0,21.0,26.0,10.0,2.0,12.0,13.0,12.0,35.0,4.0,23.0,12.0,1.0,10.0,12.0,32.0,6.0,15.0,20.0,6.0,17.0,18.0,9.0,15.0,2.0,6.0,16.0,18.0,10.0,13.0,14.0,16.0,14.0,10.0,14.0,20.0,35.0,12.0,12.0,13.0,14.0,2.0,21.0,32.0,8.0,3.0,10.0,23.0,15.0,14.0,15.0,16.0,4.0,16.0,14.0,17.0,5.0,16.0,13.0,12.0,14.0,31.0,8.0,27.0,15.0,32.0,9.0,21.0,18.0,15.0,18.0,18.0,22.0,16.0,9.0,20.0,20.0,4.0,5.0,6.0,28.0,1.0,2.0,9.0,35.0,23.0,16.0,16.0,15.0,16.0,10.0,6.0,17.0,14.0,8.0,17.0,18.0,12.0,28.0,18.0,23.0,32.0,17.0,1.0,20.0,17.0,13.0,7.0,9.0,10.0,5.0,16.0,9.0,11.0,30.0,9.0,19.0,9.0,5.0,8.0,21.0,8.0,18.0,16.0,13.0,1.0,3.0,9.0,13.0,12.0,21.0,30.0,17.0,11.0,3.0,7.0,12.0,11.0,11.0,2.0,10.0,8.0,8.0,7.0,28.0,27.0,24.0,4.0,15.0,2.0,9.0,14.0,28.0,13.0,2.0,13.0,10.0,11.0,21.0,19.0,30.0,8.0,20.0,2.0,14.0,43.0,8.0,57.0,14.0,5.0,16.0,16.0,12.0,13.0,21.0,9.0,6.0,17.0,5.0,19.0,9.0,8.0,14.0,12.0,16.0,28.0,19.0,14.0,18.0,14.0,22.0,13.0,22.0,19.0,16.0,12.0,9.0,15.0,30.0,13.0,10.0,8.0,21.0,12.0,3.0,8.0,11.0,15.0,26.0,20.0,10.0,25.0,5.0,19.0,19.0,13.0,15.0,8.0,10.0,9.0,15.0,10.0,4.0,17.0,8.0,4.0,26.0,11.0,16.0,25.0,13.0,11.0,14.0,16.0,9.0,13.0,8.0,13.0,13.0,6.0,13.0,5.0,7.0,2.0,21.0,23.0,26.0,1.0,13.0,6.0,16.0,18.0,20.0,17.0,19.0,1.0,25.0,12.0,25.0,10.0,17.0,10.0,4.0,18.0,25.0,17.0,9.0,28.0,13.0,2.0,17.0,18.0,24.0,8.0,21.0,12.0,15.0,24.0,5.0,9.0,14.0,17.0,26.0,6.0,17.0,12.0,15.0,12.0,8.0,14.0,16.0,7.0,10.0,16.0,13.0,1.0,14.0,9.0,22.0,12.0,37.0,9.0,12.0,2.0,36.0,11.0,19.0,12.0,12.0,28.0,18.0,8.0,15.0,23.0,13.0,26.0,5.0,1.0,16.0,21.0,13.0,17.0,15.0,18.0,8.0,17.0,18.0,23.0,17.0,17.0,2.0,19.0,10.0,8.0,15.0,17.0,10.0,11.0,12.0,18.0,20.0,17.0,13.0,22.0,13.0,5.0,7.0,14.0,13.0,7.0,4.0,4.0,12.0,11.0,19.0,11.0,2.0,9.0,12.0,26.0,11.0,1.0,15.0,12.0,20.0,13.0,14.0,5.0,3.0,13.0,4.0,18.0,27.0,4.0,5.0,2.0,18.0,6.0,16.0,3.0,3.0,4.0,19.0,10.0,24.0,13.0,7.0,9.0,4.0,6.0,32.0,7.0,21.0,6.0,14.0,5.0,2.0,14.0,8.0,12.0,14.0,19.0,13.0,21.0,11.0,4.0,21.0,11.0,21.0,32.0,12.0,2.0,43.0,13.0,14.0,5.0,16.0,13.0,10.0,15.0,14.0,19.0,8.0,8.0,21.0,12.0,18.0,11.0,5.0,17.0,19.0,6.0,6.0,15.0,6.0,12.0,17.0,39.0,12.0,26.0,24.0,17.0,15.0,26.0,16.0,6.0,25.0,8.0,11.0,26.0,10.0,13.0,16.0,19.0,20.0,17.0,22.0,20.0,11.0,11.0,18.0,15.0,23.0,9.0,22.0,7.0,2.0,3.0,5.0,16.0,10.0,23.0,33.0,24.0,10.0,16.0,10.0,2.0,16.0,18.0,6.0,29.0,23.0,11.0,13.0,7.0,12.0,16.0,23.0,5.0,8.0,10.0,24.0,19.0,1.0,14.0,9.0,5.0,14.0,4.0,22.0,22.0,12.0,17.0,2.0,22.0,9.0,8.0,17.0,26.0,22.0,9.0,1.0,21.0,12.0,26.0,8.0,19.0,15.0,4.0,14.0,11.0,27.0,16.0,9.0,26.0,13.0,2.0,15.0,9.0,26.0,15.0,10.0,19.0,10.0,2.0,10.0,16.0,13.0,11.0,23.0,11.0,7.0,19.0,21.0,7.0,20.0,12.0,8.0,1.0,11.0,9.0,32.0,24.0,9.0,17.0,8.0,13.0,12.0,15.0,12.0,12.0,12.0,10.0,9.0,47.0,17.0,4.0,9.0,23.0,8.0,10.0,22.0,14.0,27.0,6.0,12.0,19.0,16.0,14.0,21.0,16.0,18.0,14.0,3.0,17.0,12.0,9.0,14.0,9.0,14.0,13.0,22.0,22.0,14.0,17.0,3.0,15.0,6.0,13.0,2.0,2.0,14.0,30.0,22.0,10.0,2.0,15.0,9.0,35.0,11.0,14.0,1.0,6.0,17.0,11.0,24.0,33.0,4.0,10.0,14.0,10.0,10.0,27.0,13.0,7.0,30.0,14.0,14.0,19.0,3.0,14.0,18.0,8.0,21.0,27.0,17.0,12.0,6.0,8.0,30.0,28.0,18.0,8.0,16.0,13.0,20.0,13.0,6.0,36.0,12.0,13.0,5.0,17.0,2.0,8.0,23.0,10.0,12.0,13.0,29.0,10.0,14.0,3.0,8.0,5.0,24.0,29.0,16.0,32.0,17.0,29.0,12.0,20.0,7.0,1.0,18.0,8.0,13.0,8.0,17.0,24.0,19.0,12.0,9.0,10.0,14.0,11.0,34.0,2.0,14.0,17.0,20.0,18.0,24.0,5.0,27.0,1.0,13.0,15.0,29.0,16.0,25.0,14.0,2.0,9.0,4.0,10.0,12.0,8.0,9.0,18.0,6.0,37.0,33.0,13.0,9.0,15.0,24.0,11.0,9.0,11.0,9.0,21.0,19.0,12.0,3.0,12.0,24.0,3.0,9.0,12.0,19.0,15.0,35.0,8.0,14.0,10.0,12.0,4.0,19.0,9.0,22.0,16.0,7.0,11.0,4.0,17.0,5.0,13.0,8.0,16.0,23.0,15.0,9.0,8.0,8.0,10.0,15.0,28.0,21.0,6.0,17.0,5.0,3.0,17.0,17.0,35.0,14.0,21.0,11.0,12.0,27.0,18.0,14.0,19.0,12.0,11.0,16.0,12.0,17.0,18.0,24.0,15.0,8.0,18.0,1.0,8.0,25.0,19.0,26.0,8.0,18.0,22.0,13.0,15.0,9.0,29.0,4.0,17.0,9.0,47.0,25.0,15.0,13.0,19.0,22.0,23.0,14.0,16.0,27.0,29.0,7.0,8.0,1.0,1.0,25.0,40.0,19.0,28.0,23.0,10.0,12.0,17.0,23.0,14.0,41.0,13.0,13.0,16.0,16.0,19.0,5.0,24.0,13.0,4.0,2.0,9.0,10.0,8.0,24.0,7.0,14.0,6.0,6.0,24.0,5.0,10.0,14.0,20.0,13.0,26.0,21.0,13.0,14.0,11.0,9.0,11.0,12.0,5.0,18.0,30.0,4.0,17.0,10.0,13.0,19.0,24.0,4.0,26.0,8.0,19.0,20.0,16.0,13.0,16.0,25.0,19.0,16.0,3.0,12.0,15.0,14.0,37.0,2.0,18.0,11.0,1.0,27.0,15.0,1.0,16.0,1.0,26.0,22.0,10.0,18.0,12.0,11.0,4.0,21.0,7.0,9.0,6.0,21.0,12.0,21.0,17.0,22.0,5.0,14.0,5.0,2.0,17.0,18.0,2.0,18.0,11.0,11.0,10.0,13.0,17.0,15.0,4.0,15.0,26.0,33.0,19.0,29.0,18.0,10.0,5.0,11.0,9.0,22.0,15.0,14.0,13.0,2.0,8.0,9.0,15.0,16.0,2.0,12.0,15.0,5.0,16.0,47.0,10.0,13.0,15.0,9.0,5.0,8.0,15.0,13.0,13.0,27.0,13.0,20.0,13.0,20.0,21.0,4.0,25.0,8.0,6.0,2.0,15.0,11.0,15.0,21.0,1.0,20.0,16.0,21.0,2.0,16.0,5.0,10.0,20.0,12.0,19.0,15.0,35.0,23.0,3.0,9.0,21.0,19.0,21.0,17.0,5.0,24.0,14.0,27.0,14.0,13.0,19.0,8.0,3.0,26.0,2.0,2.0,18.0,3.0,18.0,21.0,18.0,7.0,18.0,20.0,16.0,22.0,11.0,21.0,10.0,13.0,9.0,10.0,4.0,17.0,12.0,16.0,15.0,9.0,16.0,19.0,14.0,11.0,17.0,7.0,13.0,13.0,16.0,3.0,5.0,9.0,10.0,16.0,27.0,15.0,13.0,31.0,13.0,10.0,15.0,6.0,23.0,23.0,20.0,4.0,12.0,14.0,8.0,30.0,5.0,15.0,13.0,2.0,7.0,16.0,7.0,14.0,13.0,29.0,13.0,1.0,21.0,8.0,12.0,3.0,8.0,9.0,6.0,7.0,2.0,12.0,17.0,16.0,14.0,5.0,18.0,11.0,16.0,24.0,11.0,21.0,7.0,16.0,16.0,14.0,37.0,11.0,1.0,17.0,6.0,15.0,3.0,1.0,15.0,6.0,10.0,18.0,5.0,12.0,23.0,6.0,51.0,20.0,5.0,14.0,12.0,11.0,16.0,8.0,21.0,34.0,10.0,5.0,27.0,14.0,17.0,19.0,3.0,2.0,10.0,14.0,11.0,9.0,18.0,12.0,16.0,22.0,18.0,18.0,12.0,8.0,13.0,13.0,13.0,4.0,19.0,16.0,6.0,12.0,7.0,51.0,11.0,9.0,12.0,16.0,17.0,16.0,21.0,15.0,16.0,25.0,5.0,27.0,18.0,19.0,10.0,10.0,23.0,20.0,22.0,1.0,5.0,17.0,11.0,14.0,24.0,19.0,6.0,14.0,11.0,12.0,14.0,6.0,19.0,17.0,14.0,14.0,18.0,13.0,30.0,29.0,8.0,17.0,19.0,4.0,10.0,23.0,8.0,17.0,9.0,3.0,12.0,23.0,20.0,12.0,8.0,7.0,1.0,13.0,10.0,13.0,21.0,20.0,6.0,13.0,13.0,3.0,12.0,27.0,11.0,14.0,19.0,27.0,4.0,2.0,9.0,13.0,13.0,18.0,13.0,1.0,13.0,14.0,3.0,20.0,3.0,12.0,6.0,19.0,12.0,13.0,2.0,28.0,16.0,10.0,3.0,2.0,14.0,24.0,5.0,18.0,21.0,19.0,22.0,20.0,18.0,26.0,28.0,10.0,17.0,24.0,5.0,4.0,13.0,4.0,12.0,20.0,18.0,17.0,15.0,10.0,15.0,18.0,3.0,10.0,24.0,8.0,16.0,2.0,16.0,12.0,13.0,4.0,6.0,26.0,6.0,11.0,7.0,11.0,13.0,26.0,6.0,17.0,8.0,18.0,21.0,28.0,28.0,11.0,4.0,8.0,17.0,24.0,17.0,8.0,13.0,2.0,16.0,18.0,13.0,3.0,10.0,15.0,13.0,13.0,30.0,12.0,17.0,26.0,16.0,10.0,30.0,23.0,12.0,1.0,22.0,9.0,13.0,8.0,28.0,21.0,17.0,20.0,2.0,13.0,18.0,8.0,11.0,18.0,6.0,14.0,3.0,18.0,42.0,14.0,18.0,21.0,19.0,10.0,7.0,11.0,38.0,24.0,12.0,13.0,9.0,20.0,11.0,15.0,12.0,6.0,12.0,16.0,20.0,11.0,16.0,8.0,11.0,4.0,12.0,10.0,6.0,11.0,7.0,2.0,19.0,21.0,7.0,16.0,19.0,2.0,11.0,2.0,22.0,3.0,15.0,15.0,17.0,16.0,17.0,12.0,6.0,2.0,14.0,25.0,25.0,9.0,17.0,6.0,21.0,2.0,23.0,26.0,13.0,11.0,19.0,14.0,12.0,11.0,15.0,25.0,11.0,47.0,19.0,10.0,14.0,11.0,2.0,16.0,19.0,9.0,16.0,15.0,7.0,3.0,13.0,6.0,15.0,18.0,19.0,12.0,28.0,22.0,18.0,2.0,19.0,20.0,16.0,23.0,16.0,4.0,20.0,16.0,1.0,18.0,21.0,2.0,1.0,8.0,20.0,9.0,7.0,31.0,21.0,3.0,15.0,28.0,8.0,9.0,11.0,22.0,8.0,26.0,16.0,25.0,22.0,10.0,13.0,28.0,18.0,26.0,13.0,12.0,11.0,11.0,5.0,16.0,1.0,19.0,27.0,18.0,18.0,3.0,6.0,23.0,2.0,20.0,2.0,22.0,14.0,6.0,18.0,11.0,22.0,17.0,7.0,7.0,3.0,11.0,16.0,4.0,12.0,1.0,25.0,31.0,7.0,19.0,21.0,14.0,18.0,28.0,11.0,14.0,16.0,15.0,17.0,13.0,17.0,17.0,5.0,20.0,2.0,16.0,7.0,12.0,16.0,14.0,16.0,18.0,8.0,23.0,17.0,15.0,25.0,32.0,11.0,10.0,9.0,8.0,17.0,3.0,13.0,5.0,23.0,24.0,13.0,6.0,18.0,29.0,14.0,7.0,4.0,24.0,22.0,9.0,10.0,36.0,22.0,10.0,29.0,7.0,12.0,23.0,20.0,24.0,27.0,16.0,24.0,4.0,4.0,3.0,14.0,8.0,31.0,10.0,1.0,16.0,1.0,9.0,25.0,13.0,60.0,10.0,10.0,9.0,5.0,13.0,12.0,37.0,24.0,28.0,28.0,4.0,18.0,14.0,1.0,25.0,14.0,14.0,10.0,15.0,6.0,7.0,12.0,16.0,13.0,9.0,18.0,31.0,21.0,22.0,13.0,20.0,14.0,19.0,22.0,6.0,12.0,23.0,12.0,39.0,23.0,27.0,19.0,17.0,21.0,15.0,11.0,12.0,13.0,16.0,5.0,21.0,19.0,14.0,18.0,10.0,19.0,6.0,24.0,10.0,22.0,4.0,29.0,2.0,11.0,1.0,14.0,11.0,11.0,7.0],\"x0\":\" \",\"xaxis\":\"x\",\"y0\":\" \",\"yaxis\":\"y\",\"type\":\"box\"}],                        {\"template\":{\"data\":{\"histogram2dcontour\":[{\"type\":\"histogram2dcontour\",\"colorbar\":{\"outlinewidth\":0,\"ticks\":\"\"},\"colorscale\":[[0.0,\"#0d0887\"],[0.1111111111111111,\"#46039f\"],[0.2222222222222222,\"#7201a8\"],[0.3333333333333333,\"#9c179e\"],[0.4444444444444444,\"#bd3786\"],[0.5555555555555556,\"#d8576b\"],[0.6666666666666666,\"#ed7953\"],[0.7777777777777778,\"#fb9f3a\"],[0.8888888888888888,\"#fdca26\"],[1.0,\"#f0f921\"]]}],\"choropleth\":[{\"type\":\"choropleth\",\"colorbar\":{\"outlinewidth\":0,\"ticks\":\"\"}}],\"histogram2d\":[{\"type\":\"histogram2d\",\"colorbar\":{\"outlinewidth\":0,\"ticks\":\"\"},\"colorscale\":[[0.0,\"#0d0887\"],[0.1111111111111111,\"#46039f\"],[0.2222222222222222,\"#7201a8\"],[0.3333333333333333,\"#9c179e\"],[0.4444444444444444,\"#bd3786\"],[0.5555555555555556,\"#d8576b\"],[0.6666666666666666,\"#ed7953\"],[0.7777777777777778,\"#fb9f3a\"],[0.8888888888888888,\"#fdca26\"],[1.0,\"#f0f921\"]]}],\"heatmap\":[{\"type\":\"heatmap\",\"colorbar\":{\"outlinewidth\":0,\"ticks\":\"\"},\"colorscale\":[[0.0,\"#0d0887\"],[0.1111111111111111,\"#46039f\"],[0.2222222222222222,\"#7201a8\"],[0.3333333333333333,\"#9c179e\"],[0.4444444444444444,\"#bd3786\"],[0.5555555555555556,\"#d8576b\"],[0.6666666666666666,\"#ed7953\"],[0.7777777777777778,\"#fb9f3a\"],[0.8888888888888888,\"#fdca26\"],[1.0,\"#f0f921\"]]}],\"heatmapgl\":[{\"type\":\"heatmapgl\",\"colorbar\":{\"outlinewidth\":0,\"ticks\":\"\"},\"colorscale\":[[0.0,\"#0d0887\"],[0.1111111111111111,\"#46039f\"],[0.2222222222222222,\"#7201a8\"],[0.3333333333333333,\"#9c179e\"],[0.4444444444444444,\"#bd3786\"],[0.5555555555555556,\"#d8576b\"],[0.6666666666666666,\"#ed7953\"],[0.7777777777777778,\"#fb9f3a\"],[0.8888888888888888,\"#fdca26\"],[1.0,\"#f0f921\"]]}],\"contourcarpet\":[{\"type\":\"contourcarpet\",\"colorbar\":{\"outlinewidth\":0,\"ticks\":\"\"}}],\"contour\":[{\"type\":\"contour\",\"colorbar\":{\"outlinewidth\":0,\"ticks\":\"\"},\"colorscale\":[[0.0,\"#0d0887\"],[0.1111111111111111,\"#46039f\"],[0.2222222222222222,\"#7201a8\"],[0.3333333333333333,\"#9c179e\"],[0.4444444444444444,\"#bd3786\"],[0.5555555555555556,\"#d8576b\"],[0.6666666666666666,\"#ed7953\"],[0.7777777777777778,\"#fb9f3a\"],[0.8888888888888888,\"#fdca26\"],[1.0,\"#f0f921\"]]}],\"surface\":[{\"type\":\"surface\",\"colorbar\":{\"outlinewidth\":0,\"ticks\":\"\"},\"colorscale\":[[0.0,\"#0d0887\"],[0.1111111111111111,\"#46039f\"],[0.2222222222222222,\"#7201a8\"],[0.3333333333333333,\"#9c179e\"],[0.4444444444444444,\"#bd3786\"],[0.5555555555555556,\"#d8576b\"],[0.6666666666666666,\"#ed7953\"],[0.7777777777777778,\"#fb9f3a\"],[0.8888888888888888,\"#fdca26\"],[1.0,\"#f0f921\"]]}],\"mesh3d\":[{\"type\":\"mesh3d\",\"colorbar\":{\"outlinewidth\":0,\"ticks\":\"\"}}],\"scatter\":[{\"fillpattern\":{\"fillmode\":\"overlay\",\"size\":10,\"solidity\":0.2},\"type\":\"scatter\"}],\"parcoords\":[{\"type\":\"parcoords\",\"line\":{\"colorbar\":{\"outlinewidth\":0,\"ticks\":\"\"}}}],\"scatterpolargl\":[{\"type\":\"scatterpolargl\",\"marker\":{\"colorbar\":{\"outlinewidth\":0,\"ticks\":\"\"}}}],\"bar\":[{\"error_x\":{\"color\":\"#2a3f5f\"},\"error_y\":{\"color\":\"#2a3f5f\"},\"marker\":{\"line\":{\"color\":\"#E5ECF6\",\"width\":0.5},\"pattern\":{\"fillmode\":\"overlay\",\"size\":10,\"solidity\":0.2}},\"type\":\"bar\"}],\"scattergeo\":[{\"type\":\"scattergeo\",\"marker\":{\"colorbar\":{\"outlinewidth\":0,\"ticks\":\"\"}}}],\"scatterpolar\":[{\"type\":\"scatterpolar\",\"marker\":{\"colorbar\":{\"outlinewidth\":0,\"ticks\":\"\"}}}],\"histogram\":[{\"marker\":{\"pattern\":{\"fillmode\":\"overlay\",\"size\":10,\"solidity\":0.2}},\"type\":\"histogram\"}],\"scattergl\":[{\"type\":\"scattergl\",\"marker\":{\"colorbar\":{\"outlinewidth\":0,\"ticks\":\"\"}}}],\"scatter3d\":[{\"type\":\"scatter3d\",\"line\":{\"colorbar\":{\"outlinewidth\":0,\"ticks\":\"\"}},\"marker\":{\"colorbar\":{\"outlinewidth\":0,\"ticks\":\"\"}}}],\"scattermapbox\":[{\"type\":\"scattermapbox\",\"marker\":{\"colorbar\":{\"outlinewidth\":0,\"ticks\":\"\"}}}],\"scatterternary\":[{\"type\":\"scatterternary\",\"marker\":{\"colorbar\":{\"outlinewidth\":0,\"ticks\":\"\"}}}],\"scattercarpet\":[{\"type\":\"scattercarpet\",\"marker\":{\"colorbar\":{\"outlinewidth\":0,\"ticks\":\"\"}}}],\"carpet\":[{\"aaxis\":{\"endlinecolor\":\"#2a3f5f\",\"gridcolor\":\"white\",\"linecolor\":\"white\",\"minorgridcolor\":\"white\",\"startlinecolor\":\"#2a3f5f\"},\"baxis\":{\"endlinecolor\":\"#2a3f5f\",\"gridcolor\":\"white\",\"linecolor\":\"white\",\"minorgridcolor\":\"white\",\"startlinecolor\":\"#2a3f5f\"},\"type\":\"carpet\"}],\"table\":[{\"cells\":{\"fill\":{\"color\":\"#EBF0F8\"},\"line\":{\"color\":\"white\"}},\"header\":{\"fill\":{\"color\":\"#C8D4E3\"},\"line\":{\"color\":\"white\"}},\"type\":\"table\"}],\"barpolar\":[{\"marker\":{\"line\":{\"color\":\"#E5ECF6\",\"width\":0.5},\"pattern\":{\"fillmode\":\"overlay\",\"size\":10,\"solidity\":0.2}},\"type\":\"barpolar\"}],\"pie\":[{\"automargin\":true,\"type\":\"pie\"}]},\"layout\":{\"autotypenumbers\":\"strict\",\"colorway\":[\"#636efa\",\"#EF553B\",\"#00cc96\",\"#ab63fa\",\"#FFA15A\",\"#19d3f3\",\"#FF6692\",\"#B6E880\",\"#FF97FF\",\"#FECB52\"],\"font\":{\"color\":\"#2a3f5f\"},\"hovermode\":\"closest\",\"hoverlabel\":{\"align\":\"left\"},\"paper_bgcolor\":\"white\",\"plot_bgcolor\":\"#E5ECF6\",\"polar\":{\"bgcolor\":\"#E5ECF6\",\"angularaxis\":{\"gridcolor\":\"white\",\"linecolor\":\"white\",\"ticks\":\"\"},\"radialaxis\":{\"gridcolor\":\"white\",\"linecolor\":\"white\",\"ticks\":\"\"}},\"ternary\":{\"bgcolor\":\"#E5ECF6\",\"aaxis\":{\"gridcolor\":\"white\",\"linecolor\":\"white\",\"ticks\":\"\"},\"baxis\":{\"gridcolor\":\"white\",\"linecolor\":\"white\",\"ticks\":\"\"},\"caxis\":{\"gridcolor\":\"white\",\"linecolor\":\"white\",\"ticks\":\"\"}},\"coloraxis\":{\"colorbar\":{\"outlinewidth\":0,\"ticks\":\"\"}},\"colorscale\":{\"sequential\":[[0.0,\"#0d0887\"],[0.1111111111111111,\"#46039f\"],[0.2222222222222222,\"#7201a8\"],[0.3333333333333333,\"#9c179e\"],[0.4444444444444444,\"#bd3786\"],[0.5555555555555556,\"#d8576b\"],[0.6666666666666666,\"#ed7953\"],[0.7777777777777778,\"#fb9f3a\"],[0.8888888888888888,\"#fdca26\"],[1.0,\"#f0f921\"]],\"sequentialminus\":[[0.0,\"#0d0887\"],[0.1111111111111111,\"#46039f\"],[0.2222222222222222,\"#7201a8\"],[0.3333333333333333,\"#9c179e\"],[0.4444444444444444,\"#bd3786\"],[0.5555555555555556,\"#d8576b\"],[0.6666666666666666,\"#ed7953\"],[0.7777777777777778,\"#fb9f3a\"],[0.8888888888888888,\"#fdca26\"],[1.0,\"#f0f921\"]],\"diverging\":[[0,\"#8e0152\"],[0.1,\"#c51b7d\"],[0.2,\"#de77ae\"],[0.3,\"#f1b6da\"],[0.4,\"#fde0ef\"],[0.5,\"#f7f7f7\"],[0.6,\"#e6f5d0\"],[0.7,\"#b8e186\"],[0.8,\"#7fbc41\"],[0.9,\"#4d9221\"],[1,\"#276419\"]]},\"xaxis\":{\"gridcolor\":\"white\",\"linecolor\":\"white\",\"ticks\":\"\",\"title\":{\"standoff\":15},\"zerolinecolor\":\"white\",\"automargin\":true,\"zerolinewidth\":2},\"yaxis\":{\"gridcolor\":\"white\",\"linecolor\":\"white\",\"ticks\":\"\",\"title\":{\"standoff\":15},\"zerolinecolor\":\"white\",\"automargin\":true,\"zerolinewidth\":2},\"scene\":{\"xaxis\":{\"backgroundcolor\":\"#E5ECF6\",\"gridcolor\":\"white\",\"linecolor\":\"white\",\"showbackground\":true,\"ticks\":\"\",\"zerolinecolor\":\"white\",\"gridwidth\":2},\"yaxis\":{\"backgroundcolor\":\"#E5ECF6\",\"gridcolor\":\"white\",\"linecolor\":\"white\",\"showbackground\":true,\"ticks\":\"\",\"zerolinecolor\":\"white\",\"gridwidth\":2},\"zaxis\":{\"backgroundcolor\":\"#E5ECF6\",\"gridcolor\":\"white\",\"linecolor\":\"white\",\"showbackground\":true,\"ticks\":\"\",\"zerolinecolor\":\"white\",\"gridwidth\":2}},\"shapedefaults\":{\"line\":{\"color\":\"#2a3f5f\"}},\"annotationdefaults\":{\"arrowcolor\":\"#2a3f5f\",\"arrowhead\":0,\"arrowwidth\":1},\"geo\":{\"bgcolor\":\"white\",\"landcolor\":\"#E5ECF6\",\"subunitcolor\":\"white\",\"showland\":true,\"showlakes\":true,\"lakecolor\":\"white\"},\"title\":{\"x\":0.05},\"mapbox\":{\"style\":\"light\"}}},\"xaxis\":{\"anchor\":\"y\",\"domain\":[0.0,1.0],\"title\":{\"text\":\"Regional_Node_Examined\"}},\"yaxis\":{\"anchor\":\"x\",\"domain\":[0.0,1.0]},\"legend\":{\"tracegroupgap\":0},\"margin\":{\"t\":60},\"boxmode\":\"group\"},                        {\"responsive\": true}                    ).then(function(){\n",
              "                            \n",
              "var gd = document.getElementById('f456d1f5-2a3e-4418-9423-2dca295134b1');\n",
              "var x = new MutationObserver(function (mutations, observer) {{\n",
              "        var display = window.getComputedStyle(gd).display;\n",
              "        if (!display || display === 'none') {{\n",
              "            console.log([gd, 'removed!']);\n",
              "            Plotly.purge(gd);\n",
              "            observer.disconnect();\n",
              "        }}\n",
              "}});\n",
              "\n",
              "// Listen for the removal of the full notebook cells\n",
              "var notebookContainer = gd.closest('#notebook-container');\n",
              "if (notebookContainer) {{\n",
              "    x.observe(notebookContainer, {childList: true});\n",
              "}}\n",
              "\n",
              "// Listen for the clearing of the current output cell\n",
              "var outputEl = gd.closest('.output');\n",
              "if (outputEl) {{\n",
              "    x.observe(outputEl, {childList: true});\n",
              "}}\n",
              "\n",
              "                        })                };                            </script>        </div>\n",
              "</body>\n",
              "</html>"
            ]
          },
          "metadata": {}
        },
        {
          "output_type": "stream",
          "name": "stdout",
          "text": [
            "Index([  57,  227,  290,  303,  394,  418,  490,  530,  550,  633,  662,  701,\n",
            "        790,  838,  941,  989, 1027, 1128, 1267, 1459, 1520, 1560, 1580, 1591,\n",
            "       1624, 1872, 2056, 2128, 2134, 2142, 2159, 2182, 2213, 2243, 2248, 2293,\n",
            "       2323, 2376, 2460, 2462, 2603, 2607, 2725, 2753, 2887, 2934, 2975, 3043,\n",
            "       3064, 3097, 3132, 3149, 3158, 3218, 3288, 3326, 3438, 3454, 3493, 3699,\n",
            "       3708, 3771, 3923, 3950, 3957, 3990],\n",
            "      dtype='int64')\n"
          ]
        }
      ]
    },
    {
      "cell_type": "code",
      "source": [
        "df.drop(index=find_outliers_IQR(df['Regional_Node_Examined']), inplace=True)"
      ],
      "metadata": {
        "id": "63h2uP5UCeN9"
      },
      "execution_count": null,
      "outputs": []
    },
    {
      "cell_type": "markdown",
      "source": [
        "\n",
        "\n",
        "---\n",
        "\n",
        "Oulier Visualization For **Reginol_Node_Positive**"
      ],
      "metadata": {
        "id": "zoAqDUWGCoKs"
      }
    },
    {
      "cell_type": "code",
      "source": [
        "printOutlierVisalization(\"Reginol_Node_Positive\")\n",
        "print(find_outliers_IQR(df['Reginol_Node_Positive']))"
      ],
      "metadata": {
        "colab": {
          "base_uri": "https://localhost:8080/",
          "height": 1000
        },
        "id": "29ZIcg_aCw9K",
        "outputId": "c2229f2e-8369-4ef3-97cb-d9a01d965d75"
      },
      "execution_count": null,
      "outputs": [
        {
          "output_type": "stream",
          "name": "stdout",
          "text": [
            "Ourlier Visulaization for Reginol_Node_Positive\n"
          ]
        },
        {
          "output_type": "display_data",
          "data": {
            "text/html": [
              "<html>\n",
              "<head><meta charset=\"utf-8\" /></head>\n",
              "<body>\n",
              "    <div>            <script src=\"https://cdnjs.cloudflare.com/ajax/libs/mathjax/2.7.5/MathJax.js?config=TeX-AMS-MML_SVG\"></script><script type=\"text/javascript\">if (window.MathJax && window.MathJax.Hub && window.MathJax.Hub.Config) {window.MathJax.Hub.Config({SVG: {font: \"STIX-Web\"}});}</script>                <script type=\"text/javascript\">window.PlotlyConfig = {MathJaxConfig: 'local'};</script>\n",
              "        <script charset=\"utf-8\" src=\"https://cdn.plot.ly/plotly-2.35.2.min.js\"></script>                <div id=\"4b1c30d7-da94-458c-9492-5e5e98250086\" class=\"plotly-graph-div\" style=\"height:525px; width:100%;\"></div>            <script type=\"text/javascript\">                                    window.PLOTLYENV=window.PLOTLYENV || {};                                    if (document.getElementById(\"4b1c30d7-da94-458c-9492-5e5e98250086\")) {                    Plotly.newPlot(                        \"4b1c30d7-da94-458c-9492-5e5e98250086\",                        [{\"alignmentgroup\":\"True\",\"bingroup\":\"x\",\"hovertemplate\":\"Reginol_Node_Positive=%{x}\\u003cbr\\u003ecount=%{y}\\u003cextra\\u003e\\u003c\\u002fextra\\u003e\",\"legendgroup\":\"\",\"marker\":{\"color\":\"#636efa\",\"pattern\":{\"shape\":\"\"}},\"name\":\"\",\"offsetgroup\":\"\",\"orientation\":\"v\",\"showlegend\":false,\"x\":[1,5,7,1,1,2,1,1,12,1,3,3,7,14,1,1,1,1,1,2,5,1,1,22,17,23,1,4,1,1,1,1,3,10,2,6,2,2,5,12,2,1,6,2,5,2,1,9,3,3,1,1,1,1,1,2,2,1,1,3,1,23,3,1,3,20,1,1,16,1,4,1,1,1,13,1,2,1,1,11,1,1,1,1,4,16,3,2,2,1,3,1,24,1,1,1,3,1,1,2,2,3,4,3,10,2,5,3,9,3,2,2,3,16,4,2,1,2,1,2,3,1,6,1,1,7,5,1,1,10,9,1,4,3,1,1,2,1,3,1,2,1,5,2,1,1,1,14,4,1,1,2,6,1,7,17,1,1,2,3,2,1,2,1,10,2,14,5,1,2,1,13,2,3,2,9,1,1,1,4,1,1,2,5,2,2,2,4,1,12,1,1,1,1,1,1,12,1,9,1,1,2,7,2,3,1,2,9,1,4,1,7,5,1,2,1,21,1,2,1,2,2,15,5,1,1,3,2,1,6,1,2,6,2,2,1,1,1,2,1,2,3,1,1,1,3,1,10,9,2,3,9,1,1,2,3,1,2,10,2,2,6,2,11,28,1,1,6,14,1,1,4,1,3,1,2,3,5,3,4,1,3,2,5,6,17,1,1,3,1,1,1,7,1,6,4,1,1,9,1,2,3,1,1,2,1,3,4,3,9,1,1,5,12,1,2,9,2,4,4,1,1,1,1,2,2,1,1,2,1,2,2,4,7,4,6,11,1,4,13,13,3,1,2,4,4,6,1,1,1,3,2,1,17,12,2,9,1,4,1,8,1,2,1,3,1,2,2,2,1,1,2,1,1,1,1,1,2,2,1,1,5,1,2,2,1,11,2,1,5,14,1,1,1,13,1,1,3,1,2,2,2,5,3,3,1,6,2,1,1,1,1,19,1,11,1,1,2,2,1,3,3,3,1,2,1,1,1,1,1,8,1,6,3,4,6,6,24,1,1,7,1,1,6,1,3,6,2,2,1,1,19,2,5,7,1,2,2,7,1,3,2,1,3,2,2,2,3,2,13,1,5,1,1,12,20,1,1,14,1,1,4,5,2,24,1,1,1,1,1,1,3,29,1,5,4,22,4,3,2,4,2,1,8,7,2,4,5,1,1,1,4,2,2,10,13,2,1,9,5,26,7,1,1,2,1,10,1,3,2,1,1,1,10,1,3,1,4,2,9,1,2,5,2,1,4,5,1,3,2,11,3,1,1,2,3,3,1,8,1,1,2,1,1,1,1,9,1,1,8,1,6,1,2,1,1,2,1,1,1,1,4,3,1,9,19,2,2,3,2,7,1,1,3,2,2,1,22,2,10,16,1,1,3,1,5,4,2,1,1,1,1,3,4,2,3,3,3,3,4,1,21,1,5,14,2,2,1,1,1,5,2,4,1,6,17,11,6,1,6,7,2,10,6,2,15,1,4,3,1,3,1,2,1,4,1,4,11,3,1,5,3,1,2,7,22,4,2,1,2,3,1,4,2,1,3,3,2,1,3,1,6,2,4,1,3,1,2,2,6,3,3,1,2,6,1,1,2,1,1,6,1,3,1,6,8,1,1,5,1,13,3,2,1,1,5,1,8,3,1,18,1,1,2,1,2,8,1,1,1,1,2,1,10,16,1,1,1,1,1,4,3,1,1,1,1,3,10,20,14,1,1,1,1,1,1,2,4,6,1,5,1,1,1,9,4,3,1,1,2,2,18,5,1,1,15,3,1,1,1,1,7,3,1,1,8,4,3,3,3,2,5,1,10,2,14,6,10,3,3,1,1,5,4,1,2,2,1,4,3,1,5,1,3,2,1,3,9,8,22,2,9,5,1,1,2,1,1,2,2,23,1,2,19,1,1,1,2,1,5,1,3,2,11,2,2,2,1,3,1,1,2,3,1,2,3,7,3,7,22,1,1,20,3,2,9,4,15,1,1,2,1,2,1,2,2,2,9,1,1,9,5,16,1,3,3,4,4,1,2,9,1,1,3,1,1,1,2,1,19,3,1,1,2,3,11,4,1,2,3,1,1,2,5,7,22,3,1,5,3,1,5,1,9,7,1,2,16,1,3,4,1,3,2,5,2,2,3,5,1,3,2,11,1,1,1,1,1,28,22,8,4,11,2,2,2,1,8,1,1,2,7,3,2,6,8,3,3,1,18,17,8,1,2,3,5,9,3,17,9,8,7,4,1,1,9,3,4,2,11,20,11,2,2,2,1,1,2,15,1,6,17,2,1,9,3,2,1,10,1,3,3,1,5,14,22,1,9,3,1,1,3,6,1,24,4,3,15,30,2,1,2,1,1,1,2,1,2,7,1,2,7,10,1,1,2,5,1,9,3,1,1,2,1,1,7,1,10,1,1,4,4,1,2,1,5,5,2,2,1,8,4,4,1,7,2,1,1,1,2,6,1,3,12,1,3,6,2,3,1,1,4,1,5,7,3,1,1,1,1,1,27,1,2,6,2,1,4,3,2,2,8,1,22,10,1,2,4,2,1,2,2,1,2,6,2,1,1,1,2,1,1,7,3,1,1,2,1,1,1,1,4,1,2,1,6,6,26,9,3,5,1,1,3,2,2,2,1,18,1,1,2,20,1,3,3,13,1,2,2,1,1,1,1,5,2,8,22,1,7,1,9,3,1,7,10,1,1,1,3,1,1,2,2,1,1,2,2,3,1,1,1,2,4,1,16,1,2,1,1,1,1,3,1,5,1,1,12,4,1,1,1,1,1,1,15,9,1,1,1,12,1,2,1,1,2,11,1,2,3,1,2,1,1,1,2,3,3,7,5,2,1,1,2,1,2,1,1,2,1,2,1,2,3,1,4,8,1,2,10,16,1,2,3,25,1,14,1,1,9,17,1,2,13,1,1,4,1,2,1,2,10,1,1,3,1,1,10,3,3,2,2,24,3,1,5,8,6,15,2,1,10,1,1,1,6,9,2,3,1,3,20,1,3,16,1,1,4,1,8,8,1,13,10,17,2,1,3,6,5,6,2,1,19,4,3,1,1,1,4,19,1,1,1,1,2,2,3,3,1,9,8,2,1,1,1,3,1,2,1,8,1,1,1,2,7,1,2,4,4,5,2,2,1,6,2,4,1,2,1,1,1,2,3,1,5,13,1,10,1,1,2,22,1,2,1,1,11,1,1,2,1,1,2,1,1,11,12,2,19,8,6,14,13,4,2,1,1,2,2,5,1,1,4,3,3,6,1,7,8,1,2,2,14,2,2,2,16,29,1,1,1,1,6,1,2,1,3,8,1,3,8,3,2,1,1,3,1,2,5,6,5,3,10,2,1,1,3,3,4,4,1,2,21,8,3,2,1,2,4,1,1,3,17,2,5,1,10,1,4,4,1,4,1,1,17,1,1,4,2,2,2,2,1,8,6,7,2,2,3,1,3,1,4,1,2,1,1,2,1,1,1,1,8,3,2,2,1,3,2,1,2,3,1,29,1,3,1,1,2,1,3,2,3,1,5,1,2,13,2,3,1,1,1,15,1,2,4,2,3,7,1,2,3,13,9,1,2,1,1,3,4,2,5,1,25,9,3,5,3,1,1,1,1,2,1,2,2,2,2,2,6,4,1,21,1,1,1,1,1,1,1,1,11,1,7,5,1,18,1,2,1,1,1,1,8,17,4,3,2,2,1,2,3,5,6,1,2,2,1,1,3,2,2,2,1,2,8,1,6,1,2,3,1,1,1,1,3,7,2,10,21,3,1,3,1,2,1,3,1,5,10,4,1,2,5,1,12,9,1,5,1,1,2,1,1,1,3,7,2,3,3,4,4,1,4,5,6,6,1,2,1,19,1,11,2,2,1,4,1,1,1,2,4,1,2,11,1,1,4,3,9,3,1,3,1,1,2,2,1,16,1,7,2,1,2,2,1,1,1,4,1,2,1,5,7,1,1,11,2,1,2,1,4,1,1,1,3,1,1,2,3,5,3,5,2,2,2,1,5,1,16,11,1,4,2,4,1,2,9,5,1,1,1,9,1,2,2,1,1,3,18,1,3,5,1,1,2,23,2,5,4,5,1,1,5,6,2,2,2,1,1,1,3,3,5,2,4,5,1,1,1,3,1,1,9,4,1,1,5,6,1,3,3,17,1,3,11,1,2,1,13,2,2,1,1,4,3,7,1,3,6,2,1,1,12,4,1,1,2,1,1,7,1,2,1,1,7,1,1,2,1,1,1,14,1,2,3,2,1,1,1,1,1,14,12,2,1,1,3,27,22,2,1,3,19,14,2,2,4,8,2,1,3,1,1,1,2,2,1,6,1,1,4,2,1,5,1,2,1,15,3,1,6,5,1,2,2,2,1,3,1,1,1,1,1,1,1,2,4,4,2,5,6,1,7,8,5,1,1,1,1,4,1,7,3,6,1,8,1,1,1,7,4,1,1,1,12,2,1,1,1,1,1,2,5,1,2,3,4,1,10,1,16,2,7,2,1,2,1,4,1,14,11,2,10,2,1,1,2,6,1,2,1,2,5,3,2,7,4,3,2,1,10,2,4,1,2,3,1,1,14,15,1,5,1,2,4,1,1,6,1,8,2,2,1,1,12,1,1,1,2,1,2,1,6,1,11,1,2,1,1,1,1,9,1,3,1,1,1,1,1,3,2,9,2,1,1,1,4,1,2,12,3,16,12,16,4,1,1,1,1,1,2,2,2,4,2,4,1,2,4,1,1,1,3,1,2,1,8,4,1,1,9,9,3,12,3,18,1,2,17,3,26,4,1,3,4,4,1,6,4,1,1,1,6,4,3,3,2,2,4,4,6,2,6,2,1,6,2,2,13,1,3,2,18,4,10,1,1,1,1,2,2,1,2,10,1,2,2,2,2,1,3,14,1,3,7,2,4,12,4,3,3,5,1,1,17,1,2,18,5,4,5,20,1,1,2,1,4,1,1,9,2,14,1,1,5,1,1,1,1,1,3,7,6,2,1,1,1,1,1,1,5,1,6,3,2,1,1,1,4,1,1,5,1,1,3,5,2,4,1,1,1,1,6,8,10,1,28,3,4,1,2,2,2,4,1,3,1,4,3,2,1,2,1,2,1,4,2,5,10,1,2,1,5,2,1,3,2,1,1,1,1,4,5,10,1,6,1,1,1,5,1,2,11,1,1,11,11,1,2,2,3,5,2,4,3,16,5,1,4,9,2,19,2,2,1,1,7,1,3,5,5,9,5,1,5,1,3,2,5,3,1,1,2,1,2,1,7,6,2,15,2,3,15,1,2,1,13,9,2,2,3,2,3,2,2,1,1,1,1,21,1,3,2,1,1,2,5,1,1,1,3,18,2,5,5,1,3,8,3,7,26,1,1,1,6,2,6,6,7,2,3,2,4,1,1,2,1,5,2,2,2,1,10,1,4,1,5,2,1,3,4,6,10,2,5,1,6,16,11,1,7,11,3,3,8,1,1,1,1,1,1,1,12,5,1,1,4,1,4,2,3,1,6,3,2,2,4,2,5,10,1,4,1,5,5,4,1,1,5,1,1,3,1,1,8,4,11,1,5,1,2,2,1,1,2,3,4,4,3,2,1,1,2,4,2,1,1,14,1,2,2,2,1,5,3,5,4,5,7,1,1,2,2,1,1,1,1,1,3,1,12,1,5,13,4,9,1,8,1,1,5,1,1,2,3,4,4,2,2,1,4,1,3,1,9,6,1,2,1,7,2,6,2,1,1,7,8,3,26,3,1,1,17,16,5,15,5,3,17,3,3,1,2,3,2,3,2,1,3,1,1,1,2,4,7,1,1,1,1,5,16,1,3,7,2,1,2,5,5,2,2,1,1,5,7,1,12,19,2,1,5,3,1,1,1,7,1,1,1,2,6,2,3,1,21,2,1,1,1,11,6,1,2,1,1,5,5,8,1,1,1,3,13,9,1,4,1,1,2,2,1,4,19,9,1,6,1,3,11,9,4,6,3,1,2,6,3,1,1,1,3,3,1,2,3,3,13,1,2,5,3,1,6,1,2,1,1,1,4,6,1,1,1,1,3,5,16,1,9,16,2,1,1,1,1,1,1,4,1,1,1,1,1,1,1,2,1,1,1,1,1,30,7,1,1,12,1,1,6,1,1,1,3,2,4,1,2,1,1,2,2,8,4,6,10,3,3,1,10,2,4,6,2,1,1,4,1,21,1,2,1,2,5,1,2,3,2,1,3,2,1,8,1,2,10,1,1,1,14,1,1,3,4,3,5,19,14,2,11,5,2,1,14,2,2,2,15,4,2,3,3,1,5,3,34,1,8,4,1,3,2,2,5,1,2,1,17,3,9,12,1,1,2,4,2,8,4,2,1,1,3,1,1,7,5,1,2,8,1,1,1,1,11,3,2,1,2,5,2,1,2,5,12,1,2,6,3,10,2,1,1,13,1,1,7,9,22,12,3,4,1,1,7,9,3,1,1,3,1,8,6,11,3,3,3,5,2,3,7,3,1,16,1,2,1,3,1,5,1,1,3,12,1,4,1,1,1,6,1,2,4,2,2,1,1,1,2,7,8,1,3,1,2,3,1,1,1,1,1,1,2,1,2,1,4,12,1,1,5,7,11,2,1,5,6,1,1,5,2,2,17,2,2,2,1,12,1,4,2,7,1,8,2,1,3,1,2,1,3,4,8,6,3,6,4,1,6,3,1,1,1,17,1,2,1,1,2,2,3,1,1,8,2,1,18,2,1,1,13,1,2,1,2,14,4,2,4,7,1,2,2,3,1,3,1,1,12,21,3,8,1,1,3,1,1,2,1,2,2,5,1,3,1,1,2,33,1,21,8,3,1,2,4,5,6,1,2,2,5,4,2,6,1,2,15,1,9,7,5,1,2,1,5,1,4,2,1,3,1,7,2,4,1,3,4,1,1,3,2,6,3,1,3,4,3,2,6,4,3,2,5,14,1,23,1,1,19,2,10,12,5,11,4,2,1,1,1,3,3,1,1,1,14,1,2,2,3,4,3,2,8,1,2,1,1,2,1,3,1,2,1,12,14,2,5,1,1,2,2,1,10,2,2,1,1,1,2,1,1,1,1,1,11,2,2,5,1,12,1,1,7,5,1,24,1,11,4,1,1,1,1,2,7,1,3,1,3,2,2,1,5,3,3,2,1,2,2,4,1,3,1,6,2,9,3,1,1,2,1,3,6,1,4,5,3,1,1,12,1,4,5,2,2,5,3,5,5,3,11,5,11,1,2,7,7,3,2,3,1,3,1,1,1,1,4,2,12,1,1,1,1,9,2,1,2,1,3,1,4,1,1,6,1,6,2,1,13,4,1,7,1,4,6,1,1,3,2,1,3,7,7,11,1,1,1,5,13,1,4,1,7,1,3,4,1,1,2,2,1,3,6,5,18,1,14,19,1,1,1,4,5,1,1,1,8,1,2,2,2,1,1,1,1,2,2,2,2,11,1,1,6,9,8,9,14,3,1,1,1,1,1,1,1,3,1,1,1,3,3,5,1,8,3,1,2,3,3,1,1,2,24,2,2,10,4,1,2,14,1,1,1,1,6,3,1,3,1,6,8,3,7,3,3,1,2,2,9,2,5,2,1,4,4,13,4,1,1,3,1,1,1,1,26,1,3,1,1,2,4,5,1,1,2,2,5,4,8,2,1,16,1,2,1,2,1,4,4,1,1,1,1,2,1,26,5,6,1,6,4,7,2,2,19,3,4,1,3,4,2,4,3,2,1,1,6,2,7,6,5,9,1,7,1,2,4,1,2,7,6,1,1,1,1,1,11,15,1,1,1,10,4,5,4,5,1,1,3,1,3,4,1,1,1,22,2,2,1,15,4,11,2,1,1,1,2,1,3,9,2,4,1,12,4,2,9,5,10,1,6,2,6,8,1,1,2,6,1,2,1,2,2,1,2,1,1,1,12,3,4,2,1,10,1,1,1,4,1,7,2,1,1,4,1,2,1,1,1,1,2,2,1,22,2,1,3,1,3,1,2,1,1,26,6,1,4,3,13,1,9,8,2,1,2,9,3,12,1,19,24,6,1,1,2,5,2,2,1,3,3,1,15,2,5,2,4,1,1,1,4,4,5,1,1,1,1,1,14,1,2,6,1,1,7,1,1,1,1,13,2,19,1,2,1,3,12,1,1,1,2,9,5,9,5,29,2,1,4,1,7,1,5,5,4,2,5,1,5,25,9,4,2,2,3,2,7,3,2,2,1,6,4,1,13,3,1,2,2,1,3,2,1,16,1,1,5,1,1,1,9,1,3,3,1,5,2,1,3,27,1,4,1,1,8,14,2,1,1,1,1,2,13,4,3,4,3,8,1,3,11,1,1,19,2,1,2,1,19,1,2,14,9,2,1,5,2,1,1,7,9,2,2,1,2,1,4,1,2,4,2,1,1,1,8,3,1,2],\"xaxis\":\"x\",\"yaxis\":\"y\",\"type\":\"histogram\"}],                        {\"template\":{\"data\":{\"histogram2dcontour\":[{\"type\":\"histogram2dcontour\",\"colorbar\":{\"outlinewidth\":0,\"ticks\":\"\"},\"colorscale\":[[0.0,\"#0d0887\"],[0.1111111111111111,\"#46039f\"],[0.2222222222222222,\"#7201a8\"],[0.3333333333333333,\"#9c179e\"],[0.4444444444444444,\"#bd3786\"],[0.5555555555555556,\"#d8576b\"],[0.6666666666666666,\"#ed7953\"],[0.7777777777777778,\"#fb9f3a\"],[0.8888888888888888,\"#fdca26\"],[1.0,\"#f0f921\"]]}],\"choropleth\":[{\"type\":\"choropleth\",\"colorbar\":{\"outlinewidth\":0,\"ticks\":\"\"}}],\"histogram2d\":[{\"type\":\"histogram2d\",\"colorbar\":{\"outlinewidth\":0,\"ticks\":\"\"},\"colorscale\":[[0.0,\"#0d0887\"],[0.1111111111111111,\"#46039f\"],[0.2222222222222222,\"#7201a8\"],[0.3333333333333333,\"#9c179e\"],[0.4444444444444444,\"#bd3786\"],[0.5555555555555556,\"#d8576b\"],[0.6666666666666666,\"#ed7953\"],[0.7777777777777778,\"#fb9f3a\"],[0.8888888888888888,\"#fdca26\"],[1.0,\"#f0f921\"]]}],\"heatmap\":[{\"type\":\"heatmap\",\"colorbar\":{\"outlinewidth\":0,\"ticks\":\"\"},\"colorscale\":[[0.0,\"#0d0887\"],[0.1111111111111111,\"#46039f\"],[0.2222222222222222,\"#7201a8\"],[0.3333333333333333,\"#9c179e\"],[0.4444444444444444,\"#bd3786\"],[0.5555555555555556,\"#d8576b\"],[0.6666666666666666,\"#ed7953\"],[0.7777777777777778,\"#fb9f3a\"],[0.8888888888888888,\"#fdca26\"],[1.0,\"#f0f921\"]]}],\"heatmapgl\":[{\"type\":\"heatmapgl\",\"colorbar\":{\"outlinewidth\":0,\"ticks\":\"\"},\"colorscale\":[[0.0,\"#0d0887\"],[0.1111111111111111,\"#46039f\"],[0.2222222222222222,\"#7201a8\"],[0.3333333333333333,\"#9c179e\"],[0.4444444444444444,\"#bd3786\"],[0.5555555555555556,\"#d8576b\"],[0.6666666666666666,\"#ed7953\"],[0.7777777777777778,\"#fb9f3a\"],[0.8888888888888888,\"#fdca26\"],[1.0,\"#f0f921\"]]}],\"contourcarpet\":[{\"type\":\"contourcarpet\",\"colorbar\":{\"outlinewidth\":0,\"ticks\":\"\"}}],\"contour\":[{\"type\":\"contour\",\"colorbar\":{\"outlinewidth\":0,\"ticks\":\"\"},\"colorscale\":[[0.0,\"#0d0887\"],[0.1111111111111111,\"#46039f\"],[0.2222222222222222,\"#7201a8\"],[0.3333333333333333,\"#9c179e\"],[0.4444444444444444,\"#bd3786\"],[0.5555555555555556,\"#d8576b\"],[0.6666666666666666,\"#ed7953\"],[0.7777777777777778,\"#fb9f3a\"],[0.8888888888888888,\"#fdca26\"],[1.0,\"#f0f921\"]]}],\"surface\":[{\"type\":\"surface\",\"colorbar\":{\"outlinewidth\":0,\"ticks\":\"\"},\"colorscale\":[[0.0,\"#0d0887\"],[0.1111111111111111,\"#46039f\"],[0.2222222222222222,\"#7201a8\"],[0.3333333333333333,\"#9c179e\"],[0.4444444444444444,\"#bd3786\"],[0.5555555555555556,\"#d8576b\"],[0.6666666666666666,\"#ed7953\"],[0.7777777777777778,\"#fb9f3a\"],[0.8888888888888888,\"#fdca26\"],[1.0,\"#f0f921\"]]}],\"mesh3d\":[{\"type\":\"mesh3d\",\"colorbar\":{\"outlinewidth\":0,\"ticks\":\"\"}}],\"scatter\":[{\"fillpattern\":{\"fillmode\":\"overlay\",\"size\":10,\"solidity\":0.2},\"type\":\"scatter\"}],\"parcoords\":[{\"type\":\"parcoords\",\"line\":{\"colorbar\":{\"outlinewidth\":0,\"ticks\":\"\"}}}],\"scatterpolargl\":[{\"type\":\"scatterpolargl\",\"marker\":{\"colorbar\":{\"outlinewidth\":0,\"ticks\":\"\"}}}],\"bar\":[{\"error_x\":{\"color\":\"#2a3f5f\"},\"error_y\":{\"color\":\"#2a3f5f\"},\"marker\":{\"line\":{\"color\":\"#E5ECF6\",\"width\":0.5},\"pattern\":{\"fillmode\":\"overlay\",\"size\":10,\"solidity\":0.2}},\"type\":\"bar\"}],\"scattergeo\":[{\"type\":\"scattergeo\",\"marker\":{\"colorbar\":{\"outlinewidth\":0,\"ticks\":\"\"}}}],\"scatterpolar\":[{\"type\":\"scatterpolar\",\"marker\":{\"colorbar\":{\"outlinewidth\":0,\"ticks\":\"\"}}}],\"histogram\":[{\"marker\":{\"pattern\":{\"fillmode\":\"overlay\",\"size\":10,\"solidity\":0.2}},\"type\":\"histogram\"}],\"scattergl\":[{\"type\":\"scattergl\",\"marker\":{\"colorbar\":{\"outlinewidth\":0,\"ticks\":\"\"}}}],\"scatter3d\":[{\"type\":\"scatter3d\",\"line\":{\"colorbar\":{\"outlinewidth\":0,\"ticks\":\"\"}},\"marker\":{\"colorbar\":{\"outlinewidth\":0,\"ticks\":\"\"}}}],\"scattermapbox\":[{\"type\":\"scattermapbox\",\"marker\":{\"colorbar\":{\"outlinewidth\":0,\"ticks\":\"\"}}}],\"scatterternary\":[{\"type\":\"scatterternary\",\"marker\":{\"colorbar\":{\"outlinewidth\":0,\"ticks\":\"\"}}}],\"scattercarpet\":[{\"type\":\"scattercarpet\",\"marker\":{\"colorbar\":{\"outlinewidth\":0,\"ticks\":\"\"}}}],\"carpet\":[{\"aaxis\":{\"endlinecolor\":\"#2a3f5f\",\"gridcolor\":\"white\",\"linecolor\":\"white\",\"minorgridcolor\":\"white\",\"startlinecolor\":\"#2a3f5f\"},\"baxis\":{\"endlinecolor\":\"#2a3f5f\",\"gridcolor\":\"white\",\"linecolor\":\"white\",\"minorgridcolor\":\"white\",\"startlinecolor\":\"#2a3f5f\"},\"type\":\"carpet\"}],\"table\":[{\"cells\":{\"fill\":{\"color\":\"#EBF0F8\"},\"line\":{\"color\":\"white\"}},\"header\":{\"fill\":{\"color\":\"#C8D4E3\"},\"line\":{\"color\":\"white\"}},\"type\":\"table\"}],\"barpolar\":[{\"marker\":{\"line\":{\"color\":\"#E5ECF6\",\"width\":0.5},\"pattern\":{\"fillmode\":\"overlay\",\"size\":10,\"solidity\":0.2}},\"type\":\"barpolar\"}],\"pie\":[{\"automargin\":true,\"type\":\"pie\"}]},\"layout\":{\"autotypenumbers\":\"strict\",\"colorway\":[\"#636efa\",\"#EF553B\",\"#00cc96\",\"#ab63fa\",\"#FFA15A\",\"#19d3f3\",\"#FF6692\",\"#B6E880\",\"#FF97FF\",\"#FECB52\"],\"font\":{\"color\":\"#2a3f5f\"},\"hovermode\":\"closest\",\"hoverlabel\":{\"align\":\"left\"},\"paper_bgcolor\":\"white\",\"plot_bgcolor\":\"#E5ECF6\",\"polar\":{\"bgcolor\":\"#E5ECF6\",\"angularaxis\":{\"gridcolor\":\"white\",\"linecolor\":\"white\",\"ticks\":\"\"},\"radialaxis\":{\"gridcolor\":\"white\",\"linecolor\":\"white\",\"ticks\":\"\"}},\"ternary\":{\"bgcolor\":\"#E5ECF6\",\"aaxis\":{\"gridcolor\":\"white\",\"linecolor\":\"white\",\"ticks\":\"\"},\"baxis\":{\"gridcolor\":\"white\",\"linecolor\":\"white\",\"ticks\":\"\"},\"caxis\":{\"gridcolor\":\"white\",\"linecolor\":\"white\",\"ticks\":\"\"}},\"coloraxis\":{\"colorbar\":{\"outlinewidth\":0,\"ticks\":\"\"}},\"colorscale\":{\"sequential\":[[0.0,\"#0d0887\"],[0.1111111111111111,\"#46039f\"],[0.2222222222222222,\"#7201a8\"],[0.3333333333333333,\"#9c179e\"],[0.4444444444444444,\"#bd3786\"],[0.5555555555555556,\"#d8576b\"],[0.6666666666666666,\"#ed7953\"],[0.7777777777777778,\"#fb9f3a\"],[0.8888888888888888,\"#fdca26\"],[1.0,\"#f0f921\"]],\"sequentialminus\":[[0.0,\"#0d0887\"],[0.1111111111111111,\"#46039f\"],[0.2222222222222222,\"#7201a8\"],[0.3333333333333333,\"#9c179e\"],[0.4444444444444444,\"#bd3786\"],[0.5555555555555556,\"#d8576b\"],[0.6666666666666666,\"#ed7953\"],[0.7777777777777778,\"#fb9f3a\"],[0.8888888888888888,\"#fdca26\"],[1.0,\"#f0f921\"]],\"diverging\":[[0,\"#8e0152\"],[0.1,\"#c51b7d\"],[0.2,\"#de77ae\"],[0.3,\"#f1b6da\"],[0.4,\"#fde0ef\"],[0.5,\"#f7f7f7\"],[0.6,\"#e6f5d0\"],[0.7,\"#b8e186\"],[0.8,\"#7fbc41\"],[0.9,\"#4d9221\"],[1,\"#276419\"]]},\"xaxis\":{\"gridcolor\":\"white\",\"linecolor\":\"white\",\"ticks\":\"\",\"title\":{\"standoff\":15},\"zerolinecolor\":\"white\",\"automargin\":true,\"zerolinewidth\":2},\"yaxis\":{\"gridcolor\":\"white\",\"linecolor\":\"white\",\"ticks\":\"\",\"title\":{\"standoff\":15},\"zerolinecolor\":\"white\",\"automargin\":true,\"zerolinewidth\":2},\"scene\":{\"xaxis\":{\"backgroundcolor\":\"#E5ECF6\",\"gridcolor\":\"white\",\"linecolor\":\"white\",\"showbackground\":true,\"ticks\":\"\",\"zerolinecolor\":\"white\",\"gridwidth\":2},\"yaxis\":{\"backgroundcolor\":\"#E5ECF6\",\"gridcolor\":\"white\",\"linecolor\":\"white\",\"showbackground\":true,\"ticks\":\"\",\"zerolinecolor\":\"white\",\"gridwidth\":2},\"zaxis\":{\"backgroundcolor\":\"#E5ECF6\",\"gridcolor\":\"white\",\"linecolor\":\"white\",\"showbackground\":true,\"ticks\":\"\",\"zerolinecolor\":\"white\",\"gridwidth\":2}},\"shapedefaults\":{\"line\":{\"color\":\"#2a3f5f\"}},\"annotationdefaults\":{\"arrowcolor\":\"#2a3f5f\",\"arrowhead\":0,\"arrowwidth\":1},\"geo\":{\"bgcolor\":\"white\",\"landcolor\":\"#E5ECF6\",\"subunitcolor\":\"white\",\"showland\":true,\"showlakes\":true,\"lakecolor\":\"white\"},\"title\":{\"x\":0.05},\"mapbox\":{\"style\":\"light\"}}},\"xaxis\":{\"anchor\":\"y\",\"domain\":[0.0,1.0],\"title\":{\"text\":\"Reginol_Node_Positive\"}},\"yaxis\":{\"anchor\":\"x\",\"domain\":[0.0,1.0],\"title\":{\"text\":\"count\"}},\"legend\":{\"tracegroupgap\":0},\"margin\":{\"t\":60},\"barmode\":\"relative\"},                        {\"responsive\": true}                    ).then(function(){\n",
              "                            \n",
              "var gd = document.getElementById('4b1c30d7-da94-458c-9492-5e5e98250086');\n",
              "var x = new MutationObserver(function (mutations, observer) {{\n",
              "        var display = window.getComputedStyle(gd).display;\n",
              "        if (!display || display === 'none') {{\n",
              "            console.log([gd, 'removed!']);\n",
              "            Plotly.purge(gd);\n",
              "            observer.disconnect();\n",
              "        }}\n",
              "}});\n",
              "\n",
              "// Listen for the removal of the full notebook cells\n",
              "var notebookContainer = gd.closest('#notebook-container');\n",
              "if (notebookContainer) {{\n",
              "    x.observe(notebookContainer, {childList: true});\n",
              "}}\n",
              "\n",
              "// Listen for the clearing of the current output cell\n",
              "var outputEl = gd.closest('.output');\n",
              "if (outputEl) {{\n",
              "    x.observe(outputEl, {childList: true});\n",
              "}}\n",
              "\n",
              "                        })                };                            </script>        </div>\n",
              "</body>\n",
              "</html>"
            ]
          },
          "metadata": {}
        },
        {
          "output_type": "display_data",
          "data": {
            "text/html": [
              "<html>\n",
              "<head><meta charset=\"utf-8\" /></head>\n",
              "<body>\n",
              "    <div>            <script src=\"https://cdnjs.cloudflare.com/ajax/libs/mathjax/2.7.5/MathJax.js?config=TeX-AMS-MML_SVG\"></script><script type=\"text/javascript\">if (window.MathJax && window.MathJax.Hub && window.MathJax.Hub.Config) {window.MathJax.Hub.Config({SVG: {font: \"STIX-Web\"}});}</script>                <script type=\"text/javascript\">window.PlotlyConfig = {MathJaxConfig: 'local'};</script>\n",
              "        <script charset=\"utf-8\" src=\"https://cdn.plot.ly/plotly-2.35.2.min.js\"></script>                <div id=\"e3b1f898-7c25-4299-b116-4cc9272aa49c\" class=\"plotly-graph-div\" style=\"height:525px; width:100%;\"></div>            <script type=\"text/javascript\">                                    window.PLOTLYENV=window.PLOTLYENV || {};                                    if (document.getElementById(\"e3b1f898-7c25-4299-b116-4cc9272aa49c\")) {                    Plotly.newPlot(                        \"e3b1f898-7c25-4299-b116-4cc9272aa49c\",                        [{\"hovertemplate\":\"Reginol_Node_Positive=%{x}\\u003cbr\\u003eindex=%{y}\\u003cextra\\u003e\\u003c\\u002fextra\\u003e\",\"legendgroup\":\"\",\"marker\":{\"color\":\"#636efa\",\"symbol\":\"circle\"},\"mode\":\"markers\",\"name\":\"\",\"showlegend\":false,\"x\":[1,5,7,1,1,2,1,1,12,1,3,3,7,14,1,1,1,1,1,2,5,1,1,22,17,23,1,4,1,1,1,1,3,10,2,6,2,2,5,12,2,1,6,2,5,2,1,9,3,3,1,1,1,1,1,2,2,1,1,3,1,23,3,1,3,20,1,1,16,1,4,1,1,1,13,1,2,1,1,11,1,1,1,1,4,16,3,2,2,1,3,1,24,1,1,1,3,1,1,2,2,3,4,3,10,2,5,3,9,3,2,2,3,16,4,2,1,2,1,2,3,1,6,1,1,7,5,1,1,10,9,1,4,3,1,1,2,1,3,1,2,1,5,2,1,1,1,14,4,1,1,2,6,1,7,17,1,1,2,3,2,1,2,1,10,2,14,5,1,2,1,13,2,3,2,9,1,1,1,4,1,1,2,5,2,2,2,4,1,12,1,1,1,1,1,1,12,1,9,1,1,2,7,2,3,1,2,9,1,4,1,7,5,1,2,1,21,1,2,1,2,2,15,5,1,1,3,2,1,6,1,2,6,2,2,1,1,1,2,1,2,3,1,1,1,3,1,10,9,2,3,9,1,1,2,3,1,2,10,2,2,6,2,11,28,1,1,6,14,1,1,4,1,3,1,2,3,5,3,4,1,3,2,5,6,17,1,1,3,1,1,1,7,1,6,4,1,1,9,1,2,3,1,1,2,1,3,4,3,9,1,1,5,12,1,2,9,2,4,4,1,1,1,1,2,2,1,1,2,1,2,2,4,7,4,6,11,1,4,13,13,3,1,2,4,4,6,1,1,1,3,2,1,17,12,2,9,1,4,1,8,1,2,1,3,1,2,2,2,1,1,2,1,1,1,1,1,2,2,1,1,5,1,2,2,1,11,2,1,5,14,1,1,1,13,1,1,3,1,2,2,2,5,3,3,1,6,2,1,1,1,1,19,1,11,1,1,2,2,1,3,3,3,1,2,1,1,1,1,1,8,1,6,3,4,6,6,24,1,1,7,1,1,6,1,3,6,2,2,1,1,19,2,5,7,1,2,2,7,1,3,2,1,3,2,2,2,3,2,13,1,5,1,1,12,20,1,1,14,1,1,4,5,2,24,1,1,1,1,1,1,3,29,1,5,4,22,4,3,2,4,2,1,8,7,2,4,5,1,1,1,4,2,2,10,13,2,1,9,5,26,7,1,1,2,1,10,1,3,2,1,1,1,10,1,3,1,4,2,9,1,2,5,2,1,4,5,1,3,2,11,3,1,1,2,3,3,1,8,1,1,2,1,1,1,1,9,1,1,8,1,6,1,2,1,1,2,1,1,1,1,4,3,1,9,19,2,2,3,2,7,1,1,3,2,2,1,22,2,10,16,1,1,3,1,5,4,2,1,1,1,1,3,4,2,3,3,3,3,4,1,21,1,5,14,2,2,1,1,1,5,2,4,1,6,17,11,6,1,6,7,2,10,6,2,15,1,4,3,1,3,1,2,1,4,1,4,11,3,1,5,3,1,2,7,22,4,2,1,2,3,1,4,2,1,3,3,2,1,3,1,6,2,4,1,3,1,2,2,6,3,3,1,2,6,1,1,2,1,1,6,1,3,1,6,8,1,1,5,1,13,3,2,1,1,5,1,8,3,1,18,1,1,2,1,2,8,1,1,1,1,2,1,10,16,1,1,1,1,1,4,3,1,1,1,1,3,10,20,14,1,1,1,1,1,1,2,4,6,1,5,1,1,1,9,4,3,1,1,2,2,18,5,1,1,15,3,1,1,1,1,7,3,1,1,8,4,3,3,3,2,5,1,10,2,14,6,10,3,3,1,1,5,4,1,2,2,1,4,3,1,5,1,3,2,1,3,9,8,22,2,9,5,1,1,2,1,1,2,2,23,1,2,19,1,1,1,2,1,5,1,3,2,11,2,2,2,1,3,1,1,2,3,1,2,3,7,3,7,22,1,1,20,3,2,9,4,15,1,1,2,1,2,1,2,2,2,9,1,1,9,5,16,1,3,3,4,4,1,2,9,1,1,3,1,1,1,2,1,19,3,1,1,2,3,11,4,1,2,3,1,1,2,5,7,22,3,1,5,3,1,5,1,9,7,1,2,16,1,3,4,1,3,2,5,2,2,3,5,1,3,2,11,1,1,1,1,1,28,22,8,4,11,2,2,2,1,8,1,1,2,7,3,2,6,8,3,3,1,18,17,8,1,2,3,5,9,3,17,9,8,7,4,1,1,9,3,4,2,11,20,11,2,2,2,1,1,2,15,1,6,17,2,1,9,3,2,1,10,1,3,3,1,5,14,22,1,9,3,1,1,3,6,1,24,4,3,15,30,2,1,2,1,1,1,2,1,2,7,1,2,7,10,1,1,2,5,1,9,3,1,1,2,1,1,7,1,10,1,1,4,4,1,2,1,5,5,2,2,1,8,4,4,1,7,2,1,1,1,2,6,1,3,12,1,3,6,2,3,1,1,4,1,5,7,3,1,1,1,1,1,27,1,2,6,2,1,4,3,2,2,8,1,22,10,1,2,4,2,1,2,2,1,2,6,2,1,1,1,2,1,1,7,3,1,1,2,1,1,1,1,4,1,2,1,6,6,26,9,3,5,1,1,3,2,2,2,1,18,1,1,2,20,1,3,3,13,1,2,2,1,1,1,1,5,2,8,22,1,7,1,9,3,1,7,10,1,1,1,3,1,1,2,2,1,1,2,2,3,1,1,1,2,4,1,16,1,2,1,1,1,1,3,1,5,1,1,12,4,1,1,1,1,1,1,15,9,1,1,1,12,1,2,1,1,2,11,1,2,3,1,2,1,1,1,2,3,3,7,5,2,1,1,2,1,2,1,1,2,1,2,1,2,3,1,4,8,1,2,10,16,1,2,3,25,1,14,1,1,9,17,1,2,13,1,1,4,1,2,1,2,10,1,1,3,1,1,10,3,3,2,2,24,3,1,5,8,6,15,2,1,10,1,1,1,6,9,2,3,1,3,20,1,3,16,1,1,4,1,8,8,1,13,10,17,2,1,3,6,5,6,2,1,19,4,3,1,1,1,4,19,1,1,1,1,2,2,3,3,1,9,8,2,1,1,1,3,1,2,1,8,1,1,1,2,7,1,2,4,4,5,2,2,1,6,2,4,1,2,1,1,1,2,3,1,5,13,1,10,1,1,2,22,1,2,1,1,11,1,1,2,1,1,2,1,1,11,12,2,19,8,6,14,13,4,2,1,1,2,2,5,1,1,4,3,3,6,1,7,8,1,2,2,14,2,2,2,16,29,1,1,1,1,6,1,2,1,3,8,1,3,8,3,2,1,1,3,1,2,5,6,5,3,10,2,1,1,3,3,4,4,1,2,21,8,3,2,1,2,4,1,1,3,17,2,5,1,10,1,4,4,1,4,1,1,17,1,1,4,2,2,2,2,1,8,6,7,2,2,3,1,3,1,4,1,2,1,1,2,1,1,1,1,8,3,2,2,1,3,2,1,2,3,1,29,1,3,1,1,2,1,3,2,3,1,5,1,2,13,2,3,1,1,1,15,1,2,4,2,3,7,1,2,3,13,9,1,2,1,1,3,4,2,5,1,25,9,3,5,3,1,1,1,1,2,1,2,2,2,2,2,6,4,1,21,1,1,1,1,1,1,1,1,11,1,7,5,1,18,1,2,1,1,1,1,8,17,4,3,2,2,1,2,3,5,6,1,2,2,1,1,3,2,2,2,1,2,8,1,6,1,2,3,1,1,1,1,3,7,2,10,21,3,1,3,1,2,1,3,1,5,10,4,1,2,5,1,12,9,1,5,1,1,2,1,1,1,3,7,2,3,3,4,4,1,4,5,6,6,1,2,1,19,1,11,2,2,1,4,1,1,1,2,4,1,2,11,1,1,4,3,9,3,1,3,1,1,2,2,1,16,1,7,2,1,2,2,1,1,1,4,1,2,1,5,7,1,1,11,2,1,2,1,4,1,1,1,3,1,1,2,3,5,3,5,2,2,2,1,5,1,16,11,1,4,2,4,1,2,9,5,1,1,1,9,1,2,2,1,1,3,18,1,3,5,1,1,2,23,2,5,4,5,1,1,5,6,2,2,2,1,1,1,3,3,5,2,4,5,1,1,1,3,1,1,9,4,1,1,5,6,1,3,3,17,1,3,11,1,2,1,13,2,2,1,1,4,3,7,1,3,6,2,1,1,12,4,1,1,2,1,1,7,1,2,1,1,7,1,1,2,1,1,1,14,1,2,3,2,1,1,1,1,1,14,12,2,1,1,3,27,22,2,1,3,19,14,2,2,4,8,2,1,3,1,1,1,2,2,1,6,1,1,4,2,1,5,1,2,1,15,3,1,6,5,1,2,2,2,1,3,1,1,1,1,1,1,1,2,4,4,2,5,6,1,7,8,5,1,1,1,1,4,1,7,3,6,1,8,1,1,1,7,4,1,1,1,12,2,1,1,1,1,1,2,5,1,2,3,4,1,10,1,16,2,7,2,1,2,1,4,1,14,11,2,10,2,1,1,2,6,1,2,1,2,5,3,2,7,4,3,2,1,10,2,4,1,2,3,1,1,14,15,1,5,1,2,4,1,1,6,1,8,2,2,1,1,12,1,1,1,2,1,2,1,6,1,11,1,2,1,1,1,1,9,1,3,1,1,1,1,1,3,2,9,2,1,1,1,4,1,2,12,3,16,12,16,4,1,1,1,1,1,2,2,2,4,2,4,1,2,4,1,1,1,3,1,2,1,8,4,1,1,9,9,3,12,3,18,1,2,17,3,26,4,1,3,4,4,1,6,4,1,1,1,6,4,3,3,2,2,4,4,6,2,6,2,1,6,2,2,13,1,3,2,18,4,10,1,1,1,1,2,2,1,2,10,1,2,2,2,2,1,3,14,1,3,7,2,4,12,4,3,3,5,1,1,17,1,2,18,5,4,5,20,1,1,2,1,4,1,1,9,2,14,1,1,5,1,1,1,1,1,3,7,6,2,1,1,1,1,1,1,5,1,6,3,2,1,1,1,4,1,1,5,1,1,3,5,2,4,1,1,1,1,6,8,10,1,28,3,4,1,2,2,2,4,1,3,1,4,3,2,1,2,1,2,1,4,2,5,10,1,2,1,5,2,1,3,2,1,1,1,1,4,5,10,1,6,1,1,1,5,1,2,11,1,1,11,11,1,2,2,3,5,2,4,3,16,5,1,4,9,2,19,2,2,1,1,7,1,3,5,5,9,5,1,5,1,3,2,5,3,1,1,2,1,2,1,7,6,2,15,2,3,15,1,2,1,13,9,2,2,3,2,3,2,2,1,1,1,1,21,1,3,2,1,1,2,5,1,1,1,3,18,2,5,5,1,3,8,3,7,26,1,1,1,6,2,6,6,7,2,3,2,4,1,1,2,1,5,2,2,2,1,10,1,4,1,5,2,1,3,4,6,10,2,5,1,6,16,11,1,7,11,3,3,8,1,1,1,1,1,1,1,12,5,1,1,4,1,4,2,3,1,6,3,2,2,4,2,5,10,1,4,1,5,5,4,1,1,5,1,1,3,1,1,8,4,11,1,5,1,2,2,1,1,2,3,4,4,3,2,1,1,2,4,2,1,1,14,1,2,2,2,1,5,3,5,4,5,7,1,1,2,2,1,1,1,1,1,3,1,12,1,5,13,4,9,1,8,1,1,5,1,1,2,3,4,4,2,2,1,4,1,3,1,9,6,1,2,1,7,2,6,2,1,1,7,8,3,26,3,1,1,17,16,5,15,5,3,17,3,3,1,2,3,2,3,2,1,3,1,1,1,2,4,7,1,1,1,1,5,16,1,3,7,2,1,2,5,5,2,2,1,1,5,7,1,12,19,2,1,5,3,1,1,1,7,1,1,1,2,6,2,3,1,21,2,1,1,1,11,6,1,2,1,1,5,5,8,1,1,1,3,13,9,1,4,1,1,2,2,1,4,19,9,1,6,1,3,11,9,4,6,3,1,2,6,3,1,1,1,3,3,1,2,3,3,13,1,2,5,3,1,6,1,2,1,1,1,4,6,1,1,1,1,3,5,16,1,9,16,2,1,1,1,1,1,1,4,1,1,1,1,1,1,1,2,1,1,1,1,1,30,7,1,1,12,1,1,6,1,1,1,3,2,4,1,2,1,1,2,2,8,4,6,10,3,3,1,10,2,4,6,2,1,1,4,1,21,1,2,1,2,5,1,2,3,2,1,3,2,1,8,1,2,10,1,1,1,14,1,1,3,4,3,5,19,14,2,11,5,2,1,14,2,2,2,15,4,2,3,3,1,5,3,34,1,8,4,1,3,2,2,5,1,2,1,17,3,9,12,1,1,2,4,2,8,4,2,1,1,3,1,1,7,5,1,2,8,1,1,1,1,11,3,2,1,2,5,2,1,2,5,12,1,2,6,3,10,2,1,1,13,1,1,7,9,22,12,3,4,1,1,7,9,3,1,1,3,1,8,6,11,3,3,3,5,2,3,7,3,1,16,1,2,1,3,1,5,1,1,3,12,1,4,1,1,1,6,1,2,4,2,2,1,1,1,2,7,8,1,3,1,2,3,1,1,1,1,1,1,2,1,2,1,4,12,1,1,5,7,11,2,1,5,6,1,1,5,2,2,17,2,2,2,1,12,1,4,2,7,1,8,2,1,3,1,2,1,3,4,8,6,3,6,4,1,6,3,1,1,1,17,1,2,1,1,2,2,3,1,1,8,2,1,18,2,1,1,13,1,2,1,2,14,4,2,4,7,1,2,2,3,1,3,1,1,12,21,3,8,1,1,3,1,1,2,1,2,2,5,1,3,1,1,2,33,1,21,8,3,1,2,4,5,6,1,2,2,5,4,2,6,1,2,15,1,9,7,5,1,2,1,5,1,4,2,1,3,1,7,2,4,1,3,4,1,1,3,2,6,3,1,3,4,3,2,6,4,3,2,5,14,1,23,1,1,19,2,10,12,5,11,4,2,1,1,1,3,3,1,1,1,14,1,2,2,3,4,3,2,8,1,2,1,1,2,1,3,1,2,1,12,14,2,5,1,1,2,2,1,10,2,2,1,1,1,2,1,1,1,1,1,11,2,2,5,1,12,1,1,7,5,1,24,1,11,4,1,1,1,1,2,7,1,3,1,3,2,2,1,5,3,3,2,1,2,2,4,1,3,1,6,2,9,3,1,1,2,1,3,6,1,4,5,3,1,1,12,1,4,5,2,2,5,3,5,5,3,11,5,11,1,2,7,7,3,2,3,1,3,1,1,1,1,4,2,12,1,1,1,1,9,2,1,2,1,3,1,4,1,1,6,1,6,2,1,13,4,1,7,1,4,6,1,1,3,2,1,3,7,7,11,1,1,1,5,13,1,4,1,7,1,3,4,1,1,2,2,1,3,6,5,18,1,14,19,1,1,1,4,5,1,1,1,8,1,2,2,2,1,1,1,1,2,2,2,2,11,1,1,6,9,8,9,14,3,1,1,1,1,1,1,1,3,1,1,1,3,3,5,1,8,3,1,2,3,3,1,1,2,24,2,2,10,4,1,2,14,1,1,1,1,6,3,1,3,1,6,8,3,7,3,3,1,2,2,9,2,5,2,1,4,4,13,4,1,1,3,1,1,1,1,26,1,3,1,1,2,4,5,1,1,2,2,5,4,8,2,1,16,1,2,1,2,1,4,4,1,1,1,1,2,1,26,5,6,1,6,4,7,2,2,19,3,4,1,3,4,2,4,3,2,1,1,6,2,7,6,5,9,1,7,1,2,4,1,2,7,6,1,1,1,1,1,11,15,1,1,1,10,4,5,4,5,1,1,3,1,3,4,1,1,1,22,2,2,1,15,4,11,2,1,1,1,2,1,3,9,2,4,1,12,4,2,9,5,10,1,6,2,6,8,1,1,2,6,1,2,1,2,2,1,2,1,1,1,12,3,4,2,1,10,1,1,1,4,1,7,2,1,1,4,1,2,1,1,1,1,2,2,1,22,2,1,3,1,3,1,2,1,1,26,6,1,4,3,13,1,9,8,2,1,2,9,3,12,1,19,24,6,1,1,2,5,2,2,1,3,3,1,15,2,5,2,4,1,1,1,4,4,5,1,1,1,1,1,14,1,2,6,1,1,7,1,1,1,1,13,2,19,1,2,1,3,12,1,1,1,2,9,5,9,5,29,2,1,4,1,7,1,5,5,4,2,5,1,5,25,9,4,2,2,3,2,7,3,2,2,1,6,4,1,13,3,1,2,2,1,3,2,1,16,1,1,5,1,1,1,9,1,3,3,1,5,2,1,3,27,1,4,1,1,8,14,2,1,1,1,1,2,13,4,3,4,3,8,1,3,11,1,1,19,2,1,2,1,19,1,2,14,9,2,1,5,2,1,1,7,9,2,2,1,2,1,4,1,2,4,2,1,1,1,8,3,1,2],\"xaxis\":\"x\",\"y\":[0,1,2,3,4,5,6,7,9,10,11,12,13,14,15,16,17,18,19,20,21,22,23,24,25,26,27,28,29,30,31,32,33,34,35,36,37,38,39,40,41,42,43,44,45,46,47,48,49,50,51,54,55,56,58,59,60,61,62,64,65,66,67,68,69,71,72,73,74,75,76,77,78,79,80,81,82,83,84,85,88,89,90,91,92,93,94,95,96,97,98,99,100,101,102,103,104,105,106,107,108,109,110,111,112,113,114,115,117,118,119,120,121,122,123,124,125,126,127,128,129,130,131,132,133,134,135,136,137,138,139,140,141,143,144,145,146,148,149,150,151,152,153,154,156,157,158,159,160,161,162,163,164,165,166,167,168,169,170,171,172,173,174,175,176,177,178,179,180,181,182,183,185,186,187,188,189,190,191,192,193,195,196,197,198,199,200,201,202,203,204,205,206,207,208,209,211,213,214,216,217,218,221,222,223,224,225,226,228,229,230,231,232,233,234,235,236,237,239,240,241,242,243,244,245,246,247,248,249,250,251,252,253,255,256,257,258,259,260,261,262,263,264,265,266,267,268,269,270,271,272,273,274,275,278,279,280,281,282,283,284,285,286,287,288,291,292,293,294,295,296,297,298,299,300,301,302,304,306,307,308,309,310,311,312,313,314,315,317,319,320,321,323,324,325,326,327,328,329,330,331,332,333,334,335,336,338,339,340,341,342,343,344,345,346,347,348,349,350,351,352,353,354,355,356,357,358,359,360,361,363,364,365,366,368,369,370,372,373,374,375,377,378,380,381,382,383,384,385,386,387,388,389,390,391,392,393,395,396,397,398,399,400,402,403,404,405,406,407,408,409,410,411,412,413,414,415,416,417,419,420,421,422,423,424,425,427,428,429,430,431,432,433,434,435,436,437,438,439,440,442,443,444,445,446,448,449,450,451,452,453,454,455,456,457,458,459,460,461,462,463,464,465,466,467,468,469,470,471,472,473,474,475,477,478,479,481,482,484,485,486,487,488,489,491,492,493,494,495,496,497,498,499,500,501,502,503,504,505,506,507,508,509,510,511,512,513,514,515,516,517,518,519,520,521,523,524,527,528,529,531,532,533,534,535,536,537,538,539,541,542,543,544,545,546,547,548,549,551,552,553,554,555,556,557,558,559,560,561,562,563,565,566,567,568,569,570,571,572,573,574,575,576,577,578,579,580,581,582,583,584,586,587,588,589,590,591,592,594,595,596,597,598,599,600,601,603,604,605,606,607,608,609,610,611,612,613,614,615,616,617,618,619,620,621,622,623,624,625,626,627,628,629,631,632,634,635,636,637,638,639,640,641,642,643,644,645,646,647,648,649,650,651,652,653,654,655,656,657,658,659,660,661,663,664,665,666,667,668,669,670,671,672,673,674,675,676,677,678,679,680,681,682,683,684,685,686,687,688,689,690,692,693,694,695,696,697,698,699,700,702,703,704,706,707,708,709,710,711,712,714,715,716,717,718,719,720,721,722,723,724,725,726,727,728,729,730,731,732,733,734,735,736,737,738,739,741,742,743,744,745,746,747,748,749,750,751,752,753,754,755,756,757,758,759,760,761,762,763,764,765,766,767,768,770,771,772,773,774,775,776,777,778,779,780,781,782,783,784,785,786,787,788,789,791,792,793,794,795,796,797,798,799,800,801,802,803,804,805,806,807,808,809,810,811,812,813,814,815,816,817,818,819,820,821,822,823,824,825,826,827,829,830,831,832,833,834,835,836,837,839,840,841,843,844,845,846,847,848,849,850,851,852,853,854,855,856,857,858,859,860,861,862,863,864,865,866,867,868,869,870,871,872,873,875,876,878,879,880,881,882,883,884,885,886,887,888,890,891,892,895,896,898,899,900,901,902,903,904,905,907,908,910,911,912,913,914,915,916,917,918,919,920,921,923,924,925,926,927,928,929,930,931,932,933,934,935,936,939,940,942,943,944,945,946,947,948,949,950,951,952,953,954,955,956,957,958,959,960,961,962,963,964,965,966,967,968,969,970,972,973,974,975,976,977,978,983,984,986,987,988,990,991,992,993,994,995,996,997,998,999,1000,1001,1002,1003,1004,1005,1006,1008,1009,1010,1011,1012,1013,1014,1015,1016,1017,1018,1019,1020,1021,1022,1023,1024,1025,1026,1028,1029,1030,1031,1032,1033,1034,1035,1036,1037,1038,1039,1040,1041,1042,1043,1044,1045,1046,1047,1048,1049,1050,1051,1052,1053,1054,1055,1056,1057,1058,1059,1060,1061,1062,1063,1064,1065,1066,1067,1068,1069,1070,1071,1072,1073,1074,1075,1076,1077,1078,1079,1080,1081,1082,1083,1084,1085,1086,1087,1088,1089,1090,1091,1092,1093,1094,1096,1097,1098,1099,1100,1101,1102,1103,1104,1105,1106,1107,1108,1109,1110,1111,1112,1113,1114,1115,1116,1117,1118,1119,1120,1121,1123,1124,1125,1126,1127,1129,1130,1131,1132,1133,1134,1135,1136,1137,1138,1139,1140,1141,1142,1143,1144,1145,1146,1147,1148,1149,1150,1151,1152,1153,1154,1155,1156,1157,1158,1160,1162,1163,1164,1165,1166,1167,1168,1169,1170,1171,1172,1173,1174,1175,1176,1177,1178,1179,1180,1181,1182,1183,1184,1185,1186,1187,1188,1189,1190,1191,1192,1194,1195,1197,1198,1199,1200,1201,1202,1203,1204,1205,1206,1207,1208,1209,1210,1211,1212,1213,1214,1215,1216,1217,1218,1219,1220,1221,1222,1223,1224,1226,1227,1228,1229,1230,1231,1232,1233,1234,1235,1236,1237,1238,1239,1240,1241,1242,1243,1244,1245,1246,1247,1248,1249,1250,1251,1252,1253,1254,1255,1256,1257,1258,1259,1260,1261,1262,1263,1264,1265,1266,1268,1269,1270,1271,1273,1274,1275,1276,1277,1278,1279,1280,1281,1282,1283,1284,1285,1286,1287,1288,1290,1291,1292,1293,1294,1295,1296,1297,1298,1299,1300,1301,1302,1303,1304,1305,1306,1307,1308,1309,1310,1311,1312,1313,1314,1315,1317,1318,1319,1320,1322,1323,1324,1325,1326,1327,1328,1329,1330,1331,1332,1333,1334,1335,1336,1337,1338,1339,1340,1341,1342,1343,1344,1345,1347,1348,1349,1350,1351,1352,1353,1354,1356,1357,1358,1359,1360,1361,1362,1363,1364,1365,1366,1367,1368,1370,1371,1372,1373,1374,1376,1377,1378,1379,1380,1381,1382,1383,1384,1385,1386,1387,1388,1389,1390,1391,1392,1393,1394,1395,1397,1398,1399,1400,1401,1402,1403,1404,1405,1406,1407,1408,1409,1410,1411,1412,1413,1414,1415,1416,1417,1418,1419,1420,1421,1422,1423,1424,1425,1426,1427,1428,1429,1430,1431,1432,1433,1434,1435,1436,1437,1438,1439,1440,1441,1442,1443,1444,1445,1446,1447,1448,1449,1450,1451,1452,1453,1454,1455,1456,1457,1458,1460,1461,1463,1464,1465,1466,1467,1468,1469,1470,1471,1472,1474,1475,1476,1477,1478,1480,1481,1482,1483,1484,1485,1486,1487,1488,1489,1490,1491,1492,1493,1494,1495,1496,1497,1498,1499,1500,1501,1502,1503,1504,1505,1506,1507,1508,1509,1510,1511,1513,1514,1515,1516,1517,1518,1519,1521,1523,1524,1525,1526,1527,1528,1529,1530,1532,1533,1534,1535,1536,1537,1538,1539,1541,1542,1543,1544,1545,1546,1547,1548,1549,1550,1551,1552,1553,1554,1555,1556,1557,1558,1559,1561,1562,1563,1564,1565,1566,1567,1568,1569,1570,1571,1572,1573,1574,1575,1576,1577,1578,1579,1581,1582,1583,1584,1585,1586,1587,1588,1589,1590,1592,1593,1594,1595,1596,1597,1598,1599,1600,1601,1602,1603,1604,1605,1606,1607,1608,1609,1610,1611,1612,1613,1614,1615,1616,1617,1618,1619,1620,1621,1622,1625,1626,1627,1628,1629,1630,1631,1632,1633,1634,1635,1636,1637,1638,1639,1640,1641,1642,1643,1644,1645,1646,1647,1648,1649,1650,1651,1652,1653,1654,1655,1656,1657,1658,1659,1660,1661,1662,1663,1664,1665,1666,1667,1669,1670,1671,1672,1673,1674,1675,1676,1677,1678,1679,1680,1681,1683,1684,1686,1687,1688,1689,1690,1691,1692,1693,1694,1695,1696,1697,1698,1699,1700,1701,1702,1703,1704,1705,1706,1707,1708,1709,1710,1711,1712,1713,1714,1715,1717,1718,1719,1720,1721,1722,1723,1724,1725,1726,1727,1728,1729,1730,1731,1732,1733,1734,1735,1736,1737,1738,1740,1741,1742,1743,1744,1745,1746,1747,1748,1749,1750,1751,1752,1753,1754,1755,1756,1757,1758,1759,1760,1761,1762,1763,1764,1765,1766,1767,1768,1769,1770,1771,1772,1773,1774,1775,1776,1777,1778,1779,1780,1781,1782,1783,1784,1786,1787,1788,1789,1790,1791,1792,1793,1794,1795,1796,1797,1798,1800,1801,1802,1803,1804,1805,1806,1807,1808,1809,1810,1811,1813,1814,1815,1816,1817,1818,1819,1820,1821,1822,1823,1824,1825,1826,1827,1828,1829,1830,1831,1832,1833,1834,1835,1836,1837,1838,1839,1840,1841,1842,1843,1844,1845,1846,1847,1848,1849,1850,1851,1852,1853,1854,1855,1856,1857,1858,1859,1860,1861,1862,1863,1864,1865,1866,1867,1868,1869,1871,1873,1874,1875,1876,1877,1878,1880,1882,1883,1884,1885,1886,1888,1889,1890,1891,1892,1893,1894,1895,1896,1897,1898,1899,1900,1901,1902,1903,1904,1905,1906,1907,1908,1909,1910,1911,1912,1913,1914,1916,1917,1918,1919,1920,1921,1922,1923,1924,1925,1926,1927,1928,1929,1930,1931,1932,1933,1934,1935,1936,1937,1938,1939,1940,1941,1942,1943,1944,1945,1946,1947,1948,1949,1950,1951,1952,1953,1954,1956,1957,1958,1959,1960,1961,1962,1963,1964,1965,1966,1967,1968,1969,1970,1971,1972,1973,1974,1975,1976,1977,1978,1979,1980,1981,1982,1983,1984,1985,1986,1987,1988,1989,1990,1991,1993,1994,1995,1996,1997,1998,1999,2000,2001,2002,2003,2004,2005,2006,2008,2009,2010,2011,2012,2013,2014,2015,2016,2017,2018,2019,2020,2021,2022,2023,2024,2025,2026,2027,2029,2030,2031,2032,2033,2034,2035,2036,2037,2040,2041,2042,2043,2044,2046,2047,2048,2049,2050,2051,2052,2053,2054,2057,2059,2060,2061,2062,2063,2064,2065,2066,2067,2069,2070,2071,2072,2073,2074,2075,2076,2077,2078,2079,2080,2081,2082,2083,2084,2086,2087,2088,2089,2090,2091,2092,2093,2095,2096,2097,2098,2099,2100,2101,2102,2103,2104,2105,2106,2108,2109,2110,2111,2112,2113,2114,2115,2116,2117,2118,2119,2120,2121,2122,2123,2124,2125,2126,2127,2129,2130,2131,2132,2133,2135,2136,2138,2139,2140,2141,2143,2144,2145,2146,2148,2149,2150,2151,2152,2153,2154,2155,2156,2158,2160,2161,2162,2163,2164,2166,2167,2168,2169,2170,2171,2172,2173,2174,2175,2177,2178,2179,2180,2181,2183,2184,2185,2186,2187,2188,2189,2190,2191,2192,2193,2194,2195,2196,2197,2198,2199,2200,2201,2202,2203,2204,2205,2206,2207,2208,2209,2210,2211,2212,2214,2215,2216,2217,2219,2220,2221,2222,2224,2225,2227,2229,2230,2231,2232,2233,2234,2235,2236,2237,2238,2239,2241,2242,2244,2245,2246,2247,2250,2251,2252,2253,2254,2255,2256,2257,2258,2259,2260,2261,2262,2263,2264,2266,2267,2268,2269,2270,2271,2272,2274,2275,2276,2277,2279,2280,2281,2282,2284,2285,2286,2287,2288,2289,2290,2291,2292,2294,2295,2296,2297,2298,2299,2301,2302,2303,2305,2306,2307,2308,2309,2310,2311,2312,2313,2314,2315,2316,2317,2318,2319,2320,2321,2322,2324,2325,2326,2327,2328,2329,2330,2331,2332,2333,2334,2335,2336,2337,2338,2341,2342,2343,2344,2345,2346,2347,2348,2349,2350,2351,2352,2353,2354,2356,2357,2358,2360,2361,2362,2363,2364,2365,2366,2368,2369,2370,2371,2372,2373,2374,2375,2377,2378,2379,2381,2382,2383,2384,2385,2386,2387,2388,2389,2390,2391,2392,2393,2394,2395,2396,2397,2398,2399,2400,2401,2402,2403,2404,2405,2406,2407,2408,2409,2410,2411,2413,2414,2415,2416,2417,2418,2419,2420,2421,2422,2423,2424,2425,2426,2427,2428,2429,2430,2431,2432,2433,2434,2435,2436,2437,2438,2439,2440,2441,2443,2444,2445,2446,2447,2448,2449,2450,2451,2452,2453,2454,2455,2456,2457,2458,2459,2461,2463,2464,2465,2466,2467,2468,2469,2470,2471,2472,2473,2474,2475,2476,2477,2478,2479,2481,2482,2483,2485,2486,2487,2488,2489,2490,2491,2492,2493,2494,2495,2496,2497,2498,2499,2500,2501,2503,2504,2505,2507,2508,2509,2510,2511,2512,2513,2514,2515,2516,2517,2518,2519,2520,2521,2522,2523,2524,2525,2526,2527,2528,2529,2530,2531,2533,2534,2535,2536,2537,2538,2539,2540,2541,2542,2543,2544,2545,2546,2547,2548,2549,2550,2551,2552,2553,2554,2555,2556,2557,2558,2559,2560,2561,2562,2564,2565,2566,2567,2568,2569,2570,2571,2572,2573,2574,2575,2576,2577,2578,2579,2580,2581,2582,2583,2584,2585,2586,2587,2588,2589,2590,2591,2592,2593,2595,2596,2597,2598,2599,2601,2602,2604,2605,2606,2608,2609,2610,2611,2613,2614,2615,2616,2617,2618,2619,2620,2621,2622,2624,2625,2626,2627,2628,2629,2630,2631,2632,2633,2634,2635,2636,2637,2639,2640,2641,2642,2643,2644,2645,2646,2647,2648,2649,2650,2651,2652,2653,2654,2655,2656,2657,2658,2659,2660,2661,2662,2663,2664,2665,2666,2667,2668,2671,2673,2674,2675,2676,2677,2678,2679,2680,2681,2682,2683,2685,2686,2687,2688,2689,2690,2691,2692,2693,2695,2696,2698,2699,2701,2702,2703,2704,2705,2706,2707,2708,2709,2710,2711,2712,2713,2714,2715,2716,2717,2718,2719,2720,2721,2722,2723,2724,2726,2727,2728,2729,2730,2731,2732,2733,2734,2735,2736,2737,2738,2740,2741,2742,2743,2745,2746,2747,2749,2750,2751,2752,2754,2755,2756,2757,2758,2760,2761,2762,2763,2764,2765,2766,2768,2769,2770,2771,2772,2773,2774,2775,2776,2777,2778,2779,2780,2781,2782,2783,2784,2785,2786,2787,2788,2789,2790,2791,2792,2794,2795,2796,2797,2798,2799,2800,2801,2802,2803,2804,2805,2806,2807,2808,2809,2810,2811,2812,2813,2814,2815,2816,2817,2818,2819,2820,2821,2822,2823,2824,2825,2826,2827,2828,2829,2831,2832,2833,2834,2835,2836,2837,2838,2839,2840,2841,2842,2843,2844,2845,2846,2847,2848,2849,2850,2851,2852,2853,2854,2855,2856,2857,2858,2859,2860,2861,2862,2863,2864,2865,2866,2867,2868,2869,2870,2871,2873,2874,2875,2876,2877,2878,2879,2880,2881,2883,2884,2885,2886,2888,2889,2890,2891,2892,2893,2894,2895,2896,2897,2898,2899,2900,2901,2902,2903,2904,2905,2907,2908,2911,2912,2913,2914,2915,2916,2917,2918,2919,2920,2921,2922,2923,2924,2925,2926,2927,2928,2929,2930,2931,2932,2933,2935,2936,2937,2938,2940,2941,2942,2943,2944,2945,2946,2947,2948,2949,2950,2951,2952,2953,2954,2955,2956,2957,2958,2959,2960,2961,2962,2963,2964,2965,2966,2967,2968,2969,2970,2971,2972,2973,2974,2976,2977,2978,2979,2980,2981,2982,2983,2984,2985,2986,2987,2988,2989,2990,2991,2992,2993,2994,2995,2997,2998,2999,3000,3001,3002,3003,3004,3005,3006,3007,3008,3009,3010,3012,3013,3015,3016,3017,3018,3020,3021,3022,3023,3024,3025,3026,3027,3028,3029,3030,3031,3032,3033,3034,3035,3036,3037,3038,3039,3040,3041,3042,3044,3045,3046,3047,3048,3049,3050,3051,3052,3053,3054,3055,3056,3057,3058,3059,3060,3061,3062,3063,3065,3066,3067,3068,3069,3070,3071,3072,3073,3074,3075,3076,3077,3078,3079,3080,3081,3082,3083,3084,3085,3086,3087,3088,3089,3090,3091,3092,3093,3094,3095,3096,3098,3099,3100,3101,3102,3103,3104,3105,3106,3107,3108,3109,3111,3112,3113,3114,3115,3116,3117,3118,3119,3120,3121,3122,3123,3124,3125,3126,3127,3128,3129,3130,3131,3133,3134,3136,3137,3138,3139,3140,3141,3142,3143,3144,3145,3146,3147,3148,3150,3151,3152,3153,3154,3155,3156,3157,3159,3160,3161,3162,3163,3164,3165,3166,3167,3168,3169,3170,3171,3172,3173,3174,3175,3176,3177,3178,3179,3180,3181,3182,3183,3184,3185,3186,3187,3188,3189,3191,3192,3193,3194,3195,3196,3197,3198,3200,3201,3202,3203,3205,3206,3207,3208,3209,3210,3211,3212,3213,3214,3215,3216,3217,3219,3221,3222,3223,3224,3225,3226,3227,3228,3229,3230,3232,3233,3234,3235,3236,3237,3238,3239,3240,3241,3242,3243,3244,3245,3246,3247,3248,3249,3250,3251,3252,3254,3255,3256,3258,3259,3260,3261,3262,3263,3264,3265,3266,3267,3268,3269,3270,3271,3272,3273,3274,3275,3276,3277,3278,3279,3280,3281,3282,3283,3284,3285,3286,3289,3290,3291,3292,3293,3294,3295,3296,3297,3298,3299,3300,3301,3302,3303,3304,3305,3306,3307,3308,3310,3311,3312,3313,3314,3315,3316,3317,3318,3319,3320,3321,3322,3323,3324,3325,3327,3328,3329,3330,3331,3332,3333,3334,3335,3336,3337,3338,3339,3340,3341,3342,3343,3344,3345,3346,3347,3348,3349,3350,3351,3352,3353,3354,3355,3356,3357,3358,3359,3360,3361,3362,3363,3364,3365,3366,3367,3368,3369,3370,3371,3372,3373,3375,3376,3377,3378,3379,3380,3381,3382,3383,3384,3385,3386,3387,3388,3389,3390,3391,3393,3395,3396,3397,3398,3400,3401,3402,3403,3404,3405,3406,3407,3408,3409,3410,3411,3412,3413,3414,3415,3416,3417,3418,3419,3420,3421,3422,3423,3424,3425,3426,3427,3428,3429,3430,3431,3432,3433,3434,3435,3436,3437,3439,3440,3441,3442,3443,3444,3445,3446,3447,3448,3449,3450,3451,3452,3453,3455,3456,3457,3458,3459,3460,3461,3462,3463,3464,3465,3466,3467,3468,3469,3470,3471,3472,3473,3474,3475,3476,3477,3478,3479,3480,3481,3482,3483,3484,3485,3486,3487,3488,3489,3490,3491,3492,3494,3495,3496,3497,3498,3499,3501,3502,3504,3505,3506,3507,3508,3510,3511,3512,3513,3514,3515,3516,3517,3518,3519,3520,3521,3522,3523,3524,3525,3526,3527,3528,3529,3530,3531,3532,3533,3534,3535,3536,3537,3538,3539,3540,3541,3542,3543,3544,3545,3546,3547,3548,3549,3550,3551,3552,3553,3555,3556,3557,3558,3559,3560,3561,3562,3563,3564,3565,3566,3567,3568,3569,3570,3571,3572,3573,3576,3577,3579,3580,3581,3583,3584,3585,3586,3587,3588,3589,3590,3592,3593,3595,3596,3597,3598,3599,3600,3601,3602,3603,3604,3605,3606,3607,3608,3609,3610,3611,3612,3613,3614,3615,3617,3618,3619,3621,3622,3623,3624,3625,3626,3628,3629,3630,3631,3632,3633,3634,3635,3636,3637,3638,3639,3640,3641,3642,3643,3644,3645,3646,3647,3648,3649,3650,3651,3652,3653,3654,3655,3656,3657,3658,3659,3660,3661,3662,3663,3664,3665,3666,3667,3668,3669,3670,3671,3672,3673,3674,3675,3676,3677,3678,3679,3680,3681,3682,3683,3684,3685,3686,3687,3688,3689,3690,3691,3692,3693,3694,3695,3696,3697,3698,3700,3701,3702,3703,3704,3705,3706,3709,3710,3711,3712,3713,3714,3715,3716,3717,3718,3719,3720,3721,3722,3723,3724,3725,3726,3727,3728,3729,3730,3731,3732,3733,3735,3736,3737,3738,3739,3740,3741,3742,3743,3744,3745,3746,3747,3748,3749,3750,3751,3752,3753,3755,3756,3757,3758,3759,3760,3761,3762,3763,3764,3765,3766,3767,3768,3769,3770,3772,3773,3774,3776,3777,3778,3779,3780,3781,3782,3783,3784,3785,3786,3787,3788,3789,3790,3791,3792,3793,3794,3795,3796,3797,3798,3799,3800,3801,3802,3803,3804,3805,3806,3807,3808,3809,3810,3811,3812,3813,3814,3815,3816,3817,3818,3819,3820,3821,3822,3823,3824,3825,3826,3827,3828,3829,3830,3831,3832,3833,3834,3835,3836,3837,3838,3840,3841,3842,3843,3844,3845,3846,3847,3848,3849,3850,3851,3852,3853,3854,3855,3856,3857,3858,3859,3860,3861,3862,3863,3864,3865,3866,3867,3868,3869,3870,3872,3873,3874,3875,3876,3877,3878,3879,3880,3881,3882,3883,3884,3885,3886,3887,3889,3890,3891,3892,3894,3895,3896,3897,3898,3899,3900,3901,3903,3904,3905,3906,3907,3908,3911,3912,3913,3914,3915,3916,3917,3918,3919,3920,3921,3922,3924,3926,3927,3928,3929,3931,3932,3933,3934,3935,3936,3937,3938,3939,3940,3941,3942,3943,3944,3945,3946,3947,3948,3949,3951,3952,3953,3954,3955,3956,3958,3959,3960,3961,3962,3963,3964,3966,3967,3968,3969,3970,3971,3972,3973,3974,3975,3976,3977,3978,3979,3980,3981,3982,3983,3984,3985,3986,3987,3988,3989,3992,3993,3994,3995,3996,3997,3998,3999,4000,4001,4002,4003,4004,4005,4006,4007,4008,4010,4011,4013,4014,4015,4016,4017,4018,4019,4020,4021,4022,4023],\"yaxis\":\"y\",\"type\":\"scattergl\"}],                        {\"template\":{\"data\":{\"histogram2dcontour\":[{\"type\":\"histogram2dcontour\",\"colorbar\":{\"outlinewidth\":0,\"ticks\":\"\"},\"colorscale\":[[0.0,\"#0d0887\"],[0.1111111111111111,\"#46039f\"],[0.2222222222222222,\"#7201a8\"],[0.3333333333333333,\"#9c179e\"],[0.4444444444444444,\"#bd3786\"],[0.5555555555555556,\"#d8576b\"],[0.6666666666666666,\"#ed7953\"],[0.7777777777777778,\"#fb9f3a\"],[0.8888888888888888,\"#fdca26\"],[1.0,\"#f0f921\"]]}],\"choropleth\":[{\"type\":\"choropleth\",\"colorbar\":{\"outlinewidth\":0,\"ticks\":\"\"}}],\"histogram2d\":[{\"type\":\"histogram2d\",\"colorbar\":{\"outlinewidth\":0,\"ticks\":\"\"},\"colorscale\":[[0.0,\"#0d0887\"],[0.1111111111111111,\"#46039f\"],[0.2222222222222222,\"#7201a8\"],[0.3333333333333333,\"#9c179e\"],[0.4444444444444444,\"#bd3786\"],[0.5555555555555556,\"#d8576b\"],[0.6666666666666666,\"#ed7953\"],[0.7777777777777778,\"#fb9f3a\"],[0.8888888888888888,\"#fdca26\"],[1.0,\"#f0f921\"]]}],\"heatmap\":[{\"type\":\"heatmap\",\"colorbar\":{\"outlinewidth\":0,\"ticks\":\"\"},\"colorscale\":[[0.0,\"#0d0887\"],[0.1111111111111111,\"#46039f\"],[0.2222222222222222,\"#7201a8\"],[0.3333333333333333,\"#9c179e\"],[0.4444444444444444,\"#bd3786\"],[0.5555555555555556,\"#d8576b\"],[0.6666666666666666,\"#ed7953\"],[0.7777777777777778,\"#fb9f3a\"],[0.8888888888888888,\"#fdca26\"],[1.0,\"#f0f921\"]]}],\"heatmapgl\":[{\"type\":\"heatmapgl\",\"colorbar\":{\"outlinewidth\":0,\"ticks\":\"\"},\"colorscale\":[[0.0,\"#0d0887\"],[0.1111111111111111,\"#46039f\"],[0.2222222222222222,\"#7201a8\"],[0.3333333333333333,\"#9c179e\"],[0.4444444444444444,\"#bd3786\"],[0.5555555555555556,\"#d8576b\"],[0.6666666666666666,\"#ed7953\"],[0.7777777777777778,\"#fb9f3a\"],[0.8888888888888888,\"#fdca26\"],[1.0,\"#f0f921\"]]}],\"contourcarpet\":[{\"type\":\"contourcarpet\",\"colorbar\":{\"outlinewidth\":0,\"ticks\":\"\"}}],\"contour\":[{\"type\":\"contour\",\"colorbar\":{\"outlinewidth\":0,\"ticks\":\"\"},\"colorscale\":[[0.0,\"#0d0887\"],[0.1111111111111111,\"#46039f\"],[0.2222222222222222,\"#7201a8\"],[0.3333333333333333,\"#9c179e\"],[0.4444444444444444,\"#bd3786\"],[0.5555555555555556,\"#d8576b\"],[0.6666666666666666,\"#ed7953\"],[0.7777777777777778,\"#fb9f3a\"],[0.8888888888888888,\"#fdca26\"],[1.0,\"#f0f921\"]]}],\"surface\":[{\"type\":\"surface\",\"colorbar\":{\"outlinewidth\":0,\"ticks\":\"\"},\"colorscale\":[[0.0,\"#0d0887\"],[0.1111111111111111,\"#46039f\"],[0.2222222222222222,\"#7201a8\"],[0.3333333333333333,\"#9c179e\"],[0.4444444444444444,\"#bd3786\"],[0.5555555555555556,\"#d8576b\"],[0.6666666666666666,\"#ed7953\"],[0.7777777777777778,\"#fb9f3a\"],[0.8888888888888888,\"#fdca26\"],[1.0,\"#f0f921\"]]}],\"mesh3d\":[{\"type\":\"mesh3d\",\"colorbar\":{\"outlinewidth\":0,\"ticks\":\"\"}}],\"scatter\":[{\"fillpattern\":{\"fillmode\":\"overlay\",\"size\":10,\"solidity\":0.2},\"type\":\"scatter\"}],\"parcoords\":[{\"type\":\"parcoords\",\"line\":{\"colorbar\":{\"outlinewidth\":0,\"ticks\":\"\"}}}],\"scatterpolargl\":[{\"type\":\"scatterpolargl\",\"marker\":{\"colorbar\":{\"outlinewidth\":0,\"ticks\":\"\"}}}],\"bar\":[{\"error_x\":{\"color\":\"#2a3f5f\"},\"error_y\":{\"color\":\"#2a3f5f\"},\"marker\":{\"line\":{\"color\":\"#E5ECF6\",\"width\":0.5},\"pattern\":{\"fillmode\":\"overlay\",\"size\":10,\"solidity\":0.2}},\"type\":\"bar\"}],\"scattergeo\":[{\"type\":\"scattergeo\",\"marker\":{\"colorbar\":{\"outlinewidth\":0,\"ticks\":\"\"}}}],\"scatterpolar\":[{\"type\":\"scatterpolar\",\"marker\":{\"colorbar\":{\"outlinewidth\":0,\"ticks\":\"\"}}}],\"histogram\":[{\"marker\":{\"pattern\":{\"fillmode\":\"overlay\",\"size\":10,\"solidity\":0.2}},\"type\":\"histogram\"}],\"scattergl\":[{\"type\":\"scattergl\",\"marker\":{\"colorbar\":{\"outlinewidth\":0,\"ticks\":\"\"}}}],\"scatter3d\":[{\"type\":\"scatter3d\",\"line\":{\"colorbar\":{\"outlinewidth\":0,\"ticks\":\"\"}},\"marker\":{\"colorbar\":{\"outlinewidth\":0,\"ticks\":\"\"}}}],\"scattermapbox\":[{\"type\":\"scattermapbox\",\"marker\":{\"colorbar\":{\"outlinewidth\":0,\"ticks\":\"\"}}}],\"scatterternary\":[{\"type\":\"scatterternary\",\"marker\":{\"colorbar\":{\"outlinewidth\":0,\"ticks\":\"\"}}}],\"scattercarpet\":[{\"type\":\"scattercarpet\",\"marker\":{\"colorbar\":{\"outlinewidth\":0,\"ticks\":\"\"}}}],\"carpet\":[{\"aaxis\":{\"endlinecolor\":\"#2a3f5f\",\"gridcolor\":\"white\",\"linecolor\":\"white\",\"minorgridcolor\":\"white\",\"startlinecolor\":\"#2a3f5f\"},\"baxis\":{\"endlinecolor\":\"#2a3f5f\",\"gridcolor\":\"white\",\"linecolor\":\"white\",\"minorgridcolor\":\"white\",\"startlinecolor\":\"#2a3f5f\"},\"type\":\"carpet\"}],\"table\":[{\"cells\":{\"fill\":{\"color\":\"#EBF0F8\"},\"line\":{\"color\":\"white\"}},\"header\":{\"fill\":{\"color\":\"#C8D4E3\"},\"line\":{\"color\":\"white\"}},\"type\":\"table\"}],\"barpolar\":[{\"marker\":{\"line\":{\"color\":\"#E5ECF6\",\"width\":0.5},\"pattern\":{\"fillmode\":\"overlay\",\"size\":10,\"solidity\":0.2}},\"type\":\"barpolar\"}],\"pie\":[{\"automargin\":true,\"type\":\"pie\"}]},\"layout\":{\"autotypenumbers\":\"strict\",\"colorway\":[\"#636efa\",\"#EF553B\",\"#00cc96\",\"#ab63fa\",\"#FFA15A\",\"#19d3f3\",\"#FF6692\",\"#B6E880\",\"#FF97FF\",\"#FECB52\"],\"font\":{\"color\":\"#2a3f5f\"},\"hovermode\":\"closest\",\"hoverlabel\":{\"align\":\"left\"},\"paper_bgcolor\":\"white\",\"plot_bgcolor\":\"#E5ECF6\",\"polar\":{\"bgcolor\":\"#E5ECF6\",\"angularaxis\":{\"gridcolor\":\"white\",\"linecolor\":\"white\",\"ticks\":\"\"},\"radialaxis\":{\"gridcolor\":\"white\",\"linecolor\":\"white\",\"ticks\":\"\"}},\"ternary\":{\"bgcolor\":\"#E5ECF6\",\"aaxis\":{\"gridcolor\":\"white\",\"linecolor\":\"white\",\"ticks\":\"\"},\"baxis\":{\"gridcolor\":\"white\",\"linecolor\":\"white\",\"ticks\":\"\"},\"caxis\":{\"gridcolor\":\"white\",\"linecolor\":\"white\",\"ticks\":\"\"}},\"coloraxis\":{\"colorbar\":{\"outlinewidth\":0,\"ticks\":\"\"}},\"colorscale\":{\"sequential\":[[0.0,\"#0d0887\"],[0.1111111111111111,\"#46039f\"],[0.2222222222222222,\"#7201a8\"],[0.3333333333333333,\"#9c179e\"],[0.4444444444444444,\"#bd3786\"],[0.5555555555555556,\"#d8576b\"],[0.6666666666666666,\"#ed7953\"],[0.7777777777777778,\"#fb9f3a\"],[0.8888888888888888,\"#fdca26\"],[1.0,\"#f0f921\"]],\"sequentialminus\":[[0.0,\"#0d0887\"],[0.1111111111111111,\"#46039f\"],[0.2222222222222222,\"#7201a8\"],[0.3333333333333333,\"#9c179e\"],[0.4444444444444444,\"#bd3786\"],[0.5555555555555556,\"#d8576b\"],[0.6666666666666666,\"#ed7953\"],[0.7777777777777778,\"#fb9f3a\"],[0.8888888888888888,\"#fdca26\"],[1.0,\"#f0f921\"]],\"diverging\":[[0,\"#8e0152\"],[0.1,\"#c51b7d\"],[0.2,\"#de77ae\"],[0.3,\"#f1b6da\"],[0.4,\"#fde0ef\"],[0.5,\"#f7f7f7\"],[0.6,\"#e6f5d0\"],[0.7,\"#b8e186\"],[0.8,\"#7fbc41\"],[0.9,\"#4d9221\"],[1,\"#276419\"]]},\"xaxis\":{\"gridcolor\":\"white\",\"linecolor\":\"white\",\"ticks\":\"\",\"title\":{\"standoff\":15},\"zerolinecolor\":\"white\",\"automargin\":true,\"zerolinewidth\":2},\"yaxis\":{\"gridcolor\":\"white\",\"linecolor\":\"white\",\"ticks\":\"\",\"title\":{\"standoff\":15},\"zerolinecolor\":\"white\",\"automargin\":true,\"zerolinewidth\":2},\"scene\":{\"xaxis\":{\"backgroundcolor\":\"#E5ECF6\",\"gridcolor\":\"white\",\"linecolor\":\"white\",\"showbackground\":true,\"ticks\":\"\",\"zerolinecolor\":\"white\",\"gridwidth\":2},\"yaxis\":{\"backgroundcolor\":\"#E5ECF6\",\"gridcolor\":\"white\",\"linecolor\":\"white\",\"showbackground\":true,\"ticks\":\"\",\"zerolinecolor\":\"white\",\"gridwidth\":2},\"zaxis\":{\"backgroundcolor\":\"#E5ECF6\",\"gridcolor\":\"white\",\"linecolor\":\"white\",\"showbackground\":true,\"ticks\":\"\",\"zerolinecolor\":\"white\",\"gridwidth\":2}},\"shapedefaults\":{\"line\":{\"color\":\"#2a3f5f\"}},\"annotationdefaults\":{\"arrowcolor\":\"#2a3f5f\",\"arrowhead\":0,\"arrowwidth\":1},\"geo\":{\"bgcolor\":\"white\",\"landcolor\":\"#E5ECF6\",\"subunitcolor\":\"white\",\"showland\":true,\"showlakes\":true,\"lakecolor\":\"white\"},\"title\":{\"x\":0.05},\"mapbox\":{\"style\":\"light\"}}},\"xaxis\":{\"anchor\":\"y\",\"domain\":[0.0,1.0],\"title\":{\"text\":\"Reginol_Node_Positive\"}},\"yaxis\":{\"anchor\":\"x\",\"domain\":[0.0,1.0],\"title\":{\"text\":\"index\"}},\"legend\":{\"tracegroupgap\":0},\"margin\":{\"t\":60}},                        {\"responsive\": true}                    ).then(function(){\n",
              "                            \n",
              "var gd = document.getElementById('e3b1f898-7c25-4299-b116-4cc9272aa49c');\n",
              "var x = new MutationObserver(function (mutations, observer) {{\n",
              "        var display = window.getComputedStyle(gd).display;\n",
              "        if (!display || display === 'none') {{\n",
              "            console.log([gd, 'removed!']);\n",
              "            Plotly.purge(gd);\n",
              "            observer.disconnect();\n",
              "        }}\n",
              "}});\n",
              "\n",
              "// Listen for the removal of the full notebook cells\n",
              "var notebookContainer = gd.closest('#notebook-container');\n",
              "if (notebookContainer) {{\n",
              "    x.observe(notebookContainer, {childList: true});\n",
              "}}\n",
              "\n",
              "// Listen for the clearing of the current output cell\n",
              "var outputEl = gd.closest('.output');\n",
              "if (outputEl) {{\n",
              "    x.observe(outputEl, {childList: true});\n",
              "}}\n",
              "\n",
              "                        })                };                            </script>        </div>\n",
              "</body>\n",
              "</html>"
            ]
          },
          "metadata": {}
        },
        {
          "output_type": "display_data",
          "data": {
            "text/html": [
              "<html>\n",
              "<head><meta charset=\"utf-8\" /></head>\n",
              "<body>\n",
              "    <div>            <script src=\"https://cdnjs.cloudflare.com/ajax/libs/mathjax/2.7.5/MathJax.js?config=TeX-AMS-MML_SVG\"></script><script type=\"text/javascript\">if (window.MathJax && window.MathJax.Hub && window.MathJax.Hub.Config) {window.MathJax.Hub.Config({SVG: {font: \"STIX-Web\"}});}</script>                <script type=\"text/javascript\">window.PlotlyConfig = {MathJaxConfig: 'local'};</script>\n",
              "        <script charset=\"utf-8\" src=\"https://cdn.plot.ly/plotly-2.35.2.min.js\"></script>                <div id=\"0752a94a-81d3-487d-a9ec-ea533ea84d5c\" class=\"plotly-graph-div\" style=\"height:525px; width:100%;\"></div>            <script type=\"text/javascript\">                                    window.PLOTLYENV=window.PLOTLYENV || {};                                    if (document.getElementById(\"0752a94a-81d3-487d-a9ec-ea533ea84d5c\")) {                    Plotly.newPlot(                        \"0752a94a-81d3-487d-a9ec-ea533ea84d5c\",                        [{\"alignmentgroup\":\"True\",\"hovertemplate\":\"Reginol_Node_Positive=%{x}\\u003cextra\\u003e\\u003c\\u002fextra\\u003e\",\"legendgroup\":\"\",\"marker\":{\"color\":\"#636efa\"},\"name\":\"\",\"notched\":false,\"offsetgroup\":\"\",\"orientation\":\"h\",\"showlegend\":false,\"x\":[1,5,7,1,1,2,1,1,12,1,3,3,7,14,1,1,1,1,1,2,5,1,1,22,17,23,1,4,1,1,1,1,3,10,2,6,2,2,5,12,2,1,6,2,5,2,1,9,3,3,1,1,1,1,1,2,2,1,1,3,1,23,3,1,3,20,1,1,16,1,4,1,1,1,13,1,2,1,1,11,1,1,1,1,4,16,3,2,2,1,3,1,24,1,1,1,3,1,1,2,2,3,4,3,10,2,5,3,9,3,2,2,3,16,4,2,1,2,1,2,3,1,6,1,1,7,5,1,1,10,9,1,4,3,1,1,2,1,3,1,2,1,5,2,1,1,1,14,4,1,1,2,6,1,7,17,1,1,2,3,2,1,2,1,10,2,14,5,1,2,1,13,2,3,2,9,1,1,1,4,1,1,2,5,2,2,2,4,1,12,1,1,1,1,1,1,12,1,9,1,1,2,7,2,3,1,2,9,1,4,1,7,5,1,2,1,21,1,2,1,2,2,15,5,1,1,3,2,1,6,1,2,6,2,2,1,1,1,2,1,2,3,1,1,1,3,1,10,9,2,3,9,1,1,2,3,1,2,10,2,2,6,2,11,28,1,1,6,14,1,1,4,1,3,1,2,3,5,3,4,1,3,2,5,6,17,1,1,3,1,1,1,7,1,6,4,1,1,9,1,2,3,1,1,2,1,3,4,3,9,1,1,5,12,1,2,9,2,4,4,1,1,1,1,2,2,1,1,2,1,2,2,4,7,4,6,11,1,4,13,13,3,1,2,4,4,6,1,1,1,3,2,1,17,12,2,9,1,4,1,8,1,2,1,3,1,2,2,2,1,1,2,1,1,1,1,1,2,2,1,1,5,1,2,2,1,11,2,1,5,14,1,1,1,13,1,1,3,1,2,2,2,5,3,3,1,6,2,1,1,1,1,19,1,11,1,1,2,2,1,3,3,3,1,2,1,1,1,1,1,8,1,6,3,4,6,6,24,1,1,7,1,1,6,1,3,6,2,2,1,1,19,2,5,7,1,2,2,7,1,3,2,1,3,2,2,2,3,2,13,1,5,1,1,12,20,1,1,14,1,1,4,5,2,24,1,1,1,1,1,1,3,29,1,5,4,22,4,3,2,4,2,1,8,7,2,4,5,1,1,1,4,2,2,10,13,2,1,9,5,26,7,1,1,2,1,10,1,3,2,1,1,1,10,1,3,1,4,2,9,1,2,5,2,1,4,5,1,3,2,11,3,1,1,2,3,3,1,8,1,1,2,1,1,1,1,9,1,1,8,1,6,1,2,1,1,2,1,1,1,1,4,3,1,9,19,2,2,3,2,7,1,1,3,2,2,1,22,2,10,16,1,1,3,1,5,4,2,1,1,1,1,3,4,2,3,3,3,3,4,1,21,1,5,14,2,2,1,1,1,5,2,4,1,6,17,11,6,1,6,7,2,10,6,2,15,1,4,3,1,3,1,2,1,4,1,4,11,3,1,5,3,1,2,7,22,4,2,1,2,3,1,4,2,1,3,3,2,1,3,1,6,2,4,1,3,1,2,2,6,3,3,1,2,6,1,1,2,1,1,6,1,3,1,6,8,1,1,5,1,13,3,2,1,1,5,1,8,3,1,18,1,1,2,1,2,8,1,1,1,1,2,1,10,16,1,1,1,1,1,4,3,1,1,1,1,3,10,20,14,1,1,1,1,1,1,2,4,6,1,5,1,1,1,9,4,3,1,1,2,2,18,5,1,1,15,3,1,1,1,1,7,3,1,1,8,4,3,3,3,2,5,1,10,2,14,6,10,3,3,1,1,5,4,1,2,2,1,4,3,1,5,1,3,2,1,3,9,8,22,2,9,5,1,1,2,1,1,2,2,23,1,2,19,1,1,1,2,1,5,1,3,2,11,2,2,2,1,3,1,1,2,3,1,2,3,7,3,7,22,1,1,20,3,2,9,4,15,1,1,2,1,2,1,2,2,2,9,1,1,9,5,16,1,3,3,4,4,1,2,9,1,1,3,1,1,1,2,1,19,3,1,1,2,3,11,4,1,2,3,1,1,2,5,7,22,3,1,5,3,1,5,1,9,7,1,2,16,1,3,4,1,3,2,5,2,2,3,5,1,3,2,11,1,1,1,1,1,28,22,8,4,11,2,2,2,1,8,1,1,2,7,3,2,6,8,3,3,1,18,17,8,1,2,3,5,9,3,17,9,8,7,4,1,1,9,3,4,2,11,20,11,2,2,2,1,1,2,15,1,6,17,2,1,9,3,2,1,10,1,3,3,1,5,14,22,1,9,3,1,1,3,6,1,24,4,3,15,30,2,1,2,1,1,1,2,1,2,7,1,2,7,10,1,1,2,5,1,9,3,1,1,2,1,1,7,1,10,1,1,4,4,1,2,1,5,5,2,2,1,8,4,4,1,7,2,1,1,1,2,6,1,3,12,1,3,6,2,3,1,1,4,1,5,7,3,1,1,1,1,1,27,1,2,6,2,1,4,3,2,2,8,1,22,10,1,2,4,2,1,2,2,1,2,6,2,1,1,1,2,1,1,7,3,1,1,2,1,1,1,1,4,1,2,1,6,6,26,9,3,5,1,1,3,2,2,2,1,18,1,1,2,20,1,3,3,13,1,2,2,1,1,1,1,5,2,8,22,1,7,1,9,3,1,7,10,1,1,1,3,1,1,2,2,1,1,2,2,3,1,1,1,2,4,1,16,1,2,1,1,1,1,3,1,5,1,1,12,4,1,1,1,1,1,1,15,9,1,1,1,12,1,2,1,1,2,11,1,2,3,1,2,1,1,1,2,3,3,7,5,2,1,1,2,1,2,1,1,2,1,2,1,2,3,1,4,8,1,2,10,16,1,2,3,25,1,14,1,1,9,17,1,2,13,1,1,4,1,2,1,2,10,1,1,3,1,1,10,3,3,2,2,24,3,1,5,8,6,15,2,1,10,1,1,1,6,9,2,3,1,3,20,1,3,16,1,1,4,1,8,8,1,13,10,17,2,1,3,6,5,6,2,1,19,4,3,1,1,1,4,19,1,1,1,1,2,2,3,3,1,9,8,2,1,1,1,3,1,2,1,8,1,1,1,2,7,1,2,4,4,5,2,2,1,6,2,4,1,2,1,1,1,2,3,1,5,13,1,10,1,1,2,22,1,2,1,1,11,1,1,2,1,1,2,1,1,11,12,2,19,8,6,14,13,4,2,1,1,2,2,5,1,1,4,3,3,6,1,7,8,1,2,2,14,2,2,2,16,29,1,1,1,1,6,1,2,1,3,8,1,3,8,3,2,1,1,3,1,2,5,6,5,3,10,2,1,1,3,3,4,4,1,2,21,8,3,2,1,2,4,1,1,3,17,2,5,1,10,1,4,4,1,4,1,1,17,1,1,4,2,2,2,2,1,8,6,7,2,2,3,1,3,1,4,1,2,1,1,2,1,1,1,1,8,3,2,2,1,3,2,1,2,3,1,29,1,3,1,1,2,1,3,2,3,1,5,1,2,13,2,3,1,1,1,15,1,2,4,2,3,7,1,2,3,13,9,1,2,1,1,3,4,2,5,1,25,9,3,5,3,1,1,1,1,2,1,2,2,2,2,2,6,4,1,21,1,1,1,1,1,1,1,1,11,1,7,5,1,18,1,2,1,1,1,1,8,17,4,3,2,2,1,2,3,5,6,1,2,2,1,1,3,2,2,2,1,2,8,1,6,1,2,3,1,1,1,1,3,7,2,10,21,3,1,3,1,2,1,3,1,5,10,4,1,2,5,1,12,9,1,5,1,1,2,1,1,1,3,7,2,3,3,4,4,1,4,5,6,6,1,2,1,19,1,11,2,2,1,4,1,1,1,2,4,1,2,11,1,1,4,3,9,3,1,3,1,1,2,2,1,16,1,7,2,1,2,2,1,1,1,4,1,2,1,5,7,1,1,11,2,1,2,1,4,1,1,1,3,1,1,2,3,5,3,5,2,2,2,1,5,1,16,11,1,4,2,4,1,2,9,5,1,1,1,9,1,2,2,1,1,3,18,1,3,5,1,1,2,23,2,5,4,5,1,1,5,6,2,2,2,1,1,1,3,3,5,2,4,5,1,1,1,3,1,1,9,4,1,1,5,6,1,3,3,17,1,3,11,1,2,1,13,2,2,1,1,4,3,7,1,3,6,2,1,1,12,4,1,1,2,1,1,7,1,2,1,1,7,1,1,2,1,1,1,14,1,2,3,2,1,1,1,1,1,14,12,2,1,1,3,27,22,2,1,3,19,14,2,2,4,8,2,1,3,1,1,1,2,2,1,6,1,1,4,2,1,5,1,2,1,15,3,1,6,5,1,2,2,2,1,3,1,1,1,1,1,1,1,2,4,4,2,5,6,1,7,8,5,1,1,1,1,4,1,7,3,6,1,8,1,1,1,7,4,1,1,1,12,2,1,1,1,1,1,2,5,1,2,3,4,1,10,1,16,2,7,2,1,2,1,4,1,14,11,2,10,2,1,1,2,6,1,2,1,2,5,3,2,7,4,3,2,1,10,2,4,1,2,3,1,1,14,15,1,5,1,2,4,1,1,6,1,8,2,2,1,1,12,1,1,1,2,1,2,1,6,1,11,1,2,1,1,1,1,9,1,3,1,1,1,1,1,3,2,9,2,1,1,1,4,1,2,12,3,16,12,16,4,1,1,1,1,1,2,2,2,4,2,4,1,2,4,1,1,1,3,1,2,1,8,4,1,1,9,9,3,12,3,18,1,2,17,3,26,4,1,3,4,4,1,6,4,1,1,1,6,4,3,3,2,2,4,4,6,2,6,2,1,6,2,2,13,1,3,2,18,4,10,1,1,1,1,2,2,1,2,10,1,2,2,2,2,1,3,14,1,3,7,2,4,12,4,3,3,5,1,1,17,1,2,18,5,4,5,20,1,1,2,1,4,1,1,9,2,14,1,1,5,1,1,1,1,1,3,7,6,2,1,1,1,1,1,1,5,1,6,3,2,1,1,1,4,1,1,5,1,1,3,5,2,4,1,1,1,1,6,8,10,1,28,3,4,1,2,2,2,4,1,3,1,4,3,2,1,2,1,2,1,4,2,5,10,1,2,1,5,2,1,3,2,1,1,1,1,4,5,10,1,6,1,1,1,5,1,2,11,1,1,11,11,1,2,2,3,5,2,4,3,16,5,1,4,9,2,19,2,2,1,1,7,1,3,5,5,9,5,1,5,1,3,2,5,3,1,1,2,1,2,1,7,6,2,15,2,3,15,1,2,1,13,9,2,2,3,2,3,2,2,1,1,1,1,21,1,3,2,1,1,2,5,1,1,1,3,18,2,5,5,1,3,8,3,7,26,1,1,1,6,2,6,6,7,2,3,2,4,1,1,2,1,5,2,2,2,1,10,1,4,1,5,2,1,3,4,6,10,2,5,1,6,16,11,1,7,11,3,3,8,1,1,1,1,1,1,1,12,5,1,1,4,1,4,2,3,1,6,3,2,2,4,2,5,10,1,4,1,5,5,4,1,1,5,1,1,3,1,1,8,4,11,1,5,1,2,2,1,1,2,3,4,4,3,2,1,1,2,4,2,1,1,14,1,2,2,2,1,5,3,5,4,5,7,1,1,2,2,1,1,1,1,1,3,1,12,1,5,13,4,9,1,8,1,1,5,1,1,2,3,4,4,2,2,1,4,1,3,1,9,6,1,2,1,7,2,6,2,1,1,7,8,3,26,3,1,1,17,16,5,15,5,3,17,3,3,1,2,3,2,3,2,1,3,1,1,1,2,4,7,1,1,1,1,5,16,1,3,7,2,1,2,5,5,2,2,1,1,5,7,1,12,19,2,1,5,3,1,1,1,7,1,1,1,2,6,2,3,1,21,2,1,1,1,11,6,1,2,1,1,5,5,8,1,1,1,3,13,9,1,4,1,1,2,2,1,4,19,9,1,6,1,3,11,9,4,6,3,1,2,6,3,1,1,1,3,3,1,2,3,3,13,1,2,5,3,1,6,1,2,1,1,1,4,6,1,1,1,1,3,5,16,1,9,16,2,1,1,1,1,1,1,4,1,1,1,1,1,1,1,2,1,1,1,1,1,30,7,1,1,12,1,1,6,1,1,1,3,2,4,1,2,1,1,2,2,8,4,6,10,3,3,1,10,2,4,6,2,1,1,4,1,21,1,2,1,2,5,1,2,3,2,1,3,2,1,8,1,2,10,1,1,1,14,1,1,3,4,3,5,19,14,2,11,5,2,1,14,2,2,2,15,4,2,3,3,1,5,3,34,1,8,4,1,3,2,2,5,1,2,1,17,3,9,12,1,1,2,4,2,8,4,2,1,1,3,1,1,7,5,1,2,8,1,1,1,1,11,3,2,1,2,5,2,1,2,5,12,1,2,6,3,10,2,1,1,13,1,1,7,9,22,12,3,4,1,1,7,9,3,1,1,3,1,8,6,11,3,3,3,5,2,3,7,3,1,16,1,2,1,3,1,5,1,1,3,12,1,4,1,1,1,6,1,2,4,2,2,1,1,1,2,7,8,1,3,1,2,3,1,1,1,1,1,1,2,1,2,1,4,12,1,1,5,7,11,2,1,5,6,1,1,5,2,2,17,2,2,2,1,12,1,4,2,7,1,8,2,1,3,1,2,1,3,4,8,6,3,6,4,1,6,3,1,1,1,17,1,2,1,1,2,2,3,1,1,8,2,1,18,2,1,1,13,1,2,1,2,14,4,2,4,7,1,2,2,3,1,3,1,1,12,21,3,8,1,1,3,1,1,2,1,2,2,5,1,3,1,1,2,33,1,21,8,3,1,2,4,5,6,1,2,2,5,4,2,6,1,2,15,1,9,7,5,1,2,1,5,1,4,2,1,3,1,7,2,4,1,3,4,1,1,3,2,6,3,1,3,4,3,2,6,4,3,2,5,14,1,23,1,1,19,2,10,12,5,11,4,2,1,1,1,3,3,1,1,1,14,1,2,2,3,4,3,2,8,1,2,1,1,2,1,3,1,2,1,12,14,2,5,1,1,2,2,1,10,2,2,1,1,1,2,1,1,1,1,1,11,2,2,5,1,12,1,1,7,5,1,24,1,11,4,1,1,1,1,2,7,1,3,1,3,2,2,1,5,3,3,2,1,2,2,4,1,3,1,6,2,9,3,1,1,2,1,3,6,1,4,5,3,1,1,12,1,4,5,2,2,5,3,5,5,3,11,5,11,1,2,7,7,3,2,3,1,3,1,1,1,1,4,2,12,1,1,1,1,9,2,1,2,1,3,1,4,1,1,6,1,6,2,1,13,4,1,7,1,4,6,1,1,3,2,1,3,7,7,11,1,1,1,5,13,1,4,1,7,1,3,4,1,1,2,2,1,3,6,5,18,1,14,19,1,1,1,4,5,1,1,1,8,1,2,2,2,1,1,1,1,2,2,2,2,11,1,1,6,9,8,9,14,3,1,1,1,1,1,1,1,3,1,1,1,3,3,5,1,8,3,1,2,3,3,1,1,2,24,2,2,10,4,1,2,14,1,1,1,1,6,3,1,3,1,6,8,3,7,3,3,1,2,2,9,2,5,2,1,4,4,13,4,1,1,3,1,1,1,1,26,1,3,1,1,2,4,5,1,1,2,2,5,4,8,2,1,16,1,2,1,2,1,4,4,1,1,1,1,2,1,26,5,6,1,6,4,7,2,2,19,3,4,1,3,4,2,4,3,2,1,1,6,2,7,6,5,9,1,7,1,2,4,1,2,7,6,1,1,1,1,1,11,15,1,1,1,10,4,5,4,5,1,1,3,1,3,4,1,1,1,22,2,2,1,15,4,11,2,1,1,1,2,1,3,9,2,4,1,12,4,2,9,5,10,1,6,2,6,8,1,1,2,6,1,2,1,2,2,1,2,1,1,1,12,3,4,2,1,10,1,1,1,4,1,7,2,1,1,4,1,2,1,1,1,1,2,2,1,22,2,1,3,1,3,1,2,1,1,26,6,1,4,3,13,1,9,8,2,1,2,9,3,12,1,19,24,6,1,1,2,5,2,2,1,3,3,1,15,2,5,2,4,1,1,1,4,4,5,1,1,1,1,1,14,1,2,6,1,1,7,1,1,1,1,13,2,19,1,2,1,3,12,1,1,1,2,9,5,9,5,29,2,1,4,1,7,1,5,5,4,2,5,1,5,25,9,4,2,2,3,2,7,3,2,2,1,6,4,1,13,3,1,2,2,1,3,2,1,16,1,1,5,1,1,1,9,1,3,3,1,5,2,1,3,27,1,4,1,1,8,14,2,1,1,1,1,2,13,4,3,4,3,8,1,3,11,1,1,19,2,1,2,1,19,1,2,14,9,2,1,5,2,1,1,7,9,2,2,1,2,1,4,1,2,4,2,1,1,1,8,3,1,2],\"x0\":\" \",\"xaxis\":\"x\",\"y0\":\" \",\"yaxis\":\"y\",\"type\":\"box\"}],                        {\"template\":{\"data\":{\"histogram2dcontour\":[{\"type\":\"histogram2dcontour\",\"colorbar\":{\"outlinewidth\":0,\"ticks\":\"\"},\"colorscale\":[[0.0,\"#0d0887\"],[0.1111111111111111,\"#46039f\"],[0.2222222222222222,\"#7201a8\"],[0.3333333333333333,\"#9c179e\"],[0.4444444444444444,\"#bd3786\"],[0.5555555555555556,\"#d8576b\"],[0.6666666666666666,\"#ed7953\"],[0.7777777777777778,\"#fb9f3a\"],[0.8888888888888888,\"#fdca26\"],[1.0,\"#f0f921\"]]}],\"choropleth\":[{\"type\":\"choropleth\",\"colorbar\":{\"outlinewidth\":0,\"ticks\":\"\"}}],\"histogram2d\":[{\"type\":\"histogram2d\",\"colorbar\":{\"outlinewidth\":0,\"ticks\":\"\"},\"colorscale\":[[0.0,\"#0d0887\"],[0.1111111111111111,\"#46039f\"],[0.2222222222222222,\"#7201a8\"],[0.3333333333333333,\"#9c179e\"],[0.4444444444444444,\"#bd3786\"],[0.5555555555555556,\"#d8576b\"],[0.6666666666666666,\"#ed7953\"],[0.7777777777777778,\"#fb9f3a\"],[0.8888888888888888,\"#fdca26\"],[1.0,\"#f0f921\"]]}],\"heatmap\":[{\"type\":\"heatmap\",\"colorbar\":{\"outlinewidth\":0,\"ticks\":\"\"},\"colorscale\":[[0.0,\"#0d0887\"],[0.1111111111111111,\"#46039f\"],[0.2222222222222222,\"#7201a8\"],[0.3333333333333333,\"#9c179e\"],[0.4444444444444444,\"#bd3786\"],[0.5555555555555556,\"#d8576b\"],[0.6666666666666666,\"#ed7953\"],[0.7777777777777778,\"#fb9f3a\"],[0.8888888888888888,\"#fdca26\"],[1.0,\"#f0f921\"]]}],\"heatmapgl\":[{\"type\":\"heatmapgl\",\"colorbar\":{\"outlinewidth\":0,\"ticks\":\"\"},\"colorscale\":[[0.0,\"#0d0887\"],[0.1111111111111111,\"#46039f\"],[0.2222222222222222,\"#7201a8\"],[0.3333333333333333,\"#9c179e\"],[0.4444444444444444,\"#bd3786\"],[0.5555555555555556,\"#d8576b\"],[0.6666666666666666,\"#ed7953\"],[0.7777777777777778,\"#fb9f3a\"],[0.8888888888888888,\"#fdca26\"],[1.0,\"#f0f921\"]]}],\"contourcarpet\":[{\"type\":\"contourcarpet\",\"colorbar\":{\"outlinewidth\":0,\"ticks\":\"\"}}],\"contour\":[{\"type\":\"contour\",\"colorbar\":{\"outlinewidth\":0,\"ticks\":\"\"},\"colorscale\":[[0.0,\"#0d0887\"],[0.1111111111111111,\"#46039f\"],[0.2222222222222222,\"#7201a8\"],[0.3333333333333333,\"#9c179e\"],[0.4444444444444444,\"#bd3786\"],[0.5555555555555556,\"#d8576b\"],[0.6666666666666666,\"#ed7953\"],[0.7777777777777778,\"#fb9f3a\"],[0.8888888888888888,\"#fdca26\"],[1.0,\"#f0f921\"]]}],\"surface\":[{\"type\":\"surface\",\"colorbar\":{\"outlinewidth\":0,\"ticks\":\"\"},\"colorscale\":[[0.0,\"#0d0887\"],[0.1111111111111111,\"#46039f\"],[0.2222222222222222,\"#7201a8\"],[0.3333333333333333,\"#9c179e\"],[0.4444444444444444,\"#bd3786\"],[0.5555555555555556,\"#d8576b\"],[0.6666666666666666,\"#ed7953\"],[0.7777777777777778,\"#fb9f3a\"],[0.8888888888888888,\"#fdca26\"],[1.0,\"#f0f921\"]]}],\"mesh3d\":[{\"type\":\"mesh3d\",\"colorbar\":{\"outlinewidth\":0,\"ticks\":\"\"}}],\"scatter\":[{\"fillpattern\":{\"fillmode\":\"overlay\",\"size\":10,\"solidity\":0.2},\"type\":\"scatter\"}],\"parcoords\":[{\"type\":\"parcoords\",\"line\":{\"colorbar\":{\"outlinewidth\":0,\"ticks\":\"\"}}}],\"scatterpolargl\":[{\"type\":\"scatterpolargl\",\"marker\":{\"colorbar\":{\"outlinewidth\":0,\"ticks\":\"\"}}}],\"bar\":[{\"error_x\":{\"color\":\"#2a3f5f\"},\"error_y\":{\"color\":\"#2a3f5f\"},\"marker\":{\"line\":{\"color\":\"#E5ECF6\",\"width\":0.5},\"pattern\":{\"fillmode\":\"overlay\",\"size\":10,\"solidity\":0.2}},\"type\":\"bar\"}],\"scattergeo\":[{\"type\":\"scattergeo\",\"marker\":{\"colorbar\":{\"outlinewidth\":0,\"ticks\":\"\"}}}],\"scatterpolar\":[{\"type\":\"scatterpolar\",\"marker\":{\"colorbar\":{\"outlinewidth\":0,\"ticks\":\"\"}}}],\"histogram\":[{\"marker\":{\"pattern\":{\"fillmode\":\"overlay\",\"size\":10,\"solidity\":0.2}},\"type\":\"histogram\"}],\"scattergl\":[{\"type\":\"scattergl\",\"marker\":{\"colorbar\":{\"outlinewidth\":0,\"ticks\":\"\"}}}],\"scatter3d\":[{\"type\":\"scatter3d\",\"line\":{\"colorbar\":{\"outlinewidth\":0,\"ticks\":\"\"}},\"marker\":{\"colorbar\":{\"outlinewidth\":0,\"ticks\":\"\"}}}],\"scattermapbox\":[{\"type\":\"scattermapbox\",\"marker\":{\"colorbar\":{\"outlinewidth\":0,\"ticks\":\"\"}}}],\"scatterternary\":[{\"type\":\"scatterternary\",\"marker\":{\"colorbar\":{\"outlinewidth\":0,\"ticks\":\"\"}}}],\"scattercarpet\":[{\"type\":\"scattercarpet\",\"marker\":{\"colorbar\":{\"outlinewidth\":0,\"ticks\":\"\"}}}],\"carpet\":[{\"aaxis\":{\"endlinecolor\":\"#2a3f5f\",\"gridcolor\":\"white\",\"linecolor\":\"white\",\"minorgridcolor\":\"white\",\"startlinecolor\":\"#2a3f5f\"},\"baxis\":{\"endlinecolor\":\"#2a3f5f\",\"gridcolor\":\"white\",\"linecolor\":\"white\",\"minorgridcolor\":\"white\",\"startlinecolor\":\"#2a3f5f\"},\"type\":\"carpet\"}],\"table\":[{\"cells\":{\"fill\":{\"color\":\"#EBF0F8\"},\"line\":{\"color\":\"white\"}},\"header\":{\"fill\":{\"color\":\"#C8D4E3\"},\"line\":{\"color\":\"white\"}},\"type\":\"table\"}],\"barpolar\":[{\"marker\":{\"line\":{\"color\":\"#E5ECF6\",\"width\":0.5},\"pattern\":{\"fillmode\":\"overlay\",\"size\":10,\"solidity\":0.2}},\"type\":\"barpolar\"}],\"pie\":[{\"automargin\":true,\"type\":\"pie\"}]},\"layout\":{\"autotypenumbers\":\"strict\",\"colorway\":[\"#636efa\",\"#EF553B\",\"#00cc96\",\"#ab63fa\",\"#FFA15A\",\"#19d3f3\",\"#FF6692\",\"#B6E880\",\"#FF97FF\",\"#FECB52\"],\"font\":{\"color\":\"#2a3f5f\"},\"hovermode\":\"closest\",\"hoverlabel\":{\"align\":\"left\"},\"paper_bgcolor\":\"white\",\"plot_bgcolor\":\"#E5ECF6\",\"polar\":{\"bgcolor\":\"#E5ECF6\",\"angularaxis\":{\"gridcolor\":\"white\",\"linecolor\":\"white\",\"ticks\":\"\"},\"radialaxis\":{\"gridcolor\":\"white\",\"linecolor\":\"white\",\"ticks\":\"\"}},\"ternary\":{\"bgcolor\":\"#E5ECF6\",\"aaxis\":{\"gridcolor\":\"white\",\"linecolor\":\"white\",\"ticks\":\"\"},\"baxis\":{\"gridcolor\":\"white\",\"linecolor\":\"white\",\"ticks\":\"\"},\"caxis\":{\"gridcolor\":\"white\",\"linecolor\":\"white\",\"ticks\":\"\"}},\"coloraxis\":{\"colorbar\":{\"outlinewidth\":0,\"ticks\":\"\"}},\"colorscale\":{\"sequential\":[[0.0,\"#0d0887\"],[0.1111111111111111,\"#46039f\"],[0.2222222222222222,\"#7201a8\"],[0.3333333333333333,\"#9c179e\"],[0.4444444444444444,\"#bd3786\"],[0.5555555555555556,\"#d8576b\"],[0.6666666666666666,\"#ed7953\"],[0.7777777777777778,\"#fb9f3a\"],[0.8888888888888888,\"#fdca26\"],[1.0,\"#f0f921\"]],\"sequentialminus\":[[0.0,\"#0d0887\"],[0.1111111111111111,\"#46039f\"],[0.2222222222222222,\"#7201a8\"],[0.3333333333333333,\"#9c179e\"],[0.4444444444444444,\"#bd3786\"],[0.5555555555555556,\"#d8576b\"],[0.6666666666666666,\"#ed7953\"],[0.7777777777777778,\"#fb9f3a\"],[0.8888888888888888,\"#fdca26\"],[1.0,\"#f0f921\"]],\"diverging\":[[0,\"#8e0152\"],[0.1,\"#c51b7d\"],[0.2,\"#de77ae\"],[0.3,\"#f1b6da\"],[0.4,\"#fde0ef\"],[0.5,\"#f7f7f7\"],[0.6,\"#e6f5d0\"],[0.7,\"#b8e186\"],[0.8,\"#7fbc41\"],[0.9,\"#4d9221\"],[1,\"#276419\"]]},\"xaxis\":{\"gridcolor\":\"white\",\"linecolor\":\"white\",\"ticks\":\"\",\"title\":{\"standoff\":15},\"zerolinecolor\":\"white\",\"automargin\":true,\"zerolinewidth\":2},\"yaxis\":{\"gridcolor\":\"white\",\"linecolor\":\"white\",\"ticks\":\"\",\"title\":{\"standoff\":15},\"zerolinecolor\":\"white\",\"automargin\":true,\"zerolinewidth\":2},\"scene\":{\"xaxis\":{\"backgroundcolor\":\"#E5ECF6\",\"gridcolor\":\"white\",\"linecolor\":\"white\",\"showbackground\":true,\"ticks\":\"\",\"zerolinecolor\":\"white\",\"gridwidth\":2},\"yaxis\":{\"backgroundcolor\":\"#E5ECF6\",\"gridcolor\":\"white\",\"linecolor\":\"white\",\"showbackground\":true,\"ticks\":\"\",\"zerolinecolor\":\"white\",\"gridwidth\":2},\"zaxis\":{\"backgroundcolor\":\"#E5ECF6\",\"gridcolor\":\"white\",\"linecolor\":\"white\",\"showbackground\":true,\"ticks\":\"\",\"zerolinecolor\":\"white\",\"gridwidth\":2}},\"shapedefaults\":{\"line\":{\"color\":\"#2a3f5f\"}},\"annotationdefaults\":{\"arrowcolor\":\"#2a3f5f\",\"arrowhead\":0,\"arrowwidth\":1},\"geo\":{\"bgcolor\":\"white\",\"landcolor\":\"#E5ECF6\",\"subunitcolor\":\"white\",\"showland\":true,\"showlakes\":true,\"lakecolor\":\"white\"},\"title\":{\"x\":0.05},\"mapbox\":{\"style\":\"light\"}}},\"xaxis\":{\"anchor\":\"y\",\"domain\":[0.0,1.0],\"title\":{\"text\":\"Reginol_Node_Positive\"}},\"yaxis\":{\"anchor\":\"x\",\"domain\":[0.0,1.0]},\"legend\":{\"tracegroupgap\":0},\"margin\":{\"t\":60},\"boxmode\":\"group\"},                        {\"responsive\": true}                    ).then(function(){\n",
              "                            \n",
              "var gd = document.getElementById('0752a94a-81d3-487d-a9ec-ea533ea84d5c');\n",
              "var x = new MutationObserver(function (mutations, observer) {{\n",
              "        var display = window.getComputedStyle(gd).display;\n",
              "        if (!display || display === 'none') {{\n",
              "            console.log([gd, 'removed!']);\n",
              "            Plotly.purge(gd);\n",
              "            observer.disconnect();\n",
              "        }}\n",
              "}});\n",
              "\n",
              "// Listen for the removal of the full notebook cells\n",
              "var notebookContainer = gd.closest('#notebook-container');\n",
              "if (notebookContainer) {{\n",
              "    x.observe(notebookContainer, {childList: true});\n",
              "}}\n",
              "\n",
              "// Listen for the clearing of the current output cell\n",
              "var outputEl = gd.closest('.output');\n",
              "if (outputEl) {{\n",
              "    x.observe(outputEl, {childList: true});\n",
              "}}\n",
              "\n",
              "                        })                };                            </script>        </div>\n",
              "</body>\n",
              "</html>"
            ]
          },
          "metadata": {}
        },
        {
          "output_type": "stream",
          "name": "stdout",
          "text": [
            "Index([   9,   14,   24,   25,   26,   34,   40,   48,   66,   71,\n",
            "       ...\n",
            "       3949, 3960, 3967, 3974, 3982, 3985, 3992, 3995, 3996, 4004],\n",
            "      dtype='int64', length=449)\n"
          ]
        }
      ]
    },
    {
      "cell_type": "code",
      "source": [
        "df.drop(index=find_outliers_IQR(df['Reginol_Node_Positive']), inplace=True)"
      ],
      "metadata": {
        "id": "-8n2Hte0C7Id"
      },
      "execution_count": null,
      "outputs": []
    },
    {
      "cell_type": "markdown",
      "source": [
        "\n",
        "\n",
        "---\n",
        "\n",
        "Oulier Visualization For **Survival Months**"
      ],
      "metadata": {
        "id": "Zn_74x_6DGV4"
      }
    },
    {
      "cell_type": "code",
      "source": [
        "printOutlierVisalization(\"Survival_Months\")\n",
        "print(find_outliers_IQR(df['Survival_Months']))"
      ],
      "metadata": {
        "colab": {
          "base_uri": "https://localhost:8080/",
          "height": 1000
        },
        "collapsed": true,
        "id": "5egmUBPRDE-Z",
        "outputId": "198d5b39-9759-4132-863c-b327beadcba1"
      },
      "execution_count": null,
      "outputs": [
        {
          "output_type": "stream",
          "name": "stdout",
          "text": [
            "Ourlier Visulaization for Survival_Months\n"
          ]
        },
        {
          "output_type": "display_data",
          "data": {
            "text/html": [
              "<html>\n",
              "<head><meta charset=\"utf-8\" /></head>\n",
              "<body>\n",
              "    <div>            <script src=\"https://cdnjs.cloudflare.com/ajax/libs/mathjax/2.7.5/MathJax.js?config=TeX-AMS-MML_SVG\"></script><script type=\"text/javascript\">if (window.MathJax && window.MathJax.Hub && window.MathJax.Hub.Config) {window.MathJax.Hub.Config({SVG: {font: \"STIX-Web\"}});}</script>                <script type=\"text/javascript\">window.PlotlyConfig = {MathJaxConfig: 'local'};</script>\n",
              "        <script charset=\"utf-8\" src=\"https://cdn.plot.ly/plotly-2.35.2.min.js\"></script>                <div id=\"ace26c51-d1ee-41b6-af69-c210d3770476\" class=\"plotly-graph-div\" style=\"height:525px; width:100%;\"></div>            <script type=\"text/javascript\">                                    window.PLOTLYENV=window.PLOTLYENV || {};                                    if (document.getElementById(\"ace26c51-d1ee-41b6-af69-c210d3770476\")) {                    Plotly.newPlot(                        \"ace26c51-d1ee-41b6-af69-c210d3770476\",                        [{\"alignmentgroup\":\"True\",\"bingroup\":\"x\",\"hovertemplate\":\"Survival_Months=%{x}\\u003cbr\\u003ecount=%{y}\\u003cextra\\u003e\\u003c\\u002fextra\\u003e\",\"legendgroup\":\"\",\"marker\":{\"color\":\"#636efa\",\"pattern\":{\"shape\":\"\"}},\"name\":\"\",\"offsetgroup\":\"\",\"orientation\":\"v\",\"showlegend\":false,\"x\":[60,62,75,84,50,89,54,14,64,92,56,38,49,105,62,107,77,81,50,78,102,82,64,86,52,49,90,62,77,37,103,82,105,61,86,84,63,90,39,59,82,71,71,74,73,91,73,77,80,49,78,60,106,85,79,84,52,98,95,79,106,81,55,65,72,55,65,95,95,91,57,87,91,50,25,73,63,50,73,8,53,65,58,24,64,106,61,66,79,69,103,52,91,57,94,79,86,49,14,100,50,79,77,50,73,96,87,41,54,84,67,86,102,42,52,107,92,69,82,101,64,55,98,56,51,102,71,11,53,82,89,56,54,72,51,100,62,73,84,87,96,74,77,64,93,74,23,86,81,71,79,60,89,66,84,50,55,98,53,103,77,63,45,68,53,91,105,76,94,56,31,85,62,50,107,76,87,101,53,93,90,59,58,68,94,72,103,77,49,99,107,87,103,96,40,78,92,106,54,85,69,93,76,58,79,63,7,104,74,67,98,100,58,61,45,57,42,55,68,99,88,87,60,92,65,23,50,61,50,95,65,81,81,92,53,91,49,61,48,75,57,81,56,73,53,68,88,79,74,53,104,57,90,73,94,98,74,89,100,16,107,70,68,81,67,97,60,86,59,87,75,102,101,80,104,61,41,100,105,57,59,54,76,82,53,102,100,107,73,91,107,85,102,49,85,86,53,54,101,98,104,54,91,107,76,66,57,93,87,102,58,51,82,56,51,66,100,92,104,91,81,75,85,78,45,3,64,99,55,82,96,51,106,22,83,86,45,99,84,87,92,49,56,98,97,106,100,90,74,66,6,75,63,68,55,73,60,100,90,95,103,99,102,103,88,58,61,101,101,9,68,87,93,61,95,80,13,52,56,97,66,54,48,81,69,84,89,97,100,67,52,70,95,87,53,83,60,63,106,107,95,58,94,52,97,86,91,49,69,100,9,86,76,61,69,5,92,54,87,80,49,56,75,87,53,61,102,101,69,80,98,59,53,107,94,60,100,91,66,44,60,50,90,88,75,74,56,19,25,93,87,69,95,81,104,52,67,87,18,55,50,66,107,85,64,96,98,52,76,64,54,89,90,61,52,69,93,62,103,71,100,62,96,74,66,75,89,102,72,97,103,88,60,57,81,91,75,51,93,84,5,62,79,93,88,55,104,85,78,35,94,75,27,98,68,36,53,79,83,89,64,89,102,101,54,36,50,87,85,68,73,59,67,66,58,57,75,104,50,62,93,4,73,94,73,70,72,81,37,66,95,69,95,73,79,47,79,89,74,59,49,105,59,100,93,57,95,65,58,72,64,54,93,76,79,44,95,66,29,16,19,104,71,60,67,88,40,47,39,105,53,61,50,99,104,85,71,102,58,70,99,61,38,34,103,67,65,97,85,81,59,58,57,97,87,74,85,69,82,80,105,53,18,97,54,80,82,99,87,88,90,49,47,77,77,48,54,66,83,81,80,91,76,85,61,56,85,97,101,77,75,99,54,103,89,89,101,95,94,94,48,58,101,96,90,102,101,50,62,96,97,76,20,53,69,69,69,102,5,99,87,75,89,53,96,56,102,57,106,107,64,7,107,58,45,91,107,54,107,83,78,28,96,79,57,76,54,67,85,85,73,70,73,98,49,62,47,98,77,103,107,77,85,65,68,51,100,69,25,80,87,62,84,85,17,53,92,102,104,85,94,55,99,65,3,55,60,46,80,75,70,19,95,97,68,90,96,44,81,24,61,74,71,65,43,46,69,81,30,92,68,84,63,90,67,44,49,77,24,71,75,89,84,97,84,96,81,58,50,80,61,77,87,105,77,67,82,95,15,67,74,10,95,73,58,92,60,81,17,52,96,70,65,98,14,35,74,88,89,104,96,83,74,87,57,103,102,50,92,90,4,50,67,13,80,95,66,62,88,98,22,51,90,67,72,99,83,93,73,95,88,103,91,106,88,75,85,70,85,64,67,96,61,68,73,35,88,106,78,67,98,56,56,73,57,95,101,99,97,94,50,86,100,62,97,64,59,97,87,60,76,69,56,93,49,52,62,92,79,58,67,63,45,99,62,82,5,76,41,98,51,21,55,48,103,60,52,56,2,91,53,96,48,81,94,88,56,83,73,103,31,48,89,83,86,97,58,101,53,94,76,74,73,61,103,63,95,47,64,50,87,77,105,80,101,52,79,13,101,88,48,73,69,91,102,77,101,36,83,83,66,76,98,75,100,72,86,74,78,94,62,17,98,50,103,69,107,101,50,68,68,52,84,102,53,85,101,106,72,84,59,72,73,58,88,89,86,94,49,103,105,101,98,81,75,69,104,87,72,75,85,93,56,49,70,51,57,87,98,80,102,104,62,72,86,53,58,83,94,101,59,43,54,57,96,64,71,74,49,53,96,51,64,95,92,58,62,107,62,18,77,86,87,24,63,57,72,67,68,107,28,62,76,81,22,50,83,104,83,8,93,93,50,99,76,65,64,56,65,74,74,75,60,98,103,48,68,97,85,47,63,54,46,74,98,97,66,64,79,39,103,90,48,76,87,103,87,58,89,40,54,80,18,100,95,67,78,56,54,52,106,99,66,61,73,94,56,83,69,76,85,48,75,107,63,94,98,40,64,80,58,89,87,93,27,5,95,87,100,99,23,102,106,41,55,58,51,40,79,40,76,66,54,75,79,58,65,81,40,76,69,55,60,94,82,61,90,90,64,50,54,13,89,102,47,63,90,75,46,57,31,53,79,50,89,104,66,77,100,76,86,82,107,96,72,82,103,54,77,9,97,89,91,92,103,81,47,77,89,83,72,56,105,59,69,66,103,78,47,88,102,71,51,67,33,107,77,84,91,61,56,103,58,103,50,66,69,51,86,96,74,58,66,55,102,104,31,37,77,81,93,93,103,72,76,52,81,49,42,102,51,53,98,51,69,40,59,61,66,107,94,77,53,76,83,67,88,80,81,72,96,60,67,83,101,64,91,78,105,78,40,92,99,89,98,40,76,31,95,71,69,106,84,74,74,46,52,77,78,98,49,77,71,98,83,83,74,23,71,106,61,101,95,63,59,61,99,73,103,67,86,72,59,66,64,64,81,89,47,53,105,106,100,81,85,45,56,92,81,76,50,4,20,95,35,98,92,60,3,82,55,15,56,56,80,30,60,64,93,47,46,88,93,93,87,49,56,107,72,58,103,94,11,102,80,48,106,86,78,96,98,99,75,2,102,70,60,75,72,107,60,101,97,107,62,73,96,91,102,64,50,52,100,83,67,61,53,47,97,31,65,75,82,97,37,58,71,105,63,83,61,9,52,77,54,79,47,12,64,96,49,81,63,107,106,18,71,69,52,91,64,57,96,56,94,22,94,78,72,25,69,90,59,55,105,95,14,82,68,100,78,105,66,93,71,80,21,102,98,75,81,13,58,100,96,58,73,98,96,89,79,77,107,65,60,54,61,72,89,106,52,80,73,52,74,53,72,68,55,70,80,54,8,98,91,4,101,99,74,80,70,69,9,72,100,103,39,87,67,50,53,66,92,66,26,23,68,83,63,99,100,106,102,27,48,63,68,77,100,78,41,91,53,56,54,106,101,81,92,102,70,30,93,59,52,63,18,34,59,107,102,49,56,60,94,55,94,91,41,84,52,6,65,71,66,8,79,62,71,97,61,61,75,83,44,70,27,62,69,73,63,88,51,107,68,78,89,96,100,54,76,95,98,77,87,97,56,61,67,98,50,89,60,57,107,94,85,58,102,16,57,74,65,82,92,102,67,71,66,45,103,85,98,65,55,53,63,95,106,53,89,106,98,44,82,81,65,107,96,86,75,106,56,47,58,79,101,97,92,95,100,68,58,83,48,82,49,54,46,91,51,8,91,49,36,42,65,87,23,68,84,76,71,49,70,6,96,42,91,64,99,104,65,51,80,58,96,90,82,97,87,61,101,77,51,96,57,93,75,57,67,24,69,65,67,72,55,76,59,99,82,78,96,15,97,65,37,69,12,54,58,66,95,67,64,81,78,95,88,27,50,86,92,63,77,80,80,53,78,76,80,59,28,60,59,76,44,70,77,93,63,102,79,75,60,68,97,82,56,63,83,68,99,100,52,105,96,69,52,99,90,50,99,79,51,75,83,55,41,88,89,63,80,84,64,55,94,74,51,104,52,88,78,60,97,92,64,42,54,98,104,96,103,78,65,102,81,74,102,91,38,58,94,86,58,49,68,74,87,60,52,82,53,86,69,96,69,84,23,70,48,81,84,24,49,86,99,89,83,51,59,102,104,62,60,98,92,78,76,100,58,49,95,54,95,75,100,76,89,63,94,96,103,77,41,106,66,104,37,74,63,56,90,67,48,72,59,95,94,60,91,49,103,32,104,93,99,66,57,13,70,69,82,90,64,56,83,107,65,102,51,85,74,67,64,106,82,80,6,56,4,98,53,64,98,70,97,62,43,65,64,72,102,83,68,22,57,92,83,48,57,76,72,98,47,48,54,62,48,100,57,24,103,90,64,82,88,38,82,35,84,64,100,60,59,73,88,65,72,63,44,98,100,104,106,69,93,49,72,51,103,101,78,74,103,63,66,53,66,46,104,82,76,92,46,82,50,48,13,77,94,16,78,99,85,65,75,51,77,85,94,70,87,65,89,86,70,81,68,62,107,105,106,93,67,71,50,64,67,99,68,18,73,43,95,83,72,37,74,101,78,76,80,97,104,55,58,99,82,61,102,83,48,33,49,84,42,84,71,56,51,59,57,101,53,95,97,92,52,81,21,55,62,93,83,60,56,94,92,32,55,33,94,80,100,107,64,59,67,93,80,91,49,73,80,9,107,95,92,60,53,60,79,49,45,68,96,32,104,86,11,104,70,56,35,52,49,52,85,76,79,40,83,49,51,48,98,94,77,99,67,77,69,50,16,59,67,102,104,85,82,105,65,48,38,101,59,105,84,97,75,99,48,81,51,81,89,69,88,57,63,52,97,51,54,53,61,66,49,82,78,79,27,89,53,63,59,78,61,91,59,48,80,66,68,77,88,49,83,106,61,103,70,81,51,84,90,105,98,44,73,88,61,89,107,70,101,57,66,104,79,94,100,69,51,98,82,98,100,56,70,90,84,81,75,59,48,89,102,45,39,92,51,105,68,103,70,89,60,57,84,95,82,67,63,17,57,30,71,65,98,44,60,60,34,101,84,94,41,57,97,105,80,93,39,106,100,84,86,52,56,91,52,20,70,71,44,69,87,77,92,91,79,50,86,98,43,55,86,87,104,55,88,98,56,38,73,40,49,90,93,50,59,103,68,98,87,92,59,22,71,102,95,53,45,79,94,105,80,67,13,66,75,78,44,65,96,64,88,53,74,75,99,61,78,53,41,96,105,97,84,6,82,38,98,75,91,77,20,95,93,76,30,48,37,54,24,54,65,63,97,63,75,100,78,78,48,81,69,22,106,27,61,62,98,63,101,67,68,61,77,98,48,74,69,94,95,67,102,74,102,65,69,101,80,83,60,40,105,78,75,99,88,50,88,92,70,74,78,35,57,79,95,72,50,107,59,57,64,74,96,63,83,54,80,74,66,89,86,96,66,83,107,23,75,76,67,55,59,78,53,41,55,50,60,47,54,101,18,85,55,87,50,64,75,69,61,89,65,107,50,64,31,36,100,81,48,54,55,66,67,63,49,85,41,60,72,53,73,85,90,70,10,94,68,65,92,21,63,86,53,29,97,94,55,96,68,94,54,75,76,52,94,49,85,62,50,97,51,50,40,99,59,95,83,80,82,56,30,79,88,45,92,86,73,52,55,69,88,88,97,98,85,58,100,70,86,95,106,70,72,81,92,84,68,64,101,69,89,104,77,93,78,27,52,35,82,48,44,98,95,52,91,103,61,100,86,101,95,85,83,77,102,93,62,95,68,54,55,48,51,98,101,68,78,68,75,63,67,63,61,54,84,78,107,75,49,91,45,70,51,50,98,38,106,95,85,93,66,106,93,74,100,58,84,107,87,79,82,105,82,68,69,63,65,85,56,59,72,80,72,53,99,56,57,27,99,95,69,104,100,49,103,65,33,88,62,59,81,97,103,88,88,96,52,100,56,41,88,77,88,89,102,78,83,55,100,45,41,96,86,68,73,50,89,71,92,89,88,88,85,88,80,51,50,101,99,89,70,62,76,98,105,103,12,75,62,60,96,99,79,83,54,56,83,90,107,100,62,51,72,57,93,75,56,73,70,100,61,64,105,67,89,93,100,78,93,67,72,67,53,103,100,55,86,63,65,65,58,50,67,104,55,102,69,14,61,52,83,69,80,60,73,63,63,49,69,74,52,75,90,6,88,83,58,100,56,59,71,97,57,98,50,79,46,87,79,34,48,96,89,81,76,70,82,101,90,39,69,51,20,63,80,81,55,78,97,105,55,56,50,65,4,50,87,81,83,72,65,88,36,59,63,105,54,56,62,59,93,47,48,79,88,60,51,107,50,80,77,102,66,97,106,84,79,81,54,54,64,91,98,88,73,93,86,71,74,54,68,76,73,98,64,81,58,84,61,105,85,48,26,56,100,56,63,97,82,48,105,98,72,63,89,66,96,104,64,86,48,66,94,65,57,80,96,94,61,103,78,48,93,84,72,60,53,91,78,41,76,31,33,56,95,63,97,63,49,93,77,97,72,45,86,74,57,59,61,79,76,72,52,74,56,95,89,78,59,63,66,43,69,70,101,87,102,23,69,28,78,105,46,51,14,56,33,49,8,82,73,69,84,83,91,101,49,67,48,66,64,75,67,97,66,64,82,77,78,96,78,107,83,55,66,60,93,75,87,66,106,46,83,89,84,48,71,50,107,56,84,68,76,62,53,50,12,51,58,75,86,80,5,75,81,58,82,85,66,84,101,55,47,104,68,102,57,88,83,38,67,89,92,60,53,84,87,64,63,84,91,100,77,102,107,107,89,51,27,87,56,52,77,69,80,63,69,49,35,57,105,88,94,48,62,77,102,84,75,97,87,59,105,63,107,66,69,61,94,78,70,60,82,78,81,104,80,86,4,57,88,66,91,88,41,70,105,79,94,80,66,49,80,95,99,93,80,52,105,52,59,52,77,99,65,49,107,67,28,69,69,103,80,60,87,59,55,82,66,72,95,97,92,59,69,81,69,90,97,93,58,48,66,63,77,72,52,86,46,68,71,59,72,50,60,56,101,66,58,88,48,107,77,66,58,69,104,97,84,91,63,54,95,55,58,102,68,65,80,107,64,74,27,57,20,51,76,72,60,53,77,97,85,99,49,69,69,69,59,56,41,81,89,59,68,74,70,81,51,79,62,75,95,56,77,62,106,70,21,90,52,82,60,65,63,102,55,80,76,83,62,59,85,89,52,54,93,50,56,100,85,63,24,61,64,76,66,75,52,27,100,102,86,68,52,19,70,49,69,69,72,100],\"xaxis\":\"x\",\"yaxis\":\"y\",\"type\":\"histogram\"}],                        {\"template\":{\"data\":{\"histogram2dcontour\":[{\"type\":\"histogram2dcontour\",\"colorbar\":{\"outlinewidth\":0,\"ticks\":\"\"},\"colorscale\":[[0.0,\"#0d0887\"],[0.1111111111111111,\"#46039f\"],[0.2222222222222222,\"#7201a8\"],[0.3333333333333333,\"#9c179e\"],[0.4444444444444444,\"#bd3786\"],[0.5555555555555556,\"#d8576b\"],[0.6666666666666666,\"#ed7953\"],[0.7777777777777778,\"#fb9f3a\"],[0.8888888888888888,\"#fdca26\"],[1.0,\"#f0f921\"]]}],\"choropleth\":[{\"type\":\"choropleth\",\"colorbar\":{\"outlinewidth\":0,\"ticks\":\"\"}}],\"histogram2d\":[{\"type\":\"histogram2d\",\"colorbar\":{\"outlinewidth\":0,\"ticks\":\"\"},\"colorscale\":[[0.0,\"#0d0887\"],[0.1111111111111111,\"#46039f\"],[0.2222222222222222,\"#7201a8\"],[0.3333333333333333,\"#9c179e\"],[0.4444444444444444,\"#bd3786\"],[0.5555555555555556,\"#d8576b\"],[0.6666666666666666,\"#ed7953\"],[0.7777777777777778,\"#fb9f3a\"],[0.8888888888888888,\"#fdca26\"],[1.0,\"#f0f921\"]]}],\"heatmap\":[{\"type\":\"heatmap\",\"colorbar\":{\"outlinewidth\":0,\"ticks\":\"\"},\"colorscale\":[[0.0,\"#0d0887\"],[0.1111111111111111,\"#46039f\"],[0.2222222222222222,\"#7201a8\"],[0.3333333333333333,\"#9c179e\"],[0.4444444444444444,\"#bd3786\"],[0.5555555555555556,\"#d8576b\"],[0.6666666666666666,\"#ed7953\"],[0.7777777777777778,\"#fb9f3a\"],[0.8888888888888888,\"#fdca26\"],[1.0,\"#f0f921\"]]}],\"heatmapgl\":[{\"type\":\"heatmapgl\",\"colorbar\":{\"outlinewidth\":0,\"ticks\":\"\"},\"colorscale\":[[0.0,\"#0d0887\"],[0.1111111111111111,\"#46039f\"],[0.2222222222222222,\"#7201a8\"],[0.3333333333333333,\"#9c179e\"],[0.4444444444444444,\"#bd3786\"],[0.5555555555555556,\"#d8576b\"],[0.6666666666666666,\"#ed7953\"],[0.7777777777777778,\"#fb9f3a\"],[0.8888888888888888,\"#fdca26\"],[1.0,\"#f0f921\"]]}],\"contourcarpet\":[{\"type\":\"contourcarpet\",\"colorbar\":{\"outlinewidth\":0,\"ticks\":\"\"}}],\"contour\":[{\"type\":\"contour\",\"colorbar\":{\"outlinewidth\":0,\"ticks\":\"\"},\"colorscale\":[[0.0,\"#0d0887\"],[0.1111111111111111,\"#46039f\"],[0.2222222222222222,\"#7201a8\"],[0.3333333333333333,\"#9c179e\"],[0.4444444444444444,\"#bd3786\"],[0.5555555555555556,\"#d8576b\"],[0.6666666666666666,\"#ed7953\"],[0.7777777777777778,\"#fb9f3a\"],[0.8888888888888888,\"#fdca26\"],[1.0,\"#f0f921\"]]}],\"surface\":[{\"type\":\"surface\",\"colorbar\":{\"outlinewidth\":0,\"ticks\":\"\"},\"colorscale\":[[0.0,\"#0d0887\"],[0.1111111111111111,\"#46039f\"],[0.2222222222222222,\"#7201a8\"],[0.3333333333333333,\"#9c179e\"],[0.4444444444444444,\"#bd3786\"],[0.5555555555555556,\"#d8576b\"],[0.6666666666666666,\"#ed7953\"],[0.7777777777777778,\"#fb9f3a\"],[0.8888888888888888,\"#fdca26\"],[1.0,\"#f0f921\"]]}],\"mesh3d\":[{\"type\":\"mesh3d\",\"colorbar\":{\"outlinewidth\":0,\"ticks\":\"\"}}],\"scatter\":[{\"fillpattern\":{\"fillmode\":\"overlay\",\"size\":10,\"solidity\":0.2},\"type\":\"scatter\"}],\"parcoords\":[{\"type\":\"parcoords\",\"line\":{\"colorbar\":{\"outlinewidth\":0,\"ticks\":\"\"}}}],\"scatterpolargl\":[{\"type\":\"scatterpolargl\",\"marker\":{\"colorbar\":{\"outlinewidth\":0,\"ticks\":\"\"}}}],\"bar\":[{\"error_x\":{\"color\":\"#2a3f5f\"},\"error_y\":{\"color\":\"#2a3f5f\"},\"marker\":{\"line\":{\"color\":\"#E5ECF6\",\"width\":0.5},\"pattern\":{\"fillmode\":\"overlay\",\"size\":10,\"solidity\":0.2}},\"type\":\"bar\"}],\"scattergeo\":[{\"type\":\"scattergeo\",\"marker\":{\"colorbar\":{\"outlinewidth\":0,\"ticks\":\"\"}}}],\"scatterpolar\":[{\"type\":\"scatterpolar\",\"marker\":{\"colorbar\":{\"outlinewidth\":0,\"ticks\":\"\"}}}],\"histogram\":[{\"marker\":{\"pattern\":{\"fillmode\":\"overlay\",\"size\":10,\"solidity\":0.2}},\"type\":\"histogram\"}],\"scattergl\":[{\"type\":\"scattergl\",\"marker\":{\"colorbar\":{\"outlinewidth\":0,\"ticks\":\"\"}}}],\"scatter3d\":[{\"type\":\"scatter3d\",\"line\":{\"colorbar\":{\"outlinewidth\":0,\"ticks\":\"\"}},\"marker\":{\"colorbar\":{\"outlinewidth\":0,\"ticks\":\"\"}}}],\"scattermapbox\":[{\"type\":\"scattermapbox\",\"marker\":{\"colorbar\":{\"outlinewidth\":0,\"ticks\":\"\"}}}],\"scatterternary\":[{\"type\":\"scatterternary\",\"marker\":{\"colorbar\":{\"outlinewidth\":0,\"ticks\":\"\"}}}],\"scattercarpet\":[{\"type\":\"scattercarpet\",\"marker\":{\"colorbar\":{\"outlinewidth\":0,\"ticks\":\"\"}}}],\"carpet\":[{\"aaxis\":{\"endlinecolor\":\"#2a3f5f\",\"gridcolor\":\"white\",\"linecolor\":\"white\",\"minorgridcolor\":\"white\",\"startlinecolor\":\"#2a3f5f\"},\"baxis\":{\"endlinecolor\":\"#2a3f5f\",\"gridcolor\":\"white\",\"linecolor\":\"white\",\"minorgridcolor\":\"white\",\"startlinecolor\":\"#2a3f5f\"},\"type\":\"carpet\"}],\"table\":[{\"cells\":{\"fill\":{\"color\":\"#EBF0F8\"},\"line\":{\"color\":\"white\"}},\"header\":{\"fill\":{\"color\":\"#C8D4E3\"},\"line\":{\"color\":\"white\"}},\"type\":\"table\"}],\"barpolar\":[{\"marker\":{\"line\":{\"color\":\"#E5ECF6\",\"width\":0.5},\"pattern\":{\"fillmode\":\"overlay\",\"size\":10,\"solidity\":0.2}},\"type\":\"barpolar\"}],\"pie\":[{\"automargin\":true,\"type\":\"pie\"}]},\"layout\":{\"autotypenumbers\":\"strict\",\"colorway\":[\"#636efa\",\"#EF553B\",\"#00cc96\",\"#ab63fa\",\"#FFA15A\",\"#19d3f3\",\"#FF6692\",\"#B6E880\",\"#FF97FF\",\"#FECB52\"],\"font\":{\"color\":\"#2a3f5f\"},\"hovermode\":\"closest\",\"hoverlabel\":{\"align\":\"left\"},\"paper_bgcolor\":\"white\",\"plot_bgcolor\":\"#E5ECF6\",\"polar\":{\"bgcolor\":\"#E5ECF6\",\"angularaxis\":{\"gridcolor\":\"white\",\"linecolor\":\"white\",\"ticks\":\"\"},\"radialaxis\":{\"gridcolor\":\"white\",\"linecolor\":\"white\",\"ticks\":\"\"}},\"ternary\":{\"bgcolor\":\"#E5ECF6\",\"aaxis\":{\"gridcolor\":\"white\",\"linecolor\":\"white\",\"ticks\":\"\"},\"baxis\":{\"gridcolor\":\"white\",\"linecolor\":\"white\",\"ticks\":\"\"},\"caxis\":{\"gridcolor\":\"white\",\"linecolor\":\"white\",\"ticks\":\"\"}},\"coloraxis\":{\"colorbar\":{\"outlinewidth\":0,\"ticks\":\"\"}},\"colorscale\":{\"sequential\":[[0.0,\"#0d0887\"],[0.1111111111111111,\"#46039f\"],[0.2222222222222222,\"#7201a8\"],[0.3333333333333333,\"#9c179e\"],[0.4444444444444444,\"#bd3786\"],[0.5555555555555556,\"#d8576b\"],[0.6666666666666666,\"#ed7953\"],[0.7777777777777778,\"#fb9f3a\"],[0.8888888888888888,\"#fdca26\"],[1.0,\"#f0f921\"]],\"sequentialminus\":[[0.0,\"#0d0887\"],[0.1111111111111111,\"#46039f\"],[0.2222222222222222,\"#7201a8\"],[0.3333333333333333,\"#9c179e\"],[0.4444444444444444,\"#bd3786\"],[0.5555555555555556,\"#d8576b\"],[0.6666666666666666,\"#ed7953\"],[0.7777777777777778,\"#fb9f3a\"],[0.8888888888888888,\"#fdca26\"],[1.0,\"#f0f921\"]],\"diverging\":[[0,\"#8e0152\"],[0.1,\"#c51b7d\"],[0.2,\"#de77ae\"],[0.3,\"#f1b6da\"],[0.4,\"#fde0ef\"],[0.5,\"#f7f7f7\"],[0.6,\"#e6f5d0\"],[0.7,\"#b8e186\"],[0.8,\"#7fbc41\"],[0.9,\"#4d9221\"],[1,\"#276419\"]]},\"xaxis\":{\"gridcolor\":\"white\",\"linecolor\":\"white\",\"ticks\":\"\",\"title\":{\"standoff\":15},\"zerolinecolor\":\"white\",\"automargin\":true,\"zerolinewidth\":2},\"yaxis\":{\"gridcolor\":\"white\",\"linecolor\":\"white\",\"ticks\":\"\",\"title\":{\"standoff\":15},\"zerolinecolor\":\"white\",\"automargin\":true,\"zerolinewidth\":2},\"scene\":{\"xaxis\":{\"backgroundcolor\":\"#E5ECF6\",\"gridcolor\":\"white\",\"linecolor\":\"white\",\"showbackground\":true,\"ticks\":\"\",\"zerolinecolor\":\"white\",\"gridwidth\":2},\"yaxis\":{\"backgroundcolor\":\"#E5ECF6\",\"gridcolor\":\"white\",\"linecolor\":\"white\",\"showbackground\":true,\"ticks\":\"\",\"zerolinecolor\":\"white\",\"gridwidth\":2},\"zaxis\":{\"backgroundcolor\":\"#E5ECF6\",\"gridcolor\":\"white\",\"linecolor\":\"white\",\"showbackground\":true,\"ticks\":\"\",\"zerolinecolor\":\"white\",\"gridwidth\":2}},\"shapedefaults\":{\"line\":{\"color\":\"#2a3f5f\"}},\"annotationdefaults\":{\"arrowcolor\":\"#2a3f5f\",\"arrowhead\":0,\"arrowwidth\":1},\"geo\":{\"bgcolor\":\"white\",\"landcolor\":\"#E5ECF6\",\"subunitcolor\":\"white\",\"showland\":true,\"showlakes\":true,\"lakecolor\":\"white\"},\"title\":{\"x\":0.05},\"mapbox\":{\"style\":\"light\"}}},\"xaxis\":{\"anchor\":\"y\",\"domain\":[0.0,1.0],\"title\":{\"text\":\"Survival_Months\"}},\"yaxis\":{\"anchor\":\"x\",\"domain\":[0.0,1.0],\"title\":{\"text\":\"count\"}},\"legend\":{\"tracegroupgap\":0},\"margin\":{\"t\":60},\"barmode\":\"relative\"},                        {\"responsive\": true}                    ).then(function(){\n",
              "                            \n",
              "var gd = document.getElementById('ace26c51-d1ee-41b6-af69-c210d3770476');\n",
              "var x = new MutationObserver(function (mutations, observer) {{\n",
              "        var display = window.getComputedStyle(gd).display;\n",
              "        if (!display || display === 'none') {{\n",
              "            console.log([gd, 'removed!']);\n",
              "            Plotly.purge(gd);\n",
              "            observer.disconnect();\n",
              "        }}\n",
              "}});\n",
              "\n",
              "// Listen for the removal of the full notebook cells\n",
              "var notebookContainer = gd.closest('#notebook-container');\n",
              "if (notebookContainer) {{\n",
              "    x.observe(notebookContainer, {childList: true});\n",
              "}}\n",
              "\n",
              "// Listen for the clearing of the current output cell\n",
              "var outputEl = gd.closest('.output');\n",
              "if (outputEl) {{\n",
              "    x.observe(outputEl, {childList: true});\n",
              "}}\n",
              "\n",
              "                        })                };                            </script>        </div>\n",
              "</body>\n",
              "</html>"
            ]
          },
          "metadata": {}
        },
        {
          "output_type": "display_data",
          "data": {
            "text/html": [
              "<html>\n",
              "<head><meta charset=\"utf-8\" /></head>\n",
              "<body>\n",
              "    <div>            <script src=\"https://cdnjs.cloudflare.com/ajax/libs/mathjax/2.7.5/MathJax.js?config=TeX-AMS-MML_SVG\"></script><script type=\"text/javascript\">if (window.MathJax && window.MathJax.Hub && window.MathJax.Hub.Config) {window.MathJax.Hub.Config({SVG: {font: \"STIX-Web\"}});}</script>                <script type=\"text/javascript\">window.PlotlyConfig = {MathJaxConfig: 'local'};</script>\n",
              "        <script charset=\"utf-8\" src=\"https://cdn.plot.ly/plotly-2.35.2.min.js\"></script>                <div id=\"8703c761-d9b6-4a52-a3ef-3fcae6f5cac7\" class=\"plotly-graph-div\" style=\"height:525px; width:100%;\"></div>            <script type=\"text/javascript\">                                    window.PLOTLYENV=window.PLOTLYENV || {};                                    if (document.getElementById(\"8703c761-d9b6-4a52-a3ef-3fcae6f5cac7\")) {                    Plotly.newPlot(                        \"8703c761-d9b6-4a52-a3ef-3fcae6f5cac7\",                        [{\"hovertemplate\":\"Survival_Months=%{x}\\u003cbr\\u003eindex=%{y}\\u003cextra\\u003e\\u003c\\u002fextra\\u003e\",\"legendgroup\":\"\",\"marker\":{\"color\":\"#636efa\",\"symbol\":\"circle\"},\"mode\":\"markers\",\"name\":\"\",\"showlegend\":false,\"x\":[60,62,75,84,50,89,54,14,64,92,56,38,49,105,62,107,77,81,50,78,102,82,64,86,52,49,90,62,77,37,103,82,105,61,86,84,63,90,39,59,82,71,71,74,73,91,73,77,80,49,78,60,106,85,79,84,52,98,95,79,106,81,55,65,72,55,65,95,95,91,57,87,91,50,25,73,63,50,73,8,53,65,58,24,64,106,61,66,79,69,103,52,91,57,94,79,86,49,14,100,50,79,77,50,73,96,87,41,54,84,67,86,102,42,52,107,92,69,82,101,64,55,98,56,51,102,71,11,53,82,89,56,54,72,51,100,62,73,84,87,96,74,77,64,93,74,23,86,81,71,79,60,89,66,84,50,55,98,53,103,77,63,45,68,53,91,105,76,94,56,31,85,62,50,107,76,87,101,53,93,90,59,58,68,94,72,103,77,49,99,107,87,103,96,40,78,92,106,54,85,69,93,76,58,79,63,7,104,74,67,98,100,58,61,45,57,42,55,68,99,88,87,60,92,65,23,50,61,50,95,65,81,81,92,53,91,49,61,48,75,57,81,56,73,53,68,88,79,74,53,104,57,90,73,94,98,74,89,100,16,107,70,68,81,67,97,60,86,59,87,75,102,101,80,104,61,41,100,105,57,59,54,76,82,53,102,100,107,73,91,107,85,102,49,85,86,53,54,101,98,104,54,91,107,76,66,57,93,87,102,58,51,82,56,51,66,100,92,104,91,81,75,85,78,45,3,64,99,55,82,96,51,106,22,83,86,45,99,84,87,92,49,56,98,97,106,100,90,74,66,6,75,63,68,55,73,60,100,90,95,103,99,102,103,88,58,61,101,101,9,68,87,93,61,95,80,13,52,56,97,66,54,48,81,69,84,89,97,100,67,52,70,95,87,53,83,60,63,106,107,95,58,94,52,97,86,91,49,69,100,9,86,76,61,69,5,92,54,87,80,49,56,75,87,53,61,102,101,69,80,98,59,53,107,94,60,100,91,66,44,60,50,90,88,75,74,56,19,25,93,87,69,95,81,104,52,67,87,18,55,50,66,107,85,64,96,98,52,76,64,54,89,90,61,52,69,93,62,103,71,100,62,96,74,66,75,89,102,72,97,103,88,60,57,81,91,75,51,93,84,5,62,79,93,88,55,104,85,78,35,94,75,27,98,68,36,53,79,83,89,64,89,102,101,54,36,50,87,85,68,73,59,67,66,58,57,75,104,50,62,93,4,73,94,73,70,72,81,37,66,95,69,95,73,79,47,79,89,74,59,49,105,59,100,93,57,95,65,58,72,64,54,93,76,79,44,95,66,29,16,19,104,71,60,67,88,40,47,39,105,53,61,50,99,104,85,71,102,58,70,99,61,38,34,103,67,65,97,85,81,59,58,57,97,87,74,85,69,82,80,105,53,18,97,54,80,82,99,87,88,90,49,47,77,77,48,54,66,83,81,80,91,76,85,61,56,85,97,101,77,75,99,54,103,89,89,101,95,94,94,48,58,101,96,90,102,101,50,62,96,97,76,20,53,69,69,69,102,5,99,87,75,89,53,96,56,102,57,106,107,64,7,107,58,45,91,107,54,107,83,78,28,96,79,57,76,54,67,85,85,73,70,73,98,49,62,47,98,77,103,107,77,85,65,68,51,100,69,25,80,87,62,84,85,17,53,92,102,104,85,94,55,99,65,3,55,60,46,80,75,70,19,95,97,68,90,96,44,81,24,61,74,71,65,43,46,69,81,30,92,68,84,63,90,67,44,49,77,24,71,75,89,84,97,84,96,81,58,50,80,61,77,87,105,77,67,82,95,15,67,74,10,95,73,58,92,60,81,17,52,96,70,65,98,14,35,74,88,89,104,96,83,74,87,57,103,102,50,92,90,4,50,67,13,80,95,66,62,88,98,22,51,90,67,72,99,83,93,73,95,88,103,91,106,88,75,85,70,85,64,67,96,61,68,73,35,88,106,78,67,98,56,56,73,57,95,101,99,97,94,50,86,100,62,97,64,59,97,87,60,76,69,56,93,49,52,62,92,79,58,67,63,45,99,62,82,5,76,41,98,51,21,55,48,103,60,52,56,2,91,53,96,48,81,94,88,56,83,73,103,31,48,89,83,86,97,58,101,53,94,76,74,73,61,103,63,95,47,64,50,87,77,105,80,101,52,79,13,101,88,48,73,69,91,102,77,101,36,83,83,66,76,98,75,100,72,86,74,78,94,62,17,98,50,103,69,107,101,50,68,68,52,84,102,53,85,101,106,72,84,59,72,73,58,88,89,86,94,49,103,105,101,98,81,75,69,104,87,72,75,85,93,56,49,70,51,57,87,98,80,102,104,62,72,86,53,58,83,94,101,59,43,54,57,96,64,71,74,49,53,96,51,64,95,92,58,62,107,62,18,77,86,87,24,63,57,72,67,68,107,28,62,76,81,22,50,83,104,83,8,93,93,50,99,76,65,64,56,65,74,74,75,60,98,103,48,68,97,85,47,63,54,46,74,98,97,66,64,79,39,103,90,48,76,87,103,87,58,89,40,54,80,18,100,95,67,78,56,54,52,106,99,66,61,73,94,56,83,69,76,85,48,75,107,63,94,98,40,64,80,58,89,87,93,27,5,95,87,100,99,23,102,106,41,55,58,51,40,79,40,76,66,54,75,79,58,65,81,40,76,69,55,60,94,82,61,90,90,64,50,54,13,89,102,47,63,90,75,46,57,31,53,79,50,89,104,66,77,100,76,86,82,107,96,72,82,103,54,77,9,97,89,91,92,103,81,47,77,89,83,72,56,105,59,69,66,103,78,47,88,102,71,51,67,33,107,77,84,91,61,56,103,58,103,50,66,69,51,86,96,74,58,66,55,102,104,31,37,77,81,93,93,103,72,76,52,81,49,42,102,51,53,98,51,69,40,59,61,66,107,94,77,53,76,83,67,88,80,81,72,96,60,67,83,101,64,91,78,105,78,40,92,99,89,98,40,76,31,95,71,69,106,84,74,74,46,52,77,78,98,49,77,71,98,83,83,74,23,71,106,61,101,95,63,59,61,99,73,103,67,86,72,59,66,64,64,81,89,47,53,105,106,100,81,85,45,56,92,81,76,50,4,20,95,35,98,92,60,3,82,55,15,56,56,80,30,60,64,93,47,46,88,93,93,87,49,56,107,72,58,103,94,11,102,80,48,106,86,78,96,98,99,75,2,102,70,60,75,72,107,60,101,97,107,62,73,96,91,102,64,50,52,100,83,67,61,53,47,97,31,65,75,82,97,37,58,71,105,63,83,61,9,52,77,54,79,47,12,64,96,49,81,63,107,106,18,71,69,52,91,64,57,96,56,94,22,94,78,72,25,69,90,59,55,105,95,14,82,68,100,78,105,66,93,71,80,21,102,98,75,81,13,58,100,96,58,73,98,96,89,79,77,107,65,60,54,61,72,89,106,52,80,73,52,74,53,72,68,55,70,80,54,8,98,91,4,101,99,74,80,70,69,9,72,100,103,39,87,67,50,53,66,92,66,26,23,68,83,63,99,100,106,102,27,48,63,68,77,100,78,41,91,53,56,54,106,101,81,92,102,70,30,93,59,52,63,18,34,59,107,102,49,56,60,94,55,94,91,41,84,52,6,65,71,66,8,79,62,71,97,61,61,75,83,44,70,27,62,69,73,63,88,51,107,68,78,89,96,100,54,76,95,98,77,87,97,56,61,67,98,50,89,60,57,107,94,85,58,102,16,57,74,65,82,92,102,67,71,66,45,103,85,98,65,55,53,63,95,106,53,89,106,98,44,82,81,65,107,96,86,75,106,56,47,58,79,101,97,92,95,100,68,58,83,48,82,49,54,46,91,51,8,91,49,36,42,65,87,23,68,84,76,71,49,70,6,96,42,91,64,99,104,65,51,80,58,96,90,82,97,87,61,101,77,51,96,57,93,75,57,67,24,69,65,67,72,55,76,59,99,82,78,96,15,97,65,37,69,12,54,58,66,95,67,64,81,78,95,88,27,50,86,92,63,77,80,80,53,78,76,80,59,28,60,59,76,44,70,77,93,63,102,79,75,60,68,97,82,56,63,83,68,99,100,52,105,96,69,52,99,90,50,99,79,51,75,83,55,41,88,89,63,80,84,64,55,94,74,51,104,52,88,78,60,97,92,64,42,54,98,104,96,103,78,65,102,81,74,102,91,38,58,94,86,58,49,68,74,87,60,52,82,53,86,69,96,69,84,23,70,48,81,84,24,49,86,99,89,83,51,59,102,104,62,60,98,92,78,76,100,58,49,95,54,95,75,100,76,89,63,94,96,103,77,41,106,66,104,37,74,63,56,90,67,48,72,59,95,94,60,91,49,103,32,104,93,99,66,57,13,70,69,82,90,64,56,83,107,65,102,51,85,74,67,64,106,82,80,6,56,4,98,53,64,98,70,97,62,43,65,64,72,102,83,68,22,57,92,83,48,57,76,72,98,47,48,54,62,48,100,57,24,103,90,64,82,88,38,82,35,84,64,100,60,59,73,88,65,72,63,44,98,100,104,106,69,93,49,72,51,103,101,78,74,103,63,66,53,66,46,104,82,76,92,46,82,50,48,13,77,94,16,78,99,85,65,75,51,77,85,94,70,87,65,89,86,70,81,68,62,107,105,106,93,67,71,50,64,67,99,68,18,73,43,95,83,72,37,74,101,78,76,80,97,104,55,58,99,82,61,102,83,48,33,49,84,42,84,71,56,51,59,57,101,53,95,97,92,52,81,21,55,62,93,83,60,56,94,92,32,55,33,94,80,100,107,64,59,67,93,80,91,49,73,80,9,107,95,92,60,53,60,79,49,45,68,96,32,104,86,11,104,70,56,35,52,49,52,85,76,79,40,83,49,51,48,98,94,77,99,67,77,69,50,16,59,67,102,104,85,82,105,65,48,38,101,59,105,84,97,75,99,48,81,51,81,89,69,88,57,63,52,97,51,54,53,61,66,49,82,78,79,27,89,53,63,59,78,61,91,59,48,80,66,68,77,88,49,83,106,61,103,70,81,51,84,90,105,98,44,73,88,61,89,107,70,101,57,66,104,79,94,100,69,51,98,82,98,100,56,70,90,84,81,75,59,48,89,102,45,39,92,51,105,68,103,70,89,60,57,84,95,82,67,63,17,57,30,71,65,98,44,60,60,34,101,84,94,41,57,97,105,80,93,39,106,100,84,86,52,56,91,52,20,70,71,44,69,87,77,92,91,79,50,86,98,43,55,86,87,104,55,88,98,56,38,73,40,49,90,93,50,59,103,68,98,87,92,59,22,71,102,95,53,45,79,94,105,80,67,13,66,75,78,44,65,96,64,88,53,74,75,99,61,78,53,41,96,105,97,84,6,82,38,98,75,91,77,20,95,93,76,30,48,37,54,24,54,65,63,97,63,75,100,78,78,48,81,69,22,106,27,61,62,98,63,101,67,68,61,77,98,48,74,69,94,95,67,102,74,102,65,69,101,80,83,60,40,105,78,75,99,88,50,88,92,70,74,78,35,57,79,95,72,50,107,59,57,64,74,96,63,83,54,80,74,66,89,86,96,66,83,107,23,75,76,67,55,59,78,53,41,55,50,60,47,54,101,18,85,55,87,50,64,75,69,61,89,65,107,50,64,31,36,100,81,48,54,55,66,67,63,49,85,41,60,72,53,73,85,90,70,10,94,68,65,92,21,63,86,53,29,97,94,55,96,68,94,54,75,76,52,94,49,85,62,50,97,51,50,40,99,59,95,83,80,82,56,30,79,88,45,92,86,73,52,55,69,88,88,97,98,85,58,100,70,86,95,106,70,72,81,92,84,68,64,101,69,89,104,77,93,78,27,52,35,82,48,44,98,95,52,91,103,61,100,86,101,95,85,83,77,102,93,62,95,68,54,55,48,51,98,101,68,78,68,75,63,67,63,61,54,84,78,107,75,49,91,45,70,51,50,98,38,106,95,85,93,66,106,93,74,100,58,84,107,87,79,82,105,82,68,69,63,65,85,56,59,72,80,72,53,99,56,57,27,99,95,69,104,100,49,103,65,33,88,62,59,81,97,103,88,88,96,52,100,56,41,88,77,88,89,102,78,83,55,100,45,41,96,86,68,73,50,89,71,92,89,88,88,85,88,80,51,50,101,99,89,70,62,76,98,105,103,12,75,62,60,96,99,79,83,54,56,83,90,107,100,62,51,72,57,93,75,56,73,70,100,61,64,105,67,89,93,100,78,93,67,72,67,53,103,100,55,86,63,65,65,58,50,67,104,55,102,69,14,61,52,83,69,80,60,73,63,63,49,69,74,52,75,90,6,88,83,58,100,56,59,71,97,57,98,50,79,46,87,79,34,48,96,89,81,76,70,82,101,90,39,69,51,20,63,80,81,55,78,97,105,55,56,50,65,4,50,87,81,83,72,65,88,36,59,63,105,54,56,62,59,93,47,48,79,88,60,51,107,50,80,77,102,66,97,106,84,79,81,54,54,64,91,98,88,73,93,86,71,74,54,68,76,73,98,64,81,58,84,61,105,85,48,26,56,100,56,63,97,82,48,105,98,72,63,89,66,96,104,64,86,48,66,94,65,57,80,96,94,61,103,78,48,93,84,72,60,53,91,78,41,76,31,33,56,95,63,97,63,49,93,77,97,72,45,86,74,57,59,61,79,76,72,52,74,56,95,89,78,59,63,66,43,69,70,101,87,102,23,69,28,78,105,46,51,14,56,33,49,8,82,73,69,84,83,91,101,49,67,48,66,64,75,67,97,66,64,82,77,78,96,78,107,83,55,66,60,93,75,87,66,106,46,83,89,84,48,71,50,107,56,84,68,76,62,53,50,12,51,58,75,86,80,5,75,81,58,82,85,66,84,101,55,47,104,68,102,57,88,83,38,67,89,92,60,53,84,87,64,63,84,91,100,77,102,107,107,89,51,27,87,56,52,77,69,80,63,69,49,35,57,105,88,94,48,62,77,102,84,75,97,87,59,105,63,107,66,69,61,94,78,70,60,82,78,81,104,80,86,4,57,88,66,91,88,41,70,105,79,94,80,66,49,80,95,99,93,80,52,105,52,59,52,77,99,65,49,107,67,28,69,69,103,80,60,87,59,55,82,66,72,95,97,92,59,69,81,69,90,97,93,58,48,66,63,77,72,52,86,46,68,71,59,72,50,60,56,101,66,58,88,48,107,77,66,58,69,104,97,84,91,63,54,95,55,58,102,68,65,80,107,64,74,27,57,20,51,76,72,60,53,77,97,85,99,49,69,69,69,59,56,41,81,89,59,68,74,70,81,51,79,62,75,95,56,77,62,106,70,21,90,52,82,60,65,63,102,55,80,76,83,62,59,85,89,52,54,93,50,56,100,85,63,24,61,64,76,66,75,52,27,100,102,86,68,52,19,70,49,69,69,72,100],\"xaxis\":\"x\",\"y\":[0,1,2,3,4,5,6,7,10,11,12,13,15,16,17,18,19,20,21,22,23,27,28,29,30,31,32,33,35,36,37,38,39,41,42,43,44,45,46,47,49,50,51,54,55,56,58,59,60,61,62,64,65,67,68,69,72,73,75,76,77,78,79,81,82,83,84,88,89,90,91,92,94,95,96,97,98,99,101,102,103,104,105,106,107,108,109,110,111,113,114,115,118,119,120,121,123,124,125,126,127,128,129,130,131,132,133,134,135,136,137,140,141,143,144,145,146,148,149,150,151,152,153,154,156,157,158,160,161,162,163,164,165,166,168,169,170,171,172,173,174,175,177,179,180,181,182,185,186,187,189,190,191,192,193,195,196,197,198,199,200,201,202,204,205,206,207,208,209,213,216,217,218,221,222,223,224,225,228,229,230,231,232,233,234,235,237,239,240,241,242,244,245,246,247,248,249,250,251,252,253,255,256,257,258,259,260,261,262,263,264,265,266,267,268,271,272,274,275,278,279,280,281,283,284,285,286,291,292,293,295,296,297,298,299,300,301,302,304,306,307,308,309,310,311,312,314,315,317,319,320,321,323,324,325,326,327,328,330,331,332,333,334,335,336,338,339,340,342,343,344,346,347,349,350,351,352,353,354,355,356,357,358,359,360,361,363,364,365,366,368,369,372,373,377,378,380,381,382,383,384,385,386,387,388,389,392,395,396,397,398,399,400,402,403,404,405,406,407,408,409,410,411,412,413,414,415,416,417,419,420,421,422,423,424,425,428,429,430,432,433,434,436,437,438,439,440,442,443,444,445,446,448,449,450,451,452,453,454,456,458,459,460,461,462,463,464,465,466,467,468,469,470,471,472,473,474,475,477,478,479,481,484,485,486,487,488,489,491,492,493,494,495,496,497,499,500,501,502,503,504,505,506,507,508,509,510,511,512,513,514,515,517,518,519,520,524,527,529,531,532,533,534,536,537,538,539,541,542,543,545,546,547,549,551,552,553,554,555,556,557,558,559,560,561,562,563,565,566,567,570,571,573,575,576,577,578,579,581,582,583,584,586,587,589,590,591,592,594,596,597,598,599,600,601,603,604,605,606,608,609,610,611,612,613,614,615,616,617,618,619,620,621,622,624,625,626,627,628,629,631,632,634,635,636,637,638,639,640,641,642,645,646,647,648,649,650,651,652,653,654,655,657,660,661,663,664,665,666,667,668,669,670,671,672,673,674,675,676,677,678,679,680,682,683,685,686,687,688,689,690,692,693,694,695,698,699,700,702,703,706,707,709,710,711,712,714,715,716,717,718,719,720,722,723,724,725,726,727,728,730,731,732,733,734,735,736,737,738,739,741,742,743,744,745,746,747,748,749,750,751,752,753,754,755,756,757,758,759,760,761,762,763,764,765,766,767,768,770,771,772,773,774,775,777,778,779,780,781,782,783,784,785,787,788,789,791,792,793,794,795,796,797,798,799,802,803,804,805,806,807,808,809,810,811,812,813,817,818,819,820,821,822,823,824,825,826,827,829,830,831,833,834,835,836,837,839,841,843,844,846,847,848,849,850,851,852,853,854,855,856,857,858,859,860,861,862,864,866,868,869,870,871,872,873,875,876,878,879,880,881,882,883,884,885,886,887,888,891,895,898,899,900,901,902,903,904,905,908,910,912,913,914,915,916,917,918,919,920,923,924,925,926,927,928,929,930,931,932,933,934,935,936,939,942,943,945,946,948,950,951,952,953,954,955,956,957,958,960,961,963,965,966,967,968,969,970,972,974,975,976,977,978,983,984,986,988,990,991,992,993,995,996,997,998,999,1000,1001,1002,1003,1005,1006,1008,1009,1010,1011,1012,1014,1015,1016,1018,1019,1020,1021,1022,1023,1024,1025,1026,1028,1029,1030,1031,1032,1034,1035,1036,1037,1038,1041,1042,1044,1045,1046,1047,1048,1049,1050,1051,1052,1053,1054,1055,1056,1057,1058,1059,1062,1063,1064,1065,1066,1068,1071,1072,1073,1074,1075,1077,1078,1079,1083,1084,1085,1086,1087,1088,1090,1091,1093,1094,1097,1098,1099,1101,1102,1103,1104,1105,1108,1110,1111,1112,1113,1114,1115,1117,1118,1121,1123,1124,1125,1126,1127,1129,1130,1131,1132,1133,1134,1135,1137,1138,1139,1140,1141,1143,1144,1145,1146,1147,1148,1149,1150,1152,1153,1154,1155,1156,1157,1158,1160,1162,1163,1164,1165,1166,1167,1168,1169,1170,1171,1172,1173,1174,1175,1176,1177,1178,1180,1181,1182,1183,1184,1185,1186,1187,1188,1189,1190,1191,1192,1194,1195,1197,1198,1200,1201,1202,1203,1204,1205,1206,1207,1208,1209,1210,1213,1214,1215,1216,1217,1218,1219,1220,1221,1222,1223,1224,1226,1227,1228,1229,1230,1231,1232,1233,1234,1235,1236,1237,1238,1239,1240,1241,1242,1243,1244,1245,1248,1249,1250,1251,1252,1253,1254,1255,1256,1258,1259,1260,1262,1263,1264,1266,1268,1269,1270,1271,1273,1274,1275,1276,1277,1279,1280,1281,1283,1284,1285,1287,1288,1290,1291,1292,1293,1294,1295,1296,1297,1298,1299,1300,1301,1302,1303,1304,1305,1306,1308,1309,1310,1311,1312,1313,1314,1315,1317,1318,1319,1322,1323,1324,1325,1326,1327,1328,1331,1332,1333,1335,1336,1337,1338,1339,1341,1342,1343,1344,1345,1347,1348,1349,1350,1351,1352,1353,1354,1356,1357,1358,1359,1360,1361,1362,1363,1364,1365,1366,1367,1368,1370,1371,1372,1373,1374,1376,1379,1380,1381,1383,1385,1386,1389,1390,1392,1393,1394,1395,1397,1398,1399,1401,1402,1403,1404,1405,1407,1408,1409,1410,1412,1413,1414,1415,1416,1418,1419,1421,1422,1423,1424,1426,1427,1428,1429,1431,1432,1434,1435,1436,1437,1438,1439,1440,1444,1445,1446,1447,1448,1449,1450,1451,1453,1454,1455,1456,1457,1458,1461,1463,1464,1465,1466,1467,1468,1469,1470,1472,1474,1475,1476,1477,1478,1480,1481,1482,1483,1484,1485,1486,1487,1488,1489,1490,1491,1492,1493,1494,1495,1496,1497,1498,1499,1500,1501,1502,1503,1504,1505,1506,1507,1508,1510,1513,1514,1515,1517,1518,1519,1521,1524,1525,1526,1527,1528,1529,1530,1532,1535,1537,1538,1542,1543,1544,1545,1546,1547,1548,1549,1550,1551,1552,1553,1554,1555,1556,1557,1558,1559,1561,1563,1564,1565,1568,1569,1570,1571,1572,1573,1574,1575,1576,1577,1578,1579,1581,1582,1583,1584,1585,1586,1587,1588,1589,1590,1592,1593,1595,1596,1597,1598,1599,1600,1601,1602,1603,1605,1606,1607,1608,1609,1610,1611,1612,1613,1615,1616,1617,1619,1620,1621,1622,1625,1626,1627,1629,1630,1631,1632,1633,1634,1635,1636,1637,1638,1639,1640,1641,1642,1643,1644,1645,1646,1647,1648,1649,1650,1651,1652,1653,1654,1655,1656,1657,1658,1659,1660,1661,1662,1663,1664,1665,1666,1669,1670,1671,1672,1673,1674,1675,1676,1677,1678,1679,1680,1681,1684,1686,1687,1688,1689,1691,1692,1693,1694,1695,1696,1697,1698,1699,1702,1703,1704,1705,1706,1707,1708,1709,1710,1713,1714,1715,1717,1718,1719,1720,1721,1722,1723,1724,1725,1726,1727,1728,1729,1730,1732,1733,1734,1735,1736,1737,1738,1740,1742,1743,1744,1745,1747,1748,1749,1750,1751,1752,1753,1755,1756,1757,1758,1759,1760,1761,1762,1763,1764,1765,1766,1767,1768,1769,1770,1771,1772,1773,1774,1775,1776,1777,1778,1779,1780,1781,1782,1783,1784,1786,1787,1788,1791,1792,1793,1794,1795,1796,1797,1798,1800,1802,1803,1804,1805,1806,1809,1810,1811,1813,1814,1815,1816,1817,1818,1819,1820,1821,1822,1823,1824,1825,1826,1827,1828,1829,1830,1831,1832,1834,1836,1837,1838,1839,1840,1841,1842,1843,1844,1845,1846,1848,1849,1850,1851,1853,1854,1855,1856,1857,1858,1859,1860,1862,1863,1864,1865,1866,1867,1868,1869,1871,1873,1874,1875,1876,1877,1878,1880,1882,1884,1885,1886,1888,1889,1890,1891,1892,1893,1894,1895,1896,1897,1898,1899,1900,1901,1902,1903,1904,1905,1906,1909,1910,1911,1912,1913,1914,1917,1918,1919,1920,1922,1923,1924,1925,1926,1927,1929,1930,1931,1932,1933,1934,1936,1937,1938,1939,1940,1941,1942,1943,1944,1945,1946,1947,1948,1949,1950,1951,1952,1953,1954,1956,1957,1958,1959,1960,1961,1962,1964,1965,1966,1967,1968,1969,1970,1971,1973,1974,1976,1977,1978,1980,1981,1982,1983,1984,1985,1986,1987,1988,1989,1990,1991,1993,1995,1996,1997,1998,1999,2000,2001,2002,2003,2004,2005,2006,2008,2009,2010,2011,2012,2013,2015,2016,2017,2018,2019,2020,2021,2022,2023,2026,2027,2029,2030,2033,2034,2035,2040,2041,2042,2043,2044,2046,2047,2048,2049,2050,2051,2052,2053,2054,2057,2059,2060,2061,2062,2063,2064,2065,2066,2069,2070,2071,2072,2073,2074,2075,2076,2077,2078,2079,2080,2081,2082,2083,2084,2086,2087,2088,2089,2090,2091,2092,2093,2095,2096,2097,2098,2099,2100,2101,2102,2103,2104,2105,2106,2108,2109,2110,2111,2112,2113,2114,2115,2116,2117,2119,2120,2121,2122,2123,2124,2125,2126,2127,2129,2130,2131,2132,2135,2138,2139,2140,2141,2143,2144,2145,2146,2150,2152,2153,2154,2155,2156,2158,2160,2161,2162,2163,2164,2166,2167,2168,2169,2170,2171,2173,2174,2175,2177,2178,2179,2180,2184,2185,2186,2187,2188,2189,2190,2191,2192,2193,2194,2195,2196,2197,2199,2200,2201,2202,2203,2204,2205,2206,2207,2209,2210,2211,2212,2214,2215,2217,2219,2220,2221,2222,2224,2225,2227,2229,2231,2232,2233,2234,2235,2236,2237,2239,2245,2246,2247,2250,2251,2252,2253,2254,2255,2256,2257,2258,2259,2260,2261,2262,2263,2264,2266,2267,2268,2269,2270,2271,2272,2274,2277,2280,2282,2284,2286,2288,2289,2290,2291,2292,2294,2295,2296,2297,2298,2299,2301,2302,2303,2305,2306,2307,2308,2309,2310,2311,2312,2313,2314,2315,2316,2317,2319,2320,2321,2324,2326,2327,2328,2329,2330,2331,2332,2333,2335,2336,2337,2338,2341,2342,2343,2345,2346,2347,2348,2349,2351,2352,2353,2354,2356,2357,2360,2361,2363,2364,2365,2368,2369,2370,2371,2372,2373,2374,2377,2379,2381,2382,2383,2384,2385,2386,2387,2388,2389,2390,2391,2392,2393,2394,2395,2396,2397,2398,2399,2400,2401,2402,2403,2404,2405,2406,2407,2408,2409,2410,2411,2413,2414,2415,2416,2417,2418,2419,2420,2421,2422,2424,2426,2427,2428,2429,2430,2431,2432,2433,2434,2435,2436,2437,2438,2439,2440,2441,2443,2444,2445,2446,2447,2449,2450,2451,2452,2453,2454,2455,2456,2457,2458,2459,2461,2463,2464,2466,2467,2468,2469,2470,2471,2472,2473,2475,2476,2479,2481,2482,2483,2485,2486,2487,2488,2490,2491,2492,2494,2496,2497,2498,2499,2500,2501,2503,2504,2505,2508,2509,2510,2511,2512,2513,2514,2515,2516,2517,2518,2519,2520,2521,2522,2523,2524,2526,2527,2529,2530,2531,2535,2536,2537,2538,2539,2540,2541,2542,2543,2544,2545,2547,2548,2549,2550,2551,2552,2553,2554,2555,2556,2557,2559,2560,2561,2562,2564,2565,2566,2567,2569,2570,2571,2572,2573,2574,2575,2576,2577,2578,2579,2580,2581,2582,2583,2584,2585,2586,2587,2588,2589,2591,2592,2593,2595,2596,2597,2598,2599,2601,2604,2605,2606,2608,2611,2613,2615,2616,2617,2618,2619,2620,2621,2622,2624,2625,2627,2628,2629,2630,2631,2632,2633,2634,2635,2636,2637,2639,2640,2641,2642,2643,2645,2646,2647,2648,2649,2650,2651,2652,2653,2654,2655,2656,2657,2658,2659,2660,2662,2663,2664,2665,2666,2667,2668,2671,2673,2674,2675,2676,2677,2678,2679,2680,2681,2682,2683,2685,2687,2688,2689,2690,2691,2692,2693,2695,2696,2698,2699,2701,2702,2703,2704,2705,2706,2707,2708,2709,2710,2711,2713,2714,2716,2718,2719,2720,2721,2722,2723,2724,2726,2727,2728,2729,2730,2731,2732,2733,2734,2735,2736,2738,2740,2741,2742,2743,2745,2746,2747,2749,2750,2751,2752,2754,2756,2757,2758,2762,2764,2765,2768,2769,2770,2771,2772,2773,2774,2775,2776,2777,2778,2779,2780,2781,2782,2783,2784,2785,2786,2787,2788,2790,2791,2792,2794,2795,2796,2797,2798,2799,2800,2801,2802,2803,2804,2805,2808,2809,2810,2811,2812,2813,2814,2815,2816,2817,2818,2819,2820,2821,2822,2823,2825,2826,2827,2828,2831,2832,2833,2834,2835,2836,2837,2838,2839,2840,2841,2842,2845,2846,2847,2848,2849,2850,2851,2852,2855,2856,2857,2858,2861,2862,2863,2864,2865,2866,2867,2868,2869,2870,2871,2873,2874,2875,2876,2877,2879,2880,2881,2883,2884,2885,2886,2888,2889,2890,2891,2892,2893,2894,2895,2896,2897,2898,2899,2901,2904,2905,2907,2908,2911,2912,2913,2914,2915,2916,2917,2918,2919,2920,2921,2922,2923,2924,2925,2926,2927,2929,2930,2931,2933,2935,2936,2937,2938,2940,2941,2942,2943,2944,2945,2946,2947,2948,2949,2950,2951,2952,2954,2955,2956,2958,2959,2960,2961,2962,2963,2964,2965,2967,2968,2969,2970,2971,2972,2973,2974,2976,2977,2978,2979,2980,2981,2982,2983,2985,2986,2987,2989,2990,2991,2992,2993,2994,2998,3000,3001,3002,3004,3005,3006,3008,3009,3010,3012,3013,3015,3016,3018,3020,3021,3022,3023,3024,3025,3026,3027,3028,3029,3031,3034,3035,3036,3037,3038,3039,3040,3041,3042,3044,3045,3046,3047,3048,3049,3050,3051,3052,3053,3054,3055,3056,3058,3059,3060,3061,3062,3063,3065,3066,3067,3069,3070,3071,3072,3074,3075,3076,3078,3079,3080,3084,3085,3086,3087,3088,3090,3091,3092,3093,3094,3095,3096,3099,3100,3101,3102,3103,3104,3105,3106,3107,3109,3111,3112,3113,3114,3115,3116,3117,3118,3120,3121,3122,3123,3124,3125,3126,3127,3128,3129,3130,3131,3133,3134,3136,3137,3138,3139,3140,3141,3142,3143,3144,3145,3146,3147,3148,3150,3151,3152,3153,3154,3155,3157,3159,3160,3161,3163,3164,3165,3166,3167,3168,3169,3170,3171,3173,3174,3175,3176,3178,3179,3180,3181,3182,3183,3184,3185,3186,3187,3188,3189,3191,3192,3193,3194,3195,3196,3197,3198,3200,3201,3202,3203,3205,3207,3208,3209,3210,3211,3212,3213,3214,3215,3216,3217,3219,3222,3223,3224,3226,3227,3228,3229,3232,3233,3234,3235,3236,3237,3238,3239,3240,3241,3242,3243,3246,3247,3248,3249,3250,3251,3252,3254,3255,3256,3258,3259,3260,3261,3262,3263,3264,3266,3268,3269,3270,3271,3272,3273,3274,3275,3276,3277,3278,3279,3280,3281,3282,3283,3285,3289,3290,3291,3292,3293,3294,3295,3296,3297,3298,3299,3300,3301,3302,3303,3304,3305,3306,3307,3308,3310,3311,3312,3313,3314,3315,3316,3317,3318,3319,3320,3321,3322,3323,3325,3328,3329,3331,3334,3336,3337,3338,3339,3340,3341,3342,3343,3344,3345,3347,3348,3349,3350,3351,3352,3353,3354,3355,3356,3357,3358,3359,3360,3361,3362,3363,3364,3367,3368,3369,3370,3371,3372,3373,3376,3377,3378,3379,3380,3381,3382,3383,3384,3385,3386,3388,3389,3390,3391,3395,3396,3397,3398,3400,3402,3404,3405,3406,3407,3408,3409,3410,3411,3412,3413,3414,3415,3416,3417,3418,3419,3420,3421,3422,3423,3424,3425,3426,3427,3428,3429,3430,3432,3433,3434,3435,3436,3437,3439,3440,3441,3442,3443,3444,3445,3447,3448,3449,3450,3451,3452,3453,3455,3456,3457,3459,3461,3462,3463,3464,3465,3466,3467,3468,3469,3470,3471,3472,3473,3474,3475,3477,3478,3479,3480,3482,3483,3484,3485,3486,3487,3488,3489,3490,3491,3492,3494,3495,3496,3498,3499,3501,3502,3504,3505,3506,3507,3508,3510,3511,3512,3513,3514,3516,3517,3518,3519,3521,3522,3523,3524,3525,3526,3527,3528,3529,3530,3531,3532,3533,3534,3535,3537,3540,3541,3542,3543,3544,3545,3546,3547,3548,3549,3550,3551,3552,3553,3555,3556,3557,3558,3559,3560,3561,3563,3564,3565,3567,3570,3571,3572,3573,3576,3577,3579,3580,3581,3583,3584,3585,3586,3587,3588,3589,3590,3592,3593,3595,3596,3597,3598,3599,3600,3602,3603,3605,3606,3607,3609,3610,3611,3612,3613,3614,3615,3617,3618,3619,3621,3622,3623,3624,3625,3626,3628,3629,3631,3632,3633,3634,3635,3636,3638,3639,3640,3641,3642,3643,3644,3645,3647,3648,3649,3650,3651,3652,3653,3654,3655,3656,3657,3658,3659,3660,3661,3662,3664,3665,3666,3667,3668,3669,3670,3671,3672,3673,3674,3675,3676,3678,3679,3680,3681,3682,3683,3684,3685,3687,3688,3689,3690,3691,3692,3693,3694,3695,3696,3697,3698,3700,3701,3702,3703,3705,3706,3709,3710,3711,3712,3713,3714,3715,3716,3717,3718,3719,3720,3723,3724,3725,3727,3728,3729,3730,3731,3732,3733,3735,3736,3737,3738,3739,3740,3742,3743,3744,3746,3748,3749,3750,3751,3752,3753,3755,3757,3758,3759,3761,3762,3764,3766,3767,3768,3769,3770,3772,3773,3774,3776,3777,3778,3779,3780,3781,3782,3783,3784,3785,3786,3788,3789,3790,3791,3793,3794,3795,3796,3797,3798,3799,3800,3801,3802,3803,3804,3805,3806,3807,3808,3809,3810,3811,3813,3814,3815,3816,3817,3818,3819,3820,3821,3823,3824,3825,3826,3828,3830,3831,3832,3833,3835,3837,3841,3842,3843,3844,3845,3846,3847,3848,3849,3850,3851,3853,3854,3855,3856,3857,3858,3859,3860,3861,3862,3863,3864,3865,3866,3867,3869,3870,3872,3873,3874,3875,3876,3877,3878,3879,3881,3883,3884,3885,3886,3889,3890,3891,3892,3895,3897,3899,3900,3901,3903,3904,3905,3906,3907,3908,3911,3912,3913,3914,3917,3918,3919,3920,3921,3922,3924,3926,3927,3928,3929,3931,3932,3934,3935,3936,3937,3938,3939,3940,3941,3943,3944,3945,3946,3947,3948,3951,3952,3953,3954,3955,3956,3958,3959,3961,3962,3963,3964,3966,3968,3969,3970,3971,3972,3973,3975,3976,3977,3978,3979,3980,3981,3983,3984,3986,3987,3988,3989,3993,3994,3997,3998,3999,4000,4001,4002,4003,4005,4006,4007,4008,4010,4011,4013,4014,4015,4016,4017,4018,4019,4020,4021,4022,4023],\"yaxis\":\"y\",\"type\":\"scattergl\"}],                        {\"template\":{\"data\":{\"histogram2dcontour\":[{\"type\":\"histogram2dcontour\",\"colorbar\":{\"outlinewidth\":0,\"ticks\":\"\"},\"colorscale\":[[0.0,\"#0d0887\"],[0.1111111111111111,\"#46039f\"],[0.2222222222222222,\"#7201a8\"],[0.3333333333333333,\"#9c179e\"],[0.4444444444444444,\"#bd3786\"],[0.5555555555555556,\"#d8576b\"],[0.6666666666666666,\"#ed7953\"],[0.7777777777777778,\"#fb9f3a\"],[0.8888888888888888,\"#fdca26\"],[1.0,\"#f0f921\"]]}],\"choropleth\":[{\"type\":\"choropleth\",\"colorbar\":{\"outlinewidth\":0,\"ticks\":\"\"}}],\"histogram2d\":[{\"type\":\"histogram2d\",\"colorbar\":{\"outlinewidth\":0,\"ticks\":\"\"},\"colorscale\":[[0.0,\"#0d0887\"],[0.1111111111111111,\"#46039f\"],[0.2222222222222222,\"#7201a8\"],[0.3333333333333333,\"#9c179e\"],[0.4444444444444444,\"#bd3786\"],[0.5555555555555556,\"#d8576b\"],[0.6666666666666666,\"#ed7953\"],[0.7777777777777778,\"#fb9f3a\"],[0.8888888888888888,\"#fdca26\"],[1.0,\"#f0f921\"]]}],\"heatmap\":[{\"type\":\"heatmap\",\"colorbar\":{\"outlinewidth\":0,\"ticks\":\"\"},\"colorscale\":[[0.0,\"#0d0887\"],[0.1111111111111111,\"#46039f\"],[0.2222222222222222,\"#7201a8\"],[0.3333333333333333,\"#9c179e\"],[0.4444444444444444,\"#bd3786\"],[0.5555555555555556,\"#d8576b\"],[0.6666666666666666,\"#ed7953\"],[0.7777777777777778,\"#fb9f3a\"],[0.8888888888888888,\"#fdca26\"],[1.0,\"#f0f921\"]]}],\"heatmapgl\":[{\"type\":\"heatmapgl\",\"colorbar\":{\"outlinewidth\":0,\"ticks\":\"\"},\"colorscale\":[[0.0,\"#0d0887\"],[0.1111111111111111,\"#46039f\"],[0.2222222222222222,\"#7201a8\"],[0.3333333333333333,\"#9c179e\"],[0.4444444444444444,\"#bd3786\"],[0.5555555555555556,\"#d8576b\"],[0.6666666666666666,\"#ed7953\"],[0.7777777777777778,\"#fb9f3a\"],[0.8888888888888888,\"#fdca26\"],[1.0,\"#f0f921\"]]}],\"contourcarpet\":[{\"type\":\"contourcarpet\",\"colorbar\":{\"outlinewidth\":0,\"ticks\":\"\"}}],\"contour\":[{\"type\":\"contour\",\"colorbar\":{\"outlinewidth\":0,\"ticks\":\"\"},\"colorscale\":[[0.0,\"#0d0887\"],[0.1111111111111111,\"#46039f\"],[0.2222222222222222,\"#7201a8\"],[0.3333333333333333,\"#9c179e\"],[0.4444444444444444,\"#bd3786\"],[0.5555555555555556,\"#d8576b\"],[0.6666666666666666,\"#ed7953\"],[0.7777777777777778,\"#fb9f3a\"],[0.8888888888888888,\"#fdca26\"],[1.0,\"#f0f921\"]]}],\"surface\":[{\"type\":\"surface\",\"colorbar\":{\"outlinewidth\":0,\"ticks\":\"\"},\"colorscale\":[[0.0,\"#0d0887\"],[0.1111111111111111,\"#46039f\"],[0.2222222222222222,\"#7201a8\"],[0.3333333333333333,\"#9c179e\"],[0.4444444444444444,\"#bd3786\"],[0.5555555555555556,\"#d8576b\"],[0.6666666666666666,\"#ed7953\"],[0.7777777777777778,\"#fb9f3a\"],[0.8888888888888888,\"#fdca26\"],[1.0,\"#f0f921\"]]}],\"mesh3d\":[{\"type\":\"mesh3d\",\"colorbar\":{\"outlinewidth\":0,\"ticks\":\"\"}}],\"scatter\":[{\"fillpattern\":{\"fillmode\":\"overlay\",\"size\":10,\"solidity\":0.2},\"type\":\"scatter\"}],\"parcoords\":[{\"type\":\"parcoords\",\"line\":{\"colorbar\":{\"outlinewidth\":0,\"ticks\":\"\"}}}],\"scatterpolargl\":[{\"type\":\"scatterpolargl\",\"marker\":{\"colorbar\":{\"outlinewidth\":0,\"ticks\":\"\"}}}],\"bar\":[{\"error_x\":{\"color\":\"#2a3f5f\"},\"error_y\":{\"color\":\"#2a3f5f\"},\"marker\":{\"line\":{\"color\":\"#E5ECF6\",\"width\":0.5},\"pattern\":{\"fillmode\":\"overlay\",\"size\":10,\"solidity\":0.2}},\"type\":\"bar\"}],\"scattergeo\":[{\"type\":\"scattergeo\",\"marker\":{\"colorbar\":{\"outlinewidth\":0,\"ticks\":\"\"}}}],\"scatterpolar\":[{\"type\":\"scatterpolar\",\"marker\":{\"colorbar\":{\"outlinewidth\":0,\"ticks\":\"\"}}}],\"histogram\":[{\"marker\":{\"pattern\":{\"fillmode\":\"overlay\",\"size\":10,\"solidity\":0.2}},\"type\":\"histogram\"}],\"scattergl\":[{\"type\":\"scattergl\",\"marker\":{\"colorbar\":{\"outlinewidth\":0,\"ticks\":\"\"}}}],\"scatter3d\":[{\"type\":\"scatter3d\",\"line\":{\"colorbar\":{\"outlinewidth\":0,\"ticks\":\"\"}},\"marker\":{\"colorbar\":{\"outlinewidth\":0,\"ticks\":\"\"}}}],\"scattermapbox\":[{\"type\":\"scattermapbox\",\"marker\":{\"colorbar\":{\"outlinewidth\":0,\"ticks\":\"\"}}}],\"scatterternary\":[{\"type\":\"scatterternary\",\"marker\":{\"colorbar\":{\"outlinewidth\":0,\"ticks\":\"\"}}}],\"scattercarpet\":[{\"type\":\"scattercarpet\",\"marker\":{\"colorbar\":{\"outlinewidth\":0,\"ticks\":\"\"}}}],\"carpet\":[{\"aaxis\":{\"endlinecolor\":\"#2a3f5f\",\"gridcolor\":\"white\",\"linecolor\":\"white\",\"minorgridcolor\":\"white\",\"startlinecolor\":\"#2a3f5f\"},\"baxis\":{\"endlinecolor\":\"#2a3f5f\",\"gridcolor\":\"white\",\"linecolor\":\"white\",\"minorgridcolor\":\"white\",\"startlinecolor\":\"#2a3f5f\"},\"type\":\"carpet\"}],\"table\":[{\"cells\":{\"fill\":{\"color\":\"#EBF0F8\"},\"line\":{\"color\":\"white\"}},\"header\":{\"fill\":{\"color\":\"#C8D4E3\"},\"line\":{\"color\":\"white\"}},\"type\":\"table\"}],\"barpolar\":[{\"marker\":{\"line\":{\"color\":\"#E5ECF6\",\"width\":0.5},\"pattern\":{\"fillmode\":\"overlay\",\"size\":10,\"solidity\":0.2}},\"type\":\"barpolar\"}],\"pie\":[{\"automargin\":true,\"type\":\"pie\"}]},\"layout\":{\"autotypenumbers\":\"strict\",\"colorway\":[\"#636efa\",\"#EF553B\",\"#00cc96\",\"#ab63fa\",\"#FFA15A\",\"#19d3f3\",\"#FF6692\",\"#B6E880\",\"#FF97FF\",\"#FECB52\"],\"font\":{\"color\":\"#2a3f5f\"},\"hovermode\":\"closest\",\"hoverlabel\":{\"align\":\"left\"},\"paper_bgcolor\":\"white\",\"plot_bgcolor\":\"#E5ECF6\",\"polar\":{\"bgcolor\":\"#E5ECF6\",\"angularaxis\":{\"gridcolor\":\"white\",\"linecolor\":\"white\",\"ticks\":\"\"},\"radialaxis\":{\"gridcolor\":\"white\",\"linecolor\":\"white\",\"ticks\":\"\"}},\"ternary\":{\"bgcolor\":\"#E5ECF6\",\"aaxis\":{\"gridcolor\":\"white\",\"linecolor\":\"white\",\"ticks\":\"\"},\"baxis\":{\"gridcolor\":\"white\",\"linecolor\":\"white\",\"ticks\":\"\"},\"caxis\":{\"gridcolor\":\"white\",\"linecolor\":\"white\",\"ticks\":\"\"}},\"coloraxis\":{\"colorbar\":{\"outlinewidth\":0,\"ticks\":\"\"}},\"colorscale\":{\"sequential\":[[0.0,\"#0d0887\"],[0.1111111111111111,\"#46039f\"],[0.2222222222222222,\"#7201a8\"],[0.3333333333333333,\"#9c179e\"],[0.4444444444444444,\"#bd3786\"],[0.5555555555555556,\"#d8576b\"],[0.6666666666666666,\"#ed7953\"],[0.7777777777777778,\"#fb9f3a\"],[0.8888888888888888,\"#fdca26\"],[1.0,\"#f0f921\"]],\"sequentialminus\":[[0.0,\"#0d0887\"],[0.1111111111111111,\"#46039f\"],[0.2222222222222222,\"#7201a8\"],[0.3333333333333333,\"#9c179e\"],[0.4444444444444444,\"#bd3786\"],[0.5555555555555556,\"#d8576b\"],[0.6666666666666666,\"#ed7953\"],[0.7777777777777778,\"#fb9f3a\"],[0.8888888888888888,\"#fdca26\"],[1.0,\"#f0f921\"]],\"diverging\":[[0,\"#8e0152\"],[0.1,\"#c51b7d\"],[0.2,\"#de77ae\"],[0.3,\"#f1b6da\"],[0.4,\"#fde0ef\"],[0.5,\"#f7f7f7\"],[0.6,\"#e6f5d0\"],[0.7,\"#b8e186\"],[0.8,\"#7fbc41\"],[0.9,\"#4d9221\"],[1,\"#276419\"]]},\"xaxis\":{\"gridcolor\":\"white\",\"linecolor\":\"white\",\"ticks\":\"\",\"title\":{\"standoff\":15},\"zerolinecolor\":\"white\",\"automargin\":true,\"zerolinewidth\":2},\"yaxis\":{\"gridcolor\":\"white\",\"linecolor\":\"white\",\"ticks\":\"\",\"title\":{\"standoff\":15},\"zerolinecolor\":\"white\",\"automargin\":true,\"zerolinewidth\":2},\"scene\":{\"xaxis\":{\"backgroundcolor\":\"#E5ECF6\",\"gridcolor\":\"white\",\"linecolor\":\"white\",\"showbackground\":true,\"ticks\":\"\",\"zerolinecolor\":\"white\",\"gridwidth\":2},\"yaxis\":{\"backgroundcolor\":\"#E5ECF6\",\"gridcolor\":\"white\",\"linecolor\":\"white\",\"showbackground\":true,\"ticks\":\"\",\"zerolinecolor\":\"white\",\"gridwidth\":2},\"zaxis\":{\"backgroundcolor\":\"#E5ECF6\",\"gridcolor\":\"white\",\"linecolor\":\"white\",\"showbackground\":true,\"ticks\":\"\",\"zerolinecolor\":\"white\",\"gridwidth\":2}},\"shapedefaults\":{\"line\":{\"color\":\"#2a3f5f\"}},\"annotationdefaults\":{\"arrowcolor\":\"#2a3f5f\",\"arrowhead\":0,\"arrowwidth\":1},\"geo\":{\"bgcolor\":\"white\",\"landcolor\":\"#E5ECF6\",\"subunitcolor\":\"white\",\"showland\":true,\"showlakes\":true,\"lakecolor\":\"white\"},\"title\":{\"x\":0.05},\"mapbox\":{\"style\":\"light\"}}},\"xaxis\":{\"anchor\":\"y\",\"domain\":[0.0,1.0],\"title\":{\"text\":\"Survival_Months\"}},\"yaxis\":{\"anchor\":\"x\",\"domain\":[0.0,1.0],\"title\":{\"text\":\"index\"}},\"legend\":{\"tracegroupgap\":0},\"margin\":{\"t\":60}},                        {\"responsive\": true}                    ).then(function(){\n",
              "                            \n",
              "var gd = document.getElementById('8703c761-d9b6-4a52-a3ef-3fcae6f5cac7');\n",
              "var x = new MutationObserver(function (mutations, observer) {{\n",
              "        var display = window.getComputedStyle(gd).display;\n",
              "        if (!display || display === 'none') {{\n",
              "            console.log([gd, 'removed!']);\n",
              "            Plotly.purge(gd);\n",
              "            observer.disconnect();\n",
              "        }}\n",
              "}});\n",
              "\n",
              "// Listen for the removal of the full notebook cells\n",
              "var notebookContainer = gd.closest('#notebook-container');\n",
              "if (notebookContainer) {{\n",
              "    x.observe(notebookContainer, {childList: true});\n",
              "}}\n",
              "\n",
              "// Listen for the clearing of the current output cell\n",
              "var outputEl = gd.closest('.output');\n",
              "if (outputEl) {{\n",
              "    x.observe(outputEl, {childList: true});\n",
              "}}\n",
              "\n",
              "                        })                };                            </script>        </div>\n",
              "</body>\n",
              "</html>"
            ]
          },
          "metadata": {}
        },
        {
          "output_type": "display_data",
          "data": {
            "text/html": [
              "<html>\n",
              "<head><meta charset=\"utf-8\" /></head>\n",
              "<body>\n",
              "    <div>            <script src=\"https://cdnjs.cloudflare.com/ajax/libs/mathjax/2.7.5/MathJax.js?config=TeX-AMS-MML_SVG\"></script><script type=\"text/javascript\">if (window.MathJax && window.MathJax.Hub && window.MathJax.Hub.Config) {window.MathJax.Hub.Config({SVG: {font: \"STIX-Web\"}});}</script>                <script type=\"text/javascript\">window.PlotlyConfig = {MathJaxConfig: 'local'};</script>\n",
              "        <script charset=\"utf-8\" src=\"https://cdn.plot.ly/plotly-2.35.2.min.js\"></script>                <div id=\"74443014-8cba-40eb-af67-a58eeb9fd217\" class=\"plotly-graph-div\" style=\"height:525px; width:100%;\"></div>            <script type=\"text/javascript\">                                    window.PLOTLYENV=window.PLOTLYENV || {};                                    if (document.getElementById(\"74443014-8cba-40eb-af67-a58eeb9fd217\")) {                    Plotly.newPlot(                        \"74443014-8cba-40eb-af67-a58eeb9fd217\",                        [{\"alignmentgroup\":\"True\",\"hovertemplate\":\"Survival_Months=%{x}\\u003cextra\\u003e\\u003c\\u002fextra\\u003e\",\"legendgroup\":\"\",\"marker\":{\"color\":\"#636efa\"},\"name\":\"\",\"notched\":false,\"offsetgroup\":\"\",\"orientation\":\"h\",\"showlegend\":false,\"x\":[60,62,75,84,50,89,54,14,64,92,56,38,49,105,62,107,77,81,50,78,102,82,64,86,52,49,90,62,77,37,103,82,105,61,86,84,63,90,39,59,82,71,71,74,73,91,73,77,80,49,78,60,106,85,79,84,52,98,95,79,106,81,55,65,72,55,65,95,95,91,57,87,91,50,25,73,63,50,73,8,53,65,58,24,64,106,61,66,79,69,103,52,91,57,94,79,86,49,14,100,50,79,77,50,73,96,87,41,54,84,67,86,102,42,52,107,92,69,82,101,64,55,98,56,51,102,71,11,53,82,89,56,54,72,51,100,62,73,84,87,96,74,77,64,93,74,23,86,81,71,79,60,89,66,84,50,55,98,53,103,77,63,45,68,53,91,105,76,94,56,31,85,62,50,107,76,87,101,53,93,90,59,58,68,94,72,103,77,49,99,107,87,103,96,40,78,92,106,54,85,69,93,76,58,79,63,7,104,74,67,98,100,58,61,45,57,42,55,68,99,88,87,60,92,65,23,50,61,50,95,65,81,81,92,53,91,49,61,48,75,57,81,56,73,53,68,88,79,74,53,104,57,90,73,94,98,74,89,100,16,107,70,68,81,67,97,60,86,59,87,75,102,101,80,104,61,41,100,105,57,59,54,76,82,53,102,100,107,73,91,107,85,102,49,85,86,53,54,101,98,104,54,91,107,76,66,57,93,87,102,58,51,82,56,51,66,100,92,104,91,81,75,85,78,45,3,64,99,55,82,96,51,106,22,83,86,45,99,84,87,92,49,56,98,97,106,100,90,74,66,6,75,63,68,55,73,60,100,90,95,103,99,102,103,88,58,61,101,101,9,68,87,93,61,95,80,13,52,56,97,66,54,48,81,69,84,89,97,100,67,52,70,95,87,53,83,60,63,106,107,95,58,94,52,97,86,91,49,69,100,9,86,76,61,69,5,92,54,87,80,49,56,75,87,53,61,102,101,69,80,98,59,53,107,94,60,100,91,66,44,60,50,90,88,75,74,56,19,25,93,87,69,95,81,104,52,67,87,18,55,50,66,107,85,64,96,98,52,76,64,54,89,90,61,52,69,93,62,103,71,100,62,96,74,66,75,89,102,72,97,103,88,60,57,81,91,75,51,93,84,5,62,79,93,88,55,104,85,78,35,94,75,27,98,68,36,53,79,83,89,64,89,102,101,54,36,50,87,85,68,73,59,67,66,58,57,75,104,50,62,93,4,73,94,73,70,72,81,37,66,95,69,95,73,79,47,79,89,74,59,49,105,59,100,93,57,95,65,58,72,64,54,93,76,79,44,95,66,29,16,19,104,71,60,67,88,40,47,39,105,53,61,50,99,104,85,71,102,58,70,99,61,38,34,103,67,65,97,85,81,59,58,57,97,87,74,85,69,82,80,105,53,18,97,54,80,82,99,87,88,90,49,47,77,77,48,54,66,83,81,80,91,76,85,61,56,85,97,101,77,75,99,54,103,89,89,101,95,94,94,48,58,101,96,90,102,101,50,62,96,97,76,20,53,69,69,69,102,5,99,87,75,89,53,96,56,102,57,106,107,64,7,107,58,45,91,107,54,107,83,78,28,96,79,57,76,54,67,85,85,73,70,73,98,49,62,47,98,77,103,107,77,85,65,68,51,100,69,25,80,87,62,84,85,17,53,92,102,104,85,94,55,99,65,3,55,60,46,80,75,70,19,95,97,68,90,96,44,81,24,61,74,71,65,43,46,69,81,30,92,68,84,63,90,67,44,49,77,24,71,75,89,84,97,84,96,81,58,50,80,61,77,87,105,77,67,82,95,15,67,74,10,95,73,58,92,60,81,17,52,96,70,65,98,14,35,74,88,89,104,96,83,74,87,57,103,102,50,92,90,4,50,67,13,80,95,66,62,88,98,22,51,90,67,72,99,83,93,73,95,88,103,91,106,88,75,85,70,85,64,67,96,61,68,73,35,88,106,78,67,98,56,56,73,57,95,101,99,97,94,50,86,100,62,97,64,59,97,87,60,76,69,56,93,49,52,62,92,79,58,67,63,45,99,62,82,5,76,41,98,51,21,55,48,103,60,52,56,2,91,53,96,48,81,94,88,56,83,73,103,31,48,89,83,86,97,58,101,53,94,76,74,73,61,103,63,95,47,64,50,87,77,105,80,101,52,79,13,101,88,48,73,69,91,102,77,101,36,83,83,66,76,98,75,100,72,86,74,78,94,62,17,98,50,103,69,107,101,50,68,68,52,84,102,53,85,101,106,72,84,59,72,73,58,88,89,86,94,49,103,105,101,98,81,75,69,104,87,72,75,85,93,56,49,70,51,57,87,98,80,102,104,62,72,86,53,58,83,94,101,59,43,54,57,96,64,71,74,49,53,96,51,64,95,92,58,62,107,62,18,77,86,87,24,63,57,72,67,68,107,28,62,76,81,22,50,83,104,83,8,93,93,50,99,76,65,64,56,65,74,74,75,60,98,103,48,68,97,85,47,63,54,46,74,98,97,66,64,79,39,103,90,48,76,87,103,87,58,89,40,54,80,18,100,95,67,78,56,54,52,106,99,66,61,73,94,56,83,69,76,85,48,75,107,63,94,98,40,64,80,58,89,87,93,27,5,95,87,100,99,23,102,106,41,55,58,51,40,79,40,76,66,54,75,79,58,65,81,40,76,69,55,60,94,82,61,90,90,64,50,54,13,89,102,47,63,90,75,46,57,31,53,79,50,89,104,66,77,100,76,86,82,107,96,72,82,103,54,77,9,97,89,91,92,103,81,47,77,89,83,72,56,105,59,69,66,103,78,47,88,102,71,51,67,33,107,77,84,91,61,56,103,58,103,50,66,69,51,86,96,74,58,66,55,102,104,31,37,77,81,93,93,103,72,76,52,81,49,42,102,51,53,98,51,69,40,59,61,66,107,94,77,53,76,83,67,88,80,81,72,96,60,67,83,101,64,91,78,105,78,40,92,99,89,98,40,76,31,95,71,69,106,84,74,74,46,52,77,78,98,49,77,71,98,83,83,74,23,71,106,61,101,95,63,59,61,99,73,103,67,86,72,59,66,64,64,81,89,47,53,105,106,100,81,85,45,56,92,81,76,50,4,20,95,35,98,92,60,3,82,55,15,56,56,80,30,60,64,93,47,46,88,93,93,87,49,56,107,72,58,103,94,11,102,80,48,106,86,78,96,98,99,75,2,102,70,60,75,72,107,60,101,97,107,62,73,96,91,102,64,50,52,100,83,67,61,53,47,97,31,65,75,82,97,37,58,71,105,63,83,61,9,52,77,54,79,47,12,64,96,49,81,63,107,106,18,71,69,52,91,64,57,96,56,94,22,94,78,72,25,69,90,59,55,105,95,14,82,68,100,78,105,66,93,71,80,21,102,98,75,81,13,58,100,96,58,73,98,96,89,79,77,107,65,60,54,61,72,89,106,52,80,73,52,74,53,72,68,55,70,80,54,8,98,91,4,101,99,74,80,70,69,9,72,100,103,39,87,67,50,53,66,92,66,26,23,68,83,63,99,100,106,102,27,48,63,68,77,100,78,41,91,53,56,54,106,101,81,92,102,70,30,93,59,52,63,18,34,59,107,102,49,56,60,94,55,94,91,41,84,52,6,65,71,66,8,79,62,71,97,61,61,75,83,44,70,27,62,69,73,63,88,51,107,68,78,89,96,100,54,76,95,98,77,87,97,56,61,67,98,50,89,60,57,107,94,85,58,102,16,57,74,65,82,92,102,67,71,66,45,103,85,98,65,55,53,63,95,106,53,89,106,98,44,82,81,65,107,96,86,75,106,56,47,58,79,101,97,92,95,100,68,58,83,48,82,49,54,46,91,51,8,91,49,36,42,65,87,23,68,84,76,71,49,70,6,96,42,91,64,99,104,65,51,80,58,96,90,82,97,87,61,101,77,51,96,57,93,75,57,67,24,69,65,67,72,55,76,59,99,82,78,96,15,97,65,37,69,12,54,58,66,95,67,64,81,78,95,88,27,50,86,92,63,77,80,80,53,78,76,80,59,28,60,59,76,44,70,77,93,63,102,79,75,60,68,97,82,56,63,83,68,99,100,52,105,96,69,52,99,90,50,99,79,51,75,83,55,41,88,89,63,80,84,64,55,94,74,51,104,52,88,78,60,97,92,64,42,54,98,104,96,103,78,65,102,81,74,102,91,38,58,94,86,58,49,68,74,87,60,52,82,53,86,69,96,69,84,23,70,48,81,84,24,49,86,99,89,83,51,59,102,104,62,60,98,92,78,76,100,58,49,95,54,95,75,100,76,89,63,94,96,103,77,41,106,66,104,37,74,63,56,90,67,48,72,59,95,94,60,91,49,103,32,104,93,99,66,57,13,70,69,82,90,64,56,83,107,65,102,51,85,74,67,64,106,82,80,6,56,4,98,53,64,98,70,97,62,43,65,64,72,102,83,68,22,57,92,83,48,57,76,72,98,47,48,54,62,48,100,57,24,103,90,64,82,88,38,82,35,84,64,100,60,59,73,88,65,72,63,44,98,100,104,106,69,93,49,72,51,103,101,78,74,103,63,66,53,66,46,104,82,76,92,46,82,50,48,13,77,94,16,78,99,85,65,75,51,77,85,94,70,87,65,89,86,70,81,68,62,107,105,106,93,67,71,50,64,67,99,68,18,73,43,95,83,72,37,74,101,78,76,80,97,104,55,58,99,82,61,102,83,48,33,49,84,42,84,71,56,51,59,57,101,53,95,97,92,52,81,21,55,62,93,83,60,56,94,92,32,55,33,94,80,100,107,64,59,67,93,80,91,49,73,80,9,107,95,92,60,53,60,79,49,45,68,96,32,104,86,11,104,70,56,35,52,49,52,85,76,79,40,83,49,51,48,98,94,77,99,67,77,69,50,16,59,67,102,104,85,82,105,65,48,38,101,59,105,84,97,75,99,48,81,51,81,89,69,88,57,63,52,97,51,54,53,61,66,49,82,78,79,27,89,53,63,59,78,61,91,59,48,80,66,68,77,88,49,83,106,61,103,70,81,51,84,90,105,98,44,73,88,61,89,107,70,101,57,66,104,79,94,100,69,51,98,82,98,100,56,70,90,84,81,75,59,48,89,102,45,39,92,51,105,68,103,70,89,60,57,84,95,82,67,63,17,57,30,71,65,98,44,60,60,34,101,84,94,41,57,97,105,80,93,39,106,100,84,86,52,56,91,52,20,70,71,44,69,87,77,92,91,79,50,86,98,43,55,86,87,104,55,88,98,56,38,73,40,49,90,93,50,59,103,68,98,87,92,59,22,71,102,95,53,45,79,94,105,80,67,13,66,75,78,44,65,96,64,88,53,74,75,99,61,78,53,41,96,105,97,84,6,82,38,98,75,91,77,20,95,93,76,30,48,37,54,24,54,65,63,97,63,75,100,78,78,48,81,69,22,106,27,61,62,98,63,101,67,68,61,77,98,48,74,69,94,95,67,102,74,102,65,69,101,80,83,60,40,105,78,75,99,88,50,88,92,70,74,78,35,57,79,95,72,50,107,59,57,64,74,96,63,83,54,80,74,66,89,86,96,66,83,107,23,75,76,67,55,59,78,53,41,55,50,60,47,54,101,18,85,55,87,50,64,75,69,61,89,65,107,50,64,31,36,100,81,48,54,55,66,67,63,49,85,41,60,72,53,73,85,90,70,10,94,68,65,92,21,63,86,53,29,97,94,55,96,68,94,54,75,76,52,94,49,85,62,50,97,51,50,40,99,59,95,83,80,82,56,30,79,88,45,92,86,73,52,55,69,88,88,97,98,85,58,100,70,86,95,106,70,72,81,92,84,68,64,101,69,89,104,77,93,78,27,52,35,82,48,44,98,95,52,91,103,61,100,86,101,95,85,83,77,102,93,62,95,68,54,55,48,51,98,101,68,78,68,75,63,67,63,61,54,84,78,107,75,49,91,45,70,51,50,98,38,106,95,85,93,66,106,93,74,100,58,84,107,87,79,82,105,82,68,69,63,65,85,56,59,72,80,72,53,99,56,57,27,99,95,69,104,100,49,103,65,33,88,62,59,81,97,103,88,88,96,52,100,56,41,88,77,88,89,102,78,83,55,100,45,41,96,86,68,73,50,89,71,92,89,88,88,85,88,80,51,50,101,99,89,70,62,76,98,105,103,12,75,62,60,96,99,79,83,54,56,83,90,107,100,62,51,72,57,93,75,56,73,70,100,61,64,105,67,89,93,100,78,93,67,72,67,53,103,100,55,86,63,65,65,58,50,67,104,55,102,69,14,61,52,83,69,80,60,73,63,63,49,69,74,52,75,90,6,88,83,58,100,56,59,71,97,57,98,50,79,46,87,79,34,48,96,89,81,76,70,82,101,90,39,69,51,20,63,80,81,55,78,97,105,55,56,50,65,4,50,87,81,83,72,65,88,36,59,63,105,54,56,62,59,93,47,48,79,88,60,51,107,50,80,77,102,66,97,106,84,79,81,54,54,64,91,98,88,73,93,86,71,74,54,68,76,73,98,64,81,58,84,61,105,85,48,26,56,100,56,63,97,82,48,105,98,72,63,89,66,96,104,64,86,48,66,94,65,57,80,96,94,61,103,78,48,93,84,72,60,53,91,78,41,76,31,33,56,95,63,97,63,49,93,77,97,72,45,86,74,57,59,61,79,76,72,52,74,56,95,89,78,59,63,66,43,69,70,101,87,102,23,69,28,78,105,46,51,14,56,33,49,8,82,73,69,84,83,91,101,49,67,48,66,64,75,67,97,66,64,82,77,78,96,78,107,83,55,66,60,93,75,87,66,106,46,83,89,84,48,71,50,107,56,84,68,76,62,53,50,12,51,58,75,86,80,5,75,81,58,82,85,66,84,101,55,47,104,68,102,57,88,83,38,67,89,92,60,53,84,87,64,63,84,91,100,77,102,107,107,89,51,27,87,56,52,77,69,80,63,69,49,35,57,105,88,94,48,62,77,102,84,75,97,87,59,105,63,107,66,69,61,94,78,70,60,82,78,81,104,80,86,4,57,88,66,91,88,41,70,105,79,94,80,66,49,80,95,99,93,80,52,105,52,59,52,77,99,65,49,107,67,28,69,69,103,80,60,87,59,55,82,66,72,95,97,92,59,69,81,69,90,97,93,58,48,66,63,77,72,52,86,46,68,71,59,72,50,60,56,101,66,58,88,48,107,77,66,58,69,104,97,84,91,63,54,95,55,58,102,68,65,80,107,64,74,27,57,20,51,76,72,60,53,77,97,85,99,49,69,69,69,59,56,41,81,89,59,68,74,70,81,51,79,62,75,95,56,77,62,106,70,21,90,52,82,60,65,63,102,55,80,76,83,62,59,85,89,52,54,93,50,56,100,85,63,24,61,64,76,66,75,52,27,100,102,86,68,52,19,70,49,69,69,72,100],\"x0\":\" \",\"xaxis\":\"x\",\"y0\":\" \",\"yaxis\":\"y\",\"type\":\"box\"}],                        {\"template\":{\"data\":{\"histogram2dcontour\":[{\"type\":\"histogram2dcontour\",\"colorbar\":{\"outlinewidth\":0,\"ticks\":\"\"},\"colorscale\":[[0.0,\"#0d0887\"],[0.1111111111111111,\"#46039f\"],[0.2222222222222222,\"#7201a8\"],[0.3333333333333333,\"#9c179e\"],[0.4444444444444444,\"#bd3786\"],[0.5555555555555556,\"#d8576b\"],[0.6666666666666666,\"#ed7953\"],[0.7777777777777778,\"#fb9f3a\"],[0.8888888888888888,\"#fdca26\"],[1.0,\"#f0f921\"]]}],\"choropleth\":[{\"type\":\"choropleth\",\"colorbar\":{\"outlinewidth\":0,\"ticks\":\"\"}}],\"histogram2d\":[{\"type\":\"histogram2d\",\"colorbar\":{\"outlinewidth\":0,\"ticks\":\"\"},\"colorscale\":[[0.0,\"#0d0887\"],[0.1111111111111111,\"#46039f\"],[0.2222222222222222,\"#7201a8\"],[0.3333333333333333,\"#9c179e\"],[0.4444444444444444,\"#bd3786\"],[0.5555555555555556,\"#d8576b\"],[0.6666666666666666,\"#ed7953\"],[0.7777777777777778,\"#fb9f3a\"],[0.8888888888888888,\"#fdca26\"],[1.0,\"#f0f921\"]]}],\"heatmap\":[{\"type\":\"heatmap\",\"colorbar\":{\"outlinewidth\":0,\"ticks\":\"\"},\"colorscale\":[[0.0,\"#0d0887\"],[0.1111111111111111,\"#46039f\"],[0.2222222222222222,\"#7201a8\"],[0.3333333333333333,\"#9c179e\"],[0.4444444444444444,\"#bd3786\"],[0.5555555555555556,\"#d8576b\"],[0.6666666666666666,\"#ed7953\"],[0.7777777777777778,\"#fb9f3a\"],[0.8888888888888888,\"#fdca26\"],[1.0,\"#f0f921\"]]}],\"heatmapgl\":[{\"type\":\"heatmapgl\",\"colorbar\":{\"outlinewidth\":0,\"ticks\":\"\"},\"colorscale\":[[0.0,\"#0d0887\"],[0.1111111111111111,\"#46039f\"],[0.2222222222222222,\"#7201a8\"],[0.3333333333333333,\"#9c179e\"],[0.4444444444444444,\"#bd3786\"],[0.5555555555555556,\"#d8576b\"],[0.6666666666666666,\"#ed7953\"],[0.7777777777777778,\"#fb9f3a\"],[0.8888888888888888,\"#fdca26\"],[1.0,\"#f0f921\"]]}],\"contourcarpet\":[{\"type\":\"contourcarpet\",\"colorbar\":{\"outlinewidth\":0,\"ticks\":\"\"}}],\"contour\":[{\"type\":\"contour\",\"colorbar\":{\"outlinewidth\":0,\"ticks\":\"\"},\"colorscale\":[[0.0,\"#0d0887\"],[0.1111111111111111,\"#46039f\"],[0.2222222222222222,\"#7201a8\"],[0.3333333333333333,\"#9c179e\"],[0.4444444444444444,\"#bd3786\"],[0.5555555555555556,\"#d8576b\"],[0.6666666666666666,\"#ed7953\"],[0.7777777777777778,\"#fb9f3a\"],[0.8888888888888888,\"#fdca26\"],[1.0,\"#f0f921\"]]}],\"surface\":[{\"type\":\"surface\",\"colorbar\":{\"outlinewidth\":0,\"ticks\":\"\"},\"colorscale\":[[0.0,\"#0d0887\"],[0.1111111111111111,\"#46039f\"],[0.2222222222222222,\"#7201a8\"],[0.3333333333333333,\"#9c179e\"],[0.4444444444444444,\"#bd3786\"],[0.5555555555555556,\"#d8576b\"],[0.6666666666666666,\"#ed7953\"],[0.7777777777777778,\"#fb9f3a\"],[0.8888888888888888,\"#fdca26\"],[1.0,\"#f0f921\"]]}],\"mesh3d\":[{\"type\":\"mesh3d\",\"colorbar\":{\"outlinewidth\":0,\"ticks\":\"\"}}],\"scatter\":[{\"fillpattern\":{\"fillmode\":\"overlay\",\"size\":10,\"solidity\":0.2},\"type\":\"scatter\"}],\"parcoords\":[{\"type\":\"parcoords\",\"line\":{\"colorbar\":{\"outlinewidth\":0,\"ticks\":\"\"}}}],\"scatterpolargl\":[{\"type\":\"scatterpolargl\",\"marker\":{\"colorbar\":{\"outlinewidth\":0,\"ticks\":\"\"}}}],\"bar\":[{\"error_x\":{\"color\":\"#2a3f5f\"},\"error_y\":{\"color\":\"#2a3f5f\"},\"marker\":{\"line\":{\"color\":\"#E5ECF6\",\"width\":0.5},\"pattern\":{\"fillmode\":\"overlay\",\"size\":10,\"solidity\":0.2}},\"type\":\"bar\"}],\"scattergeo\":[{\"type\":\"scattergeo\",\"marker\":{\"colorbar\":{\"outlinewidth\":0,\"ticks\":\"\"}}}],\"scatterpolar\":[{\"type\":\"scatterpolar\",\"marker\":{\"colorbar\":{\"outlinewidth\":0,\"ticks\":\"\"}}}],\"histogram\":[{\"marker\":{\"pattern\":{\"fillmode\":\"overlay\",\"size\":10,\"solidity\":0.2}},\"type\":\"histogram\"}],\"scattergl\":[{\"type\":\"scattergl\",\"marker\":{\"colorbar\":{\"outlinewidth\":0,\"ticks\":\"\"}}}],\"scatter3d\":[{\"type\":\"scatter3d\",\"line\":{\"colorbar\":{\"outlinewidth\":0,\"ticks\":\"\"}},\"marker\":{\"colorbar\":{\"outlinewidth\":0,\"ticks\":\"\"}}}],\"scattermapbox\":[{\"type\":\"scattermapbox\",\"marker\":{\"colorbar\":{\"outlinewidth\":0,\"ticks\":\"\"}}}],\"scatterternary\":[{\"type\":\"scatterternary\",\"marker\":{\"colorbar\":{\"outlinewidth\":0,\"ticks\":\"\"}}}],\"scattercarpet\":[{\"type\":\"scattercarpet\",\"marker\":{\"colorbar\":{\"outlinewidth\":0,\"ticks\":\"\"}}}],\"carpet\":[{\"aaxis\":{\"endlinecolor\":\"#2a3f5f\",\"gridcolor\":\"white\",\"linecolor\":\"white\",\"minorgridcolor\":\"white\",\"startlinecolor\":\"#2a3f5f\"},\"baxis\":{\"endlinecolor\":\"#2a3f5f\",\"gridcolor\":\"white\",\"linecolor\":\"white\",\"minorgridcolor\":\"white\",\"startlinecolor\":\"#2a3f5f\"},\"type\":\"carpet\"}],\"table\":[{\"cells\":{\"fill\":{\"color\":\"#EBF0F8\"},\"line\":{\"color\":\"white\"}},\"header\":{\"fill\":{\"color\":\"#C8D4E3\"},\"line\":{\"color\":\"white\"}},\"type\":\"table\"}],\"barpolar\":[{\"marker\":{\"line\":{\"color\":\"#E5ECF6\",\"width\":0.5},\"pattern\":{\"fillmode\":\"overlay\",\"size\":10,\"solidity\":0.2}},\"type\":\"barpolar\"}],\"pie\":[{\"automargin\":true,\"type\":\"pie\"}]},\"layout\":{\"autotypenumbers\":\"strict\",\"colorway\":[\"#636efa\",\"#EF553B\",\"#00cc96\",\"#ab63fa\",\"#FFA15A\",\"#19d3f3\",\"#FF6692\",\"#B6E880\",\"#FF97FF\",\"#FECB52\"],\"font\":{\"color\":\"#2a3f5f\"},\"hovermode\":\"closest\",\"hoverlabel\":{\"align\":\"left\"},\"paper_bgcolor\":\"white\",\"plot_bgcolor\":\"#E5ECF6\",\"polar\":{\"bgcolor\":\"#E5ECF6\",\"angularaxis\":{\"gridcolor\":\"white\",\"linecolor\":\"white\",\"ticks\":\"\"},\"radialaxis\":{\"gridcolor\":\"white\",\"linecolor\":\"white\",\"ticks\":\"\"}},\"ternary\":{\"bgcolor\":\"#E5ECF6\",\"aaxis\":{\"gridcolor\":\"white\",\"linecolor\":\"white\",\"ticks\":\"\"},\"baxis\":{\"gridcolor\":\"white\",\"linecolor\":\"white\",\"ticks\":\"\"},\"caxis\":{\"gridcolor\":\"white\",\"linecolor\":\"white\",\"ticks\":\"\"}},\"coloraxis\":{\"colorbar\":{\"outlinewidth\":0,\"ticks\":\"\"}},\"colorscale\":{\"sequential\":[[0.0,\"#0d0887\"],[0.1111111111111111,\"#46039f\"],[0.2222222222222222,\"#7201a8\"],[0.3333333333333333,\"#9c179e\"],[0.4444444444444444,\"#bd3786\"],[0.5555555555555556,\"#d8576b\"],[0.6666666666666666,\"#ed7953\"],[0.7777777777777778,\"#fb9f3a\"],[0.8888888888888888,\"#fdca26\"],[1.0,\"#f0f921\"]],\"sequentialminus\":[[0.0,\"#0d0887\"],[0.1111111111111111,\"#46039f\"],[0.2222222222222222,\"#7201a8\"],[0.3333333333333333,\"#9c179e\"],[0.4444444444444444,\"#bd3786\"],[0.5555555555555556,\"#d8576b\"],[0.6666666666666666,\"#ed7953\"],[0.7777777777777778,\"#fb9f3a\"],[0.8888888888888888,\"#fdca26\"],[1.0,\"#f0f921\"]],\"diverging\":[[0,\"#8e0152\"],[0.1,\"#c51b7d\"],[0.2,\"#de77ae\"],[0.3,\"#f1b6da\"],[0.4,\"#fde0ef\"],[0.5,\"#f7f7f7\"],[0.6,\"#e6f5d0\"],[0.7,\"#b8e186\"],[0.8,\"#7fbc41\"],[0.9,\"#4d9221\"],[1,\"#276419\"]]},\"xaxis\":{\"gridcolor\":\"white\",\"linecolor\":\"white\",\"ticks\":\"\",\"title\":{\"standoff\":15},\"zerolinecolor\":\"white\",\"automargin\":true,\"zerolinewidth\":2},\"yaxis\":{\"gridcolor\":\"white\",\"linecolor\":\"white\",\"ticks\":\"\",\"title\":{\"standoff\":15},\"zerolinecolor\":\"white\",\"automargin\":true,\"zerolinewidth\":2},\"scene\":{\"xaxis\":{\"backgroundcolor\":\"#E5ECF6\",\"gridcolor\":\"white\",\"linecolor\":\"white\",\"showbackground\":true,\"ticks\":\"\",\"zerolinecolor\":\"white\",\"gridwidth\":2},\"yaxis\":{\"backgroundcolor\":\"#E5ECF6\",\"gridcolor\":\"white\",\"linecolor\":\"white\",\"showbackground\":true,\"ticks\":\"\",\"zerolinecolor\":\"white\",\"gridwidth\":2},\"zaxis\":{\"backgroundcolor\":\"#E5ECF6\",\"gridcolor\":\"white\",\"linecolor\":\"white\",\"showbackground\":true,\"ticks\":\"\",\"zerolinecolor\":\"white\",\"gridwidth\":2}},\"shapedefaults\":{\"line\":{\"color\":\"#2a3f5f\"}},\"annotationdefaults\":{\"arrowcolor\":\"#2a3f5f\",\"arrowhead\":0,\"arrowwidth\":1},\"geo\":{\"bgcolor\":\"white\",\"landcolor\":\"#E5ECF6\",\"subunitcolor\":\"white\",\"showland\":true,\"showlakes\":true,\"lakecolor\":\"white\"},\"title\":{\"x\":0.05},\"mapbox\":{\"style\":\"light\"}}},\"xaxis\":{\"anchor\":\"y\",\"domain\":[0.0,1.0],\"title\":{\"text\":\"Survival_Months\"}},\"yaxis\":{\"anchor\":\"x\",\"domain\":[0.0,1.0]},\"legend\":{\"tracegroupgap\":0},\"margin\":{\"t\":60},\"boxmode\":\"group\"},                        {\"responsive\": true}                    ).then(function(){\n",
              "                            \n",
              "var gd = document.getElementById('74443014-8cba-40eb-af67-a58eeb9fd217');\n",
              "var x = new MutationObserver(function (mutations, observer) {{\n",
              "        var display = window.getComputedStyle(gd).display;\n",
              "        if (!display || display === 'none') {{\n",
              "            console.log([gd, 'removed!']);\n",
              "            Plotly.purge(gd);\n",
              "            observer.disconnect();\n",
              "        }}\n",
              "}});\n",
              "\n",
              "// Listen for the removal of the full notebook cells\n",
              "var notebookContainer = gd.closest('#notebook-container');\n",
              "if (notebookContainer) {{\n",
              "    x.observe(notebookContainer, {childList: true});\n",
              "}}\n",
              "\n",
              "// Listen for the clearing of the current output cell\n",
              "var outputEl = gd.closest('.output');\n",
              "if (outputEl) {{\n",
              "    x.observe(outputEl, {childList: true});\n",
              "}}\n",
              "\n",
              "                        })                };                            </script>        </div>\n",
              "</body>\n",
              "</html>"
            ]
          },
          "metadata": {}
        },
        {
          "output_type": "stream",
          "name": "stdout",
          "text": [
            "Index([ 414,  520,  631,  679,  843,  928, 1042, 1143, 1156, 1444, 1702, 1709,\n",
            "       1751, 1893, 2410, 3474, 3711, 3803],\n",
            "      dtype='int64')\n"
          ]
        }
      ]
    },
    {
      "cell_type": "code",
      "source": [
        "df.drop(index=find_outliers_IQR(df['Survival_Months']), inplace=True)"
      ],
      "metadata": {
        "id": "uE2VLMX7DPgV"
      },
      "execution_count": null,
      "outputs": []
    },
    {
      "cell_type": "markdown",
      "source": [
        "\n",
        "\n",
        "---\n",
        "\n",
        "\n",
        "---\n",
        "\n",
        "\n"
      ],
      "metadata": {
        "id": "2-Kwngd4DT5T"
      }
    },
    {
      "cell_type": "markdown",
      "source": [
        "To check wather we have any more Outliers we can describe our dataset again"
      ],
      "metadata": {
        "id": "qf8Hyxx0DWAl"
      }
    },
    {
      "cell_type": "code",
      "source": [
        "df.describe().transpose()\n"
      ],
      "metadata": {
        "colab": {
          "base_uri": "https://localhost:8080/",
          "height": 238
        },
        "id": "_OobE67XDfaF",
        "outputId": "2e1bb58f-477a-4d11-9b22-82cbf0ce002e"
      },
      "execution_count": null,
      "outputs": [
        {
          "output_type": "execute_result",
          "data": {
            "text/plain": [
              "                         count       mean        std   min   25%   50%   75%  \\\n",
              "Age                     3262.0  53.958001   8.910631  30.0  47.0  54.0  61.0   \n",
              "Grade                   3262.0   2.116493   0.629377   1.0   2.0   2.0   3.0   \n",
              "Tumor_Size              3262.0  25.810546  14.449703   1.0  15.0  22.0  32.0   \n",
              "Regional_Node_Examined  3262.0  13.036787   7.116966   1.0   8.0  13.0  18.0   \n",
              "Reginol_Node_Positive   3262.0   2.408338   1.809893   1.0   1.0   2.0   3.0   \n",
              "Survival_Months         3262.0  72.889025  21.503498   6.0  58.0  74.0  91.0   \n",
              "\n",
              "                          max  \n",
              "Age                      69.0  \n",
              "Grade                     4.0  \n",
              "Tumor_Size               70.0  \n",
              "Regional_Node_Examined   34.0  \n",
              "Reginol_Node_Positive     8.0  \n",
              "Survival_Months         107.0  "
            ],
            "text/html": [
              "\n",
              "  <div id=\"df-6f33ea18-d776-426e-bae5-29bb08025457\" class=\"colab-df-container\">\n",
              "    <div>\n",
              "<style scoped>\n",
              "    .dataframe tbody tr th:only-of-type {\n",
              "        vertical-align: middle;\n",
              "    }\n",
              "\n",
              "    .dataframe tbody tr th {\n",
              "        vertical-align: top;\n",
              "    }\n",
              "\n",
              "    .dataframe thead th {\n",
              "        text-align: right;\n",
              "    }\n",
              "</style>\n",
              "<table border=\"1\" class=\"dataframe\">\n",
              "  <thead>\n",
              "    <tr style=\"text-align: right;\">\n",
              "      <th></th>\n",
              "      <th>count</th>\n",
              "      <th>mean</th>\n",
              "      <th>std</th>\n",
              "      <th>min</th>\n",
              "      <th>25%</th>\n",
              "      <th>50%</th>\n",
              "      <th>75%</th>\n",
              "      <th>max</th>\n",
              "    </tr>\n",
              "  </thead>\n",
              "  <tbody>\n",
              "    <tr>\n",
              "      <th>Age</th>\n",
              "      <td>3262.0</td>\n",
              "      <td>53.958001</td>\n",
              "      <td>8.910631</td>\n",
              "      <td>30.0</td>\n",
              "      <td>47.0</td>\n",
              "      <td>54.0</td>\n",
              "      <td>61.0</td>\n",
              "      <td>69.0</td>\n",
              "    </tr>\n",
              "    <tr>\n",
              "      <th>Grade</th>\n",
              "      <td>3262.0</td>\n",
              "      <td>2.116493</td>\n",
              "      <td>0.629377</td>\n",
              "      <td>1.0</td>\n",
              "      <td>2.0</td>\n",
              "      <td>2.0</td>\n",
              "      <td>3.0</td>\n",
              "      <td>4.0</td>\n",
              "    </tr>\n",
              "    <tr>\n",
              "      <th>Tumor_Size</th>\n",
              "      <td>3262.0</td>\n",
              "      <td>25.810546</td>\n",
              "      <td>14.449703</td>\n",
              "      <td>1.0</td>\n",
              "      <td>15.0</td>\n",
              "      <td>22.0</td>\n",
              "      <td>32.0</td>\n",
              "      <td>70.0</td>\n",
              "    </tr>\n",
              "    <tr>\n",
              "      <th>Regional_Node_Examined</th>\n",
              "      <td>3262.0</td>\n",
              "      <td>13.036787</td>\n",
              "      <td>7.116966</td>\n",
              "      <td>1.0</td>\n",
              "      <td>8.0</td>\n",
              "      <td>13.0</td>\n",
              "      <td>18.0</td>\n",
              "      <td>34.0</td>\n",
              "    </tr>\n",
              "    <tr>\n",
              "      <th>Reginol_Node_Positive</th>\n",
              "      <td>3262.0</td>\n",
              "      <td>2.408338</td>\n",
              "      <td>1.809893</td>\n",
              "      <td>1.0</td>\n",
              "      <td>1.0</td>\n",
              "      <td>2.0</td>\n",
              "      <td>3.0</td>\n",
              "      <td>8.0</td>\n",
              "    </tr>\n",
              "    <tr>\n",
              "      <th>Survival_Months</th>\n",
              "      <td>3262.0</td>\n",
              "      <td>72.889025</td>\n",
              "      <td>21.503498</td>\n",
              "      <td>6.0</td>\n",
              "      <td>58.0</td>\n",
              "      <td>74.0</td>\n",
              "      <td>91.0</td>\n",
              "      <td>107.0</td>\n",
              "    </tr>\n",
              "  </tbody>\n",
              "</table>\n",
              "</div>\n",
              "    <div class=\"colab-df-buttons\">\n",
              "\n",
              "  <div class=\"colab-df-container\">\n",
              "    <button class=\"colab-df-convert\" onclick=\"convertToInteractive('df-6f33ea18-d776-426e-bae5-29bb08025457')\"\n",
              "            title=\"Convert this dataframe to an interactive table.\"\n",
              "            style=\"display:none;\">\n",
              "\n",
              "  <svg xmlns=\"http://www.w3.org/2000/svg\" height=\"24px\" viewBox=\"0 -960 960 960\">\n",
              "    <path d=\"M120-120v-720h720v720H120Zm60-500h600v-160H180v160Zm220 220h160v-160H400v160Zm0 220h160v-160H400v160ZM180-400h160v-160H180v160Zm440 0h160v-160H620v160ZM180-180h160v-160H180v160Zm440 0h160v-160H620v160Z\"/>\n",
              "  </svg>\n",
              "    </button>\n",
              "\n",
              "  <style>\n",
              "    .colab-df-container {\n",
              "      display:flex;\n",
              "      gap: 12px;\n",
              "    }\n",
              "\n",
              "    .colab-df-convert {\n",
              "      background-color: #E8F0FE;\n",
              "      border: none;\n",
              "      border-radius: 50%;\n",
              "      cursor: pointer;\n",
              "      display: none;\n",
              "      fill: #1967D2;\n",
              "      height: 32px;\n",
              "      padding: 0 0 0 0;\n",
              "      width: 32px;\n",
              "    }\n",
              "\n",
              "    .colab-df-convert:hover {\n",
              "      background-color: #E2EBFA;\n",
              "      box-shadow: 0px 1px 2px rgba(60, 64, 67, 0.3), 0px 1px 3px 1px rgba(60, 64, 67, 0.15);\n",
              "      fill: #174EA6;\n",
              "    }\n",
              "\n",
              "    .colab-df-buttons div {\n",
              "      margin-bottom: 4px;\n",
              "    }\n",
              "\n",
              "    [theme=dark] .colab-df-convert {\n",
              "      background-color: #3B4455;\n",
              "      fill: #D2E3FC;\n",
              "    }\n",
              "\n",
              "    [theme=dark] .colab-df-convert:hover {\n",
              "      background-color: #434B5C;\n",
              "      box-shadow: 0px 1px 3px 1px rgba(0, 0, 0, 0.15);\n",
              "      filter: drop-shadow(0px 1px 2px rgba(0, 0, 0, 0.3));\n",
              "      fill: #FFFFFF;\n",
              "    }\n",
              "  </style>\n",
              "\n",
              "    <script>\n",
              "      const buttonEl =\n",
              "        document.querySelector('#df-6f33ea18-d776-426e-bae5-29bb08025457 button.colab-df-convert');\n",
              "      buttonEl.style.display =\n",
              "        google.colab.kernel.accessAllowed ? 'block' : 'none';\n",
              "\n",
              "      async function convertToInteractive(key) {\n",
              "        const element = document.querySelector('#df-6f33ea18-d776-426e-bae5-29bb08025457');\n",
              "        const dataTable =\n",
              "          await google.colab.kernel.invokeFunction('convertToInteractive',\n",
              "                                                    [key], {});\n",
              "        if (!dataTable) return;\n",
              "\n",
              "        const docLinkHtml = 'Like what you see? Visit the ' +\n",
              "          '<a target=\"_blank\" href=https://colab.research.google.com/notebooks/data_table.ipynb>data table notebook</a>'\n",
              "          + ' to learn more about interactive tables.';\n",
              "        element.innerHTML = '';\n",
              "        dataTable['output_type'] = 'display_data';\n",
              "        await google.colab.output.renderOutput(dataTable, element);\n",
              "        const docLink = document.createElement('div');\n",
              "        docLink.innerHTML = docLinkHtml;\n",
              "        element.appendChild(docLink);\n",
              "      }\n",
              "    </script>\n",
              "  </div>\n",
              "\n",
              "\n",
              "<div id=\"df-50900700-1c08-4296-9672-50638928433b\">\n",
              "  <button class=\"colab-df-quickchart\" onclick=\"quickchart('df-50900700-1c08-4296-9672-50638928433b')\"\n",
              "            title=\"Suggest charts\"\n",
              "            style=\"display:none;\">\n",
              "\n",
              "<svg xmlns=\"http://www.w3.org/2000/svg\" height=\"24px\"viewBox=\"0 0 24 24\"\n",
              "     width=\"24px\">\n",
              "    <g>\n",
              "        <path d=\"M19 3H5c-1.1 0-2 .9-2 2v14c0 1.1.9 2 2 2h14c1.1 0 2-.9 2-2V5c0-1.1-.9-2-2-2zM9 17H7v-7h2v7zm4 0h-2V7h2v10zm4 0h-2v-4h2v4z\"/>\n",
              "    </g>\n",
              "</svg>\n",
              "  </button>\n",
              "\n",
              "<style>\n",
              "  .colab-df-quickchart {\n",
              "      --bg-color: #E8F0FE;\n",
              "      --fill-color: #1967D2;\n",
              "      --hover-bg-color: #E2EBFA;\n",
              "      --hover-fill-color: #174EA6;\n",
              "      --disabled-fill-color: #AAA;\n",
              "      --disabled-bg-color: #DDD;\n",
              "  }\n",
              "\n",
              "  [theme=dark] .colab-df-quickchart {\n",
              "      --bg-color: #3B4455;\n",
              "      --fill-color: #D2E3FC;\n",
              "      --hover-bg-color: #434B5C;\n",
              "      --hover-fill-color: #FFFFFF;\n",
              "      --disabled-bg-color: #3B4455;\n",
              "      --disabled-fill-color: #666;\n",
              "  }\n",
              "\n",
              "  .colab-df-quickchart {\n",
              "    background-color: var(--bg-color);\n",
              "    border: none;\n",
              "    border-radius: 50%;\n",
              "    cursor: pointer;\n",
              "    display: none;\n",
              "    fill: var(--fill-color);\n",
              "    height: 32px;\n",
              "    padding: 0;\n",
              "    width: 32px;\n",
              "  }\n",
              "\n",
              "  .colab-df-quickchart:hover {\n",
              "    background-color: var(--hover-bg-color);\n",
              "    box-shadow: 0 1px 2px rgba(60, 64, 67, 0.3), 0 1px 3px 1px rgba(60, 64, 67, 0.15);\n",
              "    fill: var(--button-hover-fill-color);\n",
              "  }\n",
              "\n",
              "  .colab-df-quickchart-complete:disabled,\n",
              "  .colab-df-quickchart-complete:disabled:hover {\n",
              "    background-color: var(--disabled-bg-color);\n",
              "    fill: var(--disabled-fill-color);\n",
              "    box-shadow: none;\n",
              "  }\n",
              "\n",
              "  .colab-df-spinner {\n",
              "    border: 2px solid var(--fill-color);\n",
              "    border-color: transparent;\n",
              "    border-bottom-color: var(--fill-color);\n",
              "    animation:\n",
              "      spin 1s steps(1) infinite;\n",
              "  }\n",
              "\n",
              "  @keyframes spin {\n",
              "    0% {\n",
              "      border-color: transparent;\n",
              "      border-bottom-color: var(--fill-color);\n",
              "      border-left-color: var(--fill-color);\n",
              "    }\n",
              "    20% {\n",
              "      border-color: transparent;\n",
              "      border-left-color: var(--fill-color);\n",
              "      border-top-color: var(--fill-color);\n",
              "    }\n",
              "    30% {\n",
              "      border-color: transparent;\n",
              "      border-left-color: var(--fill-color);\n",
              "      border-top-color: var(--fill-color);\n",
              "      border-right-color: var(--fill-color);\n",
              "    }\n",
              "    40% {\n",
              "      border-color: transparent;\n",
              "      border-right-color: var(--fill-color);\n",
              "      border-top-color: var(--fill-color);\n",
              "    }\n",
              "    60% {\n",
              "      border-color: transparent;\n",
              "      border-right-color: var(--fill-color);\n",
              "    }\n",
              "    80% {\n",
              "      border-color: transparent;\n",
              "      border-right-color: var(--fill-color);\n",
              "      border-bottom-color: var(--fill-color);\n",
              "    }\n",
              "    90% {\n",
              "      border-color: transparent;\n",
              "      border-bottom-color: var(--fill-color);\n",
              "    }\n",
              "  }\n",
              "</style>\n",
              "\n",
              "  <script>\n",
              "    async function quickchart(key) {\n",
              "      const quickchartButtonEl =\n",
              "        document.querySelector('#' + key + ' button');\n",
              "      quickchartButtonEl.disabled = true;  // To prevent multiple clicks.\n",
              "      quickchartButtonEl.classList.add('colab-df-spinner');\n",
              "      try {\n",
              "        const charts = await google.colab.kernel.invokeFunction(\n",
              "            'suggestCharts', [key], {});\n",
              "      } catch (error) {\n",
              "        console.error('Error during call to suggestCharts:', error);\n",
              "      }\n",
              "      quickchartButtonEl.classList.remove('colab-df-spinner');\n",
              "      quickchartButtonEl.classList.add('colab-df-quickchart-complete');\n",
              "    }\n",
              "    (() => {\n",
              "      let quickchartButtonEl =\n",
              "        document.querySelector('#df-50900700-1c08-4296-9672-50638928433b button');\n",
              "      quickchartButtonEl.style.display =\n",
              "        google.colab.kernel.accessAllowed ? 'block' : 'none';\n",
              "    })();\n",
              "  </script>\n",
              "</div>\n",
              "\n",
              "    </div>\n",
              "  </div>\n"
            ],
            "application/vnd.google.colaboratory.intrinsic+json": {
              "type": "dataframe",
              "summary": "{\n  \"name\": \"df\",\n  \"rows\": 6,\n  \"fields\": [\n    {\n      \"column\": \"count\",\n      \"properties\": {\n        \"dtype\": \"number\",\n        \"std\": 0.0,\n        \"min\": 3262.0,\n        \"max\": 3262.0,\n        \"num_unique_values\": 1,\n        \"samples\": [\n          3262.0\n        ],\n        \"semantic_type\": \"\",\n        \"description\": \"\"\n      }\n    },\n    {\n      \"column\": \"mean\",\n      \"properties\": {\n        \"dtype\": \"number\",\n        \"std\": 29.125940770803943,\n        \"min\": 2.1164929491109747,\n        \"max\": 72.88902513795217,\n        \"num_unique_values\": 6,\n        \"samples\": [\n          53.95800122624157\n        ],\n        \"semantic_type\": \"\",\n        \"description\": \"\"\n      }\n    },\n    {\n      \"column\": \"std\",\n      \"properties\": {\n        \"dtype\": \"number\",\n        \"std\": 7.890831315445618,\n        \"min\": 0.6293770812291534,\n        \"max\": 21.503498264851622,\n        \"num_unique_values\": 6,\n        \"samples\": [\n          8.910630702589879\n        ],\n        \"semantic_type\": \"\",\n        \"description\": \"\"\n      }\n    },\n    {\n      \"column\": \"min\",\n      \"properties\": {\n        \"dtype\": \"number\",\n        \"std\": 11.604596790352804,\n        \"min\": 1.0,\n        \"max\": 30.0,\n        \"num_unique_values\": 3,\n        \"samples\": [\n          30.0\n        ],\n        \"semantic_type\": \"\",\n        \"description\": \"\"\n      }\n    },\n    {\n      \"column\": \"25%\",\n      \"properties\": {\n        \"dtype\": \"number\",\n        \"std\": 24.522778526640625,\n        \"min\": 1.0,\n        \"max\": 58.0,\n        \"num_unique_values\": 6,\n        \"samples\": [\n          47.0\n        ],\n        \"semantic_type\": \"\",\n        \"description\": \"\"\n      }\n    },\n    {\n      \"column\": \"50%\",\n      \"properties\": {\n        \"dtype\": \"number\",\n        \"std\": 29.68108263973312,\n        \"min\": 2.0,\n        \"max\": 74.0,\n        \"num_unique_values\": 5,\n        \"samples\": [\n          2.0\n        ],\n        \"semantic_type\": \"\",\n        \"description\": \"\"\n      }\n    },\n    {\n      \"column\": \"75%\",\n      \"properties\": {\n        \"dtype\": \"number\",\n        \"std\": 35.09225935540011,\n        \"min\": 3.0,\n        \"max\": 91.0,\n        \"num_unique_values\": 5,\n        \"samples\": [\n          3.0\n        ],\n        \"semantic_type\": \"\",\n        \"description\": \"\"\n      }\n    },\n    {\n      \"column\": \"max\",\n      \"properties\": {\n        \"dtype\": \"number\",\n        \"std\": 40.33691444157159,\n        \"min\": 4.0,\n        \"max\": 107.0,\n        \"num_unique_values\": 6,\n        \"samples\": [\n          69.0\n        ],\n        \"semantic_type\": \"\",\n        \"description\": \"\"\n      }\n    }\n  ]\n}"
            }
          },
          "metadata": {},
          "execution_count": 525
        }
      ]
    },
    {
      "cell_type": "markdown",
      "source": [
        "\n",
        "\n",
        "---\n",
        "\n",
        "\n",
        "Exporting Dataset for For Mortality_Status  Prediction\n",
        "\n",
        "\n",
        "---\n",
        "\n"
      ],
      "metadata": {
        "id": "3JBZWh0wGRyZ"
      }
    },
    {
      "cell_type": "code",
      "source": [
        "df.to_csv(r'/content/drive/MyDrive/ML-CW/Mortality_Status.csv',index=False)"
      ],
      "metadata": {
        "id": "wLGCZtdpF-SJ"
      },
      "execution_count": null,
      "outputs": []
    },
    {
      "cell_type": "markdown",
      "source": [
        "\n",
        "\n",
        "---\n",
        "\n",
        "\n",
        "Exporting Dataset for For Survival_Months  Prediction\n",
        "\n",
        "\n",
        "---\n",
        "\n"
      ],
      "metadata": {
        "id": "K3c90h3zIHVe"
      }
    },
    {
      "cell_type": "markdown",
      "source": [
        "For this Im dropping the All the Alive Personals so i can assume that all are dead\n",
        "\n",
        "so itll be easy to predict"
      ],
      "metadata": {
        "id": "9SqFnHjPINOI"
      }
    },
    {
      "cell_type": "code",
      "source": [
        "df['Mortality_Status'].value_counts()\n"
      ],
      "metadata": {
        "colab": {
          "base_uri": "https://localhost:8080/",
          "height": 178
        },
        "id": "M39Ok_86L0il",
        "outputId": "63785177-576e-493b-9984-c531a64061ff"
      },
      "execution_count": null,
      "outputs": [
        {
          "output_type": "execute_result",
          "data": {
            "text/plain": [
              "Mortality_Status\n",
              "Alive    2893\n",
              "Dead      369\n",
              "Name: count, dtype: int64"
            ],
            "text/html": [
              "<div>\n",
              "<style scoped>\n",
              "    .dataframe tbody tr th:only-of-type {\n",
              "        vertical-align: middle;\n",
              "    }\n",
              "\n",
              "    .dataframe tbody tr th {\n",
              "        vertical-align: top;\n",
              "    }\n",
              "\n",
              "    .dataframe thead th {\n",
              "        text-align: right;\n",
              "    }\n",
              "</style>\n",
              "<table border=\"1\" class=\"dataframe\">\n",
              "  <thead>\n",
              "    <tr style=\"text-align: right;\">\n",
              "      <th></th>\n",
              "      <th>count</th>\n",
              "    </tr>\n",
              "    <tr>\n",
              "      <th>Mortality_Status</th>\n",
              "      <th></th>\n",
              "    </tr>\n",
              "  </thead>\n",
              "  <tbody>\n",
              "    <tr>\n",
              "      <th>Alive</th>\n",
              "      <td>2893</td>\n",
              "    </tr>\n",
              "    <tr>\n",
              "      <th>Dead</th>\n",
              "      <td>369</td>\n",
              "    </tr>\n",
              "  </tbody>\n",
              "</table>\n",
              "</div><br><label><b>dtype:</b> int64</label>"
            ]
          },
          "metadata": {},
          "execution_count": 527
        }
      ]
    },
    {
      "cell_type": "code",
      "source": [
        "# Remove alive people from the dataset\n",
        "df = df[df['Mortality_Status'] != 'Alive'].reset_index(drop=True)\n",
        "\n",
        "# Drop the Mortality_Status column\n",
        "df.drop(columns=['Mortality_Status'], inplace=True)\n",
        "\n",
        "# Check the final structure\n",
        "df.info()\n"
      ],
      "metadata": {
        "colab": {
          "base_uri": "https://localhost:8080/"
        },
        "id": "rcG45Al4IWpj",
        "outputId": "d7187ed8-1375-456b-f317-b8ba08d284d9"
      },
      "execution_count": null,
      "outputs": [
        {
          "output_type": "stream",
          "name": "stdout",
          "text": [
            "<class 'pandas.core.frame.DataFrame'>\n",
            "RangeIndex: 369 entries, 0 to 368\n",
            "Data columns (total 13 columns):\n",
            " #   Column                  Non-Null Count  Dtype  \n",
            "---  ------                  --------------  -----  \n",
            " 0   Age                     369 non-null    float64\n",
            " 1   T_Stage                 369 non-null    object \n",
            " 2   N_Stage                 369 non-null    object \n",
            " 3   6th_Stage               369 non-null    object \n",
            " 4   Differentiated          369 non-null    object \n",
            " 5   Grade                   369 non-null    int64  \n",
            " 6   A_Stage                 369 non-null    object \n",
            " 7   Tumor_Size              369 non-null    float64\n",
            " 8   Estrogen_Status         369 non-null    object \n",
            " 9   Progesterone_Status     369 non-null    object \n",
            " 10  Regional_Node_Examined  369 non-null    float64\n",
            " 11  Reginol_Node_Positive   369 non-null    int64  \n",
            " 12  Survival_Months         369 non-null    int64  \n",
            "dtypes: float64(3), int64(3), object(7)\n",
            "memory usage: 37.6+ KB\n"
          ]
        }
      ]
    },
    {
      "cell_type": "code",
      "source": [
        "df.to_csv(r'/content/drive/MyDrive/ML-CW/Survival_Months.csv',index=False)"
      ],
      "metadata": {
        "id": "Mv3ZnZm8RD8h"
      },
      "execution_count": null,
      "outputs": []
    }
  ]
}